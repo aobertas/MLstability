{
 "cells": [
  {
   "cell_type": "code",
   "execution_count": 1,
   "metadata": {
    "collapsed": true
   },
   "outputs": [],
   "source": [
    "import numpy as np\n",
    "import matplotlib\n",
    "from matplotlib import pyplot as plt\n",
    "%matplotlib inline\n",
    "import pandas as pd"
   ]
  },
  {
   "cell_type": "code",
   "execution_count": 2,
   "metadata": {
    "collapsed": false
   },
   "outputs": [
    {
     "data": {
      "text/html": [
       "<div>\n",
       "<style>\n",
       "    .dataframe thead tr:only-child th {\n",
       "        text-align: right;\n",
       "    }\n",
       "\n",
       "    .dataframe thead th {\n",
       "        text-align: left;\n",
       "    }\n",
       "\n",
       "    .dataframe tbody tr th {\n",
       "        vertical-align: top;\n",
       "    }\n",
       "</style>\n",
       "<table border=\"1\" class=\"dataframe\">\n",
       "  <thead>\n",
       "    <tr style=\"text-align: right;\">\n",
       "      <th></th>\n",
       "      <th>filename</th>\n",
       "      <th>tinstability</th>\n",
       "    </tr>\n",
       "  </thead>\n",
       "  <tbody>\n",
       "    <tr>\n",
       "      <th>0</th>\n",
       "      <td>nonresIC0.bin</td>\n",
       "      <td>1.000000e+03</td>\n",
       "    </tr>\n",
       "    <tr>\n",
       "      <th>1</th>\n",
       "      <td>nonresIC1.bin</td>\n",
       "      <td>2.000000e+03</td>\n",
       "    </tr>\n",
       "    <tr>\n",
       "      <th>2</th>\n",
       "      <td>nonresIC2.bin</td>\n",
       "      <td>5.000000e+06</td>\n",
       "    </tr>\n",
       "    <tr>\n",
       "      <th>3</th>\n",
       "      <td>nonresIC3.bin</td>\n",
       "      <td>1.000000e+03</td>\n",
       "    </tr>\n",
       "    <tr>\n",
       "      <th>4</th>\n",
       "      <td>nonresIC4.bin</td>\n",
       "      <td>5.000000e+03</td>\n",
       "    </tr>\n",
       "  </tbody>\n",
       "</table>\n",
       "</div>"
      ],
      "text/plain": [
       "        filename  tinstability\n",
       "0  nonresIC0.bin  1.000000e+03\n",
       "1  nonresIC1.bin  2.000000e+03\n",
       "2  nonresIC2.bin  5.000000e+06\n",
       "3  nonresIC3.bin  1.000000e+03\n",
       "4  nonresIC4.bin  5.000000e+03"
      ]
     },
     "execution_count": 2,
     "metadata": {},
     "output_type": "execute_result"
    }
   ],
   "source": [
    "times = pd.read_csv(\"../../csvs/nonresinstabilitytimes_trap.csv\", index_col=0)\n",
    "times.head()"
   ]
  },
  {
   "cell_type": "code",
   "execution_count": 11,
   "metadata": {
    "collapsed": false
   },
   "outputs": [
    {
     "name": "stdout",
     "output_type": "stream",
     "text": [
      "            filename  tinstability         orbits\n",
      "1      nonresIC1.bin   2000.000263  487804.942211\n",
      "6      nonresIC6.bin   2000.000219  487804.931502\n",
      "7      nonresIC7.bin   2000.000098  487804.902001\n",
      "8      nonresIC8.bin   2000.000278  487804.945967\n",
      "36    nonresIC36.bin   2000.000175  487804.920626\n",
      "45    nonresIC45.bin   2000.000239  487804.936295\n",
      "65    nonresIC65.bin   2000.000076  487804.896498\n",
      "87    nonresIC87.bin   2000.000059  487804.892370\n",
      "148  nonresIC148.bin   2000.000263  487804.942173\n",
      "153  nonresIC153.bin   2000.000051  487804.890497\n",
      "175  nonresIC175.bin   2000.000180  487804.921926\n",
      "194  nonresIC194.bin   2000.000161  487804.917229\n"
     ]
    },
    {
     "data": {
      "text/plain": [
       "(array([51., 12.,  5.,  9., 10.,  5.,  1.,  3.,  3.,  2.,  4.,  3.,  3.,\n",
       "         5.,  5.,  8.,  6.,  4.,  7., 54.]),\n",
       " array([5.38721614, 5.57216464, 5.75711314, 5.94206164, 6.12701014,\n",
       "        6.31195864, 6.49690714, 6.68185564, 6.86680415, 7.05175265,\n",
       "        7.23670115, 7.42164965, 7.60659815, 7.79154665, 7.97649515,\n",
       "        8.16144365, 8.34639215, 8.53134065, 8.71628915, 8.90123765,\n",
       "        9.08618615]),\n",
       " <a list of 20 Patch objects>)"
      ]
     },
     "execution_count": 11,
     "metadata": {},
     "output_type": "execute_result"
    },
    {
     "data": {
      "image/png": "[encoded data removed]",
      "text/plain": [
       "<matplotlib.figure.Figure at 0x7f8e488fc410>"
      ]
     },
     "metadata": {},
     "output_type": "display_data"
    }
   ],
   "source": [
    "inner_orbit = 0.0041\n",
    "times[\"orbits\"] = times[\"tinstability\"]/inner_orbit\n",
    "log_orbits = np.log10(times[\"orbits\"])\n",
    "print times[(times['tinstability']>2000) & (times[\"tinstability\"]<3000)]\n",
    "plt.hist(log_orbits, bins = 20)"
   ]
  },
  {
   "cell_type": "code",
   "execution_count": 18,
   "metadata": {
    "collapsed": false
   },
   "outputs": [
    {
     "data": {
      "text/plain": [
       "(array([51., 17., 14.,  9.,  3.,  4.,  3.,  4.,  5.,  7.]),\n",
       " array([5.38721614, 5.64753058, 5.90784502, 6.16815946, 6.42847389,\n",
       "        6.68878833, 6.94910277, 7.2094172 , 7.46973164, 7.73004608,\n",
       "        7.99036052]),\n",
       " <a list of 10 Patch objects>)"
      ]
     },
     "execution_count": 18,
     "metadata": {},
     "output_type": "execute_result"
    },
    {
     "data": {
      "image/png": "[encoded data removed]",
      "text/plain": [
       "<matplotlib.figure.Figure at 0x7f8e48413b90>"
      ]
     },
     "metadata": {},
     "output_type": "display_data"
    }
   ],
   "source": [
    "trimmed = times[ (times[\"orbits\"]<=1e8) ]\n",
    "plt.hist(np.log10(trimmed[\"orbits\"]), bins = 10)"
   ]
  },
  {
   "cell_type": "code",
   "execution_count": null,
   "metadata": {
    "collapsed": true
   },
   "outputs": [],
   "source": []
  }
 ],
 "metadata": {
  "kernelspec": {
   "display_name": "Python [default]",
   "language": "python",
   "name": "python2"
  },
  "language_info": {
   "codemirror_mode": {
    "name": "ipython",
    "version": 2
   },
   "file_extension": ".py",
   "mimetype": "text/x-python",
   "name": "python",
   "nbconvert_exporter": "python",
   "pygments_lexer": "ipython2",
   "version": "2.7.12"
  }
 },
 "nbformat": 4,
 "nbformat_minor": 1
}
