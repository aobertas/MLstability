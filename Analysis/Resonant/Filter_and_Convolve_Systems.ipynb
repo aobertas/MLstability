{
 "cells": [
  {
   "cell_type": "code",
   "execution_count": 22,
   "metadata": {
    "collapsed": true
   },
   "outputs": [],
   "source": [
    "import numpy as np\n",
    "import pandas as pd\n",
    "from matplotlib import pyplot as plt\n",
    "import os\n",
    "import time\n",
    "from scipy.stats import laplace, norm\n",
    "from scipy.optimize import curve_fit\n",
    "import scipy"
   ]
  },
  {
   "cell_type": "code",
   "execution_count": 4,
   "metadata": {
    "collapsed": true
   },
   "outputs": [],
   "source": [
    "data_fits = pd.read_csv(\"../../csvs/Res_3_feats/Weibull_Parameters_101.csv\")"
   ]
  },
  {
   "cell_type": "code",
   "execution_count": 5,
   "metadata": {
    "collapsed": false
   },
   "outputs": [
    {
     "data": {
      "text/html": [
       "<div>\n",
       "<style>\n",
       "    .dataframe thead tr:only-child th {\n",
       "        text-align: right;\n",
       "    }\n",
       "\n",
       "    .dataframe thead th {\n",
       "        text-align: left;\n",
       "    }\n",
       "\n",
       "    .dataframe tbody tr th {\n",
       "        vertical-align: top;\n",
       "    }\n",
       "</style>\n",
       "<table border=\"1\" class=\"dataframe\">\n",
       "  <thead>\n",
       "    <tr style=\"text-align: right;\">\n",
       "      <th></th>\n",
       "      <th>ID</th>\n",
       "      <th>Gamma</th>\n",
       "      <th>Location</th>\n",
       "      <th>Alpha</th>\n",
       "    </tr>\n",
       "  </thead>\n",
       "  <tbody>\n",
       "    <tr>\n",
       "      <th>0</th>\n",
       "      <td>0.0</td>\n",
       "      <td>2.666553</td>\n",
       "      <td>2.857718</td>\n",
       "      <td>1.047987e+00</td>\n",
       "    </tr>\n",
       "    <tr>\n",
       "      <th>1</th>\n",
       "      <td>1.0</td>\n",
       "      <td>1.000000</td>\n",
       "      <td>8.000000</td>\n",
       "      <td>2.797762e-15</td>\n",
       "    </tr>\n",
       "    <tr>\n",
       "      <th>2</th>\n",
       "      <td>2.0</td>\n",
       "      <td>0.999930</td>\n",
       "      <td>8.000000</td>\n",
       "      <td>1.064659e-14</td>\n",
       "    </tr>\n",
       "    <tr>\n",
       "      <th>3</th>\n",
       "      <td>3.0</td>\n",
       "      <td>2.861311</td>\n",
       "      <td>6.006627</td>\n",
       "      <td>9.342724e-01</td>\n",
       "    </tr>\n",
       "    <tr>\n",
       "      <th>4</th>\n",
       "      <td>4.0</td>\n",
       "      <td>1.465059</td>\n",
       "      <td>5.357733</td>\n",
       "      <td>3.657005e-01</td>\n",
       "    </tr>\n",
       "  </tbody>\n",
       "</table>\n",
       "</div>"
      ],
      "text/plain": [
       "    ID     Gamma  Location         Alpha\n",
       "0  0.0  2.666553  2.857718  1.047987e+00\n",
       "1  1.0  1.000000  8.000000  2.797762e-15\n",
       "2  2.0  0.999930  8.000000  1.064659e-14\n",
       "3  3.0  2.861311  6.006627  9.342724e-01\n",
       "4  4.0  1.465059  5.357733  3.657005e-01"
      ]
     },
     "execution_count": 5,
     "metadata": {},
     "output_type": "execute_result"
    }
   ],
   "source": [
    "data_fits.head()"
   ]
  },
  {
   "cell_type": "code",
   "execution_count": 62,
   "metadata": {
    "collapsed": false
   },
   "outputs": [
    {
     "name": "stdout",
     "output_type": "stream",
     "text": [
      "(68, 4)\n"
     ]
    },
    {
     "data": {
      "text/html": [
       "<div>\n",
       "<style>\n",
       "    .dataframe thead tr:only-child th {\n",
       "        text-align: right;\n",
       "    }\n",
       "\n",
       "    .dataframe thead th {\n",
       "        text-align: left;\n",
       "    }\n",
       "\n",
       "    .dataframe tbody tr th {\n",
       "        vertical-align: top;\n",
       "    }\n",
       "</style>\n",
       "<table border=\"1\" class=\"dataframe\">\n",
       "  <thead>\n",
       "    <tr style=\"text-align: right;\">\n",
       "      <th></th>\n",
       "      <th>ID</th>\n",
       "      <th>Gamma</th>\n",
       "      <th>Location</th>\n",
       "      <th>Alpha</th>\n",
       "    </tr>\n",
       "  </thead>\n",
       "  <tbody>\n",
       "    <tr>\n",
       "      <th>0</th>\n",
       "      <td>0.0</td>\n",
       "      <td>2.666553</td>\n",
       "      <td>2.857718</td>\n",
       "      <td>1.047987</td>\n",
       "    </tr>\n",
       "    <tr>\n",
       "      <th>3</th>\n",
       "      <td>3.0</td>\n",
       "      <td>2.861311</td>\n",
       "      <td>6.006627</td>\n",
       "      <td>0.934272</td>\n",
       "    </tr>\n",
       "    <tr>\n",
       "      <th>4</th>\n",
       "      <td>4.0</td>\n",
       "      <td>1.465059</td>\n",
       "      <td>5.357733</td>\n",
       "      <td>0.365700</td>\n",
       "    </tr>\n",
       "    <tr>\n",
       "      <th>5</th>\n",
       "      <td>5.0</td>\n",
       "      <td>2.471109</td>\n",
       "      <td>4.724218</td>\n",
       "      <td>1.206824</td>\n",
       "    </tr>\n",
       "    <tr>\n",
       "      <th>7</th>\n",
       "      <td>7.0</td>\n",
       "      <td>2.449564</td>\n",
       "      <td>3.080913</td>\n",
       "      <td>0.772254</td>\n",
       "    </tr>\n",
       "  </tbody>\n",
       "</table>\n",
       "</div>"
      ],
      "text/plain": [
       "    ID     Gamma  Location     Alpha\n",
       "0  0.0  2.666553  2.857718  1.047987\n",
       "3  3.0  2.861311  6.006627  0.934272\n",
       "4  4.0  1.465059  5.357733  0.365700\n",
       "5  5.0  2.471109  4.724218  1.206824\n",
       "7  7.0  2.449564  3.080913  0.772254"
      ]
     },
     "execution_count": 62,
     "metadata": {},
     "output_type": "execute_result"
    }
   ],
   "source": [
    "#drop all with location at 8, as those are the stable systems\n",
    "trimmed_data_fits=data_fits[(data_fits[\"Location\"]<7.99) & (data_fits[\"Location\"]>0)]\n",
    "print(trimmed_data_fits.shape)\n",
    "#trimmed_data_fits= trimmed_data_fits.reset_index(drop=True)\n",
    "trimmed_data_fits.head()"
   ]
  },
  {
   "cell_type": "code",
   "execution_count": 63,
   "metadata": {
    "collapsed": true
   },
   "outputs": [],
   "source": [
    "def weib(loc, loc_fixed, gamma, alpha, x):\n",
    "    #assume x is log t\n",
    "    prob = (gamma/alpha)* ((loc-loc_fixed)/alpha)**(gamma-1.) * np.exp(-((loc-loc_fixed)/alpha)**gamma)\n",
    "    dist = (gamma/alpha)* ((x-loc)/alpha)**(gamma-1.) * np.exp(-((x-loc)/alpha)**gamma)\n",
    "    return prob*dist"
   ]
  },
  {
   "cell_type": "code",
   "execution_count": 64,
   "metadata": {
    "collapsed": true
   },
   "outputs": [],
   "source": [
    "#need to do a double integral\n",
    "#x must be an ARRAY\n",
    "def weib_pdf(x, loc,  gamma, alpha):\n",
    "    #assume x is log t\n",
    "    problematic = np.where(x<loc)[0]\n",
    "    fine = np.where(x>loc)[0]\n",
    "    prob = np.zeros_like(x)\n",
    "    prob[fine] = (gamma/alpha)* ((x[fine]-loc)/alpha)**(gamma-1.) * np.exp(-((x[fine]-loc)/alpha)**gamma)\n",
    "    prob[problematic]=0.\n",
    "    return prob"
   ]
  },
  {
   "cell_type": "code",
   "execution_count": 65,
   "metadata": {
    "collapsed": true
   },
   "outputs": [],
   "source": [
    "#need to do a double integral\n",
    "#x can be int or aray, but has poor error handling\n",
    "def weib_pdf_val(x, loc,  gamma, alpha):\n",
    "    #assume x is log t  \n",
    "    prob = (gamma/alpha)* ((x-loc)/alpha)**(gamma-1.) * np.exp(-((x-loc)/alpha)**gamma)\n",
    "    #print prob[fine]\n",
    "    return prob"
   ]
  },
  {
   "cell_type": "code",
   "execution_count": 66,
   "metadata": {
    "collapsed": true
   },
   "outputs": [],
   "source": [
    "# Define model function to be used to fit to the data above:\n",
    "def gauss(x, *p):\n",
    "    A, mu, sigma = p\n",
    "    return A*np.exp(-(x-mu)**2/(2.*sigma**2))"
   ]
  },
  {
   "cell_type": "code",
   "execution_count": 76,
   "metadata": {
    "collapsed": false,
    "scrolled": true
   },
   "outputs": [
    {
     "name": "stdout",
     "output_type": "stream",
     "text": [
      "0\n"
     ]
    },
    {
     "name": "stderr",
     "output_type": "stream",
     "text": [
      "/home/naireen/anaconda2/lib/python2.7/site-packages/ipykernel/__main__.py:5: RuntimeWarning: invalid value encountered in double_scalars\n"
     ]
    },
    {
     "name": "stdout",
     "output_type": "stream",
     "text": [
      "0.9802128633546844 0\n",
      "1\n",
      "0.9854152601906437 3\n",
      "2\n",
      "0.915517290046057 4\n",
      "3\n",
      "0.9741463630717231 5\n",
      "4\n",
      "0.9734189917156182 7\n",
      "5\n",
      "0.9838274380949915 8\n",
      "6\n",
      "0.9811310250659828 10\n",
      "7\n",
      "0.9938982849701622 11\n",
      "8\n",
      "0.9337982853387361 13\n",
      "9\n",
      "0.9932990589430377 14\n",
      "10\n",
      "0.9580797396398536 15\n",
      "11\n",
      "0.9783216875497102 16\n",
      "12\n",
      "0.9880069890260779 19\n",
      "13\n",
      "0.9836154723666777 20\n",
      "14\n",
      "0.9715212588360244 22\n",
      "15\n",
      "0.8979400847483809 23\n",
      "16\n",
      "0.9849861096650772 25\n",
      "17\n",
      "0.9868797994433476 26\n",
      "18\n",
      "0.9821576608431103 27\n",
      "19\n",
      "0.9777432457760342 28\n",
      "20\n",
      "0.9800090544483668 30\n",
      "21\n",
      "0.9878784015629448 31\n",
      "22\n",
      "0.9434567477219907 33\n",
      "23\n",
      "0.9923337123822641 34\n",
      "24\n",
      "0.9188685248816749 36\n",
      "25\n",
      "0.9844850387054144 37\n",
      "26\n",
      "0.9689889698146145 38\n",
      "27\n",
      "0.9910188398751454 41\n",
      "28\n",
      "0.9238404865131488 42\n",
      "29\n",
      "0.9412716215737833 43\n",
      "30\n",
      "0.9511937958100781 46\n",
      "31\n",
      "0.9703886165648424 47\n",
      "32\n",
      "0.9754469987633575 48\n",
      "33\n",
      "0.7731475335723272 49\n",
      "34\n",
      "0.9789545878953951 50\n",
      "35\n",
      "0.9688853456782208 53\n",
      "36\n",
      "0.9506659081174735 54\n",
      "37\n",
      "0.9440084390694424 55\n",
      "38\n",
      "0.9674052220516286 58\n",
      "39\n",
      "0.9340446918113522 59\n",
      "40\n",
      "0.8768852206329892 60\n",
      "41\n",
      "0.9419476338728842 61\n",
      "42\n",
      "0.8985785541120519 62\n",
      "43\n",
      "0.9744831951262725 63\n",
      "44\n",
      "0.8037797373401334 65\n",
      "45\n",
      "0.9679480830410674 66\n",
      "46\n",
      "0.9819801582729966 67\n",
      "47\n",
      "0.9257938001441245 69\n",
      "48\n",
      "0.9232067029582783 70\n",
      "49\n",
      "0.9640737075865473 71\n",
      "50\n",
      "0.9895540497368505 73\n",
      "51\n",
      "0.9834112105048425 75\n",
      "52\n",
      "0.9803562926045275 77\n",
      "53\n",
      "0.9683661645106683 80\n",
      "54\n",
      "0.9492535180816821 81\n",
      "55\n",
      "0.9694101220948917 83\n",
      "56\n",
      "0.9730970470084558 84\n",
      "57\n",
      "0.9865836143714866 88\n",
      "58\n",
      "0.8467900395898365 89\n",
      "59\n",
      "0.9867964639992394 91\n",
      "60\n",
      "0.9648701906282408 92\n",
      "61\n",
      "0.9916191021499896 93\n",
      "62\n",
      "0.9053139169223415 94\n",
      "63\n",
      "0.6609767886492558 95\n",
      "64\n",
      "0.989491702726489 96\n",
      "65\n",
      "0.9763614015682822 97\n",
      "66\n",
      "0.8685589582183523 99\n",
      "67\n",
      "0.6672646201865221 100\n",
      "71.0298991203\n"
     ]
    }
   ],
   "source": [
    "start = time.time()\n",
    "info = np.zeros((trimmed_data_fits.shape[0], 7)) # add norm const, RMS\n",
    "corrupted = []\n",
    "\n",
    "#print trimmed_data_fits.index\n",
    "\n",
    "for index_val in range(int(trimmed_data_fits.shape[0])):\n",
    "    width = 200 #incremental step\n",
    "\n",
    "    fig = plt.figure(figsize=(15, 5))\n",
    "    ax = fig.add_subplot(\"121\")\n",
    "    ax2 = fig.add_subplot(\"122\")\n",
    "    \n",
    "    print index_val\n",
    "    #print(trimmed_data_fits.iloc[1][\"Gamma\"])\n",
    "    gamma = trimmed_data_fits.iloc[index_val][\"Gamma\"]\n",
    "    alpha = trimmed_data_fits.iloc[index_val][\"Alpha\"]\n",
    "    loc = trimmed_data_fits.iloc[index_val][\"Location\"]\n",
    "    #print gamma, alpha, loc\n",
    "    #print \"Spread\", alpha\n",
    "    #print gamma, alpha, loc, x \n",
    "    vals= np.linspace(loc-alpha*sigma_width, loc+alpha*sigma_width, width)\n",
    "    exp_val = alpha* scipy.special.gamma(1+1./gamma)\n",
    "    #print loc +exp_val\n",
    "    final_y  = np.zeros(width)\n",
    "    for i in range(int(vals.shape[0])):\n",
    "        bins = np.linspace(loc-alpha*sigma_width , loc+sigma_width*alpha, width)\n",
    "        val1 = vals[i]\n",
    "        #get the entire pdf\n",
    "        prob = weib_pdf_val(val1, loc - exp_val, gamma, alpha)\n",
    "        #get the probability that time being drawn\n",
    "        y = prob*weib_pdf(bins, val1,gamma, alpha)\n",
    "        ax.plot(bins, y)#just to prevent any errors\n",
    "        final_y = np.nansum(np.asarray([y, final_y]), axis = 0)  #np.nansum(a=[y, final_y], axis= 1)\n",
    "    #plt.figure(figsize=(12, 8))\n",
    "    ax2.plot(bins, final_y)    \n",
    "    p0 = [1., loc+alpha*scipy.special.gamma(1+ 1./gamma), alpha] #norm, mean, sigma\n",
    "    #popt,pcov = curve_fit(gaus,x,y,p0=[1,mean,sigma])\n",
    "    try:\n",
    "        coeff, var_matrix = scipy.optimize.curve_fit(gauss, bins, final_y, p0=p0)\n",
    "        #print var_matrix\n",
    "        perr = np.sqrt(np.diag(var_matrix))\n",
    "        plt_title = 'Convolution Parameters For System {4}: Mean: {0:.5} E {2:.4}   Sigma: {1:.5} E: {3:.4}'.format(coeff[1], np.abs(coeff[2]), perr[1], perr[2], trimmed_data_fits.index[index_val])\n",
    "        #print \"Coefs: Mean, Sigma\", coeff[1:], \"Error\", perr[1:]\n",
    "        #fit can cbe calculated\n",
    "        delta_t = (( loc+sigma_width*alpha) -loc - 0.0001)/(width-1)\n",
    "        summed_fit_area_weib=0\n",
    "        summed_fit_area_gauss = 0\n",
    "\n",
    "\n",
    "        ###########################Error calcualtion###############################\n",
    "    \n",
    "        # Get the fitted curve\n",
    "        hist_fit = gauss(bins, *coeff)\n",
    "\n",
    "\n",
    "        #find the total sum of final_y to find normalizing constant\n",
    "        summed_fit_area_weib = np.sum(final_y)*delta_t\n",
    "        summed_fit_area_gauss = np.sum(hist_fit)*delta_t\n",
    "\n",
    "\n",
    "        overlapp = np.concatenate([(final_y/summed_fit_area_weib).reshape(width,1), \n",
    "                                   (hist_fit/summed_fit_area_gauss).reshape(width, 1)], axis = 1)\n",
    "        #define IOU as the sum, of their overlap, so take the min of both and sum it multiplied by delta t \n",
    "        IOU = overlapp.min(axis = 1).sum()*delta_t\n",
    "        #overlapped area\n",
    "        print IOU, trimmed_data_fits.index[index_val]\n",
    "\n",
    "        ###########################################################################   \n",
    "        info[index_val] = [trimmed_data_fits.index[index_val], coeff[0], coeff[1], perr[1], coeff[2], perr[2], IOU]\n",
    "\n",
    "    except Exception as e:\n",
    "        print e\n",
    "        corrupted.append(trimmed_data_fits.index[index_val] )\n",
    "        info[index_val] = [trimmed_data_fits.index[index_val],np.inf, np.inf, np.inf, np.inf, np.inf, np.inf]\n",
    "        plt_title = 'Convolution Parameters For System {0}'.format(trimmed_data_fits.index[index_val])\n",
    "    \n",
    "    \n",
    "    \n",
    "    \n",
    "    \n",
    "    plt.suptitle(plt_title)\n",
    "    #plt.show()\n",
    "    plt.savefig(\"../../Figures/ResonantFigures/{0}.png\".format(trimmed_data_fits.index[index_val]))\n",
    "    plt.close()\n",
    "    #print sub_short.index[index_val]\n",
    "    #break\n",
    "    #hist_fit = gauss(bins, *coeff)\n",
    "    #plt.plot(bins, hist_fit/summed_fit_area_gauss)\n",
    "    #plt.plot(bins, final_y/summed_fit_area_weib)\n",
    "    #print info[index_val]\n",
    "    #break\n",
    "end = time.time()\n",
    "print end-start\n"
   ]
  },
  {
   "cell_type": "code",
   "execution_count": 77,
   "metadata": {
    "collapsed": false
   },
   "outputs": [
    {
     "data": {
      "text/plain": [
       "[]"
      ]
     },
     "execution_count": 77,
     "metadata": {},
     "output_type": "execute_result"
    }
   ],
   "source": [
    "corrupted"
   ]
  },
  {
   "cell_type": "code",
   "execution_count": 102,
   "metadata": {
    "collapsed": false
   },
   "outputs": [
    {
     "name": "stdout",
     "output_type": "stream",
     "text": [
      "(68, 7)\n"
     ]
    },
    {
     "data": {
      "text/html": [
       "<div>\n",
       "<style>\n",
       "    .dataframe thead tr:only-child th {\n",
       "        text-align: right;\n",
       "    }\n",
       "\n",
       "    .dataframe thead th {\n",
       "        text-align: left;\n",
       "    }\n",
       "\n",
       "    .dataframe tbody tr th {\n",
       "        vertical-align: top;\n",
       "    }\n",
       "</style>\n",
       "<table border=\"1\" class=\"dataframe\">\n",
       "  <thead>\n",
       "    <tr style=\"text-align: right;\">\n",
       "      <th></th>\n",
       "      <th>ID</th>\n",
       "      <th>Norm</th>\n",
       "      <th>Mean</th>\n",
       "      <th>Mean_Error</th>\n",
       "      <th>Sigma</th>\n",
       "      <th>Error</th>\n",
       "      <th>IOU</th>\n",
       "    </tr>\n",
       "  </thead>\n",
       "  <tbody>\n",
       "    <tr>\n",
       "      <th>0</th>\n",
       "      <td>0.0</td>\n",
       "      <td>17.579000</td>\n",
       "      <td>3.761504</td>\n",
       "      <td>0.001761</td>\n",
       "      <td>0.541129</td>\n",
       "      <td>0.001761</td>\n",
       "      <td>0.980213</td>\n",
       "    </tr>\n",
       "    <tr>\n",
       "      <th>1</th>\n",
       "      <td>3.0</td>\n",
       "      <td>23.465416</td>\n",
       "      <td>6.822150</td>\n",
       "      <td>0.001102</td>\n",
       "      <td>0.454880</td>\n",
       "      <td>0.001102</td>\n",
       "      <td>0.985415</td>\n",
       "    </tr>\n",
       "    <tr>\n",
       "      <th>2</th>\n",
       "      <td>4.0</td>\n",
       "      <td>88.045595</td>\n",
       "      <td>5.622223</td>\n",
       "      <td>0.004265</td>\n",
       "      <td>0.302330</td>\n",
       "      <td>0.004265</td>\n",
       "      <td>0.915517</td>\n",
       "    </tr>\n",
       "    <tr>\n",
       "      <th>3</th>\n",
       "      <td>5.0</td>\n",
       "      <td>12.440545</td>\n",
       "      <td>5.750126</td>\n",
       "      <td>0.002811</td>\n",
       "      <td>0.663568</td>\n",
       "      <td>0.002811</td>\n",
       "      <td>0.974146</td>\n",
       "    </tr>\n",
       "    <tr>\n",
       "      <th>4</th>\n",
       "      <td>7.0</td>\n",
       "      <td>30.160825</td>\n",
       "      <td>3.736249</td>\n",
       "      <td>0.001863</td>\n",
       "      <td>0.427685</td>\n",
       "      <td>0.001863</td>\n",
       "      <td>0.973419</td>\n",
       "    </tr>\n",
       "  </tbody>\n",
       "</table>\n",
       "</div>"
      ],
      "text/plain": [
       "    ID       Norm      Mean  Mean_Error     Sigma     Error       IOU\n",
       "0  0.0  17.579000  3.761504    0.001761  0.541129  0.001761  0.980213\n",
       "1  3.0  23.465416  6.822150    0.001102  0.454880  0.001102  0.985415\n",
       "2  4.0  88.045595  5.622223    0.004265  0.302330  0.004265  0.915517\n",
       "3  5.0  12.440545  5.750126    0.002811  0.663568  0.002811  0.974146\n",
       "4  7.0  30.160825  3.736249    0.001863  0.427685  0.001863  0.973419"
      ]
     },
     "execution_count": 102,
     "metadata": {},
     "output_type": "execute_result"
    }
   ],
   "source": [
    "info_frame = pd.DataFrame(info, columns=[\"ID\", \"Norm\",\"Mean\" , \"Mean_Error\", \"Sigma\", \"Error\", \"IOU\"])\n",
    "print info_frame.shape\n",
    "info_frame.to_csv(\"../../csvs/Res_3_feats/Convolved_Params_{0}_IOU.csv\".format(info_frame.shape[0]), index=False)\n",
    "info_frame.head()"
   ]
  },
  {
   "cell_type": "code",
   "execution_count": 103,
   "metadata": {
    "collapsed": false
   },
   "outputs": [
    {
     "name": "stdout",
     "output_type": "stream",
     "text": [
      "(68, 7)\n"
     ]
    },
    {
     "data": {
      "image/png": "[encoded data removed]",
      "text/plain": [
       "<matplotlib.figure.Figure at 0x7f6bea85aa90>"
      ]
     },
     "metadata": {},
     "output_type": "display_data"
    },
    {
     "name": "stdout",
     "output_type": "stream",
     "text": [
      "0.01383260573661006 1.2981958927650123\n",
      "['ID' 'Norm' 'Mean' 'Mean_Error' 'Sigma' 'Error' 'IOU']\n"
     ]
    }
   ],
   "source": [
    "valid_info_frame = info_frame[~info_frame[\"ID\"].astype(int).isin(corrupted)]\n",
    "\n",
    "print valid_info_frame.shape\n",
    "valid_info_frame[\"Sigma\"] = np.abs(valid_info_frame[\"Sigma\"])\n",
    "bins = np.linspace(0, 1.5, 20)\n",
    "valid_info_frame.hist(\"Sigma\",  normed = 1, bins = bins)\n",
    "plt.show()\n",
    "print valid_info_frame[\"Sigma\"].min(), valid_info_frame[\"Sigma\"].max()\n",
    "print valid_info_frame.columns.values"
   ]
  },
  {
   "cell_type": "code",
   "execution_count": 104,
   "metadata": {
    "collapsed": false
   },
   "outputs": [
    {
     "name": "stdout",
     "output_type": "stream",
     "text": [
      "Average Sigma 0.5722791554969378 Std in Sigma 0.2395581511072143\n"
     ]
    },
    {
     "data": {
      "image/png": "[encoded data removed]",
      "text/plain": [
       "<matplotlib.figure.Figure at 0x7f6bea85a3d0>"
      ]
     },
     "metadata": {},
     "output_type": "display_data"
    }
   ],
   "source": [
    "from scipy.stats import norm\n",
    "\n",
    "mu_fit, sig_fit =  norm.fit(valid_info_frame[\"Sigma\"].values)\n",
    "print \"Average Sigma\", mu_fit, \"Std in Sigma\", sig_fit\n",
    "#x, xmax = plt.xlim()\n",
    "fig = plt.figure()\n",
    "ax = fig.add_subplot(\"111\")\n",
    "x = np.linspace(0, 1.6, 100)\n",
    "p = norm.pdf(x, mu_fit, sig_fit)\n",
    "plt.plot(x, p)\n",
    "valid_info_frame.hist(\"Sigma\", normed = 1, ax = ax, bins = bins)\n",
    "#old_valid_info_frame.hist(\"Sigma\", normed = 1, ax = ax, bins = bins)\n",
    "#print valid_info_frame.shape\n",
    "plt.show()\n"
   ]
  },
  {
   "cell_type": "code",
   "execution_count": 105,
   "metadata": {
    "collapsed": false
   },
   "outputs": [
    {
     "name": "stdout",
     "output_type": "stream",
     "text": [
      "0.6609767886492558\n",
      "Empty DataFrame\n",
      "Columns: [ID, Norm, Mean, Mean_Error, Sigma, Error, IOU]\n",
      "Index: []\n"
     ]
    },
    {
     "data": {
      "image/png": "[encoded data removed]",
      "text/plain": [
       "<matplotlib.figure.Figure at 0x7f6bf10369d0>"
      ]
     },
     "metadata": {},
     "output_type": "display_data"
    },
    {
     "data": {
      "image/png": "[encoded data removed]",
      "text/plain": [
       "<matplotlib.figure.Figure at 0x7f6bf008df50>"
      ]
     },
     "metadata": {},
     "output_type": "display_data"
    }
   ],
   "source": [
    "bins = np.linspace(0.88,1.01, 14)\n",
    "#print valid_info_frame[valid_info_frame[\"IOU\"] < 0.9]\n",
    "valid_info_frame.hist(\"IOU\", edgecolor = \"black\", linewidth = 1)\n",
    "print valid_info_frame[\"IOU\"].min()\n",
    "print valid_info_frame[valid_info_frame[\"IOU\"] < .1]\n",
    "valid_info_frame.hist(\"IOU\", edgecolor = \"black\", linewidth = 1, bins = bins)\n",
    "plt.show()"
   ]
  },
  {
   "cell_type": "code",
   "execution_count": 112,
   "metadata": {
    "collapsed": false
   },
   "outputs": [
    {
     "name": "stdout",
     "output_type": "stream",
     "text": [
      "(266, 7)\n",
      "(246, 7)\n"
     ]
    }
   ],
   "source": [
    "#compare the two sigma hists\n",
    "old_valid_info_frame= pd.read_csv(\"../../Figures/ConvolutedFigures/Convolved_Params_266_IOU_fixed.csv\")\n",
    "print old_valid_info_frame.shape\n",
    "old_valid_info_frame= old_valid_info_frame[(old_valid_info_frame[\"Mean\"]!=np.inf) & (np.abs(old_valid_info_frame[\"Sigma\"]<10)) & (old_valid_info_frame[\"Mean\"]>4) & (old_valid_info_frame[\"Mean\"]<9)] #need to see what causes this\n",
    "old_valid_info_frame = old_valid_info_frame[old_valid_info_frame[\"ID\"]!=1364]\n",
    "#print valid_info_frame.max(axis = 0), valid_info_frame.min(axis = 0)\n",
    "#valid_info_frame.head()\n",
    "print old_valid_info_frame.shape"
   ]
  },
  {
   "cell_type": "code",
   "execution_count": 131,
   "metadata": {
    "collapsed": false
   },
   "outputs": [
    {
     "name": "stdout",
     "output_type": "stream",
     "text": [
      "Average Sigma 0.6080076715519274 Std in Sigma 0.2558534366263032\n",
      "Average Sigma 0.5722791554969378 Std in Sigma 0.2395581511072143\n"
     ]
    },
    {
     "data": {
      "image/png": "[encoded data removed]",
      "text/plain": [
       "<matplotlib.figure.Figure at 0x7f6beaa495d0>"
      ]
     },
     "metadata": {},
     "output_type": "display_data"
    }
   ],
   "source": [
    "old_valid_info_frame[\"Sigma\"] = np.abs(old_valid_info_frame[\"Sigma\"])\n",
    "#bins = np.linspace(0, 1.5, 20)\n",
    "\n",
    "fig = plt.figure()\n",
    "ax = fig.add_subplot(\"111\")\n",
    "\n",
    "x = np.linspace(0, 1.6, 100)\n",
    "mu_fit, sig_fit = norm.fit(old_valid_info_frame[\"Sigma\"].values)\n",
    "print \"Average Sigma\", mu_fit, \"Std in Sigma\", sig_fit\n",
    "\n",
    "p = norm.pdf(x, mu_fit, sig_fit)\n",
    "figs = plt.plot(x, p)\n",
    "#print(figs[-1].get_color())\n",
    "old_valid_info_frame.hist(\"Sigma\",  normed = 1, bins = bins, ax = ax, label = \"regular\", color = figs[-1].get_color())\n",
    "\n",
    "mu_fit, sig_fit = norm.fit(valid_info_frame[\"Sigma\"].values)\n",
    "print \"Average Sigma\", mu_fit, \"Std in Sigma\", sig_fit\n",
    "p = norm.pdf(x, mu_fit, sig_fit)\n",
    "figs = plt.plot(x, p)\n",
    "valid_info_frame.hist(\"Sigma\", normed = 1, bins = bins, ax = ax, label = \"resonant\", color = figs[-1].get_color())\n",
    "plt.legend()\n",
    "plt.show()\n",
    "#print old_valid_info_frame[\"Sigma\"].min(), old_valid_info_frame[\"Sigma\"].max()\n",
    "\n",
    "#print valid_info_frame.columns.values"
   ]
  },
  {
   "cell_type": "code",
   "execution_count": null,
   "metadata": {
    "collapsed": true
   },
   "outputs": [],
   "source": []
  }
 ],
 "metadata": {
  "kernelspec": {
   "display_name": "Python [default]",
   "language": "python",
   "name": "python2"
  },
  "language_info": {
   "codemirror_mode": {
    "name": "ipython",
    "version": 2
   },
   "file_extension": ".py",
   "mimetype": "text/x-python",
   "name": "python",
   "nbconvert_exporter": "python",
   "pygments_lexer": "ipython2",
   "version": "2.7.12"
  }
 },
 "nbformat": 4,
 "nbformat_minor": 1
}
