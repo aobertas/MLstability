{
 "cells": [
  {
   "cell_type": "code",
   "execution_count": 5,
   "metadata": {},
   "outputs": [],
   "source": [
    "import numpy as np\n",
    "import matplotlib.pyplot as plt\n",
    "%matplotlib inline\n",
    "import pandas as pd\n",
    "import os\n",
    "\n",
    "datapath = '/mnt/ssd/Dropbox/Dropbox (Princeton)/workspace/stability/MLstability/training_data/'\n",
    "featurefolder = 'ressummaryfeaturesxgbNorbits10000.0Nout1000/'"
   ]
  },
  {
   "cell_type": "code",
   "execution_count": 6,
   "metadata": {},
   "outputs": [
    {
     "data": {
      "text/html": [
       "<div>\n",
       "<style scoped>\n",
       "    .dataframe tbody tr th:only-of-type {\n",
       "        vertical-align: middle;\n",
       "    }\n",
       "\n",
       "    .dataframe tbody tr th {\n",
       "        vertical-align: top;\n",
       "    }\n",
       "\n",
       "    .dataframe thead th {\n",
       "        text-align: right;\n",
       "    }\n",
       "</style>\n",
       "<table border=\"1\" class=\"dataframe\">\n",
       "  <thead>\n",
       "    <tr style=\"text-align: right;\">\n",
       "      <th></th>\n",
       "      <th>C_AMD12</th>\n",
       "      <th>C_AMD23</th>\n",
       "      <th>C_AMD_max</th>\n",
       "      <th>Zcross12</th>\n",
       "      <th>Zcross13</th>\n",
       "      <th>Zcross23</th>\n",
       "      <th>maxj</th>\n",
       "      <th>maxk</th>\n",
       "      <th>maxi1</th>\n",
       "      <th>maxi2</th>\n",
       "      <th>...</th>\n",
       "      <th>Zcomdrift23</th>\n",
       "      <th>Zcomrollingstd23</th>\n",
       "      <th>phiZcomdrift23</th>\n",
       "      <th>phiZcomrollingstd23</th>\n",
       "      <th>Zstardrift23</th>\n",
       "      <th>Zstarrollingstd23</th>\n",
       "      <th>Zcosphistd23</th>\n",
       "      <th>medZcosphi23</th>\n",
       "      <th>tlyap</th>\n",
       "      <th>megno</th>\n",
       "    </tr>\n",
       "  </thead>\n",
       "  <tbody>\n",
       "    <tr>\n",
       "      <th>0</th>\n",
       "      <td>0.042895</td>\n",
       "      <td>27.354537</td>\n",
       "      <td>27.354537</td>\n",
       "      <td>0.504063</td>\n",
       "      <td>0.594658</td>\n",
       "      <td>0.060234</td>\n",
       "      <td>12.0</td>\n",
       "      <td>1.0</td>\n",
       "      <td>2.0</td>\n",
       "      <td>3.0</td>\n",
       "      <td>...</td>\n",
       "      <td>0.022942</td>\n",
       "      <td>0.000753</td>\n",
       "      <td>0.144823</td>\n",
       "      <td>0.004244</td>\n",
       "      <td>0.165598</td>\n",
       "      <td>0.033893</td>\n",
       "      <td>0.013167</td>\n",
       "      <td>-0.342346</td>\n",
       "      <td>-965263.814382</td>\n",
       "      <td>1.994241</td>\n",
       "    </tr>\n",
       "    <tr>\n",
       "      <th>1</th>\n",
       "      <td>0.779755</td>\n",
       "      <td>2.190450</td>\n",
       "      <td>2.190450</td>\n",
       "      <td>0.240504</td>\n",
       "      <td>0.340424</td>\n",
       "      <td>0.080547</td>\n",
       "      <td>9.0</td>\n",
       "      <td>1.0</td>\n",
       "      <td>2.0</td>\n",
       "      <td>3.0</td>\n",
       "      <td>...</td>\n",
       "      <td>0.037659</td>\n",
       "      <td>0.001800</td>\n",
       "      <td>0.050964</td>\n",
       "      <td>0.002007</td>\n",
       "      <td>0.027374</td>\n",
       "      <td>0.004149</td>\n",
       "      <td>0.069011</td>\n",
       "      <td>-0.684761</td>\n",
       "      <td>-572568.350739</td>\n",
       "      <td>2.003973</td>\n",
       "    </tr>\n",
       "    <tr>\n",
       "      <th>2</th>\n",
       "      <td>32.340940</td>\n",
       "      <td>0.005296</td>\n",
       "      <td>32.340940</td>\n",
       "      <td>0.129660</td>\n",
       "      <td>1.261558</td>\n",
       "      <td>1.001981</td>\n",
       "      <td>6.0</td>\n",
       "      <td>1.0</td>\n",
       "      <td>1.0</td>\n",
       "      <td>2.0</td>\n",
       "      <td>...</td>\n",
       "      <td>0.429699</td>\n",
       "      <td>0.013802</td>\n",
       "      <td>0.657982</td>\n",
       "      <td>0.019529</td>\n",
       "      <td>0.004231</td>\n",
       "      <td>0.000196</td>\n",
       "      <td>0.020795</td>\n",
       "      <td>0.000067</td>\n",
       "      <td>-124173.227388</td>\n",
       "      <td>2.011256</td>\n",
       "    </tr>\n",
       "    <tr>\n",
       "      <th>3</th>\n",
       "      <td>0.949707</td>\n",
       "      <td>0.692919</td>\n",
       "      <td>0.949707</td>\n",
       "      <td>0.406112</td>\n",
       "      <td>1.007603</td>\n",
       "      <td>0.427768</td>\n",
       "      <td>5.0</td>\n",
       "      <td>2.0</td>\n",
       "      <td>1.0</td>\n",
       "      <td>2.0</td>\n",
       "      <td>...</td>\n",
       "      <td>0.837173</td>\n",
       "      <td>0.054418</td>\n",
       "      <td>0.949626</td>\n",
       "      <td>0.048283</td>\n",
       "      <td>NaN</td>\n",
       "      <td>NaN</td>\n",
       "      <td>0.081875</td>\n",
       "      <td>0.000228</td>\n",
       "      <td>-459360.721938</td>\n",
       "      <td>2.010301</td>\n",
       "    </tr>\n",
       "    <tr>\n",
       "      <th>4</th>\n",
       "      <td>5.847346</td>\n",
       "      <td>0.238150</td>\n",
       "      <td>5.847346</td>\n",
       "      <td>0.059897</td>\n",
       "      <td>0.332922</td>\n",
       "      <td>0.257596</td>\n",
       "      <td>12.0</td>\n",
       "      <td>1.0</td>\n",
       "      <td>1.0</td>\n",
       "      <td>2.0</td>\n",
       "      <td>...</td>\n",
       "      <td>4.495888</td>\n",
       "      <td>0.297336</td>\n",
       "      <td>5.267933</td>\n",
       "      <td>0.106736</td>\n",
       "      <td>NaN</td>\n",
       "      <td>NaN</td>\n",
       "      <td>0.082738</td>\n",
       "      <td>0.001040</td>\n",
       "      <td>61481.585726</td>\n",
       "      <td>2.218560</td>\n",
       "    </tr>\n",
       "  </tbody>\n",
       "</table>\n",
       "<p>5 rows × 58 columns</p>\n",
       "</div>"
      ],
      "text/plain": [
       "     C_AMD12    C_AMD23  C_AMD_max  Zcross12  Zcross13  Zcross23  maxj  maxk  \\\n",
       "0   0.042895  27.354537  27.354537  0.504063  0.594658  0.060234  12.0   1.0   \n",
       "1   0.779755   2.190450   2.190450  0.240504  0.340424  0.080547   9.0   1.0   \n",
       "2  32.340940   0.005296  32.340940  0.129660  1.261558  1.001981   6.0   1.0   \n",
       "3   0.949707   0.692919   0.949707  0.406112  1.007603  0.427768   5.0   2.0   \n",
       "4   5.847346   0.238150   5.847346  0.059897  0.332922  0.257596  12.0   1.0   \n",
       "\n",
       "   maxi1  maxi2  ...  Zcomdrift23  Zcomrollingstd23  phiZcomdrift23  \\\n",
       "0    2.0    3.0  ...     0.022942          0.000753        0.144823   \n",
       "1    2.0    3.0  ...     0.037659          0.001800        0.050964   \n",
       "2    1.0    2.0  ...     0.429699          0.013802        0.657982   \n",
       "3    1.0    2.0  ...     0.837173          0.054418        0.949626   \n",
       "4    1.0    2.0  ...     4.495888          0.297336        5.267933   \n",
       "\n",
       "   phiZcomrollingstd23  Zstardrift23  Zstarrollingstd23  Zcosphistd23  \\\n",
       "0             0.004244      0.165598           0.033893      0.013167   \n",
       "1             0.002007      0.027374           0.004149      0.069011   \n",
       "2             0.019529      0.004231           0.000196      0.020795   \n",
       "3             0.048283           NaN                NaN      0.081875   \n",
       "4             0.106736           NaN                NaN      0.082738   \n",
       "\n",
       "   medZcosphi23          tlyap     megno  \n",
       "0     -0.342346 -965263.814382  1.994241  \n",
       "1     -0.684761 -572568.350739  2.003973  \n",
       "2      0.000067 -124173.227388  2.011256  \n",
       "3      0.000228 -459360.721938  2.010301  \n",
       "4      0.001040   61481.585726  2.218560  \n",
       "\n",
       "[5 rows x 58 columns]"
      ]
     },
     "execution_count": 6,
     "metadata": {},
     "output_type": "execute_result"
    }
   ],
   "source": [
    "res = pd.read_csv(datapath+'resonant/'+featurefolder+'trainingdata.csv', index_col=0)\n",
    "res.head()"
   ]
  },
  {
   "cell_type": "code",
   "execution_count": 15,
   "metadata": {},
   "outputs": [],
   "source": [
    "root = \"../training_data/TTVsystems/\"\n",
    "TTVs = []\n",
    "for folder in os.listdir(root):\n",
    "    TTVs.append(pd.read_csv(\"../training_data/TTVsystems/\" + folder + \"/\" + featurefolder + \"trainingdata.csv\", index_col=0))"
   ]
  },
  {
   "cell_type": "code",
   "execution_count": 10,
   "metadata": {},
   "outputs": [
    {
     "data": {
      "text/html": [
       "<div>\n",
       "<style scoped>\n",
       "    .dataframe tbody tr th:only-of-type {\n",
       "        vertical-align: middle;\n",
       "    }\n",
       "\n",
       "    .dataframe tbody tr th {\n",
       "        vertical-align: top;\n",
       "    }\n",
       "\n",
       "    .dataframe thead th {\n",
       "        text-align: right;\n",
       "    }\n",
       "</style>\n",
       "<table border=\"1\" class=\"dataframe\">\n",
       "  <thead>\n",
       "    <tr style=\"text-align: right;\">\n",
       "      <th></th>\n",
       "      <th>Zcross12</th>\n",
       "      <th>Zcross13</th>\n",
       "      <th>Zcross23</th>\n",
       "      <th>maxj</th>\n",
       "      <th>maxk</th>\n",
       "      <th>maxi1</th>\n",
       "      <th>maxi2</th>\n",
       "      <th>maxstrength</th>\n",
       "      <th>secondres</th>\n",
       "      <th>EMmed12</th>\n",
       "      <th>...</th>\n",
       "      <th>Zcomdrift23</th>\n",
       "      <th>Zcomrollingstd23</th>\n",
       "      <th>phiZcomdrift23</th>\n",
       "      <th>phiZcomrollingstd23</th>\n",
       "      <th>Zstardrift23</th>\n",
       "      <th>Zstarrollingstd23</th>\n",
       "      <th>Zcosphistd23</th>\n",
       "      <th>medZcosphi23</th>\n",
       "      <th>tlyap</th>\n",
       "      <th>megno</th>\n",
       "    </tr>\n",
       "  </thead>\n",
       "  <tbody>\n",
       "    <tr>\n",
       "      <th>0</th>\n",
       "      <td>0.160594</td>\n",
       "      <td>0.406449</td>\n",
       "      <td>0.211836</td>\n",
       "      <td>4.0</td>\n",
       "      <td>1.0</td>\n",
       "      <td>2.0</td>\n",
       "      <td>3.0</td>\n",
       "      <td>0.017106</td>\n",
       "      <td>0.953285</td>\n",
       "      <td>0.258052</td>\n",
       "      <td>...</td>\n",
       "      <td>0.342141</td>\n",
       "      <td>0.133424</td>\n",
       "      <td>0.675944</td>\n",
       "      <td>0.125735</td>\n",
       "      <td>0.330424</td>\n",
       "      <td>0.117878</td>\n",
       "      <td>0.015542</td>\n",
       "      <td>-0.120937</td>\n",
       "      <td>14454.703577</td>\n",
       "      <td>1.984833</td>\n",
       "    </tr>\n",
       "    <tr>\n",
       "      <th>1</th>\n",
       "      <td>0.160516</td>\n",
       "      <td>0.406375</td>\n",
       "      <td>0.211853</td>\n",
       "      <td>5.0</td>\n",
       "      <td>1.0</td>\n",
       "      <td>1.0</td>\n",
       "      <td>2.0</td>\n",
       "      <td>0.028910</td>\n",
       "      <td>0.493940</td>\n",
       "      <td>0.254428</td>\n",
       "      <td>...</td>\n",
       "      <td>0.148308</td>\n",
       "      <td>0.069817</td>\n",
       "      <td>0.422673</td>\n",
       "      <td>0.068751</td>\n",
       "      <td>0.240301</td>\n",
       "      <td>0.099349</td>\n",
       "      <td>0.011738</td>\n",
       "      <td>-0.111459</td>\n",
       "      <td>1853.993192</td>\n",
       "      <td>1.866839</td>\n",
       "    </tr>\n",
       "    <tr>\n",
       "      <th>2</th>\n",
       "      <td>0.160560</td>\n",
       "      <td>0.406425</td>\n",
       "      <td>0.211851</td>\n",
       "      <td>5.0</td>\n",
       "      <td>1.0</td>\n",
       "      <td>1.0</td>\n",
       "      <td>2.0</td>\n",
       "      <td>0.018025</td>\n",
       "      <td>0.855563</td>\n",
       "      <td>0.238651</td>\n",
       "      <td>...</td>\n",
       "      <td>0.264137</td>\n",
       "      <td>0.115178</td>\n",
       "      <td>0.483758</td>\n",
       "      <td>0.125058</td>\n",
       "      <td>0.168048</td>\n",
       "      <td>0.074052</td>\n",
       "      <td>0.008778</td>\n",
       "      <td>-0.108869</td>\n",
       "      <td>7337.383147</td>\n",
       "      <td>1.974808</td>\n",
       "    </tr>\n",
       "    <tr>\n",
       "      <th>3</th>\n",
       "      <td>0.160600</td>\n",
       "      <td>0.406470</td>\n",
       "      <td>0.211848</td>\n",
       "      <td>5.0</td>\n",
       "      <td>1.0</td>\n",
       "      <td>1.0</td>\n",
       "      <td>2.0</td>\n",
       "      <td>0.016905</td>\n",
       "      <td>0.852918</td>\n",
       "      <td>0.257664</td>\n",
       "      <td>...</td>\n",
       "      <td>0.265652</td>\n",
       "      <td>0.096250</td>\n",
       "      <td>0.572978</td>\n",
       "      <td>0.092706</td>\n",
       "      <td>0.403284</td>\n",
       "      <td>0.154032</td>\n",
       "      <td>0.019531</td>\n",
       "      <td>-0.116540</td>\n",
       "      <td>3772.431351</td>\n",
       "      <td>1.944927</td>\n",
       "    </tr>\n",
       "    <tr>\n",
       "      <th>4</th>\n",
       "      <td>0.160566</td>\n",
       "      <td>0.406430</td>\n",
       "      <td>0.211848</td>\n",
       "      <td>5.0</td>\n",
       "      <td>1.0</td>\n",
       "      <td>1.0</td>\n",
       "      <td>2.0</td>\n",
       "      <td>0.020037</td>\n",
       "      <td>0.643365</td>\n",
       "      <td>0.236076</td>\n",
       "      <td>...</td>\n",
       "      <td>0.757646</td>\n",
       "      <td>0.268731</td>\n",
       "      <td>0.568308</td>\n",
       "      <td>0.209360</td>\n",
       "      <td>0.183366</td>\n",
       "      <td>0.073763</td>\n",
       "      <td>0.008415</td>\n",
       "      <td>-0.108151</td>\n",
       "      <td>5942.841413</td>\n",
       "      <td>1.962257</td>\n",
       "    </tr>\n",
       "  </tbody>\n",
       "</table>\n",
       "<p>5 rows × 55 columns</p>\n",
       "</div>"
      ],
      "text/plain": [
       "   Zcross12  Zcross13  Zcross23  maxj  maxk  maxi1  maxi2  maxstrength  \\\n",
       "0  0.160594  0.406449  0.211836   4.0   1.0    2.0    3.0     0.017106   \n",
       "1  0.160516  0.406375  0.211853   5.0   1.0    1.0    2.0     0.028910   \n",
       "2  0.160560  0.406425  0.211851   5.0   1.0    1.0    2.0     0.018025   \n",
       "3  0.160600  0.406470  0.211848   5.0   1.0    1.0    2.0     0.016905   \n",
       "4  0.160566  0.406430  0.211848   5.0   1.0    1.0    2.0     0.020037   \n",
       "\n",
       "   secondres   EMmed12  ...  Zcomdrift23  Zcomrollingstd23  phiZcomdrift23  \\\n",
       "0   0.953285  0.258052  ...     0.342141          0.133424        0.675944   \n",
       "1   0.493940  0.254428  ...     0.148308          0.069817        0.422673   \n",
       "2   0.855563  0.238651  ...     0.264137          0.115178        0.483758   \n",
       "3   0.852918  0.257664  ...     0.265652          0.096250        0.572978   \n",
       "4   0.643365  0.236076  ...     0.757646          0.268731        0.568308   \n",
       "\n",
       "   phiZcomrollingstd23  Zstardrift23  Zstarrollingstd23  Zcosphistd23  \\\n",
       "0             0.125735      0.330424           0.117878      0.015542   \n",
       "1             0.068751      0.240301           0.099349      0.011738   \n",
       "2             0.125058      0.168048           0.074052      0.008778   \n",
       "3             0.092706      0.403284           0.154032      0.019531   \n",
       "4             0.209360      0.183366           0.073763      0.008415   \n",
       "\n",
       "   medZcosphi23         tlyap     megno  \n",
       "0     -0.120937  14454.703577  1.984833  \n",
       "1     -0.111459   1853.993192  1.866839  \n",
       "2     -0.108869   7337.383147  1.974808  \n",
       "3     -0.116540   3772.431351  1.944927  \n",
       "4     -0.108151   5942.841413  1.962257  \n",
       "\n",
       "[5 rows x 55 columns]"
      ]
     },
     "execution_count": 10,
     "metadata": {},
     "output_type": "execute_result"
    }
   ],
   "source": [
    "df2 = pd.read_csv(\"../training_data/TTVsystems/KOI-2086/\" + featurefolder + \"trainingdata.csv\", index_col=0)\n",
    "df2.head()"
   ]
  },
  {
   "cell_type": "code",
   "execution_count": 16,
   "metadata": {},
   "outputs": [
    {
     "data": {
      "text/plain": [
       "(10499, 55)"
      ]
     },
     "execution_count": 16,
     "metadata": {},
     "output_type": "execute_result"
    }
   ],
   "source": [
    "TTV = pd.concat(TTVs)\n",
    "TTV.shape"
   ]
  },
  {
   "cell_type": "code",
   "execution_count": 17,
   "metadata": {},
   "outputs": [
    {
     "data": {
      "text/plain": [
       "Index(['C_AMD12', 'C_AMD23', 'C_AMD_max', 'Zcross12', 'Zcross13', 'Zcross23',\n",
       "       'maxj', 'maxk', 'maxi1', 'maxi2', 'maxstrength', 'secondres', 'EMmed12',\n",
       "       'EMmax12', 'EMdrift12', 'capseculartscale12', 'EMdetrendedstd12',\n",
       "       'EMrollingstd12', 'DiffcoeffEM12', 'medvarEM12', 'Zmed12', 'Zmax12',\n",
       "       'Zdetrendedstd12', 'Zrollingstd12', 'DiffcoeffZ12', 'medvarZ12',\n",
       "       'Zcomdrift12', 'Zcomrollingstd12', 'phiZcomdrift12',\n",
       "       'phiZcomrollingstd12', 'Zstardrift12', 'Zstarrollingstd12',\n",
       "       'Zcosphistd12', 'medZcosphi12', 'EMmed23', 'EMmax23', 'EMdrift23',\n",
       "       'capseculartscale23', 'EMdetrendedstd23', 'EMrollingstd23',\n",
       "       'DiffcoeffEM23', 'medvarEM23', 'Zmed23', 'Zmax23', 'Zdetrendedstd23',\n",
       "       'Zrollingstd23', 'DiffcoeffZ23', 'medvarZ23', 'Zcomdrift23',\n",
       "       'Zcomrollingstd23', 'phiZcomdrift23', 'phiZcomrollingstd23',\n",
       "       'Zstardrift23', 'Zstarrollingstd23', 'Zcosphistd23', 'medZcosphi23',\n",
       "       'tlyap', 'megno'],\n",
       "      dtype='object')"
      ]
     },
     "execution_count": 17,
     "metadata": {},
     "output_type": "execute_result"
    }
   ],
   "source": [
    "res.columns"
   ]
  },
  {
   "cell_type": "markdown",
   "metadata": {},
   "source": [
    "# max strength"
   ]
  },
  {
   "cell_type": "code",
   "execution_count": 37,
   "metadata": {},
   "outputs": [
    {
     "data": {
      "text/plain": [
       "<matplotlib.axes._subplots.AxesSubplot at 0x7f7b8ae7f390>"
      ]
     },
     "execution_count": 37,
     "metadata": {},
     "output_type": "execute_result"
    },
    {
     "data": {
      "image/png": "[encoded data removed]",
      "text/plain": [
       "<Figure size 432x288 with 1 Axes>"
      ]
     },
     "metadata": {
      "needs_background": "light"
     },
     "output_type": "display_data"
    }
   ],
   "source": [
    "np.log10(res['maxstrength'][res['maxstrength'] > 0]).hist(bins=20)"
   ]
  },
  {
   "cell_type": "code",
   "execution_count": 38,
   "metadata": {},
   "outputs": [
    {
     "data": {
      "text/plain": [
       "<matplotlib.axes._subplots.AxesSubplot at 0x7f7b8adae2b0>"
      ]
     },
     "execution_count": 38,
     "metadata": {},
     "output_type": "execute_result"
    },
    {
     "data": {
      "image/png": "[encoded data removed]",
      "text/plain": [
       "<Figure size 432x288 with 1 Axes>"
      ]
     },
     "metadata": {
      "needs_background": "light"
     },
     "output_type": "display_data"
    }
   ],
   "source": [
    "np.log10(TTV['maxstrength'][TTV['maxstrength'] > 0]).hist(bins=20)"
   ]
  },
  {
   "cell_type": "markdown",
   "metadata": {},
   "source": [
    "# Lyapunov Time"
   ]
  },
  {
   "cell_type": "code",
   "execution_count": 35,
   "metadata": {},
   "outputs": [
    {
     "data": {
      "text/plain": [
       "<matplotlib.axes._subplots.AxesSubplot at 0x7f7b8af8bcf8>"
      ]
     },
     "execution_count": 35,
     "metadata": {},
     "output_type": "execute_result"
    },
    {
     "data": {
      "image/png": "[encoded data removed]",
      "text/plain": [
       "<Figure size 432x288 with 1 Axes>"
      ]
     },
     "metadata": {
      "needs_background": "light"
     },
     "output_type": "display_data"
    }
   ],
   "source": [
    "np.log10(res['tlyap'][res['tlyap'] > 0]).hist(bins=20)"
   ]
  },
  {
   "cell_type": "code",
   "execution_count": 36,
   "metadata": {},
   "outputs": [
    {
     "data": {
      "text/plain": [
       "<matplotlib.axes._subplots.AxesSubplot at 0x7f7b8af09e10>"
      ]
     },
     "execution_count": 36,
     "metadata": {},
     "output_type": "execute_result"
    },
    {
     "data": {
      "image/png": "[encoded data removed]",
      "text/plain": [
       "<Figure size 432x288 with 1 Axes>"
      ]
     },
     "metadata": {
      "needs_background": "light"
     },
     "output_type": "display_data"
    }
   ],
   "source": [
    "np.log10(TTV['tlyap'][TTV['tlyap'] > 0]).hist(bins=20)"
   ]
  },
  {
   "cell_type": "markdown",
   "metadata": {},
   "source": [
    "# Zcross12"
   ]
  },
  {
   "cell_type": "code",
   "execution_count": 33,
   "metadata": {},
   "outputs": [
    {
     "data": {
      "text/plain": [
       "<matplotlib.axes._subplots.AxesSubplot at 0x7f7b8b0cf518>"
      ]
     },
     "execution_count": 33,
     "metadata": {},
     "output_type": "execute_result"
    },
    {
     "data": {
      "image/png": "[encoded data removed]",
      "text/plain": [
       "<Figure size 432x288 with 1 Axes>"
      ]
     },
     "metadata": {
      "needs_background": "light"
     },
     "output_type": "display_data"
    }
   ],
   "source": [
    "np.log10(res['Zcross12'][res['Zcross12'] > 0]).hist(bins=20)"
   ]
  },
  {
   "cell_type": "code",
   "execution_count": 34,
   "metadata": {},
   "outputs": [
    {
     "data": {
      "text/plain": [
       "<matplotlib.axes._subplots.AxesSubplot at 0x7f7b8afdfba8>"
      ]
     },
     "execution_count": 34,
     "metadata": {},
     "output_type": "execute_result"
    },
    {
     "data": {
      "image/png": "[encoded data removed]",
      "text/plain": [
       "<Figure size 432x288 with 1 Axes>"
      ]
     },
     "metadata": {
      "needs_background": "light"
     },
     "output_type": "display_data"
    }
   ],
   "source": [
    "np.log10(TTV['Zcross12'][TTV['Zcross12'] > 0]).hist(bins=20)"
   ]
  },
  {
   "cell_type": "markdown",
   "metadata": {},
   "source": [
    "# EM med"
   ]
  },
  {
   "cell_type": "code",
   "execution_count": 31,
   "metadata": {},
   "outputs": [
    {
     "data": {
      "text/plain": [
       "<matplotlib.axes._subplots.AxesSubplot at 0x7f7b8b1b7400>"
      ]
     },
     "execution_count": 31,
     "metadata": {},
     "output_type": "execute_result"
    },
    {
     "data": {
      "image/png": "[encoded data removed]",
      "text/plain": [
       "<Figure size 432x288 with 1 Axes>"
      ]
     },
     "metadata": {
      "needs_background": "light"
     },
     "output_type": "display_data"
    }
   ],
   "source": [
    "np.log10(res['EMmed12'][res['EMmed12'] > 0]).hist(bins=20)"
   ]
  },
  {
   "cell_type": "code",
   "execution_count": 32,
   "metadata": {},
   "outputs": [
    {
     "data": {
      "text/plain": [
       "<matplotlib.axes._subplots.AxesSubplot at 0x7f7b8b2143c8>"
      ]
     },
     "execution_count": 32,
     "metadata": {},
     "output_type": "execute_result"
    },
    {
     "data": {
      "image/png": "[encoded data removed]",
      "text/plain": [
       "<Figure size 432x288 with 1 Axes>"
      ]
     },
     "metadata": {
      "needs_background": "light"
     },
     "output_type": "display_data"
    }
   ],
   "source": [
    "np.log10(TTV['EMmed12'][TTV['EMmed12'] > 0]).hist(bins=20)"
   ]
  },
  {
   "cell_type": "markdown",
   "metadata": {},
   "source": [
    "# Diffusion Coefficient"
   ]
  },
  {
   "cell_type": "code",
   "execution_count": 29,
   "metadata": {},
   "outputs": [
    {
     "data": {
      "text/plain": [
       "<matplotlib.axes._subplots.AxesSubplot at 0x7f7b8b296860>"
      ]
     },
     "execution_count": 29,
     "metadata": {},
     "output_type": "execute_result"
    },
    {
     "data": {
      "image/png": "[encoded data removed]",
      "text/plain": [
       "<Figure size 432x288 with 1 Axes>"
      ]
     },
     "metadata": {
      "needs_background": "light"
     },
     "output_type": "display_data"
    }
   ],
   "source": [
    "np.log10(res['DiffcoeffZ12'][res['DiffcoeffZ12'] > 0]).hist(bins=20)"
   ]
  },
  {
   "cell_type": "code",
   "execution_count": 30,
   "metadata": {},
   "outputs": [
    {
     "data": {
      "text/plain": [
       "<matplotlib.axes._subplots.AxesSubplot at 0x7f7b8b38eeb8>"
      ]
     },
     "execution_count": 30,
     "metadata": {},
     "output_type": "execute_result"
    },
    {
     "data": {
      "image/png": "[encoded data removed]",
      "text/plain": [
       "<Figure size 432x288 with 1 Axes>"
      ]
     },
     "metadata": {
      "needs_background": "light"
     },
     "output_type": "display_data"
    }
   ],
   "source": [
    "np.log10(TTV['DiffcoeffZ12'][TTV['DiffcoeffZ12'] > 0]).hist(bins=20)"
   ]
  },
  {
   "cell_type": "markdown",
   "metadata": {},
   "source": [
    "# Zcomdrift"
   ]
  },
  {
   "cell_type": "code",
   "execution_count": 26,
   "metadata": {},
   "outputs": [
    {
     "data": {
      "text/plain": [
       "<matplotlib.axes._subplots.AxesSubplot at 0x7f7b8b3f3da0>"
      ]
     },
     "execution_count": 26,
     "metadata": {},
     "output_type": "execute_result"
    },
    {
     "data": {
      "image/png": "[encoded data removed]",
      "text/plain": [
       "<Figure size 432x288 with 1 Axes>"
      ]
     },
     "metadata": {
      "needs_background": "light"
     },
     "output_type": "display_data"
    }
   ],
   "source": [
    "np.log10(res['Zcomdrift12'][res['Zcomdrift12'] > 0]).hist(bins=20)"
   ]
  },
  {
   "cell_type": "code",
   "execution_count": 27,
   "metadata": {},
   "outputs": [
    {
     "data": {
      "text/plain": [
       "<matplotlib.axes._subplots.AxesSubplot at 0x7f7b8b44e2b0>"
      ]
     },
     "execution_count": 27,
     "metadata": {},
     "output_type": "execute_result"
    },
    {
     "data": {
      "image/png": "[encoded data removed]",
      "text/plain": [
       "<Figure size 432x288 with 1 Axes>"
      ]
     },
     "metadata": {
      "needs_background": "light"
     },
     "output_type": "display_data"
    }
   ],
   "source": [
    "np.log10(TTV['Zcomdrift12'][TTV['Zcomdrift12'] > 0]).hist(bins=20)"
   ]
  },
  {
   "cell_type": "code",
   "execution_count": null,
   "metadata": {},
   "outputs": [],
   "source": []
  }
 ],
 "metadata": {
  "kernelspec": {
   "display_name": "Python 3",
   "language": "python",
   "name": "python3"
  },
  "language_info": {
   "codemirror_mode": {
    "name": "ipython",
    "version": 3
   },
   "file_extension": ".py",
   "mimetype": "text/x-python",
   "name": "python",
   "nbconvert_exporter": "python",
   "pygments_lexer": "ipython3",
   "version": "3.7.3"
  }
 },
 "nbformat": 4,
 "nbformat_minor": 2
}
