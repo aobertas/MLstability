{
 "cells": [
  {
   "cell_type": "code",
   "execution_count": 1,
   "metadata": {},
   "outputs": [
    {
     "name": "stderr",
     "output_type": "stream",
     "text": [
      "/mnt/raid-cita/dtamayo/stability2/lib/python2.7/site-packages/sklearn/cross_validation.py:44: DeprecationWarning: This module was deprecated in version 0.18 in favor of the model_selection module into which all the refactored classes and functions are moved. Also note that the interface of the new CV iterators are different from that of this module. This module will be removed in 0.20.\n",
      "  \"This module will be removed in 0.20.\", DeprecationWarning)\n"
     ]
    }
   ],
   "source": [
    "import numpy as np\n",
    "import sklearn\n",
    "import matplotlib\n",
    "from matplotlib import pyplot as plt\n",
    "%matplotlib inline\n",
    "import pandas as pd\n",
    "from sklearn import metrics\n",
    "from sklearn.model_selection import cross_val_score\n",
    "from matplotlib import rc\n",
    "from matplotlib import cm\n",
    "from mpl_toolkits.mplot3d import axes3d\n",
    "from matplotlib.ticker import MaxNLocator\n",
    "import scipy.signal\n",
    "import xgboost as xgb\n",
    "from xgboost.sklearn import XGBClassifier\n"
   ]
  },
  {
   "cell_type": "code",
   "execution_count": 2,
   "metadata": {
    "scrolled": true
   },
   "outputs": [
    {
     "name": "stdout",
     "output_type": "stream",
     "text": [
      "['runstring' 't_final_short' 'Rel_Eerr_short' 'avg_beta12' 'std_beta12'\n",
      " 'min_beta12' 'max_beta12' 'avg_beta23' 'std_beta23' 'min_beta23'\n",
      " 'max_beta23' 'avg_a1' 'std_a1' 'max_a1' 'min_a1' 'norm_std_a1'\n",
      " 'norm_max_a1' 'norm_std_window10_a1' 'norm_max_window10_a1' 'avg_e1'\n",
      " 'std_e1' 'max_e1' 'min_e1' 'norm_std_e1' 'norm_max_e1'\n",
      " 'norm_std_window10_e1' 'norm_max_window10_e1' 'avg_inc1' 'std_inc1'\n",
      " 'max_inc1' 'min_inc1' 'norm_std_inc1' 'norm_max_inc1'\n",
      " 'norm_std_window10_inc1' 'norm_max_window10_inc1' 'avg_eH1' 'std_eH1'\n",
      " 'max_eH1' 'min_eH1' 'avg_iH1' 'std_iH1' 'max_iH1' 'min_iH1' 'avg_ecross1'\n",
      " 'std_ecross1' 'max_ecross1' 'min_ecross1' 'norm_a1_slope' 'avg_a2'\n",
      " 'std_a2' 'max_a2' 'min_a2' 'norm_std_a2' 'norm_max_a2'\n",
      " 'norm_std_window10_a2' 'norm_max_window10_a2' 'avg_e2' 'std_e2' 'max_e2'\n",
      " 'min_e2' 'norm_std_e2' 'norm_max_e2' 'norm_std_window10_e2'\n",
      " 'norm_max_window10_e2' 'avg_inc2' 'std_inc2' 'max_inc2' 'min_inc2'\n",
      " 'norm_std_inc2' 'norm_max_inc2' 'norm_std_window10_inc2'\n",
      " 'norm_max_window10_inc2' 'avg_eH2' 'std_eH2' 'max_eH2' 'min_eH2' 'avg_iH2'\n",
      " 'std_iH2' 'max_iH2' 'min_iH2' 'avg_ecross2' 'std_ecross2' 'max_ecross2'\n",
      " 'min_ecross2' 'norm_a2_slope' 'avg_a3' 'std_a3' 'max_a3' 'min_a3'\n",
      " 'norm_std_a3' 'norm_max_a3' 'norm_std_window10_a3' 'norm_max_window10_a3'\n",
      " 'avg_e3' 'std_e3' 'max_e3' 'min_e3' 'norm_std_e3' 'norm_max_e3'\n",
      " 'norm_std_window10_e3' 'norm_max_window10_e3' 'avg_inc3' 'std_inc3'\n",
      " 'max_inc3' 'min_inc3' 'norm_std_inc3' 'norm_max_inc3'\n",
      " 'norm_std_window10_inc3' 'norm_max_window10_inc3' 'avg_eH3' 'std_eH3'\n",
      " 'max_eH3' 'min_eH3' 'avg_iH3' 'std_iH3' 'max_iH3' 'min_iH3' 'avg_ecross3'\n",
      " 'std_ecross3' 'max_ecross3' 'min_ecross3' 'norm_a3_slope' 'wall_time'\n",
      " 'Stable' 'instability_time' 'Rel_Eerr']\n"
     ]
    }
   ],
   "source": [
    "dataset = pd.read_csv(\"../../csvs/BetaFeats/sifOrbsMore=10000.0Nout=100window=10.csv\", index_col = 0)\n",
    "print(dataset.columns.values)"
   ]
  },
  {
   "cell_type": "code",
   "execution_count": 3,
   "metadata": {},
   "outputs": [
    {
     "data": {
      "text/html": [
       "<div>\n",
       "<table border=\"1\" class=\"dataframe\">\n",
       "  <thead>\n",
       "    <tr style=\"text-align: right;\">\n",
       "      <th></th>\n",
       "      <th>avg_iH1</th>\n",
       "      <th>avg_iH2</th>\n",
       "      <th>norm_std_a1</th>\n",
       "      <th>norm_max_a1</th>\n",
       "      <th>norm_std_window10_a1</th>\n",
       "      <th>norm_max_window10_a1</th>\n",
       "      <th>norm_std_a2</th>\n",
       "      <th>norm_max_a2</th>\n",
       "      <th>norm_std_window10_a2</th>\n",
       "      <th>norm_max_window10_a2</th>\n",
       "      <th>...</th>\n",
       "      <th>norm_a2_slope</th>\n",
       "      <th>norm_a3_slope</th>\n",
       "      <th>avg_beta12</th>\n",
       "      <th>std_beta12</th>\n",
       "      <th>min_beta12</th>\n",
       "      <th>max_beta12</th>\n",
       "      <th>avg_beta23</th>\n",
       "      <th>std_beta23</th>\n",
       "      <th>min_beta23</th>\n",
       "      <th>max_beta23</th>\n",
       "    </tr>\n",
       "  </thead>\n",
       "  <tbody>\n",
       "    <tr>\n",
       "      <th>0</th>\n",
       "      <td>0.396282</td>\n",
       "      <td>0.481704</td>\n",
       "      <td>0.000329</td>\n",
       "      <td>0.001083</td>\n",
       "      <td>0.000214</td>\n",
       "      <td>0.000456</td>\n",
       "      <td>0.000701</td>\n",
       "      <td>0.001978</td>\n",
       "      <td>0.000446</td>\n",
       "      <td>0.000964</td>\n",
       "      <td>...</td>\n",
       "      <td>2.144832e-10</td>\n",
       "      <td>2.681898e-11</td>\n",
       "      <td>8.488064</td>\n",
       "      <td>0.048209</td>\n",
       "      <td>8.344623</td>\n",
       "      <td>8.551727</td>\n",
       "      <td>15.791595</td>\n",
       "      <td>0.085995</td>\n",
       "      <td>15.576612</td>\n",
       "      <td>16.019985</td>\n",
       "    </tr>\n",
       "    <tr>\n",
       "      <th>1</th>\n",
       "      <td>1.034575</td>\n",
       "      <td>0.823935</td>\n",
       "      <td>0.000739</td>\n",
       "      <td>0.002137</td>\n",
       "      <td>0.000202</td>\n",
       "      <td>0.000463</td>\n",
       "      <td>0.000200</td>\n",
       "      <td>0.000350</td>\n",
       "      <td>0.000226</td>\n",
       "      <td>0.000377</td>\n",
       "      <td>...</td>\n",
       "      <td>3.559377e-11</td>\n",
       "      <td>-9.314702e-11</td>\n",
       "      <td>8.414875</td>\n",
       "      <td>0.039142</td>\n",
       "      <td>8.308582</td>\n",
       "      <td>8.495900</td>\n",
       "      <td>15.314101</td>\n",
       "      <td>0.037065</td>\n",
       "      <td>15.254833</td>\n",
       "      <td>15.368196</td>\n",
       "    </tr>\n",
       "    <tr>\n",
       "      <th>2</th>\n",
       "      <td>0.440470</td>\n",
       "      <td>0.491261</td>\n",
       "      <td>0.001951</td>\n",
       "      <td>0.003550</td>\n",
       "      <td>0.001735</td>\n",
       "      <td>0.002860</td>\n",
       "      <td>0.002303</td>\n",
       "      <td>0.004034</td>\n",
       "      <td>0.002080</td>\n",
       "      <td>0.003409</td>\n",
       "      <td>...</td>\n",
       "      <td>-3.330088e-11</td>\n",
       "      <td>-4.095504e-11</td>\n",
       "      <td>3.566625</td>\n",
       "      <td>0.132349</td>\n",
       "      <td>3.331239</td>\n",
       "      <td>3.773868</td>\n",
       "      <td>25.113282</td>\n",
       "      <td>0.137779</td>\n",
       "      <td>24.898424</td>\n",
       "      <td>25.351948</td>\n",
       "    </tr>\n",
       "    <tr>\n",
       "      <th>3</th>\n",
       "      <td>0.432098</td>\n",
       "      <td>0.550624</td>\n",
       "      <td>0.000026</td>\n",
       "      <td>0.000120</td>\n",
       "      <td>0.000005</td>\n",
       "      <td>0.000009</td>\n",
       "      <td>0.000019</td>\n",
       "      <td>0.000050</td>\n",
       "      <td>0.000016</td>\n",
       "      <td>0.000041</td>\n",
       "      <td>...</td>\n",
       "      <td>7.816527e-13</td>\n",
       "      <td>-7.257099e-12</td>\n",
       "      <td>18.513867</td>\n",
       "      <td>0.003597</td>\n",
       "      <td>18.498104</td>\n",
       "      <td>18.521611</td>\n",
       "      <td>19.142029</td>\n",
       "      <td>0.008997</td>\n",
       "      <td>19.120348</td>\n",
       "      <td>19.156777</td>\n",
       "    </tr>\n",
       "    <tr>\n",
       "      <th>4</th>\n",
       "      <td>5.722053</td>\n",
       "      <td>17.442426</td>\n",
       "      <td>0.028284</td>\n",
       "      <td>0.063028</td>\n",
       "      <td>0.004313</td>\n",
       "      <td>0.010716</td>\n",
       "      <td>0.038832</td>\n",
       "      <td>0.160685</td>\n",
       "      <td>0.090892</td>\n",
       "      <td>0.112168</td>\n",
       "      <td>...</td>\n",
       "      <td>3.913858e-08</td>\n",
       "      <td>-2.610208e-08</td>\n",
       "      <td>23.314674</td>\n",
       "      <td>6.756316</td>\n",
       "      <td>3.957209</td>\n",
       "      <td>38.942908</td>\n",
       "      <td>-19.036068</td>\n",
       "      <td>5.544896</td>\n",
       "      <td>-21.930247</td>\n",
       "      <td>4.156005</td>\n",
       "    </tr>\n",
       "  </tbody>\n",
       "</table>\n",
       "<p>5 rows × 37 columns</p>\n",
       "</div>"
      ],
      "text/plain": [
       "    avg_iH1    avg_iH2  norm_std_a1  norm_max_a1  norm_std_window10_a1  \\\n",
       "0  0.396282   0.481704     0.000329     0.001083              0.000214   \n",
       "1  1.034575   0.823935     0.000739     0.002137              0.000202   \n",
       "2  0.440470   0.491261     0.001951     0.003550              0.001735   \n",
       "3  0.432098   0.550624     0.000026     0.000120              0.000005   \n",
       "4  5.722053  17.442426     0.028284     0.063028              0.004313   \n",
       "\n",
       "   norm_max_window10_a1  norm_std_a2  norm_max_a2  norm_std_window10_a2  \\\n",
       "0              0.000456     0.000701     0.001978              0.000446   \n",
       "1              0.000463     0.000200     0.000350              0.000226   \n",
       "2              0.002860     0.002303     0.004034              0.002080   \n",
       "3              0.000009     0.000019     0.000050              0.000016   \n",
       "4              0.010716     0.038832     0.160685              0.090892   \n",
       "\n",
       "   norm_max_window10_a2     ...      norm_a2_slope  norm_a3_slope  avg_beta12  \\\n",
       "0              0.000964     ...       2.144832e-10   2.681898e-11    8.488064   \n",
       "1              0.000377     ...       3.559377e-11  -9.314702e-11    8.414875   \n",
       "2              0.003409     ...      -3.330088e-11  -4.095504e-11    3.566625   \n",
       "3              0.000041     ...       7.816527e-13  -7.257099e-12   18.513867   \n",
       "4              0.112168     ...       3.913858e-08  -2.610208e-08   23.314674   \n",
       "\n",
       "   std_beta12  min_beta12  max_beta12  avg_beta23  std_beta23  min_beta23  \\\n",
       "0    0.048209    8.344623    8.551727   15.791595    0.085995   15.576612   \n",
       "1    0.039142    8.308582    8.495900   15.314101    0.037065   15.254833   \n",
       "2    0.132349    3.331239    3.773868   25.113282    0.137779   24.898424   \n",
       "3    0.003597   18.498104   18.521611   19.142029    0.008997   19.120348   \n",
       "4    6.756316    3.957209   38.942908  -19.036068    5.544896  -21.930247   \n",
       "\n",
       "   max_beta23  \n",
       "0   16.019985  \n",
       "1   15.368196  \n",
       "2   25.351948  \n",
       "3   19.156777  \n",
       "4    4.156005  \n",
       "\n",
       "[5 rows x 37 columns]"
      ]
     },
     "execution_count": 3,
     "metadata": {},
     "output_type": "execute_result"
    }
   ],
   "source": [
    "features = []\n",
    "features += ['avg_iH1', 'avg_iH2']\n",
    "features += ['norm_std_a1', 'norm_max_a1', 'norm_std_window10_a1', 'norm_max_window10_a1']\n",
    "features += ['norm_std_a2', 'norm_max_a2', 'norm_std_window10_a2', 'norm_max_window10_a2']\n",
    "features += ['norm_std_a3', 'norm_max_a3', 'norm_std_window10_a3', 'norm_max_window10_a3']\n",
    "features += ['avg_ecross1', 'std_ecross1', 'max_ecross1', 'min_ecross1']\n",
    "features += ['avg_ecross2', 'std_ecross2', 'max_ecross2', 'min_ecross2']\n",
    "features += ['avg_ecross3', 'std_ecross3', 'max_ecross3', 'min_ecross3']\n",
    "features += ['norm_a1_slope', 'norm_a2_slope', 'norm_a3_slope']\n",
    "features += ['avg_beta12','std_beta12','min_beta12','max_beta12','avg_beta23','std_beta23','min_beta23','max_beta23'] \n",
    "y = dataset['Stable']\n",
    "X = dataset[features]\n",
    "X.head()"
   ]
  },
  {
   "cell_type": "code",
   "execution_count": 27,
   "metadata": {},
   "outputs": [
    {
     "data": {
      "text/plain": [
       "(24999, 37)"
      ]
     },
     "execution_count": 27,
     "metadata": {},
     "output_type": "execute_result"
    }
   ],
   "source": [
    "X.shape"
   ]
  },
  {
   "cell_type": "code",
   "execution_count": 4,
   "metadata": {
    "collapsed": true
   },
   "outputs": [],
   "source": [
    "Nrows = int(0.8*X.shape[0])\n",
    "trainX = X.iloc[:Nrows, :]\n",
    "trainY = y.iloc[:Nrows]\n",
    "testX = X.iloc[Nrows:, :]\n",
    "testY = y.iloc[Nrows:]\n",
    "xgbc = XGBClassifier(seed = 0)"
   ]
  },
  {
   "cell_type": "code",
   "execution_count": 5,
   "metadata": {
    "collapsed": true
   },
   "outputs": [],
   "source": [
    "from hyperopt import hp, fmin, tpe, STATUS_OK, Trials"
   ]
  },
  {
   "cell_type": "code",
   "execution_count": 6,
   "metadata": {
    "collapsed": true
   },
   "outputs": [],
   "source": [
    "space ={\n",
    "        'max_depth': hp.randint('x_max_depth',  20),\n",
    "        'min_child_weight': hp.quniform ('x_min_child', 1, 10, 1),\n",
    "        'subsample': hp.uniform ('x_subsample', 0.8, 1),\n",
    "        'scale_pos_weight': hp.uniform(\"x_pos_weight\", 1, 15),\n",
    "        \"learning_rate\":hp.uniform(\"x_learning_rate\",0.01,0.2),\n",
    "        'colsample_bytree': hp.uniform ('x_tree_colsample', 0.5,1),\n",
    "}\n",
    "\n",
    "dtrain = xgb.DMatrix(trainX, trainY)\n",
    "dtest = xgb.DMatrix(testX, testY)\n",
    "def objective(space):\n",
    "\n",
    "    clf = XGBClassifier(n_estimators = 100, \n",
    "                            max_depth = space['max_depth'], \n",
    "                            min_child_weight =space['min_child_weight'],\n",
    "                            subsample = space['subsample'],\n",
    "                            colsample_bytree =space['colsample_bytree'],\n",
    "                            learning_rate = space['learning_rate'], seed = 0)\n",
    "    \n",
    "    params = clf.get_xgb_params()\n",
    "    #dtest\n",
    "    score = xgb.cv(params, dtrain, nfold = 5, metrics = \"auc\", early_stopping_rounds=10)\n",
    "    #print score\n",
    "    #score = cross_val_score(clf, trainX, trainY, cv = 5, scoring=\"average_precision\")\n",
    "    avg_score =  np.mean(score[\"test-auc-mean\"])\n",
    "    error = np.mean(score[\"test-auc-std\"])\n",
    "    \n",
    "    bst = xgb.train(params, dtrain)\n",
    "    preds = bst.predict(dtest)\n",
    "    test_score = metrics.roc_auc_score(testY, preds)\n",
    "    \n",
    "    print(\"SCORE:\", avg_score, \"ERROR\", error, \"HOLDOUT SCORE\", test_score)\n",
    "\n",
    "    return{'loss':1-test_score, 'status': STATUS_OK, \"cv_score\":avg_score , \"cv_error\":error, \"holdout\":test_score }"
   ]
  },
  {
   "cell_type": "code",
   "execution_count": 7,
   "metadata": {
    "scrolled": true
   },
   "outputs": [
    {
     "name": "stdout",
     "output_type": "stream",
     "text": [
      "('SCORE:', 0.97221832000000019, 'ERROR', 0.001080851188921425, 'HOLDOUT SCORE', 0.98031053416373448)\n",
      "('SCORE:', 0.97095432000000026, 'ERROR', 0.0019079383367278219, 'HOLDOUT SCORE', 0.97804672523085046)\n",
      "('SCORE:', 0.9717867, 'ERROR', 0.00081387524599429528, 'HOLDOUT SCORE', 0.98118418797196194)\n",
      "('SCORE:', 0.96170946000000002, 'ERROR', 0.0017171558950163251, 'HOLDOUT SCORE', 0.97130137721955223)\n",
      "('SCORE:', 0.97255205999999994, 'ERROR', 0.0013683460744315357, 'HOLDOUT SCORE', 0.97993612307158173)\n",
      "('SCORE:', 0.95886036000000008, 'ERROR', 0.0018177886863967913, 'HOLDOUT SCORE', 0.97243064262817314)\n",
      "('SCORE:', 0.97304224000000006, 'ERROR', 0.00099733332959203638, 'HOLDOUT SCORE', 0.98151134736217371)\n",
      "('SCORE:', 0.97168723999999995, 'ERROR', 0.0015036999705378346, 'HOLDOUT SCORE', 0.97967154705255788)\n",
      "('SCORE:', 0.97252242, 'ERROR', 0.0010323248628670652, 'HOLDOUT SCORE', 0.98177701251617155)\n",
      "('SCORE:', 0.96416114000000008, 'ERROR', 0.0017468384335053704, 'HOLDOUT SCORE', 0.97630218234163679)\n",
      "('SCORE:', 0.96934242000000004, 'ERROR', 0.0015316906347648774, 'HOLDOUT SCORE', 0.97952685966026687)\n",
      "('SCORE:', 0.9458658000000002, 'ERROR', 0.0032406193717915187, 'HOLDOUT SCORE', 0.96140884803199167)\n",
      "('SCORE:', 0.97127660000000005, 'ERROR', 0.0013794746910311753, 'HOLDOUT SCORE', 0.98177031014710192)\n",
      "('SCORE:', 0.94442191999999991, 'ERROR', 0.0027961596881123365, 'HOLDOUT SCORE', 0.96142443104007869)\n",
      "('SCORE:', 0.97138913999999998, 'ERROR', 0.0010576583428517686, 'HOLDOUT SCORE', 0.98051596177571887)\n",
      "('SCORE:', 0.97079340000000003, 'ERROR', 0.00094416820667964606, 'HOLDOUT SCORE', 0.98001219496052216)\n",
      "('SCORE:', 0.97147482000000007, 'ERROR', 0.0012693331328213753, 'HOLDOUT SCORE', 0.97935343586058998)\n",
      "('SCORE:', 0.90813126, 'ERROR', 0.0082127432383487763, 'HOLDOUT SCORE', 0.92336569851503991)\n",
      "('SCORE:', 0.96798396000000009, 'ERROR', 0.0015090521039866291, 'HOLDOUT SCORE', 0.97765405018298313)\n",
      "('SCORE:', 0.96977830000000009, 'ERROR', 0.001305766125991831, 'HOLDOUT SCORE', 0.98006824352186706)\n",
      "('SCORE:', 0.97094543999999983, 'ERROR', 0.00092750729785496633, 'HOLDOUT SCORE', 0.9806983499940265)\n",
      "('SCORE:', 0.97039194000000006, 'ERROR', 0.0009779735722451261, 'HOLDOUT SCORE', 0.98002492946175446)\n",
      "('SCORE:', 0.5, 'ERROR', 0.0, 'HOLDOUT SCORE', 0.5)\n",
      "('SCORE:', 0.97072567999999992, 'ERROR', 0.0010835488080283549, 'HOLDOUT SCORE', 0.98000817353908043)\n",
      "('SCORE:', 0.97326920000000006, 'ERROR', 0.00076033284576727388, 'HOLDOUT SCORE', 0.98198436705926362)\n",
      "('SCORE:', 0.97374646000000009, 'ERROR', 0.00055062508087890048, 'HOLDOUT SCORE', 0.98234470317637013)\n",
      "('SCORE:', 0.97343771999999995, 'ERROR', 0.00076993370519231859, 'HOLDOUT SCORE', 0.98169599763004234)\n",
      "('SCORE:', 0.97335296000000004, 'ERROR', 0.00049773171207972337, 'HOLDOUT SCORE', 0.98145873376497716)\n",
      "('SCORE:', 0.97275138000000005, 'ERROR', 0.0010803809629132742, 'HOLDOUT SCORE', 0.9804845444207051)\n",
      "('SCORE:', 0.97310654000000008, 'ERROR', 0.00074039613572329387, 'HOLDOUT SCORE', 0.98127207278638773)\n",
      "('SCORE:', 0.97349440000000009, 'ERROR', 0.0010136426705780719, 'HOLDOUT SCORE', 0.98226854750781611)\n",
      "('SCORE:', 0.97350106000000003, 'ERROR', 0.00076681827903272298, 'HOLDOUT SCORE', 0.98151763083317656)\n",
      "('SCORE:', 0.97392420000000013, 'ERROR', 0.0011731809376231653, 'HOLDOUT SCORE', 0.98159772414355861)\n",
      "('SCORE:', 0.97260042000000002, 'ERROR', 0.00080368948782829871, 'HOLDOUT SCORE', 0.98174953280298605)\n",
      "('SCORE:', 0.97326955999999998, 'ERROR', 0.001178438434058546, 'HOLDOUT SCORE', 0.98155281827079222)\n",
      "('SCORE:', 0.96991461999999995, 'ERROR', 0.00079334961988867332, 'HOLDOUT SCORE', 0.97829781273212191)\n",
      "('SCORE:', 0.9730357999999999, 'ERROR', 0.00069474977670612437, 'HOLDOUT SCORE', 0.98156907151578598)\n",
      "('SCORE:', 0.96136370000000004, 'ERROR', 0.001709467437578253, 'HOLDOUT SCORE', 0.97300000888063887)\n",
      "('SCORE:', 0.96469482000000006, 'ERROR', 0.0015574370718177159, 'HOLDOUT SCORE', 0.97352405036227141)\n",
      "('SCORE:', 0.9734300600000001, 'ERROR', 0.00065950670119092523, 'HOLDOUT SCORE', 0.98191935407928799)\n",
      "('SCORE:', 0.92994821999999977, 'ERROR', 0.0035446312842399843, 'HOLDOUT SCORE', 0.95163930731685897)\n",
      "('SCORE:', 0.97196187999999994, 'ERROR', 0.0011708685760083866, 'HOLDOUT SCORE', 0.98111565624822505)\n",
      "('SCORE:', 0.97313998000000002, 'ERROR', 0.001089977078603338, 'HOLDOUT SCORE', 0.98176628872566019)\n",
      "('SCORE:', 0.97379671999999995, 'ERROR', 0.00099966389209296203, 'HOLDOUT SCORE', 0.98130039029570693)\n",
      "('SCORE:', 0.5, 'ERROR', 0.0, 'HOLDOUT SCORE', 0.5)\n",
      "('SCORE:', 0.97329581999999992, 'ERROR', 0.00062654421090985071, 'HOLDOUT SCORE', 0.98163333047924117)\n",
      "('SCORE:', 0.97286532000000003, 'ERROR', 0.00087219198330868233, 'HOLDOUT SCORE', 0.98021921438516069)\n",
      "('SCORE:', 0.97229159999999992, 'ERROR', 0.0010883487928230315, 'HOLDOUT SCORE', 0.98110543513539372)\n",
      "('SCORE:', 0.97185783999999997, 'ERROR', 0.001238895441667709, 'HOLDOUT SCORE', 0.98157535498678883)\n",
      "('SCORE:', 0.97360165999999992, 'ERROR', 0.000973625714870322, 'HOLDOUT SCORE', 0.98122264281449889)\n",
      "CPU times: user 5min 15s, sys: 1.13 s, total: 5min 16s\n",
      "Wall time: 1min 23s\n"
     ]
    }
   ],
   "source": [
    "%%time\n",
    "trials = Trials()\n",
    "#import time\n",
    "#start = time.time()\n",
    "best = fmin(fn=objective, space = space, algo = tpe.suggest, max_evals = 50, trials = trials)\n",
    "#end = time.time()\n",
    "#print(\"Optimization Time: %f seconds\", (end  -start))"
   ]
  },
  {
   "cell_type": "code",
   "execution_count": 8,
   "metadata": {},
   "outputs": [
    {
     "data": {
      "text/plain": [
       "{'x_learning_rate': 0.15592750087015267,\n",
       " 'x_max_depth': 15,\n",
       " 'x_min_child': 9.0,\n",
       " 'x_pos_weight': 12.512385114703843,\n",
       " 'x_subsample': 0.9184409590241168,\n",
       " 'x_tree_colsample': 0.872793451406535}"
      ]
     },
     "execution_count": 8,
     "metadata": {},
     "output_type": "execute_result"
    }
   ],
   "source": [
    "#fit the smaller rage \n",
    "#{'x_learning_rate': 0.07419653015127085,\n",
    "# 'x_max_depth': 8,\n",
    "# 'x_min_child': 4.0,\n",
    "# 'x_pos_weight': 8.889472764333366,\n",
    "# 'x_subsample': 0.9380315392096068,\n",
    "# 'x_tree_colsample': 0.734517699234413}\n",
    "\n",
    "#{'x_learning_rate': 0.19890696372714528,\n",
    "# 'x_max_depth': 17,\n",
    "# 'x_min_child': 8.0,\n",
    "# 'x_pos_weight': 12.505309968632893,\n",
    "# 'x_subsample': 0.9409498631912948,\n",
    "# 'x_tree_colsample': 0.7528946858805113}\n",
    "\n",
    "best"
   ]
  },
  {
   "cell_type": "code",
   "execution_count": 9,
   "metadata": {},
   "outputs": [
    {
     "name": "stdout",
     "output_type": "stream",
     "text": [
      "0.971098775612\n"
     ]
    }
   ],
   "source": [
    "#switch to the traditional 80 20 slipt, dont know why i did the 40 60 split before\n",
    "Nrows = int(0.8*X.shape[0])\n",
    "trainX = X.iloc[:Nrows, :]\n",
    "trainY = y.iloc[:Nrows]\n",
    "testX = X.iloc[Nrows:, :]\n",
    "testY = y.iloc[Nrows:]\n",
    "\n",
    "\n",
    "\n",
    "best_xgbc = XGBClassifier(n_estimators=100, scale_pos_weight=best[\"x_pos_weight\"],\n",
    "                         learning_rate = best[\"x_learning_rate\"], \n",
    "                         max_depth = int(best[\"x_max_depth\"]), \n",
    "                         min_child_weight = best[\"x_min_child\"],\n",
    "                         subsample = best[\"x_subsample\"], \n",
    "                         colsample_bytree = best[\"x_tree_colsample\"])\n",
    "params = best_xgbc.get_xgb_params()\n",
    "#score = xgb.cv(params, dtrain, nfold = 5, metrics = \"auc\", verbose_eval=True)\n",
    "#print score\n",
    "d_Train = xgb.DMatrix(trainX, trainY)\n",
    "d_Test = xgb.DMatrix(testX)\n",
    "bst = xgb.train(params, d_Train)\n",
    "preds = bst.predict(d_Test)\n",
    "score = metrics.average_precision_score(testY, preds)\n",
    "print score"
   ]
  },
  {
   "cell_type": "code",
   "execution_count": 21,
   "metadata": {},
   "outputs": [
    {
     "name": "stdout",
     "output_type": "stream",
     "text": [
      "0.984791486785\n",
      "0.976523962852\n"
     ]
    }
   ],
   "source": [
    "#try testing on the holdout set with these parameters\n",
    "from sklearn.metrics import roc_auc_score\n",
    "\n",
    "    \n",
    "best_xgbc = XGBClassifier(n_estimators=100, scale_pos_weight=best[\"x_pos_weight\"],\n",
    "                         learning_rate = best[\"x_learning_rate\"], \n",
    "                         max_depth = int(best[\"x_max_depth\"]), \n",
    "                         min_child_weight = best[\"x_min_child\"],\n",
    "                         subsample = best[\"x_subsample\"], \n",
    "                         colsample_bytree = best[\"x_tree_colsample\"])\n",
    "\n",
    "best_xgbc.fit(trainX, trainY)\n",
    "preds = best_xgbc.predict_proba(testX)[:,1]\n",
    "auc_Score = roc_auc_score(testY,preds)\n",
    "print auc_Score\n",
    "print metrics.average_precision_score(testY, preds)"
   ]
  },
  {
   "cell_type": "code",
   "execution_count": 10,
   "metadata": {},
   "outputs": [
    {
     "name": "stdout",
     "output_type": "stream",
     "text": [
      "{'x_pos_weight': 12.512385114703843, 'x_learning_rate': 0.15592750087015267, 'x_max_depth': 15, 'x_min_child': 9.0, 'x_tree_colsample': 0.872793451406535, 'x_subsample': 0.9184409590241168}\n"
     ]
    }
   ],
   "source": [
    "print best"
   ]
  },
  {
   "cell_type": "code",
   "execution_count": 22,
   "metadata": {},
   "outputs": [
    {
     "data": {
      "text/plain": [
       "<matplotlib.text.Text at 0x7f7abc38ea90>"
      ]
     },
     "execution_count": 22,
     "metadata": {},
     "output_type": "execute_result"
    },
    {
     "data": {
      "image/png": "[encoded data removed]",
      "text/plain": [
       "<matplotlib.figure.Figure at 0x7f7abbfc9d50>"
      ]
     },
     "metadata": {},
     "output_type": "display_data"
    }
   ],
   "source": [
    "#the ROCAUC score is now 98.0 witht eh 2080 split compared to the 40 60 from before \n",
    "from sklearn.metrics import roc_curve\n",
    "fpr, tpr, thresholds = roc_curve(testY, preds)\n",
    "fig, ax = plt.subplots()\n",
    "ax.plot(fpr, tpr)\n",
    "ax.plot([0, 1], [0, 1], 'k--')\n",
    "ax.set_xlim([0.0, 1.0])\n",
    "ax.set_ylim([0.0, 1.0])\n",
    "ax.set_xlabel('False Positive Rate')\n",
    "ax.set_ylabel('True Positive Rate')\n",
    "ax.set_title('ROC curve (AUC = {0:.3f})'.format(metrics.roc_auc_score(testY, preds)))"
   ]
  },
  {
   "cell_type": "code",
   "execution_count": 23,
   "metadata": {},
   "outputs": [
    {
     "name": "stdout",
     "output_type": "stream",
     "text": [
      "Threshold 0.00365628558211, recall = 1.0, precision = 0.660073751257\n",
      "Threshold 0.00381530029699, recall = 0.998984255967, precision = 0.662735849057\n",
      "Threshold 0.00410725269467, recall = 0.998984255967, precision = 0.666102268879\n",
      "Threshold 0.00440591527149, recall = 0.998984255967, precision = 0.669503063308\n",
      "Threshold 0.0046800696291, recall = 0.998984255967, precision = 0.672938761546\n",
      "Threshold 0.00502813234925, recall = 0.998984255967, precision = 0.676409903714\n",
      "Threshold 0.00543888285756, recall = 0.998984255967, precision = 0.679917041134\n",
      "Threshold 0.00630022864789, recall = 0.998984255967, precision = 0.683460736623\n",
      "Threshold 0.00692441919819, recall = 0.997460639919, precision = 0.685993712889\n",
      "Threshold 0.0075089354068, recall = 0.997460639919, precision = 0.689606741573\n",
      "Threshold 0.00787142105401, recall = 0.997460639919, precision = 0.693258030357\n",
      "Threshold 0.00885096378624, recall = 0.997460639919, precision = 0.696948190206\n",
      "Threshold 0.0103139588609, recall = 0.997460639919, precision = 0.700677845166\n",
      "Threshold 0.0110861929134, recall = 0.997460639919, precision = 0.704447632712\n",
      "Threshold 0.0121182622388, recall = 0.996952767902, precision = 0.707897583844\n",
      "Threshold 0.0128038683906, recall = 0.996952767902, precision = 0.71174764322\n",
      "Threshold 0.0135783422738, recall = 0.996952767902, precision = 0.715639810427\n",
      "Threshold 0.0145552027971, recall = 0.996952767902, precision = 0.719574780059\n",
      "Threshold 0.015935221687, recall = 0.996952767902, precision = 0.723553262072\n",
      "Threshold 0.0175310373306, recall = 0.996952767902, precision = 0.727575982209\n",
      "Threshold 0.0197400823236, recall = 0.996952767902, precision = 0.731643682445\n",
      "Threshold 0.0227146986872, recall = 0.996444895886, precision = 0.735382308846\n",
      "Threshold 0.0246252603829, recall = 0.99593702387, precision = 0.739163211459\n",
      "Threshold 0.0266509093344, recall = 0.994921279837, precision = 0.742608036391\n",
      "Threshold 0.0291780438274, recall = 0.994921279837, precision = 0.746854746474\n",
      "Threshold 0.0322568044066, recall = 0.993905535805, precision = 0.750383435583\n",
      "Threshold 0.0350565724075, recall = 0.993397663789, precision = 0.754338603934\n",
      "Threshold 0.0389596484601, recall = 0.993397663789, precision = 0.758727695888\n",
      "Threshold 0.0437709651887, recall = 0.99187404774, precision = 0.761997658993\n",
      "Threshold 0.0474335961044, recall = 0.991366175724, precision = 0.766091051805\n",
      "Threshold 0.052793700248, recall = 0.989842559675, precision = 0.769443347809\n",
      "Threshold 0.0600311979651, recall = 0.989334687659, precision = 0.773629864972\n",
      "Threshold 0.06584225595, recall = 0.988318943626, precision = 0.777467039553\n",
      "Threshold 0.0739117413759, recall = 0.98781107161, precision = 0.781752411576\n",
      "Threshold 0.0823348462582, recall = 0.98781107161, precision = 0.786494136676\n",
      "Threshold 0.0926173627377, recall = 0.986795327577, precision = 0.790480065094\n",
      "Threshold 0.103716380894, recall = 0.986287455561, precision = 0.794924273434\n",
      "Threshold 0.112062469125, recall = 0.986287455561, precision = 0.799835255354\n",
      "Threshold 0.128099411726, recall = 0.985779583545, precision = 0.804392871944\n",
      "Threshold 0.143790766597, recall = 0.984763839512, precision = 0.808590492077\n",
      "Threshold 0.155066117644, recall = 0.984255967496, precision = 0.813260595888\n",
      "Threshold 0.169100388885, recall = 0.983240223464, precision = 0.817567567568\n",
      "Threshold 0.179170355201, recall = 0.982224479431, precision = 0.821929451764\n",
      "Threshold 0.203786835074, recall = 0.981208735399, precision = 0.826347305389\n",
      "Threshold 0.22363448143, recall = 0.980192991366, precision = 0.830822212656\n",
      "Threshold 0.246616616845, recall = 0.979177247334, precision = 0.835355285962\n",
      "Threshold 0.271012574434, recall = 0.978161503301, precision = 0.839947666812\n",
      "Threshold 0.295361757278, recall = 0.976637887252, precision = 0.844161545215\n",
      "Threshold 0.32438775897, recall = 0.973082783139, precision = 0.846663720725\n",
      "Threshold 0.354752719402, recall = 0.97155916709, precision = 0.850978647687\n",
      "Threshold 0.37813860178, recall = 0.970035551041, precision = 0.855351545007\n",
      "Threshold 0.413723737001, recall = 0.96749619096, precision = 0.858881875564\n",
      "Threshold 0.445926070213, recall = 0.964956830879, precision = 0.862460281434\n",
      "Threshold 0.470451742411, recall = 0.963941086846, precision = 0.867458866545\n",
      "Threshold 0.493813991547, recall = 0.961909598781, precision = 0.871606074551\n",
      "Threshold 0.513061285019, recall = 0.958354494667, precision = 0.874420759963\n",
      "Threshold 0.541154265404, recall = 0.956323006602, precision = 0.878674755016\n",
      "Threshold 0.560070574284, recall = 0.953783646521, precision = 0.882518796992\n",
      "Threshold 0.589538633823, recall = 0.95124428644, precision = 0.886417415996\n",
      "Threshold 0.620539069176, recall = 0.948197054342, precision = 0.889895138227\n",
      "Threshold 0.6377800107, recall = 0.946673438294, precision = 0.894863178108\n",
      "Threshold 0.659158408642, recall = 0.94311833418, precision = 0.897969052224\n",
      "Threshold 0.702833592892, recall = 0.940071102082, precision = 0.901607403799\n",
      "Threshold 0.72143214941, recall = 0.935500253936, precision = 0.903827281649\n",
      "Threshold 0.74087023735, recall = 0.932960893855, precision = 0.908057340583\n",
      "Threshold 0.770443797112, recall = 0.928390045708, precision = 0.910358565737\n",
      "Threshold 0.790817379951, recall = 0.92280345353, precision = 0.911690918214\n",
      "Threshold 0.816541075706, recall = 0.916708989335, precision = 0.912537917088\n",
      "Threshold 0.834571123123, recall = 0.912646013205, precision = 0.91543555782\n",
      "Threshold 0.844525814056, recall = 0.910106653123, precision = 0.919917864476\n",
      "Threshold 0.855383753777, recall = 0.90655154901, precision = 0.923435075013\n",
      "Threshold 0.867805123329, recall = 0.900457084815, precision = 0.924400417101\n",
      "Threshold 0.876315772533, recall = 0.896901980701, precision = 0.928008407777\n",
      "Threshold 0.886613428593, recall = 0.893854748603, precision = 0.932203389831\n",
      "Threshold 0.896940410137, recall = 0.889283900457, precision = 0.934863854778\n",
      "Threshold 0.906939089298, recall = 0.884713052311, precision = 0.937567276642\n",
      "Threshold 0.915565907955, recall = 0.879126460132, precision = 0.939229517092\n",
      "Threshold 0.920968234539, recall = 0.872524123921, precision = 0.939824945295\n",
      "Threshold 0.928440034389, recall = 0.866429659726, precision = 0.940981798125\n",
      "Threshold 0.933024823666, recall = 0.861350939563, precision = 0.943270300334\n",
      "Threshold 0.937433123589, recall = 0.855764347384, precision = 0.945036455412\n",
      "Threshold 0.941329598427, recall = 0.849669883189, precision = 0.946266968326\n",
      "Threshold 0.947049260139, recall = 0.845099035043, precision = 0.949229891614\n",
      "Threshold 0.950747966766, recall = 0.839004570848, precision = 0.950517836594\n",
      "Threshold 0.955234766006, recall = 0.832910106653, precision = 0.951828206616\n",
      "Threshold 0.957936942577, recall = 0.827323514474, precision = 0.9537470726\n",
      "Threshold 0.961831867695, recall = 0.822244794312, precision = 0.956290608387\n",
      "Threshold 0.964313685894, recall = 0.817673946166, precision = 0.95947556615\n",
      "Threshold 0.966938793659, recall = 0.811071609954, precision = 0.960312687913\n",
      "Threshold 0.968895494938, recall = 0.804977145759, precision = 0.96177184466\n",
      "Threshold 0.970962464809, recall = 0.79939055358, precision = 0.963870177587\n",
      "Threshold 0.972925245762, recall = 0.792280345353, precision = 0.964153275649\n",
      "Threshold 0.975027501583, recall = 0.787709497207, precision = 0.967560823456\n",
      "Threshold 0.976373195648, recall = 0.782630777044, precision = 0.97040302267\n",
      "Threshold 0.978126347065, recall = 0.776028440833, precision = 0.97139224412\n",
      "Threshold 0.980562448502, recall = 0.770441848654, precision = 0.973684210526\n",
      "Threshold 0.981617093086, recall = 0.763331640427, precision = 0.974076474401\n",
      "Threshold 0.983532905579, recall = 0.756221432199, precision = 0.974476439791\n",
      "Threshold 0.98455041647, recall = 0.750126968004, precision = 0.976206212822\n",
      "Threshold 0.985582590103, recall = 0.745556119858, precision = 0.97997329773\n",
      "Threshold 0.986768305302, recall = 0.73844591163, precision = 0.98044504383\n",
      "Threshold 0.988289117813, recall = 0.731843575419, precision = 0.981607629428\n",
      "Threshold 0.988861143589, recall = 0.724733367191, precision = 0.982105987612\n",
      "Threshold 0.989542603493, recall = 0.718638902996, precision = 0.984005563282\n",
      "Threshold 0.990552663803, recall = 0.711020822753, precision = 0.98383696416\n",
      "Threshold 0.991337418556, recall = 0.703402742509, precision = 0.983664772727\n",
      "Threshold 0.992243468761, recall = 0.697308278314, precision = 0.985642498205\n",
      "Threshold 0.992845594883, recall = 0.690705942103, precision = 0.986937590711\n",
      "Threshold 0.993288695812, recall = 0.683087861859, precision = 0.986793837124\n",
      "Threshold 0.993798553944, recall = 0.676485525648, precision = 0.988130563798\n",
      "Threshold 0.99420940876, recall = 0.668867445404, precision = 0.98799699925\n",
      "Threshold 0.994556903839, recall = 0.66124936516, precision = 0.987860394537\n",
      "Threshold 0.994899332523, recall = 0.653631284916, precision = 0.987720644666\n",
      "Threshold 0.995235383511, recall = 0.645505332656, precision = 0.987567987568\n",
      "Threshold 0.995524644852, recall = 0.638395124429, precision = 0.98820754717\n",
      "Threshold 0.995799124241, recall = 0.631284916201, precision = 0.988862370724\n",
      "Threshold 0.99613237381, recall = 0.62468257999, precision = 0.990338164251\n",
      "Threshold 0.996363699436, recall = 0.617064499746, precision = 0.9902200489\n",
      "Threshold 0.996660351753, recall = 0.609446419502, precision = 0.990099009901\n",
      "Threshold 0.997090339661, recall = 0.602336211275, precision = 0.990810359231\n",
      "Threshold 0.997320473194, recall = 0.594718131031, precision = 0.990693739425\n",
      "Threshold 0.9975040555, recall = 0.587100050787, precision = 0.99057412168\n",
      "Threshold 0.997638463974, recall = 0.579481970543, precision = 0.990451388889\n",
      "Threshold 0.997879385948, recall = 0.571356018283, precision = 0.990316901408\n",
      "Threshold 0.998031198978, recall = 0.564245810056, precision = 0.991079393399\n",
      "Threshold 0.998146057129, recall = 0.557135601828, precision = 0.991862567812\n",
      "Threshold 0.998253166676, recall = 0.549517521585, precision = 0.991750687443\n",
      "Threshold 0.998369991779, recall = 0.541899441341, precision = 0.991635687732\n",
      "Threshold 0.998457074165, recall = 0.534281361097, precision = 0.991517436381\n",
      "Threshold 0.998551666737, recall = 0.527171152869, precision = 0.992351816444\n",
      "Threshold 0.998652160168, recall = 0.519553072626, precision = 0.992240543162\n",
      "Threshold 0.998756170273, recall = 0.512442864398, precision = 0.99311023622\n",
      "Threshold 0.998836100101, recall = 0.504824784154, precision = 0.993006993007\n",
      "Threshold 0.998924553394, recall = 0.497206703911, precision = 0.992900608519\n",
      "Threshold 0.998986542225, recall = 0.489588623667, precision = 0.992790937178\n",
      "Threshold 0.99903857708, recall = 0.481462671407, precision = 0.992670157068\n",
      "Threshold 0.99909389019, recall = 0.474352463179, precision = 0.993617021277\n",
      "Threshold 0.999153494835, recall = 0.466734382936, precision = 0.993513513514\n",
      "Threshold 0.999197900295, recall = 0.459116302692, precision = 0.993406593407\n",
      "Threshold 0.999269902706, recall = 0.451498222448, precision = 0.994407158837\n",
      "Threshold 0.999314188957, recall = 0.443880142204, precision = 0.994311717861\n",
      "Threshold 0.999344885349, recall = 0.43626206196, precision = 0.994212962963\n",
      "Threshold 0.999377310276, recall = 0.428643981717, precision = 0.994110718492\n",
      "Threshold 0.999402046204, recall = 0.422041645505, precision = 0.996402877698\n",
      "Threshold 0.999426245689, recall = 0.414931437278, precision = 0.997557997558\n",
      "Threshold 0.999460279942, recall = 0.407313357034, precision = 0.997512437811\n",
      "Threshold 0.999494433403, recall = 0.399187404774, precision = 0.997461928934\n",
      "Threshold 0.999531269073, recall = 0.391061452514, precision = 0.997409326425\n",
      "Threshold 0.999555408955, recall = 0.384459116303, precision = 1.0\n",
      "Threshold 0.99957960844, recall = 0.376841036059, precision = 1.0\n",
      "Threshold 0.999611198902, recall = 0.369222955815, precision = 1.0\n",
      "Threshold 0.999631404877, recall = 0.361097003555, precision = 1.0\n",
      "Threshold 0.999653816223, recall = 0.353478923311, precision = 1.0\n",
      "Threshold 0.999664545059, recall = 0.345352971051, precision = 1.0\n",
      "Threshold 0.999682307243, recall = 0.337734890808, precision = 1.0\n",
      "Threshold 0.999706566334, recall = 0.329608938547, precision = 1.0\n",
      "Threshold 0.999725401402, recall = 0.321990858304, precision = 1.0\n",
      "Threshold 0.999736011028, recall = 0.31437277806, precision = 1.0\n",
      "Threshold 0.999753177166, recall = 0.3062468258, precision = 1.0\n",
      "Threshold 0.999767005444, recall = 0.29812087354, precision = 1.0\n",
      "Threshold 0.999782621861, recall = 0.28999492128, precision = 1.0\n",
      "Threshold 0.999797999859, recall = 0.28186896902, precision = 1.0\n",
      "Threshold 0.999810755253, recall = 0.27374301676, precision = 1.0\n",
      "Threshold 0.999823510647, recall = 0.2656170645, precision = 1.0\n",
      "Threshold 0.999835729599, recall = 0.256983240223, precision = 1.0\n",
      "Threshold 0.999846816063, recall = 0.246825799898, precision = 1.0\n",
      "Threshold 0.99985408783, recall = 0.237684103606, precision = 1.0\n",
      "Threshold 0.999864578247, recall = 0.230066023362, precision = 1.0\n",
      "Threshold 0.999871850014, recall = 0.221432199086, precision = 1.0\n",
      "Threshold 0.999881863594, recall = 0.211274758761, precision = 1.0\n",
      "Threshold 0.999888539314, recall = 0.202640934485, precision = 1.0\n",
      "Threshold 0.999893784523, recall = 0.192991366176, precision = 1.0\n",
      "Threshold 0.999900102615, recall = 0.184357541899, precision = 1.0\n",
      "Threshold 0.999905824661, recall = 0.174707973591, precision = 1.0\n",
      "Threshold 0.999910235405, recall = 0.165058405282, precision = 1.0\n",
      "Threshold 0.999915122986, recall = 0.155408836973, precision = 1.0\n",
      "Threshold 0.99992120266, recall = 0.145759268664, precision = 1.0\n",
      "Threshold 0.999926328659, recall = 0.135601828339, precision = 1.0\n",
      "Threshold 0.99993288517, recall = 0.127983748095, precision = 1.0\n",
      "Threshold 0.999938249588, recall = 0.118842051803, precision = 1.0\n",
      "Threshold 0.999940633774, recall = 0.111223971559, precision = 1.0\n",
      "Threshold 0.999948263168, recall = 0.102082275267, precision = 1.0\n",
      "Threshold 0.999952793121, recall = 0.0934484509904, precision = 1.0\n",
      "Threshold 0.999956965446, recall = 0.0832910106653, precision = 1.0\n",
      "Threshold 0.999961972237, recall = 0.0736414423565, precision = 1.0\n",
      "Threshold 0.999965429306, recall = 0.0650076180802, precision = 1.0\n",
      "Threshold 0.999968886375, recall = 0.054342305739, precision = 1.0\n",
      "Threshold 0.999972343445, recall = 0.0452006094464, precision = 1.0\n",
      "Threshold 0.999975562096, recall = 0.0350431691214, precision = 1.0\n",
      "Threshold 0.999979972839, recall = 0.0248857287963, precision = 1.0\n",
      "Threshold 0.999984145164, recall = 0.0126968004063, precision = 1.0\n",
      "Threshold 0.999988913536, recall = 0.00355510411376, precision = 1.0\n"
     ]
    }
   ],
   "source": [
    "precision, recall, thresholds = sklearn.metrics.precision_recall_curve(testY, preds)\n",
    "for i in range(0,len(recall), 15):\n",
    "    print(\"Threshold {0}, recall = {1}, precision = {2}\".format(thresholds[i], recall[i], precision[i]))"
   ]
  },
  {
   "cell_type": "code",
   "execution_count": 24,
   "metadata": {},
   "outputs": [
    {
     "name": "stdout",
     "output_type": "stream",
     "text": [
      "AUC Score (Test): 0.976524\n"
     ]
    },
    {
     "data": {
      "image/png": "[encoded data removed]",
      "text/plain": [
       "<matplotlib.figure.Figure at 0x7f7ac3e1f310>"
      ]
     },
     "metadata": {},
     "output_type": "display_data"
    }
   ],
   "source": [
    "#draw precison recall curve\n",
    "from sklearn import metrics\n",
    "from sklearn.metrics import precision_recall_curve\n",
    "precision, recall, thresholds = precision_recall_curve(testY, preds)\n",
    "fig, ax = plt.subplots()\n",
    "ax.plot(recall, precision)\n",
    "ax.set_xlim([0.0, 1.0])\n",
    "ax.set_ylim([0.0, 1.0])\n",
    "ax.set_xlabel('Recall')\n",
    "ax.set_ylabel('Precision')\n",
    "ax.set_title('Precision Recall Curve')\n",
    "print \"AUC Score (Test): %f\" % metrics.average_precision_score(testY, preds)\n",
    "plt.show()"
   ]
  },
  {
   "cell_type": "code",
   "execution_count": 25,
   "metadata": {},
   "outputs": [
    {
     "name": "stdout",
     "output_type": "stream",
     "text": [
      "[ 0.99903071  0.9999727   0.04143012  0.99985874  0.9997254 ]\n",
      "1969 3031\n",
      "[ 2314.   100.    47.    40.    29.    24.    14.    24.    22.     9.\n",
      "    13.    11.    13.     8.    11.     5.     6.     7.    12.     7.\n",
      "     6.     6.     3.    17.     7.     9.     6.    11.     6.     7.\n",
      "     6.    14.     6.     3.     6.     6.     9.     4.     5.     3.\n",
      "     4.    11.    14.    14.    13.     9.    13.    18.    35.    44.]\n",
      "[  6   7   8   3   3   1   0   4   3   1   3   1   2   4   0   6   2   3\n",
      "   3   3   2   3   2   1   6   6   3   5   2   7   2   4   7   2   1   9\n",
      "   6   6   8   7  15   8  14  14  17  30  42  52 105 756]\n"
     ]
    },
    {
     "data": {
      "text/plain": [
       "(0, 350)"
      ]
     },
     "execution_count": 25,
     "metadata": {},
     "output_type": "execute_result"
    },
    {
     "data": {
      "image/png": "[encoded data removed]",
      "text/plain": [
       "<matplotlib.figure.Figure at 0x7f7abbfadfd0>"
      ]
     },
     "metadata": {},
     "output_type": "display_data"
    }
   ],
   "source": [
    "# Histogram:\n",
    "bins = 50\n",
    "Stable=preds[np.where(testY==1)]\n",
    "print Stable[:5][:]\n",
    "Unstable=preds[np.where(testY==0)]\n",
    "print Stable.size, Unstable.size\n",
    "\n",
    "\n",
    "fig, ax1 = plt.subplots()\n",
    "n, bins, pathces = ax1.hist(Unstable, bins, alpha=0.5, label='No', color='blue', edgecolor = \"black\")\n",
    "print n\n",
    "ax1.set_xlabel('Predicted Probability', fontsize=14)\n",
    "ax1.set_ylabel('Unstable',  fontsize=14, color='blue')\n",
    "for tl in ax1.get_yticklabels():\n",
    "    tl.set_color('blue')\n",
    "    \n",
    "\n",
    "\n",
    "ax2 = ax1.twinx()\n",
    "n, bins , patches = ax2.hist(Stable, bins, alpha=0.5, label='Yes',color='green', edgecolor = \"black\")\n",
    "print n.astype(int)\n",
    "ax2.set_ylabel('Stable', fontsize=14, color='green')\n",
    "for tl in ax2.get_yticklabels():\n",
    "    tl.set_color('green')\n",
    "    \n",
    "    \n",
    "#ax1.set_ylim(ax2.get_ylim())\n",
    "ax1.set_ylim([0,350]) # goes up to ~4300\n",
    "ax2.set_ylim([0,350]) # goes up to ~2100"
   ]
  },
  {
   "cell_type": "code",
   "execution_count": 26,
   "metadata": {},
   "outputs": [
    {
     "data": {
      "image/png": "[encoded data removed]",
      "text/plain": [
       "<matplotlib.figure.Figure at 0x7f7abc4c9250>"
      ]
     },
     "metadata": {},
     "output_type": "display_data"
    }
   ],
   "source": [
    "# feature importances\n",
    "feat_imp = pd.Series(best_xgbc.booster().get_fscore()).sort_values(ascending=False)\n",
    "feat_imp.plot(kind='bar', title='Feature Importances', figsize=(12,8))\n",
    "plt.ylabel('Feature Importance Score')\n",
    "plt.show()"
   ]
  },
  {
   "cell_type": "code",
   "execution_count": 14,
   "metadata": {
    "collapsed": true
   },
   "outputs": [],
   "source": [
    "gains = bst.get_score(importance_type='gain')\n",
    "total_gains = np.sum(gains.values())\n",
    "#print gains.keys()\n",
    "#print gains.values()/total_gains*100.\n",
    "#print np.sum(gains.values()/total_gains*100.)\n",
    "a = {k: v / total_gains*100. for k, v in gains.iteritems()}"
   ]
  },
  {
   "cell_type": "code",
   "execution_count": 15,
   "metadata": {},
   "outputs": [
    {
     "name": "stdout",
     "output_type": "stream",
     "text": [
      "{'avg_iH2': 0.87692374002030626, 'std_ecross2': 1.4882839089064899, 'std_ecross3': 1.0148168299317517, 'norm_std_a3': 0.54976517810440728, 'norm_std_a2': 0.74018674514935412, 'norm_std_a1': 0.99868327005916901, 'max_beta23': 1.1221895142278895, 'std_beta12': 32.858571969269775, 'norm_std_window10_a1': 0.73054771826080822, 'norm_std_window10_a2': 0.61489884955028329, 'norm_std_window10_a3': 0.89702086153097527, 'avg_ecross3': 2.8130985912632132, 'avg_ecross2': 1.3798922505004456, 'avg_ecross1': 1.4180891494054624, 'avg_beta23': 0.75994495341415458, 'min_beta12': 1.2481145334277286, 'max_ecross1': 1.7249149013323317, 'max_ecross3': 2.0401254890396108, 'std_beta23': 6.1038019149038787, 'min_ecross1': 0.7171067453092288, 'norm_a3_slope': 0.97346574128306884, 'norm_a2_slope': 1.2983792462049091, 'avg_beta12': 0.84372003632729753, 'norm_max_a1': 0.87439724728813806, 'norm_max_a2': 12.85695243796739, 'norm_max_a3': 0.92095966689487385, 'max_beta12': 0.84571939712772526, 'max_ecross2': 13.57964193119896, 'min_ecross3': 0.69001555547612503, 'min_ecross2': 0.90621407524890452, 'norm_a1_slope': 0.8385194786519482, 'std_ecross1': 0.75249636373821371, 'avg_iH1': 0.93898484468659926, 'min_beta23': 1.0640432641697413, 'norm_max_window10_a1': 0.79640211401109662, 'norm_max_window10_a3': 0.70800697987826355, 'norm_max_window10_a2': 1.0151045062394686}\n"
     ]
    }
   ],
   "source": [
    "print a"
   ]
  },
  {
   "cell_type": "markdown",
   "metadata": {},
   "source": [
    "IGNORE THE REST, THIS IS FOR FURTHER OPTIMIZATION"
   ]
  },
  {
   "cell_type": "markdown",
   "metadata": {},
   "source": [
    "#continue optimization from where we left off\n",
    "#trials = Trials()\n",
    "import time\n",
    "start = time.time()\n",
    "best = fmin(fn=objective, space = space, algo = tpe.suggest, max_evals = 200, trials = trials)\n",
    "end = time.time()\n",
    "print(\"Optimization Time: %f seconds\", (end  -start))"
   ]
  },
  {
   "cell_type": "markdown",
   "metadata": {},
   "source": [
    "best"
   ]
  },
  {
   "cell_type": "markdown",
   "metadata": {},
   "source": [
    "#switch to the traditional 80 20 slipt, dont know why i did the 40 60 split before\n",
    "Nrows = int(0.8*X.shape[0])\n",
    "trainX = X.iloc[:Nrows, :]\n",
    "trainY = y.iloc[:Nrows]\n",
    "testX = X.iloc[Nrows:, :]\n",
    "testY = y.iloc[Nrows:]\n",
    "\n",
    "\n",
    "\n",
    "best_xgbc = XGBClassifier(n_estimators=100, scale_pos_weight=best[\"x_pos_weight\"],\n",
    "                         learning_rate = best[\"x_learning_rate\"], \n",
    "                         max_depth = int(best[\"x_max_depth\"]), \n",
    "                         min_child_weight = best[\"x_min_child\"],\n",
    "                         subsample = best[\"x_subsample\"], \n",
    "                         colsample_bytree = best[\"x_tree_colsample\"], seed = 0)\n",
    "params = best_xgbc.get_xgb_params()\n",
    "#score = xgb.cv(params, dtrain, nfold = 5, metrics = \"auc\", verbose_eval=True)\n",
    "#print score\n",
    "d_Train = xgb.DMatrix(trainX, trainY)\n",
    "d_Test = xgb.DMatrix(testX)\n",
    "bst = xgb.train(params, d_Train)\n",
    "preds = bst.predict(d_Test)\n",
    "score = metrics.average_precision_score(testY, preds)\n",
    "print score"
   ]
  },
  {
   "cell_type": "markdown",
   "metadata": {},
   "source": [
    "#the ROCAUC score is now 98.0 witht eh 2080 split compared to the 40 60 from before \n",
    "from sklearn.metrics import roc_curve\n",
    "fpr, tpr, thresholds = roc_curve(testY, preds)\n",
    "fig, ax = plt.subplots()\n",
    "ax.plot(fpr, tpr)\n",
    "ax.plot([0, 1], [0, 1], 'k--')\n",
    "ax.set_xlim([0.0, 1.0])\n",
    "ax.set_ylim([0.0, 1.0])\n",
    "ax.set_xlabel('False Positive Rate')\n",
    "ax.set_ylabel('True Positive Rate')\n",
    "ax.set_title('ROC curve (AUC = {0:.3f})'.format(metrics.roc_auc_score(testY, preds)))"
   ]
  },
  {
   "cell_type": "markdown",
   "metadata": {},
   "source": [
    "#continue optimization from where we left off\n",
    "#trials = Trials()\n",
    "#import time\n",
    "start = time.time()\n",
    "best = fmin(fn=objective, space = space, algo = tpe.suggest, max_evals = 200, trials = trials)\n",
    "end = time.time()\n",
    "print(\"Optimization Time: %f seconds\", (end  -start))"
   ]
  },
  {
   "cell_type": "markdown",
   "metadata": {},
   "source": [
    "print len(trials.trials)\n",
    "#for i in range(200)\n",
    "complete_results = [x[\"result\"][\"cv_score\"] for x in trials]\n",
    "print np.max(complete_results)\n",
    "#print trials.trials[\"result\"][\"cv_score\"]"
   ]
  },
  {
   "cell_type": "markdown",
   "metadata": {
    "collapsed": true
   },
   "source": [
    "#continue optimization from where we left off\n",
    "#trials = Trials()\n",
    "#import time\n",
    "start = time.time()\n",
    "best = fmin(fn=objective, space = space, algo = tpe.suggest, max_evals = 240, trials = trials)\n",
    "end = time.time()\n",
    "print(\"Optimization Time: %f seconds\", (end  -start))"
   ]
  },
  {
   "cell_type": "markdown",
   "metadata": {
    "collapsed": true
   },
   "source": [
    "best_xgbc = XGBClassifier(n_estimators=100, scale_pos_weight=best[\"x_pos_weight\"],\n",
    "                         learning_rate = best[\"x_learning_rate\"], \n",
    "                         max_depth = int(best[\"x_max_depth\"]), \n",
    "                         min_child_weight = best[\"x_min_child\"],\n",
    "                         subsample = best[\"x_subsample\"], \n",
    "                         colsample_bytree = best[\"x_tree_colsample\"], seed = 0)\n",
    "params = best_xgbc.get_xgb_params()"
   ]
  },
  {
   "cell_type": "markdown",
   "metadata": {},
   "source": [
    "bst = xgb.train(params, d_Train)\n",
    "preds = bst.predict(d_Test)\n",
    "score = metrics.average_precision_score(testY, preds)\n",
    "print score\n",
    "#the ROCAUC score is now 98.0 witht eh 2080 split compared to the 40 60 from before \n",
    "from sklearn.metrics import roc_curve\n",
    "fpr, tpr, thresholds = roc_curve(testY, preds)\n",
    "fig, ax = plt.subplots()\n",
    "ax.plot(fpr, tpr)\n",
    "ax.plot([0, 1], [0, 1], 'k--')\n",
    "ax.set_xlim([0.0, 1.0])\n",
    "ax.set_ylim([0.0, 1.0])\n",
    "ax.set_xlabel('False Positive Rate')\n",
    "ax.set_ylabel('True Positive Rate')\n",
    "ax.set_title('ROC curve (AUC = {0:.3f})'.format(metrics.roc_auc_score(testY, preds)))"
   ]
  },
  {
   "cell_type": "markdown",
   "metadata": {},
   "source": [
    "print best"
   ]
  },
  {
   "cell_type": "code",
   "execution_count": 25,
   "metadata": {
    "collapsed": true
   },
   "outputs": [],
   "source": [
    "import pickle\n",
    "pickle.dump(bst, open(\"../../Analysis/Testing/final.pkl\", \"wb\"))\n"
   ]
  },
  {
   "cell_type": "code",
   "execution_count": null,
   "metadata": {
    "collapsed": true
   },
   "outputs": [],
   "source": []
  }
 ],
 "metadata": {
  "anaconda-cloud": {},
  "kernelspec": {
   "display_name": "Python 2",
   "language": "python",
   "name": "python2"
  },
  "language_info": {
   "codemirror_mode": {
    "name": "ipython",
    "version": 2
   },
   "file_extension": ".py",
   "mimetype": "text/x-python",
   "name": "python",
   "nbconvert_exporter": "python",
   "pygments_lexer": "ipython2",
   "version": "2.7.13"
  }
 },
 "nbformat": 4,
 "nbformat_minor": 2
}
