{
 "cells": [
  {
   "cell_type": "code",
   "execution_count": 1,
   "metadata": {},
   "outputs": [],
   "source": [
    "import rebound\n",
    "import numpy as np\n",
    "import pandas as pd\n",
    "import dask.dataframe as dd\n",
    "from collections import OrderedDict\n",
    "from celmech.poincare import Poincare, PoincareHamiltonian\n",
    "from celmech import Andoyer, AndoyerHamiltonian\n",
    "from celmech.resonances import resonant_period_ratios, resonance_intersections_list, resonance_pratio_span\n",
    "from celmech.transformations import masses_to_jacobi\n",
    "import itertools\n",
    "import matplotlib.pyplot as plt\n",
    "%matplotlib inline"
   ]
  },
  {
   "cell_type": "markdown",
   "metadata": {},
   "source": [
    "Are initially closest Zcross planets always the ones that collide?\n"
   ]
  },
  {
   "cell_type": "code",
   "execution_count": 25,
   "metadata": {},
   "outputs": [],
   "source": [
    "path = '/mnt/ssd/Dropbox/Dropbox (Princeton)/workspace/stability/stabilitydataset/'\n",
    "TTVpath = 'data/TTVsystems/KOI-0314/simulation_archives/runs/sa'\n",
    "respath = 'data/resonant/simulation_archives/runs/sa'"
   ]
  },
  {
   "cell_type": "code",
   "execution_count": 26,
   "metadata": {},
   "outputs": [
    {
     "data": {
      "text/html": [
       "<div>\n",
       "<style scoped>\n",
       "    .dataframe tbody tr th:only-of-type {\n",
       "        vertical-align: middle;\n",
       "    }\n",
       "\n",
       "    .dataframe tbody tr th {\n",
       "        vertical-align: top;\n",
       "    }\n",
       "\n",
       "    .dataframe thead th {\n",
       "        text-align: right;\n",
       "    }\n",
       "</style>\n",
       "<table border=\"1\" class=\"dataframe\">\n",
       "  <thead>\n",
       "    <tr style=\"text-align: right;\">\n",
       "      <th></th>\n",
       "      <th>runstring</th>\n",
       "      <th>seed</th>\n",
       "      <th>pairindex</th>\n",
       "      <th>j</th>\n",
       "      <th>k</th>\n",
       "      <th>Zstar</th>\n",
       "      <th>libfac</th>\n",
       "      <th>Zcom</th>\n",
       "    </tr>\n",
       "  </thead>\n",
       "  <tbody>\n",
       "    <tr>\n",
       "      <th>0</th>\n",
       "      <td>0000000.bin</td>\n",
       "      <td>3500000</td>\n",
       "      <td>1</td>\n",
       "      <td>12</td>\n",
       "      <td>1</td>\n",
       "      <td>0.021650</td>\n",
       "      <td>0.007181</td>\n",
       "      <td>0.041669</td>\n",
       "    </tr>\n",
       "    <tr>\n",
       "      <th>1</th>\n",
       "      <td>0000001.bin</td>\n",
       "      <td>700001</td>\n",
       "      <td>1</td>\n",
       "      <td>19</td>\n",
       "      <td>2</td>\n",
       "      <td>0.060291</td>\n",
       "      <td>0.523204</td>\n",
       "      <td>0.010656</td>\n",
       "    </tr>\n",
       "    <tr>\n",
       "      <th>2</th>\n",
       "      <td>0000002.bin</td>\n",
       "      <td>2</td>\n",
       "      <td>0</td>\n",
       "      <td>6</td>\n",
       "      <td>1</td>\n",
       "      <td>0.026353</td>\n",
       "      <td>0.012995</td>\n",
       "      <td>0.050319</td>\n",
       "    </tr>\n",
       "    <tr>\n",
       "      <th>3</th>\n",
       "      <td>0000003.bin</td>\n",
       "      <td>2100003</td>\n",
       "      <td>0</td>\n",
       "      <td>5</td>\n",
       "      <td>2</td>\n",
       "      <td>0.023511</td>\n",
       "      <td>0.713415</td>\n",
       "      <td>0.102200</td>\n",
       "    </tr>\n",
       "    <tr>\n",
       "      <th>4</th>\n",
       "      <td>0000004.bin</td>\n",
       "      <td>700004</td>\n",
       "      <td>0</td>\n",
       "      <td>12</td>\n",
       "      <td>1</td>\n",
       "      <td>0.017473</td>\n",
       "      <td>0.003612</td>\n",
       "      <td>0.039803</td>\n",
       "    </tr>\n",
       "  </tbody>\n",
       "</table>\n",
       "</div>"
      ],
      "text/plain": [
       "     runstring     seed  pairindex   j  k     Zstar    libfac      Zcom\n",
       "0  0000000.bin  3500000          1  12  1  0.021650  0.007181  0.041669\n",
       "1  0000001.bin   700001          1  19  2  0.060291  0.523204  0.010656\n",
       "2  0000002.bin        2          0   6  1  0.026353  0.012995  0.050319\n",
       "3  0000003.bin  2100003          0   5  2  0.023511  0.713415  0.102200\n",
       "4  0000004.bin   700004          0  12  1  0.017473  0.003612  0.039803"
      ]
     },
     "execution_count": 26,
     "metadata": {},
     "output_type": "execute_result"
    }
   ],
   "source": [
    "df = pd.read_csv(path+'../MLstability/training_data/resonant/inputresonantparams.csv', index_col=0)\n",
    "df.head()"
   ]
  },
  {
   "cell_type": "code",
   "execution_count": 27,
   "metadata": {},
   "outputs": [],
   "source": [
    "def findres2(sim, i1, i2):\n",
    "    maxorder = 2\n",
    "    ps = Poincare.from_Simulation(sim=sim).particles # get averaged mean motions\n",
    "    n1 = ps[i1].n\n",
    "    n2 = ps[i2].n\n",
    "\n",
    "    m1 = ps[i1].m/ps[i1].M\n",
    "    m2 = ps[i2].m/ps[i2].M\n",
    "\n",
    "    Pratio = n2/n1\n",
    "    if np.isnan(Pratio): # probably due to close encounter where averaging step doesn't converge \n",
    "        return np.nan, np.nan, np.nan\n",
    "\n",
    "    delta = 0.03\n",
    "    minperiodratio = max(Pratio-delta, 0.)\n",
    "    maxperiodratio = min(Pratio+delta, 0.999) # too many resonances close to 1\n",
    "    res = resonant_period_ratios(minperiodratio,maxperiodratio, order=2)\n",
    "    \n",
    "    Z = np.sqrt((ps[i1].e*np.cos(ps[i1].pomega) - ps[i2].e*np.cos(ps[i2].pomega))**2 + (ps[i1].e*np.sin(ps[i1].pomega) - ps[i2].e*np.sin(ps[i2].pomega))**2)\n",
    "    Zcross = (ps[i2].a-ps[i1].a)/ps[i1].a\n",
    "        \n",
    "    j, k, i1, i2, maxstrength = -1, -1, -1, -1, -1\n",
    "    for a, b in res:\n",
    "        s = np.abs(np.sqrt(m1+m2)*(Z/Zcross)**((b-a)/2.)/((b*n2 - a*n1)/n1))\n",
    "        #print('{0}:{1}'.format(b, a), (b*n2 - a*n1), s)\n",
    "        if s > maxstrength:\n",
    "            j = b\n",
    "            k = b-a\n",
    "            maxstrength = s\n",
    "\n",
    "    return j, k, maxstrength"
   ]
  },
  {
   "cell_type": "code",
   "execution_count": 34,
   "metadata": {},
   "outputs": [],
   "source": [
    "def testwhichcollide(row, unstable=[], Zcross=[], emZc=[], beta=[], strengths=[], col13=[]):\n",
    "    try:\n",
    "        sa = rebound.SimulationArchive(path+respath+row['runstring'])\n",
    "    except:\n",
    "        print(path+respath+row['runstring'])\n",
    "        return unstable, Zcross, emZc, beta, strengths, col13\n",
    "\n",
    "    ID = row.name\n",
    "    simf = sa[-1]\n",
    "    tinst = simf.t\n",
    "    if tinst > 9.98e8:\n",
    "        return unstable, Zcross, emZc, beta, strengths, col13\n",
    "    else:\n",
    "        unstable.append(ID)\n",
    "      \n",
    "    N = simf.N\n",
    "    ps = simf.particles\n",
    "    mindRH = 100.\n",
    "    for i, [i1, i2] in enumerate(itertools.combinations(np.arange(1, N), 2)):\n",
    "        i1 = int(i1)\n",
    "        i2 = int(i2)\n",
    "        d = np.sqrt((ps[i1].x-ps[i2].x)**2 + (ps[i1].y-ps[i2].y)**2 + (ps[i1].z-ps[i2].z)**2)\n",
    "        RH = ps[i1].a*((ps[i1].m + ps[i2].m)/ps[0].m)**(1./3.)\n",
    "        if d/RH < mindRH:\n",
    "            dRHi = [i1, i2] # two indices that collided\n",
    "            mindRH = d/RH\n",
    "    #print(ID, dRHi)\n",
    "         \n",
    "    sim = sa[0]\n",
    "    \n",
    "    if dRHi == [1,3]:\n",
    "        #print(ID, np.log10(simf.t), sim.particles[3].P/sim.particles[1].P)\n",
    "        col13.append(ID)\n",
    "   \n",
    "    #Zc, RH, beta, eZcs = np.zeros(3), np.zeros(3), np.zeros(3), np.zeros(3)\n",
    "    N = sim.N\n",
    "    ps = sim.particles\n",
    "    \n",
    "    minZcross = 1.\n",
    "    maxemZc = 0.\n",
    "    minbeta = 20.\n",
    "    maxstrength = 0.\n",
    "    strengthi = [0,0]\n",
    "    for i, [i1, i2] in enumerate(itertools.combinations(np.arange(1, N), 2)):\n",
    "        i1 = int(i1)\n",
    "        i2 = int(i2)\n",
    "        j, k, strength = findres2(sim, i1, i2) # max strength between i1 and i2\n",
    "        Zc = (ps[i2].a-ps[i1].a)/ps[i1].a\n",
    "        RH = ps[i1].a*((ps[i1].m + ps[i2].m)/ps[0].m)**(1./3.)\n",
    "        b = (ps[i2].a-ps[i1].a)/RH\n",
    "        eZc = np.sqrt((ps[i2].e*np.cos(ps[i2].pomega)-ps[i1].e*np.cos(ps[i1].pomega))**2 + (ps[i2].e*np.sin(ps[i2].pomega)-ps[i1].e*np.sin(ps[i1].pomega))**2)/Zc\n",
    "        if Zc < minZcross:\n",
    "            Zcrossi = [i1, i2]\n",
    "            minZcross = Zc\n",
    "        if eZc > maxemZc:\n",
    "            emZci = [i1, i2]\n",
    "            maxemZc = eZc\n",
    "        if b < minbeta:\n",
    "            betai = [i1, i2]\n",
    "            minbeta = b\n",
    "        if strength > maxstrength:\n",
    "            strengthi = [i1, i2]\n",
    "            maxstrength = strength\n",
    "        #print(i1, i2, Zc, eZc, beta, strength)\n",
    "    #print(Zcrossi, emZci, betai)\n",
    "    \n",
    "    if Zcrossi == dRHi:\n",
    "        Zcross.append(ID)\n",
    "    if emZci == dRHi:\n",
    "        emZc.append(ID)\n",
    "    if betai == dRHi:\n",
    "        beta.append(ID)\n",
    "    if strengthi == dRHi:\n",
    "        strengths.append(ID)\n",
    "    return unstable, Zcross, emZc, beta, strengths, col13"
   ]
  },
  {
   "cell_type": "markdown",
   "metadata": {},
   "source": [
    "# Print out ID, log inst time and Period ratio of 1 and 3 in systems where non-adjacent planets collide (1 and 3)"
   ]
  },
  {
   "cell_type": "code",
   "execution_count": 35,
   "metadata": {},
   "outputs": [
    {
     "name": "stdout",
     "output_type": "stream",
     "text": [
      "/mnt/ssd/Dropbox/Dropbox (Princeton)/workspace/stability/stabilitydataset/data/resonant/simulation_archives/runs/sa0002058.bin\n"
     ]
    }
   ],
   "source": [
    "Nsystems = 10000\n",
    "unstable = []\n",
    "Zcross = []\n",
    "emZc = []\n",
    "beta = []\n",
    "strengths = []\n",
    "col13 = []\n",
    "for i, row in df.iterrows():\n",
    "    unstable, Zcross, emZc, beta, strengths, col13 = testwhichcollide(row, unstable, Zcross, emZc, beta, strengths, col13)"
   ]
  },
  {
   "cell_type": "markdown",
   "metadata": {},
   "source": [
    "# Best predictor of which pair will collide is what pair initially has the smallest Zcross, but only gets its right 75\\% of the time"
   ]
  },
  {
   "cell_type": "code",
   "execution_count": 36,
   "metadata": {},
   "outputs": [
    {
     "name": "stdout",
     "output_type": "stream",
     "text": [
      "Fraction whose pair of colliding planets were the pair with smallest Zcross initially: 0.7436486486486487\n",
      "Fraction whose pair of colliding planets were the pair with largest Z/Zcross initially: 0.6733783783783783\n",
      "Fraction whose pair of colliding planets were the pair with smallest mutual Hill radius separation initially: 0.6543243243243243\n",
      "Fraction whose pair of colliding planets were the pair with strongest resonance initially: 0.5632432432432433\n"
     ]
    }
   ],
   "source": [
    "Nunstable = len(unstable)\n",
    "print('Fraction whose pair of colliding planets were the pair with smallest Zcross initially:', len(Zcross)/Nunstable)\n",
    "print('Fraction whose pair of colliding planets were the pair with largest Z/Zcross initially:', len(emZc)/Nunstable)\n",
    "print('Fraction whose pair of colliding planets were the pair with smallest mutual Hill radius separation initially:', len(beta)/Nunstable)\n",
    "print('Fraction whose pair of colliding planets were the pair with strongest resonance initially:', len(strengths)/Nunstable)"
   ]
  },
  {
   "cell_type": "markdown",
   "metadata": {},
   "source": [
    "# In 1\\% of cases, the non-adjacent planets collided"
   ]
  },
  {
   "cell_type": "code",
   "execution_count": 37,
   "metadata": {},
   "outputs": [
    {
     "name": "stdout",
     "output_type": "stream",
     "text": [
      "Fraction whose pair of colliding planets were not adjacent (1 and 3) 0.008243243243243244\n"
     ]
    }
   ],
   "source": [
    "print('Fraction whose pair of colliding planets were not adjacent (1 and 3)', len(col13)/Nunstable)"
   ]
  },
  {
   "cell_type": "markdown",
   "metadata": {},
   "source": [
    "# Of those 61 cases, only 3 were ones where 1 and 3 were the ones initialized in resonance"
   ]
  },
  {
   "cell_type": "code",
   "execution_count": 40,
   "metadata": {},
   "outputs": [
    {
     "data": {
      "text/plain": [
       "3"
      ]
     },
     "execution_count": 40,
     "metadata": {},
     "output_type": "execute_result"
    }
   ],
   "source": [
    "(df.loc[col13]['pairindex'] == 2).sum()"
   ]
  },
  {
   "cell_type": "markdown",
   "metadata": {},
   "source": [
    "# Is the reason that max strength is not a good predictor of which planets cross because many systems were set up with resonance between 1 and 3?\n",
    "\n",
    "No, see below"
   ]
  },
  {
   "cell_type": "markdown",
   "metadata": {},
   "source": [
    "# Only 614/10000 = 6\\% are set up with resonance between 1 and 3\n",
    "\n",
    "pairindex = 2 means resonance between 1 and 3"
   ]
  },
  {
   "cell_type": "code",
   "execution_count": 41,
   "metadata": {},
   "outputs": [
    {
     "data": {
      "text/plain": [
       "614"
      ]
     },
     "execution_count": 41,
     "metadata": {},
     "output_type": "execute_result"
    }
   ],
   "source": [
    "(df['pairindex'] == 2).sum()"
   ]
  },
  {
   "cell_type": "markdown",
   "metadata": {},
   "source": [
    "# Excluding systems set up with res between 1 and 3 improves maxstrength's ability to predict which pair collides, as expected, but only slightly. \n",
    "\n",
    "# Means we have many systems where a strong resonance protects that pair,  and it's the third planet that suffers the collision"
   ]
  },
  {
   "cell_type": "code",
   "execution_count": 43,
   "metadata": {},
   "outputs": [
    {
     "name": "stdout",
     "output_type": "stream",
     "text": [
      "/mnt/ssd/Dropbox/Dropbox (Princeton)/workspace/stability/stabilitydataset/data/resonant/simulation_archives/runs/sa0002058.bin\n"
     ]
    }
   ],
   "source": [
    "Nsystems = 10000\n",
    "unstable = []\n",
    "Zcross = []\n",
    "emZc = []\n",
    "beta = []\n",
    "strengths = []\n",
    "col13 = []\n",
    "for i, row in df.iterrows():\n",
    "    if row['pairindex'] == 2:\n",
    "        continue\n",
    "    unstable, Zcross, emZc, beta, strengths, col13 = testwhichcollide(row, unstable, Zcross, emZc, beta, strengths, col13)"
   ]
  },
  {
   "cell_type": "code",
   "execution_count": 45,
   "metadata": {},
   "outputs": [
    {
     "name": "stdout",
     "output_type": "stream",
     "text": [
      "Fraction whose pair of colliding planets were the pair with smallest Zcross initially: 0.7467172454041435\n",
      "Fraction whose pair of colliding planets were the pair with largest Z/Zcross initially: 0.6692442369419317\n",
      "Fraction whose pair of colliding planets were the pair with smallest mutual Hill radius separation initially: 0.664283629997082\n",
      "Fraction whose pair of colliding planets were the pair with strongest resonance initially: 0.6025678435949811\n"
     ]
    }
   ],
   "source": [
    "Nunstable = len(unstable)\n",
    "print('Fraction whose pair of colliding planets were the pair with smallest Zcross initially:', len(Zcross)/Nunstable)\n",
    "print('Fraction whose pair of colliding planets were the pair with largest Z/Zcross initially:', len(emZc)/Nunstable)\n",
    "print('Fraction whose pair of colliding planets were the pair with smallest mutual Hill radius separation initially:', len(beta)/Nunstable)\n",
    "print('Fraction whose pair of colliding planets were the pair with strongest resonance initially:', len(strengths)/Nunstable)"
   ]
  },
  {
   "cell_type": "markdown",
   "metadata": {},
   "source": [
    "# Good example of a system where closest Hill radius pair near a strong resonance is not the pair that collides"
   ]
  },
  {
   "cell_type": "code",
   "execution_count": 96,
   "metadata": {},
   "outputs": [
    {
     "name": "stdout",
     "output_type": "stream",
     "text": [
      "98716780.65077779\n"
     ]
    }
   ],
   "source": [
    "sa = rebound.SimulationArchive(path+respath+'0000018.bin')\n",
    "tmax = sa[1].t\n",
    "sim = sa[0]\n",
    "\n",
    "P12 = []\n",
    "P23 = []\n",
    "ts = []\n",
    "print(sa[-1].t)\n",
    "for sim in sa:\n",
    "    ps = sim.particles\n",
    "    P12.append(ps[2].P/ps[1].P)\n",
    "    P23.append(ps[3].P/ps[2].P)\n",
    "    ts.append(sim.t)"
   ]
  },
  {
   "cell_type": "code",
   "execution_count": 98,
   "metadata": {},
   "outputs": [
    {
     "data": {
      "text/plain": [
       "<matplotlib.legend.Legend at 0x7f1166a17550>"
      ]
     },
     "execution_count": 98,
     "metadata": {},
     "output_type": "execute_result"
    },
    {
     "data": {
      "image/png": "[encoded data removed]",
      "text/plain": [
       "<Figure size 432x288 with 1 Axes>"
      ]
     },
     "metadata": {
      "needs_background": "light"
     },
     "output_type": "display_data"
    }
   ],
   "source": [
    "fig, ax = plt.subplots()\n",
    "ax.plot(ts, P12, '.', label='12')\n",
    "ax.plot(ts, P23, '.', label='23')\n",
    "ax.set_xscale('log')\n",
    "ax.legend()"
   ]
  },
  {
   "cell_type": "code",
   "execution_count": 116,
   "metadata": {},
   "outputs": [
    {
     "data": {
      "image/png": "[encoded data removed]",
      "text/plain": [
       "<Figure size 360x360 with 1 Axes>"
      ]
     },
     "metadata": {
      "needs_background": "light"
     },
     "output_type": "display_data"
    }
   ],
   "source": [
    "fig = rebound.OrbitPlot(sa[99])"
   ]
  },
  {
   "cell_type": "code",
   "execution_count": 12,
   "metadata": {},
   "outputs": [
    {
     "name": "stdout",
     "output_type": "stream",
     "text": [
      "98716780.65077779\n",
      "98716780.65077779\n"
     ]
    },
    {
     "data": {
      "text/plain": [
       "(1, 0, 1, 0, 0, 0)"
      ]
     },
     "execution_count": 12,
     "metadata": {},
     "output_type": "execute_result"
    }
   ],
   "source": [
    "testwhichcollide(18)"
   ]
  },
  {
   "cell_type": "markdown",
   "metadata": {},
   "source": [
    "# Example of 1 and 3 colliding, after 8.93e8 orbits!"
   ]
  },
  {
   "cell_type": "code",
   "execution_count": 147,
   "metadata": {},
   "outputs": [
    {
     "name": "stdout",
     "output_type": "stream",
     "text": [
      "864265896.1094736\n"
     ]
    }
   ],
   "source": [
    "sa = rebound.SimulationArchive(path+respath+'0000861.bin')\n",
    "tmax = sa[1].t\n",
    "sim = sa[0]\n",
    "\n",
    "P12 = []\n",
    "P23 = []\n",
    "P13 = []\n",
    "ts = []\n",
    "print(sa[-1].t)\n",
    "for sim in sa:\n",
    "    ps = sim.particles\n",
    "    P12.append(ps[2].P/ps[1].P)\n",
    "    P23.append(ps[3].P/ps[2].P)\n",
    "    P13.append(ps[3].P/ps[1].P)\n",
    "    ts.append(sim.t)"
   ]
  },
  {
   "cell_type": "code",
   "execution_count": 148,
   "metadata": {},
   "outputs": [
    {
     "data": {
      "text/plain": [
       "<matplotlib.legend.Legend at 0x7f11665c8208>"
      ]
     },
     "execution_count": 148,
     "metadata": {},
     "output_type": "execute_result"
    },
    {
     "data": {
      "image/png": "[encoded data removed]",
      "text/plain": [
       "<Figure size 432x288 with 1 Axes>"
      ]
     },
     "metadata": {
      "needs_background": "light"
     },
     "output_type": "display_data"
    }
   ],
   "source": [
    "fig, ax = plt.subplots()\n",
    "ax.plot(ts, P12, '.', label='12')\n",
    "ax.plot(ts, P23, '.', label='23')\n",
    "ax.plot(ts, P13, '.', label='13')\n",
    "ax.set_xscale('log')\n",
    "ax.legend()"
   ]
  },
  {
   "cell_type": "code",
   "execution_count": 149,
   "metadata": {},
   "outputs": [
    {
     "data": {
      "image/png": "[encoded data removed]",
      "text/plain": [
       "<Figure size 360x360 with 1 Axes>"
      ]
     },
     "metadata": {
      "needs_background": "light"
     },
     "output_type": "display_data"
    }
   ],
   "source": [
    "fig = rebound.OrbitPlot(sa[0])"
   ]
  },
  {
   "cell_type": "code",
   "execution_count": 155,
   "metadata": {},
   "outputs": [
    {
     "data": {
      "image/png": "[encoded data removed]",
      "text/plain": [
       "<Figure size 360x360 with 1 Axes>"
      ]
     },
     "metadata": {
      "needs_background": "light"
     },
     "output_type": "display_data"
    }
   ],
   "source": [
    "fig = rebound.OrbitPlot(sa[-2])"
   ]
  },
  {
   "cell_type": "code",
   "execution_count": null,
   "metadata": {},
   "outputs": [],
   "source": []
  }
 ],
 "metadata": {
  "kernelspec": {
   "display_name": "Python 3",
   "language": "python",
   "name": "python3"
  },
  "language_info": {
   "codemirror_mode": {
    "name": "ipython",
    "version": 3
   },
   "file_extension": ".py",
   "mimetype": "text/x-python",
   "name": "python",
   "nbconvert_exporter": "python",
   "pygments_lexer": "ipython3",
   "version": "3.7.3"
  }
 },
 "nbformat": 4,
 "nbformat_minor": 2
}
