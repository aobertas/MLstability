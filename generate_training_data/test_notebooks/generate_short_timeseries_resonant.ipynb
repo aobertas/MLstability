{
 "cells": [
  {
   "cell_type": "markdown",
   "metadata": {},
   "source": [
    "Use REBOUND commit 25f856dc2f79e0ad17b2f6bd604225f550593376\n",
    "\n",
    "The runs use REBOUND commit a675e6f92cba32bae86f94739faec3b1b3098e81. The problem is that this version doesn't have a __del__ function for the simulation archives and you get an error of too many open files when you run this. Instead use the current latest commit (25f856dc2f79e0ad17b2f6bd604225f550593376) which does. I test below that I can reproduce the integrations bit by bit, so this should work.\n",
    "\n",
    "Set path below to location of stabilitydataset folder"
   ]
  },
  {
   "cell_type": "code",
   "execution_count": 55,
   "metadata": {},
   "outputs": [],
   "source": [
    "path = '/mnt/ssd/workspace/stability/stabilitydataset/'"
   ]
  },
  {
   "cell_type": "code",
   "execution_count": 56,
   "metadata": {},
   "outputs": [
    {
     "data": {
      "text/plain": [
       "'3.8.1'"
      ]
     },
     "execution_count": 56,
     "metadata": {},
     "output_type": "execute_result"
    }
   ],
   "source": [
    "import rebound\n",
    "rebound.__version__"
   ]
  },
  {
   "cell_type": "code",
   "execution_count": 57,
   "metadata": {},
   "outputs": [],
   "source": [
    "if rebound.__githash__ != '25f856dc2f79e0ad17b2f6bd604225f550593376':\n",
    "    print('Should checkout commit above to ensure this runs correctly')"
   ]
  },
  {
   "cell_type": "code",
   "execution_count": 58,
   "metadata": {},
   "outputs": [],
   "source": [
    "import numpy as np\n",
    "import matplotlib.pyplot as plt\n",
    "import pandas as pd\n",
    "import dask.dataframe as dd\n",
    "%matplotlib inline\n",
    "\n",
    "safolder = path+'data/resonant/simulation_archives/runs/'"
   ]
  },
  {
   "cell_type": "code",
   "execution_count": 59,
   "metadata": {},
   "outputs": [
    {
     "data": {
      "text/html": [
       "<div>\n",
       "<style scoped>\n",
       "    .dataframe tbody tr th:only-of-type {\n",
       "        vertical-align: middle;\n",
       "    }\n",
       "\n",
       "    .dataframe tbody tr th {\n",
       "        vertical-align: top;\n",
       "    }\n",
       "\n",
       "    .dataframe thead th {\n",
       "        text-align: right;\n",
       "    }\n",
       "</style>\n",
       "<table border=\"1\" class=\"dataframe\">\n",
       "  <thead>\n",
       "    <tr style=\"text-align: right;\">\n",
       "      <th></th>\n",
       "      <th>runstring</th>\n",
       "    </tr>\n",
       "  </thead>\n",
       "  <tbody>\n",
       "    <tr>\n",
       "      <th>9995</th>\n",
       "      <td>0009995.bin</td>\n",
       "    </tr>\n",
       "    <tr>\n",
       "      <th>9996</th>\n",
       "      <td>0009996.bin</td>\n",
       "    </tr>\n",
       "    <tr>\n",
       "      <th>9997</th>\n",
       "      <td>0009997.bin</td>\n",
       "    </tr>\n",
       "    <tr>\n",
       "      <th>9998</th>\n",
       "      <td>0009998.bin</td>\n",
       "    </tr>\n",
       "    <tr>\n",
       "      <th>9999</th>\n",
       "      <td>0009999.bin</td>\n",
       "    </tr>\n",
       "  </tbody>\n",
       "</table>\n",
       "</div>"
      ],
      "text/plain": [
       "        runstring\n",
       "9995  0009995.bin\n",
       "9996  0009996.bin\n",
       "9997  0009997.bin\n",
       "9998  0009998.bin\n",
       "9999  0009999.bin"
      ]
     },
     "execution_count": 59,
     "metadata": {},
     "output_type": "execute_result"
    }
   ],
   "source": [
    "df = pd.read_csv(path+\"data/resonant/runstrings.csv\", index_col = 0)\n",
    "df.tail()"
   ]
  },
  {
   "cell_type": "code",
   "execution_count": 60,
   "metadata": {},
   "outputs": [
    {
     "data": {
      "text/plain": [
       "0.03464101615137757"
      ]
     },
     "execution_count": 60,
     "metadata": {},
     "output_type": "execute_result"
    }
   ],
   "source": [
    "row = df.loc[0]\n",
    "sa = rebound.SimulationArchive(safolder+'sa'+row['runstring'])\n",
    "sim = sa[0]\n",
    "sim.dt"
   ]
  },
  {
   "cell_type": "code",
   "execution_count": 64,
   "metadata": {},
   "outputs": [
    {
     "name": "stdout",
     "output_type": "stream",
     "text": [
      "---------------------------------\n",
      "REBOUND version:     \t3.8.1\n",
      "REBOUND built on:    \tMar  6 2019 14:13:11\n",
      "Number of particles: \t4\n",
      "Selected integrator: \twhfast\n",
      "Simulation time:     \t5.2867548944772308e+04\n",
      "Current timestep:    \t0.001831\n",
      "---------------------------------\n",
      "<rebound.Particle object, m=0.51 x=1.9888935707855548e-06 y=4.574007620036054e-06 z=2.3257985471596275e-09 vx=-0.00021735983288460962 vy=0.00013117591295466307 vz=8.43987289328437e-08>\n",
      "<rebound.Particle object, m=1.394052263516913e-05 x=-0.01700860006269193 y=-0.028084214507682483 z=-2.0799382738155986e-05 vx=3.3760091996027533 vy=-2.057333968196099 vz=-0.002662438300027018>\n",
      "<rebound.Particle object, m=6.47116926362907e-06 x=-0.04434516492698455 y=0.005835910248854843 z=3.0177178237943718e-05 vx=-0.4248682324605188 vy=-3.357599146265516 vz=-0.0018568286862161068>\n",
      "<rebound.Particle object, m=2.651717801736003e-05 x=-0.018488463580678866 y=-0.0746308834188611 z=-4.1161416978627016e-05 vx=2.5093008128911323 vy=-0.621929394200273 vz=0.0002295976724445626>\n",
      "---------------------------------\n"
     ]
    }
   ],
   "source": [
    "sa = rebound.SimulationArchive('/mnt/ssd/workspace/stability/stabilitydataset/data/arisystems/output/LP-358-499_1.0e+09orbits_id9_shadow1_inc_SA_final.bin')\n",
    "tmax = sa[1].t\n",
    "sim = sa[0]\n",
    "sim.ri_whfast.keep_unsynchronized = 1 # this is needed if we want to keep integrating after this\n",
    "sim.integrate(tmax, exact_finish_time=0)\n",
    "sim.status()"
   ]
  },
  {
   "cell_type": "code",
   "execution_count": 66,
   "metadata": {},
   "outputs": [
    {
     "name": "stdout",
     "output_type": "stream",
     "text": [
      "---------------------------------\n",
      "REBOUND version:     \t3.8.1\n",
      "REBOUND built on:    \tMar  6 2019 14:13:11\n",
      "Number of particles: \t4\n",
      "Selected integrator: \twhfast\n",
      "Simulation time:     \t5.2867548944772308e+04\n",
      "Current timestep:    \t0.001831\n",
      "---------------------------------\n",
      "<rebound.Particle object, m=0.51 x=1.9888935707855548e-06 y=4.574007620036054e-06 z=2.3257985471596275e-09 vx=-0.00021735983288460962 vy=0.00013117591295466307 vz=8.43987289328437e-08>\n",
      "<rebound.Particle object, m=1.394052263516913e-05 x=-0.01700860006269193 y=-0.028084214507682483 z=-2.0799382738155986e-05 vx=3.3760091996027533 vy=-2.057333968196099 vz=-0.002662438300027018>\n",
      "<rebound.Particle object, m=6.47116926362907e-06 x=-0.04434516492698455 y=0.005835910248854843 z=3.0177178237943718e-05 vx=-0.4248682324605188 vy=-3.357599146265516 vz=-0.0018568286862161068>\n",
      "<rebound.Particle object, m=2.651717801736003e-05 x=-0.018488463580678866 y=-0.0746308834188611 z=-4.1161416978627016e-05 vx=2.5093008128911323 vy=-0.621929394200273 vz=0.0002295976724445626>\n",
      "---------------------------------\n"
     ]
    }
   ],
   "source": [
    "sim = sa[1]\n",
    "sim.integrator_synchronize() # need this step with new sim archive because we used safe_mode = 0\n",
    "sim.status()"
   ]
  },
  {
   "cell_type": "code",
   "execution_count": 63,
   "metadata": {},
   "outputs": [
    {
     "data": {
      "text/plain": [
       "0.034641016151377546"
      ]
     },
     "execution_count": 63,
     "metadata": {},
     "output_type": "execute_result"
    }
   ],
   "source": [
    "sim.dt/sim.particles[1].P"
   ]
  },
  {
   "cell_type": "code",
   "execution_count": 41,
   "metadata": {},
   "outputs": [
    {
     "data": {
      "text/html": [
       "<div>\n",
       "<style scoped>\n",
       "    .dataframe tbody tr th:only-of-type {\n",
       "        vertical-align: middle;\n",
       "    }\n",
       "\n",
       "    .dataframe tbody tr th {\n",
       "        vertical-align: top;\n",
       "    }\n",
       "\n",
       "    .dataframe thead th {\n",
       "        text-align: right;\n",
       "    }\n",
       "</style>\n",
       "<table border=\"1\" class=\"dataframe\">\n",
       "  <thead>\n",
       "    <tr style=\"text-align: right;\">\n",
       "      <th></th>\n",
       "      <th>runstring</th>\n",
       "      <th>instability_time</th>\n",
       "      <th>shadow_instability_time</th>\n",
       "      <th>Stable</th>\n",
       "    </tr>\n",
       "  </thead>\n",
       "  <tbody>\n",
       "    <tr>\n",
       "      <th>0</th>\n",
       "      <td>0000000.bin</td>\n",
       "      <td>1.545872e+06</td>\n",
       "      <td>3.063700e+06</td>\n",
       "      <td>False</td>\n",
       "    </tr>\n",
       "    <tr>\n",
       "      <th>1</th>\n",
       "      <td>0000001.bin</td>\n",
       "      <td>9.990000e+08</td>\n",
       "      <td>9.990000e+08</td>\n",
       "      <td>True</td>\n",
       "    </tr>\n",
       "    <tr>\n",
       "      <th>2</th>\n",
       "      <td>0000002.bin</td>\n",
       "      <td>9.990000e+08</td>\n",
       "      <td>9.990000e+08</td>\n",
       "      <td>True</td>\n",
       "    </tr>\n",
       "    <tr>\n",
       "      <th>3</th>\n",
       "      <td>0000003.bin</td>\n",
       "      <td>2.287671e+06</td>\n",
       "      <td>8.392234e+06</td>\n",
       "      <td>False</td>\n",
       "    </tr>\n",
       "    <tr>\n",
       "      <th>4</th>\n",
       "      <td>0000004.bin</td>\n",
       "      <td>9.668931e+05</td>\n",
       "      <td>3.380350e+05</td>\n",
       "      <td>False</td>\n",
       "    </tr>\n",
       "  </tbody>\n",
       "</table>\n",
       "</div>"
      ],
      "text/plain": [
       "     runstring  instability_time  shadow_instability_time Stable\n",
       "0  0000000.bin      1.545872e+06             3.063700e+06  False\n",
       "1  0000001.bin      9.990000e+08             9.990000e+08   True\n",
       "2  0000002.bin      9.990000e+08             9.990000e+08   True\n",
       "3  0000003.bin      2.287671e+06             8.392234e+06  False\n",
       "4  0000004.bin      9.668931e+05             3.380350e+05  False"
      ]
     },
     "execution_count": 41,
     "metadata": {},
     "output_type": "execute_result"
    }
   ],
   "source": [
    "df2 = pd.read_csv(path+\"data/resonant/labels.csv\", index_col = 0)\n",
    "df2.head()"
   ]
  },
  {
   "cell_type": "markdown",
   "metadata": {},
   "source": [
    "# Test Reproducibility\n",
    "\n",
    "When we ran the resonant integrations (with the new simarchive), we did with safe_mode = 0 so we don't repeat kepler half steps. But this also sets sim.ri_whfast.keep_unsynchronized = 0, which you need for reproducibility. A value of 1 means that even if you synchronize, you'll keep integrating from the unsynchronized state if you keep going. So when integrating through a list of times, we need to set this if we want to match the sim archives. Also, the simarchives with safe_mode = 0 will be in an unsynchronized state (see simarchiverestart ipython_example), so we have to synchronize before comparing output."
   ]
  },
  {
   "cell_type": "code",
   "execution_count": 42,
   "metadata": {},
   "outputs": [
    {
     "name": "stdout",
     "output_type": "stream",
     "text": [
      "---------------------------------\n",
      "REBOUND version:     \t3.8.1\n",
      "REBOUND built on:    \tMar  6 2019 14:13:11\n",
      "Number of particles: \t4\n",
      "Selected integrator: \twhfast\n",
      "Simulation time:     \t1.0000000173176938e+06\n",
      "Current timestep:    \t0.034641\n",
      "---------------------------------\n",
      "<rebound.Particle object, m=0.9999960150799597 x=-3.658542143467641e-06 y=-1.949623323935794e-05 z=9.470806349629878e-08 vx=6.872767724455177e-05 vy=-3.73442855666929e-06 vz=3.496108378488267e-07>\n",
      "<rebound.Particle object, m=3.984920040268468e-06 x=-0.8738958364059268 y=0.4817517647367535 z=-0.003159573737010137 vx=-2.9307195320280233 vy=-5.572709926922893 vz=0.0012280114770667806>\n",
      "<rebound.Particle object, m=1.2444171101394952e-05 x=0.6063431581766432 y=1.4011530424916374 z=-0.007375445763490789 vx=-4.553768175624738 vy=2.174789434522493 vz=-0.026555396336484776>\n",
      "<rebound.Particle object, m=2.531702420746453e-07 x=-1.5977605108526833 y=0.5538766686714539 z=0.03817301570906049 vx=-1.5043238809838 vy=-4.4327274873988936 vz=-0.09496801973501136>\n",
      "---------------------------------\n"
     ]
    }
   ],
   "source": [
    "row = df.loc[0]\n",
    "sa = rebound.SimulationArchive(safolder+'sa'+row['runstring'])\n",
    "tmax = sa[1].t\n",
    "sim = sa[0]\n",
    "sim.ri_whfast.keep_unsynchronized = 1 # this is needed if we want to keep integrating after this\n",
    "sim.integrate(tmax, exact_finish_time=0)\n",
    "sim.status()"
   ]
  },
  {
   "cell_type": "code",
   "execution_count": 43,
   "metadata": {},
   "outputs": [
    {
     "name": "stdout",
     "output_type": "stream",
     "text": [
      "---------------------------------\n",
      "REBOUND version:     \t3.8.1\n",
      "REBOUND built on:    \tMar  6 2019 14:13:11\n",
      "Number of particles: \t4\n",
      "Selected integrator: \twhfast\n",
      "Simulation time:     \t1.0000000173176938e+06\n",
      "Current timestep:    \t0.034641\n",
      "---------------------------------\n",
      "<rebound.Particle object, m=0.9999960150799597 x=-3.658542143467641e-06 y=-1.949623323935794e-05 z=9.470806349629878e-08 vx=6.872767724455177e-05 vy=-3.73442855666929e-06 vz=3.496108378488267e-07>\n",
      "<rebound.Particle object, m=3.984920040268468e-06 x=-0.8738958364059268 y=0.4817517647367535 z=-0.003159573737010137 vx=-2.9307195320280233 vy=-5.572709926922893 vz=0.0012280114770667806>\n",
      "<rebound.Particle object, m=1.2444171101394952e-05 x=0.6063431581766432 y=1.4011530424916374 z=-0.007375445763490789 vx=-4.553768175624738 vy=2.174789434522493 vz=-0.026555396336484776>\n",
      "<rebound.Particle object, m=2.531702420746453e-07 x=-1.5977605108526833 y=0.5538766686714539 z=0.03817301570906049 vx=-1.5043238809838 vy=-4.4327274873988936 vz=-0.09496801973501136>\n",
      "---------------------------------\n"
     ]
    }
   ],
   "source": [
    "sim = sa[1]\n",
    "sim.integrator_synchronize() # need this step with new sim archive because we used safe_mode = 0\n",
    "sim.status()"
   ]
  },
  {
   "cell_type": "code",
   "execution_count": 46,
   "metadata": {},
   "outputs": [],
   "source": [
    "def testsim(sa, times):\n",
    "    sim = sa[0]\n",
    "    sim.ri_whfast.keep_unsynchronized = 1 # Without this we won't match sim archive, see above\n",
    "    val = np.zeros((Nout, 18))\n",
    "    for i, time in enumerate(times):\n",
    "        sim.integrate(time, exact_finish_time=0)\n",
    "        orbits = sim.calculate_orbits()\n",
    "        for j, o in enumerate(orbits):\n",
    "            val[i,6*j+0] = o.a\n",
    "            val[i,6*j+1] = o.e\n",
    "            val[i,6*j+2] = o.inc\n",
    "            val[i,6*j+3] = o.Omega\n",
    "            val[i,6*j+4] = o.pomega\n",
    "            val[i,6*j+5] = o.M\n",
    "    return sim, val"
   ]
  },
  {
   "cell_type": "code",
   "execution_count": 45,
   "metadata": {},
   "outputs": [],
   "source": [
    "Nsys = df.shape[0]\n",
    "Nout = 1729\n",
    "times = np.linspace(0, 1e4, Nout)"
   ]
  },
  {
   "cell_type": "code",
   "execution_count": 33,
   "metadata": {},
   "outputs": [],
   "source": [
    "import rebound\n",
    "row = df.loc[7]\n",
    "sa = rebound.SimulationArchive(safolder+'sa'+row['runstring'])\n",
    "t1 = sa[1].t\n",
    "sim, val = testsim(sa, times)"
   ]
  },
  {
   "cell_type": "code",
   "execution_count": 35,
   "metadata": {},
   "outputs": [
    {
     "data": {
      "text/plain": [
       "[<matplotlib.lines.Line2D at 0x7f92f4fa3d68>]"
      ]
     },
     "execution_count": 35,
     "metadata": {},
     "output_type": "execute_result"
    },
    {
     "data": {
      "image/png": "[encoded data removed]",
      "text/plain": [
       "<Figure size 432x288 with 1 Axes>"
      ]
     },
     "metadata": {
      "needs_background": "light"
     },
     "output_type": "display_data"
    }
   ],
   "source": [
    "fig, ax= plt.subplots()\n",
    "ax.plot(times, val[:,1])"
   ]
  },
  {
   "cell_type": "code",
   "execution_count": 22,
   "metadata": {},
   "outputs": [
    {
     "name": "stdout",
     "output_type": "stream",
     "text": [
      "---------------------------------\n",
      "REBOUND version:     \t3.8.1\n",
      "REBOUND built on:    \tMar  6 2019 14:13:11\n",
      "Number of particles: \t4\n",
      "Selected integrator: \twhfast\n",
      "Simulation time:     \t1.0000029978431428e+04\n",
      "Current timestep:    \t0.034641\n",
      "---------------------------------\n",
      "<rebound.Particle object, m=0.9999960150799597 x=1.5754637080804735e-05 y=5.552715431442515e-06 z=-1.1669878145708697e-08 vx=-7.301349514488498e-06 vy=4.705456663283622e-05 vz=-1.0008721700251636e-07>\n",
      "<rebound.Particle object, m=3.984920040268468e-06 x=0.18820747244699707 y=0.9983892059722129 z=-0.006260219550608885 vx=-6.069045419128382 vy=1.1841416303639263 vz=-0.03798729681251473>\n",
      "<rebound.Particle object, m=1.2444171101394952e-05 x=-1.3363731009885487 y=-0.7954836546826433 z=0.0021957760487688422 vx=2.628852215552226 vy=-4.19628486689365 vz=0.023007745192562795>\n",
      "<rebound.Particle object, m=2.531702420746453e-07 x=0.4956723760588331 y=1.4533313436553013 z=0.036701363708389 vx=-4.850118344763209 vy=1.7624426656878491 vz=-0.13765108822109343>\n",
      "---------------------------------\n"
     ]
    }
   ],
   "source": [
    "sim.status()"
   ]
  },
  {
   "cell_type": "code",
   "execution_count": 14,
   "metadata": {},
   "outputs": [
    {
     "name": "stdout",
     "output_type": "stream",
     "text": [
      "---------------------------------\n",
      "REBOUND version:     \t3.8.1\n",
      "REBOUND built on:    \tMar  6 2019 14:13:11\n",
      "Number of particles: \t4\n",
      "Selected integrator: \twhfast\n",
      "Simulation time:     \t1.0000000173176938e+06\n",
      "Current timestep:    \t0.034641\n",
      "---------------------------------\n",
      "<rebound.Particle object, m=0.9999960150799597 x=-3.658542143467641e-06 y=-1.949623323935794e-05 z=9.470806349629878e-08 vx=6.872767724455177e-05 vy=-3.73442855666929e-06 vz=3.496108378488267e-07>\n",
      "<rebound.Particle object, m=3.984920040268468e-06 x=-0.8738958364059268 y=0.4817517647367535 z=-0.003159573737010137 vx=-2.9307195320280233 vy=-5.572709926922893 vz=0.0012280114770667806>\n",
      "<rebound.Particle object, m=1.2444171101394952e-05 x=0.6063431581766432 y=1.4011530424916374 z=-0.007375445763490789 vx=-4.553768175624738 vy=2.174789434522493 vz=-0.026555396336484776>\n",
      "<rebound.Particle object, m=2.531702420746453e-07 x=-1.5977605108526833 y=0.5538766686714539 z=0.03817301570906049 vx=-1.5043238809838 vy=-4.4327274873988936 vz=-0.09496801973501136>\n",
      "---------------------------------\n"
     ]
    }
   ],
   "source": [
    "sim.integrate(t1, exact_finish_time=0)\n",
    "sim.status()"
   ]
  },
  {
   "cell_type": "code",
   "execution_count": 15,
   "metadata": {},
   "outputs": [
    {
     "name": "stdout",
     "output_type": "stream",
     "text": [
      "---------------------------------\n",
      "REBOUND version:     \t3.8.1\n",
      "REBOUND built on:    \tMar  6 2019 14:13:11\n",
      "Number of particles: \t4\n",
      "Selected integrator: \twhfast\n",
      "Simulation time:     \t1.0000000173176938e+06\n",
      "Current timestep:    \t0.034641\n",
      "---------------------------------\n",
      "<rebound.Particle object, m=0.9999960150799597 x=-3.658542143467641e-06 y=-1.949623323935794e-05 z=9.470806349629878e-08 vx=6.872767724455177e-05 vy=-3.73442855666929e-06 vz=3.496108378488267e-07>\n",
      "<rebound.Particle object, m=3.984920040268468e-06 x=-0.8738958364059268 y=0.4817517647367535 z=-0.003159573737010137 vx=-2.9307195320280233 vy=-5.572709926922893 vz=0.0012280114770667806>\n",
      "<rebound.Particle object, m=1.2444171101394952e-05 x=0.6063431581766432 y=1.4011530424916374 z=-0.007375445763490789 vx=-4.553768175624738 vy=2.174789434522493 vz=-0.026555396336484776>\n",
      "<rebound.Particle object, m=2.531702420746453e-07 x=-1.5977605108526833 y=0.5538766686714539 z=0.03817301570906049 vx=-1.5043238809838 vy=-4.4327274873988936 vz=-0.09496801973501136>\n",
      "---------------------------------\n"
     ]
    }
   ],
   "source": [
    "sim = sa[1]\n",
    "sim.integrator_synchronize()\n",
    "sim.status()"
   ]
  },
  {
   "cell_type": "markdown",
   "metadata": {},
   "source": [
    "# Resonant Parameters\n",
    "\n",
    "The functions in generate_data/resonant/ that generated the initial conditions are not machine independent, so when we run through the same function (i.e. run_resonant in runfunctions.py) with the same seed, we might get one bit different on the end, and that will not yield the same REBOUND integration. So some realizations go unstable in the 1e4 orbit window we give it while others do not. \n",
    "\n",
    "In exploreresonantsample.ipynb (messy) in this folder, I crawled the Sunnyvale cluster output files (e.g. stab.o273247) to get the original, seed (for the integration we save an SA for that went more than 1e4 orbits), j, k, Zstar, libfac and Zcom values that I was printing out in each integration in runfunctions.py. That was saved in data.csv and included the instability times. I've split off the times to just have the input parameters and saved that in inputresonantparams.csv. These are presumably reproducible in principle on sunnyvale, but I don't get the same seeds when I try on gandalf. I don't think this is a big deal. This is just our list of input parameters that was used to get our set of simulation_archives. You could then just load our simulation_archives, but you can't get out libfac from the simulation. You could also use run_resonant in runfunctions.py, passing it the seed in the dataframe and get approximate values again, but it wouldn't yield bit by bit the same simulation archives. Again I think this is fine"
   ]
  },
  {
   "cell_type": "code",
   "execution_count": 16,
   "metadata": {},
   "outputs": [
    {
     "data": {
      "text/html": [
       "<div>\n",
       "<style scoped>\n",
       "    .dataframe tbody tr th:only-of-type {\n",
       "        vertical-align: middle;\n",
       "    }\n",
       "\n",
       "    .dataframe tbody tr th {\n",
       "        vertical-align: top;\n",
       "    }\n",
       "\n",
       "    .dataframe thead th {\n",
       "        text-align: right;\n",
       "    }\n",
       "</style>\n",
       "<table border=\"1\" class=\"dataframe\">\n",
       "  <thead>\n",
       "    <tr style=\"text-align: right;\">\n",
       "      <th></th>\n",
       "      <th>runstring</th>\n",
       "      <th>seed</th>\n",
       "      <th>pairindex</th>\n",
       "      <th>j</th>\n",
       "      <th>k</th>\n",
       "      <th>Zstar</th>\n",
       "      <th>libfac</th>\n",
       "      <th>Zcom</th>\n",
       "    </tr>\n",
       "  </thead>\n",
       "  <tbody>\n",
       "    <tr>\n",
       "      <th>0</th>\n",
       "      <td>0000000.bin</td>\n",
       "      <td>3500000</td>\n",
       "      <td>1</td>\n",
       "      <td>12</td>\n",
       "      <td>1</td>\n",
       "      <td>0.021650</td>\n",
       "      <td>0.007181</td>\n",
       "      <td>0.041669</td>\n",
       "    </tr>\n",
       "    <tr>\n",
       "      <th>1</th>\n",
       "      <td>0000001.bin</td>\n",
       "      <td>700001</td>\n",
       "      <td>1</td>\n",
       "      <td>19</td>\n",
       "      <td>2</td>\n",
       "      <td>0.060291</td>\n",
       "      <td>0.523204</td>\n",
       "      <td>0.010656</td>\n",
       "    </tr>\n",
       "    <tr>\n",
       "      <th>2</th>\n",
       "      <td>0000002.bin</td>\n",
       "      <td>2</td>\n",
       "      <td>0</td>\n",
       "      <td>6</td>\n",
       "      <td>1</td>\n",
       "      <td>0.026353</td>\n",
       "      <td>0.012995</td>\n",
       "      <td>0.050319</td>\n",
       "    </tr>\n",
       "    <tr>\n",
       "      <th>3</th>\n",
       "      <td>0000003.bin</td>\n",
       "      <td>2100003</td>\n",
       "      <td>0</td>\n",
       "      <td>5</td>\n",
       "      <td>2</td>\n",
       "      <td>0.023511</td>\n",
       "      <td>0.713415</td>\n",
       "      <td>0.102200</td>\n",
       "    </tr>\n",
       "    <tr>\n",
       "      <th>4</th>\n",
       "      <td>0000004.bin</td>\n",
       "      <td>700004</td>\n",
       "      <td>0</td>\n",
       "      <td>12</td>\n",
       "      <td>1</td>\n",
       "      <td>0.017473</td>\n",
       "      <td>0.003612</td>\n",
       "      <td>0.039803</td>\n",
       "    </tr>\n",
       "  </tbody>\n",
       "</table>\n",
       "</div>"
      ],
      "text/plain": [
       "     runstring     seed  pairindex   j  k     Zstar    libfac      Zcom\n",
       "0  0000000.bin  3500000          1  12  1  0.021650  0.007181  0.041669\n",
       "1  0000001.bin   700001          1  19  2  0.060291  0.523204  0.010656\n",
       "2  0000002.bin        2          0   6  1  0.026353  0.012995  0.050319\n",
       "3  0000003.bin  2100003          0   5  2  0.023511  0.713415  0.102200\n",
       "4  0000004.bin   700004          0  12  1  0.017473  0.003612  0.039803"
      ]
     },
     "execution_count": 16,
     "metadata": {},
     "output_type": "execute_result"
    }
   ],
   "source": [
    "df = pd.read_csv(path+'data/resonant/inputresonantparams.csv', index_col=0)\n",
    "df.head()"
   ]
  },
  {
   "cell_type": "code",
   "execution_count": 17,
   "metadata": {},
   "outputs": [],
   "source": [
    "import random\n",
    "import numpy as np\n",
    "from celmech import Andoyer, Poincare, AndoyerHamiltonian\n",
    "from celmech.andoyer import get_Xstarres\n",
    "import rebound\n",
    "from scipy.integrate import ode\n",
    "\n",
    "def logunif(r, mini, maxi):\n",
    "    logmin = np.log10(mini)\n",
    "    logmax = np.log10(maxi)\n",
    "    return 10**(r.uniform(logmin, logmax))\n",
    "\n",
    "def get_resonant(seed, Nplanets=3):\n",
    "    r = random.Random()\n",
    "    r.seed(seed)\n",
    "\n",
    "    Phiprimecrits = [0, 1., -2./3.]\n",
    "    pairs = ['inner', 'outer', 'split']\n",
    "    \n",
    "    k=r.randint(1,2) \n",
    "    pairindex=r.randint(0,2)\n",
    "    pair = pairs[pairindex]\n",
    "    m1 = logunif(r, 1.e-7, 1.e-4)\n",
    "    m2 = logunif(r, 1.e-7, 1.e-4)\n",
    "    eH = ((m1+m2)/3.)**(1./3.)\n",
    "    ehillstable = 3.5*eH\n",
    "    jmax = k/(1-1/(1+3.5*eH)**1.5)\n",
    "    if pair == 'split':\n",
    "        if Nplanets == 2:\n",
    "            return # don't want 2planet systems 60 hill radii apart\n",
    "        maxHillradii = 60. # 3rd planet will go in middle so draw up to 60\n",
    "    else:\n",
    "        maxHillradii = 30.\n",
    "    jmin = max(k+1, k/(1-1/(1+maxHillradii*eH)**1.5))\n",
    "    j = r.randint(np.ceil(jmin), int(np.floor(jmax)))\n",
    "    a1 = 1.\n",
    "    a2 = (float(j)/(j-k))**(2./3.)\n",
    "    ecross1 = (a2-a1)/a1\n",
    "    ecross2 = (a2-a1)/a2\n",
    "    emin1 = m2/ecross1**2\n",
    "    emin2 = m1/ecross2**2\n",
    "    emin = max(emin1, emin2) # take as min Z the larger of the kicks a planet gets at conjunction       \n",
    "    emin = max(emin, (m1+m2)**(1./k)) # below mtot^1/k, the resonant term is smaller than the second order mass terms we ignore\n",
    "    emax = min(ecross1, ecross2)\n",
    "    \n",
    "    avars = Andoyer(j=j,k=k,X=0,Y=0,m1=m1, m2=m2)\n",
    "    Phiprimecrit = Phiprimecrits[k]\n",
    "    Xcrit = get_Xstarres(k, Phiprimecrit)\n",
    "    Phicrit = 0.5*Xcrit**2\n",
    "    emin = max(avars.Phi_to_Z(Phicrit), emin) # first quantity is value of Z at bifurcation when res first appears\n",
    "    \n",
    "    Zstar=logunif(r, emin, emax)\n",
    "    libfac=logunif(r, 3.e-2, 3)\n",
    "    negative = r.randint(0,1)\n",
    "    if negative:\n",
    "        libfac *= -1\n",
    "    \n",
    "    avars = Andoyer.from_elements(j=j,k=k,Zstar=Zstar,libfac=libfac, m1=m1, m2=m2, Zcom=logunif(r, emin,emax), phiZcom=r.uniform(0,2*np.pi), theta=r.uniform(0,2*np.pi), theta1=r.uniform(0,2*np.pi))\n",
    "    tmax = r.uniform(0,10*avars.tlib)\n",
    "    H = AndoyerHamiltonian(avars)\n",
    "    H.integrate(tmax)\n",
    "    pvars = avars.to_Poincare()\n",
    "    ps = pvars.particles\n",
    "    if Nplanets==3:\n",
    "        m3 = logunif(r, 1.e-7, 1.e-4)\n",
    "        pvarssorted = Poincare(G=pvars.G)\n",
    "\n",
    "        if pair == \"inner\":\n",
    "            eH = ((m2+m3)/3.)**(1./3.)\n",
    "            beta = r.uniform(3.5,30)\n",
    "            a3 = a2*(1+beta*eH)\n",
    "            ecross3 = (a3-a2)/a3\n",
    "            emin3 = m2/ecross3**2\n",
    "            e3 = logunif(r, emin3, ecross3)\n",
    "            pvarssorted.add(m=ps[1].m, M=ps[1].M, a=ps[1].a, e=ps[1].e, gamma=ps[1].gamma, l=ps[1].l)\n",
    "            pvarssorted.add(m=ps[2].m, M=ps[2].M, a=ps[2].a, e=ps[2].e, gamma=ps[2].gamma, l=ps[2].l)\n",
    "            pvarssorted.add(m=m3, M=1, a=a3, e=e3, gamma=r.uniform(0, 2*np.pi), l=r.uniform(0, 2*np.pi))\n",
    "\n",
    "        elif pair == \"outer\":\n",
    "            eH = ((m1+m3)/3.)**(1./3.)\n",
    "            beta = r.uniform(3.5,30)\n",
    "            a3 = a1/(1+beta*eH)\n",
    "            ecross3 = (a1-a3)/a3\n",
    "            emin3 = m1/ecross3**2\n",
    "            e3 = logunif(r, emin3, ecross3)\n",
    "            pvarssorted.add(m=m3, M=1, a=a3, e=e3, gamma=r.uniform(0, 2*np.pi), l=r.uniform(0, 2*np.pi))\n",
    "            pvarssorted.add(m=ps[1].m, M=ps[1].M, a=ps[1].a, e=ps[1].e, gamma=ps[1].gamma, l=ps[1].l)\n",
    "            pvarssorted.add(m=ps[2].m, M=ps[2].M, a=ps[2].a, e=ps[2].e, gamma=ps[2].gamma, l=ps[2].l)\n",
    "\n",
    "        elif pair == \"split\":\n",
    "            eH1 = ((m1+m3)/3.)**(1./3.)\n",
    "            eH2 = ((m2+m3)/3.)**(1./3.)\n",
    "            amin = a1*(1+3.5*eH1)\n",
    "            amax = min(a1*(1+30*eH1), a2/(1+3.5*eH2))\n",
    "            if amin > amax:\n",
    "                seed += 900000\n",
    "                return get_resonant(seed=seed) # draw new sample (may not be 'split')\n",
    "            a3 = r.uniform(amin, amax)\n",
    "            ecross3 = min((a3-a1)/a1, (a2-a3)/a3)\n",
    "            emin3 = max(m1/((a3-a1)/a3)**2, m2/((a2-a3)/a3)**2)\n",
    "            e3 = logunif(r, emin3, ecross3)\n",
    "            pvarssorted.add(m=ps[1].m, M=ps[1].M, a=ps[1].a, e=ps[1].e, gamma=ps[1].gamma, l=ps[1].l)\n",
    "            pvarssorted.add(m=m3, M=1, a=a3, e=e3, gamma=r.uniform(0, 2*np.pi), l=r.uniform(0, 2*np.pi))\n",
    "            pvarssorted.add(m=ps[2].m, M=ps[2].M, a=ps[2].a, e=ps[2].e, gamma=ps[2].gamma, l=ps[2].l)\n",
    "        \n",
    "        sim = pvarssorted.to_Simulation()\n",
    "    else:\n",
    "        sim = avars.to_Simulation()\n",
    "    # add inclinations and scale s.t. a1 = 1, Mprimary=1. and G = 4*pi**2\n",
    "    ps = sim.particles\n",
    "    dscale = ps[1].a\n",
    "    mscale = ps[0].m\n",
    "    tscale = np.sqrt(4*np.pi**2*dscale**3/mscale) # = ps[1].P to within mass ratio\n",
    "    \n",
    "    siminc = rebound.Simulation()\n",
    "    siminc.G = sim.G*mscale/dscale**3*tscale**2\n",
    "    siminc.add(m=ps[0].m/mscale, x=ps[0].x/dscale, y=ps[0].y/dscale, vx=ps[0].vx/dscale*tscale, vy=ps[0].vy/dscale*tscale)\n",
    "    for p in ps[1:]:\n",
    "        siminc.add(m=p.m/mscale, a=p.a/dscale, e=p.e, inc=logunif(r, 1.e-3, 1.e-1), Omega=r.uniform(0,2*np.pi), pomega=p.pomega, l=p.l)\n",
    "        rH = siminc.particles[-1].a*(siminc.particles[-1].m/3./siminc.particles[0].m)**(1./3.) \n",
    "        siminc.particles[-1].r = rH\n",
    "    siminc.move_to_com()\n",
    "    siminc.integrator=\"whfast\"\n",
    "    siminc.dt = 2.*np.sqrt(3)/100.*siminc.particles[1].P\n",
    "    siminc.ri_whfast.safe_mode=0\n",
    "    siminc.collision=\"line\"\n",
    "    return siminc, avars\n",
    "\n",
    "def run_resonant(seed, runstr, Nplanets=3, maxorbs=1.e9, shadow=False):\n",
    "    success=False\n",
    "    while not success:\n",
    "        try:\n",
    "            sim, avars = get_resonant(seed, Nplanets)\n",
    "            sim.integrate(1.e4*sim.particles[1].P)\n",
    "            success=True\n",
    "        except rebound.Collision:\n",
    "            seed += 700000 # roughly relatively prime with amin > amax offset above\n",
    "            \n",
    "    sim, avars = get_resonant(seed, Nplanets) # get same sim\n",
    "    return sim, avars, seed"
   ]
  },
  {
   "cell_type": "markdown",
   "metadata": {},
   "source": [
    "For example, if we feed a seed of 0 for the first row, we should get back a seed of 3500000, but instead get (see above)"
   ]
  },
  {
   "cell_type": "code",
   "execution_count": 18,
   "metadata": {},
   "outputs": [
    {
     "name": "stderr",
     "output_type": "stream",
     "text": [
      "/home/dtamayo/miniconda3/envs/p3/lib/python3.7/site-packages/scipy/integrate/_ode.py:1348: UserWarning: lsoda: Excess work done on this call (perhaps wrong Dfun type).\n",
      "  self.messages.get(istate, unexpected_istate_msg)))\n"
     ]
    },
    {
     "name": "stdout",
     "output_type": "stream",
     "text": [
      "700000\n"
     ]
    }
   ],
   "source": [
    "row = df.loc[0]\n",
    "sim, avars, seed = run_resonant(0, row['runstring'])\n",
    "print(seed)"
   ]
  },
  {
   "cell_type": "markdown",
   "metadata": {},
   "source": [
    "Check that you get roughly the same resonant parameters if we feed it the seed used on sunnyvale:"
   ]
  },
  {
   "cell_type": "code",
   "execution_count": 19,
   "metadata": {},
   "outputs": [
    {
     "data": {
      "text/html": [
       "<div>\n",
       "<style scoped>\n",
       "    .dataframe tbody tr th:only-of-type {\n",
       "        vertical-align: middle;\n",
       "    }\n",
       "\n",
       "    .dataframe tbody tr th {\n",
       "        vertical-align: top;\n",
       "    }\n",
       "\n",
       "    .dataframe thead th {\n",
       "        text-align: right;\n",
       "    }\n",
       "</style>\n",
       "<table border=\"1\" class=\"dataframe\">\n",
       "  <thead>\n",
       "    <tr style=\"text-align: right;\">\n",
       "      <th></th>\n",
       "      <th>runstring</th>\n",
       "      <th>seed</th>\n",
       "      <th>pairindex</th>\n",
       "      <th>j</th>\n",
       "      <th>k</th>\n",
       "      <th>Zstar</th>\n",
       "      <th>libfac</th>\n",
       "      <th>Zcom</th>\n",
       "    </tr>\n",
       "  </thead>\n",
       "  <tbody>\n",
       "    <tr>\n",
       "      <th>0</th>\n",
       "      <td>0000000.bin</td>\n",
       "      <td>3500000</td>\n",
       "      <td>1</td>\n",
       "      <td>12</td>\n",
       "      <td>1</td>\n",
       "      <td>0.021650</td>\n",
       "      <td>0.007181</td>\n",
       "      <td>0.041669</td>\n",
       "    </tr>\n",
       "    <tr>\n",
       "      <th>1</th>\n",
       "      <td>0000001.bin</td>\n",
       "      <td>700001</td>\n",
       "      <td>1</td>\n",
       "      <td>19</td>\n",
       "      <td>2</td>\n",
       "      <td>0.060291</td>\n",
       "      <td>0.523204</td>\n",
       "      <td>0.010656</td>\n",
       "    </tr>\n",
       "    <tr>\n",
       "      <th>2</th>\n",
       "      <td>0000002.bin</td>\n",
       "      <td>2</td>\n",
       "      <td>0</td>\n",
       "      <td>6</td>\n",
       "      <td>1</td>\n",
       "      <td>0.026353</td>\n",
       "      <td>0.012995</td>\n",
       "      <td>0.050319</td>\n",
       "    </tr>\n",
       "    <tr>\n",
       "      <th>3</th>\n",
       "      <td>0000003.bin</td>\n",
       "      <td>2100003</td>\n",
       "      <td>0</td>\n",
       "      <td>5</td>\n",
       "      <td>2</td>\n",
       "      <td>0.023511</td>\n",
       "      <td>0.713415</td>\n",
       "      <td>0.102200</td>\n",
       "    </tr>\n",
       "    <tr>\n",
       "      <th>4</th>\n",
       "      <td>0000004.bin</td>\n",
       "      <td>700004</td>\n",
       "      <td>0</td>\n",
       "      <td>12</td>\n",
       "      <td>1</td>\n",
       "      <td>0.017473</td>\n",
       "      <td>0.003612</td>\n",
       "      <td>0.039803</td>\n",
       "    </tr>\n",
       "  </tbody>\n",
       "</table>\n",
       "</div>"
      ],
      "text/plain": [
       "     runstring     seed  pairindex   j  k     Zstar    libfac      Zcom\n",
       "0  0000000.bin  3500000          1  12  1  0.021650  0.007181  0.041669\n",
       "1  0000001.bin   700001          1  19  2  0.060291  0.523204  0.010656\n",
       "2  0000002.bin        2          0   6  1  0.026353  0.012995  0.050319\n",
       "3  0000003.bin  2100003          0   5  2  0.023511  0.713415  0.102200\n",
       "4  0000004.bin   700004          0  12  1  0.017473  0.003612  0.039803"
      ]
     },
     "execution_count": 19,
     "metadata": {},
     "output_type": "execute_result"
    }
   ],
   "source": [
    "df.head()"
   ]
  },
  {
   "cell_type": "code",
   "execution_count": 20,
   "metadata": {},
   "outputs": [
    {
     "name": "stdout",
     "output_type": "stream",
     "text": [
      "0.021644667626835583 0.0416691237878827\n"
     ]
    },
    {
     "name": "stderr",
     "output_type": "stream",
     "text": [
      "/mnt/ssd/workspace/rebound/rebound/simulationarchive.py:89: RuntimeWarning: Binary file was saved with a different version of REBOUND. Binary format might have changed.\n",
      "  warnings.warn(message, RuntimeWarning)\n",
      "/mnt/ssd/workspace/rebound/rebound/simulationarchive.py:138: RuntimeWarning: Binary file was saved with a different version of REBOUND. Binary format might have changed.\n",
      "  warnings.warn(message, RuntimeWarning)\n",
      "/mnt/ssd/workspace/rebound/rebound/simulationarchive.py:138: RuntimeWarning: Encountered unkown field in file. File might have been saved with a different version of REBOUND.\n",
      "  warnings.warn(message, RuntimeWarning)\n"
     ]
    }
   ],
   "source": [
    "filename = path+'data/resonant/simulation_archives/runs/sa'+row['runstring']\n",
    "sa = rebound.SimulationArchive(filename)\n",
    "sim = sa[0]\n",
    "avars = Andoyer.from_Simulation(sim, row['j'], row['k'], i1=2, i2=3)\n",
    "print(avars.Zstar, avars.Zcom)"
   ]
  },
  {
   "cell_type": "markdown",
   "metadata": {},
   "source": [
    "I think there's some information loss going to andoyer and back from the fact that we have to do the averaging, but we get the same answer to several digits, which should be good enough for ML"
   ]
  }
 ],
 "metadata": {
  "kernelspec": {
   "display_name": "Python 3",
   "language": "python",
   "name": "python3"
  },
  "language_info": {
   "codemirror_mode": {
    "name": "ipython",
    "version": 3
   },
   "file_extension": ".py",
   "mimetype": "text/x-python",
   "name": "python",
   "nbconvert_exporter": "python",
   "pygments_lexer": "ipython3",
   "version": "3.7.0"
  }
 },
 "nbformat": 4,
 "nbformat_minor": 2
}
