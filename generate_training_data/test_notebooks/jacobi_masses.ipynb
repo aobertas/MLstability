{
 "cells": [
  {
   "cell_type": "markdown",
   "metadata": {},
   "source": [
    "Old integrations (random and naireen) use an old REBOUND commit, but celmech needs later REBOUND versions that accept jacobi_masses to sim.calculate_orbits(). Pulling the code into training_functions.py and checking we get same thing as with later versions of REBOUND"
   ]
  },
  {
   "cell_type": "code",
   "execution_count": 1,
   "metadata": {},
   "outputs": [],
   "source": [
    "import rebound"
   ]
  },
  {
   "cell_type": "code",
   "execution_count": 2,
   "metadata": {},
   "outputs": [],
   "source": [
    "sim = rebound.Simulation()\n",
    "sim.add(m=1.)\n",
    "sim.add(m=1.e-3, P=1., e=0.2)\n",
    "sim.add(m=1.e-3, P=1.5, e=0.1)\n",
    "sim.add(m=1.e-3, P=4., e=0.2)\n",
    "sim.move_to_com()\n",
    "ps = sim.particles"
   ]
  },
  {
   "cell_type": "code",
   "execution_count": 3,
   "metadata": {},
   "outputs": [
    {
     "name": "stdout",
     "output_type": "stream",
     "text": [
      "<rebound.Orbit instance, a=0.2937817275050218 e=0.20000000000000023 inc=0.0 Omega=0.0 omega=0.0 f=0.0>\n",
      "<rebound.Orbit instance, a=0.38556236008350964 e=0.10110000000000031 inc=0.0 Omega=0.0 omega=0.0 f=0.0>\n",
      "<rebound.Orbit instance, a=0.7430052823165784 e=0.20240000000000005 inc=0.0 Omega=0.0 omega=0.0 f=0.0>\n"
     ]
    }
   ],
   "source": [
    "o = sim.calculate_orbits(jacobi_masses=True)\n",
    "for orbit in o:\n",
    "    print(orbit)"
   ]
  },
  {
   "cell_type": "code",
   "execution_count": 4,
   "metadata": {},
   "outputs": [
    {
     "name": "stdout",
     "output_type": "stream",
     "text": [
      "<rebound.Orbit instance, a=0.740776266469629 e=0.20000000000000043 inc=0.0 Omega=0.0 omega=0.0 f=0.0>\n"
     ]
    }
   ],
   "source": [
    "print(ps[3].calculate_orbit())"
   ]
  },
  {
   "cell_type": "code",
   "execution_count": 5,
   "metadata": {},
   "outputs": [],
   "source": [
    "from celmech.transformations import masses_to_jacobi\n",
    "mjac, Mjac = masses_to_jacobi([p.m for p in ps])"
   ]
  },
  {
   "cell_type": "code",
   "execution_count": 6,
   "metadata": {},
   "outputs": [
    {
     "name": "stdout",
     "output_type": "stream",
     "text": [
      "<rebound.Particle object, m=1.0019999999999998 x=-0.0005908484677723864 y=0.0 z=0.0 vx=0.0 vy=-0.0014208611287366355 vz=0.0>\n"
     ]
    }
   ],
   "source": [
    "primary = sim.calculate_com(last=3)\n",
    "print(primary)"
   ]
  },
  {
   "cell_type": "code",
   "execution_count": 7,
   "metadata": {},
   "outputs": [],
   "source": [
    "primary.m = Mjac[3]-ps[3].m"
   ]
  },
  {
   "cell_type": "code",
   "execution_count": 8,
   "metadata": {},
   "outputs": [
    {
     "name": "stdout",
     "output_type": "stream",
     "text": [
      "<rebound.Orbit instance, a=0.7430052823165784 e=0.20240000000000005 inc=0.0 Omega=0.0 omega=0.0 f=0.0>\n"
     ]
    }
   ],
   "source": [
    "print(ps[3].calculate_orbit(primary=primary))"
   ]
  },
  {
   "cell_type": "code",
   "execution_count": 9,
   "metadata": {},
   "outputs": [
    {
     "name": "stdout",
     "output_type": "stream",
     "text": [
      "<rebound.Orbit instance, a=0.2937817275050218 e=0.20000000000000023 inc=0.0 Omega=0.0 omega=0.0 f=0.0>\n",
      "<rebound.Orbit instance, a=0.38556236008350964 e=0.10110000000000031 inc=0.0 Omega=0.0 omega=0.0 f=0.0>\n",
      "<rebound.Orbit instance, a=0.7430052823165784 e=0.20240000000000005 inc=0.0 Omega=0.0 omega=0.0 f=0.0>\n",
      "nan nan nan nan nan nan\n",
      "0.5395034928159745 0.010956428282117242 3.1539813412005785e-08 -0.0 1.001 0.0009990009990009992\n",
      "0.6237226153039576 0.0031831014781202654 1.3394653797149654e-08 -0.0 1.0009990009990009 0.0009990019960079842\n",
      "0.8627155060650645 0.017849304725275024 2.9112592620311125e-08 -0.0 1.0009980039920159 0.0009990029910269195\n"
     ]
    }
   ],
   "source": [
    "import numpy as np\n",
    "from celmech import Poincare\n",
    "\n",
    "mjac, Mjac = masses_to_jacobi([p.m for p in ps])\n",
    "pvars = Poincare(sim.G)\n",
    "for i in range(1, sim.N-sim.N_var):\n",
    "    M = Mjac[i]\n",
    "    m = mjac[i]\n",
    "    primary = sim.calculate_com(last=i)\n",
    "    primary.m = Mjac[i]-ps[i].m\n",
    "    o = ps[i].calculate_orbit(primary=primary)\n",
    "    print(o)\n",
    "    sLambda = np.sqrt(sim.G*M*o.a)\n",
    "    sGamma = sLambda*(1.-np.sqrt(1.-o.e**2))\n",
    "    pvars.add(m=m, sLambda=sLambda, l=o.l, sGamma=sGamma, gamma=-o.pomega, M=M)\n",
    "pvars.average_synodic_terms()\n",
    "for p in pvars.particles:\n",
    "    print(p.sLambda, p.sGamma, p.l, p.gamma, p.M, p.m)"
   ]
  },
  {
   "cell_type": "code",
   "execution_count": 10,
   "metadata": {},
   "outputs": [
    {
     "name": "stdout",
     "output_type": "stream",
     "text": [
      "<rebound.Orbit instance, a=0.2937817275050218 e=0.20000000000000023 inc=0.0 Omega=0.0 omega=0.0 f=0.0>\n",
      "<rebound.Orbit instance, a=0.38556236008350964 e=0.10110000000000031 inc=0.0 Omega=0.0 omega=0.0 f=0.0>\n",
      "<rebound.Orbit instance, a=0.7430052823165784 e=0.20240000000000005 inc=0.0 Omega=0.0 omega=0.0 f=0.0>\n"
     ]
    }
   ],
   "source": [
    "o = sim.calculate_orbits(jacobi_masses=True)\n",
    "for orbit in o:\n",
    "    print(orbit)"
   ]
  },
  {
   "cell_type": "code",
   "execution_count": 11,
   "metadata": {},
   "outputs": [
    {
     "name": "stdout",
     "output_type": "stream",
     "text": [
      "nan nan nan nan nan nan\n",
      "0.5395034928159745 0.010956428282117242 3.1539813412005785e-08 -0.0 1.001 0.0009990009990009992\n",
      "0.6237226153039576 0.0031831014781202654 1.3394653797149654e-08 -0.0 1.0009990009990009 0.0009990019960079842\n",
      "0.8627155060650645 0.017849304725275024 2.9112592620311125e-08 -0.0 1.0009980039920159 0.0009990029910269195\n"
     ]
    }
   ],
   "source": [
    "pvars = Poincare.from_Simulation(sim)#, average=False)\n",
    "#pvars.average_synodic_terms()\n",
    "for p in pvars.particles:\n",
    "    print(p.sLambda, p.sGamma, p.l, p.gamma, p.M, p.m)"
   ]
  },
  {
   "cell_type": "code",
   "execution_count": 12,
   "metadata": {},
   "outputs": [
    {
     "name": "stdout",
     "output_type": "stream",
     "text": [
      "0.04853498504436155 3.141592630694128\n"
     ]
    }
   ],
   "source": [
    "from celmech import Andoyer\n",
    "\n",
    "avars = Andoyer.from_Simulation(sim, j=3, k=1, a10=ps[1].a, i1=1, i2=2)\n",
    "print(avars.Z, avars.phi)"
   ]
  },
  {
   "cell_type": "code",
   "execution_count": 13,
   "metadata": {},
   "outputs": [
    {
     "name": "stdout",
     "output_type": "stream",
     "text": [
      "0.04853498504436155 3.141592630694128\n"
     ]
    }
   ],
   "source": [
    "from celmech import Andoyer\n",
    "from celmech.transformations import masses_to_jacobi\n",
    "import numpy as np\n",
    "from celmech import Poincare\n",
    "\n",
    "mjac, Mjac = masses_to_jacobi([p.m for p in ps])\n",
    "pvars = Poincare(sim.G)\n",
    "for i in range(1, sim.N-sim.N_var):\n",
    "    M = Mjac[i]\n",
    "    m = mjac[i]\n",
    "    primary = sim.calculate_com(last=i)\n",
    "    primary.m = Mjac[i]-ps[i].m\n",
    "    o = ps[i].calculate_orbit(primary=primary)\n",
    "    sLambda = np.sqrt(sim.G*M*o.a)\n",
    "    sGamma = sLambda*(1.-np.sqrt(1.-o.e**2))\n",
    "    pvars.add(m=m, sLambda=sLambda, l=o.l, sGamma=sGamma, gamma=-o.pomega, M=M)\n",
    "pvars.average_synodic_terms()\n",
    "avars = Andoyer.from_Poincare(pvars, j=3, k=1, a10=ps[1].a, i1=1, i2=2)\n",
    "print(avars.Z, avars.phi)"
   ]
  },
  {
   "cell_type": "code",
   "execution_count": null,
   "metadata": {},
   "outputs": [],
   "source": []
  }
 ],
 "metadata": {
  "kernelspec": {
   "display_name": "Python 3",
   "language": "python",
   "name": "python3"
  },
  "language_info": {
   "codemirror_mode": {
    "name": "ipython",
    "version": 3
   },
   "file_extension": ".py",
   "mimetype": "text/x-python",
   "name": "python",
   "nbconvert_exporter": "python",
   "pygments_lexer": "ipython3",
   "version": "3.7.2"
  }
 },
 "nbformat": 4,
 "nbformat_minor": 2
}
