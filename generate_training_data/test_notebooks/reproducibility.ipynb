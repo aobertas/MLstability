{
 "cells": [
  {
   "cell_type": "markdown",
   "metadata": {},
   "source": [
    "- For resonant and Ari TTV systems use REBOUND commit b165135deb8c5f2920abaed1637657ef8ce4f087\n",
    "- For random and Naireen systems use REBOUND commit db3ae2cea8f3462463d3e0c5788a34625bb49a9c\n",
    "\n",
    "The resonant and Ari TTV systems use different REBOUND commits (a675e6f92cba32bae86f94739faec3b1b3098e81 for resonant). The problem is that this version doesn't have a __del__ function for the simulation archives and you get an error of too many open files when you run this. Instead we use the current latest commit (25f856dc2f79e0ad17b2f6bd604225f550593376) which does. I test below that I can reproduce the integrations bit by bit, so this should work. Going beyond this, there was a bug with keep_unsynchronized=1 and using MEGNO, so we now use the patch b165135deb8c5f2920abaed1637657ef8ce4f087. I test below that an integration that initializes MEGNO gives the same result as the original sim archives that don't.\n",
    "\n",
    "The same commit above works for the random and Naireen distribution systems. Depending on which you load above, that pair will give the same results below, the other two will not (or won't work). But the same testsim function can work on all which lets us always use the same function in generatedata/training_data_functions.py. I also checked that with the old version for random and naireen systems, before keep_unsynchronized was implemented, we get reproducible results even with megno_init() so there's no problem.\n",
    "\n",
    "When we ran the resonant integrations (with the new simarchive), we did with safe_mode = 0 so we don't repeat kepler half steps. But this also sets sim.ri_whfast.keep_unsynchronized = 0, which you need for reproducibility. A value of 1 means that even if you synchronize, you'll keep integrating from the unsynchronized state if you keep going. So when integrating through a list of times, we need to set this if we want to match the sim archives. Also, the simarchives with safe_mode = 0 will be in an unsynchronized state (see simarchiverestart ipython_example), so we have to synchronize before comparing output. Even though I don't think it does anything for the old integrations, we can always set keep_unsynchronized = 1 and use the same function for all integrations"
   ]
  },
  {
   "cell_type": "code",
   "execution_count": 1,
   "metadata": {},
   "outputs": [
    {
     "data": {
      "text/plain": [
       "'3.4.0'"
      ]
     },
     "execution_count": 1,
     "metadata": {},
     "output_type": "execute_result"
    }
   ],
   "source": [
    "import rebound\n",
    "rebound.__version__"
   ]
  },
  {
   "cell_type": "code",
   "execution_count": 2,
   "metadata": {},
   "outputs": [],
   "source": [
    "import numpy as np\n",
    "import matplotlib.pyplot as plt\n",
    "import pandas as pd\n",
    "import dask.dataframe as dd\n",
    "%matplotlib inline"
   ]
  },
  {
   "cell_type": "code",
   "execution_count": 5,
   "metadata": {},
   "outputs": [],
   "source": [
    "def testsim(sim, times):\n",
    "    sim.ri_whfast.keep_unsynchronized = 1 # Without this we won't match sim archive, see above\n",
    "    sim.init_megno()\n",
    "    val = np.zeros((Nout, 19))\n",
    "    for i, time in enumerate(times):\n",
    "        sim.integrate(time, exact_finish_time=0)\n",
    "        orbits = sim.calculate_orbits()\n",
    "        for j, o in enumerate(orbits):\n",
    "            val[i,0] = sim.t\n",
    "            val[i,6*j+1] = o.a\n",
    "            val[i,6*j+2] = o.e\n",
    "            val[i,6*j+3] = o.inc\n",
    "            val[i,6*j+4] = o.Omega\n",
    "            val[i,6*j+5] = o.pomega\n",
    "            val[i,6*j+6] = o.M\n",
    "    return sim, val"
   ]
  },
  {
   "cell_type": "code",
   "execution_count": 6,
   "metadata": {},
   "outputs": [],
   "source": [
    "Nout = 1729\n",
    "times = np.linspace(0, 1e4, Nout)"
   ]
  },
  {
   "cell_type": "markdown",
   "metadata": {},
   "source": [
    "# Random"
   ]
  },
  {
   "cell_type": "code",
   "execution_count": 7,
   "metadata": {},
   "outputs": [
    {
     "name": "stdout",
     "output_type": "stream",
     "text": [
      "---------------------------------\n",
      "REBOUND version:     \t3.4.0\n",
      "REBOUND built on:    \tApr  2 2019 10:18:57\n",
      "Number of particles: \t8\n",
      "Selected integrator: \twhfast\n",
      "Simulation time:     \t1.0000000277011167e+06\n",
      "Current timestep:    \t0.034640\n",
      "---------------------------------\n",
      "<rebound.Particle object, m=1.0 x=-3.629182535523935e-05 y=1.1843522755585877e-05 z=9.692032962716541e-08 vx=-2.7539975849184616e-05 vy=-0.00021744008363471437 vz=-8.43155749795529e-07>\n",
      "<rebound.Particle object, m=3.4140160192072926e-05 x=0.9225193262954728 y=0.4107034942938748 z=-0.007950327673330494 vx=-2.4266312875245175 vy=5.726893721352419 vz=0.04678499897728613>\n",
      "<rebound.Particle object, m=1.8787249753397036e-05 x=0.16981871403865156 y=-1.2279135896541034 z=0.011612920399274694 vx=5.527494030376944 vy=0.9037972044771627 vz=-0.06443832825556559>\n",
      "<rebound.Particle object, m=1.8268998599127623e-06 x=0.87932635067516 y=-1.5303994574427984 z=-0.02390372135108166 vx=3.5793674392077772 vy=2.705759021771257 vz=0.24989183412357596>\n",
      "<rebound.Particle object, m=0.0 x=nan y=nan z=nan vx=nan vy=nan vz=nan>\n",
      "<rebound.Particle object, m=0.0 x=nan y=nan z=nan vx=nan vy=nan vz=nan>\n",
      "<rebound.Particle object, m=0.0 x=nan y=nan z=nan vx=nan vy=nan vz=nan>\n",
      "<rebound.Particle object, m=0.0 x=nan y=nan z=nan vx=nan vy=nan vz=nan>\n",
      "---------------------------------\n"
     ]
    }
   ],
   "source": [
    "sa = rebound.SimulationArchive('/mnt/ssd/workspace/stability/stabilitydataset/data/random/simulation_archives/runs/sa0000000.bin')\n",
    "tmax = sa[1].t\n",
    "sim = sa[0]\n",
    "sim.ri_whfast.keep_unsynchronized = 1 # this is needed if we want to keep integrating after this\n",
    "sim, val = testsim(sim, times) # one of the data generation functions we run over short period\n",
    "sim.integrate(tmax, exact_finish_time=0) # continue to first output at 1e6 orbits\n",
    "sim.status()"
   ]
  },
  {
   "cell_type": "code",
   "execution_count": 8,
   "metadata": {},
   "outputs": [
    {
     "name": "stdout",
     "output_type": "stream",
     "text": [
      "---------------------------------\n",
      "REBOUND version:     \t3.4.0\n",
      "REBOUND built on:    \tApr  2 2019 10:18:57\n",
      "Number of particles: \t8\n",
      "Selected integrator: \twhfast\n",
      "Simulation time:     \t1.0000000277011167e+06\n",
      "Current timestep:    \t0.034640\n",
      "---------------------------------\n",
      "<rebound.Particle object, m=1.0 x=-3.629182535523935e-05 y=1.1843522755585877e-05 z=9.692032962716541e-08 vx=-2.7539975849184616e-05 vy=-0.00021744008363471437 vz=-8.43155749795529e-07>\n",
      "<rebound.Particle object, m=3.4140160192072926e-05 x=0.9225193262954728 y=0.4107034942938748 z=-0.007950327673330494 vx=-2.4266312875245175 vy=5.726893721352419 vz=0.04678499897728613>\n",
      "<rebound.Particle object, m=1.8787249753397036e-05 x=0.16981871403865156 y=-1.2279135896541034 z=0.011612920399274694 vx=5.527494030376944 vy=0.9037972044771627 vz=-0.06443832825556559>\n",
      "<rebound.Particle object, m=1.8268998599127623e-06 x=0.87932635067516 y=-1.5303994574427984 z=-0.02390372135108166 vx=3.5793674392077772 vy=2.705759021771257 vz=0.24989183412357596>\n",
      "<rebound.Particle object, m=2000000.0211196817 x=127.86692763949111 y=1.000000004325131 z=-1.8521116197954078e-05 vx=2.525239056072309e-06 vy=2.325757874177189e-07 vz=5.378951549300944e-05>\n",
      "<rebound.Particle object, m=3.387946284356744e-21 x=127.87871689571585 y=0.9999207611004525 z=0.6506484090796262 vx=0.6796231308602376 vy=-0.005823439462666051 vz=-4.838007697315441>\n",
      "<rebound.Particle object, m=4.4984796008862995 x=127.822662758464 y=1.0000276823410423 z=-0.2015712566179134 vx=-1.2108597494163325 vy=0.003980673829135862 vz=5.445653695855314>\n",
      "<rebound.Particle object, m=-1.2252595769303873 x=127.75176105509976 y=0.9988286290084084 z=0.05191572712364854 vx=-1.63060775461692 vy=-0.059416800608562595 vz=4.965781895517487>\n",
      "---------------------------------\n"
     ]
    }
   ],
   "source": [
    "sim = sa[1]\n",
    "sim.integrator_synchronize()\n",
    "sim.status()"
   ]
  },
  {
   "cell_type": "markdown",
   "metadata": {},
   "source": [
    "# Naireen"
   ]
  },
  {
   "cell_type": "code",
   "execution_count": 13,
   "metadata": {},
   "outputs": [
    {
     "data": {
      "text/plain": [
       "0.03464101176957022"
      ]
     },
     "execution_count": 13,
     "metadata": {},
     "output_type": "execute_result"
    }
   ],
   "source": [
    "sa = rebound.SimulationArchive('/mnt/ssd/workspace/stability/naireenlustre/data/distributions/Sys_1_1e8/simulation_archives/sa0000000.bin')\n",
    "sim = sa[0]\n",
    "sim.dt # Same dt to 8 decimals"
   ]
  },
  {
   "cell_type": "code",
   "execution_count": 14,
   "metadata": {},
   "outputs": [
    {
     "name": "stdout",
     "output_type": "stream",
     "text": [
      "---------------------------------\n",
      "REBOUND version:     \t3.4.0\n",
      "REBOUND built on:    \tMar  7 2019 14:43:28\n",
      "Number of particles: \t4\n",
      "Selected integrator: \twhfast\n",
      "Simulation time:     \t1.0000000999712122e+05\n",
      "Current timestep:    \t0.034641\n",
      "---------------------------------\n",
      "<rebound.Particle object, m=1.0 x=-9.173480652651816e-06 y=-4.354427286039064e-05 z=5.542083599589504e-07 vx=0.00019654769538463409 vy=2.6979549413033457e-05 vz=4.954382605171793e-06>\n",
      "<rebound.Particle object, m=2.5298381201802596e-07 x=0.8470725506233061 y=0.41095563040632466 z=0.03976918629748858 vx=-3.197193747693299 vy=5.8395491651175195 vz=-0.03451638541126706>\n",
      "<rebound.Particle object, m=3.485789928918549e-05 x=-0.6897739638334781 y=0.9504282798666671 z=-0.005880691556774625 vx=-4.833846067332019 vy=-3.2673866283777704 vz=-0.19088740917165398>\n",
      "<rebound.Particle object, m=1.9557973661340233e-05 x=1.6874578595236527 y=0.5271698723569521 z=-0.01837004039421574 vx=-1.392840495636032 vy=4.368416416186001 vz=0.08734460919345712>\n",
      "---------------------------------\n"
     ]
    }
   ],
   "source": [
    "tmax = sa[1].t\n",
    "sim = sa[0]\n",
    "sim.ri_whfast.keep_unsynchronized = 1 # this is needed if we want to keep integrating after this\n",
    "sim, val = testsim(sim, times) # one of the data generation functions we run over short period\n",
    "sim.integrate(tmax, exact_finish_time=0) # continue to first output at 1e6 orbits\n",
    "sim.status()"
   ]
  },
  {
   "cell_type": "code",
   "execution_count": 15,
   "metadata": {},
   "outputs": [
    {
     "name": "stdout",
     "output_type": "stream",
     "text": [
      "---------------------------------\n",
      "REBOUND version:     \t3.4.0\n",
      "REBOUND built on:    \tMar  7 2019 14:43:28\n",
      "Number of particles: \t4\n",
      "Selected integrator: \twhfast\n",
      "Simulation time:     \t1.0000000999712122e+05\n",
      "Current timestep:    \t0.034641\n",
      "---------------------------------\n",
      "<rebound.Particle object, m=1.0 x=-9.173480652651816e-06 y=-4.354427286039064e-05 z=5.542083599589504e-07 vx=0.00019654769538463409 vy=2.6979549413033457e-05 vz=4.954382605171793e-06>\n",
      "<rebound.Particle object, m=2.5298381201802596e-07 x=0.8470725506233061 y=0.41095563040632466 z=0.03976918629748858 vx=-3.197193747693299 vy=5.8395491651175195 vz=-0.03451638541126706>\n",
      "<rebound.Particle object, m=3.485789928918549e-05 x=-0.6897739638334781 y=0.9504282798666671 z=-0.005880691556774625 vx=-4.833846067332019 vy=-3.2673866283777704 vz=-0.19088740917165398>\n",
      "<rebound.Particle object, m=1.9557973661340233e-05 x=1.6874578595236527 y=0.5271698723569521 z=-0.01837004039421574 vx=-1.392840495636032 vy=4.368416416186001 vz=0.08734460919345712>\n",
      "---------------------------------\n"
     ]
    }
   ],
   "source": [
    "sim = sa[1]\n",
    "sim.integrator_synchronize() # need this step with new sim archive because we used safe_mode = 0\n",
    "sim.status()"
   ]
  },
  {
   "cell_type": "markdown",
   "metadata": {},
   "source": [
    "# Resonant"
   ]
  },
  {
   "cell_type": "code",
   "execution_count": 8,
   "metadata": {},
   "outputs": [
    {
     "name": "stdout",
     "output_type": "stream",
     "text": [
      "---------------------------------\n",
      "REBOUND version:     \t3.8.2\n",
      "REBOUND built on:    \tApr  2 2019 09:39:14\n",
      "Number of particles: \t8\n",
      "Selected integrator: \twhfast\n",
      "Simulation time:     \t1.0000000173176938e+06\n",
      "Current timestep:    \t0.034641\n",
      "---------------------------------\n",
      "<rebound.Particle object, m=0.9999960150799597 x=-3.658542143467641e-06 y=-1.949623323935794e-05 z=9.470806349629878e-08 vx=6.872767724455177e-05 vy=-3.73442855666929e-06 vz=3.496108378488267e-07>\n",
      "<rebound.Particle object, m=3.984920040268468e-06 x=-0.8738958364059268 y=0.4817517647367535 z=-0.003159573737010137 vx=-2.9307195320280233 vy=-5.572709926922893 vz=0.0012280114770667806>\n",
      "<rebound.Particle object, m=1.2444171101394952e-05 x=0.6063431581766432 y=1.4011530424916374 z=-0.007375445763490789 vx=-4.553768175624738 vy=2.174789434522493 vz=-0.026555396336484776>\n",
      "<rebound.Particle object, m=2.531702420746453e-07 x=-1.5977605108526833 y=0.5538766686714539 z=0.03817301570906049 vx=-1.5043238809838 vy=-4.4327274873988936 vz=-0.09496801973501136>\n",
      "<rebound.Particle object, m=1.0000126973413435 x=1716752531.5846274 y=-3827763950.543829 z=43887308.3937378 vx=19084959297.328125 vy=2112420661.7053795 vz=-13774081.125489384>\n",
      "<rebound.Particle object, m=0.0 x=307487446898871.25 y=585146672048196.4 z=-152093220255.48715 vx=-3641939781566001.0 vy=2009495335823340.2 vz=-13310054327109.34>\n",
      "<rebound.Particle object, m=0.0 x=-238876616548333.22 y=116040812134204.12 z=-2346819149375.921 vx=-347443751486800.7 vy=-817389810603229.5 vz=7501235616964.7295>\n",
      "<rebound.Particle object, m=0.0 x=119514990836439.31 y=204320578252044.88 z=-52209841112767.42 vx=-981137952610431.2 vy=204005733878448.66 vz=-104803510677489.14>\n",
      "---------------------------------\n"
     ]
    }
   ],
   "source": [
    "sa = rebound.SimulationArchive('/mnt/ssd/workspace/stability/stabilitydataset/data/resonant/simulation_archives/runs/sa0000000.bin')\n",
    "tmax = sa[1].t\n",
    "sim = sa[0]\n",
    "sim.ri_whfast.keep_unsynchronized = 1 # this is needed if we want to keep integrating after this\n",
    "sim, val = testsim(sim, times) # one of the data generation functions we run over short period\n",
    "sim.integrate(tmax, exact_finish_time=0) # continue to first output at 1e6 orbits\n",
    "sim.status()"
   ]
  },
  {
   "cell_type": "code",
   "execution_count": 9,
   "metadata": {},
   "outputs": [
    {
     "name": "stdout",
     "output_type": "stream",
     "text": [
      "---------------------------------\n",
      "REBOUND version:     \t3.8.2\n",
      "REBOUND built on:    \tApr  2 2019 09:39:14\n",
      "Number of particles: \t4\n",
      "Selected integrator: \twhfast\n",
      "Simulation time:     \t1.0000000173176938e+06\n",
      "Current timestep:    \t0.034641\n",
      "---------------------------------\n",
      "<rebound.Particle object, m=0.9999960150799597 x=-3.658542143467641e-06 y=-1.949623323935794e-05 z=9.470806349629878e-08 vx=6.872767724455177e-05 vy=-3.73442855666929e-06 vz=3.496108378488267e-07>\n",
      "<rebound.Particle object, m=3.984920040268468e-06 x=-0.8738958364059268 y=0.4817517647367535 z=-0.003159573737010137 vx=-2.9307195320280233 vy=-5.572709926922893 vz=0.0012280114770667806>\n",
      "<rebound.Particle object, m=1.2444171101394952e-05 x=0.6063431581766432 y=1.4011530424916374 z=-0.007375445763490789 vx=-4.553768175624738 vy=2.174789434522493 vz=-0.026555396336484776>\n",
      "<rebound.Particle object, m=2.531702420746453e-07 x=-1.5977605108526833 y=0.5538766686714539 z=0.03817301570906049 vx=-1.5043238809838 vy=-4.4327274873988936 vz=-0.09496801973501136>\n",
      "---------------------------------\n"
     ]
    }
   ],
   "source": [
    "sim = sa[1]\n",
    "sim.integrator_synchronize()\n",
    "sim.status()"
   ]
  },
  {
   "cell_type": "code",
   "execution_count": 10,
   "metadata": {},
   "outputs": [
    {
     "data": {
      "text/plain": [
       "0.03464101615137757"
      ]
     },
     "execution_count": 10,
     "metadata": {},
     "output_type": "execute_result"
    }
   ],
   "source": [
    "sim.dt"
   ]
  },
  {
   "cell_type": "markdown",
   "metadata": {},
   "source": [
    "# Ari"
   ]
  },
  {
   "cell_type": "code",
   "execution_count": 14,
   "metadata": {},
   "outputs": [],
   "source": [
    "sa = rebound.SimulationArchive('/mnt/ssd/workspace/stability/stabilitydataset/data/arisystems/output/LP-358-499_1.0e+09orbits_id9_shadow1_inc_SA_final.bin')"
   ]
  },
  {
   "cell_type": "markdown",
   "metadata": {},
   "source": [
    "# The innermost planet now has a different orbital period, but the timestep is still the same fraction to close to machine precision:"
   ]
  },
  {
   "cell_type": "code",
   "execution_count": 16,
   "metadata": {},
   "outputs": [
    {
     "data": {
      "text/plain": [
       "0.034641016151377546"
      ]
     },
     "execution_count": 16,
     "metadata": {},
     "output_type": "execute_result"
    }
   ],
   "source": [
    "sim = sa[0]\n",
    "sim.dt/sim.particles[1].P"
   ]
  },
  {
   "cell_type": "code",
   "execution_count": 17,
   "metadata": {},
   "outputs": [
    {
     "name": "stdout",
     "output_type": "stream",
     "text": [
      "---------------------------------\n",
      "REBOUND version:     \t3.8.1\n",
      "REBOUND built on:    \tMar  6 2019 14:13:11\n",
      "Number of particles: \t4\n",
      "Selected integrator: \twhfast\n",
      "Simulation time:     \t5.2867548944772308e+04\n",
      "Current timestep:    \t0.001831\n",
      "---------------------------------\n",
      "<rebound.Particle object, m=0.51 x=1.9888935707855548e-06 y=4.574007620036054e-06 z=2.3257985471596275e-09 vx=-0.00021735983288460962 vy=0.00013117591295466307 vz=8.43987289328437e-08>\n",
      "<rebound.Particle object, m=1.394052263516913e-05 x=-0.01700860006269193 y=-0.028084214507682483 z=-2.0799382738155986e-05 vx=3.3760091996027533 vy=-2.057333968196099 vz=-0.002662438300027018>\n",
      "<rebound.Particle object, m=6.47116926362907e-06 x=-0.04434516492698455 y=0.005835910248854843 z=3.0177178237943718e-05 vx=-0.4248682324605188 vy=-3.357599146265516 vz=-0.0018568286862161068>\n",
      "<rebound.Particle object, m=2.651717801736003e-05 x=-0.018488463580678866 y=-0.0746308834188611 z=-4.1161416978627016e-05 vx=2.5093008128911323 vy=-0.621929394200273 vz=0.0002295976724445626>\n",
      "---------------------------------\n"
     ]
    }
   ],
   "source": [
    "tmax = sa[1].t\n",
    "sim = sa[0]\n",
    "sim.ri_whfast.keep_unsynchronized = 1 # this is needed if we want to keep integrating after this\n",
    "sim, val = testsim(sim, times) # one of the data generation functions we run over short period\n",
    "sim.integrate(tmax, exact_finish_time=0) # continue to first output at 1e6 orbits\n",
    "sim.status()"
   ]
  },
  {
   "cell_type": "code",
   "execution_count": 18,
   "metadata": {},
   "outputs": [
    {
     "name": "stdout",
     "output_type": "stream",
     "text": [
      "---------------------------------\n",
      "REBOUND version:     \t3.8.1\n",
      "REBOUND built on:    \tMar  6 2019 14:13:11\n",
      "Number of particles: \t4\n",
      "Selected integrator: \twhfast\n",
      "Simulation time:     \t5.2867548944772308e+04\n",
      "Current timestep:    \t0.001831\n",
      "---------------------------------\n",
      "<rebound.Particle object, m=0.51 x=1.9888935707855548e-06 y=4.574007620036054e-06 z=2.3257985471596275e-09 vx=-0.00021735983288460962 vy=0.00013117591295466307 vz=8.43987289328437e-08>\n",
      "<rebound.Particle object, m=1.394052263516913e-05 x=-0.01700860006269193 y=-0.028084214507682483 z=-2.0799382738155986e-05 vx=3.3760091996027533 vy=-2.057333968196099 vz=-0.002662438300027018>\n",
      "<rebound.Particle object, m=6.47116926362907e-06 x=-0.04434516492698455 y=0.005835910248854843 z=3.0177178237943718e-05 vx=-0.4248682324605188 vy=-3.357599146265516 vz=-0.0018568286862161068>\n",
      "<rebound.Particle object, m=2.651717801736003e-05 x=-0.018488463580678866 y=-0.0746308834188611 z=-4.1161416978627016e-05 vx=2.5093008128911323 vy=-0.621929394200273 vz=0.0002295976724445626>\n",
      "---------------------------------\n"
     ]
    }
   ],
   "source": [
    "sim = sa[1]\n",
    "sim.integrator_synchronize() # need this step with new sim archive because we used safe_mode = 0\n",
    "sim.status()"
   ]
  },
  {
   "cell_type": "markdown",
   "metadata": {},
   "source": [
    "# Test to show that even though I'm not reproducible when using newest REBOUND on old (random) integrations, I can still load the binary and get the latest time and masses, so I can always use same commit for generate_data/generate_metadata.py\n"
   ]
  },
  {
   "cell_type": "code",
   "execution_count": 4,
   "metadata": {},
   "outputs": [
    {
     "name": "stderr",
     "output_type": "stream",
     "text": [
      "/mnt/ssd/workspace/rebound/rebound/simulation.py:352: RuntimeWarning: Binary file was saved with a different version of REBOUND. Binary format might have changed.\n",
      "  warnings.warn(message, RuntimeWarning)\n",
      "/mnt/ssd/workspace/rebound/rebound/simulation.py:352: RuntimeWarning: You have to reset function pointers after creating a reb_simulation struct with a binary file.\n",
      "  warnings.warn(message, RuntimeWarning)\n",
      "/mnt/ssd/workspace/rebound/rebound/simulation.py:352: RuntimeWarning: Encountered unkown field in file. File might have been saved with a different version of REBOUND.\n",
      "  warnings.warn(message, RuntimeWarning)\n"
     ]
    },
    {
     "data": {
      "text/plain": [
       "12356442.121674882"
      ]
     },
     "execution_count": 4,
     "metadata": {},
     "output_type": "execute_result"
    }
   ],
   "source": [
    "sim = rebound.Simulation('/mnt/ssd/workspace/stability/stabilitydataset/data/random/final_conditions/runs/fc0000000.bin')\n",
    "sim.t"
   ]
  },
  {
   "cell_type": "code",
   "execution_count": 7,
   "metadata": {},
   "outputs": [
    {
     "name": "stderr",
     "output_type": "stream",
     "text": [
      "/mnt/ssd/workspace/rebound/rebound/simulationarchive.py:89: RuntimeWarning: Binary file was saved with a different version of REBOUND. Binary format might have changed.\n",
      "  warnings.warn(message, RuntimeWarning)\n",
      "/mnt/ssd/workspace/rebound/rebound/simulationarchive.py:138: RuntimeWarning: Binary file was saved with a different version of REBOUND. Binary format might have changed.\n",
      "  warnings.warn(message, RuntimeWarning)\n",
      "/mnt/ssd/workspace/rebound/rebound/simulationarchive.py:138: RuntimeWarning: You have to reset function pointers after creating a reb_simulation struct with a binary file.\n",
      "  warnings.warn(message, RuntimeWarning)\n",
      "/mnt/ssd/workspace/rebound/rebound/simulationarchive.py:138: RuntimeWarning: Encountered unkown field in file. File might have been saved with a different version of REBOUND.\n",
      "  warnings.warn(message, RuntimeWarning)\n"
     ]
    }
   ],
   "source": [
    "sa = rebound.SimulationArchive('/mnt/ssd/workspace/stability/stabilitydataset/data/random/simulation_archives/runs/sa0000000.bin')\n",
    "sim = sa[0]"
   ]
  },
  {
   "cell_type": "code",
   "execution_count": 8,
   "metadata": {},
   "outputs": [
    {
     "data": {
      "text/plain": [
       "3.4140160192072926e-05"
      ]
     },
     "execution_count": 8,
     "metadata": {},
     "output_type": "execute_result"
    }
   ],
   "source": [
    "sim.particles[1].m"
   ]
  },
  {
   "cell_type": "code",
   "execution_count": null,
   "metadata": {},
   "outputs": [],
   "source": []
  }
 ],
 "metadata": {
  "kernelspec": {
   "display_name": "Python 3",
   "language": "python",
   "name": "python3"
  },
  "language_info": {
   "codemirror_mode": {
    "name": "ipython",
    "version": 3
   },
   "file_extension": ".py",
   "mimetype": "text/x-python",
   "name": "python",
   "nbconvert_exporter": "python",
   "pygments_lexer": "ipython3",
   "version": "3.7.2"
  }
 },
 "nbformat": 4,
 "nbformat_minor": 2
}
