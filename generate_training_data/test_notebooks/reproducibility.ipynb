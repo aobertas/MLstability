{
 "cells": [
  {
   "cell_type": "markdown",
   "metadata": {},
   "source": [
    "- For resonant and Ari TTV systems use REBOUND commit 6fb912f615ca542b670ab591375191d1ed914672\n",
    "- For random and Naireen systems use REBOUND commit 48feb327f90611a5569682578980b5604aa6102a on the oldMLstability branch\n",
    "\n",
    "The resonant and Ari TTV systems use different REBOUND commits (a675e6f92cba32bae86f94739faec3b1b3098e81 for resonant). The problem is that this version doesn't have a __del__ function for the simulation archives and you get an error of too many open files when you run this. There was also a bug with keep_unsynchronized=1 and using MEGNO, so we now use the patch 06c95e2a69d319de3b077d92f2541cdcdf68a8fa. I test below that an integration that initializes MEGNO gives the same result as the original sim archives that don't. I then fixed something with collisions so the commit to use is 6fb912f615ca542b670ab591375191d1ed914672. Can see details in REBOUND repo pull requests.\n",
    "\n",
    "The same commit 48feb327f90611a5569682578980b5604aa6102a works for the random and Naireen distribution systems. I had to branch from the old commit used to run the long integrations db3ae2cea8f3462463d3e0c5788a34625bb49a9c (actually it's not the exact one but close to it), and add the patches to calculate megno/lyap correctly with keep_unsynchronized=1 (which we need to match bit by bit). \n",
    "\n",
    "Depending on which you load above, that pair will give the same results below, the other two will not (or won't work). But the same testsim function can work on all which lets us always use the same function in generatedata/training_data_functions.py. \n",
    "\n",
    "When we ran the resonant integrations (with the new simarchive), we did with safe_mode = 0 so we don't repeat kepler half steps. This means the sim will be in an unsynchronized state (see simarchiverestart ipython_example) when we load any snapshot but the first one, so we have to synchronize before comparing output. \n",
    "\n",
    "We need to use sim.ri_whfast.keep_unsynchronized = 1 for reproducibility. A value of 1 means that even if you synchronize, you'll keep integrating from the unsynchronized state if you keep going. So when integrating through a list of times, we need to set this if we want to match the sim archives. "
   ]
  },
  {
   "cell_type": "code",
   "execution_count": 1,
   "metadata": {},
   "outputs": [],
   "source": [
    "import numpy as np\n",
    "import matplotlib.pyplot as plt\n",
    "import pandas as pd\n",
    "import dask.dataframe as dd\n",
    "import rebound\n",
    "%matplotlib inline\n",
    "\n",
    "datafolder = '/mnt/ssd/Dropbox/Dropbox (Princeton)/workspace/stability/stabilitydataset/data/'\n",
    "Nout = 1729"
   ]
  },
  {
   "cell_type": "code",
   "execution_count": 2,
   "metadata": {},
   "outputs": [],
   "source": [
    "def collision(reb_sim, col):\n",
    "    reb_sim.contents._status = 5\n",
    "    return 0\n",
    "\n",
    "def testsim(sim, times):\n",
    "    sim.collision_resolve = collision\n",
    "    sim.ri_whfast.keep_unsynchronized = 1\n",
    "    sim.init_megno()\n",
    "    val = np.zeros((Nout, 19))\n",
    "    for i, time in enumerate(times):\n",
    "        sim.integrate(time, exact_finish_time=0)\n",
    "        orbits = sim.calculate_orbits()\n",
    "        for j, o in enumerate(orbits):\n",
    "            val[i,0] = sim.t\n",
    "            val[i,6*j+1] = o.a\n",
    "            val[i,6*j+2] = o.e\n",
    "            val[i,6*j+3] = o.inc\n",
    "            val[i,6*j+4] = o.Omega\n",
    "            val[i,6*j+5] = o.pomega\n",
    "            val[i,6*j+6] = o.M\n",
    "    return sim, val"
   ]
  },
  {
   "cell_type": "markdown",
   "metadata": {},
   "source": [
    "# Random"
   ]
  },
  {
   "cell_type": "code",
   "execution_count": 3,
   "metadata": {},
   "outputs": [
    {
     "name": "stdout",
     "output_type": "stream",
     "text": [
      "---------------------------------\n",
      "REBOUND version:     \t3.4.0\n",
      "REBOUND built on:    \tJul 15 2019 09:59:19\n",
      "Number of particles: \t8\n",
      "Selected integrator: \twhfast\n",
      "Simulation time:     \t1.0000000277011167e+06\n",
      "Current timestep:    \t0.034640\n",
      "---------------------------------\n",
      "<rebound.Particle object, m=1.0 x=-3.629182535523935e-05 y=1.1843522755585877e-05 z=9.692032962716541e-08 vx=-2.7539975849184616e-05 vy=-0.00021744008363471437 vz=-8.43155749795529e-07>\n",
      "<rebound.Particle object, m=3.4140160192072926e-05 x=0.9225193262954728 y=0.4107034942938748 z=-0.007950327673330494 vx=-2.4266312875245175 vy=5.726893721352419 vz=0.04678499897728613>\n",
      "<rebound.Particle object, m=1.8787249753397036e-05 x=0.16981871403865156 y=-1.2279135896541034 z=0.011612920399274694 vx=5.527494030376944 vy=0.9037972044771627 vz=-0.06443832825556559>\n",
      "<rebound.Particle object, m=1.8268998599127623e-06 x=0.87932635067516 y=-1.5303994574427984 z=-0.02390372135108166 vx=3.5793674392077772 vy=2.705759021771257 vz=0.24989183412357596>\n",
      "<rebound.Particle object, m=0.0 x=nan y=nan z=nan vx=nan vy=nan vz=nan>\n",
      "<rebound.Particle object, m=0.0 x=nan y=nan z=nan vx=nan vy=nan vz=nan>\n",
      "<rebound.Particle object, m=0.0 x=nan y=nan z=nan vx=nan vy=nan vz=nan>\n",
      "<rebound.Particle object, m=0.0 x=nan y=nan z=nan vx=nan vy=nan vz=nan>\n",
      "---------------------------------\n",
      "CPU times: user 1min 1s, sys: 11.1 ms, total: 1min 1s\n",
      "Wall time: 1min 1s\n"
     ]
    }
   ],
   "source": [
    "%%time\n",
    "sa = rebound.SimulationArchive(datafolder+'random/simulation_archives/runs/sa0000000.bin')\n",
    "tmax = sa[1].t\n",
    "sim = sa[0]\n",
    "\n",
    "times = np.linspace(0, tmax, Nout)\n",
    "sim, val = testsim(sim, times) # one of the data generation functions we run over short period\n",
    "sim.status()"
   ]
  },
  {
   "cell_type": "code",
   "execution_count": 4,
   "metadata": {},
   "outputs": [
    {
     "name": "stdout",
     "output_type": "stream",
     "text": [
      "---------------------------------\n",
      "REBOUND version:     \t3.4.0\n",
      "REBOUND built on:    \tJul 15 2019 09:59:19\n",
      "Number of particles: \t8\n",
      "Selected integrator: \twhfast\n",
      "Simulation time:     \t1.0000000277011167e+06\n",
      "Current timestep:    \t0.034640\n",
      "---------------------------------\n",
      "<rebound.Particle object, m=1.0 x=-3.629182535523935e-05 y=1.1843522755585877e-05 z=9.692032962716541e-08 vx=-2.7539975849184616e-05 vy=-0.00021744008363471437 vz=-8.43155749795529e-07>\n",
      "<rebound.Particle object, m=3.4140160192072926e-05 x=0.9225193262954728 y=0.4107034942938748 z=-0.007950327673330494 vx=-2.4266312875245175 vy=5.726893721352419 vz=0.04678499897728613>\n",
      "<rebound.Particle object, m=1.8787249753397036e-05 x=0.16981871403865156 y=-1.2279135896541034 z=0.011612920399274694 vx=5.527494030376944 vy=0.9037972044771627 vz=-0.06443832825556559>\n",
      "<rebound.Particle object, m=1.8268998599127623e-06 x=0.87932635067516 y=-1.5303994574427984 z=-0.02390372135108166 vx=3.5793674392077772 vy=2.705759021771257 vz=0.24989183412357596>\n",
      "<rebound.Particle object, m=2000000.0211196817 x=127.86692763949111 y=1.000000004325131 z=-1.8521116197954078e-05 vx=2.525239056072309e-06 vy=2.325757874177189e-07 vz=5.378951549300944e-05>\n",
      "<rebound.Particle object, m=3.387946284356744e-21 x=127.87871689571585 y=0.9999207611004525 z=0.6506484090796262 vx=0.6796231308602376 vy=-0.005823439462666051 vz=-4.838007697315441>\n",
      "<rebound.Particle object, m=4.4984796008862995 x=127.822662758464 y=1.0000276823410423 z=-0.2015712566179134 vx=-1.2108597494163325 vy=0.003980673829135862 vz=5.445653695855314>\n",
      "<rebound.Particle object, m=-1.2252595769303873 x=127.75176105509976 y=0.9988286290084084 z=0.05191572712364854 vx=-1.63060775461692 vy=-0.059416800608562595 vz=4.965781895517487>\n",
      "---------------------------------\n"
     ]
    }
   ],
   "source": [
    "sim = sa[1]\n",
    "sim.integrator_synchronize()\n",
    "sim.status()"
   ]
  },
  {
   "cell_type": "markdown",
   "metadata": {},
   "source": [
    "# Naireen"
   ]
  },
  {
   "cell_type": "code",
   "execution_count": 5,
   "metadata": {},
   "outputs": [
    {
     "name": "stdout",
     "output_type": "stream",
     "text": [
      "---------------------------------\n",
      "REBOUND version:     \t3.4.0\n",
      "REBOUND built on:    \tJul 15 2019 09:59:19\n",
      "Number of particles: \t8\n",
      "Selected integrator: \twhfast\n",
      "Simulation time:     \t1.0000000999712122e+05\n",
      "Current timestep:    \t0.034641\n",
      "---------------------------------\n",
      "<rebound.Particle object, m=1.0 x=-9.173480652651816e-06 y=-4.354427286039064e-05 z=5.542083599589504e-07 vx=0.00019654769538463409 vy=2.6979549413033457e-05 vz=4.954382605171793e-06>\n",
      "<rebound.Particle object, m=2.5298381201802596e-07 x=0.8470725506233061 y=0.41095563040632466 z=0.03976918629748858 vx=-3.197193747693299 vy=5.8395491651175195 vz=-0.03451638541126706>\n",
      "<rebound.Particle object, m=3.485789928918549e-05 x=-0.6897739638334781 y=0.9504282798666671 z=-0.005880691556774625 vx=-4.833846067332019 vy=-3.2673866283777704 vz=-0.19088740917165398>\n",
      "<rebound.Particle object, m=1.9557973661340233e-05 x=1.6874578595236527 y=0.5271698723569521 z=-0.01837004039421574 vx=-1.392840495636032 vy=4.368416416186001 vz=0.08734460919345712>\n",
      "<rebound.Particle object, m=0.0 x=4.75554140962606e+127 y=1.808834151923641e+128 z=3.8305391826186476e+126 vx=-1.0714920659293436e+129 vy=1.7765246325440152e+128 vz=-3.49610417878863e+127>\n",
      "<rebound.Particle object, m=0.0 x=2.1481745330799632e+134 y=-3.9522002583178324e+134 z=2.0452920530582556e+132 vx=2.7389254270784348e+135 vy=1.346708511173514e+135 vz=1.2910890594965756e+134>\n",
      "<rebound.Particle object, m=0.0 x=-3.009295949405923e+132 y=-2.151276929627683e+132 z=-1.2153556406767447e+131 vx=1.0326127782042031e+133 vy=-1.496480515586459e+133 vz=7.095567055178559e+130>\n",
      "<rebound.Particle object, m=0.0 x=1.5323585487527996e+131 y=-3.021863112102154e+131 z=-5.700514403827688e+129 vx=9.531226804496354e+131 vy=1.6840982477263444e+131 vz=-8.936867686406543e+129>\n",
      "---------------------------------\n",
      "CPU times: user 6.37 s, sys: 0 ns, total: 6.37 s\n",
      "Wall time: 6.38 s\n"
     ]
    }
   ],
   "source": [
    "%%time\n",
    "sa = rebound.SimulationArchive(datafolder+'distributions/Sys_1_1e8/simulation_archives/sa0000000.bin')\n",
    "tmax = sa[1].t\n",
    "sim = sa[0]\n",
    "times = np.linspace(0, tmax, Nout)\n",
    "sim, val = testsim(sim, times) # one of the data generation functions we run over short period\n",
    "sim.status()"
   ]
  },
  {
   "cell_type": "code",
   "execution_count": 6,
   "metadata": {},
   "outputs": [
    {
     "name": "stdout",
     "output_type": "stream",
     "text": [
      "---------------------------------\n",
      "REBOUND version:     \t3.4.0\n",
      "REBOUND built on:    \tJul 15 2019 09:59:19\n",
      "Number of particles: \t8\n",
      "Selected integrator: \twhfast\n",
      "Simulation time:     \t1.0000000999712122e+05\n",
      "Current timestep:    \t0.034641\n",
      "---------------------------------\n",
      "<rebound.Particle object, m=1.0 x=-9.173480652651816e-06 y=-4.354427286039064e-05 z=5.542083599589504e-07 vx=0.00019654769538463409 vy=2.6979549413033457e-05 vz=4.954382605171793e-06>\n",
      "<rebound.Particle object, m=2.5298381201802596e-07 x=0.8470725506233061 y=0.41095563040632466 z=0.03976918629748858 vx=-3.197193747693299 vy=5.8395491651175195 vz=-0.03451638541126706>\n",
      "<rebound.Particle object, m=3.485789928918549e-05 x=-0.6897739638334781 y=0.9504282798666671 z=-0.005880691556774625 vx=-4.833846067332019 vy=-3.2673866283777704 vz=-0.19088740917165398>\n",
      "<rebound.Particle object, m=1.9557973661340233e-05 x=1.6874578595236527 y=0.5271698723569521 z=-0.01837004039421574 vx=-1.392840495636032 vy=4.368416416186001 vz=0.08734460919345712>\n",
      "<rebound.Particle object, m=200000.02004561835 x=15.127389045651759 y=1.0000000258318145 z=6.716446683706645e-06 vx=3.986721346762383e-06 vy=2.9550244486274844e-06 vz=-7.371600271528733e-05>\n",
      "<rebound.Particle object, m=1.3551786295404944e-20 x=15.143370500262057 y=1.000618892075125 z=0.3645596905902085 vx=0.9480287875220863 vy=0.04858238379341492 vz=-5.759198254946525>\n",
      "<rebound.Particle object, m=3.0189357745944174 x=15.249457247393675 y=0.9990476281355728 z=-0.8312568830819071 vx=-0.7074360868691655 vy=-0.09255626344518994 vz=4.1613358215012095>\n",
      "<rebound.Particle object, m=-4.653484826932039 x=15.009553267253445 y=1.0003686117227593 z=1.1334095601934349 vx=1.044749264050221 vy=0.01324277806757939 vz=-3.573091954230042>\n",
      "---------------------------------\n"
     ]
    }
   ],
   "source": [
    "sim = sa[1]\n",
    "sim.integrator_synchronize() # need this step with new sim archive because we used safe_mode = 0\n",
    "sim.status()"
   ]
  },
  {
   "cell_type": "markdown",
   "metadata": {},
   "source": [
    "# Resonant"
   ]
  },
  {
   "cell_type": "code",
   "execution_count": 3,
   "metadata": {},
   "outputs": [
    {
     "name": "stderr",
     "output_type": "stream",
     "text": [
      "/mnt/ssd/Dropbox/Dropbox (Princeton)/workspace/rebound/rebound/simulationarchive.py:89: RuntimeWarning: Binary file was saved with a different version of REBOUND. Binary format might have changed.\n",
      "  warnings.warn(message, RuntimeWarning)\n",
      "/mnt/ssd/Dropbox/Dropbox (Princeton)/workspace/rebound/rebound/simulationarchive.py:138: RuntimeWarning: Binary file was saved with a different version of REBOUND. Binary format might have changed.\n",
      "  warnings.warn(message, RuntimeWarning)\n",
      "/mnt/ssd/Dropbox/Dropbox (Princeton)/workspace/rebound/rebound/simulationarchive.py:138: RuntimeWarning: Encountered unkown field in file. File might have been saved with a different version of REBOUND.\n",
      "  warnings.warn(message, RuntimeWarning)\n"
     ]
    },
    {
     "name": "stdout",
     "output_type": "stream",
     "text": [
      "---------------------------------\n",
      "REBOUND version:     \t3.8.3\n",
      "REBOUND built on:    \tJul 15 2019 10:02:53\n",
      "Number of particles: \t8\n",
      "Selected integrator: \twhfast\n",
      "Simulation time:     \t1.0000000173176938e+06\n",
      "Current timestep:    \t0.034641\n",
      "---------------------------------\n",
      "<rebound.Particle object, m=0.9999960150799597 x=-3.658542143467641e-06 y=-1.949623323935794e-05 z=9.470806349629878e-08 vx=6.872767724455177e-05 vy=-3.73442855666929e-06 vz=3.496108378488267e-07>\n",
      "<rebound.Particle object, m=3.984920040268468e-06 x=-0.8738958364059268 y=0.4817517647367535 z=-0.003159573737010137 vx=-2.9307195320280233 vy=-5.572709926922893 vz=0.0012280114770667806>\n",
      "<rebound.Particle object, m=1.2444171101394952e-05 x=0.6063431581766432 y=1.4011530424916374 z=-0.007375445763490789 vx=-4.553768175624738 vy=2.174789434522493 vz=-0.026555396336484776>\n",
      "<rebound.Particle object, m=2.531702420746453e-07 x=-1.5977605108526833 y=0.5538766686714539 z=0.03817301570906049 vx=-1.5043238809838 vy=-4.4327274873988936 vz=-0.09496801973501136>\n",
      "<rebound.Particle object, m=0.0 x=4930487764.575383 y=-10991242310.686579 z=123363536.99877734 vx=54804041018.110275 vy=6065989290.711975 vz=-39553419.60710788>\n",
      "<rebound.Particle object, m=0.0 x=882975677142871.6 y=1680297143840696.0 z=-436750955022.44495 vx=-1.0458131786253564e+16 vy=5770432326964369.0 vz=-38220923686611.66>\n",
      "<rebound.Particle object, m=0.0 x=-685953954032872.8 y=333220789026056.1 z=-6739088406304.121 vx=-997713452770216.5 vy=-2347202425323961.5 vz=21540420358654.46>\n",
      "<rebound.Particle object, m=0.0 x=343197264717785.0 y=586723541427177.2 z=-149924912005665.34 vx=-2817419486856259.0 vy=585819446470562.2 vz=-300951997995455.25>\n",
      "---------------------------------\n",
      "CPU times: user 1min 6s, sys: 8.55 ms, total: 1min 6s\n",
      "Wall time: 1min 6s\n"
     ]
    }
   ],
   "source": [
    "%%time\n",
    "sa = rebound.SimulationArchive(datafolder+'resonant/simulation_archives/runs/sa0000000.bin')\n",
    "tmax = sa[1].t\n",
    "sim = sa[0]\n",
    "times = np.linspace(0, tmax, Nout)\n",
    "sim, val = testsim(sim, times) # one of the data generation functions we run over short period\n",
    "sim.status()"
   ]
  },
  {
   "cell_type": "code",
   "execution_count": 4,
   "metadata": {},
   "outputs": [
    {
     "name": "stdout",
     "output_type": "stream",
     "text": [
      "---------------------------------\n",
      "REBOUND version:     \t3.8.3\n",
      "REBOUND built on:    \tJul 15 2019 10:02:53\n",
      "Number of particles: \t4\n",
      "Selected integrator: \twhfast\n",
      "Simulation time:     \t1.0000000173176938e+06\n",
      "Current timestep:    \t0.034641\n",
      "---------------------------------\n",
      "<rebound.Particle object, m=0.9999960150799597 x=-3.658542143467641e-06 y=-1.949623323935794e-05 z=9.470806349629878e-08 vx=6.872767724455177e-05 vy=-3.73442855666929e-06 vz=3.496108378488267e-07>\n",
      "<rebound.Particle object, m=3.984920040268468e-06 x=-0.8738958364059268 y=0.4817517647367535 z=-0.003159573737010137 vx=-2.9307195320280233 vy=-5.572709926922893 vz=0.0012280114770667806>\n",
      "<rebound.Particle object, m=1.2444171101394952e-05 x=0.6063431581766432 y=1.4011530424916374 z=-0.007375445763490789 vx=-4.553768175624738 vy=2.174789434522493 vz=-0.026555396336484776>\n",
      "<rebound.Particle object, m=2.531702420746453e-07 x=-1.5977605108526833 y=0.5538766686714539 z=0.03817301570906049 vx=-1.5043238809838 vy=-4.4327274873988936 vz=-0.09496801973501136>\n",
      "---------------------------------\n"
     ]
    }
   ],
   "source": [
    "sim = sa[1]\n",
    "sim.integrator_synchronize()\n",
    "sim.status()"
   ]
  },
  {
   "cell_type": "markdown",
   "metadata": {},
   "source": [
    "# Ari"
   ]
  },
  {
   "cell_type": "code",
   "execution_count": 7,
   "metadata": {},
   "outputs": [],
   "source": [
    "sa = rebound.SimulationArchive(datafolder+'nonressystems/LP-358-499/simulation_archives/runs/sa0000000.bin')"
   ]
  },
  {
   "cell_type": "markdown",
   "metadata": {},
   "source": [
    "# The innermost planet now has a different orbital period, but the timestep is still the same fraction to close to machine precision:"
   ]
  },
  {
   "cell_type": "code",
   "execution_count": 8,
   "metadata": {},
   "outputs": [
    {
     "name": "stderr",
     "output_type": "stream",
     "text": [
      "/mnt/ssd/Dropbox/Dropbox (Princeton)/workspace/rebound/rebound/simulationarchive.py:138: RuntimeWarning: You have to reset function pointers after creating a reb_simulation struct with a binary file.\n",
      "  warnings.warn(message, RuntimeWarning)\n"
     ]
    },
    {
     "data": {
      "text/plain": [
       "0.034641016151377546"
      ]
     },
     "execution_count": 8,
     "metadata": {},
     "output_type": "execute_result"
    }
   ],
   "source": [
    "sim = sa[0]\n",
    "sim.dt/sim.particles[1].P"
   ]
  },
  {
   "cell_type": "code",
   "execution_count": 9,
   "metadata": {},
   "outputs": [
    {
     "name": "stdout",
     "output_type": "stream",
     "text": [
      "---------------------------------\n",
      "REBOUND version:     \t3.8.3\n",
      "REBOUND built on:    \tMay 30 2019 11:47:14\n",
      "Number of particles: \t8\n",
      "Selected integrator: \twhfast\n",
      "Simulation time:     \t5.2867929037495232e+04\n",
      "Current timestep:    \t0.001831\n",
      "---------------------------------\n",
      "<rebound.Particle object, m=0.51 x=-9.243438619388608e-06 y=-5.843309887933348e-06 z=-5.364867056784226e-09 vx=0.00025812578933250956 vy=-0.0004070578950174552 vz=3.717095432586538e-07>\n",
      "<rebound.Particle object, m=6.606794029325489e-06 x=0.029415138260382036 y=-0.011719099624968315 z=-2.0293887473444915e-05 vx=1.555005645878225 vy=3.789031687122423 vz=-0.000406892740939987>\n",
      "<rebound.Particle object, m=2.110761752620521e-05 x=0.018112352912284243 y=0.04141347641253959 z=2.7088584243370827e-05 vx=-3.0000505678412064 vy=1.485960978933363 vz=-0.004054656657424565>\n",
      "<rebound.Particle object, m=6.33670720508826e-05 x=0.0652942480233223 y=0.034455969465934946 z=3.627095560720546e-05 vx=-1.2402945581572582 vy=2.3861143277678045 vz=-0.0015986136857349866>\n",
      "<rebound.Particle object, m=0.0 x=-6964.56133531914 y=-15448.810036328403 z=15338.598035399193 vx=20875.737082734966 vy=3442.238476548123 vz=-4.390958421501111>\n",
      "<rebound.Particle object, m=0.0 x=4243520.83715198 y=10330147.586164009 z=14218.259481028997 vx=-1290299206.7070162 vy=512917394.51541513 vz=887503.6159047964>\n",
      "<rebound.Particle object, m=0.0 x=-3260827.8950461373 y=1598766.150200023 z=10948.093128477518 vx=-108237424.4911227 vy=-247856846.9808536 vz=-161926.37070238357>\n",
      "<rebound.Particle object, m=0.0 x=31334.295975784047 y=-89669.26069284673 z=15388.659207249788 vx=2566214.519443117 vy=1374403.1658857944 vz=1415.3878633767888>\n",
      "---------------------------------\n",
      "CPU times: user 1min 4s, sys: 12 ms, total: 1min 4s\n",
      "Wall time: 1min 4s\n"
     ]
    }
   ],
   "source": [
    "%%time\n",
    "tmax = sa[1].t\n",
    "sim = sa[0]\n",
    "times = np.linspace(0, tmax, Nout)\n",
    "sim, val = testsim(sim, times) # one of the data generation functions we run over short period\n",
    "sim.status()"
   ]
  },
  {
   "cell_type": "code",
   "execution_count": 8,
   "metadata": {},
   "outputs": [
    {
     "name": "stdout",
     "output_type": "stream",
     "text": [
      "---------------------------------\n",
      "REBOUND version:     \t3.8.2\n",
      "REBOUND built on:    \tMay  7 2019 13:37:40\n",
      "Number of particles: \t4\n",
      "Selected integrator: \twhfast\n",
      "Simulation time:     \t5.2867929037495232e+04\n",
      "Current timestep:    \t0.001831\n",
      "---------------------------------\n",
      "<rebound.Particle object, m=0.51 x=-9.243438619388608e-06 y=-5.843309887933348e-06 z=-5.364867056784226e-09 vx=0.00025812578933250956 vy=-0.0004070578950174552 vz=3.717095432586538e-07>\n",
      "<rebound.Particle object, m=6.606794029325489e-06 x=0.029415138260382036 y=-0.011719099624968315 z=-2.0293887473444915e-05 vx=1.555005645878225 vy=3.789031687122423 vz=-0.000406892740939987>\n",
      "<rebound.Particle object, m=2.110761752620521e-05 x=0.018112352912284243 y=0.04141347641253959 z=2.7088584243370827e-05 vx=-3.0000505678412064 vy=1.485960978933363 vz=-0.004054656657424565>\n",
      "<rebound.Particle object, m=6.33670720508826e-05 x=0.0652942480233223 y=0.034455969465934946 z=3.627095560720546e-05 vx=-1.2402945581572582 vy=2.3861143277678045 vz=-0.0015986136857349866>\n",
      "---------------------------------\n"
     ]
    }
   ],
   "source": [
    "sim = sa[1]\n",
    "sim.integrator_synchronize() # need this step with new sim archive because we used safe_mode = 0\n",
    "sim.status()"
   ]
  },
  {
   "cell_type": "markdown",
   "metadata": {},
   "source": [
    "# Test to show that even though I'm not reproducible when using newest REBOUND on old (random) integrations, I can still load the binary and get the latest time and masses, so I can always use same commit for generate_data/generate_metadata.py\n"
   ]
  },
  {
   "cell_type": "code",
   "execution_count": 10,
   "metadata": {},
   "outputs": [
    {
     "name": "stderr",
     "output_type": "stream",
     "text": [
      "/mnt/ssd/Dropbox/Dropbox (Princeton)/workspace/rebound/rebound/simulation.py:352: RuntimeWarning: Binary file was saved with a different version of REBOUND. Binary format might have changed.\n",
      "  warnings.warn(message, RuntimeWarning)\n",
      "/mnt/ssd/Dropbox/Dropbox (Princeton)/workspace/rebound/rebound/simulation.py:352: RuntimeWarning: You have to reset function pointers after creating a reb_simulation struct with a binary file.\n",
      "  warnings.warn(message, RuntimeWarning)\n",
      "/mnt/ssd/Dropbox/Dropbox (Princeton)/workspace/rebound/rebound/simulation.py:352: RuntimeWarning: Encountered unkown field in file. File might have been saved with a different version of REBOUND.\n",
      "  warnings.warn(message, RuntimeWarning)\n"
     ]
    },
    {
     "data": {
      "text/plain": [
       "12356442.121674882"
      ]
     },
     "execution_count": 10,
     "metadata": {},
     "output_type": "execute_result"
    }
   ],
   "source": [
    "sim = rebound.Simulation(datafolder+'random/final_conditions/runs/fc0000000.bin')\n",
    "sim.t"
   ]
  },
  {
   "cell_type": "code",
   "execution_count": 12,
   "metadata": {},
   "outputs": [],
   "source": [
    "sa = rebound.SimulationArchive(datafolder+'random/simulation_archives/runs/sa0000000.bin')\n",
    "sim = sa[0]"
   ]
  },
  {
   "cell_type": "code",
   "execution_count": 13,
   "metadata": {},
   "outputs": [
    {
     "data": {
      "text/plain": [
       "3.4140160192072926e-05"
      ]
     },
     "execution_count": 13,
     "metadata": {},
     "output_type": "execute_result"
    }
   ],
   "source": [
    "sim.particles[1].m"
   ]
  }
 ],
 "metadata": {
  "kernelspec": {
   "display_name": "Python 3",
   "language": "python",
   "name": "python3"
  },
  "language_info": {
   "codemirror_mode": {
    "name": "ipython",
    "version": 3
   },
   "file_extension": ".py",
   "mimetype": "text/x-python",
   "name": "python",
   "nbconvert_exporter": "python",
   "pygments_lexer": "ipython3",
   "version": "3.7.3"
  }
 },
 "nbformat": 4,
 "nbformat_minor": 2
}
