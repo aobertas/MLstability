{
 "cells": [
  {
   "cell_type": "code",
   "execution_count": 1,
   "metadata": {},
   "outputs": [],
   "source": [
    "import numpy as np\n",
    "import matplotlib.pyplot as plt\n",
    "import rebound\n",
    "\n",
    "path = '/mnt/ssd/Dropbox/Dropbox (Princeton)/workspace/stability/stabilitydataset/'\n",
    "TTVpath = 'data/TTVsystems/KOI-0314/simulation_archives/runs/sa'\n",
    "respath = 'data/resonant/simulation_archives/runs/sa'"
   ]
  },
  {
   "cell_type": "code",
   "execution_count": 22,
   "metadata": {},
   "outputs": [
    {
     "name": "stderr",
     "output_type": "stream",
     "text": [
      "/mnt/ssd/Dropbox/Dropbox (Princeton)/workspace/rebound/rebound/simulationarchive.py:89: RuntimeWarning: Binary file was saved with a different version of REBOUND. Binary format might have changed.\n",
      "  warnings.warn(message, RuntimeWarning)\n",
      "/mnt/ssd/Dropbox/Dropbox (Princeton)/workspace/rebound/rebound/simulationarchive.py:138: RuntimeWarning: Binary file was saved with a different version of REBOUND. Binary format might have changed.\n",
      "  warnings.warn(message, RuntimeWarning)\n",
      "/mnt/ssd/Dropbox/Dropbox (Princeton)/workspace/rebound/rebound/simulationarchive.py:138: RuntimeWarning: You have to reset function pointers after creating a reb_simulation struct with a binary file.\n",
      "  warnings.warn(message, RuntimeWarning)\n",
      "/mnt/ssd/Dropbox/Dropbox (Princeton)/workspace/rebound/rebound/simulationarchive.py:138: RuntimeWarning: Encountered unkown field in file. File might have been saved with a different version of REBOUND.\n",
      "  warnings.warn(message, RuntimeWarning)\n"
     ]
    },
    {
     "data": {
      "image/png": "[encoded data removed]",
      "text/plain": [
       "<Figure size 360x360 with 1 Axes>"
      ]
     },
     "metadata": {
      "needs_background": "light"
     },
     "output_type": "display_data"
    }
   ],
   "source": [
    "sa = rebound.SimulationArchive(path+TTVpath+'0000002.bin')\n",
    "tmax = sa[1].t\n",
    "sim = sa[0]\n",
    "\n",
    "fig = rebound.OrbitPlot(sim)"
   ]
  },
  {
   "cell_type": "code",
   "execution_count": 23,
   "metadata": {},
   "outputs": [
    {
     "name": "stdout",
     "output_type": "stream",
     "text": [
      "9.529650962789256\n",
      "16.551262470389073\n"
     ]
    }
   ],
   "source": [
    "ps = sim.particles\n",
    "for i in [1,2]:\n",
    "    print((ps[i+1].a-ps[i].a)/ps[i].a/((ps[i].m + ps[i+1].m)/ps[0].m)**(1/3.))"
   ]
  },
  {
   "cell_type": "code",
   "execution_count": 24,
   "metadata": {},
   "outputs": [],
   "source": [
    "ps = sim.particles\n",
    "Mstar = ps[0].m\n",
    "P1 = ps[1].P\n",
    "\n",
    "sim2 = rebound.Simulation()\n",
    "sim2.G = 4*np.pi**2\n",
    "sim2.add(m=1.)\n",
    "\n",
    "for p in ps[1:]: \n",
    "    sim2.add(m=p.m/Mstar, P=p.P/P1, e=p.e, inc=p.inc, pomega=p.pomega, Omega=p.Omega, theta=p.theta)\n",
    "\n",
    "sim2.move_to_com()\n",
    "\n",
    "sim2.integrator=\"whfast\"\n",
    "sim2.dt=sim2.particles[1].P*2.*np.sqrt(3)/100.\n",
    "sim2.ri_whfast.safe_mode = 0\n",
    "sim2.ri_whfast.keep_unsynchronized = 1"
   ]
  },
  {
   "cell_type": "code",
   "execution_count": 25,
   "metadata": {},
   "outputs": [],
   "source": [
    "import sys\n",
    "sys.path.append('../')\n",
    "from training_data_functions import normressummaryfeaturesxgb, AMD_stability_coefficients"
   ]
  },
  {
   "cell_type": "code",
   "execution_count": 26,
   "metadata": {},
   "outputs": [
    {
     "name": "stderr",
     "output_type": "stream",
     "text": [
      "../training_data_functions.py:426: RuntimeWarning: Degrees of freedom <= 0 for slice\n",
      "  var = [EM[:j].var() for j in range(len(EM))]\n",
      "/home/dtamayo/miniconda3/envs/ml/lib/python3.7/site-packages/numpy/core/_methods.py:110: RuntimeWarning: invalid value encountered in true_divide\n",
      "  arrmean, rcount, out=arrmean, casting='unsafe', subok=False)\n",
      "/home/dtamayo/miniconda3/envs/ml/lib/python3.7/site-packages/numpy/core/_methods.py:132: RuntimeWarning: invalid value encountered in double_scalars\n",
      "  ret = ret.dtype.type(ret / rcount)\n",
      "../training_data_functions.py:445: RuntimeWarning: Degrees of freedom <= 0 for slice\n",
      "  var = [Z[:j].var() for j in range(len(Z))]\n"
     ]
    }
   ],
   "source": [
    "nf = normressummaryfeaturesxgb(sim, (10000, 1000))\n",
    "f = normressummaryfeaturesxgb(sim, (10000, 1000))"
   ]
  },
  {
   "cell_type": "code",
   "execution_count": 30,
   "metadata": {},
   "outputs": [
    {
     "data": {
      "text/plain": [
       "1.3363445429382352"
      ]
     },
     "execution_count": 30,
     "metadata": {},
     "output_type": "execute_result"
    }
   ],
   "source": [
    "ps[2].P/ps[1].P"
   ]
  },
  {
   "cell_type": "code",
   "execution_count": 28,
   "metadata": {},
   "outputs": [
    {
     "data": {
      "text/plain": [
       "C_AMD12                1.675509e+01\n",
       "C_AMD23                7.161696e-01\n",
       "C_AMD_max              1.675509e+01\n",
       "Zcross12               2.132413e-01\n",
       "Zcross13               7.113296e-01\n",
       "Zcross23               4.105435e-01\n",
       "maxj                   4.000000e+00\n",
       "maxk                   1.000000e+00\n",
       "maxi1                  1.000000e+00\n",
       "maxi2                  2.000000e+00\n",
       "maxstrength            1.089897e-02\n",
       "secondres              3.243521e-01\n",
       "EMmed12                8.675779e-02\n",
       "EMmax12                1.257573e-01\n",
       "EMdrift12              2.682882e-02\n",
       "capseculartscale12     1.000000e+00\n",
       "EMdetrendedstd12       2.384911e-01\n",
       "EMrollingstd12         1.649134e-01\n",
       "DiffcoeffEM12          3.055733e-09\n",
       "medvarEM12             4.958282e-04\n",
       "Zmed12                 2.104022e-02\n",
       "Zmax12                 4.390484e-02\n",
       "Zdetrendedstd12        8.158829e-01\n",
       "Zrollingstd12          6.754288e-01\n",
       "DiffcoeffZ12           5.096451e-10\n",
       "medvarZ12              1.135134e-04\n",
       "Zcomdrift12            4.373103e-02\n",
       "Zcomrollingstd12       1.308429e-03\n",
       "phiZcomdrift12         1.248245e-01\n",
       "phiZcomrollingstd12    3.679941e-03\n",
       "Zstardrift12           3.342874e-01\n",
       "Zstarrollingstd12      4.215571e-02\n",
       "Zcosphistd12           1.538376e-02\n",
       "medZcosphi12          -1.042475e-02\n",
       "EMmed23                1.639457e-01\n",
       "EMmax23                1.678593e-01\n",
       "EMdrift23              3.869004e-02\n",
       "capseculartscale23     1.000000e+00\n",
       "EMdetrendedstd23       4.014255e-03\n",
       "EMrollingstd23         3.618123e-03\n",
       "DiffcoeffEM23          4.005300e-10\n",
       "medvarEM23             2.793810e-06\n",
       "Zmed23                 8.105339e-02\n",
       "Zmax23                 9.278097e-02\n",
       "Zdetrendedstd23        4.825554e-03\n",
       "Zrollingstd23          7.785896e-03\n",
       "DiffcoeffZ23           4.812654e-09\n",
       "medvarZ23              2.170526e-05\n",
       "Zcomdrift23            7.435022e-03\n",
       "Zcomrollingstd23       6.749753e-04\n",
       "phiZcomdrift23         6.859558e-02\n",
       "phiZcomrollingstd23    2.079215e-03\n",
       "Zstardrift23           9.083630e-01\n",
       "Zstarrollingstd23      2.490891e-02\n",
       "Zcosphistd23           5.772802e-02\n",
       "medZcosphi23           7.244248e-04\n",
       "tlyap                  5.848651e+05\n",
       "megno                  1.994227e+00\n",
       "dtype: float64"
      ]
     },
     "execution_count": 28,
     "metadata": {},
     "output_type": "execute_result"
    }
   ],
   "source": [
    "f"
   ]
  },
  {
   "cell_type": "code",
   "execution_count": 14,
   "metadata": {},
   "outputs": [
    {
     "data": {
      "text/plain": [
       "Index(['C_AMD12', 'C_AMD23', 'C_AMD_max', 'Zcross12', 'Zcross13', 'Zcross23',\n",
       "       'maxj', 'maxk', 'maxi1', 'maxi2', 'maxstrength', 'secondres', 'EMmed12',\n",
       "       'EMmax12', 'EMdrift12', 'capseculartscale12', 'EMdetrendedstd12',\n",
       "       'EMrollingstd12', 'DiffcoeffEM12', 'medvarEM12', 'Zmed12', 'Zmax12',\n",
       "       'Zdetrendedstd12', 'Zrollingstd12', 'DiffcoeffZ12', 'medvarZ12',\n",
       "       'Zcomdrift12', 'Zcomrollingstd12', 'phiZcomdrift12',\n",
       "       'phiZcomrollingstd12', 'Zstardrift12', 'Zstarrollingstd12',\n",
       "       'Zcosphistd12', 'medZcosphi12', 'EMmed23', 'EMmax23', 'EMdrift23',\n",
       "       'capseculartscale23', 'EMdetrendedstd23', 'EMrollingstd23',\n",
       "       'DiffcoeffEM23', 'medvarEM23', 'Zmed23', 'Zmax23', 'Zdetrendedstd23',\n",
       "       'Zrollingstd23', 'DiffcoeffZ23', 'medvarZ23', 'Zcomdrift23',\n",
       "       'Zcomrollingstd23', 'phiZcomdrift23', 'phiZcomrollingstd23',\n",
       "       'Zstardrift23', 'Zstarrollingstd23', 'Zcosphistd23', 'medZcosphi23',\n",
       "       'tlyap', 'megno'],\n",
       "      dtype='object')"
      ]
     },
     "execution_count": 14,
     "metadata": {},
     "output_type": "execute_result"
    }
   ],
   "source": [
    "f.keys()"
   ]
  },
  {
   "cell_type": "code",
   "execution_count": 31,
   "metadata": {},
   "outputs": [
    {
     "data": {
      "text/plain": [
       "C_AMD12                     0.000000\n",
       "C_AMD23                     0.000000\n",
       "C_AMD_max                   0.000000\n",
       "Zcross12                    0.000000\n",
       "Zcross13                    0.000000\n",
       "Zcross23                    0.000000\n",
       "maxj                        0.000000\n",
       "maxk                        0.000000\n",
       "maxi1                       0.000000\n",
       "maxi2                       0.000000\n",
       "maxstrength                 0.000000\n",
       "secondres                   0.000000\n",
       "EMmed12                     0.000000\n",
       "EMmax12                     0.000000\n",
       "EMdrift12                   0.000000\n",
       "capseculartscale12          0.000000\n",
       "EMdetrendedstd12            0.000000\n",
       "EMrollingstd12              0.000000\n",
       "DiffcoeffEM12               0.000000\n",
       "medvarEM12                  0.000000\n",
       "Zmed12                      0.000000\n",
       "Zmax12                      0.000000\n",
       "Zdetrendedstd12             0.000000\n",
       "Zrollingstd12               0.000000\n",
       "DiffcoeffZ12                0.000000\n",
       "medvarZ12                   0.000000\n",
       "Zcomdrift12                 0.000000\n",
       "Zcomrollingstd12            0.000000\n",
       "phiZcomdrift12              0.000000\n",
       "phiZcomrollingstd12         0.000000\n",
       "Zstardrift12                0.000000\n",
       "Zstarrollingstd12           0.000000\n",
       "Zcosphistd12                0.000000\n",
       "medZcosphi12                0.000000\n",
       "EMmed23                     0.000000\n",
       "EMmax23                     0.000000\n",
       "EMdrift23                   0.000000\n",
       "capseculartscale23          0.000000\n",
       "EMdetrendedstd23            0.000000\n",
       "EMrollingstd23              0.000000\n",
       "DiffcoeffEM23               0.000000\n",
       "medvarEM23                  0.000000\n",
       "Zmed23                      0.000000\n",
       "Zmax23                      0.000000\n",
       "Zdetrendedstd23             0.000000\n",
       "Zrollingstd23               0.000000\n",
       "DiffcoeffZ23                0.000000\n",
       "medvarZ23                   0.000000\n",
       "Zcomdrift23                 0.000000\n",
       "Zcomrollingstd23            0.000000\n",
       "phiZcomdrift23              0.000000\n",
       "phiZcomrollingstd23         0.000000\n",
       "Zstardrift23                0.000000\n",
       "Zstarrollingstd23           0.000000\n",
       "Zcosphistd23                0.000000\n",
       "medZcosphi23                0.000000\n",
       "tlyap                 -166372.236194\n",
       "megno                       0.001939\n",
       "dtype: float64"
      ]
     },
     "execution_count": 31,
     "metadata": {},
     "output_type": "execute_result"
    }
   ],
   "source": [
    "f-nf"
   ]
  },
  {
   "cell_type": "code",
   "execution_count": 15,
   "metadata": {},
   "outputs": [
    {
     "name": "stdout",
     "output_type": "stream",
     "text": [
      "C_AMD12 0.0\n",
      "C_AMD23 0.0\n",
      "C_AMD_max 0.0\n",
      "Zcross12 0.0\n",
      "Zcross13 0.0\n",
      "Zcross23 0.0\n",
      "maxj 0.0\n",
      "maxk 0.0\n",
      "maxi1 0.0\n",
      "maxi2 0.0\n",
      "maxstrength 0.0\n",
      "secondres 0.0\n",
      "EMmed12 0.0\n",
      "EMmax12 0.0\n",
      "EMdrift12 0.0\n",
      "capseculartscale12 0.0\n",
      "EMdetrendedstd12 0.0\n",
      "EMrollingstd12 0.0\n",
      "DiffcoeffEM12 0.0\n",
      "medvarEM12 0.0\n",
      "Zmed12 0.0\n",
      "Zmax12 0.0\n",
      "Zdetrendedstd12 0.0\n",
      "Zrollingstd12 0.0\n",
      "DiffcoeffZ12 0.0\n",
      "medvarZ12 0.0\n",
      "Zcomdrift12 0.0\n",
      "Zcomrollingstd12 0.0\n",
      "phiZcomdrift12 0.0\n",
      "phiZcomrollingstd12 0.0\n",
      "Zstardrift12 0.0\n",
      "Zstarrollingstd12 0.0\n",
      "Zcosphistd12 0.0\n",
      "medZcosphi12 0.0\n",
      "EMmed23 0.0\n",
      "EMmax23 0.0\n",
      "EMdrift23 0.0\n",
      "capseculartscale23 0.0\n",
      "EMdetrendedstd23 0.0\n",
      "EMrollingstd23 0.0\n",
      "DiffcoeffEM23 0.0\n",
      "medvarEM23 0.0\n",
      "Zmed23 0.0\n",
      "Zmax23 0.0\n",
      "Zdetrendedstd23 0.0\n",
      "Zrollingstd23 0.0\n",
      "DiffcoeffZ23 0.0\n",
      "medvarZ23 0.0\n",
      "Zcomdrift23 0.0\n",
      "Zcomrollingstd23 0.0\n",
      "phiZcomdrift23 0.0\n",
      "phiZcomrollingstd23 0.0\n",
      "Zstardrift23 0.0\n",
      "Zstarrollingstd23 0.0\n",
      "Zcosphistd23 0.0\n",
      "medZcosphi23 0.0\n",
      "tlyap 724250.3379950117\n",
      "megno 0.009584887339971537\n"
     ]
    }
   ],
   "source": [
    "for col in f.keys():\n",
    "    print(col, (f[col]-nf[col]).mean())"
   ]
  },
  {
   "cell_type": "code",
   "execution_count": 120,
   "metadata": {},
   "outputs": [],
   "source": [
    "Nout = 1000\n",
    "e, e2 = np.zeros(Nout), np.zeros(Nout)\n",
    "times = np.linspace(0, 1e4, Nout)\n",
    "for i, time in enumerate(times):\n",
    "    sim.integrate(time*sim.particles[1].P)\n",
    "    sim2.integrate(time*sim2.particles[1].P)\n",
    "    e[i] = sim.particles[1].e\n",
    "    e2[i] = sim2.particles[1].e"
   ]
  },
  {
   "cell_type": "code",
   "execution_count": 121,
   "metadata": {},
   "outputs": [
    {
     "data": {
      "text/plain": [
       "[<matplotlib.lines.Line2D at 0x7fe9c4980908>]"
      ]
     },
     "execution_count": 121,
     "metadata": {},
     "output_type": "execute_result"
    },
    {
     "data": {
      "image/png": "[encoded data removed]",
      "text/plain": [
       "<Figure size 432x288 with 1 Axes>"
      ]
     },
     "metadata": {
      "needs_background": "light"
     },
     "output_type": "display_data"
    }
   ],
   "source": [
    "fig, ax = plt.subplots()\n",
    "ax.plot(times, e, '.')\n",
    "ax.plot(times, e2, '.')"
   ]
  },
  {
   "cell_type": "code",
   "execution_count": 122,
   "metadata": {},
   "outputs": [
    {
     "data": {
      "text/plain": [
       "2.0311338306510827"
      ]
     },
     "execution_count": 122,
     "metadata": {},
     "output_type": "execute_result"
    }
   ],
   "source": [
    "sim2.calculate_megno()"
   ]
  },
  {
   "cell_type": "code",
   "execution_count": 95,
   "metadata": {},
   "outputs": [
    {
     "data": {
      "image/png": "[encoded data removed]",
      "text/plain": [
       "<Figure size 360x360 with 1 Axes>"
      ]
     },
     "metadata": {
      "needs_background": "light"
     },
     "output_type": "display_data"
    }
   ],
   "source": [
    "fig = rebound.OrbitPlot(sim)"
   ]
  },
  {
   "cell_type": "code",
   "execution_count": 96,
   "metadata": {},
   "outputs": [
    {
     "data": {
      "image/png": "[encoded data removed]",
      "text/plain": [
       "<Figure size 360x360 with 1 Axes>"
      ]
     },
     "metadata": {
      "needs_background": "light"
     },
     "output_type": "display_data"
    }
   ],
   "source": [
    "fig = rebound.OrbitPlot(sim2)"
   ]
  },
  {
   "cell_type": "code",
   "execution_count": 78,
   "metadata": {},
   "outputs": [
    {
     "data": {
      "text/plain": [
       "0.034643632014705474"
      ]
     },
     "execution_count": 78,
     "metadata": {},
     "output_type": "execute_result"
    }
   ],
   "source": [
    "sim.dt/sim.particles[1].P"
   ]
  },
  {
   "cell_type": "code",
   "execution_count": 79,
   "metadata": {},
   "outputs": [
    {
     "data": {
      "text/plain": [
       "3.4641016151377544"
      ]
     },
     "execution_count": 79,
     "metadata": {},
     "output_type": "execute_result"
    }
   ],
   "source": [
    "2*np.sqrt(3)"
   ]
  },
  {
   "cell_type": "code",
   "execution_count": 97,
   "metadata": {},
   "outputs": [
    {
     "data": {
      "text/plain": [
       "'06c95e2a69d319de3b077d92f2541cdcdf68a8fa'"
      ]
     },
     "execution_count": 97,
     "metadata": {},
     "output_type": "execute_result"
    }
   ],
   "source": [
    "rebound.__githash__"
   ]
  },
  {
   "cell_type": "code",
   "execution_count": 37,
   "metadata": {},
   "outputs": [
    {
     "data": {
      "text/html": [
       "<div>\n",
       "<style scoped>\n",
       "    .dataframe tbody tr th:only-of-type {\n",
       "        vertical-align: middle;\n",
       "    }\n",
       "\n",
       "    .dataframe tbody tr th {\n",
       "        vertical-align: top;\n",
       "    }\n",
       "\n",
       "    .dataframe thead th {\n",
       "        text-align: right;\n",
       "    }\n",
       "</style>\n",
       "<table border=\"1\" class=\"dataframe\">\n",
       "  <thead>\n",
       "    <tr style=\"text-align: right;\">\n",
       "      <th></th>\n",
       "      <th>C_AMD12</th>\n",
       "      <th>C_AMD23</th>\n",
       "      <th>C_AMD_max</th>\n",
       "      <th>Zcross12</th>\n",
       "      <th>Zcross13</th>\n",
       "      <th>Zcross23</th>\n",
       "      <th>maxj</th>\n",
       "      <th>maxk</th>\n",
       "      <th>maxi1</th>\n",
       "      <th>maxi2</th>\n",
       "      <th>...</th>\n",
       "      <th>Zcomdrift23</th>\n",
       "      <th>Zcomrollingstd23</th>\n",
       "      <th>phiZcomdrift23</th>\n",
       "      <th>phiZcomrollingstd23</th>\n",
       "      <th>Zstardrift23</th>\n",
       "      <th>Zstarrollingstd23</th>\n",
       "      <th>Zcosphistd23</th>\n",
       "      <th>medZcosphi23</th>\n",
       "      <th>tlyap</th>\n",
       "      <th>megno</th>\n",
       "    </tr>\n",
       "  </thead>\n",
       "  <tbody>\n",
       "    <tr>\n",
       "      <th>0</th>\n",
       "      <td>0.105693</td>\n",
       "      <td>0.089463</td>\n",
       "      <td>0.105693</td>\n",
       "      <td>0.353616</td>\n",
       "      <td>0.626178</td>\n",
       "      <td>0.201358</td>\n",
       "      <td>2.0</td>\n",
       "      <td>1.0</td>\n",
       "      <td>1.0</td>\n",
       "      <td>3.0</td>\n",
       "      <td>...</td>\n",
       "      <td>0.416322</td>\n",
       "      <td>0.012854</td>\n",
       "      <td>0.308443</td>\n",
       "      <td>0.006879</td>\n",
       "      <td>0.035162</td>\n",
       "      <td>0.001541</td>\n",
       "      <td>0.037059</td>\n",
       "      <td>0.006649</td>\n",
       "      <td>-1.461971e+06</td>\n",
       "      <td>2.001100</td>\n",
       "    </tr>\n",
       "    <tr>\n",
       "      <th>1</th>\n",
       "      <td>1.504949</td>\n",
       "      <td>2.526332</td>\n",
       "      <td>2.526332</td>\n",
       "      <td>0.353652</td>\n",
       "      <td>0.626298</td>\n",
       "      <td>0.201415</td>\n",
       "      <td>4.0</td>\n",
       "      <td>1.0</td>\n",
       "      <td>2.0</td>\n",
       "      <td>3.0</td>\n",
       "      <td>...</td>\n",
       "      <td>0.013470</td>\n",
       "      <td>0.000439</td>\n",
       "      <td>0.294417</td>\n",
       "      <td>0.008627</td>\n",
       "      <td>0.069656</td>\n",
       "      <td>0.006495</td>\n",
       "      <td>0.033436</td>\n",
       "      <td>0.008836</td>\n",
       "      <td>-5.361323e+06</td>\n",
       "      <td>2.001282</td>\n",
       "    </tr>\n",
       "    <tr>\n",
       "      <th>2</th>\n",
       "      <td>0.681258</td>\n",
       "      <td>1.173940</td>\n",
       "      <td>1.173940</td>\n",
       "      <td>0.353742</td>\n",
       "      <td>0.626262</td>\n",
       "      <td>0.201308</td>\n",
       "      <td>4.0</td>\n",
       "      <td>1.0</td>\n",
       "      <td>2.0</td>\n",
       "      <td>3.0</td>\n",
       "      <td>...</td>\n",
       "      <td>0.077314</td>\n",
       "      <td>0.002408</td>\n",
       "      <td>0.098897</td>\n",
       "      <td>0.003162</td>\n",
       "      <td>0.066280</td>\n",
       "      <td>0.004294</td>\n",
       "      <td>0.034876</td>\n",
       "      <td>0.004585</td>\n",
       "      <td>-1.396584e+07</td>\n",
       "      <td>2.000833</td>\n",
       "    </tr>\n",
       "    <tr>\n",
       "      <th>3</th>\n",
       "      <td>0.080784</td>\n",
       "      <td>0.161035</td>\n",
       "      <td>0.161035</td>\n",
       "      <td>0.353476</td>\n",
       "      <td>0.626173</td>\n",
       "      <td>0.201478</td>\n",
       "      <td>4.0</td>\n",
       "      <td>1.0</td>\n",
       "      <td>2.0</td>\n",
       "      <td>3.0</td>\n",
       "      <td>...</td>\n",
       "      <td>0.149047</td>\n",
       "      <td>0.005759</td>\n",
       "      <td>0.578757</td>\n",
       "      <td>0.016756</td>\n",
       "      <td>0.018381</td>\n",
       "      <td>0.003252</td>\n",
       "      <td>0.024947</td>\n",
       "      <td>0.012221</td>\n",
       "      <td>1.207974e+06</td>\n",
       "      <td>1.999479</td>\n",
       "    </tr>\n",
       "    <tr>\n",
       "      <th>4</th>\n",
       "      <td>0.132273</td>\n",
       "      <td>0.277817</td>\n",
       "      <td>0.277817</td>\n",
       "      <td>0.353581</td>\n",
       "      <td>0.626106</td>\n",
       "      <td>0.201336</td>\n",
       "      <td>2.0</td>\n",
       "      <td>1.0</td>\n",
       "      <td>1.0</td>\n",
       "      <td>3.0</td>\n",
       "      <td>...</td>\n",
       "      <td>0.232082</td>\n",
       "      <td>0.005341</td>\n",
       "      <td>0.419972</td>\n",
       "      <td>0.013094</td>\n",
       "      <td>0.036427</td>\n",
       "      <td>0.003360</td>\n",
       "      <td>0.032332</td>\n",
       "      <td>0.007355</td>\n",
       "      <td>6.365815e+05</td>\n",
       "      <td>2.000559</td>\n",
       "    </tr>\n",
       "  </tbody>\n",
       "</table>\n",
       "<p>5 rows × 58 columns</p>\n",
       "</div>"
      ],
      "text/plain": [
       "    C_AMD12   C_AMD23  C_AMD_max  Zcross12  Zcross13  Zcross23  maxj  maxk  \\\n",
       "0  0.105693  0.089463   0.105693  0.353616  0.626178  0.201358   2.0   1.0   \n",
       "1  1.504949  2.526332   2.526332  0.353652  0.626298  0.201415   4.0   1.0   \n",
       "2  0.681258  1.173940   1.173940  0.353742  0.626262  0.201308   4.0   1.0   \n",
       "3  0.080784  0.161035   0.161035  0.353476  0.626173  0.201478   4.0   1.0   \n",
       "4  0.132273  0.277817   0.277817  0.353581  0.626106  0.201336   2.0   1.0   \n",
       "\n",
       "   maxi1  maxi2  ...  Zcomdrift23  Zcomrollingstd23  phiZcomdrift23  \\\n",
       "0    1.0    3.0  ...     0.416322          0.012854        0.308443   \n",
       "1    2.0    3.0  ...     0.013470          0.000439        0.294417   \n",
       "2    2.0    3.0  ...     0.077314          0.002408        0.098897   \n",
       "3    2.0    3.0  ...     0.149047          0.005759        0.578757   \n",
       "4    1.0    3.0  ...     0.232082          0.005341        0.419972   \n",
       "\n",
       "   phiZcomrollingstd23  Zstardrift23  Zstarrollingstd23  Zcosphistd23  \\\n",
       "0             0.006879      0.035162           0.001541      0.037059   \n",
       "1             0.008627      0.069656           0.006495      0.033436   \n",
       "2             0.003162      0.066280           0.004294      0.034876   \n",
       "3             0.016756      0.018381           0.003252      0.024947   \n",
       "4             0.013094      0.036427           0.003360      0.032332   \n",
       "\n",
       "   medZcosphi23         tlyap     megno  \n",
       "0      0.006649 -1.461971e+06  2.001100  \n",
       "1      0.008836 -5.361323e+06  2.001282  \n",
       "2      0.004585 -1.396584e+07  2.000833  \n",
       "3      0.012221  1.207974e+06  1.999479  \n",
       "4      0.007355  6.365815e+05  2.000559  \n",
       "\n",
       "[5 rows x 58 columns]"
      ]
     },
     "execution_count": 37,
     "metadata": {},
     "output_type": "execute_result"
    }
   ],
   "source": [
    "import pandas as pd\n",
    "csvpath = '/mnt/ssd/Dropbox/Dropbox (Princeton)/workspace/stability/MLstability/training_data/TTVsystems/KOI-0115/'\n",
    "ndf = pd.read_csv(csvpath+'normressummaryfeaturesxgbNorbits10000.0Nout1000/trainingdata.csv', index_col=0)\n",
    "ndf.head()"
   ]
  },
  {
   "cell_type": "code",
   "execution_count": 38,
   "metadata": {},
   "outputs": [
    {
     "data": {
      "text/html": [
       "<div>\n",
       "<style scoped>\n",
       "    .dataframe tbody tr th:only-of-type {\n",
       "        vertical-align: middle;\n",
       "    }\n",
       "\n",
       "    .dataframe tbody tr th {\n",
       "        vertical-align: top;\n",
       "    }\n",
       "\n",
       "    .dataframe thead th {\n",
       "        text-align: right;\n",
       "    }\n",
       "</style>\n",
       "<table border=\"1\" class=\"dataframe\">\n",
       "  <thead>\n",
       "    <tr style=\"text-align: right;\">\n",
       "      <th></th>\n",
       "      <th>C_AMD12</th>\n",
       "      <th>C_AMD23</th>\n",
       "      <th>C_AMD_max</th>\n",
       "      <th>Zcross12</th>\n",
       "      <th>Zcross13</th>\n",
       "      <th>Zcross23</th>\n",
       "      <th>maxj</th>\n",
       "      <th>maxk</th>\n",
       "      <th>maxi1</th>\n",
       "      <th>maxi2</th>\n",
       "      <th>...</th>\n",
       "      <th>Zcomdrift23</th>\n",
       "      <th>Zcomrollingstd23</th>\n",
       "      <th>phiZcomdrift23</th>\n",
       "      <th>phiZcomrollingstd23</th>\n",
       "      <th>Zstardrift23</th>\n",
       "      <th>Zstarrollingstd23</th>\n",
       "      <th>Zcosphistd23</th>\n",
       "      <th>medZcosphi23</th>\n",
       "      <th>tlyap</th>\n",
       "      <th>megno</th>\n",
       "    </tr>\n",
       "  </thead>\n",
       "  <tbody>\n",
       "    <tr>\n",
       "      <th>0</th>\n",
       "      <td>0.105693</td>\n",
       "      <td>0.089463</td>\n",
       "      <td>0.105693</td>\n",
       "      <td>0.353616</td>\n",
       "      <td>0.626178</td>\n",
       "      <td>0.201358</td>\n",
       "      <td>2.0</td>\n",
       "      <td>1.0</td>\n",
       "      <td>1.0</td>\n",
       "      <td>3.0</td>\n",
       "      <td>...</td>\n",
       "      <td>0.416322</td>\n",
       "      <td>0.012854</td>\n",
       "      <td>0.308443</td>\n",
       "      <td>0.006879</td>\n",
       "      <td>0.035162</td>\n",
       "      <td>0.001541</td>\n",
       "      <td>0.037059</td>\n",
       "      <td>0.006649</td>\n",
       "      <td>14300.843513</td>\n",
       "      <td>1.997693</td>\n",
       "    </tr>\n",
       "    <tr>\n",
       "      <th>1</th>\n",
       "      <td>1.504949</td>\n",
       "      <td>2.526332</td>\n",
       "      <td>2.526332</td>\n",
       "      <td>0.353652</td>\n",
       "      <td>0.626298</td>\n",
       "      <td>0.201415</td>\n",
       "      <td>4.0</td>\n",
       "      <td>1.0</td>\n",
       "      <td>2.0</td>\n",
       "      <td>3.0</td>\n",
       "      <td>...</td>\n",
       "      <td>0.013470</td>\n",
       "      <td>0.000439</td>\n",
       "      <td>0.294417</td>\n",
       "      <td>0.008627</td>\n",
       "      <td>0.069656</td>\n",
       "      <td>0.006495</td>\n",
       "      <td>0.033436</td>\n",
       "      <td>0.008836</td>\n",
       "      <td>138893.808379</td>\n",
       "      <td>2.001565</td>\n",
       "    </tr>\n",
       "    <tr>\n",
       "      <th>2</th>\n",
       "      <td>0.681258</td>\n",
       "      <td>1.173940</td>\n",
       "      <td>1.173940</td>\n",
       "      <td>0.353742</td>\n",
       "      <td>0.626262</td>\n",
       "      <td>0.201308</td>\n",
       "      <td>4.0</td>\n",
       "      <td>1.0</td>\n",
       "      <td>2.0</td>\n",
       "      <td>3.0</td>\n",
       "      <td>...</td>\n",
       "      <td>0.077314</td>\n",
       "      <td>0.002408</td>\n",
       "      <td>0.098897</td>\n",
       "      <td>0.003162</td>\n",
       "      <td>0.066280</td>\n",
       "      <td>0.004294</td>\n",
       "      <td>0.034876</td>\n",
       "      <td>0.004585</td>\n",
       "      <td>-82501.353014</td>\n",
       "      <td>2.000099</td>\n",
       "    </tr>\n",
       "    <tr>\n",
       "      <th>3</th>\n",
       "      <td>0.080784</td>\n",
       "      <td>0.161035</td>\n",
       "      <td>0.161035</td>\n",
       "      <td>0.353476</td>\n",
       "      <td>0.626173</td>\n",
       "      <td>0.201478</td>\n",
       "      <td>4.0</td>\n",
       "      <td>1.0</td>\n",
       "      <td>2.0</td>\n",
       "      <td>3.0</td>\n",
       "      <td>...</td>\n",
       "      <td>0.149047</td>\n",
       "      <td>0.005759</td>\n",
       "      <td>0.578757</td>\n",
       "      <td>0.016756</td>\n",
       "      <td>0.018381</td>\n",
       "      <td>0.003252</td>\n",
       "      <td>0.024947</td>\n",
       "      <td>0.012221</td>\n",
       "      <td>-69369.050431</td>\n",
       "      <td>2.001645</td>\n",
       "    </tr>\n",
       "    <tr>\n",
       "      <th>4</th>\n",
       "      <td>0.132273</td>\n",
       "      <td>0.277817</td>\n",
       "      <td>0.277817</td>\n",
       "      <td>0.353581</td>\n",
       "      <td>0.626106</td>\n",
       "      <td>0.201336</td>\n",
       "      <td>2.0</td>\n",
       "      <td>1.0</td>\n",
       "      <td>1.0</td>\n",
       "      <td>3.0</td>\n",
       "      <td>...</td>\n",
       "      <td>0.232082</td>\n",
       "      <td>0.005341</td>\n",
       "      <td>0.419972</td>\n",
       "      <td>0.013094</td>\n",
       "      <td>0.036427</td>\n",
       "      <td>0.003360</td>\n",
       "      <td>0.032332</td>\n",
       "      <td>0.007355</td>\n",
       "      <td>-176943.931484</td>\n",
       "      <td>2.001102</td>\n",
       "    </tr>\n",
       "  </tbody>\n",
       "</table>\n",
       "<p>5 rows × 58 columns</p>\n",
       "</div>"
      ],
      "text/plain": [
       "    C_AMD12   C_AMD23  C_AMD_max  Zcross12  Zcross13  Zcross23  maxj  maxk  \\\n",
       "0  0.105693  0.089463   0.105693  0.353616  0.626178  0.201358   2.0   1.0   \n",
       "1  1.504949  2.526332   2.526332  0.353652  0.626298  0.201415   4.0   1.0   \n",
       "2  0.681258  1.173940   1.173940  0.353742  0.626262  0.201308   4.0   1.0   \n",
       "3  0.080784  0.161035   0.161035  0.353476  0.626173  0.201478   4.0   1.0   \n",
       "4  0.132273  0.277817   0.277817  0.353581  0.626106  0.201336   2.0   1.0   \n",
       "\n",
       "   maxi1  maxi2  ...  Zcomdrift23  Zcomrollingstd23  phiZcomdrift23  \\\n",
       "0    1.0    3.0  ...     0.416322          0.012854        0.308443   \n",
       "1    2.0    3.0  ...     0.013470          0.000439        0.294417   \n",
       "2    2.0    3.0  ...     0.077314          0.002408        0.098897   \n",
       "3    2.0    3.0  ...     0.149047          0.005759        0.578757   \n",
       "4    1.0    3.0  ...     0.232082          0.005341        0.419972   \n",
       "\n",
       "   phiZcomrollingstd23  Zstardrift23  Zstarrollingstd23  Zcosphistd23  \\\n",
       "0             0.006879      0.035162           0.001541      0.037059   \n",
       "1             0.008627      0.069656           0.006495      0.033436   \n",
       "2             0.003162      0.066280           0.004294      0.034876   \n",
       "3             0.016756      0.018381           0.003252      0.024947   \n",
       "4             0.013094      0.036427           0.003360      0.032332   \n",
       "\n",
       "   medZcosphi23          tlyap     megno  \n",
       "0      0.006649   14300.843513  1.997693  \n",
       "1      0.008836  138893.808379  2.001565  \n",
       "2      0.004585  -82501.353014  2.000099  \n",
       "3      0.012221  -69369.050431  2.001645  \n",
       "4      0.007355 -176943.931484  2.001102  \n",
       "\n",
       "[5 rows x 58 columns]"
      ]
     },
     "execution_count": 38,
     "metadata": {},
     "output_type": "execute_result"
    }
   ],
   "source": [
    "df = pd.read_csv(csvpath+'ressummaryfeaturesxgbNorbits10000.0Nout1000/trainingdata.csv', index_col=0)\n",
    "df.head()"
   ]
  },
  {
   "cell_type": "code",
   "execution_count": 41,
   "metadata": {},
   "outputs": [
    {
     "data": {
      "text/plain": [
       "2.0007552683030227"
      ]
     },
     "execution_count": 41,
     "metadata": {},
     "output_type": "execute_result"
    }
   ],
   "source": [
    "ndf['megno'].median()"
   ]
  },
  {
   "cell_type": "code",
   "execution_count": 20,
   "metadata": {},
   "outputs": [
    {
     "data": {
      "text/plain": [
       "Index(['C_AMD12', 'C_AMD23', 'C_AMD_max', 'Zcross12', 'Zcross13', 'Zcross23',\n",
       "       'maxj', 'maxk', 'maxi1', 'maxi2', 'maxstrength', 'secondres', 'EMmed12',\n",
       "       'EMmax12', 'EMdrift12', 'capseculartscale12', 'EMdetrendedstd12',\n",
       "       'EMrollingstd12', 'DiffcoeffEM12', 'medvarEM12', 'Zmed12', 'Zmax12',\n",
       "       'Zdetrendedstd12', 'Zrollingstd12', 'DiffcoeffZ12', 'medvarZ12',\n",
       "       'Zcomdrift12', 'Zcomrollingstd12', 'phiZcomdrift12',\n",
       "       'phiZcomrollingstd12', 'Zstardrift12', 'Zstarrollingstd12',\n",
       "       'Zcosphistd12', 'medZcosphi12', 'EMmed23', 'EMmax23', 'EMdrift23',\n",
       "       'capseculartscale23', 'EMdetrendedstd23', 'EMrollingstd23',\n",
       "       'DiffcoeffEM23', 'medvarEM23', 'Zmed23', 'Zmax23', 'Zdetrendedstd23',\n",
       "       'Zrollingstd23', 'DiffcoeffZ23', 'medvarZ23', 'Zcomdrift23',\n",
       "       'Zcomrollingstd23', 'phiZcomdrift23', 'phiZcomrollingstd23',\n",
       "       'Zstardrift23', 'Zstarrollingstd23', 'Zcosphistd23', 'medZcosphi23',\n",
       "       'tlyap', 'megno'],\n",
       "      dtype='object')"
      ]
     },
     "execution_count": 20,
     "metadata": {},
     "output_type": "execute_result"
    }
   ],
   "source": [
    "df.columns"
   ]
  },
  {
   "cell_type": "code",
   "execution_count": 32,
   "metadata": {},
   "outputs": [
    {
     "data": {
      "text/plain": [
       "0      -0.006750\n",
       "1       0.004418\n",
       "2       0.000150\n",
       "3      -0.003865\n",
       "4       0.000524\n",
       "5      -0.002084\n",
       "6       0.009901\n",
       "7       0.003735\n",
       "8      -0.000352\n",
       "9       0.001852\n",
       "10     -0.001437\n",
       "11      0.001389\n",
       "12     -0.006346\n",
       "13     -0.000362\n",
       "14      0.006926\n",
       "15     -0.001610\n",
       "16      0.000072\n",
       "17     -0.003742\n",
       "18      0.007655\n",
       "19      0.002914\n",
       "20     -0.007914\n",
       "21     -0.008472\n",
       "22     -0.000919\n",
       "23      0.003654\n",
       "24     -0.004465\n",
       "25     -0.003561\n",
       "26     -0.000706\n",
       "27      0.000117\n",
       "28      0.002834\n",
       "29      0.002028\n",
       "          ...   \n",
       "1470   -0.003920\n",
       "1471    0.000507\n",
       "1472    0.005856\n",
       "1473    0.003314\n",
       "1474    0.000826\n",
       "1475    0.008644\n",
       "1476   -0.005591\n",
       "1477    0.002020\n",
       "1478    0.006137\n",
       "1479    0.004733\n",
       "1480   -0.000278\n",
       "1481   -0.003911\n",
       "1482   -0.001759\n",
       "1483    0.001770\n",
       "1484    0.002782\n",
       "1485   -0.000262\n",
       "1486   -0.005893\n",
       "1487    0.002038\n",
       "1488    0.006089\n",
       "1489    0.008503\n",
       "1490   -0.004665\n",
       "1491    0.003817\n",
       "1492    0.001073\n",
       "1493    0.005696\n",
       "1494    0.000818\n",
       "1495   -0.006307\n",
       "1496   -0.003688\n",
       "1497    0.001195\n",
       "1498   -0.002621\n",
       "1499   -0.002456\n",
       "Name: EMmed12, Length: 1500, dtype: float64"
      ]
     },
     "execution_count": 32,
     "metadata": {},
     "output_type": "execute_result"
    }
   ],
   "source": [
    "col = 'EMmed12'\n",
    "df[col]-ndf[col]"
   ]
  },
  {
   "cell_type": "code",
   "execution_count": null,
   "metadata": {},
   "outputs": [],
   "source": []
  }
 ],
 "metadata": {
  "kernelspec": {
   "display_name": "Python 3",
   "language": "python",
   "name": "python3"
  },
  "language_info": {
   "codemirror_mode": {
    "name": "ipython",
    "version": 3
   },
   "file_extension": ".py",
   "mimetype": "text/x-python",
   "name": "python",
   "nbconvert_exporter": "python",
   "pygments_lexer": "ipython3",
   "version": "3.7.3"
  }
 },
 "nbformat": 4,
 "nbformat_minor": 2
}
