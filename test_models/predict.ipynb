{
 "cells": [
  {
   "cell_type": "code",
   "execution_count": 1,
   "metadata": {},
   "outputs": [],
   "source": [
    "import numpy as np\n",
    "import rebound\n",
    "import matplotlib.pyplot as plt\n",
    "import matplotlib\n",
    "import random\n",
    "import dill\n",
    "import sys\n",
    "import pandas as pd\n",
    "sys.path.append('../generate_training_data')\n",
    "from training_data_functions import ressummaryfeaturesxgb\n",
    "%matplotlib inline\n",
    "\n",
    "folderpath = '/Users/dtamayo/Desktop/MLstability/'\n",
    "model = 'ressummaryfeaturesxgb_resonantAMD.pkl'"
   ]
  },
  {
   "cell_type": "markdown",
   "metadata": {},
   "source": [
    "# Load Model"
   ]
  },
  {
   "cell_type": "code",
   "execution_count": 2,
   "metadata": {},
   "outputs": [],
   "source": [
    "model, features, featurefolder = dill.load(open(folderpath+'/models/'+model, \"rb\"))"
   ]
  },
  {
   "cell_type": "markdown",
   "metadata": {},
   "source": [
    "# Make a random simulation as an example"
   ]
  },
  {
   "cell_type": "code",
   "execution_count": 3,
   "metadata": {},
   "outputs": [],
   "source": [
    "sim = rebound.Simulation()\n",
    "sim.add(m=1.)\n",
    "sim.add(m=1.e-5, P=1., e=0.03)\n",
    "sim.add(m=1.e-5, P=1.2, e=0.03)\n",
    "sim.add(m=1.e-5, P=1.5, e=0.03)\n",
    "sim.move_to_com()"
   ]
  },
  {
   "cell_type": "markdown",
   "metadata": {},
   "source": [
    "# Make the summary features that the model needs to predict. Takes a REBOUND simulation, and a tuple of arguments which shouldn't be changed (These are the values that were used during the training)"
   ]
  },
  {
   "cell_type": "code",
   "execution_count": 4,
   "metadata": {},
   "outputs": [
    {
     "name": "stdout",
     "output_type": "stream",
     "text": [
      "CPU times: user 17.8 s, sys: 22.9 ms, total: 17.8 s\n",
      "Wall time: 17.4 s\n"
     ]
    },
    {
     "name": "stderr",
     "output_type": "stream",
     "text": [
      "../generate_training_data/training_data_functions.py:408: RuntimeWarning: Degrees of freedom <= 0 for slice\n",
      "  var = [EM[:j].var() for j in range(len(EM))]\n",
      "/Users/dtamayo/miniconda3/envs/p3/lib/python3.7/site-packages/numpy/core/_methods.py:110: RuntimeWarning: invalid value encountered in true_divide\n",
      "  arrmean, rcount, out=arrmean, casting='unsafe', subok=False)\n",
      "/Users/dtamayo/miniconda3/envs/p3/lib/python3.7/site-packages/numpy/core/_methods.py:132: RuntimeWarning: invalid value encountered in double_scalars\n",
      "  ret = ret.dtype.type(ret / rcount)\n",
      "../generate_training_data/training_data_functions.py:427: RuntimeWarning: Degrees of freedom <= 0 for slice\n",
      "  var = [Z[:j].var() for j in range(len(Z))]\n"
     ]
    }
   ],
   "source": [
    "%%time\n",
    "args = (10000, 1000) # (Norbits, Nout) Keep this fixed\n",
    "summaryfeatures = ressummaryfeaturesxgb(sim, args)"
   ]
  },
  {
   "cell_type": "markdown",
   "metadata": {},
   "source": [
    "# We're using the convention that if features = None, then model uses all the features passed back by the function. If features is set, then it will take a subset"
   ]
  },
  {
   "cell_type": "code",
   "execution_count": 5,
   "metadata": {},
   "outputs": [],
   "source": [
    "if features is not None:\n",
    "    summaryfeatures = summaryfeatures[features]\n",
    "summaryfeatures = pd.DataFrame([summaryfeatures]) # convert it to the pandas format model expects"
   ]
  },
  {
   "cell_type": "code",
   "execution_count": 11,
   "metadata": {},
   "outputs": [
    {
     "name": "stdout",
     "output_type": "stream",
     "text": [
      "0.0018717946\n"
     ]
    }
   ],
   "source": [
    "probstability = model.predict_proba(summaryfeatures)[:, 1][0]\n",
    "print(probstability)"
   ]
  },
  {
   "cell_type": "code",
   "execution_count": null,
   "metadata": {},
   "outputs": [],
   "source": []
  }
 ],
 "metadata": {
  "kernelspec": {
   "display_name": "Python 3",
   "language": "python",
   "name": "python3"
  },
  "language_info": {
   "codemirror_mode": {
    "name": "ipython",
    "version": 3
   },
   "file_extension": ".py",
   "mimetype": "text/x-python",
   "name": "python",
   "nbconvert_exporter": "python",
   "pygments_lexer": "ipython3",
   "version": "3.7.1"
  }
 },
 "nbformat": 4,
 "nbformat_minor": 2
}
