{
 "cells": [
  {
   "cell_type": "code",
   "execution_count": 1,
   "metadata": {},
   "outputs": [],
   "source": [
    "import numpy as np\n",
    "import rebound\n",
    "import matplotlib.pyplot as plt\n",
    "import matplotlib\n",
    "import random\n",
    "import dill\n",
    "import sys\n",
    "import pandas as pd\n",
    "sys.path.append('../generate_training_data')\n",
    "from training_data_functions import ressummaryfeaturesxgbv6\n",
    "%matplotlib inline\n",
    "\n",
    "folderpath = '../'\n",
    "model = 'ressummaryfeaturesxgbv6_resonant.pkl'"
   ]
  },
  {
   "cell_type": "markdown",
   "metadata": {},
   "source": [
    "# Load Model"
   ]
  },
  {
   "cell_type": "code",
   "execution_count": 2,
   "metadata": {},
   "outputs": [],
   "source": [
    "model, features, featurefolder = dill.load(open(folderpath+'/models/'+model, \"rb\"))"
   ]
  },
  {
   "cell_type": "markdown",
   "metadata": {},
   "source": [
    "# Make a random simulation as an example"
   ]
  },
  {
   "cell_type": "code",
   "execution_count": 3,
   "metadata": {},
   "outputs": [],
   "source": [
    "sim = rebound.Simulation()\n",
    "sim.add(m=1.)\n",
    "sim.add(m=1.e-5, P=1., e=0.03)\n",
    "sim.add(m=1.e-5, P=1.2, e=0.03)\n",
    "sim.add(m=1.e-5, P=1.5, e=0.03)\n",
    "sim.move_to_com()"
   ]
  },
  {
   "cell_type": "markdown",
   "metadata": {},
   "source": [
    "# Make the summary features that the model needs to predict. Takes a REBOUND simulation, and a tuple of arguments which shouldn't be changed (These are the values that were used during the training)"
   ]
  },
  {
   "cell_type": "code",
   "execution_count": 4,
   "metadata": {},
   "outputs": [
    {
     "name": "stderr",
     "output_type": "stream",
     "text": [
      "/mnt/ssd/Dropbox/Dropbox (Princeton)/workspace/celmech/celmech/andoyer.py:98: UserWarning: k=1 resonance has no separatrix for Phiprime < 1\n",
      "  warnings.warn(\"k=1 resonance has no separatrix for Phiprime < 1\")\n"
     ]
    },
    {
     "name": "stdout",
     "output_type": "stream",
     "text": [
      "CPU times: user 1.3 s, sys: 8.94 ms, total: 1.3 s\n",
      "Wall time: 1.3 s\n"
     ]
    }
   ],
   "source": [
    "%%time\n",
    "args = (10000, 1000) # (Norbits, Nout) Keep this fixed\n",
    "summaryfeatures = ressummaryfeaturesxgbv6(sim, args)"
   ]
  },
  {
   "cell_type": "markdown",
   "metadata": {},
   "source": [
    "# We're using the convention that if features = None, then model uses all the features passed back by the function. If features is set, then it will take a subset"
   ]
  },
  {
   "cell_type": "code",
   "execution_count": 5,
   "metadata": {},
   "outputs": [],
   "source": [
    "if features is not None:\n",
    "    summaryfeatures = summaryfeatures[features]\n",
    "summaryfeatures = pd.DataFrame([summaryfeatures]) # convert it to the pandas format model expects"
   ]
  },
  {
   "cell_type": "code",
   "execution_count": 6,
   "metadata": {},
   "outputs": [
    {
     "name": "stdout",
     "output_type": "stream",
     "text": [
      "0.0009684455\n"
     ]
    }
   ],
   "source": [
    "probstability = model.predict_proba(summaryfeatures)[:, 1][0]\n",
    "print(probstability)"
   ]
  },
  {
   "cell_type": "code",
   "execution_count": null,
   "metadata": {},
   "outputs": [],
   "source": []
  }
 ],
 "metadata": {
  "kernelspec": {
   "display_name": "Python 3",
   "language": "python",
   "name": "python3"
  },
  "language_info": {
   "codemirror_mode": {
    "name": "ipython",
    "version": 3
   },
   "file_extension": ".py",
   "mimetype": "text/x-python",
   "name": "python",
   "nbconvert_exporter": "python",
   "pygments_lexer": "ipython3",
   "version": "3.7.3"
  }
 },
 "nbformat": 4,
 "nbformat_minor": 2
}
