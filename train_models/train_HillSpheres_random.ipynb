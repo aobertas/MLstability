{
 "cells": [
  {
   "cell_type": "code",
   "execution_count": 3,
   "metadata": {},
   "outputs": [],
   "source": [
    "import numpy as np\n",
    "import sklearn\n",
    "import matplotlib.pyplot as plt\n",
    "%matplotlib inline\n",
    "import pandas as pd\n",
    "from sklearn import metrics\n",
    "from sklearn.model_selection import cross_val_score\n",
    "from matplotlib import rc\n",
    "from matplotlib import cm\n",
    "from mpl_toolkits.mplot3d import axes3d\n",
    "from matplotlib.ticker import MaxNLocator\n",
    "import scipy.signal\n",
    "import xgboost as xgb\n",
    "from xgboost.sklearn import XGBClassifier\n",
    "from hyperopt import hp, fmin, tpe, STATUS_OK, Trials\n",
    "import dill\n",
    "import sys\n",
    "sys.path.append('../')\n",
    "from modelfitting import train_test_split, ROC_curve, PR_curve, stable_unstable_hist, calibration_plot, unstable_error_fraction"
   ]
  },
  {
   "cell_type": "code",
   "execution_count": 4,
   "metadata": {},
   "outputs": [],
   "source": [
    "datapath = '/mnt/ssd/Dropbox/Dropbox (Princeton)/workspace/stability/MLstability/training_data/'\n",
    "dset = 'random/'\n",
    "featurefolder = 'ressummaryfeaturesxgbv6Norbits10000.0Nout1000/'\n",
    "features = ['betanear', 'betafar']"
   ]
  },
  {
   "cell_type": "code",
   "execution_count": 5,
   "metadata": {
    "scrolled": true
   },
   "outputs": [],
   "source": [
    "trainingdatafolder = datapath+dset+featurefolder\n",
    "trainX, trainY, testX, testY = train_test_split(trainingdatafolder, features)"
   ]
  },
  {
   "cell_type": "code",
   "execution_count": 6,
   "metadata": {},
   "outputs": [
    {
     "name": "stderr",
     "output_type": "stream",
     "text": [
      "/home/dtamayo/miniconda3/envs/ml/lib/python3.7/site-packages/xgboost/core.py:587: FutureWarning: Series.base is deprecated and will be removed in a future version\n",
      "  if getattr(data, 'base', None) is not None and \\\n",
      "/home/dtamayo/miniconda3/envs/ml/lib/python3.7/site-packages/xgboost/core.py:588: FutureWarning: Series.base is deprecated and will be removed in a future version\n",
      "  data.base is not None and isinstance(data, np.ndarray) \\\n"
     ]
    }
   ],
   "source": [
    "space ={\n",
    "        'max_depth': hp.randint('x_max_depth',  20),\n",
    "        'min_child_weight': hp.quniform ('x_min_child', 1, 10, 1),\n",
    "        'subsample': hp.uniform ('x_subsample', 0.8, 1),\n",
    "        'scale_pos_weight': hp.uniform(\"x_pos_weight\", 1, 15),\n",
    "        \"learning_rate\":hp.uniform(\"x_learning_rate\",0.01,0.2),\n",
    "        'colsample_bytree': hp.uniform ('x_tree_colsample', 0.5,1),\n",
    "}\n",
    "\n",
    "dtrain = xgb.DMatrix(trainX, trainY)\n",
    "dtest = xgb.DMatrix(testX, testY)\n",
    "def objective(space):\n",
    "\n",
    "    clf = XGBClassifier(n_estimators = 100, \n",
    "                            max_depth = space['max_depth'], \n",
    "                            min_child_weight =space['min_child_weight'],\n",
    "                            subsample = space['subsample'],\n",
    "                            colsample_bytree =space['colsample_bytree'],\n",
    "                            learning_rate = space['learning_rate'], seed = 0)\n",
    "    \n",
    "    params = clf.get_xgb_params()\n",
    "    #dtest\n",
    "    score = xgb.cv(params, dtrain, nfold = 5, metrics = \"auc\", early_stopping_rounds=10)\n",
    "    #print score\n",
    "    #score = cross_val_score(clf, trainX, trainY, cv = 5, scoring=\"average_precision\")\n",
    "    avg_score =  np.mean(score[\"test-auc-mean\"])\n",
    "    error = np.mean(score[\"test-auc-std\"])\n",
    "    \n",
    "    bst = xgb.train(params, dtrain)\n",
    "    preds = bst.predict(dtest)\n",
    "    test_score = metrics.roc_auc_score(testY, preds)\n",
    "    \n",
    "    print(\"SCORE:\", avg_score, \"ERROR\", error, \"HOLDOUT SCORE\", test_score)\n",
    "\n",
    "    return{'loss':1-test_score, 'status': STATUS_OK, \"cv_score\":avg_score , \"cv_error\":error, \"holdout\":test_score }"
   ]
  },
  {
   "cell_type": "code",
   "execution_count": 7,
   "metadata": {
    "scrolled": true
   },
   "outputs": [
    {
     "name": "stdout",
     "output_type": "stream",
     "text": [
      "SCORE:                                              \n",
      "0.76744502                                          \n",
      "ERROR                                               \n",
      "0.028634939506478795                                \n",
      "HOLDOUT SCORE                                       \n",
      "0.8260282816516447                                  \n",
      "SCORE:                                                                        \n",
      "0.7634039400000001                                                            \n",
      "ERROR                                                                         \n",
      "0.023685349743515893                                                          \n",
      "HOLDOUT SCORE                                                                 \n",
      "0.8195182705743044                                                            \n",
      "SCORE:                                                                        \n",
      "0.77043206                                                                    \n",
      "ERROR                                                                         \n",
      "0.029509620131901015                                                          \n",
      "HOLDOUT SCORE                                                                 \n",
      "0.8303090847764232                                                            \n",
      "SCORE:                                                                        \n",
      "0.7933295800000001                                                            \n",
      "ERROR                                                                         \n",
      "0.0248663732537623                                                            \n",
      "HOLDOUT SCORE                                                                 \n",
      "0.8443719117787266                                                            \n",
      "SCORE:                                                                        \n",
      "0.7665630800000001                                                           \n",
      "ERROR                                                                        \n",
      "0.028714944147128753                                                         \n",
      "HOLDOUT SCORE                                                                \n",
      "0.8220973421923012                                                           \n",
      "SCORE:                                                                       \n",
      "0.7943601799999999                                                           \n",
      "ERROR                                                                        \n",
      "0.024476594877852722                                                         \n",
      "HOLDOUT SCORE                                                                \n",
      "0.8436463803269382                                                           \n",
      "SCORE:                                                                       \n",
      "0.761149                                                                     \n",
      "ERROR                                                                        \n",
      "0.031100779199914275                                                         \n",
      "HOLDOUT SCORE                                                                \n",
      "0.8205648455045282                                                           \n",
      "SCORE:                                                                       \n",
      "0.76429398                                                                   \n",
      "ERROR                                                                        \n",
      "0.030374038198700947                                                         \n",
      "HOLDOUT SCORE                                                                \n",
      "0.8261821010217928                                                           \n",
      "SCORE:                                                                       \n",
      "0.7880480999999999                                                           \n",
      "ERROR                                                                        \n",
      "0.024528313436201182                                                         \n",
      "HOLDOUT SCORE                                                                \n",
      "0.8404507745341477                                                           \n",
      "SCORE:                                                                       \n",
      "0.7769322999999999                                                           \n",
      "ERROR                                                                        \n",
      "0.026517585330927036                                                         \n",
      "HOLDOUT SCORE                                                                \n",
      "0.8298675662139607                                                           \n",
      "SCORE:                                                                        \n",
      "0.7693733199999999                                                            \n",
      "ERROR                                                                         \n",
      "0.022947369180504357                                                          \n",
      "HOLDOUT SCORE                                                                 \n",
      "0.8308827237891709                                                            \n",
      "SCORE:                                                                        \n",
      "0.7692026599999999                                                            \n",
      "ERROR                                                                         \n",
      "0.028507913291593835                                                          \n",
      "HOLDOUT SCORE                                                                 \n",
      "0.8252679816603077                                                            \n",
      "SCORE:                                                                        \n",
      "0.5                                                                           \n",
      "ERROR                                                                         \n",
      "0.0                                                                           \n",
      "HOLDOUT SCORE                                                                 \n",
      "0.5                                                                           \n",
      "SCORE:                                                                        \n",
      "0.7907738400000001                                                            \n",
      "ERROR                                                                         \n",
      "0.026539103904430494                                                          \n",
      "HOLDOUT SCORE                                                                 \n",
      "0.8434281344341081                                                            \n",
      "SCORE:                                                                        \n",
      "0.7564293799999999                                                            \n",
      "ERROR                                                                         \n",
      "0.03113544054861055                                                           \n",
      "HOLDOUT SCORE                                                                 \n",
      "0.8164988533084319                                                            \n",
      "SCORE:                                                                        \n",
      "0.76517796                                                                    \n",
      "ERROR                                                                         \n",
      "0.02332912163701059                                                           \n",
      "HOLDOUT SCORE                                                                 \n",
      "0.8300909226632065                                                            \n",
      "SCORE:                                                                        \n",
      "0.788158                                                                      \n",
      "ERROR                                                                         \n",
      "0.024491659222398873                                                          \n",
      "HOLDOUT SCORE                                                                 \n",
      "0.839665508218026                                                             \n",
      "SCORE:                                                                        \n",
      "0.7680296                                                                     \n",
      "ERROR                                                                         \n",
      "0.029196456763751384                                                          \n"
     ]
    },
    {
     "name": "stdout",
     "output_type": "stream",
     "text": [
      "HOLDOUT SCORE                                                                 \n",
      "0.8257751834396525                                                            \n",
      "SCORE:                                                                        \n",
      "0.78870538                                                                    \n",
      "ERROR                                                                         \n",
      "0.026838113863218604                                                          \n",
      "HOLDOUT SCORE                                                                 \n",
      "0.8425999729559408                                                            \n",
      "SCORE:                                                                        \n",
      "0.76100704                                                                    \n",
      "ERROR                                                                         \n",
      "0.02998467889591793                                                           \n",
      "HOLDOUT SCORE                                                                 \n",
      "0.8160084912313742                                                            \n",
      "SCORE:                                                                        \n",
      "0.79384856                                                                    \n",
      "ERROR                                                                         \n",
      "0.02475175737951108                                                           \n",
      "HOLDOUT SCORE                                                                 \n",
      "0.843978063816272                                                             \n",
      "SCORE:                                                                        \n",
      "0.78209426                                                                    \n",
      "ERROR                                                                         \n",
      "0.02634103991183511                                                           \n",
      "HOLDOUT SCORE                                                                 \n",
      "0.8363848661176644                                                            \n",
      "SCORE:                                                                        \n",
      "0.78854866                                                                    \n",
      "ERROR                                                                         \n",
      "0.02524636562629881                                                           \n",
      "HOLDOUT SCORE                                                                 \n",
      "0.8404400507436363                                                            \n",
      "SCORE:                                                                        \n",
      "0.77620526                                                                    \n",
      "ERROR                                                                         \n",
      "0.027009173728691566                                                          \n",
      "HOLDOUT SCORE                                                                 \n",
      "0.8318660451113005                                                            \n",
      "SCORE:                                                                        \n",
      "0.78553648                                                                    \n",
      "ERROR                                                                         \n",
      "0.025518338953275422                                                          \n",
      "HOLDOUT SCORE                                                                 \n",
      "0.8380701768202253                                                            \n",
      "SCORE:                                                                        \n",
      "0.77771202                                                                    \n",
      "ERROR                                                                         \n",
      "0.0268007976140821                                                            \n",
      "HOLDOUT SCORE                                                                 \n",
      "0.8322891321588214                                                            \n",
      "SCORE:                                                                        \n",
      "0.7906197399999999                                                            \n",
      "ERROR                                                                         \n",
      "0.024925412696898283                                                          \n",
      "HOLDOUT SCORE                                                                 \n",
      "0.8411968319912119                                                            \n",
      "SCORE:                                                                        \n",
      "0.78391226                                                                    \n",
      "ERROR                                                                         \n",
      "0.0267259895126432                                                            \n",
      "HOLDOUT SCORE                                                                 \n",
      "0.8382611105590967                                                            \n",
      "SCORE:                                                                        \n",
      "0.78198066                                                                    \n",
      "ERROR                                                                         \n",
      "0.025849248127318942                                                          \n",
      "HOLDOUT SCORE                                                                 \n",
      "0.8340547875106044                                                            \n",
      "SCORE:                                                                        \n",
      "0.79289446                                                                    \n",
      "ERROR                                                                         \n",
      "0.024957906866721547                                                          \n",
      "HOLDOUT SCORE                                                                 \n",
      "0.8441781295330006                                                            \n",
      "SCORE:                                                                        \n",
      "0.79200884                                                                    \n",
      "ERROR                                                                         \n",
      "0.025606376162904048                                                          \n",
      "HOLDOUT SCORE                                                                 \n",
      "0.8434070219715387                                                            \n",
      "SCORE:                                                                        \n",
      "0.79323404                                                                    \n",
      "ERROR                                                                         \n",
      "0.024929385026590554                                                          \n",
      "HOLDOUT SCORE                                                                 \n",
      "0.8445082212096804                                                            \n",
      "SCORE:                                                                        \n",
      "0.7929813                                                                     \n",
      "ERROR                                                                         \n",
      "0.025104681352094416                                                          \n",
      "HOLDOUT SCORE                                                                 \n",
      "0.8442676061600803                                                            \n",
      "SCORE:                                                                        \n",
      "0.79056614                                                                    \n",
      "ERROR                                                                         \n",
      "0.02636379442256797                                                           \n",
      "HOLDOUT SCORE                                                                 \n",
      "0.8436890241501438                                                            \n",
      "SCORE:                                                                        \n",
      "0.77035604                                                                    \n",
      "ERROR                                                                         \n",
      "0.02780143772091101                                                           \n",
      "HOLDOUT SCORE                                                                 \n"
     ]
    },
    {
     "name": "stdout",
     "output_type": "stream",
     "text": [
      "0.8285937809722759                                                            \n",
      "SCORE:                                                                        \n",
      "0.79478568                                                                    \n",
      "ERROR                                                                         \n",
      "0.02426574574409673                                                           \n",
      "HOLDOUT SCORE                                                                 \n",
      "0.8443446834043813                                                            \n",
      "SCORE:                                                                        \n",
      "0.7848570400000001                                                            \n",
      "ERROR                                                                         \n",
      "0.02578796353338378                                                           \n",
      "HOLDOUT SCORE                                                                 \n",
      "0.8382689020631402                                                            \n",
      "SCORE:                                                                        \n",
      "0.7742473799999999                                                            \n",
      "ERROR                                                                         \n",
      "0.028095766676290306                                                          \n",
      "HOLDOUT SCORE                                                                 \n",
      "0.8300671292530093                                                            \n",
      "SCORE:                                                                        \n",
      "0.76995774                                                                    \n",
      "ERROR                                                                         \n",
      "0.02887344861003357                                                           \n",
      "HOLDOUT SCORE                                                                 \n",
      "0.8257874152632045                                                            \n",
      "SCORE:                                                                        \n",
      "0.7811236400000001                                                            \n",
      "ERROR                                                                         \n",
      "0.02571112931404036                                                           \n",
      "HOLDOUT SCORE                                                                 \n",
      "0.834077324226601                                                             \n",
      "SCORE:                                                                        \n",
      "0.7686806599999999                                                            \n",
      "ERROR                                                                         \n",
      "0.029298955858344085                                                          \n",
      "HOLDOUT SCORE                                                                 \n",
      "0.8227054984057578                                                            \n",
      "SCORE:                                                                        \n",
      "0.5                                                                           \n",
      "ERROR                                                                         \n",
      "0.0                                                                           \n",
      "HOLDOUT SCORE                                                                 \n",
      "0.5                                                                           \n",
      "SCORE:                                                                        \n",
      "0.7614337000000001                                                            \n",
      "ERROR                                                                         \n",
      "0.028823343578786853                                                          \n",
      "HOLDOUT SCORE                                                                 \n",
      "0.8171482290916664                                                            \n",
      "SCORE:                                                                        \n",
      "0.7925113                                                                     \n",
      "ERROR                                                                         \n",
      "0.025384332381792784                                                          \n",
      "HOLDOUT SCORE                                                                 \n",
      "0.844058576024721                                                             \n",
      "SCORE:                                                                        \n",
      "0.77706774                                                                    \n",
      "ERROR                                                                         \n",
      "0.02641425108206797                                                           \n",
      "HOLDOUT SCORE                                                                 \n",
      "0.8313104187154272                                                            \n",
      "SCORE:                                                                        \n",
      "0.7818795600000001                                                            \n",
      "ERROR                                                                         \n",
      "0.025889200146663426                                                          \n",
      "HOLDOUT SCORE                                                                 \n",
      "0.8361369622417012                                                            \n",
      "SCORE:                                                                        \n",
      "0.79276588                                                                    \n",
      "ERROR                                                                         \n",
      "0.0249102385262562                                                            \n",
      "HOLDOUT SCORE                                                                 \n",
      "0.8433794584787399                                                            \n",
      "SCORE:                                                                        \n",
      "0.7677029999999999                                                            \n",
      "ERROR                                                                         \n",
      "0.026594890217808705                                                          \n",
      "HOLDOUT SCORE                                                                 \n",
      "0.8220200973887737                                                            \n",
      "SCORE:                                                                        \n",
      "0.7862535                                                                     \n",
      "ERROR                                                                         \n",
      "0.02608039022222573                                                           \n",
      "HOLDOUT SCORE                                                                 \n",
      "0.8400235822855715                                                            \n",
      "SCORE:                                                                        \n",
      "0.7907856200000001                                                            \n",
      "ERROR                                                                         \n",
      "0.024990078872265162                                                          \n",
      "HOLDOUT SCORE                                                                 \n",
      "0.8424676849464288                                                            \n",
      "100%|██████████| 50/50 [00:32<00:00,  1.59it/s, best loss: 0.1554917787903196]\n",
      "Optimization Time: %f seconds 32.625317096710205\n",
      "CPU times: user 32 s, sys: 901 ms, total: 32.9 s\n",
      "Wall time: 32.6 s\n"
     ]
    }
   ],
   "source": [
    "%%time\n",
    "trials = Trials()\n",
    "import time\n",
    "start = time.time()\n",
    "best = fmin(fn=objective, space = space, algo = tpe.suggest, max_evals = 50, trials = trials)\n",
    "end = time.time()\n",
    "print(\"Optimization Time: %f seconds\", (end  -start))"
   ]
  },
  {
   "cell_type": "code",
   "execution_count": 8,
   "metadata": {},
   "outputs": [
    {
     "data": {
      "text/plain": [
       "{'x_learning_rate': 0.13250760484422328,\n",
       " 'x_max_depth': 3,\n",
       " 'x_min_child': 7.0,\n",
       " 'x_pos_weight': 1.2132553037365474,\n",
       " 'x_subsample': 0.9865542973546438,\n",
       " 'x_tree_colsample': 0.6011322204557822}"
      ]
     },
     "execution_count": 8,
     "metadata": {},
     "output_type": "execute_result"
    }
   ],
   "source": [
    "best"
   ]
  },
  {
   "cell_type": "code",
   "execution_count": 9,
   "metadata": {},
   "outputs": [
    {
     "name": "stdout",
     "output_type": "stream",
     "text": [
      "[0]\ttrain-auc:0.685044+0.00117564\ttest-auc:0.680786+0.00543282\n",
      "[1]\ttrain-auc:0.746955+0.0741807\ttest-auc:0.744245+0.0732839\n",
      "[2]\ttrain-auc:0.775082+0.0726775\ttest-auc:0.773129+0.0691777\n",
      "[3]\ttrain-auc:0.797803+0.0564877\ttest-auc:0.794435+0.0541408\n",
      "[4]\ttrain-auc:0.821984+0.0162639\ttest-auc:0.818143+0.0141905\n",
      "[5]\ttrain-auc:0.823598+0.0142747\ttest-auc:0.819792+0.0129385\n",
      "[6]\ttrain-auc:0.826391+0.00378253\ttest-auc:0.822169+0.00234257\n",
      "[7]\ttrain-auc:0.832443+0.00554544\ttest-auc:0.827865+0.00490454\n",
      "[8]\ttrain-auc:0.832246+0.00773849\ttest-auc:0.827385+0.00653285\n",
      "[9]\ttrain-auc:0.834119+0.00542426\ttest-auc:0.829517+0.00405649\n",
      "   train-auc-mean  train-auc-std  test-auc-mean  test-auc-std\n",
      "0        0.685044       0.001176       0.680786      0.005433\n",
      "1        0.746955       0.074181       0.744245      0.073284\n",
      "2        0.775082       0.072677       0.773129      0.069178\n",
      "3        0.797803       0.056488       0.794435      0.054141\n",
      "4        0.821984       0.016264       0.818143      0.014190\n",
      "5        0.823598       0.014275       0.819792      0.012938\n",
      "6        0.826391       0.003783       0.822169      0.002343\n",
      "7        0.832443       0.005545       0.827865      0.004905\n",
      "8        0.832246       0.007738       0.827385      0.006533\n",
      "9        0.834119       0.005424       0.829517      0.004056\n",
      "0.7148868640607635\n"
     ]
    },
    {
     "name": "stderr",
     "output_type": "stream",
     "text": [
      "/home/dtamayo/miniconda3/envs/ml/lib/python3.7/site-packages/xgboost/core.py:587: FutureWarning: Series.base is deprecated and will be removed in a future version\n",
      "  if getattr(data, 'base', None) is not None and \\\n",
      "/home/dtamayo/miniconda3/envs/ml/lib/python3.7/site-packages/xgboost/core.py:588: FutureWarning: Series.base is deprecated and will be removed in a future version\n",
      "  data.base is not None and isinstance(data, np.ndarray) \\\n"
     ]
    }
   ],
   "source": [
    "best_xgbc = XGBClassifier(n_estimators=100, scale_pos_weight=best[\"x_pos_weight\"],\n",
    "                         learning_rate = best[\"x_learning_rate\"], \n",
    "                         max_depth = int(best[\"x_max_depth\"]), \n",
    "                         min_child_weight = best[\"x_min_child\"],\n",
    "                         subsample = best[\"x_subsample\"], \n",
    "                         colsample_bytree = best[\"x_tree_colsample\"])\n",
    "params = best_xgbc.get_xgb_params()\n",
    "score = xgb.cv(params, dtrain, nfold = 5, metrics = \"auc\", verbose_eval=True)\n",
    "print(score)\n",
    "d_Train = xgb.DMatrix(trainX, trainY)\n",
    "d_Test = xgb.DMatrix(testX)\n",
    "bst = xgb.train(params, d_Train)\n",
    "preds = bst.predict(d_Test)\n",
    "score = metrics.average_precision_score(testY, preds)\n",
    "print(score)"
   ]
  },
  {
   "cell_type": "code",
   "execution_count": 10,
   "metadata": {},
   "outputs": [
    {
     "data": {
      "text/plain": [
       "XGBClassifier(base_score=0.5, booster='gbtree', colsample_bylevel=1,\n",
       "              colsample_bytree=0.6011322204557822, gamma=0,\n",
       "              learning_rate=0.13250760484422328, max_delta_step=0, max_depth=3,\n",
       "              min_child_weight=7.0, missing=None, n_estimators=100, n_jobs=1,\n",
       "              nthread=None, objective='binary:logistic', random_state=0,\n",
       "              reg_alpha=0, reg_lambda=1, scale_pos_weight=1.2132553037365474,\n",
       "              seed=None, silent=True, subsample=0.9865542973546438)"
      ]
     },
     "execution_count": 10,
     "metadata": {},
     "output_type": "execute_result"
    }
   ],
   "source": [
    "model = XGBClassifier(n_estimators=100, scale_pos_weight=best[\"x_pos_weight\"],\n",
    "                         learning_rate = best[\"x_learning_rate\"], \n",
    "                         max_depth = int(best[\"x_max_depth\"]), \n",
    "                         min_child_weight = best[\"x_min_child\"],\n",
    "                         subsample = best[\"x_subsample\"], \n",
    "                         colsample_bytree = best[\"x_tree_colsample\"])\n",
    "\n",
    "model.fit(trainX, trainY)"
   ]
  },
  {
   "cell_type": "code",
   "execution_count": 11,
   "metadata": {},
   "outputs": [
    {
     "data": {
      "text/plain": [
       "Text(0.5, 1.0, 'ROC curve (AUC = 0.846)')"
      ]
     },
     "execution_count": 11,
     "metadata": {},
     "output_type": "execute_result"
    },
    {
     "data": {
      "image/png": "[encoded data removed]",
      "text/plain": [
       "<Figure size 432x288 with 1 Axes>"
      ]
     },
     "metadata": {
      "needs_background": "light"
     },
     "output_type": "display_data"
    }
   ],
   "source": [
    "roc_auc, fpr, tpr, ROCthresholds = ROC_curve(trainingdatafolder, model, features)\n",
    "\n",
    "fig, ax = plt.subplots()\n",
    "ax.plot(fpr, tpr)\n",
    "ax.plot([0, 1], [0, 1], 'k--')\n",
    "ax.set_xlim([0.0, 1.0])\n",
    "ax.set_ylim([0.0, 1.0])\n",
    "ax.set_xlabel('False Positive Rate')\n",
    "ax.set_ylabel('True Positive Rate')\n",
    "ax.set_title('ROC curve (AUC = {0:.3f})'.format(roc_auc))"
   ]
  },
  {
   "cell_type": "code",
   "execution_count": 12,
   "metadata": {},
   "outputs": [
    {
     "name": "stdout",
     "output_type": "stream",
     "text": [
      "Threshold 0.025265149772167206, recall = 1.0, precision = 0.49459934689776436\n",
      "Threshold 0.02770020253956318, recall = 0.9994921279837481, precision = 0.49696969696969695\n",
      "Threshold 0.02941630221903324, recall = 0.9989842559674962, precision = 0.4988587370022825\n",
      "Threshold 0.0334622785449028, recall = 0.9989842559674962, precision = 0.5010188487009679\n",
      "Threshold 0.03686733916401863, recall = 0.9979685119349924, precision = 0.5028147389969294\n",
      "Threshold 0.042767368257045746, recall = 0.9979685119349924, precision = 0.5054012345679012\n",
      "Threshold 0.05077306926250458, recall = 0.9979685119349924, precision = 0.5074896694214877\n",
      "Threshold 0.053700778633356094, recall = 0.9979685119349924, precision = 0.5098598858329009\n",
      "Threshold 0.05815439671278, recall = 0.9974606399187405, precision = 0.5127937336814622\n",
      "Threshold 0.06397344172000885, recall = 0.9974606399187405, precision = 0.5152151101783841\n",
      "Threshold 0.07260555773973465, recall = 0.9974606399187405, precision = 0.5176594623089088\n",
      "Threshold 0.07760478556156158, recall = 0.9969527679024885, precision = 0.5197246491924808\n",
      "Threshold 0.0839848518371582, recall = 0.9964448958862366, precision = 0.5223642172523961\n",
      "Threshold 0.08868834376335144, recall = 0.9954291518537328, precision = 0.5251875669882101\n",
      "Threshold 0.09385064244270325, recall = 0.9954291518537328, precision = 0.5283018867924528\n",
      "Threshold 0.10508064180612564, recall = 0.9939055358049771, precision = 0.5309278350515464\n",
      "Threshold 0.11289524286985397, recall = 0.9939055358049771, precision = 0.5342615342615342\n",
      "Threshold 0.1182342991232872, recall = 0.9928897917724734, precision = 0.5364983534577388\n",
      "Threshold 0.12627533078193665, recall = 0.9923819197562215, precision = 0.5394809497515185\n",
      "Threshold 0.13339531421661377, recall = 0.9908583037074657, precision = 0.5420950263962212\n",
      "Threshold 0.14060640335083008, recall = 0.98933468765871, precision = 0.5442861134395083\n",
      "Threshold 0.1491566300392151, recall = 0.9883189436262062, precision = 0.5467828041584715\n",
      "Threshold 0.15892411768436432, recall = 0.9867953275774505, precision = 0.5490251483469907\n",
      "Threshold 0.1682470589876175, recall = 0.9857795835449467, precision = 0.5514204545454545\n",
      "Threshold 0.17549516260623932, recall = 0.9857795835449467, precision = 0.5555237550085862\n",
      "Threshold 0.18059873580932617, recall = 0.983748095479939, precision = 0.5583741712309023\n",
      "Threshold 0.18853415548801422, recall = 0.9827323514474352, precision = 0.561520603598375\n",
      "Threshold 0.1941969096660614, recall = 0.9796851193499239, precision = 0.5630472854640981\n",
      "Threshold 0.20290015637874603, recall = 0.9771457592686643, precision = 0.5667157584683358\n",
      "Threshold 0.21125559508800507, recall = 0.9761300152361605, precision = 0.5694814814814815\n",
      "Threshold 0.2185904085636139, recall = 0.9746063991874048, precision = 0.5721526535480024\n",
      "Threshold 0.22942772507667542, recall = 0.9715591670898933, precision = 0.5739573957395739\n",
      "Threshold 0.23895110189914703, recall = 0.9695276790248857, precision = 0.5765629719118092\n",
      "Threshold 0.24801020324230194, recall = 0.9669883189436262, precision = 0.5781961737017917\n",
      "Threshold 0.25813165307044983, recall = 0.9649568308786186, precision = 0.5812174977057204\n",
      "Threshold 0.26495832204818726, recall = 0.9634332148298629, precision = 0.5842315983985217\n",
      "Threshold 0.27245765924453735, recall = 0.9603859827323514, precision = 0.5861748295102294\n",
      "Threshold 0.281474232673645, recall = 0.9588623666835957, precision = 0.5888958203368684\n",
      "Threshold 0.28752601146698, recall = 0.9568308786185881, precision = 0.5905956112852665\n",
      "Threshold 0.2945336103439331, recall = 0.9542915185373286, precision = 0.5931186868686869\n",
      "Threshold 0.300420343875885, recall = 0.9507364144235653, precision = 0.5946632782719187\n",
      "Threshold 0.31098154187202454, recall = 0.9471813103098019, precision = 0.5964182922929325\n",
      "Threshold 0.32221081852912903, recall = 0.9431183341797867, precision = 0.5990322580645161\n",
      "Threshold 0.33255282044410706, recall = 0.9405789740985272, precision = 0.6030608922175187\n",
      "Threshold 0.3396512269973755, recall = 0.9365159979685119, precision = 0.6045901639344262\n",
      "Threshold 0.3453347682952881, recall = 0.9314372778059928, precision = 0.6056803170409512\n",
      "Threshold 0.35211148858070374, recall = 0.9278821736922296, precision = 0.6081890812250332\n",
      "Threshold 0.35851046442985535, recall = 0.9238191975622143, precision = 0.6099932930918847\n",
      "Threshold 0.3683857023715973, recall = 0.920264093448451, precision = 0.6129905277401895\n",
      "Threshold 0.38008010387420654, recall = 0.9146775012696801, precision = 0.6148856264936838\n",
      "Threshold 0.3887934684753418, recall = 0.9111223971559167, precision = 0.6184074457083765\n",
      "Threshold 0.3985925316810608, recall = 0.9060436769933977, precision = 0.6205217391304347\n",
      "Threshold 0.4042678773403168, recall = 0.9035043169121382, precision = 0.6242105263157894\n",
      "Threshold 0.4128468930721283, recall = 0.8984255967496191, precision = 0.627750177430802\n",
      "Threshold 0.4236310124397278, recall = 0.8938547486033519, precision = 0.6299212598425197\n",
      "Threshold 0.42981788516044617, recall = 0.8918232605383444, precision = 0.6332491886043996\n",
      "Threshold 0.434908926486969, recall = 0.8867445403758253, precision = 0.634217217580821\n",
      "Threshold 0.4429888427257538, recall = 0.8816658202133062, precision = 0.6368305209097579\n",
      "Threshold 0.45057806372642517, recall = 0.8760792280345353, precision = 0.639599555061179\n",
      "Threshold 0.4571760296821594, recall = 0.8704926358557643, precision = 0.6431519699812382\n",
      "Threshold 0.46384936571121216, recall = 0.866937531742001, precision = 0.6456127080181543\n",
      "Threshold 0.47617384791374207, recall = 0.8588115794819705, precision = 0.6473966309341501\n",
      "Threshold 0.48301053047180176, recall = 0.8532249873031996, precision = 0.6486486486486487\n",
      "Threshold 0.4906182289123535, recall = 0.8476383951244286, precision = 0.651953125\n",
      "Threshold 0.499132364988327, recall = 0.8435754189944135, precision = 0.6536796536796536\n",
      "Threshold 0.50505131483078, recall = 0.8359573387506348, precision = 0.6570858283433134\n",
      "Threshold 0.511877715587616, recall = 0.8278313864906044, precision = 0.6593851132686084\n",
      "Threshold 0.519035816192627, recall = 0.8191975622143219, precision = 0.6613366133661337\n",
      "Threshold 0.5256444215774536, recall = 0.8120873539867953, precision = 0.6648648648648648\n",
      "Threshold 0.5334113836288452, recall = 0.8075165058405281, precision = 0.6666666666666666\n",
      "Threshold 0.5383578538894653, recall = 0.7973590655154901, precision = 0.6700810926163039\n",
      "Threshold 0.5452836751937866, recall = 0.7866937531742001, precision = 0.6752397558849171\n",
      "Threshold 0.5538228750228882, recall = 0.7805992889791773, precision = 0.677689594356261\n",
      "Threshold 0.5591084361076355, recall = 0.7745048247841544, precision = 0.6801962533452275\n",
      "Threshold 0.5663694143295288, recall = 0.7633316404266125, precision = 0.6785553047404064\n",
      "Threshold 0.5770430564880371, recall = 0.7562214321990859, precision = 0.6808413351623228\n",
      "Threshold 0.5849848985671997, recall = 0.7516505840528187, precision = 0.6858202038924931\n",
      "Threshold 0.5917288064956665, recall = 0.7369222955815135, precision = 0.6876777251184835\n",
      "Threshold 0.5986990928649902, recall = 0.7272727272727273, precision = 0.6891241578440809\n",
      "Threshold 0.6055134534835815, recall = 0.7160995429151854, precision = 0.6901615271659325\n",
      "Threshold 0.6089594960212708, recall = 0.7028948704926359, precision = 0.6933867735470942\n",
      "Threshold 0.6145557165145874, recall = 0.6932453021838497, precision = 0.6925418569254186\n",
      "Threshold 0.6205834746360779, recall = 0.6851193499238192, precision = 0.6946446961894953\n",
      "Threshold 0.6258323788642883, recall = 0.6719146775012697, precision = 0.6959495002630195\n",
      "Threshold 0.6356355547904968, recall = 0.6576942610462163, precision = 0.696236559139785\n",
      "Threshold 0.642686665058136, recall = 0.6449974606399187, precision = 0.7028223574986165\n",
      "Threshold 0.6493425369262695, recall = 0.6246825799898426, precision = 0.7052752293577982\n",
      "Threshold 0.655036449432373, recall = 0.6130015236160488, precision = 0.7075029308323564\n",
      "Threshold 0.6627973318099976, recall = 0.6058913153885221, precision = 0.7096966091612136\n",
      "Threshold 0.6664299964904785, recall = 0.5911630269172169, precision = 0.7136725935009197\n",
      "Threshold 0.6720343232154846, recall = 0.5815134586084306, precision = 0.715625\n",
      "Threshold 0.6768050193786621, recall = 0.5723717623158964, precision = 0.7164653528289892\n",
      "Threshold 0.6813194155693054, recall = 0.5617064499746064, precision = 0.7181818181818181\n",
      "Threshold 0.6865859627723694, recall = 0.5485017775520569, precision = 0.72\n",
      "Threshold 0.6901234984397888, recall = 0.5368207211782631, precision = 0.7200272479564033\n",
      "Threshold 0.6945309638977051, recall = 0.5154900964956831, precision = 0.7224199288256228\n",
      "Threshold 0.6990138292312622, recall = 0.5099035043169121, precision = 0.7275362318840579\n",
      "Threshold 0.702571451663971, recall = 0.49619095987811074, precision = 0.7307404637247569\n",
      "Threshold 0.708376407623291, recall = 0.47587607922803454, precision = 0.7331768388106417\n",
      "Threshold 0.711808979511261, recall = 0.46317927882173693, precision = 0.7342995169082126\n",
      "Threshold 0.7150583267211914, recall = 0.4484509903504317, precision = 0.7407718120805369\n",
      "Threshold 0.7196117639541626, recall = 0.43067546978161503, precision = 0.7425569176882661\n",
      "Threshold 0.7257748246192932, recall = 0.3941086846114779, precision = 0.7475915221579962\n",
      "Threshold 0.7312169671058655, recall = 0.37531742001015744, precision = 0.7525458248472505\n",
      "Threshold 0.734869122505188, recall = 0.3610970035551041, precision = 0.7555791710945803\n",
      "Threshold 0.7370442152023315, recall = 0.34433722701879127, precision = 0.7533333333333333\n",
      "Threshold 0.7398326396942139, recall = 0.32351447435246317, precision = 0.7565320665083135\n",
      "Threshold 0.7449164390563965, recall = 0.30319959370238697, precision = 0.7595419847328244\n",
      "Threshold 0.7507655024528503, recall = 0.297613001523616, precision = 0.7630208333333334\n",
      "Threshold 0.754807710647583, recall = 0.2798374809547994, precision = 0.7621023513139695\n",
      "Threshold 0.7582016587257385, recall = 0.2656170644997461, precision = 0.7579710144927536\n",
      "Threshold 0.762919008731842, recall = 0.25545962417470797, precision = 0.7656012176560122\n",
      "Threshold 0.7673894762992859, recall = 0.24225495175215844, precision = 0.7644230769230769\n",
      "Threshold 0.7723679542541504, recall = 0.22244794311833418, precision = 0.7684210526315789\n",
      "Threshold 0.775685727596283, recall = 0.2026409344845099, precision = 0.7658349328214972\n",
      "Threshold 0.7789483070373535, recall = 0.18791264601320468, precision = 0.7660455486542443\n",
      "Threshold 0.7827561497688293, recall = 0.17623158963941088, precision = 0.7868480725623582\n",
      "Threshold 0.7857264876365662, recall = 0.15947181310309802, precision = 0.785\n",
      "Threshold 0.7900506854057312, recall = 0.14169629253428137, precision = 0.7948717948717948\n",
      "Threshold 0.7944740056991577, recall = 0.11884205180294566, precision = 0.7905405405405406\n",
      "Threshold 0.7983906865119934, recall = 0.1005586592178771, precision = 0.792\n",
      "Threshold 0.8012548685073853, recall = 0.08684611477907567, precision = 0.7916666666666666\n",
      "Threshold 0.8053001761436462, recall = 0.07465718638902996, precision = 0.7945945945945946\n",
      "Threshold 0.8085411787033081, recall = 0.061960385982732354, precision = 0.7973856209150327\n",
      "Threshold 0.8140247464179993, recall = 0.05485017775520569, precision = 0.8059701492537313\n",
      "Threshold 0.8245773315429688, recall = 0.0457084814626714, precision = 0.8108108108108109\n",
      "Threshold 0.8345901966094971, recall = 0.03148806500761808, precision = 0.8857142857142857\n",
      "Threshold 0.8384040594100952, recall = 0.02031488065007618, precision = 0.9090909090909091\n",
      "Threshold 0.8489595055580139, recall = 0.012696800406297613, precision = 0.9259259259259259\n",
      "Threshold 0.8683547973632812, recall = 0.005078720162519045, precision = 1.0\n"
     ]
    }
   ],
   "source": [
    "pr_auc, precision, recall, PRthresholds = PR_curve(trainingdatafolder, model, features)\n",
    "for i in range(0,len(recall), 15):\n",
    "    print(\"Threshold {0}, recall = {1}, precision = {2}\".format(PRthresholds[i], recall[i], precision[i]))"
   ]
  },
  {
   "cell_type": "code",
   "execution_count": 13,
   "metadata": {},
   "outputs": [
    {
     "data": {
      "image/png": "[encoded data removed]",
      "text/plain": [
       "<Figure size 432x288 with 1 Axes>"
      ]
     },
     "metadata": {
      "needs_background": "light"
     },
     "output_type": "display_data"
    }
   ],
   "source": [
    "fig, ax = plt.subplots()\n",
    "ax.plot(recall, precision)\n",
    "ax.set_xlim([0.0, 1.0])\n",
    "ax.set_ylim([0.0, 1.0])\n",
    "ax.set_xlabel('Recall')\n",
    "ax.set_ylabel('Precision')\n",
    "ax.set_title(\"AUC Score (Test): {0:.4f}\".format(pr_auc))\n",
    "plt.show()"
   ]
  },
  {
   "cell_type": "code",
   "execution_count": 17,
   "metadata": {},
   "outputs": [
    {
     "data": {
      "text/plain": [
       "(0, 210.6)"
      ]
     },
     "execution_count": 17,
     "metadata": {},
     "output_type": "execute_result"
    },
    {
     "data": {
      "image/png": "[encoded data removed]",
      "text/plain": [
       "<Figure size 432x288 with 2 Axes>"
      ]
     },
     "metadata": {
      "needs_background": "light"
     },
     "output_type": "display_data"
    }
   ],
   "source": [
    "# Histogram:\n",
    "bins = 50\n",
    "Stable, Unstable = stable_unstable_hist(trainingdatafolder, model, features)\n",
    "\n",
    "fig, ax1 = plt.subplots()\n",
    "n, bins, pathces = ax1.hist(Unstable, bins, alpha=0.5, label='No', color='blue', edgecolor = \"black\")\n",
    "ax1.set_xlabel('Predicted Probability', fontsize=14)\n",
    "ax1.set_ylabel('Unstable',  fontsize=14, color='blue')\n",
    "for tl in ax1.get_yticklabels():\n",
    "    tl.set_color('blue')\n",
    "    \n",
    "\n",
    "\n",
    "ax2 = ax1.twinx()\n",
    "n, bins , patches = ax2.hist(Stable, bins, alpha=0.5, label='Yes',color='green', edgecolor = \"black\")\n",
    "#print(n.astype(int))\n",
    "ax2.set_ylabel('Stable', fontsize=14, color='green')\n",
    "for tl in ax2.get_yticklabels():\n",
    "    tl.set_color('green')\n",
    "    \n",
    "    \n",
    "#ax1.set_ylim(ax2.get_ylim())\n",
    "ax1.set_ylim([0,8.1*n[-1]]) # goes up to ~4300\n",
    "ax2.set_ylim([0,8.1*n[-1]]) # goes up to ~2100"
   ]
  },
  {
   "cell_type": "code",
   "execution_count": 18,
   "metadata": {},
   "outputs": [
    {
     "data": {
      "text/plain": [
       "Text(0, 0.5, 'Fraction actually stable')"
      ]
     },
     "execution_count": 18,
     "metadata": {},
     "output_type": "execute_result"
    },
    {
     "data": {
      "image/png": "[encoded data removed]",
      "text/plain": [
       "<Figure size 576x432 with 1 Axes>"
      ]
     },
     "metadata": {
      "needs_background": "light"
     },
     "output_type": "display_data"
    }
   ],
   "source": [
    "bincenters, fracstable, errorbars = calibration_plot(trainingdatafolder, model, features, bins=10)\n",
    "fig, ax = plt.subplots(figsize=(8,6))\n",
    "ax.plot(np.linspace(0,1,100), np.linspace(0,1,100), '--')\n",
    "ax.errorbar(bincenters, fracstable, errorbars)\n",
    "ax.set_xlim([0,1])\n",
    "ax.set_ylim([0,1])\n",
    "ax.set_xlabel('Predicted Probability of Stability')\n",
    "ax.set_ylabel('Fraction actually stable')"
   ]
  },
  {
   "cell_type": "code",
   "execution_count": 19,
   "metadata": {},
   "outputs": [
    {
     "name": "stderr",
     "output_type": "stream",
     "text": [
      "../modelfitting.py:99: RuntimeWarning: divide by zero encountered in true_divide\n",
      "  errorbars.append(np.sqrt(1./Nerrors + 1./hist[i])*errorfracs[-1]) # see calibration plot comment\n",
      "../modelfitting.py:99: RuntimeWarning: invalid value encountered in double_scalars\n",
      "  errorbars.append(np.sqrt(1./Nerrors + 1./hist[i])*errorfracs[-1]) # see calibration plot comment\n"
     ]
    },
    {
     "data": {
      "text/plain": [
       "Text(0.5, 1.0, 'Fraction of unstable systems mislabeled as stable')"
      ]
     },
     "execution_count": 19,
     "metadata": {},
     "output_type": "execute_result"
    },
    {
     "data": {
      "image/png": "[encoded data removed]",
      "text/plain": [
       "<Figure size 576x432 with 1 Axes>"
      ]
     },
     "metadata": {
      "needs_background": "light"
     },
     "output_type": "display_data"
    }
   ],
   "source": [
    "bincenters, errorfracs, errorbars = unstable_error_fraction(trainingdatafolder, model, features, bins=10)\n",
    "fig, ax = plt.subplots(figsize=(8,6))\n",
    "ax.errorbar(bincenters, errorfracs, errorbars)\n",
    "ax.set_ylim([0,1])\n",
    "ax.set_xlabel('Log Instability Time')\n",
    "ax.set_ylabel('Error Fraction')\n",
    "ax.set_title('Fraction of unstable systems mislabeled as stable')"
   ]
  },
  {
   "cell_type": "code",
   "execution_count": 20,
   "metadata": {},
   "outputs": [
    {
     "data": {
      "image/png": "[encoded data removed]",
      "text/plain": [
       "<Figure size 864x576 with 1 Axes>"
      ]
     },
     "metadata": {
      "needs_background": "light"
     },
     "output_type": "display_data"
    }
   ],
   "source": [
    "# feature importances\n",
    "feat_imp = pd.Series(model.get_booster().get_fscore()).sort_values(ascending=False)\n",
    "feat_imp.plot(kind='bar', title='Feature Importances', figsize=(12,8))\n",
    "plt.ylabel('Feature Importance Score')\n",
    "plt.show()"
   ]
  },
  {
   "cell_type": "code",
   "execution_count": 24,
   "metadata": {},
   "outputs": [],
   "source": [
    "dill.dump([model, features, featurefolder], open(datapath+\"../models/HillSpheresxgb_random.pkl\", \"wb\"))"
   ]
  },
  {
   "cell_type": "code",
   "execution_count": null,
   "metadata": {},
   "outputs": [],
   "source": []
  }
 ],
 "metadata": {
  "anaconda-cloud": {},
  "kernelspec": {
   "display_name": "Python 3",
   "language": "python",
   "name": "python3"
  },
  "language_info": {
   "codemirror_mode": {
    "name": "ipython",
    "version": 3
   },
   "file_extension": ".py",
   "mimetype": "text/x-python",
   "name": "python",
   "nbconvert_exporter": "python",
   "pygments_lexer": "ipython3",
   "version": "3.7.3"
  }
 },
 "nbformat": 4,
 "nbformat_minor": 2
}
