{
 "cells": [
  {
   "cell_type": "code",
   "execution_count": 4,
   "metadata": {},
   "outputs": [],
   "source": [
    "import numpy as np\n",
    "import sklearn\n",
    "import matplotlib.pyplot as plt\n",
    "%matplotlib inline\n",
    "import pandas as pd\n",
    "from sklearn import metrics\n",
    "from sklearn.model_selection import cross_val_score\n",
    "from matplotlib import rc\n",
    "from matplotlib import cm\n",
    "from mpl_toolkits.mplot3d import axes3d\n",
    "from matplotlib.ticker import MaxNLocator\n",
    "import scipy.signal\n",
    "import xgboost as xgb\n",
    "from xgboost.sklearn import XGBClassifier\n",
    "from hyperopt import hp, fmin, tpe, STATUS_OK, Trials\n",
    "import dill\n",
    "import sys\n",
    "sys.path.append('../')\n",
    "from modelfitting import train_test_split, ROC_curve, PR_curve, stable_unstable_hist, calibration_plot, unstable_error_fraction"
   ]
  },
  {
   "cell_type": "code",
   "execution_count": 5,
   "metadata": {},
   "outputs": [],
   "source": [
    "datapath = '/mnt/ssd/Dropbox/Dropbox (Princeton)/workspace/stability/MLstability/training_data/'\n",
    "dset = 'resonant/'\n",
    "featurefolder = 'ressummaryfeaturesxgbv6Norbits10000.0Nout1000/'\n",
    "features = ['betanear', 'betafar']"
   ]
  },
  {
   "cell_type": "code",
   "execution_count": 6,
   "metadata": {
    "scrolled": true
   },
   "outputs": [],
   "source": [
    "trainingdatafolder = datapath+dset+featurefolder\n",
    "trainX, trainY, testX, testY = train_test_split(trainingdatafolder, features)"
   ]
  },
  {
   "cell_type": "code",
   "execution_count": 7,
   "metadata": {},
   "outputs": [
    {
     "name": "stderr",
     "output_type": "stream",
     "text": [
      "/home/dtamayo/miniconda3/envs/ml/lib/python3.7/site-packages/xgboost/core.py:587: FutureWarning: Series.base is deprecated and will be removed in a future version\n",
      "  if getattr(data, 'base', None) is not None and \\\n",
      "/home/dtamayo/miniconda3/envs/ml/lib/python3.7/site-packages/xgboost/core.py:588: FutureWarning: Series.base is deprecated and will be removed in a future version\n",
      "  data.base is not None and isinstance(data, np.ndarray) \\\n"
     ]
    }
   ],
   "source": [
    "space ={\n",
    "        'max_depth': hp.randint('x_max_depth',  20),\n",
    "        'min_child_weight': hp.quniform ('x_min_child', 1, 10, 1),\n",
    "        'subsample': hp.uniform ('x_subsample', 0.8, 1),\n",
    "        'scale_pos_weight': hp.uniform(\"x_pos_weight\", 1, 15),\n",
    "        \"learning_rate\":hp.uniform(\"x_learning_rate\",0.01,0.2),\n",
    "        'colsample_bytree': hp.uniform ('x_tree_colsample', 0.5,1),\n",
    "}\n",
    "\n",
    "dtrain = xgb.DMatrix(trainX, trainY)\n",
    "dtest = xgb.DMatrix(testX, testY)\n",
    "def objective(space):\n",
    "\n",
    "    clf = XGBClassifier(n_estimators = 100, \n",
    "                            max_depth = space['max_depth'], \n",
    "                            min_child_weight =space['min_child_weight'],\n",
    "                            subsample = space['subsample'],\n",
    "                            colsample_bytree =space['colsample_bytree'],\n",
    "                            learning_rate = space['learning_rate'], seed = 0)\n",
    "    \n",
    "    params = clf.get_xgb_params()\n",
    "    #dtest\n",
    "    score = xgb.cv(params, dtrain, nfold = 5, metrics = \"auc\", early_stopping_rounds=10)\n",
    "    #print score\n",
    "    #score = cross_val_score(clf, trainX, trainY, cv = 5, scoring=\"average_precision\")\n",
    "    avg_score =  np.mean(score[\"test-auc-mean\"])\n",
    "    error = np.mean(score[\"test-auc-std\"])\n",
    "    \n",
    "    bst = xgb.train(params, dtrain)\n",
    "    preds = bst.predict(dtest)\n",
    "    test_score = metrics.roc_auc_score(testY, preds)\n",
    "    \n",
    "    print(\"SCORE:\", avg_score, \"ERROR\", error, \"HOLDOUT SCORE\", test_score)\n",
    "\n",
    "    return{'loss':1-test_score, 'status': STATUS_OK, \"cv_score\":avg_score , \"cv_error\":error, \"holdout\":test_score }"
   ]
  },
  {
   "cell_type": "code",
   "execution_count": 8,
   "metadata": {
    "scrolled": true
   },
   "outputs": [
    {
     "name": "stdout",
     "output_type": "stream",
     "text": [
      "SCORE:                                              \n",
      "0.69563304                                          \n",
      "ERROR                                               \n",
      "0.019251252413007472                                \n",
      "HOLDOUT SCORE                                       \n",
      "0.6905756734602868                                  \n",
      "SCORE:                                                                       \n",
      "0.70541024                                                                   \n",
      "ERROR                                                                        \n",
      "0.018512472791289272                                                         \n",
      "HOLDOUT SCORE                                                                \n",
      "0.6997791767333612                                                           \n",
      "SCORE:                                                                       \n",
      "0.67238188                                                                   \n",
      "ERROR                                                                        \n",
      "0.019774891956406773                                                         \n",
      "HOLDOUT SCORE                                                                \n",
      "0.6631824395459884                                                           \n",
      "SCORE:                                                                       \n",
      "0.6803492999999999                                                           \n",
      "ERROR                                                                        \n",
      "0.01896216916342988                                                          \n",
      "HOLDOUT SCORE                                                                \n",
      "0.6740538362816555                                                           \n",
      "SCORE:                                                                       \n",
      "0.69539896                                                                   \n",
      "ERROR                                                                        \n",
      "0.01897118576181952                                                          \n",
      "HOLDOUT SCORE                                                                \n",
      "0.6907999173971487                                                           \n",
      "SCORE:                                                                       \n",
      "0.6851232199999999                                                           \n",
      "ERROR                                                                        \n",
      "0.013905258142665517                                                         \n",
      "HOLDOUT SCORE                                                                \n",
      "0.6906808273967813                                                           \n",
      "SCORE:                                                                       \n",
      "0.6765962600000001                                                           \n",
      "ERROR                                                                        \n",
      "0.021059282863072626                                                         \n",
      "HOLDOUT SCORE                                                                \n",
      "0.6777684307612004                                                           \n",
      "SCORE:                                                                       \n",
      "0.66715682                                                                   \n",
      "ERROR                                                                        \n",
      "0.019784265295455933                                                         \n",
      "HOLDOUT SCORE                                                                \n",
      "0.6630468796519531                                                           \n",
      "SCORE:                                                                       \n",
      "0.6990332800000001                                                           \n",
      "ERROR                                                                        \n",
      "0.018631820582714884                                                         \n",
      "HOLDOUT SCORE                                                                \n",
      "0.6987821147090085                                                           \n",
      "SCORE:                                                                       \n",
      "0.6955117000000001                                                           \n",
      "ERROR                                                                        \n",
      "0.01872621425989288                                                          \n",
      "HOLDOUT SCORE                                                                \n",
      "0.6905611039389651                                                           \n",
      "SCORE:                                                                        \n",
      "0.7045029599999999                                                            \n",
      "ERROR                                                                         \n",
      "0.016460495333914586                                                          \n",
      "HOLDOUT SCORE                                                                 \n",
      "0.7022312905175221                                                            \n",
      "SCORE:                                                                        \n",
      "0.70051538                                                                    \n",
      "ERROR                                                                         \n",
      "0.01672704745555203                                                           \n",
      "HOLDOUT SCORE                                                                 \n",
      "0.6992477059338493                                                            \n",
      "SCORE:                                                                        \n",
      "0.5                                                                           \n",
      "ERROR                                                                         \n",
      "0.0                                                                           \n",
      "HOLDOUT SCORE                                                                 \n",
      "0.5                                                                           \n",
      "SCORE:                                                                        \n",
      "0.6880935800000001                                                            \n",
      "ERROR                                                                         \n",
      "0.020474831052104122                                                          \n",
      "HOLDOUT SCORE                                                                 \n",
      "0.6855352525404811                                                            \n",
      "SCORE:                                                                        \n",
      "0.6866000999999999                                                            \n",
      "ERROR                                                                         \n",
      "0.018079094229399937                                                          \n",
      "HOLDOUT SCORE                                                                 \n",
      "0.6867609927038371                                                            \n",
      "SCORE:                                                                        \n",
      "0.6764965199999999                                                            \n",
      "ERROR                                                                         \n",
      "0.018280176086126854                                                          \n",
      "HOLDOUT SCORE                                                                 \n",
      "0.6657694797667356                                                            \n",
      "SCORE:                                                                        \n",
      "0.69980072                                                                    \n",
      "ERROR                                                                         \n",
      "0.017283731675221715                                                          \n",
      "HOLDOUT SCORE                                                                 \n",
      "0.7001149091812056                                                            \n",
      "SCORE:                                                                        \n",
      "0.6889407599999999                                                            \n",
      "ERROR                                                                         \n",
      "0.020130393687096772                                                          \n"
     ]
    },
    {
     "name": "stdout",
     "output_type": "stream",
     "text": [
      "HOLDOUT SCORE                                                                 \n",
      "0.6840079866315141                                                            \n",
      "SCORE:                                                                        \n",
      "0.66831246                                                                    \n",
      "ERROR                                                                         \n",
      "0.01928294770229385                                                           \n",
      "HOLDOUT SCORE                                                                 \n",
      "0.6566901341536185                                                            \n",
      "SCORE:                                                                        \n",
      "0.6702350199999999                                                            \n",
      "ERROR                                                                         \n",
      "0.017835325669020765                                                          \n",
      "HOLDOUT SCORE                                                                 \n",
      "0.6707877296758344                                                            \n",
      "SCORE:                                                                        \n",
      "0.70667302                                                                    \n",
      "ERROR                                                                         \n",
      "0.014407358766997927                                                          \n",
      "HOLDOUT SCORE                                                                 \n",
      "0.7050128021750395                                                            \n",
      "SCORE:                                                                        \n",
      "0.70618344                                                                    \n",
      "ERROR                                                                         \n",
      "0.015313406178685467                                                          \n",
      "HOLDOUT SCORE                                                                 \n",
      "0.7023180741880026                                                            \n",
      "SCORE:                                                                        \n",
      "0.7053385799999999                                                            \n",
      "ERROR                                                                         \n",
      "0.015422573488694644                                                          \n",
      "HOLDOUT SCORE                                                                 \n",
      "0.704066416746588                                                             \n",
      "SCORE:                                                                        \n",
      "0.6646249                                                                     \n",
      "ERROR                                                                         \n",
      "0.020106810606132987                                                          \n",
      "HOLDOUT SCORE                                                                 \n",
      "0.6716390964869717                                                            \n",
      "SCORE:                                                                        \n",
      "0.6704562999999999                                                            \n",
      "ERROR                                                                         \n",
      "0.0205957544794496                                                            \n",
      "HOLDOUT SCORE                                                                 \n",
      "0.6677826075389037                                                            \n",
      "SCORE:                                                                        \n",
      "0.67684842                                                                    \n",
      "ERROR                                                                         \n",
      "0.018883622770384696                                                          \n",
      "HOLDOUT SCORE                                                                 \n",
      "0.6811770652929932                                                            \n",
      "SCORE:                                                                        \n",
      "0.6566394400000001                                                            \n",
      "ERROR                                                                         \n",
      "0.015781543369059774                                                          \n",
      "HOLDOUT SCORE                                                                 \n",
      "0.6509630453593541                                                            \n",
      "SCORE:                                                                        \n",
      "0.66934892                                                                    \n",
      "ERROR                                                                         \n",
      "0.019368544732107657                                                          \n",
      "HOLDOUT SCORE                                                                 \n",
      "0.6692541291923798                                                            \n",
      "SCORE:                                                                        \n",
      "0.68219078                                                                    \n",
      "ERROR                                                                         \n",
      "0.018793517028305083                                                          \n",
      "HOLDOUT SCORE                                                                 \n",
      "0.6891605295197505                                                            \n",
      "SCORE:                                                                        \n",
      "0.7076179                                                                     \n",
      "ERROR                                                                         \n",
      "0.015711602177327103                                                          \n",
      "HOLDOUT SCORE                                                                 \n",
      "0.7033835496168216                                                            \n",
      "SCORE:                                                                        \n",
      "0.7035522399999999                                                            \n",
      "ERROR                                                                         \n",
      "0.016313309558749482                                                          \n",
      "HOLDOUT SCORE                                                                 \n",
      "0.7023066719539247                                                            \n",
      "SCORE:                                                                        \n",
      "0.70375352                                                                    \n",
      "ERROR                                                                         \n",
      "0.016562989763257128                                                          \n",
      "HOLDOUT SCORE                                                                 \n",
      "0.6999818831169654                                                            \n",
      "SCORE:                                                                        \n",
      "0.7055236599999998                                                            \n",
      "ERROR                                                                         \n",
      "0.017953237503009825                                                          \n",
      "HOLDOUT SCORE                                                                 \n",
      "0.7002954445541029                                                            \n",
      "SCORE:                                                                        \n",
      "0.67607618                                                                    \n",
      "ERROR                                                                         \n",
      "0.01970959749232873                                                           \n",
      "HOLDOUT SCORE                                                                 \n",
      "0.673237943087649                                                             \n",
      "SCORE:                                                                        \n",
      "0.6572929000000001                                                            \n",
      "ERROR                                                                         \n",
      "0.018917537102962893                                                          \n",
      "HOLDOUT SCORE                                                                 \n"
     ]
    },
    {
     "name": "stdout",
     "output_type": "stream",
     "text": [
      "0.6467955288039438                                                            \n",
      "SCORE:                                                                        \n",
      "0.6925482                                                                     \n",
      "ERROR                                                                         \n",
      "0.018221321283203796                                                          \n",
      "HOLDOUT SCORE                                                                 \n",
      "0.6937087540018674                                                            \n",
      "SCORE:                                                                        \n",
      "0.6880340599999999                                                            \n",
      "ERROR                                                                         \n",
      "0.015386024202407695                                                          \n",
      "HOLDOUT SCORE                                                                 \n",
      "0.6940869280987788                                                            \n",
      "SCORE:                                                                        \n",
      "0.70440964                                                                    \n",
      "ERROR                                                                         \n",
      "0.018131805267474776                                                          \n",
      "HOLDOUT SCORE                                                                 \n",
      "0.7009941481200883                                                            \n",
      "SCORE:                                                                        \n",
      "0.66431272                                                                    \n",
      "ERROR                                                                         \n",
      "0.016347416835843363                                                          \n",
      "HOLDOUT SCORE                                                                 \n",
      "0.6580976766047694                                                            \n",
      "SCORE:                                                                        \n",
      "0.7043015800000001                                                            \n",
      "ERROR                                                                         \n",
      "0.015318696875673058                                                          \n",
      "HOLDOUT SCORE                                                                 \n",
      "0.7001237775854883                                                            \n",
      "SCORE:                                                                        \n",
      "0.69724408                                                                    \n",
      "ERROR                                                                         \n",
      "0.017270370761798583                                                          \n",
      "HOLDOUT SCORE                                                                 \n",
      "0.6966334270428052                                                            \n",
      "SCORE:                                                                        \n",
      "0.5                                                                           \n",
      "ERROR                                                                         \n",
      "0.0                                                                           \n",
      "HOLDOUT SCORE                                                                 \n",
      "0.5                                                                           \n",
      "SCORE:                                                                        \n",
      "0.6604423799999999                                                            \n",
      "ERROR                                                                         \n",
      "0.015388294902027994                                                          \n",
      "HOLDOUT SCORE                                                                 \n",
      "0.658518292350748                                                             \n",
      "SCORE:                                                                        \n",
      "0.68834054                                                                    \n",
      "ERROR                                                                         \n",
      "0.017532460108036437                                                          \n",
      "HOLDOUT SCORE                                                                 \n",
      "0.6830368963625606                                                            \n",
      "SCORE:                                                                        \n",
      "0.6779353799999999                                                            \n",
      "ERROR                                                                         \n",
      "0.018356060631158043                                                          \n",
      "HOLDOUT SCORE                                                                 \n",
      "0.6741209827712242                                                            \n",
      "SCORE:                                                                        \n",
      "0.67354086                                                                    \n",
      "ERROR                                                                         \n",
      "0.019576326851816647                                                          \n",
      "HOLDOUT SCORE                                                                 \n",
      "0.6716010890400459                                                            \n",
      "SCORE:                                                                        \n",
      "0.6780286799999999                                                            \n",
      "ERROR                                                                         \n",
      "0.01998676805114809                                                           \n",
      "HOLDOUT SCORE                                                                 \n",
      "0.6793767792236093                                                            \n",
      "SCORE:                                                                        \n",
      "0.68183082                                                                    \n",
      "ERROR                                                                         \n",
      "0.0169044408397875                                                            \n",
      "HOLDOUT SCORE                                                                 \n",
      "0.6802110426836299                                                            \n",
      "SCORE:                                                                        \n",
      "0.66679108                                                                    \n",
      "ERROR                                                                         \n",
      "0.018384280011375254                                                          \n",
      "HOLDOUT SCORE                                                                 \n",
      "0.6680473927524866                                                            \n",
      "SCORE:                                                                        \n",
      "0.70571626                                                                    \n",
      "ERROR                                                                         \n",
      "0.01825242998860514                                                           \n",
      "HOLDOUT SCORE                                                                 \n",
      "0.700490549448322                                                             \n",
      "100%|██████████| 50/50 [00:14<00:00,  3.31it/s, best loss: 0.2949871978249605]\n",
      "Optimization Time: %f seconds 14.798258781433105\n",
      "CPU times: user 14.4 s, sys: 682 ms, total: 15 s\n",
      "Wall time: 14.8 s\n"
     ]
    }
   ],
   "source": [
    "%%time\n",
    "trials = Trials()\n",
    "import time\n",
    "start = time.time()\n",
    "best = fmin(fn=objective, space = space, algo = tpe.suggest, max_evals = 50, trials = trials)\n",
    "end = time.time()\n",
    "print(\"Optimization Time: %f seconds\", (end  -start))"
   ]
  },
  {
   "cell_type": "code",
   "execution_count": 9,
   "metadata": {},
   "outputs": [
    {
     "data": {
      "text/plain": [
       "{'x_learning_rate': 0.1967967022870981,\n",
       " 'x_max_depth': 4,\n",
       " 'x_min_child': 1.0,\n",
       " 'x_pos_weight': 12.802453105653669,\n",
       " 'x_subsample': 0.8008229428238052,\n",
       " 'x_tree_colsample': 0.5912125314802084}"
      ]
     },
     "execution_count": 9,
     "metadata": {},
     "output_type": "execute_result"
    }
   ],
   "source": [
    "best"
   ]
  },
  {
   "cell_type": "code",
   "execution_count": 10,
   "metadata": {},
   "outputs": [
    {
     "name": "stdout",
     "output_type": "stream",
     "text": [
      "[0]\ttrain-auc:0.685453+0.00176962\ttest-auc:0.677752+0.00919541\n",
      "[1]\ttrain-auc:0.72944+0.0179748\ttest-auc:0.706312+0.0142094\n",
      "[2]\ttrain-auc:0.735261+0.00259117\ttest-auc:0.710733+0.0125469\n",
      "[3]\ttrain-auc:0.735497+0.00408384\ttest-auc:0.711567+0.0185717\n",
      "[4]\ttrain-auc:0.733674+0.00582033\ttest-auc:0.710202+0.0213494\n",
      "[5]\ttrain-auc:0.736214+0.00789257\ttest-auc:0.711256+0.0220678\n",
      "[6]\ttrain-auc:0.740102+0.00538614\ttest-auc:0.711927+0.0168459\n",
      "[7]\ttrain-auc:0.744749+0.00228986\ttest-auc:0.714623+0.0126104\n",
      "[8]\ttrain-auc:0.745409+0.00245224\ttest-auc:0.715198+0.0135801\n",
      "[9]\ttrain-auc:0.746701+0.00383535\ttest-auc:0.714791+0.0137561\n",
      "   train-auc-mean  train-auc-std  test-auc-mean  test-auc-std\n",
      "0        0.685453       0.001770       0.677752      0.009195\n",
      "1        0.729440       0.017975       0.706312      0.014209\n",
      "2        0.735261       0.002591       0.710733      0.012547\n",
      "3        0.735497       0.004084       0.711567      0.018572\n",
      "4        0.733674       0.005820       0.710202      0.021349\n",
      "5        0.736214       0.007893       0.711256      0.022068\n",
      "6        0.740102       0.005386       0.711927      0.016846\n",
      "7        0.744749       0.002290       0.714623      0.012610\n",
      "8        0.745409       0.002452       0.715198      0.013580\n",
      "9        0.746701       0.003835       0.714791      0.013756\n",
      "0.4573158503382461\n"
     ]
    },
    {
     "name": "stderr",
     "output_type": "stream",
     "text": [
      "/home/dtamayo/miniconda3/envs/ml/lib/python3.7/site-packages/xgboost/core.py:587: FutureWarning: Series.base is deprecated and will be removed in a future version\n",
      "  if getattr(data, 'base', None) is not None and \\\n",
      "/home/dtamayo/miniconda3/envs/ml/lib/python3.7/site-packages/xgboost/core.py:588: FutureWarning: Series.base is deprecated and will be removed in a future version\n",
      "  data.base is not None and isinstance(data, np.ndarray) \\\n"
     ]
    }
   ],
   "source": [
    "best_xgbc = XGBClassifier(n_estimators=100, scale_pos_weight=best[\"x_pos_weight\"],\n",
    "                         learning_rate = best[\"x_learning_rate\"], \n",
    "                         max_depth = int(best[\"x_max_depth\"]), \n",
    "                         min_child_weight = best[\"x_min_child\"],\n",
    "                         subsample = best[\"x_subsample\"], \n",
    "                         colsample_bytree = best[\"x_tree_colsample\"])\n",
    "params = best_xgbc.get_xgb_params()\n",
    "score = xgb.cv(params, dtrain, nfold = 5, metrics = \"auc\", verbose_eval=True)\n",
    "print(score)\n",
    "d_Train = xgb.DMatrix(trainX, trainY)\n",
    "d_Test = xgb.DMatrix(testX)\n",
    "bst = xgb.train(params, d_Train)\n",
    "preds = bst.predict(d_Test)\n",
    "score = metrics.average_precision_score(testY, preds)\n",
    "print(score)"
   ]
  },
  {
   "cell_type": "code",
   "execution_count": 11,
   "metadata": {},
   "outputs": [
    {
     "data": {
      "text/plain": [
       "XGBClassifier(base_score=0.5, booster='gbtree', colsample_bylevel=1,\n",
       "              colsample_bytree=0.5912125314802084, gamma=0,\n",
       "              learning_rate=0.1967967022870981, max_delta_step=0, max_depth=4,\n",
       "              min_child_weight=1.0, missing=None, n_estimators=100, n_jobs=1,\n",
       "              nthread=None, objective='binary:logistic', random_state=0,\n",
       "              reg_alpha=0, reg_lambda=1, scale_pos_weight=12.802453105653669,\n",
       "              seed=None, silent=True, subsample=0.8008229428238052)"
      ]
     },
     "execution_count": 11,
     "metadata": {},
     "output_type": "execute_result"
    }
   ],
   "source": [
    "model = XGBClassifier(n_estimators=100, scale_pos_weight=best[\"x_pos_weight\"],\n",
    "                         learning_rate = best[\"x_learning_rate\"], \n",
    "                         max_depth = int(best[\"x_max_depth\"]), \n",
    "                         min_child_weight = best[\"x_min_child\"],\n",
    "                         subsample = best[\"x_subsample\"], \n",
    "                         colsample_bytree = best[\"x_tree_colsample\"])\n",
    "\n",
    "model.fit(trainX, trainY)"
   ]
  },
  {
   "cell_type": "code",
   "execution_count": 13,
   "metadata": {},
   "outputs": [
    {
     "data": {
      "text/plain": [
       "Text(0.5, 1.0, 'ROC curve (AUC = 0.691)')"
      ]
     },
     "execution_count": 13,
     "metadata": {},
     "output_type": "execute_result"
    },
    {
     "data": {
      "image/png": "[encoded data removed]",
      "text/plain": [
       "<Figure size 432x288 with 1 Axes>"
      ]
     },
     "metadata": {
      "needs_background": "light"
     },
     "output_type": "display_data"
    }
   ],
   "source": [
    "roc_auc, fpr, tpr, ROCthresholds = ROC_curve(trainingdatafolder, model, features)\n",
    "\n",
    "fig, ax = plt.subplots()\n",
    "ax.plot(fpr, tpr)\n",
    "ax.plot([0, 1], [0, 1], 'k--')\n",
    "ax.set_xlim([0.0, 1.0])\n",
    "ax.set_ylim([0.0, 1.0])\n",
    "ax.set_xlabel('False Positive Rate')\n",
    "ax.set_ylabel('True Positive Rate')\n",
    "ax.set_title('ROC curve (AUC = {0:.3f})'.format(roc_auc))"
   ]
  },
  {
   "cell_type": "code",
   "execution_count": 14,
   "metadata": {},
   "outputs": [
    {
     "name": "stdout",
     "output_type": "stream",
     "text": [
      "Threshold 0.015998326241970062, recall = 1.0, precision = 0.2736469398077896\n",
      "Threshold 0.022845137864351273, recall = 0.9981515711645101, precision = 0.27621483375959077\n",
      "Threshold 0.030424153432250023, recall = 0.9981515711645101, precision = 0.27835051546391754\n",
      "Threshold 0.047513559460639954, recall = 0.9981515711645101, precision = 0.2806652806652807\n",
      "Threshold 0.059343356639146805, recall = 0.9981515711645101, precision = 0.2828706128863279\n",
      "Threshold 0.08773640543222427, recall = 0.9926062846580407, precision = 0.28397673188789\n",
      "Threshold 0.10349144786596298, recall = 0.9926062846580407, precision = 0.2864\n",
      "Threshold 0.12835344672203064, recall = 0.9926062846580407, precision = 0.2887096774193548\n",
      "Threshold 0.15393072366714478, recall = 0.9926062846580407, precision = 0.29121475054229934\n",
      "Threshold 0.18979483842849731, recall = 0.9907578558225508, precision = 0.29321663019693656\n",
      "Threshold 0.22343707084655762, recall = 0.9870609981515711, precision = 0.29453943739658023\n",
      "Threshold 0.24448850750923157, recall = 0.9852125693160814, precision = 0.296440489432703\n",
      "Threshold 0.2757691442966461, recall = 0.9852125693160814, precision = 0.2989343802579921\n",
      "Threshold 0.30679067969322205, recall = 0.9796672828096118, precision = 0.3001132502831257\n",
      "Threshold 0.3369947075843811, recall = 0.9759704251386322, precision = 0.3017142857142857\n",
      "Threshold 0.37049341201782227, recall = 0.9685767097966729, precision = 0.30201729106628245\n",
      "Threshold 0.38629645109176636, recall = 0.9611829944547134, precision = 0.3023255813953488\n",
      "Threshold 0.4110662639141083, recall = 0.9574861367837338, precision = 0.30381231671554254\n",
      "Threshold 0.4275312125682831, recall = 0.9519408502772643, precision = 0.3047337278106509\n",
      "Threshold 0.4420084059238434, recall = 0.9500924214417745, precision = 0.3070489844683393\n",
      "Threshold 0.4548531770706177, recall = 0.9463955637707948, precision = 0.3088057901085645\n",
      "Threshold 0.4712056815624237, recall = 0.944547134935305, precision = 0.31101643335362145\n",
      "Threshold 0.48859310150146484, recall = 0.9408502772643254, precision = 0.31265356265356264\n",
      "Threshold 0.4981473386287689, recall = 0.9371534195933456, precision = 0.3143211407315561\n",
      "Threshold 0.513001024723053, recall = 0.933456561922366, precision = 0.3160200250312891\n",
      "Threshold 0.5233864784240723, recall = 0.9316081330868762, precision = 0.31838281743524954\n",
      "Threshold 0.5373295545578003, recall = 0.9297597042513863, precision = 0.3207908163265306\n",
      "Threshold 0.547124445438385, recall = 0.9279112754158965, precision = 0.3234536082474227\n",
      "Threshold 0.5597370862960815, recall = 0.9242144177449169, precision = 0.3259452411994785\n",
      "Threshold 0.5716135501861572, recall = 0.9168207024029574, precision = 0.32653061224489793\n",
      "Threshold 0.580804705619812, recall = 0.9149722735674677, precision = 0.32956058588548603\n",
      "Threshold 0.5947844386100769, recall = 0.9094269870609981, precision = 0.3308675184936113\n",
      "Threshold 0.6009095907211304, recall = 0.9020332717190388, precision = 0.3317471108089735\n",
      "Threshold 0.6088488698005676, recall = 0.8983364140480592, precision = 0.334020618556701\n",
      "Threshold 0.6189892292022705, recall = 0.88909426987061, precision = 0.3344923504867872\n",
      "Threshold 0.6403021812438965, recall = 0.8798521256931608, precision = 0.33450456781447646\n",
      "Threshold 0.6471981406211853, recall = 0.8743068391866913, precision = 0.3359375\n",
      "Threshold 0.6590036749839783, recall = 0.8706099815157117, precision = 0.3386053199137311\n",
      "Threshold 0.6699104309082031, recall = 0.8595194085027726, precision = 0.3384279475982533\n",
      "Threshold 0.679276704788208, recall = 0.8539741219963032, precision = 0.3407079646017699\n",
      "Threshold 0.6857308745384216, recall = 0.8484288354898336, precision = 0.3422818791946309\n",
      "Threshold 0.6923412680625916, recall = 0.8391866913123844, precision = 0.3431594860166289\n",
      "Threshold 0.7000628709793091, recall = 0.8299445471349353, precision = 0.34432515337423314\n",
      "Threshold 0.7059128284454346, recall = 0.822550831792976, precision = 0.3457653457653458\n",
      "Threshold 0.7100595831871033, recall = 0.8133086876155268, precision = 0.3464566929133858\n",
      "Threshold 0.7167536020278931, recall = 0.8059149722735675, precision = 0.34741035856573704\n",
      "Threshold 0.7234954237937927, recall = 0.7985212569316081, precision = 0.3486682808716707\n",
      "Threshold 0.729423999786377, recall = 0.7911275415896488, precision = 0.35053235053235055\n",
      "Threshold 0.7333760857582092, recall = 0.7837338262476895, precision = 0.35245220282626766\n",
      "Threshold 0.7383502721786499, recall = 0.7763401109057301, precision = 0.35502958579881655\n",
      "Threshold 0.7416846752166748, recall = 0.7689463955637708, precision = 0.3567753001715266\n",
      "Threshold 0.7447383403778076, recall = 0.7652495378927912, precision = 0.36\n",
      "Threshold 0.7497308254241943, recall = 0.756007393715342, precision = 0.36067019400352734\n",
      "Threshold 0.7550642490386963, recall = 0.7467652495378928, precision = 0.3610366398570152\n",
      "Threshold 0.7588813304901123, recall = 0.7356746765249538, precision = 0.36083408884859475\n",
      "Threshold 0.7650786638259888, recall = 0.7264325323475046, precision = 0.36154553817847285\n",
      "Threshold 0.7679893374443054, recall = 0.7153419593345656, precision = 0.36202057998129095\n",
      "Threshold 0.7746840119361877, recall = 0.7079482439926063, precision = 0.3637226970560304\n",
      "Threshold 0.7803468108177185, recall = 0.7042513863216266, precision = 0.36776061776061775\n",
      "Threshold 0.7860229015350342, recall = 0.6968576709796673, precision = 0.3696078431372549\n",
      "Threshold 0.7899616956710815, recall = 0.6839186691312384, precision = 0.36852589641434264\n",
      "Threshold 0.7921263575553894, recall = 0.678373382624769, precision = 0.37296747967479676\n",
      "Threshold 0.7943342328071594, recall = 0.6654343807763401, precision = 0.37267080745341613\n",
      "Threshold 0.7986460328102112, recall = 0.6561922365988909, precision = 0.37486800422386485\n",
      "Threshold 0.8013156652450562, recall = 0.6414048059149723, precision = 0.37554112554112556\n",
      "Threshold 0.8044824004173279, recall = 0.634011090573013, precision = 0.37816979051819183\n",
      "Threshold 0.8080958724021912, recall = 0.6247689463955638, precision = 0.3797752808988764\n",
      "Threshold 0.8118271827697754, recall = 0.6136783733826248, precision = 0.38029782359679265\n",
      "Threshold 0.815926730632782, recall = 0.6044362292051756, precision = 0.3820093457943925\n",
      "Threshold 0.8184332847595215, recall = 0.5933456561922366, precision = 0.3821428571428571\n",
      "Threshold 0.8229812979698181, recall = 0.5822550831792976, precision = 0.38321167883211676\n",
      "Threshold 0.8271062970161438, recall = 0.5767097966728281, precision = 0.3880597014925373\n",
      "Threshold 0.8297063112258911, recall = 0.5693160813308688, precision = 0.39135959339263027\n",
      "Threshold 0.8319082856178284, recall = 0.5656192236598891, precision = 0.3968871595330739\n",
      "Threshold 0.8342448472976685, recall = 0.5545286506469501, precision = 0.3978779840848806\n",
      "Threshold 0.8377742171287537, recall = 0.5508317929759704, precision = 0.40324763193504737\n",
      "Threshold 0.8412585258483887, recall = 0.5434380776340111, precision = 0.4066390041493776\n",
      "Threshold 0.8443543314933777, recall = 0.5304990757855823, precision = 0.40767045454545453\n",
      "Threshold 0.8470844030380249, recall = 0.5231053604436229, precision = 0.41253644314868804\n",
      "Threshold 0.8507868647575378, recall = 0.5101663585951941, precision = 0.41317365269461076\n",
      "Threshold 0.8545598387718201, recall = 0.5046210720887245, precision = 0.4212962962962963\n",
      "Threshold 0.8573781251907349, recall = 0.49907578558225507, precision = 0.4299363057324841\n",
      "Threshold 0.8602770566940308, recall = 0.4898336414048059, precision = 0.4337152209492635\n",
      "Threshold 0.8634241819381714, recall = 0.48428835489833644, precision = 0.4403361344537815\n",
      "Threshold 0.865727961063385, recall = 0.4731977818853974, precision = 0.4429065743944637\n",
      "Threshold 0.8684881329536438, recall = 0.4584103512014787, precision = 0.44206773618538325\n",
      "Threshold 0.8713269829750061, recall = 0.4491682070240296, precision = 0.45\n",
      "Threshold 0.8733872175216675, recall = 0.43253234750462105, precision = 0.4517374517374517\n",
      "Threshold 0.8767424821853638, recall = 0.4177449168207024, precision = 0.4538152610441767\n",
      "Threshold 0.8788045048713684, recall = 0.41035120147874304, precision = 0.45962732919254656\n",
      "Threshold 0.8803806304931641, recall = 0.4029574861367837, precision = 0.4658119658119658\n",
      "Threshold 0.8832201957702637, recall = 0.39371534195933455, precision = 0.4722838137472284\n",
      "Threshold 0.8855319619178772, recall = 0.3844731977818854, precision = 0.47706422018348627\n",
      "Threshold 0.8890685439109802, recall = 0.36229205175600737, precision = 0.47342995169082125\n",
      "Threshold 0.891598105430603, recall = 0.35304990757855825, precision = 0.4811083123425693\n",
      "Threshold 0.8942333459854126, recall = 0.33826247689463956, precision = 0.48157894736842105\n",
      "Threshold 0.8973867297172546, recall = 0.32162661737523107, precision = 0.48467966573816157\n",
      "Threshold 0.8994102478027344, recall = 0.3049907578558225, precision = 0.49107142857142855\n",
      "Threshold 0.9031082987785339, recall = 0.29390018484288355, precision = 0.496875\n",
      "Threshold 0.9060531854629517, recall = 0.27911275415896486, precision = 0.49834983498349833\n",
      "Threshold 0.9086349010467529, recall = 0.2643253234750462, precision = 0.5\n",
      "Threshold 0.9121671915054321, recall = 0.25508317929759705, precision = 0.5149253731343284\n",
      "Threshold 0.914648175239563, recall = 0.24953789279112754, precision = 0.5378486055776892\n",
      "Threshold 0.9163221716880798, recall = 0.23475046210720887, precision = 0.5570175438596491\n",
      "Threshold 0.9187823534011841, recall = 0.21626617375231053, precision = 0.5625\n",
      "Threshold 0.9228687882423401, recall = 0.19963031423290203, precision = 0.5654450261780105\n",
      "Threshold 0.9259710907936096, recall = 0.17375231053604437, precision = 0.5595238095238095\n",
      "Threshold 0.9297947287559509, recall = 0.1534195933456562, precision = 0.5570469798657718\n",
      "Threshold 0.9329068660736084, recall = 0.12939001848428835, precision = 0.5303030303030303\n",
      "Threshold 0.9352899193763733, recall = 0.11645101663585952, precision = 0.5478260869565217\n",
      "Threshold 0.9369646310806274, recall = 0.09981515711645102, precision = 0.5684210526315789\n",
      "Threshold 0.9421001672744751, recall = 0.08502772643253234, precision = 0.6133333333333333\n",
      "Threshold 0.9454148411750793, recall = 0.06469500924214418, precision = 0.6363636363636364\n",
      "Threshold 0.9489319920539856, recall = 0.04436229205175601, precision = 0.6666666666666666\n",
      "Threshold 0.9548600912094116, recall = 0.025878003696857672, precision = 0.7777777777777778\n"
     ]
    }
   ],
   "source": [
    "pr_auc, precision, recall, PRthresholds = PR_curve(trainingdatafolder, model, features)\n",
    "for i in range(0,len(recall), 15):\n",
    "    print(\"Threshold {0}, recall = {1}, precision = {2}\".format(PRthresholds[i], recall[i], precision[i]))"
   ]
  },
  {
   "cell_type": "code",
   "execution_count": 15,
   "metadata": {},
   "outputs": [
    {
     "data": {
      "image/png": "[encoded data removed]",
      "text/plain": [
       "<Figure size 432x288 with 1 Axes>"
      ]
     },
     "metadata": {
      "needs_background": "light"
     },
     "output_type": "display_data"
    }
   ],
   "source": [
    "fig, ax = plt.subplots()\n",
    "ax.plot(recall, precision)\n",
    "ax.set_xlim([0.0, 1.0])\n",
    "ax.set_ylim([0.0, 1.0])\n",
    "ax.set_xlabel('Recall')\n",
    "ax.set_ylabel('Precision')\n",
    "ax.set_title(\"AUC Score (Test): {0:.4f}\".format(pr_auc))\n",
    "plt.show()"
   ]
  },
  {
   "cell_type": "code",
   "execution_count": 18,
   "metadata": {},
   "outputs": [
    {
     "data": {
      "text/plain": [
       "(0, 94.5)"
      ]
     },
     "execution_count": 18,
     "metadata": {},
     "output_type": "execute_result"
    },
    {
     "data": {
      "image/png": "[encoded data removed]",
      "text/plain": [
       "<Figure size 432x288 with 2 Axes>"
      ]
     },
     "metadata": {
      "needs_background": "light"
     },
     "output_type": "display_data"
    }
   ],
   "source": [
    "# Histogram:\n",
    "bins = 50\n",
    "Stable, Unstable = stable_unstable_hist(trainingdatafolder, model, features)\n",
    "\n",
    "fig, ax1 = plt.subplots()\n",
    "n, bins, pathces = ax1.hist(Unstable, bins, alpha=0.5, label='No', color='blue', edgecolor = \"black\")\n",
    "ax1.set_xlabel('Predicted Probability', fontsize=14)\n",
    "ax1.set_ylabel('Unstable',  fontsize=14, color='blue')\n",
    "for tl in ax1.get_yticklabels():\n",
    "    tl.set_color('blue')\n",
    "    \n",
    "\n",
    "\n",
    "ax2 = ax1.twinx()\n",
    "n, bins , patches = ax2.hist(Stable, bins, alpha=0.5, label='Yes',color='green', edgecolor = \"black\")\n",
    "#print(n.astype(int))\n",
    "ax2.set_ylabel('Stable', fontsize=14, color='green')\n",
    "for tl in ax2.get_yticklabels():\n",
    "    tl.set_color('green')\n",
    "    \n",
    "    \n",
    "#ax1.set_ylim(ax2.get_ylim())\n",
    "ax1.set_ylim([0,2.1*n[-1]]) # goes up to ~4300\n",
    "ax2.set_ylim([0,2.1*n[-1]]) # goes up to ~2100"
   ]
  },
  {
   "cell_type": "code",
   "execution_count": 19,
   "metadata": {},
   "outputs": [
    {
     "data": {
      "text/plain": [
       "Text(0, 0.5, 'Fraction actually stable')"
      ]
     },
     "execution_count": 19,
     "metadata": {},
     "output_type": "execute_result"
    },
    {
     "data": {
      "image/png": "[encoded data removed]",
      "text/plain": [
       "<Figure size 576x432 with 1 Axes>"
      ]
     },
     "metadata": {
      "needs_background": "light"
     },
     "output_type": "display_data"
    }
   ],
   "source": [
    "bincenters, fracstable, errorbars = calibration_plot(trainingdatafolder, model, features, bins=10)\n",
    "fig, ax = plt.subplots(figsize=(8,6))\n",
    "ax.plot(np.linspace(0,1,100), np.linspace(0,1,100), '--')\n",
    "ax.errorbar(bincenters, fracstable, errorbars)\n",
    "ax.set_xlim([0,1])\n",
    "ax.set_ylim([0,1])\n",
    "ax.set_xlabel('Predicted Probability of Stability')\n",
    "ax.set_ylabel('Fraction actually stable')"
   ]
  },
  {
   "cell_type": "code",
   "execution_count": 20,
   "metadata": {},
   "outputs": [
    {
     "data": {
      "text/plain": [
       "Text(0.5, 1.0, 'Fraction of unstable systems mislabeled as stable')"
      ]
     },
     "execution_count": 20,
     "metadata": {},
     "output_type": "execute_result"
    },
    {
     "data": {
      "image/png": "[encoded data removed]",
      "text/plain": [
       "<Figure size 576x432 with 1 Axes>"
      ]
     },
     "metadata": {
      "needs_background": "light"
     },
     "output_type": "display_data"
    }
   ],
   "source": [
    "bincenters, errorfracs, errorbars = unstable_error_fraction(trainingdatafolder, model, features, bins=10)\n",
    "fig, ax = plt.subplots(figsize=(8,6))\n",
    "ax.errorbar(bincenters, errorfracs, errorbars)\n",
    "ax.set_ylim([0,1])\n",
    "ax.set_xlabel('Log Instability Time')\n",
    "ax.set_ylabel('Error Fraction')\n",
    "ax.set_title('Fraction of unstable systems mislabeled as stable')"
   ]
  },
  {
   "cell_type": "code",
   "execution_count": 21,
   "metadata": {},
   "outputs": [
    {
     "data": {
      "image/png": "[encoded data removed]",
      "text/plain": [
       "<Figure size 864x576 with 1 Axes>"
      ]
     },
     "metadata": {
      "needs_background": "light"
     },
     "output_type": "display_data"
    }
   ],
   "source": [
    "# feature importances\n",
    "feat_imp = pd.Series(model.get_booster().get_fscore()).sort_values(ascending=False)\n",
    "feat_imp.plot(kind='bar', title='Feature Importances', figsize=(12,8))\n",
    "plt.ylabel('Feature Importance Score')\n",
    "plt.show()"
   ]
  },
  {
   "cell_type": "code",
   "execution_count": 22,
   "metadata": {},
   "outputs": [],
   "source": [
    "dill.dump([model, features, featurefolder], open(datapath+\"../models/HillSpheresxgb_resonant.pkl\", \"wb\"))"
   ]
  },
  {
   "cell_type": "code",
   "execution_count": null,
   "metadata": {},
   "outputs": [],
   "source": []
  }
 ],
 "metadata": {
  "anaconda-cloud": {},
  "kernelspec": {
   "display_name": "Python 3",
   "language": "python",
   "name": "python3"
  },
  "language_info": {
   "codemirror_mode": {
    "name": "ipython",
    "version": 3
   },
   "file_extension": ".py",
   "mimetype": "text/x-python",
   "name": "python",
   "nbconvert_exporter": "python",
   "pygments_lexer": "ipython3",
   "version": "3.7.3"
  }
 },
 "nbformat": 4,
 "nbformat_minor": 2
}
