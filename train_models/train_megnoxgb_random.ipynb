{
 "cells": [
  {
   "cell_type": "code",
   "execution_count": 1,
   "metadata": {},
   "outputs": [],
   "source": [
    "import numpy as np\n",
    "import sklearn\n",
    "import matplotlib.pyplot as plt\n",
    "%matplotlib inline\n",
    "import pandas as pd\n",
    "from sklearn import metrics\n",
    "from sklearn.model_selection import cross_val_score\n",
    "from matplotlib import rc\n",
    "from matplotlib import cm\n",
    "from mpl_toolkits.mplot3d import axes3d\n",
    "from matplotlib.ticker import MaxNLocator\n",
    "import scipy.signal\n",
    "import xgboost as xgb\n",
    "from xgboost.sklearn import XGBClassifier\n",
    "from hyperopt import hp, fmin, tpe, STATUS_OK, Trials\n",
    "import dill\n",
    "import sys\n",
    "sys.path.append('../')\n",
    "from modelfitting import train_test_split, ROC_curve, PR_curve, stable_unstable_hist, calibration_plot, unstable_error_fraction"
   ]
  },
  {
   "cell_type": "code",
   "execution_count": 2,
   "metadata": {},
   "outputs": [],
   "source": [
    "datapath = '/mnt/ssd/Dropbox/Dropbox (Princeton)/workspace/stability/MLstability/training_data/'\n",
    "dset = 'random/'\n",
    "featurefolder = 'ressummaryfeaturesxgbv6Norbits10000.0Nout1000/'\n",
    "features = ['megno']"
   ]
  },
  {
   "cell_type": "code",
   "execution_count": 3,
   "metadata": {
    "scrolled": true
   },
   "outputs": [],
   "source": [
    "trainingdatafolder = datapath+dset+featurefolder\n",
    "trainX, trainY, testX, testY = train_test_split(trainingdatafolder, features)"
   ]
  },
  {
   "cell_type": "markdown",
   "metadata": {},
   "source": [
    "# Fraction not chaotic over 1e4 orbits"
   ]
  },
  {
   "cell_type": "code",
   "execution_count": 7,
   "metadata": {},
   "outputs": [
    {
     "data": {
      "text/plain": [
       "0.4754"
      ]
     },
     "execution_count": 7,
     "metadata": {},
     "output_type": "execute_result"
    }
   ],
   "source": [
    "(testX['megno']<2.5).sum()/testX['megno'].shape[0]"
   ]
  },
  {
   "cell_type": "markdown",
   "metadata": {},
   "source": [
    "# Fraction not chaotic over 1e4 orbits that were stable"
   ]
  },
  {
   "cell_type": "code",
   "execution_count": 8,
   "metadata": {},
   "outputs": [
    {
     "data": {
      "text/plain": [
       "0.3804"
      ]
     },
     "execution_count": 8,
     "metadata": {},
     "output_type": "execute_result"
    }
   ],
   "source": [
    "regular = testX['megno'] < 2.5\n",
    "testY[regular].sum()/testY.shape[0]"
   ]
  },
  {
   "cell_type": "markdown",
   "metadata": {},
   "source": [
    "# Fraction chaotic over 1e4 orbits that were stable"
   ]
  },
  {
   "cell_type": "code",
   "execution_count": 9,
   "metadata": {},
   "outputs": [
    {
     "data": {
      "text/plain": [
       "0.0124"
      ]
     },
     "execution_count": 9,
     "metadata": {},
     "output_type": "execute_result"
    }
   ],
   "source": [
    "chaotic = testX['megno'] > 2.5\n",
    "testY[chaotic].sum()/testY.shape[0]"
   ]
  },
  {
   "cell_type": "code",
   "execution_count": 10,
   "metadata": {},
   "outputs": [
    {
     "name": "stderr",
     "output_type": "stream",
     "text": [
      "/home/dtamayo/miniconda3/envs/ml/lib/python3.7/site-packages/xgboost/core.py:587: FutureWarning: Series.base is deprecated and will be removed in a future version\n",
      "  if getattr(data, 'base', None) is not None and \\\n",
      "/home/dtamayo/miniconda3/envs/ml/lib/python3.7/site-packages/xgboost/core.py:588: FutureWarning: Series.base is deprecated and will be removed in a future version\n",
      "  data.base is not None and isinstance(data, np.ndarray) \\\n"
     ]
    }
   ],
   "source": [
    "space ={\n",
    "        'max_depth': hp.randint('x_max_depth',  20),\n",
    "        'min_child_weight': hp.quniform ('x_min_child', 1, 10, 1),\n",
    "        'subsample': hp.uniform ('x_subsample', 0.8, 1),\n",
    "        'scale_pos_weight': hp.uniform(\"x_pos_weight\", 1, 15),\n",
    "        \"learning_rate\":hp.uniform(\"x_learning_rate\",0.01,0.2),\n",
    "        'colsample_bytree': hp.uniform ('x_tree_colsample', 0.5,1),\n",
    "}\n",
    "\n",
    "dtrain = xgb.DMatrix(trainX, trainY)\n",
    "dtest = xgb.DMatrix(testX, testY)\n",
    "def objective(space):\n",
    "\n",
    "    clf = XGBClassifier(n_estimators = 100, \n",
    "                            max_depth = space['max_depth'], \n",
    "                            min_child_weight =space['min_child_weight'],\n",
    "                            subsample = space['subsample'],\n",
    "                            colsample_bytree =space['colsample_bytree'],\n",
    "                            learning_rate = space['learning_rate'], seed = 0)\n",
    "    \n",
    "    params = clf.get_xgb_params()\n",
    "    #dtest\n",
    "    score = xgb.cv(params, dtrain, nfold = 5, metrics = \"auc\", early_stopping_rounds=10)\n",
    "    #print score\n",
    "    #score = cross_val_score(clf, trainX, trainY, cv = 5, scoring=\"average_precision\")\n",
    "    avg_score =  np.mean(score[\"test-auc-mean\"])\n",
    "    error = np.mean(score[\"test-auc-std\"])\n",
    "    \n",
    "    bst = xgb.train(params, dtrain)\n",
    "    preds = bst.predict(dtest)\n",
    "    test_score = metrics.roc_auc_score(testY, preds)\n",
    "    \n",
    "    print(\"SCORE:\", avg_score, \"ERROR\", error, \"HOLDOUT SCORE\", test_score)\n",
    "\n",
    "    return{'loss':1-test_score, 'status': STATUS_OK, \"cv_score\":avg_score , \"cv_error\":error, \"holdout\":test_score }"
   ]
  },
  {
   "cell_type": "code",
   "execution_count": 11,
   "metadata": {
    "scrolled": true
   },
   "outputs": [
    {
     "name": "stdout",
     "output_type": "stream",
     "text": [
      "SCORE:                                              \n",
      "0.9518711400000001                                  \n",
      "ERROR                                               \n",
      "0.0041138845868596                                  \n",
      "HOLDOUT SCORE                                       \n",
      "0.961423593243945                                   \n",
      "SCORE:                                                                         \n",
      "0.95132106                                                                     \n",
      "ERROR                                                                          \n",
      "0.004119895898830517                                                           \n",
      "HOLDOUT SCORE                                                                  \n",
      "0.9592331752523735                                                             \n",
      "SCORE:                                                                         \n",
      "0.95327026                                                                     \n",
      "ERROR                                                                          \n",
      "0.0037403203465497734                                                          \n",
      "HOLDOUT SCORE                                                                  \n",
      "0.9597219455167769                                                             \n",
      "SCORE:                                                                         \n",
      "0.95287866                                                                     \n",
      "ERROR                                                                          \n",
      "0.0039016754999220485                                                          \n",
      "HOLDOUT SCORE                                                                  \n",
      "0.9595963598763346                                                             \n",
      "SCORE:                                                                         \n",
      "0.9540887400000001                                                             \n",
      "ERROR                                                                          \n",
      "0.003745133946778394                                                           \n",
      "HOLDOUT SCORE                                                                  \n",
      "0.9618790192222268                                                             \n",
      "SCORE:                                                                         \n",
      "0.9528690799999999                                                            \n",
      "ERROR                                                                         \n",
      "0.0038748469509368015                                                         \n",
      "HOLDOUT SCORE                                                                 \n",
      "0.9606043961844083                                                            \n",
      "SCORE:                                                                        \n",
      "0.9520062799999998                                                            \n",
      "ERROR                                                                         \n",
      "0.0038244301109542833                                                         \n",
      "HOLDOUT SCORE                                                                 \n",
      "0.9607214363042869                                                            \n",
      "SCORE:                                                                        \n",
      "0.9539323600000001                                                            \n",
      "ERROR                                                                         \n",
      "0.0037476913481643745                                                         \n",
      "HOLDOUT SCORE                                                                 \n",
      "0.9613674609029867                                                            \n",
      "SCORE:                                                                        \n",
      "0.9517301799999999                                                            \n",
      "ERROR                                                                         \n",
      "0.004080995265827112                                                          \n",
      "HOLDOUT SCORE                                                                 \n",
      "0.9607415434114959                                                            \n",
      "SCORE:                                                                        \n",
      "0.9525287600000001                                                            \n",
      "ERROR                                                                         \n",
      "0.0038962835768659955                                                         \n",
      "HOLDOUT SCORE                                                                 \n",
      "0.9599060093273519                                                            \n",
      "SCORE:                                                                         \n",
      "0.9516816200000001                                                             \n",
      "ERROR                                                                          \n",
      "0.003986037821959347                                                           \n",
      "HOLDOUT SCORE                                                                  \n",
      "0.9586406858266173                                                             \n",
      "SCORE:                                                                         \n",
      "0.9534541999999998                                                             \n",
      "ERROR                                                                          \n",
      "0.003767099337977093                                                           \n",
      "HOLDOUT SCORE                                                                  \n",
      "0.9613993809356808                                                             \n",
      "SCORE:                                                                         \n",
      "0.9535508399999999                                                             \n",
      "ERROR                                                                          \n",
      "0.0037547929503926923                                                          \n",
      "HOLDOUT SCORE                                                                  \n",
      "0.9616969661223729                                                             \n",
      "SCORE:                                                                         \n",
      "0.95153838                                                                     \n",
      "ERROR                                                                          \n",
      "0.003858183367117715                                                           \n",
      "HOLDOUT SCORE                                                                  \n",
      "0.9586375022013094                                                             \n",
      "SCORE:                                                                         \n",
      "0.9530159000000001                                                             \n",
      "ERROR                                                                          \n",
      "0.0038534163490927037                                                          \n",
      "HOLDOUT SCORE                                                                  \n",
      "0.9601840738641286                                                             \n",
      "SCORE:                                                                         \n",
      "0.9529674399999999                                                             \n",
      "ERROR                                                                          \n",
      "0.003978396434400025                                                           \n",
      "HOLDOUT SCORE                                                                  \n",
      "0.9600124094363325                                                             \n",
      "SCORE:                                                                         \n",
      "0.9535768599999999                                                             \n",
      "ERROR                                                                          \n",
      "0.0035201540366376267                                                          \n",
      "HOLDOUT SCORE                                                                  \n",
      "0.961407758897018                                                              \n",
      "SCORE:                                                                         \n",
      "0.9519722799999999                                                             \n",
      "ERROR                                                                          \n",
      "0.004024488214767966                                                           \n",
      "HOLDOUT SCORE                                                                  \n",
      "0.9613788549304051                                                             \n",
      "SCORE:                                                                         \n",
      "0.9523044199999999                                                             \n",
      "ERROR                                                                          \n",
      "0.003825559132646734                                                           \n",
      "HOLDOUT SCORE                                                                  \n",
      "0.9589825904287822                                                             \n",
      "SCORE:                                                                         \n",
      "0.9523545800000001                                                             \n",
      "ERROR                                                                          \n",
      "0.0038231831653087354                                                          \n",
      "HOLDOUT SCORE                                                                  \n",
      "0.9594186633163757                                                             \n",
      "SCORE:                                                                         \n",
      "0.95317512                                                                     \n",
      "ERROR                                                                          \n",
      "0.003870556683243534                                                           \n",
      "HOLDOUT SCORE                                                                  \n",
      "0.9606160415506669                                                             \n",
      "SCORE:                                                                         \n",
      "0.9524314599999999                                                             \n",
      "ERROR                                                                          \n",
      "0.0039534369100984006                                                          \n",
      "HOLDOUT SCORE                                                                  \n",
      "0.9593990588868471                                                             \n",
      "SCORE:                                                                         \n",
      "0.952914                                                                       \n",
      "ERROR                                                                          \n",
      "0.0037113902714108046                                                          \n",
      "HOLDOUT SCORE                                                                  \n",
      "0.9606472075668405                                                             \n",
      "SCORE:                                                                         \n",
      "0.9541836000000001                                                             \n",
      "ERROR                                                                          \n",
      "0.003857891760493788                                                           \n",
      "HOLDOUT SCORE                                                                  \n",
      "0.9620555428675985                                                             \n",
      "SCORE:                                                                          \n",
      "0.9541804599999999                                                              \n",
      "ERROR                                                                           \n",
      "0.0038502811774026894                                                           \n",
      "HOLDOUT SCORE                                                                   \n",
      "0.9621213098640945                                                              \n",
      "SCORE:                                                                          \n",
      "0.95406148                                                                    \n",
      "ERROR                                                                         \n",
      "0.003880903774605978                                                          \n",
      "HOLDOUT SCORE                                                                 \n",
      "0.9621266717593501                                                            \n",
      "SCORE:                                                                         \n",
      "0.9540813                                                                      \n",
      "ERROR                                                                          \n",
      "0.003783403640233142                                                           \n",
      "HOLDOUT SCORE                                                                  \n",
      "0.962095924641243                                                              \n",
      "SCORE:                                                                         \n",
      "0.95267814                                                                     \n",
      "ERROR                                                                          \n",
      "0.003842911900913972                                                           \n",
      "HOLDOUT SCORE                                                                  \n",
      "0.9599416156630343                                                             \n",
      "SCORE:                                                                         \n",
      "0.9534779600000001                                                             \n",
      "ERROR                                                                          \n",
      "0.0037005457711278                                                             \n",
      "HOLDOUT SCORE                                                                  \n",
      "0.9612355080119281                                                             \n",
      "SCORE:                                                                         \n",
      "0.5                                                                            \n",
      "ERROR                                                                          \n",
      "0.0                                                                            \n",
      "HOLDOUT SCORE                                                                  \n",
      "0.5                                                                            \n",
      "SCORE:                                                                         \n",
      "0.9129016400000001                                                             \n",
      "ERROR                                                                          \n",
      "0.004986150053884627                                                           \n",
      "HOLDOUT SCORE                                                                  \n",
      "0.9299621701533788                                                             \n",
      "SCORE:                                                                         \n",
      "0.9530261000000001                                                             \n",
      "ERROR                                                                          \n",
      "0.003929908215100593                                                           \n",
      "HOLDOUT SCORE                                                                  \n",
      "0.9603449307217999                                                             \n",
      "SCORE:                                                                         \n",
      "0.95372132                                                                     \n",
      "ERROR                                                                          \n",
      "0.003854676784719684                                                           \n",
      "HOLDOUT SCORE                                                                  \n",
      "0.9614911196123216                                                             \n",
      "SCORE:                                                                         \n",
      "0.9413390800000002                                                             \n",
      "ERROR                                                                          \n",
      "0.004141700260895697                                                           \n",
      "HOLDOUT SCORE                                                                  \n",
      "0.9577257286689984                                                             \n",
      "SCORE:                                                                         \n",
      "0.9540279999999999                                                             \n"
     ]
    },
    {
     "name": "stdout",
     "output_type": "stream",
     "text": [
      "ERROR                                                                          \n",
      "0.003874254431222133                                                           \n",
      "HOLDOUT SCORE                                                                  \n",
      "0.9616035518534649                                                             \n",
      "SCORE:                                                                         \n",
      "0.9539133999999999                                                             \n",
      "ERROR                                                                          \n",
      "0.0037141686139906386                                                          \n",
      "HOLDOUT SCORE                                                                  \n",
      "0.9620410489944855                                                             \n",
      "SCORE:                                                                         \n",
      "0.9528138599999998                                                             \n",
      "ERROR                                                                          \n",
      "0.0038836952425406364                                                          \n",
      "HOLDOUT SCORE                                                                  \n",
      "0.9597687783206511                                                             \n",
      "SCORE:                                                                         \n",
      "0.95247472                                                                     \n",
      "ERROR                                                                          \n",
      "0.0037373121910413767                                                          \n",
      "HOLDOUT SCORE                                                                  \n",
      "0.9601126936335369                                                             \n",
      "SCORE:                                                                         \n",
      "0.9523719800000002                                                             \n",
      "ERROR                                                                          \n",
      "0.003998680794787871                                                           \n",
      "HOLDOUT SCORE                                                                  \n",
      "0.9590028650952181                                                             \n",
      "SCORE:                                                                         \n",
      "0.95304266                                                                     \n",
      "ERROR                                                                          \n",
      "0.003878085823364242                                                           \n",
      "HOLDOUT SCORE                                                                  \n",
      "0.9603559896307649                                                             \n",
      "SCORE:                                                                         \n",
      "0.95278828                                                                     \n",
      "ERROR                                                                          \n",
      "0.0034148601489235207                                                          \n",
      "HOLDOUT SCORE                                                                  \n",
      "0.9617168218907416                                                             \n",
      "SCORE:                                                                         \n",
      "0.9532876199999999                                                             \n",
      "ERROR                                                                          \n",
      "0.003839928285352367                                                           \n",
      "HOLDOUT SCORE                                                                  \n",
      "0.960385647613898                                                              \n",
      "SCORE:                                                                         \n",
      "0.95337612                                                                     \n",
      "ERROR                                                                          \n",
      "0.0038508811385442043                                                          \n",
      "HOLDOUT SCORE                                                                  \n",
      "0.960557312041694                                                              \n",
      "SCORE:                                                                         \n",
      "0.9522949799999999                                                             \n",
      "ERROR                                                                          \n",
      "0.0037988729122710187                                                          \n",
      "HOLDOUT SCORE                                                                  \n",
      "0.9591571033634331                                                             \n",
      "SCORE:                                                                         \n",
      "0.9398777599999999                                                             \n",
      "ERROR                                                                          \n",
      "0.004301121105168899                                                           \n",
      "HOLDOUT SCORE                                                                  \n",
      "0.9571980008843777                                                             \n",
      "SCORE:                                                                         \n",
      "0.9095954                                                                      \n",
      "ERROR                                                                          \n",
      "0.004583780303640247                                                           \n",
      "HOLDOUT SCORE                                                                  \n",
      "0.9225328453785239                                                             \n",
      "SCORE:                                                                         \n",
      "0.95275058                                                                     \n",
      "ERROR                                                                          \n",
      "0.003895530668315892                                                           \n",
      "HOLDOUT SCORE                                                                  \n",
      "0.9607521834223938                                                             \n",
      "SCORE:                                                                         \n",
      "0.95177158                                                                     \n",
      "ERROR                                                                          \n",
      "0.003984274446253933                                                           \n",
      "HOLDOUT SCORE                                                                  \n",
      "0.9584712834483824                                                             \n",
      "SCORE:                                                                         \n",
      "0.95115164                                                                     \n",
      "ERROR                                                                          \n",
      "0.0038806858779538273                                                          \n",
      "HOLDOUT SCORE                                                                  \n",
      "0.9577738181670729                                                             \n",
      "SCORE:                                                                         \n",
      "0.9537720399999999                                                             \n",
      "ERROR                                                                          \n",
      "0.003789054562581333                                                           \n",
      "HOLDOUT SCORE                                                                  \n",
      "0.9610162567637375                                                             \n",
      "100%|██████████| 50/50 [00:28<00:00,  1.61it/s, best loss: 0.03787332824064993]\n",
      "Optimization Time: %f seconds 28.79691982269287\n",
      "CPU times: user 28.3 s, sys: 758 ms, total: 29.1 s\n",
      "Wall time: 28.8 s\n"
     ]
    }
   ],
   "source": [
    "%%time\n",
    "trials = Trials()\n",
    "import time\n",
    "start = time.time()\n",
    "best = fmin(fn=objective, space = space, algo = tpe.suggest, max_evals = 50, trials = trials)\n",
    "end = time.time()\n",
    "print(\"Optimization Time: %f seconds\", (end  -start))"
   ]
  },
  {
   "cell_type": "code",
   "execution_count": 12,
   "metadata": {},
   "outputs": [
    {
     "data": {
      "text/plain": [
       "{'x_learning_rate': 0.13462893070879323,\n",
       " 'x_max_depth': 5,\n",
       " 'x_min_child': 7.0,\n",
       " 'x_pos_weight': 1.7882251914936251,\n",
       " 'x_subsample': 0.8618715501643678,\n",
       " 'x_tree_colsample': 0.8109018115662547}"
      ]
     },
     "execution_count": 12,
     "metadata": {},
     "output_type": "execute_result"
    }
   ],
   "source": [
    "best"
   ]
  },
  {
   "cell_type": "code",
   "execution_count": 13,
   "metadata": {},
   "outputs": [
    {
     "name": "stdout",
     "output_type": "stream",
     "text": [
      "[0]\ttrain-auc:0.955186+0.000902587\ttest-auc:0.952986+0.00431592\n",
      "[1]\ttrain-auc:0.955887+0.000913554\ttest-auc:0.953134+0.00414382\n",
      "[2]\ttrain-auc:0.956423+0.000825621\ttest-auc:0.953599+0.00409808\n",
      "[3]\ttrain-auc:0.956753+0.000737714\ttest-auc:0.953942+0.00414473\n",
      "[4]\ttrain-auc:0.957095+0.000781053\ttest-auc:0.954224+0.00406495\n",
      "[5]\ttrain-auc:0.957583+0.000943951\ttest-auc:0.954712+0.00378776\n",
      "[6]\ttrain-auc:0.957836+0.000731885\ttest-auc:0.954729+0.00394691\n",
      "[7]\ttrain-auc:0.958098+0.000874411\ttest-auc:0.954975+0.00386426\n",
      "[8]\ttrain-auc:0.958126+0.000859872\ttest-auc:0.95498+0.00384626\n",
      "[9]\ttrain-auc:0.958266+0.00090571\ttest-auc:0.954941+0.00391385\n",
      "   train-auc-mean  train-auc-std  test-auc-mean  test-auc-std\n",
      "0        0.955186       0.000903       0.952986      0.004316\n",
      "1        0.955887       0.000914       0.953134      0.004144\n",
      "2        0.956423       0.000826       0.953599      0.004098\n",
      "3        0.956753       0.000738       0.953942      0.004145\n",
      "4        0.957095       0.000781       0.954224      0.004065\n",
      "5        0.957583       0.000944       0.954712      0.003788\n",
      "6        0.957836       0.000732       0.954729      0.003947\n",
      "7        0.958098       0.000874       0.954975      0.003864\n",
      "8        0.958126       0.000860       0.954980      0.003846\n",
      "9        0.958266       0.000906       0.954941      0.003914\n",
      "0.9297948376796445\n"
     ]
    },
    {
     "name": "stderr",
     "output_type": "stream",
     "text": [
      "/home/dtamayo/miniconda3/envs/ml/lib/python3.7/site-packages/xgboost/core.py:587: FutureWarning: Series.base is deprecated and will be removed in a future version\n",
      "  if getattr(data, 'base', None) is not None and \\\n",
      "/home/dtamayo/miniconda3/envs/ml/lib/python3.7/site-packages/xgboost/core.py:588: FutureWarning: Series.base is deprecated and will be removed in a future version\n",
      "  data.base is not None and isinstance(data, np.ndarray) \\\n"
     ]
    }
   ],
   "source": [
    "best_xgbc = XGBClassifier(n_estimators=100, scale_pos_weight=best[\"x_pos_weight\"],\n",
    "                         learning_rate = best[\"x_learning_rate\"], \n",
    "                         max_depth = int(best[\"x_max_depth\"]), \n",
    "                         min_child_weight = best[\"x_min_child\"],\n",
    "                         subsample = best[\"x_subsample\"], \n",
    "                         colsample_bytree = best[\"x_tree_colsample\"])\n",
    "params = best_xgbc.get_xgb_params()\n",
    "score = xgb.cv(params, dtrain, nfold = 5, metrics = \"auc\", verbose_eval=True)\n",
    "print(score)\n",
    "d_Train = xgb.DMatrix(trainX, trainY)\n",
    "d_Test = xgb.DMatrix(testX)\n",
    "bst = xgb.train(params, d_Train)\n",
    "preds = bst.predict(d_Test)\n",
    "score = metrics.average_precision_score(testY, preds)\n",
    "print(score)"
   ]
  },
  {
   "cell_type": "code",
   "execution_count": 14,
   "metadata": {},
   "outputs": [
    {
     "data": {
      "text/plain": [
       "XGBClassifier(base_score=0.5, booster='gbtree', colsample_bylevel=1,\n",
       "              colsample_bytree=0.8109018115662547, gamma=0,\n",
       "              learning_rate=0.13462893070879323, max_delta_step=0, max_depth=5,\n",
       "              min_child_weight=7.0, missing=None, n_estimators=100, n_jobs=1,\n",
       "              nthread=None, objective='binary:logistic', random_state=0,\n",
       "              reg_alpha=0, reg_lambda=1, scale_pos_weight=1.7882251914936251,\n",
       "              seed=None, silent=True, subsample=0.8618715501643678)"
      ]
     },
     "execution_count": 14,
     "metadata": {},
     "output_type": "execute_result"
    }
   ],
   "source": [
    "model = XGBClassifier(n_estimators=100, scale_pos_weight=best[\"x_pos_weight\"],\n",
    "                         learning_rate = best[\"x_learning_rate\"], \n",
    "                         max_depth = int(best[\"x_max_depth\"]), \n",
    "                         min_child_weight = best[\"x_min_child\"],\n",
    "                         subsample = best[\"x_subsample\"], \n",
    "                         colsample_bytree = best[\"x_tree_colsample\"])\n",
    "\n",
    "model.fit(trainX, trainY)"
   ]
  },
  {
   "cell_type": "code",
   "execution_count": 15,
   "metadata": {},
   "outputs": [
    {
     "data": {
      "text/plain": [
       "Text(0.5, 1.0, 'ROC curve (AUC = 0.962)')"
      ]
     },
     "execution_count": 15,
     "metadata": {},
     "output_type": "execute_result"
    },
    {
     "data": {
      "image/png": "[encoded data removed]",
      "text/plain": [
       "<Figure size 432x288 with 1 Axes>"
      ]
     },
     "metadata": {
      "needs_background": "light"
     },
     "output_type": "display_data"
    }
   ],
   "source": [
    "roc_auc, fpr, tpr, ROCthresholds = ROC_curve(trainingdatafolder, model, features)\n",
    "\n",
    "fig, ax = plt.subplots()\n",
    "ax.plot(fpr, tpr)\n",
    "ax.plot([0, 1], [0, 1], 'k--')\n",
    "ax.set_xlim([0.0, 1.0])\n",
    "ax.set_ylim([0.0, 1.0])\n",
    "ax.set_xlabel('False Positive Rate')\n",
    "ax.set_ylabel('True Positive Rate')\n",
    "ax.set_title('ROC curve (AUC = {0:.3f})'.format(roc_auc))"
   ]
  },
  {
   "cell_type": "code",
   "execution_count": 16,
   "metadata": {},
   "outputs": [
    {
     "name": "stdout",
     "output_type": "stream",
     "text": [
      "Threshold 0.006097455509006977, recall = 1.0, precision = 0.3938\n",
      "Threshold 0.02513366937637329, recall = 0.9949212798374809, precision = 0.5881116781747223\n",
      "Threshold 0.031938277184963226, recall = 0.9933976637887253, precision = 0.6193793540215327\n",
      "Threshold 0.039417002350091934, recall = 0.9928897917724734, precision = 0.6462809917355372\n",
      "Threshold 0.058503974229097366, recall = 0.9923819197562215, precision = 0.6616999661361328\n",
      "Threshold 0.08436315506696701, recall = 0.9908583037074657, precision = 0.6812150837988827\n",
      "Threshold 0.10027322918176651, recall = 0.9867953275774505, precision = 0.7001801801801801\n",
      "Threshold 0.11562831699848175, recall = 0.983748095479939, precision = 0.7144964957580229\n",
      "Threshold 0.13599535822868347, recall = 0.9807008633824277, precision = 0.7297808012093726\n",
      "Threshold 0.15750257670879364, recall = 0.97866937531742, precision = 0.7411538461538462\n",
      "Threshold 0.18258869647979736, recall = 0.9771457592686643, precision = 0.7521501172791243\n",
      "Threshold 0.21760223805904388, recall = 0.9766378872524124, precision = 0.7667464114832536\n",
      "Threshold 0.2677629590034485, recall = 0.973590655154901, precision = 0.7805374592833876\n",
      "Threshold 0.3245089650154114, recall = 0.9690198070086338, precision = 0.7933471933471934\n",
      "Threshold 0.43303805589675903, recall = 0.9624174707973591, precision = 0.8026260059296908\n",
      "Threshold 0.4786677360534668, recall = 0.9542915185373286, precision = 0.8088678433060698\n",
      "Threshold 0.5431885719299316, recall = 0.9481970543423057, precision = 0.8163533012680367\n",
      "Threshold 0.5793918371200562, recall = 0.9400711020822753, precision = 0.8252340615247437\n",
      "Threshold 0.6011434197425842, recall = 0.925850685627222, precision = 0.8370064279155188\n",
      "Threshold 0.6405472159385681, recall = 0.9177247333671915, precision = 0.844392523364486\n",
      "Threshold 0.6589162945747375, recall = 0.9040121889283901, precision = 0.8516746411483254\n",
      "Threshold 0.6838697195053101, recall = 0.8928390045708482, precision = 0.860078277886497\n",
      "Threshold 0.7226725220680237, recall = 0.8735398679532758, precision = 0.8678102926337034\n",
      "Threshold 0.7514868974685669, recall = 0.8501777552056882, precision = 0.8792016806722689\n",
      "Threshold 0.7786129713058472, recall = 0.8329101066531234, precision = 0.8898534997287032\n",
      "Threshold 0.8059138059616089, recall = 0.8014220416455053, precision = 0.8996579247434435\n",
      "Threshold 0.8229792714118958, recall = 0.7750126968004063, precision = 0.9056379821958457\n",
      "Threshold 0.8565869927406311, recall = 0.739461655662773, precision = 0.9157232704402516\n",
      "Threshold 0.8714908957481384, recall = 0.718638902996445, precision = 0.9248366013071896\n",
      "Threshold 0.8850238919258118, recall = 0.681056373793804, precision = 0.9299583911234397\n",
      "Threshold 0.9039444327354431, recall = 0.6389029964448959, precision = 0.9374068554396423\n",
      "Threshold 0.927975058555603, recall = 0.5810055865921788, precision = 0.942339373970346\n",
      "Threshold 0.944464385509491, recall = 0.5022854240731336, precision = 0.9564796905222437\n",
      "Threshold 0.961870014667511, recall = 0.37887252412392075, precision = 0.9726205997392438\n",
      "Threshold 0.9748400449752808, recall = 0.18943626206196038, precision = 0.9764397905759162\n"
     ]
    }
   ],
   "source": [
    "pr_auc, precision, recall, PRthresholds = PR_curve(trainingdatafolder, model, features)\n",
    "for i in range(0,len(recall), 15):\n",
    "    print(\"Threshold {0}, recall = {1}, precision = {2}\".format(PRthresholds[i], recall[i], precision[i]))"
   ]
  },
  {
   "cell_type": "code",
   "execution_count": 17,
   "metadata": {},
   "outputs": [
    {
     "data": {
      "image/png": "[encoded data removed]",
      "text/plain": [
       "<Figure size 432x288 with 1 Axes>"
      ]
     },
     "metadata": {
      "needs_background": "light"
     },
     "output_type": "display_data"
    }
   ],
   "source": [
    "fig, ax = plt.subplots()\n",
    "ax.plot(recall, precision)\n",
    "ax.set_xlim([0.0, 1.0])\n",
    "ax.set_ylim([0.0, 1.0])\n",
    "ax.set_xlabel('Recall')\n",
    "ax.set_ylabel('Precision')\n",
    "ax.set_title(\"AUC Score (Test): {0:.4f}\".format(pr_auc))\n",
    "plt.show()"
   ]
  },
  {
   "cell_type": "code",
   "execution_count": 19,
   "metadata": {},
   "outputs": [
    {
     "data": {
      "text/plain": [
       "(0, 819.5000000000001)"
      ]
     },
     "execution_count": 19,
     "metadata": {},
     "output_type": "execute_result"
    },
    {
     "data": {
      "image/png": "[encoded data removed]",
      "text/plain": [
       "<Figure size 432x288 with 2 Axes>"
      ]
     },
     "metadata": {
      "needs_background": "light"
     },
     "output_type": "display_data"
    }
   ],
   "source": [
    "# Histogram:\n",
    "bins = 50\n",
    "Stable, Unstable = stable_unstable_hist(trainingdatafolder, model, features)\n",
    "\n",
    "fig, ax1 = plt.subplots()\n",
    "n, bins, pathces = ax1.hist(Unstable, bins, alpha=0.5, label='No', color='blue', edgecolor = \"black\")\n",
    "ax1.set_xlabel('Predicted Probability', fontsize=14)\n",
    "ax1.set_ylabel('Unstable',  fontsize=14, color='blue')\n",
    "for tl in ax1.get_yticklabels():\n",
    "    tl.set_color('blue')\n",
    "    \n",
    "\n",
    "\n",
    "ax2 = ax1.twinx()\n",
    "n, bins , patches = ax2.hist(Stable, bins, alpha=0.5, label='Yes',color='green', edgecolor = \"black\")\n",
    "#print(n.astype(int))\n",
    "ax2.set_ylabel('Stable', fontsize=14, color='green')\n",
    "for tl in ax2.get_yticklabels():\n",
    "    tl.set_color('green')\n",
    "    \n",
    "    \n",
    "#ax1.set_ylim(ax2.get_ylim())\n",
    "ax1.set_ylim([0,1.1*n[-1]]) # goes up to ~4300\n",
    "ax2.set_ylim([0,1.1*n[-1]]) # goes up to ~2100"
   ]
  },
  {
   "cell_type": "code",
   "execution_count": 20,
   "metadata": {},
   "outputs": [
    {
     "data": {
      "text/plain": [
       "Text(0, 0.5, 'Fraction actually stable')"
      ]
     },
     "execution_count": 20,
     "metadata": {},
     "output_type": "execute_result"
    },
    {
     "data": {
      "image/png": "[encoded data removed]",
      "text/plain": [
       "<Figure size 576x432 with 1 Axes>"
      ]
     },
     "metadata": {
      "needs_background": "light"
     },
     "output_type": "display_data"
    }
   ],
   "source": [
    "bincenters, fracstable, errorbars = calibration_plot(trainingdatafolder, model, features, bins=10)\n",
    "fig, ax = plt.subplots(figsize=(8,6))\n",
    "ax.plot(np.linspace(0,1,100), np.linspace(0,1,100), '--')\n",
    "ax.errorbar(bincenters, fracstable, errorbars)\n",
    "ax.set_xlim([0,1])\n",
    "ax.set_ylim([0,1])\n",
    "ax.set_xlabel('Predicted Probability of Stability')\n",
    "ax.set_ylabel('Fraction actually stable')"
   ]
  },
  {
   "cell_type": "code",
   "execution_count": 21,
   "metadata": {},
   "outputs": [
    {
     "name": "stderr",
     "output_type": "stream",
     "text": [
      "../modelfitting.py:99: RuntimeWarning: divide by zero encountered in true_divide\n",
      "  errorbars.append(np.sqrt(1./Nerrors + 1./hist[i])*errorfracs[-1]) # see calibration plot comment\n",
      "../modelfitting.py:99: RuntimeWarning: invalid value encountered in double_scalars\n",
      "  errorbars.append(np.sqrt(1./Nerrors + 1./hist[i])*errorfracs[-1]) # see calibration plot comment\n"
     ]
    },
    {
     "data": {
      "text/plain": [
       "Text(0.5, 1.0, 'Fraction of unstable systems mislabeled as stable')"
      ]
     },
     "execution_count": 21,
     "metadata": {},
     "output_type": "execute_result"
    },
    {
     "data": {
      "image/png": "[encoded data removed]",
      "text/plain": [
       "<Figure size 576x432 with 1 Axes>"
      ]
     },
     "metadata": {
      "needs_background": "light"
     },
     "output_type": "display_data"
    }
   ],
   "source": [
    "bincenters, errorfracs, errorbars = unstable_error_fraction(trainingdatafolder, model, features, bins=10)\n",
    "fig, ax = plt.subplots(figsize=(8,6))\n",
    "ax.errorbar(bincenters, errorfracs, errorbars)\n",
    "ax.set_ylim([0,1])\n",
    "ax.set_xlabel('Log Instability Time')\n",
    "ax.set_ylabel('Error Fraction')\n",
    "ax.set_title('Fraction of unstable systems mislabeled as stable')"
   ]
  },
  {
   "cell_type": "code",
   "execution_count": 22,
   "metadata": {},
   "outputs": [
    {
     "data": {
      "image/png": "[encoded data removed]",
      "text/plain": [
       "<Figure size 864x576 with 1 Axes>"
      ]
     },
     "metadata": {
      "needs_background": "light"
     },
     "output_type": "display_data"
    }
   ],
   "source": [
    "# feature importances\n",
    "feat_imp = pd.Series(model.get_booster().get_fscore()).sort_values(ascending=False)\n",
    "feat_imp.plot(kind='bar', title='Feature Importances', figsize=(12,8))\n",
    "plt.ylabel('Feature Importance Score')\n",
    "plt.show()"
   ]
  },
  {
   "cell_type": "code",
   "execution_count": 23,
   "metadata": {},
   "outputs": [],
   "source": [
    "dill.dump([model, features, featurefolder], open(datapath+\"../models/megnoxgb_random.pkl\", \"wb\"))"
   ]
  },
  {
   "cell_type": "markdown",
   "metadata": {},
   "source": [
    "# Test how many nonchaotic systems were unstable"
   ]
  },
  {
   "cell_type": "code",
   "execution_count": 8,
   "metadata": {},
   "outputs": [],
   "source": [
    "model, features, featurefolder = dill.load(open(datapath+\"../models/megnoxgb_random.pkl\", \"rb\")) "
   ]
  },
  {
   "cell_type": "code",
   "execution_count": 18,
   "metadata": {},
   "outputs": [],
   "source": [
    "trainingdatafolder = datapath+dset+featurefolder\n",
    "trainX, trainY, testX, testY = train_test_split(trainingdatafolder, features, labelname='instability_time')"
   ]
  },
  {
   "cell_type": "code",
   "execution_count": 19,
   "metadata": {},
   "outputs": [
    {
     "data": {
      "text/plain": [
       "1507"
      ]
     },
     "execution_count": 19,
     "metadata": {},
     "output_type": "execute_result"
    }
   ],
   "source": [
    "(testY < 1e4).sum()"
   ]
  },
  {
   "cell_type": "code",
   "execution_count": 20,
   "metadata": {},
   "outputs": [
    {
     "data": {
      "text/plain": [
       "0.3014"
      ]
     },
     "execution_count": 20,
     "metadata": {},
     "output_type": "execute_result"
    }
   ],
   "source": [
    "(testY < 1e4).sum()/testY.shape[0]"
   ]
  },
  {
   "cell_type": "code",
   "execution_count": 21,
   "metadata": {},
   "outputs": [],
   "source": [
    "longterm = testY > 1e4"
   ]
  },
  {
   "cell_type": "code",
   "execution_count": 22,
   "metadata": {},
   "outputs": [
    {
     "data": {
      "text/plain": [
       "3493"
      ]
     },
     "execution_count": 22,
     "metadata": {},
     "output_type": "execute_result"
    }
   ],
   "source": [
    "longterm.sum()"
   ]
  },
  {
   "cell_type": "code",
   "execution_count": 35,
   "metadata": {},
   "outputs": [],
   "source": [
    "chaotic = (testX['megno'] > 2.5) & longterm\n",
    "nonchaotic = (~chaotic) & longterm & ~testX['megno'].isnull()"
   ]
  },
  {
   "cell_type": "code",
   "execution_count": 36,
   "metadata": {},
   "outputs": [
    {
     "data": {
      "text/plain": [
       "1033"
      ]
     },
     "execution_count": 36,
     "metadata": {},
     "output_type": "execute_result"
    }
   ],
   "source": [
    "chaotic.sum()"
   ]
  },
  {
   "cell_type": "code",
   "execution_count": 37,
   "metadata": {},
   "outputs": [
    {
     "data": {
      "text/plain": [
       "2373"
      ]
     },
     "execution_count": 37,
     "metadata": {},
     "output_type": "execute_result"
    }
   ],
   "source": [
    "nonchaotic.sum()"
   ]
  },
  {
   "cell_type": "code",
   "execution_count": 38,
   "metadata": {},
   "outputs": [],
   "source": [
    "trainingdatafolder = datapath+dset+featurefolder\n",
    "trainX, trainY, testX, testY = train_test_split(trainingdatafolder, features)"
   ]
  },
  {
   "cell_type": "code",
   "execution_count": 39,
   "metadata": {},
   "outputs": [],
   "source": [
    "stable = testY\n",
    "unstable = ~testY"
   ]
  },
  {
   "cell_type": "markdown",
   "metadata": {},
   "source": [
    "# Out of the nonchaotic systems living > 1e4, 20% were unstable"
   ]
  },
  {
   "cell_type": "code",
   "execution_count": 40,
   "metadata": {},
   "outputs": [
    {
     "data": {
      "text/plain": [
       "0.19848293299620734"
      ]
     },
     "execution_count": 40,
     "metadata": {},
     "output_type": "execute_result"
    }
   ],
   "source": [
    "unstable[nonchaotic].sum()/nonchaotic.sum()"
   ]
  },
  {
   "cell_type": "markdown",
   "metadata": {},
   "source": [
    "# Out of the chaotic systems living > 1e4, 6% were stable"
   ]
  },
  {
   "cell_type": "code",
   "execution_count": 41,
   "metadata": {},
   "outputs": [
    {
     "data": {
      "text/plain": [
       "0.060019361084220714"
      ]
     },
     "execution_count": 41,
     "metadata": {},
     "output_type": "execute_result"
    }
   ],
   "source": [
    "stable[chaotic].sum()/chaotic.sum()"
   ]
  },
  {
   "cell_type": "code",
   "execution_count": 16,
   "metadata": {},
   "outputs": [
    {
     "data": {
      "text/plain": [
       "<matplotlib.axes._subplots.AxesSubplot at 0x7f140af60cc0>"
      ]
     },
     "execution_count": 16,
     "metadata": {},
     "output_type": "execute_result"
    },
    {
     "data": {
      "image/png": "[encoded data removed]",
      "text/plain": [
       "<Figure size 432x288 with 1 Axes>"
      ]
     },
     "metadata": {
      "needs_background": "light"
     },
     "output_type": "display_data"
    }
   ],
   "source": [
    "testX[nonchaotic]['megno'].hist()"
   ]
  },
  {
   "cell_type": "code",
   "execution_count": null,
   "metadata": {},
   "outputs": [],
   "source": []
  }
 ],
 "metadata": {
  "anaconda-cloud": {},
  "kernelspec": {
   "display_name": "Python 3",
   "language": "python",
   "name": "python3"
  },
  "language_info": {
   "codemirror_mode": {
    "name": "ipython",
    "version": 3
   },
   "file_extension": ".py",
   "mimetype": "text/x-python",
   "name": "python",
   "nbconvert_exporter": "python",
   "pygments_lexer": "ipython3",
   "version": "3.7.3"
  }
 },
 "nbformat": 4,
 "nbformat_minor": 2
}
