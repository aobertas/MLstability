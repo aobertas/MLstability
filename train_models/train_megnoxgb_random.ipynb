{
 "cells": [
  {
   "cell_type": "code",
   "execution_count": 1,
   "metadata": {},
   "outputs": [],
   "source": [
    "import numpy as np\n",
    "import sklearn\n",
    "import matplotlib.pyplot as plt\n",
    "%matplotlib inline\n",
    "import pandas as pd\n",
    "from sklearn import metrics\n",
    "from sklearn.model_selection import cross_val_score\n",
    "from matplotlib import rc\n",
    "from matplotlib import cm\n",
    "from mpl_toolkits.mplot3d import axes3d\n",
    "from matplotlib.ticker import MaxNLocator\n",
    "import scipy.signal\n",
    "import xgboost as xgb\n",
    "from xgboost.sklearn import XGBClassifier\n",
    "from hyperopt import hp, fmin, tpe, STATUS_OK, Trials\n",
    "import dill\n",
    "import sys\n",
    "sys.path.append('../')\n",
    "from modelfitting import train_test_split, ROC_curve, PR_curve, stable_unstable_hist, calibration_plot, unstable_error_fraction"
   ]
  },
  {
   "cell_type": "code",
   "execution_count": 2,
   "metadata": {},
   "outputs": [],
   "source": [
    "datapath = '/mnt/ssd/workspace/stability/MLstability/training_data/'\n",
    "dset = 'random/'\n",
    "featurefolder = 'ressummaryfeaturesxgbNorbits10000.0Nout1000/'\n",
    "features = ['megno']"
   ]
  },
  {
   "cell_type": "code",
   "execution_count": 3,
   "metadata": {
    "scrolled": true
   },
   "outputs": [],
   "source": [
    "trainingdatafolder = datapath+dset+featurefolder\n",
    "trainX, trainY, testX, testY = train_test_split(trainingdatafolder, features)"
   ]
  },
  {
   "cell_type": "markdown",
   "metadata": {},
   "source": [
    "# Fraction not chaotic over 1e4 orbits"
   ]
  },
  {
   "cell_type": "code",
   "execution_count": 7,
   "metadata": {},
   "outputs": [
    {
     "data": {
      "text/plain": [
       "0.6908145580589254"
      ]
     },
     "execution_count": 7,
     "metadata": {},
     "output_type": "execute_result"
    }
   ],
   "source": [
    "(testX['megno']<2.5).sum()/testX['megno'].shape[0]"
   ]
  },
  {
   "cell_type": "markdown",
   "metadata": {},
   "source": [
    "# Fraction not chaotic over 1e4 orbits that were stable"
   ]
  },
  {
   "cell_type": "code",
   "execution_count": 8,
   "metadata": {},
   "outputs": [
    {
     "data": {
      "text/plain": [
       "0.5500866551126516"
      ]
     },
     "execution_count": 8,
     "metadata": {},
     "output_type": "execute_result"
    }
   ],
   "source": [
    "regular = testX['megno'] < 2.5\n",
    "testY[regular].sum()/testY.shape[0]"
   ]
  },
  {
   "cell_type": "markdown",
   "metadata": {},
   "source": [
    "# Fraction chaotic over 1e4 orbits that were stable"
   ]
  },
  {
   "cell_type": "code",
   "execution_count": 10,
   "metadata": {},
   "outputs": [
    {
     "data": {
      "text/plain": [
       "0.015944540727902946"
      ]
     },
     "execution_count": 10,
     "metadata": {},
     "output_type": "execute_result"
    }
   ],
   "source": [
    "chaotic = testX['megno'] > 2.5\n",
    "testY[chaotic].sum()/testY.shape[0]"
   ]
  },
  {
   "cell_type": "code",
   "execution_count": null,
   "metadata": {},
   "outputs": [],
   "source": []
  },
  {
   "cell_type": "code",
   "execution_count": 4,
   "metadata": {},
   "outputs": [
    {
     "name": "stderr",
     "output_type": "stream",
     "text": [
      "/home/dtamayo/miniconda3/envs/p3/lib/python3.7/site-packages/xgboost/core.py:587: FutureWarning: Series.base is deprecated and will be removed in a future version\n",
      "  if getattr(data, 'base', None) is not None and \\\n",
      "/home/dtamayo/miniconda3/envs/p3/lib/python3.7/site-packages/xgboost/core.py:588: FutureWarning: Series.base is deprecated and will be removed in a future version\n",
      "  data.base is not None and isinstance(data, np.ndarray) \\\n"
     ]
    }
   ],
   "source": [
    "space ={\n",
    "        'max_depth': hp.randint('x_max_depth',  20),\n",
    "        'min_child_weight': hp.quniform ('x_min_child', 1, 10, 1),\n",
    "        'subsample': hp.uniform ('x_subsample', 0.8, 1),\n",
    "        'scale_pos_weight': hp.uniform(\"x_pos_weight\", 1, 15),\n",
    "        \"learning_rate\":hp.uniform(\"x_learning_rate\",0.01,0.2),\n",
    "        'colsample_bytree': hp.uniform ('x_tree_colsample', 0.5,1),\n",
    "}\n",
    "\n",
    "dtrain = xgb.DMatrix(trainX, trainY)\n",
    "dtest = xgb.DMatrix(testX, testY)\n",
    "def objective(space):\n",
    "\n",
    "    clf = XGBClassifier(n_estimators = 100, \n",
    "                            max_depth = space['max_depth'], \n",
    "                            min_child_weight =space['min_child_weight'],\n",
    "                            subsample = space['subsample'],\n",
    "                            colsample_bytree =space['colsample_bytree'],\n",
    "                            learning_rate = space['learning_rate'], seed = 0)\n",
    "    \n",
    "    params = clf.get_xgb_params()\n",
    "    #dtest\n",
    "    score = xgb.cv(params, dtrain, nfold = 5, metrics = \"auc\", early_stopping_rounds=10)\n",
    "    #print score\n",
    "    #score = cross_val_score(clf, trainX, trainY, cv = 5, scoring=\"average_precision\")\n",
    "    avg_score =  np.mean(score[\"test-auc-mean\"])\n",
    "    error = np.mean(score[\"test-auc-std\"])\n",
    "    \n",
    "    bst = xgb.train(params, dtrain)\n",
    "    preds = bst.predict(dtest)\n",
    "    test_score = metrics.roc_auc_score(testY, preds)\n",
    "    \n",
    "    print(\"SCORE:\", avg_score, \"ERROR\", error, \"HOLDOUT SCORE\", test_score)\n",
    "\n",
    "    return{'loss':1-test_score, 'status': STATUS_OK, \"cv_score\":avg_score , \"cv_error\":error, \"holdout\":test_score }"
   ]
  },
  {
   "cell_type": "code",
   "execution_count": 5,
   "metadata": {
    "scrolled": true
   },
   "outputs": [
    {
     "name": "stdout",
     "output_type": "stream",
     "text": [
      "SCORE:                                              \n",
      "0.9058166                                           \n",
      "ERROR                                               \n",
      "0.010491271860645354                                \n",
      "HOLDOUT SCORE                                       \n",
      "0.9211287659279752                                  \n",
      "SCORE:                                                                        \n",
      "0.8984302600000001                                                            \n",
      "ERROR                                                                         \n",
      "0.009742971470076531                                                          \n",
      "HOLDOUT SCORE                                                                 \n",
      "0.9153068501298107                                                            \n",
      "SCORE:                                                                        \n",
      "0.90353598                                                                    \n",
      "ERROR                                                                         \n",
      "0.009840276660802533                                                          \n",
      "HOLDOUT SCORE                                                                 \n",
      "0.9179089329699549                                                            \n",
      "SCORE:                                                                        \n",
      "0.90361604                                                                    \n",
      "ERROR                                                                         \n",
      "0.0098631135376561                                                            \n",
      "HOLDOUT SCORE                                                                 \n",
      "0.9179267856059821                                                            \n",
      "SCORE:                                                                        \n",
      "0.9013375                                                                     \n",
      "ERROR                                                                         \n",
      "0.00945443688936528                                                           \n",
      "HOLDOUT SCORE                                                                 \n",
      "0.9141031422595861                                                            \n",
      "SCORE:                                                                        \n",
      "0.90438146                                                                    \n",
      "ERROR                                                                         \n",
      "0.01000970786758693                                                           \n",
      "HOLDOUT SCORE                                                                 \n",
      "0.9190974783273891                                                            \n",
      "SCORE:                                                                        \n",
      "0.90183562                                                                    \n",
      "ERROR                                                                         \n",
      "0.009351348910848545                                                          \n",
      "HOLDOUT SCORE                                                                 \n",
      "0.9157883821892321                                                            \n",
      "SCORE:                                                                        \n",
      "0.5                                                                           \n",
      "ERROR                                                                         \n",
      "0.0                                                                           \n",
      "HOLDOUT SCORE                                                                 \n",
      "0.5                                                                           \n",
      "SCORE:                                                                        \n",
      "0.9046392399999998                                                            \n",
      "ERROR                                                                         \n",
      "0.009824979796620368                                                          \n",
      "HOLDOUT SCORE                                                                 \n",
      "0.9205017226570982                                                            \n",
      "SCORE:                                                                        \n",
      "0.9035220799999999                                                            \n",
      "ERROR                                                                         \n",
      "0.009433401814318532                                                          \n",
      "HOLDOUT SCORE                                                                 \n",
      "0.9187602346961334                                                            \n",
      "SCORE:                                                                         \n",
      "0.8405416200000001                                                             \n",
      "ERROR                                                                          \n",
      "0.0071067486964854                                                             \n",
      "HOLDOUT SCORE                                                                  \n",
      "0.8696449428617825                                                             \n",
      "SCORE:                                                                         \n",
      "0.9041008399999999                                                             \n",
      "ERROR                                                                          \n",
      "0.009923253105632284                                                           \n",
      "HOLDOUT SCORE                                                                  \n",
      "0.9198917983522751                                                             \n",
      "SCORE:                                                                         \n",
      "0.9055256999999999                                                             \n",
      "ERROR                                                                          \n",
      "0.010191536903119996                                                           \n",
      "HOLDOUT SCORE                                                                  \n",
      "0.9219993876301286                                                             \n",
      "SCORE:                                                                         \n",
      "0.9044137200000002                                                             \n",
      "ERROR                                                                          \n",
      "0.00963971663446119                                                            \n",
      "HOLDOUT SCORE                                                                  \n",
      "0.9193464370051397                                                             \n",
      "SCORE:                                                                         \n",
      "0.90372432                                                                     \n",
      "ERROR                                                                          \n",
      "0.009687079026493798                                                           \n",
      "HOLDOUT SCORE                                                                  \n",
      "0.9195804777267578                                                             \n",
      "SCORE:                                                                         \n",
      "0.9003169200000001                                                             \n",
      "ERROR                                                                          \n",
      "0.009871016647292351                                                           \n",
      "HOLDOUT SCORE                                                                  \n",
      "0.9139828203838953                                                             \n",
      "SCORE:                                                                         \n",
      "0.5                                                                            \n",
      "ERROR                                                                          \n",
      "0.0                                                                            \n",
      "HOLDOUT SCORE                                                                  \n",
      "0.5                                                                            \n",
      "SCORE:                                                                         \n",
      "0.90485858                                                                     \n",
      "ERROR                                                                          \n",
      "0.010043563898175374                                                           \n",
      "HOLDOUT SCORE                                                                  \n",
      "0.9216812194181899                                                             \n",
      "SCORE:                                                                         \n",
      "0.5                                                                            \n",
      "ERROR                                                                          \n",
      "0.0                                                                            \n",
      "HOLDOUT SCORE                                                                  \n",
      "0.5                                                                            \n",
      "SCORE:                                                                         \n",
      "0.8872002999999999                                                             \n",
      "ERROR                                                                          \n",
      "0.010541489814207945                                                           \n",
      "HOLDOUT SCORE                                                                  \n",
      "0.9157362916210976                                                             \n",
      "SCORE:                                                                         \n",
      "0.9052691599999999                                                             \n",
      "ERROR                                                                          \n",
      "0.009850805679433257                                                           \n",
      "HOLDOUT SCORE                                                                  \n",
      "0.9213187864511698                                                             \n",
      "SCORE:                                                                         \n",
      "0.90424946                                                                     \n",
      "ERROR                                                                          \n",
      "0.009715484042965326                                                           \n",
      "HOLDOUT SCORE                                                                  \n",
      "0.9205447646288902                                                             \n",
      "SCORE:                                                                         \n",
      "0.9022929999999999                                                             \n",
      "ERROR                                                                          \n",
      "0.009196485580207985                                                           \n",
      "HOLDOUT SCORE                                                                  \n",
      "0.9170221705283793                                                             \n",
      "SCORE:                                                                         \n",
      "0.9025950399999999                                                             \n",
      "ERROR                                                                          \n",
      "0.00955132484409742                                                            \n",
      "HOLDOUT SCORE                                                                  \n",
      "0.9173303119173437                                                             \n",
      "SCORE:                                                                         \n",
      "0.9018675199999999                                                             \n",
      "ERROR                                                                          \n",
      "0.009612108784148577                                                           \n",
      "HOLDOUT SCORE                                                                  \n",
      "0.9160948116815911                                                             \n",
      "SCORE:                                                                         \n",
      "0.90414756                                                                     \n",
      "ERROR                                                                          \n",
      "0.009737518268703777                                                           \n",
      "HOLDOUT SCORE                                                                  \n",
      "0.9193283398124544                                                             \n",
      "SCORE:                                                                         \n",
      "0.90034992                                                                     \n",
      "ERROR                                                                          \n",
      "0.009554646517067037                                                           \n",
      "HOLDOUT SCORE                                                                  \n",
      "0.9150652281517972                                                             \n",
      "SCORE:                                                                         \n",
      "0.9038236800000001                                                             \n",
      "ERROR                                                                          \n",
      "0.01001184289693213                                                            \n",
      "HOLDOUT SCORE                                                                  \n",
      "0.9201167904775507                                                             \n",
      "SCORE:                                                                         \n",
      "0.9054494                                                                      \n",
      "ERROR                                                                          \n",
      "0.010051656847049239                                                           \n",
      "HOLDOUT SCORE                                                                  \n",
      "0.9215161436741018                                                             \n",
      "SCORE:                                                                         \n",
      "0.9055168200000001                                                             \n",
      "ERROR                                                                          \n",
      "0.009751144819790959                                                           \n",
      "HOLDOUT SCORE                                                                  \n",
      "0.9208548624711179                                                             \n",
      "SCORE:                                                                         \n",
      "0.90444568                                                                     \n",
      "ERROR                                                                          \n",
      "0.00976755574532768                                                            \n",
      "HOLDOUT SCORE                                                                  \n",
      "0.9214151417743857                                                             \n",
      "SCORE:                                                                         \n",
      "0.8989374                                                                      \n",
      "ERROR                                                                          \n",
      "0.009836866894906555                                                           \n",
      "HOLDOUT SCORE                                                                  \n",
      "0.9156729514466992                                                             \n",
      "SCORE:                                                                         \n",
      "0.9032806599999998                                                             \n",
      "ERROR                                                                          \n",
      "0.009661776414817028                                                           \n",
      "HOLDOUT SCORE                                                                  \n",
      "0.9198526692870097                                                             \n",
      "SCORE:                                                                         \n",
      "0.90265612                                                                     \n",
      "ERROR                                                                          \n",
      "0.009389082791806275                                                           \n",
      "HOLDOUT SCORE                                                                  \n",
      "0.9174261781272439                                                             \n",
      "SCORE:                                                                         \n",
      "0.90316934                                                                     \n",
      "ERROR                                                                          \n"
     ]
    },
    {
     "name": "stdout",
     "output_type": "stream",
     "text": [
      "0.009365301338772553                                                           \n",
      "HOLDOUT SCORE                                                                  \n",
      "0.917625491803439                                                              \n",
      "SCORE:                                                                         \n",
      "0.9042448200000001                                                             \n",
      "ERROR                                                                          \n",
      "0.009693724639401593                                                           \n",
      "HOLDOUT SCORE                                                                  \n",
      "0.9205337595792843                                                             \n",
      "SCORE:                                                                         \n",
      "0.9032971599999999                                                             \n",
      "ERROR                                                                          \n",
      "0.009427850621429392                                                           \n",
      "HOLDOUT SCORE                                                                  \n",
      "0.9186103214648357                                                             \n",
      "SCORE:                                                                         \n",
      "0.90020542                                                                     \n",
      "ERROR                                                                          \n",
      "0.009716366062354362                                                           \n",
      "HOLDOUT SCORE                                                                  \n",
      "0.9146404332370107                                                             \n",
      "SCORE:                                                                         \n",
      "0.9039732399999998                                                             \n",
      "ERROR                                                                          \n",
      "0.0098469766487735                                                             \n",
      "HOLDOUT SCORE                                                                  \n",
      "0.9202796652117174                                                             \n",
      "SCORE:                                                                         \n",
      "0.9024148399999999                                                             \n",
      "ERROR                                                                          \n",
      "0.00960521633265347                                                            \n",
      "HOLDOUT SCORE                                                                  \n",
      "0.9182647629072113                                                             \n",
      "SCORE:                                                                         \n",
      "0.84022996                                                                     \n",
      "ERROR                                                                          \n",
      "0.006729600754192202                                                           \n",
      "HOLDOUT SCORE                                                                  \n",
      "0.8705649650088334                                                             \n",
      "SCORE:                                                                         \n",
      "0.8985327999999999                                                             \n",
      "ERROR                                                                          \n",
      "0.009769039627851866                                                           \n",
      "HOLDOUT SCORE                                                                  \n",
      "0.911365330474303                                                              \n",
      "SCORE:                                                                         \n",
      "0.90375748                                                                     \n",
      "ERROR                                                                          \n",
      "0.009684222451399703                                                           \n",
      "HOLDOUT SCORE                                                                  \n",
      "0.919772210146558                                                              \n",
      "SCORE:                                                                         \n",
      "0.90572184                                                                     \n",
      "ERROR                                                                          \n",
      "0.00988464207198474                                                            \n",
      "HOLDOUT SCORE                                                                  \n",
      "0.9217276851831925                                                             \n",
      "SCORE:                                                                         \n",
      "0.90541848                                                                     \n",
      "ERROR                                                                          \n",
      "0.0097839357823311                                                             \n",
      "HOLDOUT SCORE                                                                  \n",
      "0.9218741746212795                                                             \n",
      "SCORE:                                                                         \n",
      "0.90485328                                                                     \n",
      "ERROR                                                                          \n",
      "0.010024886785168323                                                           \n",
      "HOLDOUT SCORE                                                                  \n",
      "0.9212072686151636                                                             \n",
      "SCORE:                                                                         \n",
      "0.88178924                                                                     \n",
      "ERROR                                                                          \n",
      "0.009870747988602397                                                           \n",
      "HOLDOUT SCORE                                                                  \n",
      "0.9138583410450198                                                             \n",
      "SCORE:                                                                         \n",
      "0.9044222599999999                                                             \n",
      "ERROR                                                                          \n",
      "0.010100315694302146                                                           \n",
      "HOLDOUT SCORE                                                                  \n",
      "0.9197069135188964                                                             \n",
      "SCORE:                                                                         \n",
      "0.90523946                                                                     \n",
      "ERROR                                                                          \n",
      "0.009901655674169629                                                           \n",
      "HOLDOUT SCORE                                                                  \n",
      "0.9213190310078279                                                             \n",
      "SCORE:                                                                         \n",
      "0.9017242599999999                                                             \n",
      "ERROR                                                                          \n",
      "0.009561605349047153                                                           \n",
      "HOLDOUT SCORE                                                                  \n",
      "0.916393415360897                                                              \n",
      "100%|██████████| 50/50 [00:18<00:00,  2.71it/s, best loss: 0.07800061236987144]\n",
      "Optimization Time: %f seconds 18.883168697357178\n",
      "CPU times: user 18.4 s, sys: 823 ms, total: 19.3 s\n",
      "Wall time: 18.9 s\n"
     ]
    }
   ],
   "source": [
    "%%time\n",
    "trials = Trials()\n",
    "import time\n",
    "start = time.time()\n",
    "best = fmin(fn=objective, space = space, algo = tpe.suggest, max_evals = 50, trials = trials)\n",
    "end = time.time()\n",
    "print(\"Optimization Time: %f seconds\", (end  -start))"
   ]
  },
  {
   "cell_type": "code",
   "execution_count": 7,
   "metadata": {},
   "outputs": [
    {
     "data": {
      "text/plain": [
       "{'x_learning_rate': 0.1331413549121525,\n",
       " 'x_max_depth': 5,\n",
       " 'x_min_child': 1.0,\n",
       " 'x_pos_weight': 3.6003211626633753,\n",
       " 'x_subsample': 0.9141729386179559,\n",
       " 'x_tree_colsample': 0.5801416810771934}"
      ]
     },
     "execution_count": 7,
     "metadata": {},
     "output_type": "execute_result"
    }
   ],
   "source": [
    "best"
   ]
  },
  {
   "cell_type": "code",
   "execution_count": 8,
   "metadata": {},
   "outputs": [
    {
     "name": "stdout",
     "output_type": "stream",
     "text": [
      "[0]\ttrain-auc:0.906084+0.00335344\ttest-auc:0.900225+0.0101204\n",
      "[1]\ttrain-auc:0.9077+0.00362617\ttest-auc:0.901016+0.0103774\n",
      "[2]\ttrain-auc:0.909327+0.00263831\ttest-auc:0.903247+0.0105024\n",
      "[3]\ttrain-auc:0.910548+0.00312172\ttest-auc:0.903513+0.0106735\n",
      "[4]\ttrain-auc:0.911138+0.00282604\ttest-auc:0.903472+0.0104685\n",
      "[5]\ttrain-auc:0.911335+0.00289699\ttest-auc:0.903529+0.0105862\n",
      "[6]\ttrain-auc:0.912208+0.00268104\ttest-auc:0.904387+0.0108742\n",
      "[7]\ttrain-auc:0.912516+0.00251288\ttest-auc:0.904545+0.0109374\n",
      "[8]\ttrain-auc:0.913221+0.00270888\ttest-auc:0.905269+0.0105721\n",
      "[9]\ttrain-auc:0.913808+0.00250702\ttest-auc:0.905297+0.010754\n",
      "   train-auc-mean  train-auc-std  test-auc-mean  test-auc-std\n",
      "0        0.906084       0.003353       0.900225      0.010120\n",
      "1        0.907700       0.003626       0.901016      0.010377\n",
      "2        0.909327       0.002638       0.903247      0.010502\n",
      "3        0.910548       0.003122       0.903513      0.010673\n",
      "4        0.911138       0.002826       0.903472      0.010469\n",
      "5        0.911335       0.002897       0.903529      0.010586\n",
      "6        0.912208       0.002681       0.904387      0.010874\n",
      "7        0.912516       0.002513       0.904545      0.010937\n",
      "8        0.913221       0.002709       0.905269      0.010572\n",
      "9        0.913808       0.002507       0.905297      0.010754\n",
      "0.9210606416915689\n"
     ]
    },
    {
     "name": "stderr",
     "output_type": "stream",
     "text": [
      "/home/dtamayo/miniconda3/envs/p3/lib/python3.7/site-packages/xgboost/core.py:587: FutureWarning: Series.base is deprecated and will be removed in a future version\n",
      "  if getattr(data, 'base', None) is not None and \\\n",
      "/home/dtamayo/miniconda3/envs/p3/lib/python3.7/site-packages/xgboost/core.py:588: FutureWarning: Series.base is deprecated and will be removed in a future version\n",
      "  data.base is not None and isinstance(data, np.ndarray) \\\n"
     ]
    }
   ],
   "source": [
    "best_xgbc = XGBClassifier(n_estimators=100, scale_pos_weight=best[\"x_pos_weight\"],\n",
    "                         learning_rate = best[\"x_learning_rate\"], \n",
    "                         max_depth = int(best[\"x_max_depth\"]), \n",
    "                         min_child_weight = best[\"x_min_child\"],\n",
    "                         subsample = best[\"x_subsample\"], \n",
    "                         colsample_bytree = best[\"x_tree_colsample\"])\n",
    "params = best_xgbc.get_xgb_params()\n",
    "score = xgb.cv(params, dtrain, nfold = 5, metrics = \"auc\", verbose_eval=True)\n",
    "print(score)\n",
    "d_Train = xgb.DMatrix(trainX, trainY)\n",
    "d_Test = xgb.DMatrix(testX)\n",
    "bst = xgb.train(params, d_Train)\n",
    "preds = bst.predict(d_Test)\n",
    "score = metrics.average_precision_score(testY, preds)\n",
    "print(score)"
   ]
  },
  {
   "cell_type": "code",
   "execution_count": 9,
   "metadata": {},
   "outputs": [
    {
     "data": {
      "text/plain": [
       "XGBClassifier(base_score=0.5, booster='gbtree', colsample_bylevel=1,\n",
       "       colsample_bytree=0.5801416810771934, gamma=0,\n",
       "       learning_rate=0.1331413549121525, max_delta_step=0, max_depth=5,\n",
       "       min_child_weight=1.0, missing=None, n_estimators=100, n_jobs=1,\n",
       "       nthread=None, objective='binary:logistic', random_state=0,\n",
       "       reg_alpha=0, reg_lambda=1, scale_pos_weight=3.6003211626633753,\n",
       "       seed=None, silent=True, subsample=0.9141729386179559)"
      ]
     },
     "execution_count": 9,
     "metadata": {},
     "output_type": "execute_result"
    }
   ],
   "source": [
    "model = XGBClassifier(n_estimators=100, scale_pos_weight=best[\"x_pos_weight\"],\n",
    "                         learning_rate = best[\"x_learning_rate\"], \n",
    "                         max_depth = int(best[\"x_max_depth\"]), \n",
    "                         min_child_weight = best[\"x_min_child\"],\n",
    "                         subsample = best[\"x_subsample\"], \n",
    "                         colsample_bytree = best[\"x_tree_colsample\"])\n",
    "\n",
    "model.fit(trainX, trainY)"
   ]
  },
  {
   "cell_type": "code",
   "execution_count": 10,
   "metadata": {},
   "outputs": [
    {
     "data": {
      "text/plain": [
       "Text(0.5, 1.0, 'ROC curve (AUC = 0.920)')"
      ]
     },
     "execution_count": 10,
     "metadata": {},
     "output_type": "execute_result"
    },
    {
     "data": {
      "image/png": "[encoded data removed]",
      "text/plain": [
       "<Figure size 432x288 with 1 Axes>"
      ]
     },
     "metadata": {
      "needs_background": "light"
     },
     "output_type": "display_data"
    }
   ],
   "source": [
    "roc_auc, fpr, tpr, ROCthresholds = ROC_curve(trainingdatafolder, model, features)\n",
    "\n",
    "fig, ax = plt.subplots()\n",
    "ax.plot(fpr, tpr)\n",
    "ax.plot([0, 1], [0, 1], 'k--')\n",
    "ax.set_xlim([0.0, 1.0])\n",
    "ax.set_ylim([0.0, 1.0])\n",
    "ax.set_xlabel('False Positive Rate')\n",
    "ax.set_ylabel('True Positive Rate')\n",
    "ax.set_title('ROC curve (AUC = {0:.3f})'.format(roc_auc))"
   ]
  },
  {
   "cell_type": "code",
   "execution_count": 11,
   "metadata": {},
   "outputs": [
    {
     "name": "stdout",
     "output_type": "stream",
     "text": [
      "Threshold 0.025752047076821327, recall = 1.0, precision = 0.5660311958405546\n",
      "Threshold 0.059671636670827866, recall = 0.9975505205143906, precision = 0.6085169966380276\n",
      "Threshold 0.07589183747768402, recall = 0.9951010410287814, precision = 0.6296009298721426\n",
      "Threshold 0.1013232097029686, recall = 0.994488671157379, precision = 0.6485623003194888\n",
      "Threshold 0.11906891316175461, recall = 0.9914268218003675, precision = 0.6687319289549772\n",
      "Threshold 0.14438396692276, recall = 0.9902020820575628, precision = 0.6842996191282268\n",
      "Threshold 0.1768466830253601, recall = 0.9902020820575628, precision = 0.6930990141448778\n",
      "Threshold 0.21675440669059753, recall = 0.9865278628291488, precision = 0.712516585581601\n",
      "Threshold 0.2534058094024658, recall = 0.9834660134721371, precision = 0.728344671201814\n",
      "Threshold 0.28818225860595703, recall = 0.9810165339865279, precision = 0.7413234613604812\n",
      "Threshold 0.31972700357437134, recall = 0.9797917942437232, precision = 0.7525870178739417\n",
      "Threshold 0.37082573771476746, recall = 0.9761175750153093, precision = 0.7663461538461539\n",
      "Threshold 0.4227259159088135, recall = 0.9730557256582976, precision = 0.7777777777777778\n",
      "Threshold 0.46869418025016785, recall = 0.9706062461726883, precision = 0.7866004962779156\n",
      "Threshold 0.5311408638954163, recall = 0.968156766687079, precision = 0.7984848484848485\n",
      "Threshold 0.5990419983863831, recall = 0.9632578077158603, precision = 0.8050153531218014\n",
      "Threshold 0.6631244421005249, recall = 0.9565217391304348, precision = 0.8110072689511942\n",
      "Threshold 0.689946711063385, recall = 0.9461114513165952, precision = 0.8174603174603174\n",
      "Threshold 0.7296068668365479, recall = 0.9369259032455604, precision = 0.8252427184466019\n",
      "Threshold 0.7569037079811096, recall = 0.9252908756889161, precision = 0.8325068870523415\n",
      "Threshold 0.781002938747406, recall = 0.9179424372320881, precision = 0.8397759103641457\n",
      "Threshold 0.7983065247535706, recall = 0.9014084507042254, precision = 0.8435530085959886\n",
      "Threshold 0.813340425491333, recall = 0.893447642375995, precision = 0.8492433061699651\n",
      "Threshold 0.8243283629417419, recall = 0.8799755052051439, precision = 0.8579104477611941\n",
      "Threshold 0.8464698791503906, recall = 0.8628291488058788, precision = 0.8644171779141104\n",
      "Threshold 0.8594176173210144, recall = 0.840783833435395, precision = 0.8734096692111959\n",
      "Threshold 0.8677031397819519, recall = 0.8169014084507042, precision = 0.8846153846153846\n",
      "Threshold 0.8803643584251404, recall = 0.7875076546233926, precision = 0.8961672473867596\n",
      "Threshold 0.896337628364563, recall = 0.7581139007960809, precision = 0.907624633431085\n",
      "Threshold 0.90876305103302, recall = 0.7305572565829761, precision = 0.9148773006134969\n",
      "Threshold 0.918982744216919, recall = 0.6999387630128597, precision = 0.9217741935483871\n",
      "Threshold 0.9287352561950684, recall = 0.676056338028169, precision = 0.9253981559094719\n",
      "Threshold 0.9366369843482971, recall = 0.6497244335578689, precision = 0.9274475524475524\n",
      "Threshold 0.9499276876449585, recall = 0.6295162278015921, precision = 0.9336966394187103\n",
      "Threshold 0.9571284651756287, recall = 0.6007348438456828, precision = 0.9378585086042065\n",
      "Threshold 0.9663001298904419, recall = 0.541334966319657, precision = 0.9434364994663821\n",
      "Threshold 0.9736419320106506, recall = 0.49050826699326394, precision = 0.9456906729634003\n",
      "Threshold 0.977123498916626, recall = 0.34782608695652173, precision = 0.9546218487394958\n",
      "Threshold 0.9847279787063599, recall = 0.25719534598897736, precision = 0.9502262443438914\n",
      "Threshold 0.9882851839065552, recall = 0.01653398652786283, precision = 0.9310344827586207\n"
     ]
    }
   ],
   "source": [
    "pr_auc, precision, recall, PRthresholds = PR_curve(trainingdatafolder, model, features)\n",
    "for i in range(0,len(recall), 15):\n",
    "    print(\"Threshold {0}, recall = {1}, precision = {2}\".format(PRthresholds[i], recall[i], precision[i]))"
   ]
  },
  {
   "cell_type": "code",
   "execution_count": 12,
   "metadata": {},
   "outputs": [
    {
     "data": {
      "image/png": "[encoded data removed]",
      "text/plain": [
       "<Figure size 432x288 with 1 Axes>"
      ]
     },
     "metadata": {
      "needs_background": "light"
     },
     "output_type": "display_data"
    }
   ],
   "source": [
    "fig, ax = plt.subplots()\n",
    "ax.plot(recall, precision)\n",
    "ax.set_xlim([0.0, 1.0])\n",
    "ax.set_ylim([0.0, 1.0])\n",
    "ax.set_xlabel('Recall')\n",
    "ax.set_ylabel('Precision')\n",
    "ax.set_title(\"AUC Score (Test): {0:.4f}\".format(pr_auc))\n",
    "plt.show()"
   ]
  },
  {
   "cell_type": "code",
   "execution_count": 19,
   "metadata": {},
   "outputs": [
    {
     "data": {
      "text/plain": [
       "(1252,)"
      ]
     },
     "execution_count": 19,
     "metadata": {},
     "output_type": "execute_result"
    }
   ],
   "source": [
    "Unstable.shape"
   ]
  },
  {
   "cell_type": "code",
   "execution_count": 20,
   "metadata": {},
   "outputs": [
    {
     "data": {
      "text/plain": [
       "(1633,)"
      ]
     },
     "execution_count": 20,
     "metadata": {},
     "output_type": "execute_result"
    }
   ],
   "source": [
    "Stable.shape"
   ]
  },
  {
   "cell_type": "code",
   "execution_count": 23,
   "metadata": {},
   "outputs": [
    {
     "data": {
      "text/plain": [
       "(0, 933.9000000000001)"
      ]
     },
     "execution_count": 23,
     "metadata": {},
     "output_type": "execute_result"
    },
    {
     "data": {
      "image/png": "[encoded data removed]",
      "text/plain": [
       "<Figure size 432x288 with 2 Axes>"
      ]
     },
     "metadata": {
      "needs_background": "light"
     },
     "output_type": "display_data"
    }
   ],
   "source": [
    "# Histogram:\n",
    "bins = 50\n",
    "Stable, Unstable = stable_unstable_hist(trainingdatafolder, model, features)\n",
    "\n",
    "fig, ax1 = plt.subplots()\n",
    "n, bins, pathces = ax1.hist(Unstable, bins, alpha=0.5, label='No', color='blue', edgecolor = \"black\")\n",
    "ax1.set_xlabel('Predicted Probability', fontsize=14)\n",
    "ax1.set_ylabel('Unstable',  fontsize=14, color='blue')\n",
    "for tl in ax1.get_yticklabels():\n",
    "    tl.set_color('blue')\n",
    "    \n",
    "\n",
    "\n",
    "ax2 = ax1.twinx()\n",
    "n, bins , patches = ax2.hist(Stable, bins, alpha=0.5, label='Yes',color='green', edgecolor = \"black\")\n",
    "#print(n.astype(int))\n",
    "ax2.set_ylabel('Stable', fontsize=14, color='green')\n",
    "for tl in ax2.get_yticklabels():\n",
    "    tl.set_color('green')\n",
    "    \n",
    "    \n",
    "#ax1.set_ylim(ax2.get_ylim())\n",
    "ax1.set_ylim([0,1.1*n[-1]]) # goes up to ~4300\n",
    "ax2.set_ylim([0,1.1*n[-1]]) # goes up to ~2100"
   ]
  },
  {
   "cell_type": "code",
   "execution_count": 24,
   "metadata": {},
   "outputs": [
    {
     "data": {
      "text/plain": [
       "Text(0, 0.5, 'Fraction actually stable')"
      ]
     },
     "execution_count": 24,
     "metadata": {},
     "output_type": "execute_result"
    },
    {
     "data": {
      "image/png": "[encoded data removed]",
      "text/plain": [
       "<Figure size 576x432 with 1 Axes>"
      ]
     },
     "metadata": {
      "needs_background": "light"
     },
     "output_type": "display_data"
    }
   ],
   "source": [
    "bincenters, fracstable, errorbars = calibration_plot(trainingdatafolder, model, features, bins=10)\n",
    "fig, ax = plt.subplots(figsize=(8,6))\n",
    "ax.plot(np.linspace(0,1,100), np.linspace(0,1,100), '--')\n",
    "ax.errorbar(bincenters, fracstable, errorbars)\n",
    "ax.set_xlim([0,1])\n",
    "ax.set_ylim([0,1])\n",
    "ax.set_xlabel('Predicted Probability of Stability')\n",
    "ax.set_ylabel('Fraction actually stable')"
   ]
  },
  {
   "cell_type": "code",
   "execution_count": 25,
   "metadata": {},
   "outputs": [
    {
     "data": {
      "text/plain": [
       "Text(0.5, 1.0, 'Fraction of unstable systems mislabeled as stable')"
      ]
     },
     "execution_count": 25,
     "metadata": {},
     "output_type": "execute_result"
    },
    {
     "data": {
      "image/png": "[encoded data removed]",
      "text/plain": [
       "<Figure size 576x432 with 1 Axes>"
      ]
     },
     "metadata": {
      "needs_background": "light"
     },
     "output_type": "display_data"
    }
   ],
   "source": [
    "bincenters, errorfracs, errorbars = unstable_error_fraction(trainingdatafolder, model, features, bins=10)\n",
    "fig, ax = plt.subplots(figsize=(8,6))\n",
    "ax.errorbar(bincenters, errorfracs, errorbars)\n",
    "ax.set_ylim([0,1])\n",
    "ax.set_xlabel('Log Instability Time')\n",
    "ax.set_ylabel('Error Fraction')\n",
    "ax.set_title('Fraction of unstable systems mislabeled as stable')"
   ]
  },
  {
   "cell_type": "code",
   "execution_count": 26,
   "metadata": {},
   "outputs": [
    {
     "data": {
      "image/png": "[encoded data removed]",
      "text/plain": [
       "<Figure size 864x576 with 1 Axes>"
      ]
     },
     "metadata": {
      "needs_background": "light"
     },
     "output_type": "display_data"
    }
   ],
   "source": [
    "# feature importances\n",
    "feat_imp = pd.Series(model.get_booster().get_fscore()).sort_values(ascending=False)\n",
    "feat_imp.plot(kind='bar', title='Feature Importances', figsize=(12,8))\n",
    "plt.ylabel('Feature Importance Score')\n",
    "plt.show()"
   ]
  },
  {
   "cell_type": "code",
   "execution_count": 27,
   "metadata": {},
   "outputs": [],
   "source": [
    "dill.dump([model, features, featurefolder], open(datapath+\"../models/megnoxgb_random.pkl\", \"wb\"))"
   ]
  },
  {
   "cell_type": "code",
   "execution_count": null,
   "metadata": {},
   "outputs": [],
   "source": []
  }
 ],
 "metadata": {
  "anaconda-cloud": {},
  "kernelspec": {
   "display_name": "Python 3",
   "language": "python",
   "name": "python3"
  },
  "language_info": {
   "codemirror_mode": {
    "name": "ipython",
    "version": 3
   },
   "file_extension": ".py",
   "mimetype": "text/x-python",
   "name": "python",
   "nbconvert_exporter": "python",
   "pygments_lexer": "ipython3",
   "version": "3.7.3"
  }
 },
 "nbformat": 4,
 "nbformat_minor": 2
}
