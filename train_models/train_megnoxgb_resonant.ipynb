{
 "cells": [
  {
   "cell_type": "code",
   "execution_count": 1,
   "metadata": {},
   "outputs": [],
   "source": [
    "import numpy as np\n",
    "import sklearn\n",
    "import matplotlib.pyplot as plt\n",
    "%matplotlib inline\n",
    "import pandas as pd\n",
    "from sklearn import metrics\n",
    "from sklearn.model_selection import cross_val_score\n",
    "from matplotlib import rc\n",
    "from matplotlib import cm\n",
    "from mpl_toolkits.mplot3d import axes3d\n",
    "from matplotlib.ticker import MaxNLocator\n",
    "import scipy.signal\n",
    "import xgboost as xgb\n",
    "from xgboost.sklearn import XGBClassifier\n",
    "from hyperopt import hp, fmin, tpe, STATUS_OK, Trials\n",
    "import dill\n",
    "import sys\n",
    "sys.path.append('../')\n",
    "from modelfitting import train_test_split, ROC_curve, PR_curve, stable_unstable_hist, calibration_plot, unstable_error_fraction"
   ]
  },
  {
   "cell_type": "code",
   "execution_count": 2,
   "metadata": {},
   "outputs": [],
   "source": [
    "datapath = '/mnt/ssd/workspace/stability/MLstability/training_data/'\n",
    "dset = 'resonant/'\n",
    "featurefolder = 'ressummaryfeaturesxgbNorbits10000.0Nout1000/'\n",
    "features = ['megno']"
   ]
  },
  {
   "cell_type": "code",
   "execution_count": 3,
   "metadata": {
    "scrolled": true
   },
   "outputs": [],
   "source": [
    "trainingdatafolder = datapath+dset+featurefolder\n",
    "trainX, trainY, testX, testY = train_test_split(trainingdatafolder, features)"
   ]
  },
  {
   "cell_type": "code",
   "execution_count": 5,
   "metadata": {},
   "outputs": [
    {
     "name": "stderr",
     "output_type": "stream",
     "text": [
      "/home/dtamayo/miniconda3/envs/p3/lib/python3.7/site-packages/xgboost/core.py:587: FutureWarning: Series.base is deprecated and will be removed in a future version\n",
      "  if getattr(data, 'base', None) is not None and \\\n",
      "/home/dtamayo/miniconda3/envs/p3/lib/python3.7/site-packages/xgboost/core.py:588: FutureWarning: Series.base is deprecated and will be removed in a future version\n",
      "  data.base is not None and isinstance(data, np.ndarray) \\\n"
     ]
    }
   ],
   "source": [
    "space ={\n",
    "        'max_depth': hp.randint('x_max_depth',  20),\n",
    "        'min_child_weight': hp.quniform ('x_min_child', 1, 10, 1),\n",
    "        'subsample': hp.uniform ('x_subsample', 0.8, 1),\n",
    "        'scale_pos_weight': hp.uniform(\"x_pos_weight\", 1, 15),\n",
    "        \"learning_rate\":hp.uniform(\"x_learning_rate\",0.01,0.2),\n",
    "        'colsample_bytree': hp.uniform ('x_tree_colsample', 0.5,1),\n",
    "}\n",
    "\n",
    "dtrain = xgb.DMatrix(trainX, trainY)\n",
    "dtest = xgb.DMatrix(testX, testY)\n",
    "def objective(space):\n",
    "\n",
    "    clf = XGBClassifier(n_estimators = 100, \n",
    "                            max_depth = space['max_depth'], \n",
    "                            min_child_weight =space['min_child_weight'],\n",
    "                            subsample = space['subsample'],\n",
    "                            colsample_bytree =space['colsample_bytree'],\n",
    "                            learning_rate = space['learning_rate'], seed = 0)\n",
    "    \n",
    "    params = clf.get_xgb_params()\n",
    "    #dtest\n",
    "    score = xgb.cv(params, dtrain, nfold = 5, metrics = \"auc\", early_stopping_rounds=10)\n",
    "    #print score\n",
    "    #score = cross_val_score(clf, trainX, trainY, cv = 5, scoring=\"average_precision\")\n",
    "    avg_score =  np.mean(score[\"test-auc-mean\"])\n",
    "    error = np.mean(score[\"test-auc-std\"])\n",
    "    \n",
    "    bst = xgb.train(params, dtrain)\n",
    "    preds = bst.predict(dtest)\n",
    "    test_score = metrics.roc_auc_score(testY, preds)\n",
    "    \n",
    "    print(\"SCORE:\", avg_score, \"ERROR\", error, \"HOLDOUT SCORE\", test_score)\n",
    "\n",
    "    return{'loss':1-test_score, 'status': STATUS_OK, \"cv_score\":avg_score , \"cv_error\":error, \"holdout\":test_score }"
   ]
  },
  {
   "cell_type": "code",
   "execution_count": 6,
   "metadata": {
    "scrolled": true
   },
   "outputs": [
    {
     "name": "stdout",
     "output_type": "stream",
     "text": [
      "SCORE:                                              \n",
      "0.83580498                                          \n",
      "ERROR                                               \n",
      "0.004386544170922062                                \n",
      "HOLDOUT SCORE                                       \n",
      "0.8328826867007827                                  \n",
      "SCORE:                                                                       \n",
      "0.8446566800000002                                                           \n",
      "ERROR                                                                        \n",
      "0.0031071702951212766                                                        \n",
      "HOLDOUT SCORE                                                                \n",
      "0.8425146283727927                                                           \n",
      "SCORE:                                                                        \n",
      "0.83595854                                                                    \n",
      "ERROR                                                                         \n",
      "0.004569822933726868                                                          \n",
      "HOLDOUT SCORE                                                                 \n",
      "0.8308814930416933                                                            \n",
      "SCORE:                                                                        \n",
      "0.8370304599999999                                                            \n",
      "ERROR                                                                         \n",
      "0.004373541214281641                                                          \n",
      "HOLDOUT SCORE                                                                 \n",
      "0.8344140787250431                                                            \n",
      "SCORE:                                                                        \n",
      "0.8324303000000001                                                            \n",
      "ERROR                                                                         \n",
      "0.007747880715420463                                                          \n",
      "HOLDOUT SCORE                                                                 \n",
      "0.8253114200107268                                                            \n",
      "SCORE:                                                                        \n",
      "0.82685644                                                                    \n",
      "ERROR                                                                         \n",
      "0.0068326519237771974                                                         \n",
      "HOLDOUT SCORE                                                                 \n",
      "0.8240199695939543                                                            \n",
      "SCORE:                                                                        \n",
      "0.8377521                                                                     \n",
      "ERROR                                                                         \n",
      "0.0038696629598948653                                                         \n",
      "HOLDOUT SCORE                                                                 \n",
      "0.8346106695379006                                                            \n",
      "SCORE:                                                                        \n",
      "0.83624416                                                                    \n",
      "ERROR                                                                         \n",
      "0.004171076534652986                                                          \n",
      "HOLDOUT SCORE                                                                 \n",
      "0.8345753840073877                                                            \n",
      "SCORE:                                                                        \n",
      "0.8366281000000001                                                            \n",
      "ERROR                                                                         \n",
      "0.00540366617422228                                                           \n",
      "HOLDOUT SCORE                                                                 \n",
      "0.829402525234195                                                             \n",
      "SCORE:                                                                        \n",
      "0.8398831                                                                     \n",
      "ERROR                                                                         \n",
      "0.004293939370580243                                                          \n",
      "HOLDOUT SCORE                                                                 \n",
      "0.8335107691439125                                                            \n",
      "SCORE:                                                                         \n",
      "0.8379749999999999                                                             \n",
      "ERROR                                                                          \n",
      "0.003526448163257809                                                           \n",
      "HOLDOUT SCORE                                                                  \n",
      "0.8332305012158386                                                             \n",
      "SCORE:                                                                         \n",
      "0.83533208                                                                     \n",
      "ERROR                                                                          \n",
      "0.005241465160524518                                                           \n",
      "HOLDOUT SCORE                                                                  \n",
      "0.8315226815390138                                                             \n",
      "SCORE:                                                                         \n",
      "0.83856772                                                                     \n",
      "ERROR                                                                          \n",
      "0.0034044107684077568                                                          \n",
      "HOLDOUT SCORE                                                                  \n",
      "0.8392431556152384                                                             \n",
      "SCORE:                                                                         \n",
      "0.83936934                                                                     \n",
      "ERROR                                                                          \n",
      "0.00344400550866931                                                            \n",
      "HOLDOUT SCORE                                                                  \n",
      "0.8424551470499281                                                             \n",
      "SCORE:                                                                         \n",
      "0.8346439800000001                                                             \n",
      "ERROR                                                                          \n",
      "0.005074703855408898                                                           \n",
      "HOLDOUT SCORE                                                                  \n",
      "0.829705980796606                                                              \n",
      "SCORE:                                                                         \n",
      "0.8335773000000002                                                             \n",
      "ERROR                                                                          \n",
      "0.00613967583815943                                                            \n",
      "HOLDOUT SCORE                                                                  \n",
      "0.8423855841469169                                                             \n",
      "SCORE:                                                                         \n",
      "0.8392936599999998                                                             \n",
      "ERROR                                                                          \n",
      "0.0027179658961029017                                                          \n",
      "HOLDOUT SCORE                                                                  \n",
      "0.8383348052440347                                                             \n",
      "SCORE:                                                                         \n",
      "0.83524788                                                                     \n",
      "ERROR                                                                          \n"
     ]
    },
    {
     "name": "stdout",
     "output_type": "stream",
     "text": [
      "0.004176767267413461                                                           \n",
      "HOLDOUT SCORE                                                                  \n",
      "0.8316174483923912                                                             \n",
      "SCORE:                                                                         \n",
      "0.8309205799999999                                                             \n",
      "ERROR                                                                          \n",
      "0.006165270752756342                                                           \n",
      "HOLDOUT SCORE                                                                  \n",
      "0.8380676433701512                                                             \n",
      "SCORE:                                                                         \n",
      "0.8268456399999999                                                             \n",
      "ERROR                                                                          \n",
      "0.0071810971436308685                                                          \n",
      "HOLDOUT SCORE                                                                  \n",
      "0.8162369897208209                                                             \n",
      "SCORE:                                                                         \n",
      "0.84323666                                                                     \n",
      "ERROR                                                                          \n",
      "0.0029232922111609985                                                          \n",
      "HOLDOUT SCORE                                                                  \n",
      "0.8422545236050119                                                             \n",
      "SCORE:                                                                         \n",
      "0.8369992199999998                                                             \n",
      "ERROR                                                                          \n",
      "0.0034476975375831525                                                          \n",
      "HOLDOUT SCORE                                                                  \n",
      "0.8375423930445163                                                             \n",
      "SCORE:                                                                         \n",
      "0.84404714                                                                     \n",
      "ERROR                                                                          \n",
      "0.003360954053814481                                                           \n",
      "HOLDOUT SCORE                                                                  \n",
      "0.8404932715534101                                                             \n",
      "SCORE:                                                                         \n",
      "0.5                                                                            \n",
      "ERROR                                                                          \n",
      "0.0                                                                            \n",
      "HOLDOUT SCORE                                                                  \n",
      "0.5                                                                            \n",
      "SCORE:                                                                         \n",
      "0.8379168199999999                                                             \n",
      "ERROR                                                                          \n",
      "0.002939326624930468                                                           \n",
      "HOLDOUT SCORE                                                                  \n",
      "0.8355280933312363                                                             \n",
      "SCORE:                                                                         \n",
      "0.83747332                                                                     \n",
      "ERROR                                                                          \n",
      "0.0032390603692901074                                                          \n",
      "HOLDOUT SCORE                                                                  \n",
      "0.8370947708860096                                                             \n",
      "SCORE:                                                                         \n",
      "0.8041103999999999                                                             \n",
      "ERROR                                                                          \n",
      "0.005864900746850801                                                           \n",
      "HOLDOUT SCORE                                                                  \n",
      "0.8141904289510722                                                             \n",
      "SCORE:                                                                         \n",
      "0.8386561                                                                      \n",
      "ERROR                                                                          \n",
      "0.003566506568059425                                                           \n",
      "HOLDOUT SCORE                                                                  \n",
      "0.8347457627118644                                                             \n",
      "SCORE:                                                                         \n",
      "0.8460133799999999                                                             \n",
      "ERROR                                                                          \n",
      "0.003234120136164239                                                           \n",
      "HOLDOUT SCORE                                                                  \n",
      "0.8417121345931275                                                             \n",
      "SCORE:                                                                         \n",
      "0.8444761                                                                      \n",
      "ERROR                                                                          \n",
      "0.0031551161093037183                                                          \n",
      "HOLDOUT SCORE                                                                  \n",
      "0.8425055549506607                                                             \n",
      "SCORE:                                                                         \n",
      "0.8453752399999999                                                             \n",
      "ERROR                                                                          \n",
      "0.003473389908450246                                                           \n",
      "HOLDOUT SCORE                                                                  \n",
      "0.8421355609592825                                                             \n",
      "SCORE:                                                                         \n",
      "0.84414186                                                                     \n",
      "ERROR                                                                          \n",
      "0.0030024062917353685                                                          \n",
      "HOLDOUT SCORE                                                                  \n",
      "0.8416133351076915                                                             \n",
      "SCORE:                                                                         \n",
      "0.8383546000000001                                                             \n",
      "ERROR                                                                          \n",
      "0.003940830968293512                                                           \n",
      "HOLDOUT SCORE                                                                  \n",
      "0.8366239610931658                                                             \n",
      "SCORE:                                                                         \n",
      "0.8445906400000001                                                             \n",
      "ERROR                                                                          \n",
      "0.0029054077375270685                                                          \n",
      "HOLDOUT SCORE                                                                  \n",
      "0.8409439181859608                                                             \n",
      "SCORE:                                                                         \n",
      "0.84300234                                                                     \n",
      "ERROR                                                                          \n"
     ]
    },
    {
     "name": "stdout",
     "output_type": "stream",
     "text": [
      "0.004016709744625875                                                           \n",
      "HOLDOUT SCORE                                                                  \n",
      "0.8415931719473984                                                             \n",
      "SCORE:                                                                         \n",
      "0.8369513399999999                                                             \n",
      "ERROR                                                                          \n",
      "0.0033822774836812382                                                          \n",
      "HOLDOUT SCORE                                                                  \n",
      "0.8325762066643279                                                             \n",
      "SCORE:                                                                         \n",
      "0.83142052                                                                     \n",
      "ERROR                                                                          \n",
      "0.006629072040131708                                                           \n",
      "HOLDOUT SCORE                                                                  \n",
      "0.8262338845941356                                                             \n",
      "SCORE:                                                                         \n",
      "0.83335866                                                                     \n",
      "ERROR                                                                          \n",
      "0.005912154318153806                                                           \n",
      "HOLDOUT SCORE                                                                  \n",
      "0.8264798751497114                                                             \n",
      "SCORE:                                                                         \n",
      "0.7983699400000001                                                             \n",
      "ERROR                                                                          \n",
      "0.005728702982325154                                                           \n",
      "HOLDOUT SCORE                                                                  \n",
      "0.8132568746295019                                                             \n",
      "SCORE:                                                                         \n",
      "0.84012034                                                                     \n",
      "ERROR                                                                          \n",
      "0.004584349061986603                                                           \n",
      "HOLDOUT SCORE                                                                  \n",
      "0.8401545304604863                                                             \n",
      "SCORE:                                                                         \n",
      "0.8387738                                                                      \n",
      "ERROR                                                                          \n",
      "0.0034263910646717584                                                          \n",
      "HOLDOUT SCORE                                                                  \n",
      "0.835549264649544                                                              \n",
      "SCORE:                                                                         \n",
      "0.8355693000000001                                                             \n",
      "ERROR                                                                          \n",
      "0.004513359004929715                                                           \n",
      "HOLDOUT SCORE                                                                  \n",
      "0.8300628687337939                                                             \n",
      "SCORE:                                                                         \n",
      "0.8388155200000001                                                             \n",
      "ERROR                                                                          \n",
      "0.003549501057304575                                                           \n",
      "HOLDOUT SCORE                                                                  \n",
      "0.8357690430967388                                                             \n",
      "SCORE:                                                                         \n",
      "0.8288168600000001                                                             \n",
      "ERROR                                                                          \n",
      "0.00804120292352149                                                            \n",
      "HOLDOUT SCORE                                                                  \n",
      "0.8245673993959117                                                             \n",
      "SCORE:                                                                         \n",
      "0.84220294                                                                     \n",
      "ERROR                                                                          \n",
      "0.0032583202829621766                                                          \n",
      "HOLDOUT SCORE                                                                  \n",
      "0.837709747274949                                                              \n",
      "SCORE:                                                                         \n",
      "0.84489138                                                                     \n",
      "ERROR                                                                          \n",
      "0.0031918735725792666                                                          \n",
      "HOLDOUT SCORE                                                                  \n",
      "0.8434219705859818                                                             \n",
      "SCORE:                                                                         \n",
      "0.8289357200000002                                                             \n",
      "ERROR                                                                          \n",
      "0.007490180671937371                                                           \n",
      "HOLDOUT SCORE                                                                  \n",
      "0.8243456046326878                                                             \n",
      "SCORE:                                                                         \n",
      "0.84439022                                                                     \n",
      "ERROR                                                                          \n",
      "0.0033110147120186026                                                          \n",
      "HOLDOUT SCORE                                                                  \n",
      "0.8439915798642615                                                             \n",
      "SCORE:                                                                         \n",
      "0.84473428                                                                     \n",
      "ERROR                                                                          \n",
      "0.003470070626506823                                                           \n",
      "HOLDOUT SCORE                                                                  \n",
      "0.8433110732043697                                                             \n",
      "SCORE:                                                                         \n",
      "0.8456918                                                                      \n",
      "ERROR                                                                          \n",
      "0.00317847251476623                                                            \n",
      "HOLDOUT SCORE                                                                  \n",
      "0.842527734426983                                                              \n",
      "100%|██████████| 50/50 [00:12<00:00,  4.21it/s, best loss: 0.15600842013573846]\n",
      "Optimization Time: %f seconds 12.831019878387451\n",
      "CPU times: user 12.4 s, sys: 841 ms, total: 13.2 s\n",
      "Wall time: 12.8 s\n"
     ]
    }
   ],
   "source": [
    "%%time\n",
    "trials = Trials()\n",
    "import time\n",
    "start = time.time()\n",
    "best = fmin(fn=objective, space = space, algo = tpe.suggest, max_evals = 50, trials = trials)\n",
    "end = time.time()\n",
    "print(\"Optimization Time: %f seconds\", (end  -start))"
   ]
  },
  {
   "cell_type": "code",
   "execution_count": 10,
   "metadata": {},
   "outputs": [
    {
     "data": {
      "text/plain": [
       "{'x_learning_rate': 0.13612752208327664,\n",
       " 'x_max_depth': 5,\n",
       " 'x_min_child': 5.0,\n",
       " 'x_pos_weight': 14.779641842871772,\n",
       " 'x_subsample': 0.9992758653657869,\n",
       " 'x_tree_colsample': 0.5299621363286435}"
      ]
     },
     "execution_count": 10,
     "metadata": {},
     "output_type": "execute_result"
    }
   ],
   "source": [
    "best"
   ]
  },
  {
   "cell_type": "code",
   "execution_count": 11,
   "metadata": {},
   "outputs": [
    {
     "name": "stdout",
     "output_type": "stream",
     "text": [
      "[0]\ttrain-auc:0.852115+0.00200798\ttest-auc:0.837339+0.00562316\n",
      "[1]\ttrain-auc:0.854802+0.00219212\ttest-auc:0.840464+0.00450449\n",
      "[2]\ttrain-auc:0.856154+0.00141779\ttest-auc:0.842309+0.00410506\n",
      "[3]\ttrain-auc:0.856847+0.00112519\ttest-auc:0.84323+0.00379745\n",
      "[4]\ttrain-auc:0.857489+0.000949095\ttest-auc:0.843643+0.00462961\n",
      "[5]\ttrain-auc:0.858136+0.00079367\ttest-auc:0.844354+0.00470763\n",
      "[6]\ttrain-auc:0.859031+0.001187\ttest-auc:0.845221+0.00446678\n",
      "[7]\ttrain-auc:0.859981+0.00119573\ttest-auc:0.846197+0.00356505\n",
      "[8]\ttrain-auc:0.861951+0.000457878\ttest-auc:0.846731+0.00283288\n",
      "[9]\ttrain-auc:0.862363+0.000369093\ttest-auc:0.846873+0.00294862\n",
      "   train-auc-mean  train-auc-std  test-auc-mean  test-auc-std\n",
      "0        0.852115       0.002008       0.837339      0.005623\n",
      "1        0.854802       0.002192       0.840464      0.004504\n",
      "2        0.856154       0.001418       0.842309      0.004105\n",
      "3        0.856847       0.001125       0.843230      0.003797\n",
      "4        0.857489       0.000949       0.843643      0.004630\n",
      "5        0.858136       0.000794       0.844354      0.004708\n",
      "6        0.859031       0.001187       0.845221      0.004467\n",
      "7        0.859981       0.001196       0.846197      0.003565\n",
      "8        0.861951       0.000458       0.846731      0.002833\n",
      "9        0.862363       0.000369       0.846873      0.002949\n",
      "0.6159856061324596\n"
     ]
    }
   ],
   "source": [
    "best_xgbc = XGBClassifier(n_estimators=100, scale_pos_weight=best[\"x_pos_weight\"],\n",
    "                         learning_rate = best[\"x_learning_rate\"], \n",
    "                         max_depth = int(best[\"x_max_depth\"]), \n",
    "                         min_child_weight = best[\"x_min_child\"],\n",
    "                         subsample = best[\"x_subsample\"], \n",
    "                         colsample_bytree = best[\"x_tree_colsample\"])\n",
    "params = best_xgbc.get_xgb_params()\n",
    "score = xgb.cv(params, dtrain, nfold = 5, metrics = \"auc\", verbose_eval=True)\n",
    "print(score)\n",
    "d_Train = xgb.DMatrix(trainX, trainY)\n",
    "d_Test = xgb.DMatrix(testX)\n",
    "bst = xgb.train(params, d_Train)\n",
    "preds = bst.predict(d_Test)\n",
    "score = metrics.average_precision_score(testY, preds)\n",
    "print(score)"
   ]
  },
  {
   "cell_type": "code",
   "execution_count": 12,
   "metadata": {},
   "outputs": [
    {
     "data": {
      "text/plain": [
       "XGBClassifier(base_score=0.5, booster='gbtree', colsample_bylevel=1,\n",
       "       colsample_bytree=0.5299621363286435, gamma=0,\n",
       "       learning_rate=0.13612752208327664, max_delta_step=0, max_depth=5,\n",
       "       min_child_weight=5.0, missing=None, n_estimators=100, n_jobs=1,\n",
       "       nthread=None, objective='binary:logistic', random_state=0,\n",
       "       reg_alpha=0, reg_lambda=1, scale_pos_weight=14.779641842871772,\n",
       "       seed=None, silent=True, subsample=0.9992758653657869)"
      ]
     },
     "execution_count": 12,
     "metadata": {},
     "output_type": "execute_result"
    }
   ],
   "source": [
    "model = XGBClassifier(n_estimators=100, scale_pos_weight=best[\"x_pos_weight\"],\n",
    "                         learning_rate = best[\"x_learning_rate\"], \n",
    "                         max_depth = int(best[\"x_max_depth\"]), \n",
    "                         min_child_weight = best[\"x_min_child\"],\n",
    "                         subsample = best[\"x_subsample\"], \n",
    "                         colsample_bytree = best[\"x_tree_colsample\"])\n",
    "\n",
    "model.fit(trainX, trainY)"
   ]
  },
  {
   "cell_type": "code",
   "execution_count": 13,
   "metadata": {},
   "outputs": [
    {
     "data": {
      "text/plain": [
       "Text(0.5, 1.0, 'ROC curve (AUC = 0.836)')"
      ]
     },
     "execution_count": 13,
     "metadata": {},
     "output_type": "execute_result"
    },
    {
     "data": {
      "image/png": "[encoded data removed]",
      "text/plain": [
       "<Figure size 432x288 with 1 Axes>"
      ]
     },
     "metadata": {
      "needs_background": "light"
     },
     "output_type": "display_data"
    }
   ],
   "source": [
    "roc_auc, fpr, tpr, ROCthresholds = ROC_curve(trainingdatafolder, model, features)\n",
    "\n",
    "fig, ax = plt.subplots()\n",
    "ax.plot(fpr, tpr)\n",
    "ax.plot([0, 1], [0, 1], 'k--')\n",
    "ax.set_xlim([0.0, 1.0])\n",
    "ax.set_ylim([0.0, 1.0])\n",
    "ax.set_xlabel('False Positive Rate')\n",
    "ax.set_ylabel('True Positive Rate')\n",
    "ax.set_title('ROC curve (AUC = {0:.3f})'.format(roc_auc))"
   ]
  },
  {
   "cell_type": "code",
   "execution_count": 14,
   "metadata": {},
   "outputs": [
    {
     "name": "stdout",
     "output_type": "stream",
     "text": [
      "Threshold 0.016028251498937607, recall = 1.0, precision = 0.3295695130557516\n",
      "Threshold 0.0314330980181694, recall = 0.9978586723768736, precision = 0.3669291338582677\n",
      "Threshold 0.05897511541843414, recall = 0.9978586723768736, precision = 0.38385502471169686\n",
      "Threshold 0.1332569569349289, recall = 0.9914346895074947, precision = 0.41192170818505336\n",
      "Threshold 0.273743599653244, recall = 0.9892933618843683, precision = 0.440419447092469\n",
      "Threshold 0.3775845766067505, recall = 0.9785867237687366, precision = 0.4639593908629442\n",
      "Threshold 0.477656751871109, recall = 0.9657387580299786, precision = 0.4813233724653148\n",
      "Threshold 0.5697124004364014, recall = 0.9464668094218416, precision = 0.4966292134831461\n",
      "Threshold 0.6904720067977905, recall = 0.9357601713062098, precision = 0.5159386068476978\n",
      "Threshold 0.7928160429000854, recall = 0.9079229122055674, precision = 0.5442875481386393\n",
      "Threshold 0.8424453139305115, recall = 0.8693790149892934, precision = 0.5569272976680384\n",
      "Threshold 0.8720766305923462, recall = 0.8329764453961456, precision = 0.5605187319884726\n",
      "Threshold 0.8986727595329285, recall = 0.8115631691648822, precision = 0.5742424242424242\n",
      "Threshold 0.9152809977531433, recall = 0.7537473233404711, precision = 0.584717607973422\n",
      "Threshold 0.928834080696106, recall = 0.6937901498929336, precision = 0.5890909090909091\n",
      "Threshold 0.9387467503547668, recall = 0.6316916488222698, precision = 0.6032719836400818\n",
      "Threshold 0.9459581971168518, recall = 0.5203426124197003, precision = 0.6151898734177215\n",
      "Threshold 0.9548874497413635, recall = 0.3640256959314775, precision = 0.6390977443609023\n",
      "Threshold 0.9627519845962524, recall = 0.2012847965738758, precision = 0.6573426573426573\n"
     ]
    },
    {
     "ename": "IndexError",
     "evalue": "index 285 is out of bounds for axis 0 with size 285",
     "output_type": "error",
     "traceback": [
      "\u001b[0;31m---------------------------------------------------------------------------\u001b[0m",
      "\u001b[0;31mIndexError\u001b[0m                                Traceback (most recent call last)",
      "\u001b[0;32m<ipython-input-14-0d6a077eccb6>\u001b[0m in \u001b[0;36m<module>\u001b[0;34m\u001b[0m\n\u001b[1;32m      1\u001b[0m \u001b[0mpr_auc\u001b[0m\u001b[0;34m,\u001b[0m \u001b[0mprecision\u001b[0m\u001b[0;34m,\u001b[0m \u001b[0mrecall\u001b[0m\u001b[0;34m,\u001b[0m \u001b[0mPRthresholds\u001b[0m \u001b[0;34m=\u001b[0m \u001b[0mPR_curve\u001b[0m\u001b[0;34m(\u001b[0m\u001b[0mtrainingdatafolder\u001b[0m\u001b[0;34m,\u001b[0m \u001b[0mmodel\u001b[0m\u001b[0;34m,\u001b[0m \u001b[0mfeatures\u001b[0m\u001b[0;34m)\u001b[0m\u001b[0;34m\u001b[0m\u001b[0;34m\u001b[0m\u001b[0m\n\u001b[1;32m      2\u001b[0m \u001b[0;32mfor\u001b[0m \u001b[0mi\u001b[0m \u001b[0;32min\u001b[0m \u001b[0mrange\u001b[0m\u001b[0;34m(\u001b[0m\u001b[0;36m0\u001b[0m\u001b[0;34m,\u001b[0m\u001b[0mlen\u001b[0m\u001b[0;34m(\u001b[0m\u001b[0mrecall\u001b[0m\u001b[0;34m)\u001b[0m\u001b[0;34m,\u001b[0m \u001b[0;36m15\u001b[0m\u001b[0;34m)\u001b[0m\u001b[0;34m:\u001b[0m\u001b[0;34m\u001b[0m\u001b[0;34m\u001b[0m\u001b[0m\n\u001b[0;32m----> 3\u001b[0;31m     \u001b[0mprint\u001b[0m\u001b[0;34m(\u001b[0m\u001b[0;34m\"Threshold {0}, recall = {1}, precision = {2}\"\u001b[0m\u001b[0;34m.\u001b[0m\u001b[0mformat\u001b[0m\u001b[0;34m(\u001b[0m\u001b[0mPRthresholds\u001b[0m\u001b[0;34m[\u001b[0m\u001b[0mi\u001b[0m\u001b[0;34m]\u001b[0m\u001b[0;34m,\u001b[0m \u001b[0mrecall\u001b[0m\u001b[0;34m[\u001b[0m\u001b[0mi\u001b[0m\u001b[0;34m]\u001b[0m\u001b[0;34m,\u001b[0m \u001b[0mprecision\u001b[0m\u001b[0;34m[\u001b[0m\u001b[0mi\u001b[0m\u001b[0;34m]\u001b[0m\u001b[0;34m)\u001b[0m\u001b[0;34m)\u001b[0m\u001b[0;34m\u001b[0m\u001b[0;34m\u001b[0m\u001b[0m\n\u001b[0m",
      "\u001b[0;31mIndexError\u001b[0m: index 285 is out of bounds for axis 0 with size 285"
     ]
    }
   ],
   "source": [
    "pr_auc, precision, recall, PRthresholds = PR_curve(trainingdatafolder, model, features)\n",
    "for i in range(0,len(recall), 15):\n",
    "    print(\"Threshold {0}, recall = {1}, precision = {2}\".format(PRthresholds[i], recall[i], precision[i]))"
   ]
  },
  {
   "cell_type": "code",
   "execution_count": 15,
   "metadata": {},
   "outputs": [
    {
     "data": {
      "image/png": "[encoded data removed]",
      "text/plain": [
       "<Figure size 432x288 with 1 Axes>"
      ]
     },
     "metadata": {
      "needs_background": "light"
     },
     "output_type": "display_data"
    }
   ],
   "source": [
    "fig, ax = plt.subplots()\n",
    "ax.plot(recall, precision)\n",
    "ax.set_xlim([0.0, 1.0])\n",
    "ax.set_ylim([0.0, 1.0])\n",
    "ax.set_xlabel('Recall')\n",
    "ax.set_ylabel('Precision')\n",
    "ax.set_title(\"AUC Score (Test): {0:.4f}\".format(pr_auc))\n",
    "plt.show()"
   ]
  },
  {
   "cell_type": "code",
   "execution_count": 16,
   "metadata": {},
   "outputs": [
    {
     "data": {
      "text/plain": [
       "(0, 168.3)"
      ]
     },
     "execution_count": 16,
     "metadata": {},
     "output_type": "execute_result"
    },
    {
     "data": {
      "image/png": "[encoded data removed]",
      "text/plain": [
       "<Figure size 432x288 with 2 Axes>"
      ]
     },
     "metadata": {
      "needs_background": "light"
     },
     "output_type": "display_data"
    }
   ],
   "source": [
    "# Histogram:\n",
    "bins = 50\n",
    "Stable, Unstable = stable_unstable_hist(trainingdatafolder, model, features)\n",
    "\n",
    "fig, ax1 = plt.subplots()\n",
    "n, bins, pathces = ax1.hist(Unstable, bins, alpha=0.5, label='No', color='blue', edgecolor = \"black\")\n",
    "#print(n)\n",
    "ax1.set_xlabel('Predicted Probability', fontsize=14)\n",
    "ax1.set_ylabel('Unstable',  fontsize=14, color='blue')\n",
    "for tl in ax1.get_yticklabels():\n",
    "    tl.set_color('blue')\n",
    "    \n",
    "\n",
    "\n",
    "ax2 = ax1.twinx()\n",
    "n, bins , patches = ax2.hist(Stable, bins, alpha=0.5, label='Yes',color='green', edgecolor = \"black\")\n",
    "#print(n.astype(int))\n",
    "ax2.set_ylabel('Stable', fontsize=14, color='green')\n",
    "for tl in ax2.get_yticklabels():\n",
    "    tl.set_color('green')\n",
    "    \n",
    "    \n",
    "#ax1.set_ylim(ax2.get_ylim())\n",
    "ax1.set_ylim([0,1.1*n[-1]]) # goes up to ~4300\n",
    "ax2.set_ylim([0,1.1*n[-1]]) # goes up to ~2100"
   ]
  },
  {
   "cell_type": "code",
   "execution_count": 17,
   "metadata": {},
   "outputs": [
    {
     "data": {
      "text/plain": [
       "Text(0, 0.5, 'Fraction actually stable')"
      ]
     },
     "execution_count": 17,
     "metadata": {},
     "output_type": "execute_result"
    },
    {
     "data": {
      "image/png": "[encoded data removed]",
      "text/plain": [
       "<Figure size 576x432 with 1 Axes>"
      ]
     },
     "metadata": {
      "needs_background": "light"
     },
     "output_type": "display_data"
    }
   ],
   "source": [
    "bincenters, fracstable, errorbars = calibration_plot(trainingdatafolder, model, features, bins=10)\n",
    "fig, ax = plt.subplots(figsize=(8,6))\n",
    "ax.plot(np.linspace(0,1,100), np.linspace(0,1,100), '--')\n",
    "ax.errorbar(bincenters, fracstable, errorbars)\n",
    "ax.set_xlim([0,1])\n",
    "ax.set_ylim([0,1])\n",
    "ax.set_xlabel('Predicted Probability of Stability')\n",
    "ax.set_ylabel('Fraction actually stable')"
   ]
  },
  {
   "cell_type": "code",
   "execution_count": 19,
   "metadata": {},
   "outputs": [
    {
     "data": {
      "text/plain": [
       "Text(0.5, 1.0, 'Fraction of unstable systems mislabeled as stable')"
      ]
     },
     "execution_count": 19,
     "metadata": {},
     "output_type": "execute_result"
    },
    {
     "data": {
      "image/png": "[encoded data removed]",
      "text/plain": [
       "<Figure size 576x432 with 1 Axes>"
      ]
     },
     "metadata": {
      "needs_background": "light"
     },
     "output_type": "display_data"
    }
   ],
   "source": [
    "bincenters, errorfracs, errorbars = unstable_error_fraction(trainingdatafolder, model, features, bins=10)\n",
    "fig, ax = plt.subplots(figsize=(8,6))\n",
    "ax.errorbar(bincenters, errorfracs, errorbars)\n",
    "ax.set_ylim([0,1])\n",
    "ax.set_xlabel('Log Instability Time')\n",
    "ax.set_ylabel('Error Fraction')\n",
    "ax.set_title('Fraction of unstable systems mislabeled as stable')"
   ]
  },
  {
   "cell_type": "code",
   "execution_count": 20,
   "metadata": {},
   "outputs": [
    {
     "data": {
      "image/png": "[encoded data removed]",
      "text/plain": [
       "<Figure size 864x576 with 1 Axes>"
      ]
     },
     "metadata": {
      "needs_background": "light"
     },
     "output_type": "display_data"
    }
   ],
   "source": [
    "# feature importances\n",
    "feat_imp = pd.Series(model.get_booster().get_fscore()).sort_values(ascending=False)\n",
    "feat_imp.plot(kind='bar', title='Feature Importances', figsize=(12,8))\n",
    "plt.ylabel('Feature Importance Score')\n",
    "plt.show()"
   ]
  },
  {
   "cell_type": "code",
   "execution_count": 21,
   "metadata": {},
   "outputs": [],
   "source": [
    "dill.dump([model, features, featurefolder], open(datapath+\"../models/megnoxgb_resonant.pkl\", \"wb\"))"
   ]
  },
  {
   "cell_type": "code",
   "execution_count": null,
   "metadata": {},
   "outputs": [],
   "source": []
  }
 ],
 "metadata": {
  "anaconda-cloud": {},
  "kernelspec": {
   "display_name": "Python 3",
   "language": "python",
   "name": "python3"
  },
  "language_info": {
   "codemirror_mode": {
    "name": "ipython",
    "version": 3
   },
   "file_extension": ".py",
   "mimetype": "text/x-python",
   "name": "python",
   "nbconvert_exporter": "python",
   "pygments_lexer": "ipython3",
   "version": "3.7.2"
  }
 },
 "nbformat": 4,
 "nbformat_minor": 2
}
