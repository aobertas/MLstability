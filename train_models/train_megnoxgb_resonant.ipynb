{
 "cells": [
  {
   "cell_type": "code",
   "execution_count": 1,
   "metadata": {},
   "outputs": [],
   "source": [
    "import numpy as np\n",
    "import sklearn\n",
    "import matplotlib.pyplot as plt\n",
    "%matplotlib inline\n",
    "import pandas as pd\n",
    "from sklearn import metrics\n",
    "from sklearn.model_selection import cross_val_score\n",
    "from matplotlib import rc\n",
    "from matplotlib import cm\n",
    "from mpl_toolkits.mplot3d import axes3d\n",
    "from matplotlib.ticker import MaxNLocator\n",
    "import scipy.signal\n",
    "import xgboost as xgb\n",
    "from xgboost.sklearn import XGBClassifier\n",
    "from hyperopt import hp, fmin, tpe, STATUS_OK, Trials\n",
    "import dill\n",
    "import sys\n",
    "sys.path.append('../')\n",
    "from modelfitting import train_test_split, ROC_curve, PR_curve, stable_unstable_hist, calibration_plot, unstable_error_fraction"
   ]
  },
  {
   "cell_type": "code",
   "execution_count": 2,
   "metadata": {},
   "outputs": [],
   "source": [
    "datapath = '/mnt/ssd/Dropbox/Dropbox (Princeton)/workspace/stability/MLstability/training_data/'\n",
    "dset = 'resonant/'\n",
    "featurefolder = 'ressummaryfeaturesxgbv6Norbits10000.0Nout1000/'\n",
    "features = ['megno']"
   ]
  },
  {
   "cell_type": "code",
   "execution_count": 3,
   "metadata": {
    "scrolled": true
   },
   "outputs": [],
   "source": [
    "trainingdatafolder = datapath+dset+featurefolder\n",
    "trainX, trainY, testX, testY = train_test_split(trainingdatafolder, features)"
   ]
  },
  {
   "cell_type": "markdown",
   "metadata": {},
   "source": [
    "# Fraction not chaotic over 1e4 orbits"
   ]
  },
  {
   "cell_type": "code",
   "execution_count": 4,
   "metadata": {},
   "outputs": [
    {
     "data": {
      "text/plain": [
       "0.517"
      ]
     },
     "execution_count": 4,
     "metadata": {},
     "output_type": "execute_result"
    }
   ],
   "source": [
    "(testX['megno']<2.5).sum()/testX['megno'].shape[0]"
   ]
  },
  {
   "cell_type": "markdown",
   "metadata": {},
   "source": [
    "# Fraction not chaotic over 1e4 orbits that were stable"
   ]
  },
  {
   "cell_type": "code",
   "execution_count": 5,
   "metadata": {},
   "outputs": [
    {
     "data": {
      "text/plain": [
       "0.2595"
      ]
     },
     "execution_count": 5,
     "metadata": {},
     "output_type": "execute_result"
    }
   ],
   "source": [
    "regular = testX['megno'] < 2.5\n",
    "testY[regular].sum()/testY.shape[0]"
   ]
  },
  {
   "cell_type": "markdown",
   "metadata": {},
   "source": [
    "# Fraction chaotic over 1e4 orbits that were stable"
   ]
  },
  {
   "cell_type": "code",
   "execution_count": 6,
   "metadata": {},
   "outputs": [
    {
     "data": {
      "text/plain": [
       "0.011"
      ]
     },
     "execution_count": 6,
     "metadata": {},
     "output_type": "execute_result"
    }
   ],
   "source": [
    "chaotic = testX['megno'] > 2.5\n",
    "testY[chaotic].sum()/testY.shape[0]"
   ]
  },
  {
   "cell_type": "code",
   "execution_count": 7,
   "metadata": {},
   "outputs": [
    {
     "name": "stderr",
     "output_type": "stream",
     "text": [
      "/home/dtamayo/miniconda3/envs/ml/lib/python3.7/site-packages/xgboost/core.py:587: FutureWarning: Series.base is deprecated and will be removed in a future version\n",
      "  if getattr(data, 'base', None) is not None and \\\n",
      "/home/dtamayo/miniconda3/envs/ml/lib/python3.7/site-packages/xgboost/core.py:588: FutureWarning: Series.base is deprecated and will be removed in a future version\n",
      "  data.base is not None and isinstance(data, np.ndarray) \\\n"
     ]
    }
   ],
   "source": [
    "space ={\n",
    "        'max_depth': hp.randint('x_max_depth',  20),\n",
    "        'min_child_weight': hp.quniform ('x_min_child', 1, 10, 1),\n",
    "        'subsample': hp.uniform ('x_subsample', 0.8, 1),\n",
    "        'scale_pos_weight': hp.uniform(\"x_pos_weight\", 1, 15),\n",
    "        \"learning_rate\":hp.uniform(\"x_learning_rate\",0.01,0.2),\n",
    "        'colsample_bytree': hp.uniform ('x_tree_colsample', 0.5,1),\n",
    "}\n",
    "\n",
    "dtrain = xgb.DMatrix(trainX, trainY)\n",
    "dtest = xgb.DMatrix(testX, testY)\n",
    "def objective(space):\n",
    "\n",
    "    clf = XGBClassifier(n_estimators = 100, \n",
    "                            max_depth = space['max_depth'], \n",
    "                            min_child_weight =space['min_child_weight'],\n",
    "                            subsample = space['subsample'],\n",
    "                            colsample_bytree =space['colsample_bytree'],\n",
    "                            learning_rate = space['learning_rate'], seed = 0)\n",
    "    \n",
    "    params = clf.get_xgb_params()\n",
    "    #dtest\n",
    "    score = xgb.cv(params, dtrain, nfold = 5, metrics = \"auc\", early_stopping_rounds=10)\n",
    "    #print score\n",
    "    #score = cross_val_score(clf, trainX, trainY, cv = 5, scoring=\"average_precision\")\n",
    "    avg_score =  np.mean(score[\"test-auc-mean\"])\n",
    "    error = np.mean(score[\"test-auc-std\"])\n",
    "    \n",
    "    bst = xgb.train(params, dtrain)\n",
    "    preds = bst.predict(dtest)\n",
    "    test_score = metrics.roc_auc_score(testY, preds)\n",
    "    \n",
    "    print(\"SCORE:\", avg_score, \"ERROR\", error, \"HOLDOUT SCORE\", test_score)\n",
    "\n",
    "    return{'loss':1-test_score, 'status': STATUS_OK, \"cv_score\":avg_score , \"cv_error\":error, \"holdout\":test_score }"
   ]
  },
  {
   "cell_type": "code",
   "execution_count": 8,
   "metadata": {},
   "outputs": [
    {
     "data": {
      "text/plain": [
       "0.510313789223653"
      ]
     },
     "execution_count": 8,
     "metadata": {},
     "output_type": "execute_result"
    }
   ],
   "source": [
    "(trainX['megno']<2.5).sum()/trainX['megno'].shape[0]"
   ]
  },
  {
   "cell_type": "code",
   "execution_count": 9,
   "metadata": {
    "scrolled": true
   },
   "outputs": [
    {
     "name": "stdout",
     "output_type": "stream",
     "text": [
      "SCORE:                                              \n",
      "0.85218124                                          \n",
      "ERROR                                               \n",
      "0.004846380783358823                                \n",
      "HOLDOUT SCORE                                       \n",
      "0.8544796210404159                                  \n",
      "SCORE:                                                                        \n",
      "0.85445452                                                                    \n",
      "ERROR                                                                         \n",
      "0.006511875172976645                                                          \n",
      "HOLDOUT SCORE                                                                 \n",
      "0.8572763356767036                                                            \n",
      "SCORE:                                                                        \n",
      "0.85223792                                                                    \n",
      "ERROR                                                                         \n",
      "0.005804530413116326                                                          \n",
      "HOLDOUT SCORE                                                                 \n",
      "0.8566574477492623                                                            \n",
      "SCORE:                                                                        \n",
      "0.85030708                                                                    \n",
      "ERROR                                                                         \n",
      "0.004773247617646975                                                          \n",
      "HOLDOUT SCORE                                                                 \n",
      "0.8544631511467481                                                            \n",
      "SCORE:                                                                        \n",
      "0.85417922                                                                    \n",
      "ERROR                                                                         \n",
      "0.0068954381036136865                                                         \n",
      "HOLDOUT SCORE                                                                 \n",
      "0.8576266376458694                                                            \n",
      "SCORE:                                                                        \n",
      "0.8504821399999999                                                            \n",
      "ERROR                                                                         \n",
      "0.007993263580260788                                                          \n",
      "HOLDOUT SCORE                                                                 \n",
      "0.8569444039735519                                                            \n",
      "SCORE:                                                                        \n",
      "0.8448367400000001                                                            \n",
      "ERROR                                                                         \n",
      "0.0037940832343086863                                                         \n",
      "HOLDOUT SCORE                                                                 \n",
      "0.8501683096441363                                                            \n",
      "SCORE:                                                                        \n",
      "0.8436472399999999                                                            \n",
      "ERROR                                                                         \n",
      "0.004466998173637225                                                          \n",
      "HOLDOUT SCORE                                                                 \n",
      "0.8469003026659692                                                            \n",
      "SCORE:                                                                        \n",
      "0.84745764                                                                    \n",
      "ERROR                                                                         \n",
      "0.0038364205688788447                                                         \n",
      "HOLDOUT SCORE                                                                 \n",
      "0.8545626039662038                                                            \n",
      "SCORE:                                                                        \n",
      "0.8486854600000001                                                            \n",
      "ERROR                                                                         \n",
      "0.0038381725544319933                                                         \n",
      "HOLDOUT SCORE                                                                 \n",
      "0.8549262085417937                                                            \n",
      "SCORE:                                                                         \n",
      "0.8526951799999999                                                             \n",
      "ERROR                                                                          \n",
      "0.007268536020945465                                                           \n",
      "HOLDOUT SCORE                                                                  \n",
      "0.856735996472909                                                              \n",
      "SCORE:                                                                         \n",
      "0.8518829799999998                                                             \n",
      "ERROR                                                                          \n",
      "0.005382372241718182                                                           \n",
      "HOLDOUT SCORE                                                                  \n",
      "0.8537163048146567                                                             \n",
      "SCORE:                                                                         \n",
      "0.8199876600000001                                                             \n",
      "ERROR                                                                          \n",
      "0.005594266209671251                                                           \n",
      "HOLDOUT SCORE                                                                  \n",
      "0.8342431893822397                                                             \n",
      "SCORE:                                                                         \n",
      "0.8500918399999999                                                             \n",
      "ERROR                                                                          \n",
      "0.005747214326295399                                                           \n",
      "HOLDOUT SCORE                                                                  \n",
      "0.8556223782779839                                                             \n",
      "SCORE:                                                                         \n",
      "0.8546116399999999                                                             \n",
      "ERROR                                                                          \n",
      "0.007976144213813288                                                           \n",
      "HOLDOUT SCORE                                                                  \n",
      "0.857750795305827                                                              \n",
      "SCORE:                                                                         \n",
      "0.8516243000000001                                                             \n",
      "ERROR                                                                          \n",
      "0.0059051146828826145                                                          \n",
      "HOLDOUT SCORE                                                                  \n",
      "0.8549946219462601                                                             \n",
      "SCORE:                                                                         \n",
      "0.8493290799999998                                                             \n",
      "ERROR                                                                          \n",
      "0.0046858194865501464                                                          \n",
      "HOLDOUT SCORE                                                                  \n",
      "0.8557186638101959                                                             \n",
      "SCORE:                                                                         \n",
      "0.8431395                                                                      \n",
      "ERROR                                                                          \n"
     ]
    },
    {
     "name": "stdout",
     "output_type": "stream",
     "text": [
      "0.003699964207996508                                                           \n",
      "HOLDOUT SCORE                                                                  \n",
      "0.8495272507059883                                                             \n",
      "SCORE:                                                                         \n",
      "0.84963628                                                                     \n",
      "ERROR                                                                          \n",
      "0.004408448687178088                                                           \n",
      "HOLDOUT SCORE                                                                  \n",
      "0.8523429690657389                                                             \n",
      "SCORE:                                                                         \n",
      "0.8465792600000001                                                             \n",
      "ERROR                                                                          \n",
      "0.0020670745001331392                                                          \n",
      "HOLDOUT SCORE                                                                  \n",
      "0.852505767630071                                                              \n",
      "SCORE:                                                                         \n",
      "0.8463232599999999                                                             \n",
      "ERROR                                                                          \n",
      "0.005638234555299363                                                           \n",
      "HOLDOUT SCORE                                                                  \n",
      "0.8526977052370461                                                             \n",
      "SCORE:                                                                         \n",
      "0.8470024                                                                      \n",
      "ERROR                                                                          \n",
      "0.005048932332067136                                                           \n",
      "HOLDOUT SCORE                                                                  \n",
      "0.8523093958209546                                                             \n",
      "SCORE:                                                                         \n",
      "0.84652926                                                                     \n",
      "ERROR                                                                          \n",
      "0.006705325613414399                                                           \n",
      "HOLDOUT SCORE                                                                  \n",
      "0.8551776911489525                                                             \n",
      "SCORE:                                                                         \n",
      "0.8417273399999999                                                             \n",
      "ERROR                                                                          \n",
      "0.004591387403187207                                                           \n",
      "HOLDOUT SCORE                                                                  \n",
      "0.8474178374016083                                                             \n",
      "SCORE:                                                                         \n",
      "0.5                                                                            \n",
      "ERROR                                                                          \n",
      "0.0                                                                            \n",
      "HOLDOUT SCORE                                                                  \n",
      "0.5                                                                            \n",
      "SCORE:                                                                         \n",
      "0.84961022                                                                     \n",
      "ERROR                                                                          \n",
      "0.004887012690962476                                                           \n",
      "HOLDOUT SCORE                                                                  \n",
      "0.8537023687507839                                                             \n",
      "SCORE:                                                                         \n",
      "0.8502842599999999                                                             \n",
      "ERROR                                                                          \n",
      "0.00523225113207832                                                            \n",
      "HOLDOUT SCORE                                                                  \n",
      "0.8549553475844368                                                             \n",
      "SCORE:                                                                         \n",
      "0.8546098799999999                                                             \n",
      "ERROR                                                                          \n",
      "0.006798230799862722                                                           \n",
      "HOLDOUT SCORE                                                                  \n",
      "0.8584203598291692                                                             \n",
      "SCORE:                                                                         \n",
      "0.8461263600000001                                                            \n",
      "ERROR                                                                         \n",
      "0.004803215152255949                                                          \n",
      "HOLDOUT SCORE                                                                 \n",
      "0.8526096546516682                                                            \n",
      "SCORE:                                                                        \n",
      "0.8492813800000001                                                            \n",
      "ERROR                                                                         \n",
      "0.004580672521940553                                                          \n",
      "HOLDOUT SCORE                                                                 \n",
      "0.8546892954559565                                                            \n",
      "SCORE:                                                                        \n",
      "0.85370272                                                                    \n",
      "ERROR                                                                         \n",
      "0.0070480798691275135                                                         \n",
      "HOLDOUT SCORE                                                                 \n",
      "0.8587902989792466                                                            \n",
      "SCORE:                                                                         \n",
      "0.8537779399999998                                                             \n",
      "ERROR                                                                          \n",
      "0.006233301488771452                                                           \n",
      "HOLDOUT SCORE                                                                  \n",
      "0.8580630898280671                                                             \n",
      "SCORE:                                                                         \n",
      "0.85406218                                                                     \n",
      "ERROR                                                                          \n",
      "0.006989524974469441                                                           \n",
      "HOLDOUT SCORE                                                                  \n",
      "0.8593635779703771                                                             \n",
      "SCORE:                                                                         \n",
      "0.85409972                                                                    \n",
      "ERROR                                                                         \n",
      "0.0073512320999434945                                                         \n",
      "HOLDOUT SCORE                                                                 \n",
      "0.8594934367473734                                                            \n",
      "SCORE:                                                                         \n",
      "0.8542734                                                                      \n",
      "ERROR                                                                          \n"
     ]
    },
    {
     "name": "stdout",
     "output_type": "stream",
     "text": [
      "0.007042983491030104                                                           \n",
      "HOLDOUT SCORE                                                                  \n",
      "0.8582201872753602                                                             \n",
      "SCORE:                                                                         \n",
      "0.8540322399999999                                                             \n",
      "ERROR                                                                          \n",
      "0.006586410749637409                                                           \n",
      "HOLDOUT SCORE                                                                  \n",
      "0.8575803952521098                                                             \n",
      "SCORE:                                                                         \n",
      "0.8468868199999999                                                             \n",
      "ERROR                                                                          \n",
      "0.004317849581140372                                                           \n",
      "HOLDOUT SCORE                                                                  \n",
      "0.8512692586900861                                                             \n",
      "SCORE:                                                                         \n",
      "0.8426205199999999                                                             \n",
      "ERROR                                                                          \n",
      "0.004839323334028293                                                           \n",
      "HOLDOUT SCORE                                                                  \n",
      "0.8463244898450437                                                             \n",
      "SCORE:                                                                         \n",
      "0.84679104                                                                     \n",
      "ERROR                                                                          \n",
      "0.004194831868762687                                                           \n",
      "HOLDOUT SCORE                                                                  \n",
      "0.8536973010911938                                                             \n",
      "SCORE:                                                                         \n",
      "0.84658084                                                                     \n",
      "ERROR                                                                          \n",
      "0.0052636670872588465                                                          \n",
      "HOLDOUT SCORE                                                                  \n",
      "0.84966977863196                                                               \n",
      "SCORE:                                                                         \n",
      "0.8542485400000001                                                             \n",
      "ERROR                                                                          \n",
      "0.006071098055562522                                                           \n",
      "HOLDOUT SCORE                                                                  \n",
      "0.8561126743433263                                                             \n",
      "SCORE:                                                                         \n",
      "0.8460291                                                                      \n",
      "ERROR                                                                          \n",
      "0.005168724628589741                                                           \n",
      "HOLDOUT SCORE                                                                  \n",
      "0.8525545438536258                                                             \n",
      "SCORE:                                                                         \n",
      "0.8482800000000001                                                             \n",
      "ERROR                                                                          \n",
      "0.0038251531596522003                                                          \n",
      "HOLDOUT SCORE                                                                  \n",
      "0.854065339868925                                                              \n",
      "SCORE:                                                                         \n",
      "0.8115289600000001                                                             \n",
      "ERROR                                                                          \n",
      "0.006455874532578107                                                           \n",
      "HOLDOUT SCORE                                                                  \n",
      "0.8279200171286895                                                             \n",
      "SCORE:                                                                         \n",
      "0.5                                                                            \n",
      "ERROR                                                                          \n",
      "0.0                                                                            \n",
      "HOLDOUT SCORE                                                                  \n",
      "0.5                                                                            \n",
      "SCORE:                                                                         \n",
      "0.84407496                                                                     \n",
      "ERROR                                                                          \n",
      "0.00520902087005372                                                            \n",
      "HOLDOUT SCORE                                                                  \n",
      "0.8484364369792187                                                             \n",
      "SCORE:                                                                         \n",
      "0.85253746                                                                     \n",
      "ERROR                                                                          \n",
      "0.004818672022708298                                                           \n",
      "HOLDOUT SCORE                                                                  \n",
      "0.8554348748731502                                                             \n",
      "SCORE:                                                                         \n",
      "0.8511526400000001                                                             \n",
      "ERROR                                                                          \n",
      "0.005770436802040248                                                           \n",
      "HOLDOUT SCORE                                                                  \n",
      "0.8572041215275447                                                             \n",
      "SCORE:                                                                         \n",
      "0.84638244                                                                     \n",
      "ERROR                                                                          \n",
      "0.004814073454358796                                                           \n",
      "HOLDOUT SCORE                                                                  \n",
      "0.8509626652848847                                                             \n",
      "SCORE:                                                                         \n",
      "0.8440725599999999                                                             \n",
      "ERROR                                                                          \n",
      "0.005774820998160464                                                           \n",
      "HOLDOUT SCORE                                                                  \n",
      "0.8466494535162591                                                             \n",
      "100%|██████████| 50/50 [00:16<00:00,  2.81it/s, best loss: 0.14050656325262656]\n",
      "Optimization Time: %f seconds 16.22458004951477\n",
      "CPU times: user 15.8 s, sys: 651 ms, total: 16.5 s\n",
      "Wall time: 16.2 s\n"
     ]
    }
   ],
   "source": [
    "%%time\n",
    "trials = Trials()\n",
    "import time\n",
    "start = time.time()\n",
    "best = fmin(fn=objective, space = space, algo = tpe.suggest, max_evals = 50, trials = trials)\n",
    "end = time.time()\n",
    "print(\"Optimization Time: %f seconds\", (end  -start))"
   ]
  },
  {
   "cell_type": "code",
   "execution_count": 10,
   "metadata": {},
   "outputs": [
    {
     "data": {
      "text/plain": [
       "{'x_learning_rate': 0.14592203032134907,\n",
       " 'x_max_depth': 4,\n",
       " 'x_min_child': 3.0,\n",
       " 'x_pos_weight': 1.9632453385608362,\n",
       " 'x_subsample': 0.8349449893817242,\n",
       " 'x_tree_colsample': 0.5588430872405726}"
      ]
     },
     "execution_count": 10,
     "metadata": {},
     "output_type": "execute_result"
    }
   ],
   "source": [
    "best"
   ]
  },
  {
   "cell_type": "code",
   "execution_count": 11,
   "metadata": {},
   "outputs": [
    {
     "name": "stdout",
     "output_type": "stream",
     "text": [
      "[0]\ttrain-auc:0.858285+0.00163938\ttest-auc:0.851712+0.00804324\n",
      "[1]\ttrain-auc:0.860793+0.00178694\ttest-auc:0.854712+0.0081525\n",
      "[2]\ttrain-auc:0.862363+0.00182349\ttest-auc:0.855636+0.00789503\n",
      "[3]\ttrain-auc:0.863246+0.00164311\ttest-auc:0.856677+0.00770875\n",
      "[4]\ttrain-auc:0.863524+0.001835\ttest-auc:0.85711+0.00790725\n",
      "[5]\ttrain-auc:0.863847+0.0017861\ttest-auc:0.857258+0.00797906\n",
      "[6]\ttrain-auc:0.864675+0.00162102\ttest-auc:0.857056+0.00779141\n",
      "[7]\ttrain-auc:0.864908+0.00155381\ttest-auc:0.857003+0.00737399\n",
      "[8]\ttrain-auc:0.865262+0.00153537\ttest-auc:0.856717+0.00705523\n",
      "[9]\ttrain-auc:0.865515+0.00145764\ttest-auc:0.856897+0.00703954\n",
      "   train-auc-mean  train-auc-std  test-auc-mean  test-auc-std\n",
      "0        0.858285       0.001639       0.851712      0.008043\n",
      "1        0.860793       0.001787       0.854712      0.008152\n",
      "2        0.862363       0.001823       0.855636      0.007895\n",
      "3        0.863246       0.001643       0.856677      0.007709\n",
      "4        0.863524       0.001835       0.857110      0.007907\n",
      "5        0.863847       0.001786       0.857258      0.007979\n",
      "6        0.864675       0.001621       0.857056      0.007791\n",
      "7        0.864908       0.001554       0.857003      0.007374\n",
      "8        0.865262       0.001535       0.856717      0.007055\n",
      "9        0.865515       0.001458       0.856897      0.007040\n",
      "0.5903866796593225\n"
     ]
    },
    {
     "name": "stderr",
     "output_type": "stream",
     "text": [
      "/home/dtamayo/miniconda3/envs/ml/lib/python3.7/site-packages/xgboost/core.py:587: FutureWarning: Series.base is deprecated and will be removed in a future version\n",
      "  if getattr(data, 'base', None) is not None and \\\n",
      "/home/dtamayo/miniconda3/envs/ml/lib/python3.7/site-packages/xgboost/core.py:588: FutureWarning: Series.base is deprecated and will be removed in a future version\n",
      "  data.base is not None and isinstance(data, np.ndarray) \\\n"
     ]
    }
   ],
   "source": [
    "best_xgbc = XGBClassifier(n_estimators=100, scale_pos_weight=best[\"x_pos_weight\"],\n",
    "                         learning_rate = best[\"x_learning_rate\"], \n",
    "                         max_depth = int(best[\"x_max_depth\"]), \n",
    "                         min_child_weight = best[\"x_min_child\"],\n",
    "                         subsample = best[\"x_subsample\"], \n",
    "                         colsample_bytree = best[\"x_tree_colsample\"])\n",
    "params = best_xgbc.get_xgb_params()\n",
    "score = xgb.cv(params, dtrain, nfold = 5, metrics = \"auc\", verbose_eval=True)\n",
    "print(score)\n",
    "d_Train = xgb.DMatrix(trainX, trainY)\n",
    "d_Test = xgb.DMatrix(testX)\n",
    "bst = xgb.train(params, d_Train)\n",
    "preds = bst.predict(d_Test)\n",
    "score = metrics.average_precision_score(testY, preds)\n",
    "print(score)"
   ]
  },
  {
   "cell_type": "code",
   "execution_count": 12,
   "metadata": {},
   "outputs": [
    {
     "data": {
      "text/plain": [
       "XGBClassifier(base_score=0.5, booster='gbtree', colsample_bylevel=1,\n",
       "              colsample_bytree=0.5588430872405726, gamma=0,\n",
       "              learning_rate=0.14592203032134907, max_delta_step=0, max_depth=4,\n",
       "              min_child_weight=3.0, missing=None, n_estimators=100, n_jobs=1,\n",
       "              nthread=None, objective='binary:logistic', random_state=0,\n",
       "              reg_alpha=0, reg_lambda=1, scale_pos_weight=1.9632453385608362,\n",
       "              seed=None, silent=True, subsample=0.8349449893817242)"
      ]
     },
     "execution_count": 12,
     "metadata": {},
     "output_type": "execute_result"
    }
   ],
   "source": [
    "model = XGBClassifier(n_estimators=100, scale_pos_weight=best[\"x_pos_weight\"],\n",
    "                         learning_rate = best[\"x_learning_rate\"], \n",
    "                         max_depth = int(best[\"x_max_depth\"]), \n",
    "                         min_child_weight = best[\"x_min_child\"],\n",
    "                         subsample = best[\"x_subsample\"], \n",
    "                         colsample_bytree = best[\"x_tree_colsample\"])\n",
    "\n",
    "model.fit(trainX, trainY)"
   ]
  },
  {
   "cell_type": "code",
   "execution_count": 13,
   "metadata": {},
   "outputs": [
    {
     "data": {
      "text/plain": [
       "Text(0.5, 1.0, 'ROC curve (AUC = 0.853)')"
      ]
     },
     "execution_count": 13,
     "metadata": {},
     "output_type": "execute_result"
    },
    {
     "data": {
      "image/png": "[encoded data removed]",
      "text/plain": [
       "<Figure size 432x288 with 1 Axes>"
      ]
     },
     "metadata": {
      "needs_background": "light"
     },
     "output_type": "display_data"
    }
   ],
   "source": [
    "roc_auc, fpr, tpr, ROCthresholds = ROC_curve(trainingdatafolder, model, features)\n",
    "\n",
    "fig, ax = plt.subplots()\n",
    "ax.plot(fpr, tpr)\n",
    "ax.plot([0, 1], [0, 1], 'k--')\n",
    "ax.set_xlim([0.0, 1.0])\n",
    "ax.set_ylim([0.0, 1.0])\n",
    "ax.set_xlabel('False Positive Rate')\n",
    "ax.set_ylabel('True Positive Rate')\n",
    "ax.set_title('ROC curve (AUC = {0:.3f})'.format(roc_auc))"
   ]
  },
  {
   "cell_type": "code",
   "execution_count": 14,
   "metadata": {},
   "outputs": [
    {
     "name": "stdout",
     "output_type": "stream",
     "text": [
      "Threshold 0.004862850997596979, recall = 1.0, precision = 0.2800207039337474\n",
      "Threshold 0.029663799330592155, recall = 0.9963031423290203, precision = 0.3515981735159817\n",
      "Threshold 0.04581496864557266, recall = 0.9907578558225508, precision = 0.3801418439716312\n",
      "Threshold 0.07291742414236069, recall = 0.9815157116451017, precision = 0.4306569343065693\n",
      "Threshold 0.10469625145196915, recall = 0.9759704251386322, precision = 0.45595854922279794\n",
      "Threshold 0.14790281653404236, recall = 0.966728280961183, precision = 0.47074707470747074\n",
      "Threshold 0.1947355419397354, recall = 0.9630314232902033, precision = 0.48782771535580527\n",
      "Threshold 0.25186243653297424, recall = 0.9537892791127541, precision = 0.5063788027477919\n",
      "Threshold 0.29607537388801575, recall = 0.922365988909427, precision = 0.5165631469979296\n",
      "Threshold 0.37661242485046387, recall = 0.9038817005545287, precision = 0.5297941495124594\n",
      "Threshold 0.4387975037097931, recall = 0.8946395563770795, precision = 0.5395763656633222\n",
      "Threshold 0.4825320243835449, recall = 0.8576709796672828, precision = 0.5439624853458382\n",
      "Threshold 0.5259706974029541, recall = 0.8262476894639557, precision = 0.5629722921914357\n",
      "Threshold 0.5629353523254395, recall = 0.7818853974121996, precision = 0.5677852348993289\n",
      "Threshold 0.5868104696273804, recall = 0.7393715341959335, precision = 0.5714285714285714\n",
      "Threshold 0.605644166469574, recall = 0.6913123844731978, precision = 0.5745007680491552\n",
      "Threshold 0.6209681034088135, recall = 0.6561922365988909, precision = 0.5829228243021346\n",
      "Threshold 0.6409385800361633, recall = 0.6081330868761553, precision = 0.5885509838998211\n",
      "Threshold 0.6613587141036987, recall = 0.5471349353049908, precision = 0.597979797979798\n",
      "Threshold 0.6859705448150635, recall = 0.46950092421441775, precision = 0.596244131455399\n",
      "Threshold 0.7045804262161255, recall = 0.4011090573012939, precision = 0.592896174863388\n",
      "Threshold 0.7343913316726685, recall = 0.3678373382624769, precision = 0.6123076923076923\n",
      "Threshold 0.7736149430274963, recall = 0.2735674676524954, precision = 0.6040816326530613\n",
      "Threshold 0.8099244832992554, recall = 0.03512014787430684, precision = 0.6785714285714286\n"
     ]
    }
   ],
   "source": [
    "pr_auc, precision, recall, PRthresholds = PR_curve(trainingdatafolder, model, features)\n",
    "for i in range(0,len(recall), 15):\n",
    "    print(\"Threshold {0}, recall = {1}, precision = {2}\".format(PRthresholds[i], recall[i], precision[i]))"
   ]
  },
  {
   "cell_type": "code",
   "execution_count": 15,
   "metadata": {},
   "outputs": [
    {
     "data": {
      "image/png": "[encoded data removed]",
      "text/plain": [
       "<Figure size 432x288 with 1 Axes>"
      ]
     },
     "metadata": {
      "needs_background": "light"
     },
     "output_type": "display_data"
    }
   ],
   "source": [
    "fig, ax = plt.subplots()\n",
    "ax.plot(recall, precision)\n",
    "ax.set_xlim([0.0, 1.0])\n",
    "ax.set_ylim([0.0, 1.0])\n",
    "ax.set_xlabel('Recall')\n",
    "ax.set_ylabel('Precision')\n",
    "ax.set_title(\"AUC Score (Test): {0:.4f}\".format(pr_auc))\n",
    "plt.show()"
   ]
  },
  {
   "cell_type": "code",
   "execution_count": 16,
   "metadata": {},
   "outputs": [
    {
     "data": {
      "text/plain": [
       "(0, 18.700000000000003)"
      ]
     },
     "execution_count": 16,
     "metadata": {},
     "output_type": "execute_result"
    },
    {
     "data": {
      "image/png": "[encoded data removed]",
      "text/plain": [
       "<Figure size 432x288 with 2 Axes>"
      ]
     },
     "metadata": {
      "needs_background": "light"
     },
     "output_type": "display_data"
    }
   ],
   "source": [
    "# Histogram:\n",
    "bins = 50\n",
    "Stable, Unstable = stable_unstable_hist(trainingdatafolder, model, features)\n",
    "\n",
    "fig, ax1 = plt.subplots()\n",
    "n, bins, pathces = ax1.hist(Unstable, bins, alpha=0.5, label='No', color='blue', edgecolor = \"black\")\n",
    "#print(n)\n",
    "ax1.set_xlabel('Predicted Probability', fontsize=14)\n",
    "ax1.set_ylabel('Unstable',  fontsize=14, color='blue')\n",
    "for tl in ax1.get_yticklabels():\n",
    "    tl.set_color('blue')\n",
    "    \n",
    "\n",
    "\n",
    "ax2 = ax1.twinx()\n",
    "n, bins , patches = ax2.hist(Stable, bins, alpha=0.5, label='Yes',color='green', edgecolor = \"black\")\n",
    "#print(n.astype(int))\n",
    "ax2.set_ylabel('Stable', fontsize=14, color='green')\n",
    "for tl in ax2.get_yticklabels():\n",
    "    tl.set_color('green')\n",
    "    \n",
    "    \n",
    "#ax1.set_ylim(ax2.get_ylim())\n",
    "ax1.set_ylim([0,1.1*n[-1]]) # goes up to ~4300\n",
    "ax2.set_ylim([0,1.1*n[-1]]) # goes up to ~2100"
   ]
  },
  {
   "cell_type": "code",
   "execution_count": 17,
   "metadata": {},
   "outputs": [
    {
     "data": {
      "text/plain": [
       "Text(0, 0.5, 'Fraction actually stable')"
      ]
     },
     "execution_count": 17,
     "metadata": {},
     "output_type": "execute_result"
    },
    {
     "data": {
      "image/png": "[encoded data removed]",
      "text/plain": [
       "<Figure size 576x432 with 1 Axes>"
      ]
     },
     "metadata": {
      "needs_background": "light"
     },
     "output_type": "display_data"
    }
   ],
   "source": [
    "bincenters, fracstable, errorbars = calibration_plot(trainingdatafolder, model, features, bins=10)\n",
    "fig, ax = plt.subplots(figsize=(8,6))\n",
    "ax.plot(np.linspace(0,1,100), np.linspace(0,1,100), '--')\n",
    "ax.errorbar(bincenters, fracstable, errorbars)\n",
    "ax.set_xlim([0,1])\n",
    "ax.set_ylim([0,1])\n",
    "ax.set_xlabel('Predicted Probability of Stability')\n",
    "ax.set_ylabel('Fraction actually stable')"
   ]
  },
  {
   "cell_type": "code",
   "execution_count": 18,
   "metadata": {},
   "outputs": [
    {
     "data": {
      "text/plain": [
       "Text(0.5, 1.0, 'Fraction of unstable systems mislabeled as stable')"
      ]
     },
     "execution_count": 18,
     "metadata": {},
     "output_type": "execute_result"
    },
    {
     "data": {
      "image/png": "[encoded data removed]",
      "text/plain": [
       "<Figure size 576x432 with 1 Axes>"
      ]
     },
     "metadata": {
      "needs_background": "light"
     },
     "output_type": "display_data"
    }
   ],
   "source": [
    "bincenters, errorfracs, errorbars = unstable_error_fraction(trainingdatafolder, model, features, bins=10)\n",
    "fig, ax = plt.subplots(figsize=(8,6))\n",
    "ax.errorbar(bincenters, errorfracs, errorbars)\n",
    "ax.set_ylim([0,1])\n",
    "ax.set_xlabel('Log Instability Time')\n",
    "ax.set_ylabel('Error Fraction')\n",
    "ax.set_title('Fraction of unstable systems mislabeled as stable')"
   ]
  },
  {
   "cell_type": "code",
   "execution_count": 19,
   "metadata": {},
   "outputs": [
    {
     "data": {
      "image/png": "[encoded data removed]",
      "text/plain": [
       "<Figure size 864x576 with 1 Axes>"
      ]
     },
     "metadata": {
      "needs_background": "light"
     },
     "output_type": "display_data"
    }
   ],
   "source": [
    "# feature importances\n",
    "feat_imp = pd.Series(model.get_booster().get_fscore()).sort_values(ascending=False)\n",
    "feat_imp.plot(kind='bar', title='Feature Importances', figsize=(12,8))\n",
    "plt.ylabel('Feature Importance Score')\n",
    "plt.show()"
   ]
  },
  {
   "cell_type": "code",
   "execution_count": 20,
   "metadata": {},
   "outputs": [],
   "source": [
    "dill.dump([model, features, featurefolder], open(datapath+\"../models/megnoxgb_resonant.pkl\", \"wb\"))"
   ]
  },
  {
   "cell_type": "code",
   "execution_count": null,
   "metadata": {},
   "outputs": [],
   "source": []
  }
 ],
 "metadata": {
  "anaconda-cloud": {},
  "kernelspec": {
   "display_name": "Python 3",
   "language": "python",
   "name": "python3"
  },
  "language_info": {
   "codemirror_mode": {
    "name": "ipython",
    "version": 3
   },
   "file_extension": ".py",
   "mimetype": "text/x-python",
   "name": "python",
   "nbconvert_exporter": "python",
   "pygments_lexer": "ipython3",
   "version": "3.7.3"
  }
 },
 "nbformat": 4,
 "nbformat_minor": 2
}
