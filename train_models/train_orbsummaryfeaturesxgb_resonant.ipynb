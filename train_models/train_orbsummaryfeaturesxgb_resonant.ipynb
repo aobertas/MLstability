{
 "cells": [
  {
   "cell_type": "code",
   "execution_count": 1,
   "metadata": {},
   "outputs": [],
   "source": [
    "import numpy as np\n",
    "import sklearn\n",
    "import matplotlib.pyplot as plt\n",
    "%matplotlib inline\n",
    "import pandas as pd\n",
    "from sklearn import metrics\n",
    "from sklearn.model_selection import cross_val_score\n",
    "from matplotlib import rc\n",
    "from matplotlib import cm\n",
    "from mpl_toolkits.mplot3d import axes3d\n",
    "from matplotlib.ticker import MaxNLocator\n",
    "import scipy.signal\n",
    "import xgboost as xgb\n",
    "from xgboost.sklearn import XGBClassifier\n",
    "from hyperopt import hp, fmin, tpe, STATUS_OK, Trials\n",
    "import dill\n",
    "import sys\n",
    "sys.path.append('../')\n",
    "from modelfitting import train_test_split, ROC_curve, PR_curve, stable_unstable_hist, calibration_plot, unstable_error_fraction"
   ]
  },
  {
   "cell_type": "code",
   "execution_count": 2,
   "metadata": {},
   "outputs": [],
   "source": [
    "datapath = '/mnt/ssd/workspace/stability/MLstability/training_data/'\n",
    "dset = 'resonant/'\n",
    "featurefolder = 'orbsummaryfeaturesxgbNorbits10000.0Nout1000window10/'\n",
    "features = []\n",
    "features += ['avg_iH1', 'avg_iH2']\n",
    "features += ['norm_std_a1', 'norm_max_a1', 'norm_std_window10_a1', 'norm_max_window10_a1']\n",
    "features += ['norm_std_a2', 'norm_max_a2', 'norm_std_window10_a2', 'norm_max_window10_a2']\n",
    "features += ['norm_std_a3', 'norm_max_a3', 'norm_std_window10_a3', 'norm_max_window10_a3']\n",
    "features += ['avg_ecross1', 'std_ecross1', 'max_ecross1', 'min_ecross1']\n",
    "features += ['avg_ecross2', 'std_ecross2', 'max_ecross2', 'min_ecross2']\n",
    "features += ['avg_ecross3', 'std_ecross3', 'max_ecross3', 'min_ecross3']\n",
    "features += ['norm_a1_slope', 'norm_a2_slope', 'norm_a3_slope']\n",
    "features += ['avg_beta12','std_beta12','min_beta12','max_beta12','avg_beta23','std_beta23','min_beta23','max_beta23'] "
   ]
  },
  {
   "cell_type": "code",
   "execution_count": 3,
   "metadata": {
    "scrolled": true
   },
   "outputs": [],
   "source": [
    "trainingdatafolder = datapath+dset+featurefolder\n",
    "trainX, trainY, testX, testY = train_test_split(trainingdatafolder, features)"
   ]
  },
  {
   "cell_type": "code",
   "execution_count": 4,
   "metadata": {},
   "outputs": [
    {
     "name": "stderr",
     "output_type": "stream",
     "text": [
      "/home/dtamayo/miniconda3/envs/p3/lib/python3.7/site-packages/xgboost/core.py:587: FutureWarning: Series.base is deprecated and will be removed in a future version\n",
      "  if getattr(data, 'base', None) is not None and \\\n",
      "/home/dtamayo/miniconda3/envs/p3/lib/python3.7/site-packages/xgboost/core.py:588: FutureWarning: Series.base is deprecated and will be removed in a future version\n",
      "  data.base is not None and isinstance(data, np.ndarray) \\\n"
     ]
    }
   ],
   "source": [
    "space ={\n",
    "        'max_depth': hp.randint('x_max_depth',  20),\n",
    "        'min_child_weight': hp.quniform ('x_min_child', 1, 10, 1),\n",
    "        'subsample': hp.uniform ('x_subsample', 0.8, 1),\n",
    "        'scale_pos_weight': hp.uniform(\"x_pos_weight\", 1, 15),\n",
    "        \"learning_rate\":hp.uniform(\"x_learning_rate\",0.01,0.2),\n",
    "        'colsample_bytree': hp.uniform ('x_tree_colsample', 0.5,1),\n",
    "}\n",
    "\n",
    "dtrain = xgb.DMatrix(trainX, trainY)\n",
    "dtest = xgb.DMatrix(testX, testY)\n",
    "def objective(space):\n",
    "\n",
    "    clf = XGBClassifier(n_estimators = 100, \n",
    "                            max_depth = space['max_depth'], \n",
    "                            min_child_weight =space['min_child_weight'],\n",
    "                            subsample = space['subsample'],\n",
    "                            colsample_bytree =space['colsample_bytree'],\n",
    "                            learning_rate = space['learning_rate'], seed = 0)\n",
    "    \n",
    "    params = clf.get_xgb_params()\n",
    "    #dtest\n",
    "    score = xgb.cv(params, dtrain, nfold = 5, metrics = \"auc\", early_stopping_rounds=10)\n",
    "    #print score\n",
    "    #score = cross_val_score(clf, trainX, trainY, cv = 5, scoring=\"average_precision\")\n",
    "    avg_score =  np.mean(score[\"test-auc-mean\"])\n",
    "    error = np.mean(score[\"test-auc-std\"])\n",
    "    \n",
    "    bst = xgb.train(params, dtrain)\n",
    "    preds = bst.predict(dtest)\n",
    "    test_score = metrics.roc_auc_score(testY, preds)\n",
    "    \n",
    "    print(\"SCORE:\", avg_score, \"ERROR\", error, \"HOLDOUT SCORE\", test_score)\n",
    "\n",
    "    return{'loss':1-test_score, 'status': STATUS_OK, \"cv_score\":avg_score , \"cv_error\":error, \"holdout\":test_score }"
   ]
  },
  {
   "cell_type": "code",
   "execution_count": 5,
   "metadata": {
    "scrolled": true
   },
   "outputs": [
    {
     "name": "stdout",
     "output_type": "stream",
     "text": [
      "SCORE:                                              \n",
      "0.8658687200000001                                  \n",
      "ERROR                                               \n",
      "0.008220779715321674                                \n",
      "HOLDOUT SCORE                                       \n",
      "0.879226903191232                                   \n",
      "SCORE:                                                                        \n",
      "0.8902200999999998                                                            \n",
      "ERROR                                                                         \n",
      "0.006723346313902909                                                          \n",
      "HOLDOUT SCORE                                                                 \n",
      "0.9024051112414626                                                            \n",
      "SCORE:                                                                        \n",
      "0.88051016                                                                    \n",
      "ERROR                                                                         \n",
      "0.007315239244055647                                                          \n",
      "HOLDOUT SCORE                                                                 \n",
      "0.8871362528964843                                                            \n",
      "SCORE:                                                                        \n",
      "0.8897399800000001                                                            \n",
      "ERROR                                                                         \n",
      "0.007182266689403702                                                          \n",
      "HOLDOUT SCORE                                                                 \n",
      "0.9040204277358077                                                            \n",
      "SCORE:                                                                        \n",
      "0.8242855                                                                     \n",
      "ERROR                                                                         \n",
      "0.013484913135252321                                                          \n",
      "HOLDOUT SCORE                                                                 \n",
      "0.8408887914772101                                                            \n",
      "SCORE:                                                                        \n",
      "0.8905476599999999                                                            \n",
      "ERROR                                                                         \n",
      "0.0034616607988222337                                                         \n",
      "HOLDOUT SCORE                                                                 \n",
      "0.9057035241771704                                                            \n",
      "SCORE:                                                                        \n",
      "0.89025476                                                                    \n",
      "ERROR                                                                         \n",
      "0.005461358984954289                                                          \n",
      "HOLDOUT SCORE                                                                 \n",
      "0.9073245417885545                                                            \n",
      "SCORE:                                                                        \n",
      "0.8934542999999999                                                            \n",
      "ERROR                                                                         \n",
      "0.007277807076620693                                                          \n",
      "HOLDOUT SCORE                                                                 \n",
      "0.9099451552540861                                                            \n",
      "SCORE:                                                                        \n",
      "0.8954668400000001                                                            \n",
      "ERROR                                                                         \n",
      "0.005875736247222011                                                          \n",
      "HOLDOUT SCORE                                                                 \n",
      "0.9070939632772047                                                            \n",
      "SCORE:                                                                        \n",
      "0.8921003799999999                                                            \n",
      "ERROR                                                                         \n",
      "0.008861312873843466                                                          \n",
      "HOLDOUT SCORE                                                                 \n",
      "0.9053424534313755                                                            \n",
      "SCORE:                                                                         \n",
      "0.8937403600000001                                                             \n",
      "ERROR                                                                          \n",
      "0.006139613143505066                                                           \n",
      "HOLDOUT SCORE                                                                  \n",
      "0.9084958046113168                                                             \n",
      "SCORE:                                                                         \n",
      "0.89488188                                                                     \n",
      "ERROR                                                                          \n",
      "0.006024760940160647                                                           \n",
      "HOLDOUT SCORE                                                                  \n",
      "0.909336402645825                                                              \n",
      "SCORE:                                                                         \n",
      "0.8955939799999999                                                             \n",
      "ERROR                                                                          \n",
      "0.007168236035560119                                                           \n",
      "HOLDOUT SCORE                                                                  \n",
      "0.9119101402601483                                                             \n",
      "SCORE:                                                                         \n",
      "0.8720881800000001                                                             \n",
      "ERROR                                                                          \n",
      "0.0067547975286322785                                                          \n",
      "HOLDOUT SCORE                                                                  \n",
      "0.8869265784809437                                                             \n",
      "SCORE:                                                                         \n",
      "0.8936321999999999                                                             \n",
      "ERROR                                                                          \n",
      "0.006023382854406363                                                           \n",
      "HOLDOUT SCORE                                                                  \n",
      "0.9086801407289069                                                             \n",
      "SCORE:                                                                         \n",
      "0.89616216                                                                     \n",
      "ERROR                                                                          \n",
      "0.006160884634834187                                                           \n",
      "HOLDOUT SCORE                                                                  \n",
      "0.9118987380260707                                                             \n",
      "SCORE:                                                                         \n",
      "0.8933942799999999                                                             \n",
      "ERROR                                                                          \n",
      "0.005246645864948802                                                           \n",
      "HOLDOUT SCORE                                                                  \n",
      "0.9106495599371103                                                             \n",
      "SCORE:                                                                         \n",
      "0.8933901000000001                                                             \n",
      "ERROR                                                                          \n"
     ]
    },
    {
     "name": "stdout",
     "output_type": "stream",
     "text": [
      "0.004712748652566168                                                           \n",
      "HOLDOUT SCORE                                                                  \n",
      "0.9094136844545742                                                             \n",
      "SCORE:                                                                         \n",
      "0.8915390999999999                                                             \n",
      "ERROR                                                                          \n",
      "0.005897007343072867                                                           \n",
      "HOLDOUT SCORE                                                                  \n",
      "0.9140062509581043                                                             \n",
      "SCORE:                                                                         \n",
      "0.8907082000000001                                                             \n",
      "ERROR                                                                          \n",
      "0.004620786817377992                                                           \n",
      "HOLDOUT SCORE                                                                  \n",
      "0.9096715016362206                                                             \n",
      "SCORE:                                                                         \n",
      "0.8873797800000001                                                             \n",
      "ERROR                                                                          \n",
      "0.006476270353941801                                                           \n",
      "HOLDOUT SCORE                                                                  \n",
      "0.9059258677416863                                                             \n",
      "SCORE:                                                                         \n",
      "0.8946878                                                                      \n",
      "ERROR                                                                          \n",
      "0.006188760225143626                                                           \n",
      "HOLDOUT SCORE                                                                  \n",
      "0.9104823271706368                                                             \n",
      "SCORE:                                                                         \n",
      "0.78873094                                                                     \n",
      "ERROR                                                                          \n",
      "0.016296391896132266                                                           \n",
      "HOLDOUT SCORE                                                                  \n",
      "0.8029960003496683                                                             \n",
      "SCORE:                                                                         \n",
      "0.89319574                                                                     \n",
      "ERROR                                                                          \n",
      "0.00565193086184431                                                            \n",
      "HOLDOUT SCORE                                                                  \n",
      "0.9044214063008744                                                             \n",
      "SCORE:                                                                         \n",
      "0.8889951399999999                                                             \n",
      "ERROR                                                                          \n",
      "0.006407452928072596                                                           \n",
      "HOLDOUT SCORE                                                                  \n",
      "0.904700761035779                                                              \n",
      "SCORE:                                                                         \n",
      "0.5                                                                            \n",
      "ERROR                                                                          \n",
      "0.0                                                                            \n",
      "HOLDOUT SCORE                                                                  \n",
      "0.5                                                                            \n",
      "SCORE:                                                                         \n",
      "0.8904936000000001                                                             \n",
      "ERROR                                                                          \n",
      "0.006535739018075895                                                           \n",
      "HOLDOUT SCORE                                                                  \n",
      "0.9070616569473178                                                             \n",
      "SCORE:                                                                         \n",
      "0.8925979999999999                                                             \n",
      "ERROR                                                                          \n",
      "0.005521612979802609                                                           \n",
      "HOLDOUT SCORE                                                                  \n",
      "0.9050181232176091                                                             \n",
      "SCORE:                                                                         \n",
      "0.89363738                                                                     \n",
      "ERROR                                                                          \n",
      "0.007681873548313209                                                           \n",
      "HOLDOUT SCORE                                                                  \n",
      "0.9107927213205308                                                             \n",
      "SCORE:                                                                         \n",
      "0.89406388                                                                     \n",
      "ERROR                                                                          \n",
      "0.007086767356638821                                                           \n",
      "HOLDOUT SCORE                                                                  \n",
      "0.9095334079123903                                                             \n",
      "SCORE:                                                                         \n",
      "0.89656318                                                                     \n",
      "ERROR                                                                          \n",
      "0.006503148966402188                                                           \n",
      "HOLDOUT SCORE                                                                  \n",
      "0.9143103105335106                                                             \n",
      "SCORE:                                                                         \n",
      "0.88907086                                                                     \n",
      "ERROR                                                                          \n",
      "0.006344490716757231                                                           \n",
      "HOLDOUT SCORE                                                                  \n",
      "0.9050326927389306                                                             \n",
      "SCORE:                                                                         \n",
      "0.8653484                                                                      \n",
      "ERROR                                                                          \n",
      "0.00702767040144144                                                            \n",
      "HOLDOUT SCORE                                                                  \n",
      "0.8882391023147801                                                             \n",
      "SCORE:                                                                         \n",
      "0.88869134                                                                     \n",
      "ERROR                                                                          \n",
      "0.0076064865932131435                                                          \n",
      "HOLDOUT SCORE                                                                  \n",
      "0.9027294414552292                                                             \n",
      "SCORE:                                                                         \n",
      "0.8900838200000001                                                             \n",
      "ERROR                                                                          \n"
     ]
    },
    {
     "name": "stdout",
     "output_type": "stream",
     "text": [
      "0.007062670286995636                                                           \n",
      "HOLDOUT SCORE                                                                  \n",
      "0.9036872291177585                                                             \n",
      "SCORE:                                                                         \n",
      "0.8409595400000001                                                             \n",
      "ERROR                                                                          \n",
      "0.009750131940613188                                                           \n",
      "HOLDOUT SCORE                                                                  \n",
      "0.8625061603736892                                                             \n",
      "SCORE:                                                                         \n",
      "0.88276402                                                                     \n",
      "ERROR                                                                          \n",
      "0.0065561870381620115                                                          \n",
      "HOLDOUT SCORE                                                                  \n",
      "0.8927575542968051                                                             \n",
      "SCORE:                                                                         \n",
      "0.88922118                                                                     \n",
      "ERROR                                                                          \n",
      "0.005545986370343874                                                           \n",
      "HOLDOUT SCORE                                                                  \n",
      "0.9029201121473068                                                             \n",
      "SCORE:                                                                         \n",
      "0.8930303599999998                                                             \n",
      "ERROR                                                                          \n",
      "0.0064614952448546785                                                          \n",
      "HOLDOUT SCORE                                                                  \n",
      "0.9067766010953746                                                             \n",
      "SCORE:                                                                         \n",
      "0.88853396                                                                     \n",
      "ERROR                                                                          \n",
      "0.007129822794945189                                                           \n",
      "HOLDOUT SCORE                                                                  \n",
      "0.9048375878447116                                                             \n",
      "SCORE:                                                                         \n",
      "0.89528476                                                                     \n",
      "ERROR                                                                          \n",
      "0.006944797841173476                                                           \n",
      "HOLDOUT SCORE                                                                  \n",
      "0.9099882303606018                                                             \n",
      "SCORE:                                                                         \n",
      "0.5                                                                            \n",
      "ERROR                                                                          \n",
      "0.0                                                                            \n",
      "HOLDOUT SCORE                                                                  \n",
      "0.5                                                                            \n",
      "SCORE:                                                                         \n",
      "0.87374774                                                                     \n",
      "ERROR                                                                          \n",
      "0.005462292285069332                                                           \n",
      "HOLDOUT SCORE                                                                  \n",
      "0.8878349564624696                                                             \n",
      "SCORE:                                                                         \n",
      "0.8911634200000002                                                             \n",
      "ERROR                                                                          \n",
      "0.00853946245360507                                                            \n",
      "HOLDOUT SCORE                                                                  \n",
      "0.9025438384227416                                                             \n",
      "SCORE:                                                                         \n",
      "0.8930195999999999                                                             \n",
      "ERROR                                                                          \n",
      "0.0067703313631486085                                                          \n",
      "HOLDOUT SCORE                                                                  \n",
      "0.9061672150296649                                                             \n",
      "SCORE:                                                                         \n",
      "0.8914438                                                                      \n",
      "ERROR                                                                          \n",
      "0.006961279900465288                                                           \n",
      "HOLDOUT SCORE                                                                  \n",
      "0.9081626059932676                                                             \n",
      "SCORE:                                                                         \n",
      "0.88797824                                                                     \n",
      "ERROR                                                                          \n",
      "0.006629268274517873                                                           \n",
      "HOLDOUT SCORE                                                                  \n",
      "0.9040387980018219                                                             \n",
      "SCORE:                                                                         \n",
      "0.8134853999999999                                                             \n",
      "ERROR                                                                          \n",
      "0.008117929366714315                                                           \n",
      "HOLDOUT SCORE                                                                  \n",
      "0.8440016013804303                                                             \n",
      "SCORE:                                                                         \n",
      "0.8550141200000001                                                             \n",
      "ERROR                                                                          \n",
      "0.009732115136957955                                                           \n",
      "HOLDOUT SCORE                                                                  \n",
      "0.863221967290791                                                              \n",
      "SCORE:                                                                         \n",
      "0.89488336                                                                     \n",
      "ERROR                                                                          \n",
      "0.006697068173640184                                                           \n",
      "HOLDOUT SCORE                                                                  \n",
      "0.9098862437113511                                                             \n",
      "100%|██████████| 50/50 [01:32<00:00,  1.61s/it, best loss: 0.08568968946648936]\n",
      "Optimization Time: %f seconds 92.10175848007202\n",
      "CPU times: user 1min 31s, sys: 924 ms, total: 1min 32s\n",
      "Wall time: 1min 32s\n"
     ]
    }
   ],
   "source": [
    "%%time\n",
    "trials = Trials()\n",
    "import time\n",
    "start = time.time()\n",
    "best = fmin(fn=objective, space = space, algo = tpe.suggest, max_evals = 50, trials = trials)\n",
    "end = time.time()\n",
    "print(\"Optimization Time: %f seconds\", (end  -start))"
   ]
  },
  {
   "cell_type": "code",
   "execution_count": 6,
   "metadata": {},
   "outputs": [
    {
     "data": {
      "text/plain": [
       "{'x_learning_rate': 0.1830158624492142,\n",
       " 'x_max_depth': 13,\n",
       " 'x_min_child': 8.0,\n",
       " 'x_pos_weight': 13.602944022012974,\n",
       " 'x_subsample': 0.8968785555008084,\n",
       " 'x_tree_colsample': 0.7296147404471879}"
      ]
     },
     "execution_count": 6,
     "metadata": {},
     "output_type": "execute_result"
    }
   ],
   "source": [
    "best"
   ]
  },
  {
   "cell_type": "code",
   "execution_count": 7,
   "metadata": {},
   "outputs": [
    {
     "name": "stdout",
     "output_type": "stream",
     "text": [
      "[0]\ttrain-auc:0.928464+0.0021993\ttest-auc:0.865267+0.0108171\n",
      "[1]\ttrain-auc:0.955679+0.00143372\ttest-auc:0.889126+0.00805272\n",
      "[2]\ttrain-auc:0.964882+0.00188862\ttest-auc:0.897005+0.0059567\n",
      "[3]\ttrain-auc:0.970988+0.00181713\ttest-auc:0.902761+0.00557367\n",
      "[4]\ttrain-auc:0.975703+0.00211998\ttest-auc:0.90674+0.00382844\n",
      "[5]\ttrain-auc:0.979118+0.00198423\ttest-auc:0.908436+0.00462941\n",
      "[6]\ttrain-auc:0.981844+0.00180021\ttest-auc:0.91111+0.00427072\n",
      "[7]\ttrain-auc:0.984114+0.00115011\ttest-auc:0.912745+0.00442322\n",
      "[8]\ttrain-auc:0.986257+0.00111576\ttest-auc:0.914783+0.00436877\n",
      "[9]\ttrain-auc:0.987782+0.00107547\ttest-auc:0.916775+0.00409126\n",
      "   train-auc-mean  train-auc-std  test-auc-mean  test-auc-std\n",
      "0        0.928464       0.002199       0.865267      0.010817\n",
      "1        0.955679       0.001434       0.889126      0.008053\n",
      "2        0.964882       0.001889       0.897005      0.005957\n",
      "3        0.970988       0.001817       0.902761      0.005574\n",
      "4        0.975703       0.002120       0.906740      0.003828\n",
      "5        0.979118       0.001984       0.908436      0.004629\n",
      "6        0.981844       0.001800       0.911110      0.004271\n",
      "7        0.984114       0.001150       0.912745      0.004423\n",
      "8        0.986257       0.001116       0.914783      0.004369\n",
      "9        0.987782       0.001075       0.916775      0.004091\n"
     ]
    },
    {
     "name": "stderr",
     "output_type": "stream",
     "text": [
      "/home/dtamayo/miniconda3/envs/p3/lib/python3.7/site-packages/xgboost/core.py:587: FutureWarning: Series.base is deprecated and will be removed in a future version\n",
      "  if getattr(data, 'base', None) is not None and \\\n",
      "/home/dtamayo/miniconda3/envs/p3/lib/python3.7/site-packages/xgboost/core.py:588: FutureWarning: Series.base is deprecated and will be removed in a future version\n",
      "  data.base is not None and isinstance(data, np.ndarray) \\\n"
     ]
    },
    {
     "name": "stdout",
     "output_type": "stream",
     "text": [
      "0.7944391755263701\n"
     ]
    }
   ],
   "source": [
    "best_xgbc = XGBClassifier(n_estimators=100, scale_pos_weight=best[\"x_pos_weight\"],\n",
    "                         learning_rate = best[\"x_learning_rate\"], \n",
    "                         max_depth = int(best[\"x_max_depth\"]), \n",
    "                         min_child_weight = best[\"x_min_child\"],\n",
    "                         subsample = best[\"x_subsample\"], \n",
    "                         colsample_bytree = best[\"x_tree_colsample\"])\n",
    "params = best_xgbc.get_xgb_params()\n",
    "score = xgb.cv(params, dtrain, nfold = 5, metrics = \"auc\", verbose_eval=True)\n",
    "print(score)\n",
    "d_Train = xgb.DMatrix(trainX, trainY)\n",
    "d_Test = xgb.DMatrix(testX)\n",
    "bst = xgb.train(params, d_Train)\n",
    "preds = bst.predict(d_Test)\n",
    "score = metrics.average_precision_score(testY, preds)\n",
    "print(score)"
   ]
  },
  {
   "cell_type": "code",
   "execution_count": 8,
   "metadata": {},
   "outputs": [
    {
     "data": {
      "text/plain": [
       "XGBClassifier(base_score=0.5, booster='gbtree', colsample_bylevel=1,\n",
       "       colsample_bytree=0.7296147404471879, gamma=0,\n",
       "       learning_rate=0.1830158624492142, max_delta_step=0, max_depth=13,\n",
       "       min_child_weight=8.0, missing=None, n_estimators=100, n_jobs=1,\n",
       "       nthread=None, objective='binary:logistic', random_state=0,\n",
       "       reg_alpha=0, reg_lambda=1, scale_pos_weight=13.602944022012974,\n",
       "       seed=None, silent=True, subsample=0.8968785555008084)"
      ]
     },
     "execution_count": 8,
     "metadata": {},
     "output_type": "execute_result"
    }
   ],
   "source": [
    "model = XGBClassifier(n_estimators=100, scale_pos_weight=best[\"x_pos_weight\"],\n",
    "                         learning_rate = best[\"x_learning_rate\"], \n",
    "                         max_depth = int(best[\"x_max_depth\"]), \n",
    "                         min_child_weight = best[\"x_min_child\"],\n",
    "                         subsample = best[\"x_subsample\"], \n",
    "                         colsample_bytree = best[\"x_tree_colsample\"])\n",
    "\n",
    "model.fit(trainX, trainY)"
   ]
  },
  {
   "cell_type": "code",
   "execution_count": 9,
   "metadata": {},
   "outputs": [
    {
     "data": {
      "text/plain": [
       "Text(0.5, 1.0, 'ROC curve (AUC = 0.926)')"
      ]
     },
     "execution_count": 9,
     "metadata": {},
     "output_type": "execute_result"
    },
    {
     "data": {
      "image/png": "[encoded data removed]",
      "text/plain": [
       "<Figure size 432x288 with 1 Axes>"
      ]
     },
     "metadata": {
      "needs_background": "light"
     },
     "output_type": "display_data"
    }
   ],
   "source": [
    "roc_auc, fpr, tpr, ROCthresholds = ROC_curve(trainingdatafolder, model, features)\n",
    "\n",
    "fig, ax = plt.subplots()\n",
    "ax.plot(fpr, tpr)\n",
    "ax.plot([0, 1], [0, 1], 'k--')\n",
    "ax.set_xlim([0.0, 1.0])\n",
    "ax.set_ylim([0.0, 1.0])\n",
    "ax.set_xlabel('False Positive Rate')\n",
    "ax.set_ylabel('True Positive Rate')\n",
    "ax.set_title('ROC curve (AUC = {0:.3f})'.format(roc_auc))"
   ]
  },
  {
   "cell_type": "code",
   "execution_count": 10,
   "metadata": {},
   "outputs": [
    {
     "name": "stdout",
     "output_type": "stream",
     "text": [
      "Threshold 0.003368971636518836, recall = 1.0, precision = 0.39546783625730997\n",
      "Threshold 0.003609768580645323, recall = 0.9981515711645101, precision = 0.3991130820399113\n",
      "Threshold 0.004017970059067011, recall = 0.9981515711645101, precision = 0.40358744394618834\n",
      "Threshold 0.004578521475195885, recall = 0.9981515711645101, precision = 0.40816326530612246\n",
      "Threshold 0.005026665516197681, recall = 0.9963031423290203, precision = 0.4120795107033639\n",
      "Threshold 0.005345778074115515, recall = 0.9963031423290203, precision = 0.4168600154679041\n",
      "Threshold 0.005756653845310211, recall = 0.9963031423290203, precision = 0.4217527386541471\n",
      "Threshold 0.006456313189119101, recall = 0.9963031423290203, precision = 0.4267616785431512\n",
      "Threshold 0.0073372432962059975, recall = 0.9944547134935305, precision = 0.4310897435897436\n",
      "Threshold 0.007834228686988354, recall = 0.9926062846580407, precision = 0.43552311435523117\n",
      "Threshold 0.008803400211036205, recall = 0.9907578558225508, precision = 0.4400656814449918\n",
      "Threshold 0.009541884064674377, recall = 0.988909426987061, precision = 0.44472152950955945\n",
      "Threshold 0.010493556037545204, recall = 0.988909426987061, precision = 0.4503367003367003\n",
      "Threshold 0.01197305042296648, recall = 0.9870609981515711, precision = 0.45524296675191817\n",
      "Threshold 0.01378712896257639, recall = 0.9852125693160814, precision = 0.46027633851468047\n",
      "Threshold 0.015084468759596348, recall = 0.9833641404805915, precision = 0.4654418197725284\n",
      "Threshold 0.01658768579363823, recall = 0.9796672828096118, precision = 0.4698581560283688\n",
      "Threshold 0.019350338727235794, recall = 0.9796672828096118, precision = 0.47619047619047616\n",
      "Threshold 0.021515266969799995, recall = 0.9796672828096118, precision = 0.48269581056466304\n",
      "Threshold 0.02408967912197113, recall = 0.9796672828096118, precision = 0.48938134810710987\n",
      "Threshold 0.026186244562268257, recall = 0.977818853974122, precision = 0.4953183520599251\n",
      "Threshold 0.02808932587504387, recall = 0.977818853974122, precision = 0.5023741690408358\n",
      "Threshold 0.032615870237350464, recall = 0.9759704251386322, precision = 0.5086705202312138\n",
      "Threshold 0.03727612644433975, recall = 0.9722735674676525, precision = 0.5141739980449658\n",
      "Threshold 0.039823684841394424, recall = 0.9685767097966729, precision = 0.5198412698412699\n",
      "Threshold 0.04537096992135048, recall = 0.9648798521256932, precision = 0.525679758308157\n",
      "Threshold 0.04994722083210945, recall = 0.9574861367837338, precision = 0.5296523517382413\n",
      "Threshold 0.05247899144887924, recall = 0.9519408502772643, precision = 0.5347871235721703\n",
      "Threshold 0.05783582478761673, recall = 0.9482439926062847, precision = 0.5411392405063291\n",
      "Threshold 0.06609387695789337, recall = 0.9482439926062847, precision = 0.5498392282958199\n",
      "Threshold 0.07454657554626465, recall = 0.944547134935305, precision = 0.5566448801742919\n",
      "Threshold 0.08464270085096359, recall = 0.9390018484288355, precision = 0.5625692137320044\n",
      "Threshold 0.09452848136425018, recall = 0.9316081330868762, precision = 0.5675675675675675\n",
      "Threshold 0.10226254165172577, recall = 0.9297597042513863, precision = 0.5761741122565864\n",
      "Threshold 0.11621207743883133, recall = 0.9186691312384473, precision = 0.5792540792540792\n",
      "Threshold 0.12453792989253998, recall = 0.911275415896488, precision = 0.5848161328588375\n",
      "Threshold 0.13510362803936005, recall = 0.9057301293900185, precision = 0.5917874396135265\n",
      "Threshold 0.15571753680706024, recall = 0.8964879852125693, precision = 0.5965559655596556\n",
      "Threshold 0.16649183630943298, recall = 0.88909426987061, precision = 0.6027568922305765\n",
      "Threshold 0.17980161309242249, recall = 0.8835489833641405, precision = 0.6104725415070242\n",
      "Threshold 0.20105192065238953, recall = 0.8724584103512015, precision = 0.6145833333333334\n",
      "Threshold 0.22366878390312195, recall = 0.866913123844732, precision = 0.6228419654714475\n",
      "Threshold 0.2460031807422638, recall = 0.8576709796672828, precision = 0.6287262872628726\n",
      "Threshold 0.28031033277511597, recall = 0.8539741219963032, precision = 0.6390041493775933\n",
      "Threshold 0.30149155855178833, recall = 0.844731977818854, precision = 0.6454802259887006\n",
      "Threshold 0.3211745321750641, recall = 0.8354898336414048, precision = 0.6522366522366523\n",
      "Threshold 0.34809863567352295, recall = 0.833641404805915, precision = 0.6651917404129793\n",
      "Threshold 0.37149327993392944, recall = 0.8280961182994455, precision = 0.6757164404223228\n",
      "Threshold 0.39954888820648193, recall = 0.8188539741219963, precision = 0.683641975308642\n",
      "Threshold 0.43589791655540466, recall = 0.8077634011090573, precision = 0.6903633491311216\n",
      "Threshold 0.4833429455757141, recall = 0.7966728280961183, precision = 0.6974110032362459\n",
      "Threshold 0.5142139196395874, recall = 0.7837338262476895, precision = 0.703150912106136\n",
      "Threshold 0.5524079203605652, recall = 0.767097966728281, precision = 0.70578231292517\n",
      "Threshold 0.579953670501709, recall = 0.7578558225508318, precision = 0.7155322862129145\n",
      "Threshold 0.6279405951499939, recall = 0.7412199630314233, precision = 0.7186379928315412\n",
      "Threshold 0.655515193939209, recall = 0.7301293900184843, precision = 0.7274401473296501\n",
      "Threshold 0.6890892386436462, recall = 0.7153419593345656, precision = 0.7329545454545454\n",
      "Threshold 0.7143886685371399, recall = 0.7042513863216266, precision = 0.7426900584795322\n",
      "Threshold 0.7340922951698303, recall = 0.6931608133086876, precision = 0.7530120481927711\n",
      "Threshold 0.7555640935897827, recall = 0.6746765249537893, precision = 0.7556935817805382\n",
      "Threshold 0.777937114238739, recall = 0.6598890942698706, precision = 0.7628205128205128\n",
      "Threshold 0.7999767065048218, recall = 0.6506469500924215, precision = 0.7770419426048565\n",
      "Threshold 0.8219856023788452, recall = 0.6358595194085028, precision = 0.7853881278538812\n",
      "Threshold 0.8380299210548401, recall = 0.6284658040665434, precision = 0.8037825059101655\n",
      "Threshold 0.8595826029777527, recall = 0.6192236598890942, precision = 0.821078431372549\n",
      "Threshold 0.8716583251953125, recall = 0.609981515711645, precision = 0.8396946564885496\n",
      "Threshold 0.8890246152877808, recall = 0.5878003696857671, precision = 0.8412698412698413\n",
      "Threshold 0.9039689898490906, recall = 0.5656192236598891, precision = 0.8429752066115702\n",
      "Threshold 0.9150955677032471, recall = 0.5452865064695009, precision = 0.8477011494252874\n",
      "Threshold 0.9270583391189575, recall = 0.5304990757855823, precision = 0.8618618618618619\n",
      "Threshold 0.9391664862632751, recall = 0.5064695009242144, precision = 0.8616352201257862\n",
      "Threshold 0.9502348899841309, recall = 0.49168207024029575, precision = 0.8778877887788779\n",
      "Threshold 0.9568732976913452, recall = 0.4676524953789279, precision = 0.8784722222222222\n",
      "Threshold 0.9636267423629761, recall = 0.44731977818853974, precision = 0.8864468864468864\n",
      "Threshold 0.967898428440094, recall = 0.43068391866913125, precision = 0.9031007751937985\n",
      "Threshold 0.974801778793335, recall = 0.4066543438077634, precision = 0.9053497942386831\n",
      "Threshold 0.9801859855651855, recall = 0.3789279112754159, precision = 0.8991228070175439\n",
      "Threshold 0.9832040071487427, recall = 0.3585951940850277, precision = 0.9107981220657277\n",
      "Threshold 0.9868088960647583, recall = 0.34011090573012936, precision = 0.9292929292929293\n",
      "Threshold 0.9895287156105042, recall = 0.32162661737523107, precision = 0.9508196721311475\n",
      "Threshold 0.9918088316917419, recall = 0.29944547134935307, precision = 0.9642857142857143\n",
      "Threshold 0.9929361939430237, recall = 0.2735674676524954, precision = 0.9673202614379085\n",
      "Threshold 0.9942398071289062, recall = 0.2476894639556377, precision = 0.9710144927536232\n",
      "Threshold 0.9951292276382446, recall = 0.22365988909426987, precision = 0.983739837398374\n",
      "Threshold 0.995901882648468, recall = 0.1977818853974122, precision = 0.9907407407407407\n",
      "Threshold 0.9966046810150146, recall = 0.17005545286506468, precision = 0.989247311827957\n",
      "Threshold 0.9972187280654907, recall = 0.14417744916820702, precision = 1.0\n",
      "Threshold 0.9979982972145081, recall = 0.11645101663585952, precision = 1.0\n",
      "Threshold 0.9983385801315308, recall = 0.08872458410351201, precision = 1.0\n",
      "Threshold 0.998940646648407, recall = 0.06099815157116451, precision = 1.0\n",
      "Threshold 0.9994263648986816, recall = 0.033271719038817, precision = 1.0\n",
      "Threshold 0.9998233914375305, recall = 0.005545286506469501, precision = 1.0\n"
     ]
    }
   ],
   "source": [
    "pr_auc, precision, recall, PRthresholds = PR_curve(trainingdatafolder, model, features)\n",
    "for i in range(0,len(recall), 15):\n",
    "    print(\"Threshold {0}, recall = {1}, precision = {2}\".format(PRthresholds[i], recall[i], precision[i]))"
   ]
  },
  {
   "cell_type": "code",
   "execution_count": 11,
   "metadata": {},
   "outputs": [
    {
     "data": {
      "image/png": "[encoded data removed]",
      "text/plain": [
       "<Figure size 432x288 with 1 Axes>"
      ]
     },
     "metadata": {
      "needs_background": "light"
     },
     "output_type": "display_data"
    }
   ],
   "source": [
    "fig, ax = plt.subplots()\n",
    "ax.plot(recall, precision)\n",
    "ax.set_xlim([0.0, 1.0])\n",
    "ax.set_ylim([0.0, 1.0])\n",
    "ax.set_xlabel('Recall')\n",
    "ax.set_ylabel('Precision')\n",
    "ax.set_title(\"AUC Score (Test): {0:.4f}\".format(pr_auc))\n",
    "plt.show()"
   ]
  },
  {
   "cell_type": "code",
   "execution_count": 12,
   "metadata": {},
   "outputs": [
    {
     "data": {
      "text/plain": [
       "(0, 144.10000000000002)"
      ]
     },
     "execution_count": 12,
     "metadata": {},
     "output_type": "execute_result"
    },
    {
     "data": {
      "image/png": "[encoded data removed]",
      "text/plain": [
       "<Figure size 432x288 with 2 Axes>"
      ]
     },
     "metadata": {
      "needs_background": "light"
     },
     "output_type": "display_data"
    }
   ],
   "source": [
    "# Histogram:\n",
    "bins = 50\n",
    "Stable, Unstable = stable_unstable_hist(trainingdatafolder, model, features)\n",
    "\n",
    "fig, ax1 = plt.subplots()\n",
    "n, bins, pathces = ax1.hist(Unstable, bins, alpha=0.5, label='No', color='blue', edgecolor = \"black\")\n",
    "#print(n)\n",
    "ax1.set_xlabel('Predicted Probability', fontsize=14)\n",
    "ax1.set_ylabel('Unstable',  fontsize=14, color='blue')\n",
    "for tl in ax1.get_yticklabels():\n",
    "    tl.set_color('blue')\n",
    "    \n",
    "\n",
    "\n",
    "ax2 = ax1.twinx()\n",
    "n, bins , patches = ax2.hist(Stable, bins, alpha=0.5, label='Yes',color='green', edgecolor = \"black\")\n",
    "#print(n.astype(int))\n",
    "ax2.set_ylabel('Stable', fontsize=14, color='green')\n",
    "for tl in ax2.get_yticklabels():\n",
    "    tl.set_color('green')\n",
    "    \n",
    "    \n",
    "#ax1.set_ylim(ax2.get_ylim())\n",
    "ax1.set_ylim([0,1.1*n[-1]]) # goes up to ~4300\n",
    "ax2.set_ylim([0,1.1*n[-1]]) # goes up to ~2100"
   ]
  },
  {
   "cell_type": "code",
   "execution_count": 13,
   "metadata": {},
   "outputs": [
    {
     "data": {
      "text/plain": [
       "Text(0, 0.5, 'Fraction actually stable')"
      ]
     },
     "execution_count": 13,
     "metadata": {},
     "output_type": "execute_result"
    },
    {
     "data": {
      "image/png": "[encoded data removed]",
      "text/plain": [
       "<Figure size 576x432 with 1 Axes>"
      ]
     },
     "metadata": {
      "needs_background": "light"
     },
     "output_type": "display_data"
    }
   ],
   "source": [
    "bincenters, fracstable, errorbars = calibration_plot(trainingdatafolder, model, features, bins=10)\n",
    "fig, ax = plt.subplots(figsize=(8,6))\n",
    "ax.plot(np.linspace(0,1,100), np.linspace(0,1,100), '--')\n",
    "ax.errorbar(bincenters, fracstable, errorbars)\n",
    "ax.set_xlim([0,1])\n",
    "ax.set_ylim([0,1])\n",
    "ax.set_xlabel('Predicted Probability of Stability')\n",
    "ax.set_ylabel('Fraction actually stable')"
   ]
  },
  {
   "cell_type": "code",
   "execution_count": null,
   "metadata": {},
   "outputs": [],
   "source": [
    "bincenters, errorfracs, errorbars = unstable_error_fraction(trainingdatafolder, model, features, bins=10)\n",
    "fig, ax = plt.subplots(figsize=(8,6))\n",
    "ax.errorbar(bincenters, errorfracs, errorbars)\n",
    "ax.set_ylim([0,1])\n",
    "ax.set_xlabel('Log Instability Time')\n",
    "ax.set_ylabel('Error Fraction')\n",
    "ax.set_title('Fraction of unstable systems mislabeled as stable')"
   ]
  },
  {
   "cell_type": "code",
   "execution_count": 14,
   "metadata": {},
   "outputs": [
    {
     "data": {
      "image/png": "[encoded data removed]",
      "text/plain": [
       "<Figure size 864x576 with 1 Axes>"
      ]
     },
     "metadata": {
      "needs_background": "light"
     },
     "output_type": "display_data"
    }
   ],
   "source": [
    "# feature importances\n",
    "feat_imp = pd.Series(model.get_booster().get_fscore()).sort_values(ascending=False)\n",
    "feat_imp.plot(kind='bar', title='Feature Importances', figsize=(12,8))\n",
    "plt.ylabel('Feature Importance Score')\n",
    "plt.show()"
   ]
  },
  {
   "cell_type": "code",
   "execution_count": 17,
   "metadata": {},
   "outputs": [],
   "source": [
    "dill.dump([model, features, featurefolder], open(datapath+\"../models/orbsummaryfeaturesxgb_resonant.pkl\", \"wb\"))"
   ]
  },
  {
   "cell_type": "code",
   "execution_count": null,
   "metadata": {},
   "outputs": [],
   "source": []
  }
 ],
 "metadata": {
  "anaconda-cloud": {},
  "kernelspec": {
   "display_name": "Python 3",
   "language": "python",
   "name": "python3"
  },
  "language_info": {
   "codemirror_mode": {
    "name": "ipython",
    "version": 3
   },
   "file_extension": ".py",
   "mimetype": "text/x-python",
   "name": "python",
   "nbconvert_exporter": "python",
   "pygments_lexer": "ipython3",
   "version": "3.7.2"
  }
 },
 "nbformat": 4,
 "nbformat_minor": 2
}
