{
 "cells": [
  {
   "cell_type": "code",
   "execution_count": 1,
   "metadata": {},
   "outputs": [],
   "source": [
    "import numpy as np\n",
    "import sklearn\n",
    "import matplotlib.pyplot as plt\n",
    "%matplotlib inline\n",
    "import pandas as pd\n",
    "from sklearn import metrics\n",
    "from sklearn.model_selection import cross_val_score\n",
    "from matplotlib import rc\n",
    "from matplotlib import cm\n",
    "from mpl_toolkits.mplot3d import axes3d\n",
    "from matplotlib.ticker import MaxNLocator\n",
    "import scipy.signal\n",
    "import xgboost as xgb\n",
    "from xgboost.sklearn import XGBClassifier"
   ]
  },
  {
   "cell_type": "code",
   "execution_count": 2,
   "metadata": {
    "scrolled": true
   },
   "outputs": [
    {
     "name": "stdout",
     "output_type": "stream",
     "text": [
      "['Zcross12' 'Zcross13' 'Zcross23' 'maxj' 'maxk' 'maxi1' 'maxi2'\n",
      " 'maxstrength' 'secondres' 'EMmed12' 'EMmax12' 'EMdrift12'\n",
      " 'capseculartscale12' 'EMdetrendedstd12' 'EMrollingstd12' 'DiffcoeffEM12'\n",
      " 'medvarEM12' 'Zmed12' 'Zmax12' 'Zdetrendedstd12' 'Zrollingstd12'\n",
      " 'DiffcoeffZ12' 'medvarZ12' 'Zcomdrift12' 'Zcomrollingstd12'\n",
      " 'phiZcomdrift12' 'phiZcomrollingstd12' 'Zstardrift12' 'Zstarrollingstd12'\n",
      " 'Zcosphistd12' 'medZcosphi12' 'EMmed23' 'EMmax23' 'EMdrift23'\n",
      " 'capseculartscale23' 'EMdetrendedstd23' 'EMrollingstd23' 'DiffcoeffEM23'\n",
      " 'medvarEM23' 'Zmed23' 'Zmax23' 'Zdetrendedstd23' 'Zrollingstd23'\n",
      " 'DiffcoeffZ23' 'medvarZ23' 'Zcomdrift23' 'Zcomrollingstd23'\n",
      " 'phiZcomdrift23' 'phiZcomrollingstd23' 'Zstardrift23' 'Zstarrollingstd23'\n",
      " 'Zcosphistd23' 'medZcosphi23' 'tlyap' 'megno']\n"
     ]
    }
   ],
   "source": [
    "datapath = '/mnt/ssd/workspace/stability/MLstability/training_data/'\n",
    "dset = 'resonant/'\n",
    "features = 'ressummaryfeaturesxgbNorbits10000.0Nout1000/'\n",
    "dataset = pd.read_csv(datapath+dset+features+'trainingdata.csv', index_col = 0)\n",
    "print(dataset.columns.values)"
   ]
  },
  {
   "cell_type": "code",
   "execution_count": 3,
   "metadata": {},
   "outputs": [
    {
     "data": {
      "text/html": [
       "<div>\n",
       "<style scoped>\n",
       "    .dataframe tbody tr th:only-of-type {\n",
       "        vertical-align: middle;\n",
       "    }\n",
       "\n",
       "    .dataframe tbody tr th {\n",
       "        vertical-align: top;\n",
       "    }\n",
       "\n",
       "    .dataframe thead th {\n",
       "        text-align: right;\n",
       "    }\n",
       "</style>\n",
       "<table border=\"1\" class=\"dataframe\">\n",
       "  <thead>\n",
       "    <tr style=\"text-align: right;\">\n",
       "      <th></th>\n",
       "      <th>runstring</th>\n",
       "      <th>instability_time</th>\n",
       "      <th>shadow_instability_time</th>\n",
       "      <th>Stable</th>\n",
       "    </tr>\n",
       "  </thead>\n",
       "  <tbody>\n",
       "    <tr>\n",
       "      <th>9994</th>\n",
       "      <td>0009995.bin</td>\n",
       "      <td>9.990000e+08</td>\n",
       "      <td>9.990000e+08</td>\n",
       "      <td>True</td>\n",
       "    </tr>\n",
       "    <tr>\n",
       "      <th>9995</th>\n",
       "      <td>0009996.bin</td>\n",
       "      <td>3.814426e+06</td>\n",
       "      <td>6.124299e+06</td>\n",
       "      <td>False</td>\n",
       "    </tr>\n",
       "    <tr>\n",
       "      <th>9996</th>\n",
       "      <td>0009997.bin</td>\n",
       "      <td>1.498363e+04</td>\n",
       "      <td>3.320307e+03</td>\n",
       "      <td>False</td>\n",
       "    </tr>\n",
       "    <tr>\n",
       "      <th>9997</th>\n",
       "      <td>0009998.bin</td>\n",
       "      <td>9.419807e+05</td>\n",
       "      <td>8.353625e+05</td>\n",
       "      <td>False</td>\n",
       "    </tr>\n",
       "    <tr>\n",
       "      <th>9998</th>\n",
       "      <td>0009999.bin</td>\n",
       "      <td>1.895071e+07</td>\n",
       "      <td>2.047024e+07</td>\n",
       "      <td>False</td>\n",
       "    </tr>\n",
       "  </tbody>\n",
       "</table>\n",
       "</div>"
      ],
      "text/plain": [
       "        runstring  instability_time  shadow_instability_time  Stable\n",
       "9994  0009995.bin      9.990000e+08             9.990000e+08    True\n",
       "9995  0009996.bin      3.814426e+06             6.124299e+06   False\n",
       "9996  0009997.bin      1.498363e+04             3.320307e+03   False\n",
       "9997  0009998.bin      9.419807e+05             8.353625e+05   False\n",
       "9998  0009999.bin      1.895071e+07             2.047024e+07   False"
      ]
     },
     "execution_count": 3,
     "metadata": {},
     "output_type": "execute_result"
    }
   ],
   "source": [
    "labels = pd.read_csv(datapath+dset+features+'labels.csv', index_col=0)\n",
    "labels.tail()"
   ]
  },
  {
   "cell_type": "code",
   "execution_count": 30,
   "metadata": {},
   "outputs": [],
   "source": [
    "def hasnull(row):\n",
    "    numnulls = row.isnull().sum()\n",
    "    if numnulls == 0:\n",
    "        return 0\n",
    "    else:\n",
    "        return 1\n",
    "\n",
    "dataset['hasnull'] = dataset.apply(hasnull, axis=1)"
   ]
  },
  {
   "cell_type": "code",
   "execution_count": 35,
   "metadata": {},
   "outputs": [
    {
     "data": {
      "text/plain": [
       "(2357,)"
      ]
     },
     "execution_count": 35,
     "metadata": {},
     "output_type": "execute_result"
    }
   ],
   "source": [
    "nulllabels = labels[(dataset['hasnull'] == 1)]['Stable']\n",
    "nulllabels.shape"
   ]
  },
  {
   "cell_type": "code",
   "execution_count": 36,
   "metadata": {},
   "outputs": [
    {
     "data": {
      "text/plain": [
       "382"
      ]
     },
     "execution_count": 36,
     "metadata": {},
     "output_type": "execute_result"
    }
   ],
   "source": [
    "nulllabels.sum()"
   ]
  },
  {
   "cell_type": "code",
   "execution_count": 37,
   "metadata": {},
   "outputs": [
    {
     "data": {
      "text/html": [
       "<div>\n",
       "<style scoped>\n",
       "    .dataframe tbody tr th:only-of-type {\n",
       "        vertical-align: middle;\n",
       "    }\n",
       "\n",
       "    .dataframe tbody tr th {\n",
       "        vertical-align: top;\n",
       "    }\n",
       "\n",
       "    .dataframe thead th {\n",
       "        text-align: right;\n",
       "    }\n",
       "</style>\n",
       "<table border=\"1\" class=\"dataframe\">\n",
       "  <thead>\n",
       "    <tr style=\"text-align: right;\">\n",
       "      <th></th>\n",
       "      <th>Zcross12</th>\n",
       "      <th>Zcross13</th>\n",
       "      <th>Zcross23</th>\n",
       "      <th>maxj</th>\n",
       "      <th>maxk</th>\n",
       "      <th>maxi1</th>\n",
       "      <th>maxi2</th>\n",
       "      <th>maxstrength</th>\n",
       "      <th>secondres</th>\n",
       "      <th>EMmed12</th>\n",
       "      <th>...</th>\n",
       "      <th>Zcomrollingstd23</th>\n",
       "      <th>phiZcomdrift23</th>\n",
       "      <th>phiZcomrollingstd23</th>\n",
       "      <th>Zstardrift23</th>\n",
       "      <th>Zstarrollingstd23</th>\n",
       "      <th>Zcosphistd23</th>\n",
       "      <th>medZcosphi23</th>\n",
       "      <th>tlyap</th>\n",
       "      <th>megno</th>\n",
       "      <th>hasnull</th>\n",
       "    </tr>\n",
       "  </thead>\n",
       "  <tbody>\n",
       "    <tr>\n",
       "      <th>0</th>\n",
       "      <td>0.504063</td>\n",
       "      <td>0.594658</td>\n",
       "      <td>0.060234</td>\n",
       "      <td>12.0</td>\n",
       "      <td>1.0</td>\n",
       "      <td>2.0</td>\n",
       "      <td>3.0</td>\n",
       "      <td>0.048244</td>\n",
       "      <td>0.195509</td>\n",
       "      <td>0.081792</td>\n",
       "      <td>...</td>\n",
       "      <td>0.000753</td>\n",
       "      <td>0.144823</td>\n",
       "      <td>0.004244</td>\n",
       "      <td>0.165598</td>\n",
       "      <td>0.033893</td>\n",
       "      <td>0.013167</td>\n",
       "      <td>-0.342346</td>\n",
       "      <td>1.736817e+05</td>\n",
       "      <td>1.986888</td>\n",
       "      <td>0</td>\n",
       "    </tr>\n",
       "    <tr>\n",
       "      <th>1</th>\n",
       "      <td>0.240504</td>\n",
       "      <td>0.340424</td>\n",
       "      <td>0.080547</td>\n",
       "      <td>9.0</td>\n",
       "      <td>1.0</td>\n",
       "      <td>2.0</td>\n",
       "      <td>3.0</td>\n",
       "      <td>0.020943</td>\n",
       "      <td>0.032165</td>\n",
       "      <td>0.043415</td>\n",
       "      <td>...</td>\n",
       "      <td>0.001800</td>\n",
       "      <td>0.050964</td>\n",
       "      <td>0.002007</td>\n",
       "      <td>0.027374</td>\n",
       "      <td>0.004149</td>\n",
       "      <td>0.069011</td>\n",
       "      <td>-0.684761</td>\n",
       "      <td>8.567894e+04</td>\n",
       "      <td>1.992063</td>\n",
       "      <td>0</td>\n",
       "    </tr>\n",
       "    <tr>\n",
       "      <th>2</th>\n",
       "      <td>0.129660</td>\n",
       "      <td>1.261558</td>\n",
       "      <td>1.001981</td>\n",
       "      <td>6.0</td>\n",
       "      <td>1.0</td>\n",
       "      <td>1.0</td>\n",
       "      <td>2.0</td>\n",
       "      <td>0.067762</td>\n",
       "      <td>0.029946</td>\n",
       "      <td>0.298074</td>\n",
       "      <td>...</td>\n",
       "      <td>0.013802</td>\n",
       "      <td>0.657982</td>\n",
       "      <td>0.019529</td>\n",
       "      <td>0.004231</td>\n",
       "      <td>0.000196</td>\n",
       "      <td>0.020795</td>\n",
       "      <td>0.000067</td>\n",
       "      <td>6.278061e+04</td>\n",
       "      <td>1.980777</td>\n",
       "      <td>0</td>\n",
       "    </tr>\n",
       "    <tr>\n",
       "      <th>5</th>\n",
       "      <td>0.185250</td>\n",
       "      <td>0.259467</td>\n",
       "      <td>0.062617</td>\n",
       "      <td>23.0</td>\n",
       "      <td>2.0</td>\n",
       "      <td>2.0</td>\n",
       "      <td>3.0</td>\n",
       "      <td>0.001197</td>\n",
       "      <td>0.567226</td>\n",
       "      <td>0.208318</td>\n",
       "      <td>...</td>\n",
       "      <td>0.004534</td>\n",
       "      <td>0.158427</td>\n",
       "      <td>0.005228</td>\n",
       "      <td>1.938256</td>\n",
       "      <td>0.211354</td>\n",
       "      <td>0.082473</td>\n",
       "      <td>-0.078168</td>\n",
       "      <td>2.483676e+03</td>\n",
       "      <td>7.008538</td>\n",
       "      <td>0</td>\n",
       "    </tr>\n",
       "    <tr>\n",
       "      <th>6</th>\n",
       "      <td>0.516020</td>\n",
       "      <td>0.760215</td>\n",
       "      <td>0.161076</td>\n",
       "      <td>5.0</td>\n",
       "      <td>1.0</td>\n",
       "      <td>2.0</td>\n",
       "      <td>3.0</td>\n",
       "      <td>0.111359</td>\n",
       "      <td>-1.000000</td>\n",
       "      <td>0.061568</td>\n",
       "      <td>...</td>\n",
       "      <td>0.013276</td>\n",
       "      <td>2.005323</td>\n",
       "      <td>0.054838</td>\n",
       "      <td>0.052864</td>\n",
       "      <td>0.008125</td>\n",
       "      <td>0.012330</td>\n",
       "      <td>-0.399605</td>\n",
       "      <td>-3.462307e+06</td>\n",
       "      <td>2.004720</td>\n",
       "      <td>0</td>\n",
       "    </tr>\n",
       "  </tbody>\n",
       "</table>\n",
       "<p>5 rows × 56 columns</p>\n",
       "</div>"
      ],
      "text/plain": [
       "   Zcross12  Zcross13  Zcross23  maxj  maxk  maxi1  maxi2  maxstrength  \\\n",
       "0  0.504063  0.594658  0.060234  12.0   1.0    2.0    3.0     0.048244   \n",
       "1  0.240504  0.340424  0.080547   9.0   1.0    2.0    3.0     0.020943   \n",
       "2  0.129660  1.261558  1.001981   6.0   1.0    1.0    2.0     0.067762   \n",
       "5  0.185250  0.259467  0.062617  23.0   2.0    2.0    3.0     0.001197   \n",
       "6  0.516020  0.760215  0.161076   5.0   1.0    2.0    3.0     0.111359   \n",
       "\n",
       "   secondres   EMmed12   ...     Zcomrollingstd23  phiZcomdrift23  \\\n",
       "0   0.195509  0.081792   ...             0.000753        0.144823   \n",
       "1   0.032165  0.043415   ...             0.001800        0.050964   \n",
       "2   0.029946  0.298074   ...             0.013802        0.657982   \n",
       "5   0.567226  0.208318   ...             0.004534        0.158427   \n",
       "6  -1.000000  0.061568   ...             0.013276        2.005323   \n",
       "\n",
       "   phiZcomrollingstd23  Zstardrift23  Zstarrollingstd23  Zcosphistd23  \\\n",
       "0             0.004244      0.165598           0.033893      0.013167   \n",
       "1             0.002007      0.027374           0.004149      0.069011   \n",
       "2             0.019529      0.004231           0.000196      0.020795   \n",
       "5             0.005228      1.938256           0.211354      0.082473   \n",
       "6             0.054838      0.052864           0.008125      0.012330   \n",
       "\n",
       "   medZcosphi23         tlyap     megno  hasnull  \n",
       "0     -0.342346  1.736817e+05  1.986888        0  \n",
       "1     -0.684761  8.567894e+04  1.992063        0  \n",
       "2      0.000067  6.278061e+04  1.980777        0  \n",
       "5     -0.078168  2.483676e+03  7.008538        0  \n",
       "6     -0.399605 -3.462307e+06  2.004720        0  \n",
       "\n",
       "[5 rows x 56 columns]"
      ]
     },
     "execution_count": 37,
     "metadata": {},
     "output_type": "execute_result"
    }
   ],
   "source": [
    "features = dataset.columns.values\n",
    "y = labels[(labels['instability_time'] > 1.e4) & (dataset['hasnull'] == 0)]['Stable']\n",
    "X = dataset[(labels['instability_time'] > 1.e4) & (dataset['hasnull'] == 0)][features]\n",
    "X.head()"
   ]
  },
  {
   "cell_type": "code",
   "execution_count": 38,
   "metadata": {},
   "outputs": [
    {
     "data": {
      "text/plain": [
       "(7642, 56)"
      ]
     },
     "execution_count": 38,
     "metadata": {},
     "output_type": "execute_result"
    }
   ],
   "source": [
    "X.shape"
   ]
  },
  {
   "cell_type": "code",
   "execution_count": 53,
   "metadata": {},
   "outputs": [
    {
     "data": {
      "text/plain": [
       "2217"
      ]
     },
     "execution_count": 53,
     "metadata": {},
     "output_type": "execute_result"
    }
   ],
   "source": [
    "y.sum()"
   ]
  },
  {
   "cell_type": "code",
   "execution_count": 40,
   "metadata": {},
   "outputs": [],
   "source": [
    "Nrows = int(0.8*X.shape[0])\n",
    "trainX = X.iloc[:Nrows, :]\n",
    "trainY = y.iloc[:Nrows]\n",
    "testX = X.iloc[Nrows:, :]\n",
    "testY = y.iloc[Nrows:]\n",
    "xgbc = XGBClassifier(seed = 0)"
   ]
  },
  {
   "cell_type": "code",
   "execution_count": 41,
   "metadata": {},
   "outputs": [],
   "source": [
    "from hyperopt import hp, fmin, tpe, STATUS_OK, Trials"
   ]
  },
  {
   "cell_type": "code",
   "execution_count": 42,
   "metadata": {},
   "outputs": [
    {
     "name": "stderr",
     "output_type": "stream",
     "text": [
      "/home/dtamayo/miniconda3/envs/p3/lib/python3.7/site-packages/xgboost/core.py:587: FutureWarning: Series.base is deprecated and will be removed in a future version\n",
      "  if getattr(data, 'base', None) is not None and \\\n",
      "/home/dtamayo/miniconda3/envs/p3/lib/python3.7/site-packages/xgboost/core.py:588: FutureWarning: Series.base is deprecated and will be removed in a future version\n",
      "  data.base is not None and isinstance(data, np.ndarray) \\\n"
     ]
    }
   ],
   "source": [
    "space ={\n",
    "        'max_depth': hp.randint('x_max_depth',  20),\n",
    "        'min_child_weight': hp.quniform ('x_min_child', 1, 10, 1),\n",
    "        'subsample': hp.uniform ('x_subsample', 0.8, 1),\n",
    "        'scale_pos_weight': hp.uniform(\"x_pos_weight\", 1, 15),\n",
    "        \"learning_rate\":hp.uniform(\"x_learning_rate\",0.01,0.2),\n",
    "        'colsample_bytree': hp.uniform ('x_tree_colsample', 0.5,1),\n",
    "}\n",
    "\n",
    "dtrain = xgb.DMatrix(trainX, trainY)\n",
    "dtest = xgb.DMatrix(testX, testY)\n",
    "def objective(space):\n",
    "\n",
    "    clf = XGBClassifier(n_estimators = 100, \n",
    "                            max_depth = space['max_depth'], \n",
    "                            min_child_weight =space['min_child_weight'],\n",
    "                            subsample = space['subsample'],\n",
    "                            colsample_bytree =space['colsample_bytree'],\n",
    "                            learning_rate = space['learning_rate'], seed = 0)\n",
    "    \n",
    "    params = clf.get_xgb_params()\n",
    "    #dtest\n",
    "    score = xgb.cv(params, dtrain, nfold = 5, metrics = \"auc\", early_stopping_rounds=10)\n",
    "    #print score\n",
    "    #score = cross_val_score(clf, trainX, trainY, cv = 5, scoring=\"average_precision\")\n",
    "    avg_score =  np.mean(score[\"test-auc-mean\"])\n",
    "    error = np.mean(score[\"test-auc-std\"])\n",
    "    \n",
    "    bst = xgb.train(params, dtrain)\n",
    "    preds = bst.predict(dtest)\n",
    "    test_score = metrics.roc_auc_score(testY, preds)\n",
    "    \n",
    "    print(\"SCORE:\", avg_score, \"ERROR\", error, \"HOLDOUT SCORE\", test_score)\n",
    "\n",
    "    return{'loss':1-test_score, 'status': STATUS_OK, \"cv_score\":avg_score , \"cv_error\":error, \"holdout\":test_score }"
   ]
  },
  {
   "cell_type": "code",
   "execution_count": 43,
   "metadata": {
    "scrolled": true
   },
   "outputs": [
    {
     "name": "stdout",
     "output_type": "stream",
     "text": [
      "SCORE:                                              \n",
      "0.9141851999999998                                  \n",
      "ERROR                                               \n",
      "0.00695980472437302                                 \n",
      "HOLDOUT SCORE                                       \n",
      "0.922900107671276                                   \n",
      "SCORE:                                                                        \n",
      "0.91343306                                                                    \n",
      "ERROR                                                                         \n",
      "0.011478986716836889                                                          \n",
      "HOLDOUT SCORE                                                                 \n",
      "0.9210168684999013                                                            \n",
      "SCORE:                                                                        \n",
      "0.9240010399999999                                                            \n",
      "ERROR                                                                         \n",
      "0.006231962179948616                                                          \n",
      "HOLDOUT SCORE                                                                 \n",
      "0.9305449698964017                                                            \n",
      "SCORE:                                                                        \n",
      "0.91168786                                                                    \n",
      "ERROR                                                                         \n",
      "0.007274075278599164                                                          \n",
      "HOLDOUT SCORE                                                                 \n",
      "0.915465950471213                                                             \n",
      "SCORE:                                                                        \n",
      "0.91808848                                                                    \n",
      "ERROR                                                                         \n",
      "0.005756337553324721                                                          \n",
      "HOLDOUT SCORE                                                                 \n",
      "0.9240433588598942                                                            \n",
      "SCORE:                                                                        \n",
      "0.9203500800000001                                                            \n",
      "ERROR                                                                         \n",
      "0.005820577446897752                                                          \n",
      "HOLDOUT SCORE                                                                 \n",
      "0.9248448444815447                                                            \n",
      "SCORE:                                                                        \n",
      "0.9203096800000001                                                            \n",
      "ERROR                                                                         \n",
      "0.0066692150312098                                                            \n",
      "HOLDOUT SCORE                                                                 \n",
      "0.9302677264423717                                                            \n",
      "SCORE:                                                                        \n",
      "0.5                                                                           \n",
      "ERROR                                                                         \n",
      "0.0                                                                           \n",
      "HOLDOUT SCORE                                                                 \n",
      "0.5                                                                           \n",
      "SCORE:                                                                        \n",
      "0.89488184                                                                    \n",
      "ERROR                                                                         \n",
      "0.006155318168116972                                                          \n",
      "HOLDOUT SCORE                                                                 \n",
      "0.9014394480133239                                                            \n",
      "SCORE:                                                                        \n",
      "0.9194141799999999                                                            \n",
      "ERROR                                                                         \n",
      "0.006508523586790981                                                          \n",
      "HOLDOUT SCORE                                                                 \n",
      "0.9261120991059656                                                            \n",
      "SCORE:                                                                         \n",
      "0.92125414                                                                     \n",
      "ERROR                                                                          \n",
      "0.006089940430831773                                                           \n",
      "HOLDOUT SCORE                                                                  \n",
      "0.9312980639333487                                                             \n",
      "SCORE:                                                                         \n",
      "0.8836351                                                                      \n",
      "ERROR                                                                          \n",
      "0.007863473756903695                                                           \n",
      "HOLDOUT SCORE                                                                  \n",
      "0.8979360989123992                                                             \n",
      "SCORE:                                                                         \n",
      "0.9181595                                                                      \n",
      "ERROR                                                                          \n",
      "0.00541036416444806                                                            \n",
      "HOLDOUT SCORE                                                                  \n",
      "0.9287585138944339                                                             \n",
      "SCORE:                                                                         \n",
      "0.9200793600000001                                                             \n",
      "ERROR                                                                          \n",
      "0.0066591458186364885                                                          \n",
      "HOLDOUT SCORE                                                                  \n",
      "0.9280386890719704                                                             \n",
      "SCORE:                                                                         \n",
      "0.5                                                                            \n",
      "ERROR                                                                          \n",
      "0.0                                                                            \n",
      "HOLDOUT SCORE                                                                  \n",
      "0.5                                                                            \n",
      "SCORE:                                                                         \n",
      "0.5                                                                            \n",
      "ERROR                                                                          \n",
      "0.0                                                                            \n",
      "HOLDOUT SCORE                                                                  \n",
      "0.5                                                                            \n",
      "SCORE:                                                                         \n",
      "0.8019015399999999                                                             \n",
      "ERROR                                                                          \n",
      "0.017865249413976898                                                           \n",
      "HOLDOUT SCORE                                                                  \n",
      "0.8540822334329393                                                             \n",
      "SCORE:                                                                         \n",
      "0.8941275                                                                      \n",
      "ERROR                                                                          \n"
     ]
    },
    {
     "name": "stdout",
     "output_type": "stream",
     "text": [
      "0.007479041078672019                                                           \n",
      "HOLDOUT SCORE                                                                  \n",
      "0.9016088185597858                                                             \n",
      "SCORE:                                                                         \n",
      "0.91899672                                                                     \n",
      "ERROR                                                                          \n",
      "0.006779952082871664                                                           \n",
      "HOLDOUT SCORE                                                                  \n",
      "0.9240201712255574                                                             \n",
      "SCORE:                                                                         \n",
      "0.9150482799999999                                                             \n",
      "ERROR                                                                          \n",
      "0.00808117084839506                                                            \n",
      "HOLDOUT SCORE                                                                  \n",
      "0.9213455280126785                                                             \n",
      "SCORE:                                                                         \n",
      "0.92087398                                                                     \n",
      "ERROR                                                                          \n",
      "0.0073951386504453485                                                          \n",
      "HOLDOUT SCORE                                                                  \n",
      "0.9279630772208712                                                             \n",
      "SCORE:                                                                         \n",
      "0.9220564199999999                                                             \n",
      "ERROR                                                                          \n",
      "0.007001673752271366                                                           \n",
      "HOLDOUT SCORE                                                                  \n",
      "0.9332942168023648                                                             \n",
      "SCORE:                                                                         \n",
      "0.92160262                                                                    \n",
      "ERROR                                                                         \n",
      "0.00589998427607877                                                           \n",
      "HOLDOUT SCORE                                                                 \n",
      "0.9333355512809656                                                            \n",
      "SCORE:                                                                         \n",
      "0.9215039                                                                      \n",
      "ERROR                                                                          \n",
      "0.006051142846031945                                                           \n",
      "HOLDOUT SCORE                                                                  \n",
      "0.9348024211922878                                                             \n",
      "SCORE:                                                                         \n",
      "0.9180229799999999                                                             \n",
      "ERROR                                                                          \n",
      "0.0057870959951019495                                                          \n",
      "HOLDOUT SCORE                                                                  \n",
      "0.929679970319828                                                              \n",
      "SCORE:                                                                         \n",
      "0.9202000399999999                                                             \n",
      "ERROR                                                                          \n",
      "0.006349221676885564                                                           \n",
      "HOLDOUT SCORE                                                                  \n",
      "0.9299914911463563                                                             \n",
      "SCORE:                                                                         \n",
      "0.9192243                                                                      \n",
      "ERROR                                                                          \n",
      "0.003948772695909946                                                           \n",
      "HOLDOUT SCORE                                                                  \n",
      "0.9279902974872669                                                             \n",
      "SCORE:                                                                         \n",
      "0.9203280200000001                                                             \n",
      "ERROR                                                                          \n",
      "0.007390453167328212                                                           \n",
      "HOLDOUT SCORE                                                                  \n",
      "0.9282010025123297                                                             \n",
      "SCORE:                                                                         \n",
      "0.9203310800000001                                                             \n",
      "ERROR                                                                          \n",
      "0.0073077270382901766                                                          \n",
      "HOLDOUT SCORE                                                                  \n",
      "0.9280477624941021                                                             \n",
      "SCORE:                                                                         \n",
      "0.9189362799999999                                                             \n",
      "ERROR                                                                          \n",
      "0.005571585149620436                                                           \n",
      "HOLDOUT SCORE                                                                  \n",
      "0.9279630772208711                                                             \n",
      "SCORE:                                                                         \n",
      "0.9126231599999999                                                             \n",
      "ERROR                                                                          \n",
      "0.005781841440952298                                                           \n",
      "HOLDOUT SCORE                                                                  \n",
      "0.9185458732059828                                                             \n",
      "SCORE:                                                                         \n",
      "0.91840586                                                                     \n",
      "ERROR                                                                          \n",
      "0.007614380317366884                                                           \n",
      "HOLDOUT SCORE                                                                  \n",
      "0.9287615383684777                                                             \n",
      "SCORE:                                                                         \n",
      "0.9222968399999999                                                             \n",
      "ERROR                                                                          \n",
      "0.005823970952031268                                                           \n",
      "HOLDOUT SCORE                                                                  \n",
      "0.9270002863168763                                                             \n",
      "SCORE:                                                                         \n",
      "0.9182080000000001                                                             \n",
      "ERROR                                                                          \n",
      "0.007562425851719625                                                           \n",
      "HOLDOUT SCORE                                                                  \n",
      "0.9280719582864541                                                             \n",
      "SCORE:                                                                         \n",
      "0.9212084200000001                                                             \n",
      "ERROR                                                                          \n"
     ]
    },
    {
     "name": "stdout",
     "output_type": "stream",
     "text": [
      "0.00636941784401745                                                            \n",
      "HOLDOUT SCORE                                                                  \n",
      "0.9282594756771796                                                             \n",
      "SCORE:                                                                         \n",
      "0.9196105200000002                                                             \n",
      "ERROR                                                                          \n",
      "0.005667186082321581                                                           \n",
      "HOLDOUT SCORE                                                                  \n",
      "0.9250051416058748                                                             \n",
      "SCORE:                                                                         \n",
      "0.8845460199999999                                                             \n",
      "ERROR                                                                          \n",
      "0.00830178000801198                                                            \n",
      "HOLDOUT SCORE                                                                  \n",
      "0.9059983385555919                                                             \n",
      "SCORE:                                                                         \n",
      "0.9153941600000002                                                             \n",
      "ERROR                                                                          \n",
      "0.007401569594173821                                                           \n",
      "HOLDOUT SCORE                                                                  \n",
      "0.9231592042810421                                                             \n",
      "SCORE:                                                                         \n",
      "0.9191226800000001                                                             \n",
      "ERROR                                                                          \n",
      "0.00469194329851089                                                            \n",
      "HOLDOUT SCORE                                                                  \n",
      "0.9285518415014297                                                             \n",
      "SCORE:                                                                         \n",
      "0.91842374                                                                     \n",
      "ERROR                                                                          \n",
      "0.006930476831419108                                                           \n",
      "HOLDOUT SCORE                                                                  \n",
      "0.9265435907362376                                                             \n",
      "SCORE:                                                                         \n",
      "0.92095734                                                                     \n",
      "ERROR                                                                          \n",
      "0.0047310728902446395                                                          \n",
      "HOLDOUT SCORE                                                                  \n",
      "0.9333325268069216                                                             \n",
      "SCORE:                                                                         \n",
      "0.9202358199999999                                                             \n",
      "ERROR                                                                          \n",
      "0.0072636323609543505                                                          \n",
      "HOLDOUT SCORE                                                                  \n",
      "0.9295196731954979                                                             \n",
      "SCORE:                                                                         \n",
      "0.8494088000000002                                                             \n",
      "ERROR                                                                          \n",
      "0.013588404138408358                                                           \n",
      "HOLDOUT SCORE                                                                  \n",
      "0.8851990305552531                                                             \n",
      "SCORE:                                                                         \n",
      "0.9100193399999998                                                             \n",
      "ERROR                                                                          \n",
      "0.005967433471346151                                                           \n",
      "HOLDOUT SCORE                                                                  \n",
      "0.917383467015086                                                              \n",
      "SCORE:                                                                         \n",
      "0.92093156                                                                     \n",
      "ERROR                                                                          \n",
      "0.007046769312006247                                                           \n",
      "HOLDOUT SCORE                                                                  \n",
      "0.9300035890425322                                                             \n",
      "SCORE:                                                                         \n",
      "0.9160676599999998                                                             \n",
      "ERROR                                                                          \n",
      "0.005786147932911706                                                           \n",
      "HOLDOUT SCORE                                                                  \n",
      "0.9273561660960492                                                             \n",
      "SCORE:                                                                         \n",
      "0.9199701599999999                                                             \n",
      "ERROR                                                                          \n",
      "0.00619263057706903                                                            \n",
      "HOLDOUT SCORE                                                                  \n",
      "0.9266181944293221                                                             \n",
      "SCORE:                                                                         \n",
      "0.9173740800000001                                                             \n",
      "ERROR                                                                          \n",
      "0.006092975686127151                                                           \n",
      "HOLDOUT SCORE                                                                  \n",
      "0.9259286143472983                                                             \n",
      "SCORE:                                                                         \n",
      "0.9192307799999998                                                             \n",
      "ERROR                                                                          \n",
      "0.006608011584712334                                                           \n",
      "HOLDOUT SCORE                                                                  \n",
      "0.9286627388830415                                                             \n",
      "SCORE:                                                                         \n",
      "0.9148401399999997                                                             \n",
      "ERROR                                                                          \n",
      "0.006578304990101594                                                           \n",
      "HOLDOUT SCORE                                                                  \n",
      "0.9268188178742383                                                             \n",
      "100%|██████████| 50/50 [01:21<00:00,  1.69s/it, best loss: 0.06519757880771215]\n",
      "Optimization Time: %f seconds 81.38704776763916\n",
      "CPU times: user 1min 21s, sys: 597 ms, total: 1min 21s\n",
      "Wall time: 1min 21s\n"
     ]
    }
   ],
   "source": [
    "%%time\n",
    "trials = Trials()\n",
    "import time\n",
    "start = time.time()\n",
    "best = fmin(fn=objective, space = space, algo = tpe.suggest, max_evals = 50, trials = trials)\n",
    "end = time.time()\n",
    "print(\"Optimization Time: %f seconds\", (end  -start))"
   ]
  },
  {
   "cell_type": "code",
   "execution_count": 44,
   "metadata": {},
   "outputs": [
    {
     "data": {
      "text/plain": [
       "{'x_learning_rate': 0.16436615293185708,\n",
       " 'x_max_depth': 10,\n",
       " 'x_min_child': 6.0,\n",
       " 'x_pos_weight': 12.357199591940875,\n",
       " 'x_subsample': 0.8086509089881382,\n",
       " 'x_tree_colsample': 0.5106215741084884}"
      ]
     },
     "execution_count": 44,
     "metadata": {},
     "output_type": "execute_result"
    }
   ],
   "source": [
    "#fit the smaller rage \n",
    "#{'x_learning_rate': 0.07419653015127085,\n",
    "# 'x_max_depth': 8,\n",
    "# 'x_min_child': 4.0,\n",
    "# 'x_pos_weight': 8.889472764333366,\n",
    "# 'x_subsample': 0.9380315392096068,\n",
    "# 'x_tree_colsample': 0.734517699234413}\n",
    "\n",
    "#{'x_learning_rate': 0.19890696372714528,\n",
    "# 'x_max_depth': 17,\n",
    "# 'x_min_child': 8.0,\n",
    "# 'x_pos_weight': 12.505309968632893,\n",
    "# 'x_subsample': 0.9409498631912948,\n",
    "# 'x_tree_colsample': 0.7528946858805113}\n",
    "\n",
    "best"
   ]
  },
  {
   "cell_type": "code",
   "execution_count": 45,
   "metadata": {},
   "outputs": [
    {
     "name": "stdout",
     "output_type": "stream",
     "text": [
      "[0]\ttrain-auc:0.924772+0.00393018\ttest-auc:0.885611+0.00596793\n",
      "[1]\ttrain-auc:0.949024+0.00336692\ttest-auc:0.897286+0.00755943\n",
      "[2]\ttrain-auc:0.95756+0.0032578\ttest-auc:0.903338+0.0089805\n",
      "[3]\ttrain-auc:0.966987+0.00256003\ttest-auc:0.911327+0.0074941\n",
      "[4]\ttrain-auc:0.970607+0.0025144\ttest-auc:0.915669+0.00661236\n",
      "[5]\ttrain-auc:0.974308+0.00296068\ttest-auc:0.918554+0.00685808\n",
      "[6]\ttrain-auc:0.977505+0.00242522\ttest-auc:0.921402+0.00700421\n",
      "[7]\ttrain-auc:0.979424+0.00232432\ttest-auc:0.923433+0.00664427\n",
      "[8]\ttrain-auc:0.980951+0.00225651\ttest-auc:0.925437+0.00643118\n",
      "[9]\ttrain-auc:0.982438+0.00193919\ttest-auc:0.926797+0.00603022\n",
      "   train-auc-mean  train-auc-std  test-auc-mean  test-auc-std\n",
      "0        0.924772       0.003930       0.885611      0.005968\n",
      "1        0.949024       0.003367       0.897286      0.007559\n",
      "2        0.957560       0.003258       0.903338      0.008980\n",
      "3        0.966987       0.002560       0.911327      0.007494\n",
      "4        0.970607       0.002514       0.915669      0.006612\n",
      "5        0.974308       0.002961       0.918554      0.006858\n",
      "6        0.977505       0.002425       0.921402      0.007004\n",
      "7        0.979424       0.002324       0.923433      0.006644\n",
      "8        0.980951       0.002257       0.925437      0.006431\n",
      "9        0.982438       0.001939       0.926797      0.006030\n"
     ]
    },
    {
     "name": "stderr",
     "output_type": "stream",
     "text": [
      "/home/dtamayo/miniconda3/envs/p3/lib/python3.7/site-packages/xgboost/core.py:587: FutureWarning: Series.base is deprecated and will be removed in a future version\n",
      "  if getattr(data, 'base', None) is not None and \\\n",
      "/home/dtamayo/miniconda3/envs/p3/lib/python3.7/site-packages/xgboost/core.py:588: FutureWarning: Series.base is deprecated and will be removed in a future version\n",
      "  data.base is not None and isinstance(data, np.ndarray) \\\n"
     ]
    },
    {
     "name": "stdout",
     "output_type": "stream",
     "text": [
      "0.8333161681000623\n"
     ]
    }
   ],
   "source": [
    "best_xgbc = XGBClassifier(n_estimators=100, scale_pos_weight=best[\"x_pos_weight\"],\n",
    "                         learning_rate = best[\"x_learning_rate\"], \n",
    "                         max_depth = int(best[\"x_max_depth\"]), \n",
    "                         min_child_weight = best[\"x_min_child\"],\n",
    "                         subsample = best[\"x_subsample\"], \n",
    "                         colsample_bytree = best[\"x_tree_colsample\"])\n",
    "params = best_xgbc.get_xgb_params()\n",
    "score = xgb.cv(params, dtrain, nfold = 5, metrics = \"auc\", verbose_eval=True)\n",
    "print(score)\n",
    "d_Train = xgb.DMatrix(trainX, trainY)\n",
    "d_Test = xgb.DMatrix(testX)\n",
    "bst = xgb.train(params, d_Train)\n",
    "preds = bst.predict(d_Test)\n",
    "score = metrics.average_precision_score(testY, preds)\n",
    "print(score)"
   ]
  },
  {
   "cell_type": "code",
   "execution_count": 46,
   "metadata": {},
   "outputs": [
    {
     "name": "stdout",
     "output_type": "stream",
     "text": [
      "0.9409239566572706\n",
      "0.8780836941707414\n"
     ]
    }
   ],
   "source": [
    "#try testing on the holdout set with these parameters\n",
    "from sklearn.metrics import roc_auc_score\n",
    "\n",
    "    \n",
    "best_xgbc = XGBClassifier(n_estimators=100, scale_pos_weight=best[\"x_pos_weight\"],\n",
    "                         learning_rate = best[\"x_learning_rate\"], \n",
    "                         max_depth = int(best[\"x_max_depth\"]), \n",
    "                         min_child_weight = best[\"x_min_child\"],\n",
    "                         subsample = best[\"x_subsample\"], \n",
    "                         colsample_bytree = best[\"x_tree_colsample\"])\n",
    "\n",
    "best_xgbc.fit(trainX, trainY)\n",
    "preds = best_xgbc.predict_proba(testX)[:,1]\n",
    "auc_Score = roc_auc_score(testY,preds)\n",
    "print(auc_Score)\n",
    "print(metrics.average_precision_score(testY, preds))"
   ]
  },
  {
   "cell_type": "code",
   "execution_count": 47,
   "metadata": {},
   "outputs": [
    {
     "name": "stdout",
     "output_type": "stream",
     "text": [
      "{'x_learning_rate': 0.16436615293185708, 'x_max_depth': 10, 'x_min_child': 6.0, 'x_pos_weight': 12.357199591940875, 'x_subsample': 0.8086509089881382, 'x_tree_colsample': 0.5106215741084884}\n"
     ]
    }
   ],
   "source": [
    "print(best)"
   ]
  },
  {
   "cell_type": "code",
   "execution_count": 48,
   "metadata": {},
   "outputs": [
    {
     "data": {
      "text/plain": [
       "Text(0.5, 1.0, 'ROC curve (AUC = 0.941)')"
      ]
     },
     "execution_count": 48,
     "metadata": {},
     "output_type": "execute_result"
    },
    {
     "data": {
      "image/png": "[encoded data removed]",
      "text/plain": [
       "<Figure size 432x288 with 1 Axes>"
      ]
     },
     "metadata": {
      "needs_background": "light"
     },
     "output_type": "display_data"
    }
   ],
   "source": [
    "#the ROCAUC score is now 98.0 witht eh 2080 split compared to the 40 60 from before \n",
    "from sklearn.metrics import roc_curve\n",
    "fpr, tpr, thresholds = roc_curve(testY, preds)\n",
    "fig, ax = plt.subplots()\n",
    "ax.plot(fpr, tpr)\n",
    "ax.plot([0, 1], [0, 1], 'k--')\n",
    "ax.set_xlim([0.0, 1.0])\n",
    "ax.set_ylim([0.0, 1.0])\n",
    "ax.set_xlabel('False Positive Rate')\n",
    "ax.set_ylabel('True Positive Rate')\n",
    "ax.set_title('ROC curve (AUC = {0:.3f})'.format(metrics.roc_auc_score(testY, preds)))"
   ]
  },
  {
   "cell_type": "code",
   "execution_count": 49,
   "metadata": {},
   "outputs": [
    {
     "name": "stdout",
     "output_type": "stream",
     "text": [
      "Threshold 0.001982731046155095, recall = 1.0, precision = 0.4053819444444444\n",
      "Threshold 0.0021563975606113672, recall = 0.9978586723768736, precision = 0.4098504837291117\n",
      "Threshold 0.002478754846379161, recall = 0.9978586723768736, precision = 0.41532976827094475\n",
      "Threshold 0.0027039265260100365, recall = 0.9978586723768736, precision = 0.4209575429087624\n",
      "Threshold 0.002968168118968606, recall = 0.9978586723768736, precision = 0.4267399267399267\n",
      "Threshold 0.003203503554686904, recall = 0.9957173447537473, precision = 0.43175487465181056\n",
      "Threshold 0.003506479784846306, recall = 0.9957173447537473, precision = 0.4378531073446328\n",
      "Threshold 0.004035271238535643, recall = 0.9957173447537473, precision = 0.44412607449856734\n",
      "Threshold 0.004369161557406187, recall = 0.9935760171306209, precision = 0.4496124031007752\n",
      "Threshold 0.004839712753891945, recall = 0.9892933618843683, precision = 0.45427728613569324\n",
      "Threshold 0.00514603964984417, recall = 0.9892933618843683, precision = 0.46107784431137727\n",
      "Threshold 0.006532199215143919, recall = 0.9892933618843683, precision = 0.46808510638297873\n",
      "Threshold 0.007110671140253544, recall = 0.9892933618843683, precision = 0.47530864197530864\n",
      "Threshold 0.008382958360016346, recall = 0.9892933618843683, precision = 0.4827586206896552\n",
      "Threshold 0.009420626796782017, recall = 0.9892933618843683, precision = 0.49044585987261147\n",
      "Threshold 0.010912586003541946, recall = 0.9892933618843683, precision = 0.49838187702265374\n",
      "Threshold 0.012929020449519157, recall = 0.987152034261242, precision = 0.5054824561403509\n",
      "Threshold 0.014381356537342072, recall = 0.987152034261242, precision = 0.5139353400222966\n",
      "Threshold 0.016242848709225655, recall = 0.9828693790149893, precision = 0.5204081632653061\n",
      "Threshold 0.01832721009850502, recall = 0.9828693790149893, precision = 0.5294117647058824\n",
      "Threshold 0.021334871649742126, recall = 0.9785867237687366, precision = 0.5363849765258216\n",
      "Threshold 0.0269197728484869, recall = 0.9785867237687366, precision = 0.5459976105137395\n",
      "Threshold 0.03042023442685604, recall = 0.9785867237687366, precision = 0.5559610705596107\n",
      "Threshold 0.036370765417814255, recall = 0.974304068522484, precision = 0.563816604708798\n",
      "Threshold 0.04373171925544739, recall = 0.9678800856531049, precision = 0.5707070707070707\n",
      "Threshold 0.05395836755633354, recall = 0.9635974304068522, precision = 0.5791505791505791\n",
      "Threshold 0.06413956731557846, recall = 0.961456102783726, precision = 0.589238845144357\n",
      "Threshold 0.07578869163990021, recall = 0.9593147751605996, precision = 0.5997322623828648\n",
      "Threshold 0.09515796601772308, recall = 0.9571734475374732, precision = 0.610655737704918\n",
      "Threshold 0.10713407397270203, recall = 0.9550321199143469, precision = 0.6220362622036262\n",
      "Threshold 0.12071284651756287, recall = 0.9507494646680942, precision = 0.6324786324786325\n",
      "Threshold 0.1328294724225998, recall = 0.9421841541755889, precision = 0.6404657933042213\n",
      "Threshold 0.15927407145500183, recall = 0.9400428265524625, precision = 0.6532738095238095\n",
      "Threshold 0.18334391713142395, recall = 0.9314775160599572, precision = 0.6621004566210046\n",
      "Threshold 0.21191783249378204, recall = 0.9207708779443254, precision = 0.6697819314641744\n",
      "Threshold 0.24777060747146606, recall = 0.9186295503211992, precision = 0.6842105263157895\n",
      "Threshold 0.28533434867858887, recall = 0.9122055674518201, precision = 0.696078431372549\n",
      "Threshold 0.32717034220695496, recall = 0.9057815845824411, precision = 0.7085427135678392\n",
      "Threshold 0.3879314661026001, recall = 0.8972162740899358, precision = 0.7199312714776632\n",
      "Threshold 0.42069441080093384, recall = 0.8822269807280514, precision = 0.7266313932980599\n",
      "Threshold 0.46956270933151245, recall = 0.8736616702355461, precision = 0.7391304347826086\n",
      "Threshold 0.5053818225860596, recall = 0.8650963597430407, precision = 0.7523277467411545\n",
      "Threshold 0.5405123829841614, recall = 0.8522483940042827, precision = 0.7624521072796935\n",
      "Threshold 0.5982229113578796, recall = 0.8436830835117773, precision = 0.777120315581854\n",
      "Threshold 0.6385388970375061, recall = 0.828693790149893, precision = 0.7865853658536586\n",
      "Threshold 0.697981059551239, recall = 0.8072805139186295, precision = 0.790356394129979\n",
      "Threshold 0.7477390170097351, recall = 0.7901498929336188, precision = 0.7987012987012987\n",
      "Threshold 0.7857955694198608, recall = 0.7730192719486081, precision = 0.8076062639821029\n",
      "Threshold 0.8204765319824219, recall = 0.7580299785867237, precision = 0.8194444444444444\n",
      "Threshold 0.8505542874336243, recall = 0.7366167023554604, precision = 0.8249400479616307\n",
      "Threshold 0.8738908767700195, recall = 0.7109207708779444, precision = 0.8258706467661692\n",
      "Threshold 0.8863649964332581, recall = 0.6916488222698073, precision = 0.834625322997416\n",
      "Threshold 0.9111796021461487, recall = 0.6702355460385439, precision = 0.8413978494623656\n",
      "Threshold 0.925771176815033, recall = 0.6445396145610278, precision = 0.8431372549019608\n",
      "Threshold 0.9427540898323059, recall = 0.6209850107066381, precision = 0.847953216374269\n",
      "Threshold 0.9473938345909119, recall = 0.6017130620985011, precision = 0.8593272171253823\n",
      "Threshold 0.9544417858123779, recall = 0.582441113490364, precision = 0.8717948717948718\n",
      "Threshold 0.9637188911437988, recall = 0.556745182012848, precision = 0.8754208754208754\n",
      "Threshold 0.9704235196113586, recall = 0.5353319057815846, precision = 0.8865248226950354\n",
      "Threshold 0.9750937819480896, recall = 0.5117773019271948, precision = 0.8951310861423221\n",
      "Threshold 0.9807852506637573, recall = 0.4860813704496788, precision = 0.9007936507936508\n",
      "Threshold 0.9836670160293579, recall = 0.47109207708779444, precision = 0.9282700421940928\n",
      "Threshold 0.9862048029899597, recall = 0.4475374732334047, precision = 0.9414414414414415\n",
      "Threshold 0.9873644709587097, recall = 0.4197002141327623, precision = 0.9468599033816425\n",
      "Threshold 0.9894248247146606, recall = 0.39186295503211993, precision = 0.953125\n",
      "Threshold 0.9918755292892456, recall = 0.3640256959314775, precision = 0.96045197740113\n",
      "Threshold 0.9939563870429993, recall = 0.3361884368308351, precision = 0.9691358024691358\n",
      "Threshold 0.9947531223297119, recall = 0.30406852248394006, precision = 0.9659863945578231\n",
      "Threshold 0.995448648929596, recall = 0.2740899357601713, precision = 0.9696969696969697\n",
      "Threshold 0.9963305592536926, recall = 0.24411134903640258, precision = 0.9743589743589743\n",
      "Threshold 0.9969815611839294, recall = 0.21413276231263384, precision = 0.9803921568627451\n",
      "Threshold 0.9976130723953247, recall = 0.18629550321199143, precision = 1.0\n",
      "Threshold 0.9979231953620911, recall = 0.15417558886509636, precision = 1.0\n",
      "Threshold 0.9984820485115051, recall = 0.12205567451820129, precision = 1.0\n",
      "Threshold 0.9988681077957153, recall = 0.08993576017130621, precision = 1.0\n",
      "Threshold 0.9992344379425049, recall = 0.057815845824411134, precision = 1.0\n",
      "Threshold 0.9996795654296875, recall = 0.02569593147751606, precision = 1.0\n"
     ]
    }
   ],
   "source": [
    "precision, recall, thresholds = sklearn.metrics.precision_recall_curve(testY, preds)\n",
    "for i in range(0,len(recall), 15):\n",
    "    print(\"Threshold {0}, recall = {1}, precision = {2}\".format(thresholds[i], recall[i], precision[i]))"
   ]
  },
  {
   "cell_type": "code",
   "execution_count": 50,
   "metadata": {},
   "outputs": [
    {
     "name": "stdout",
     "output_type": "stream",
     "text": [
      "AUC Score (Test): 0.878084\n"
     ]
    },
    {
     "data": {
      "image/png": "[encoded data removed]",
      "text/plain": [
       "<Figure size 432x288 with 1 Axes>"
      ]
     },
     "metadata": {
      "needs_background": "light"
     },
     "output_type": "display_data"
    }
   ],
   "source": [
    "#draw precison recall curve\n",
    "from sklearn import metrics\n",
    "from sklearn.metrics import precision_recall_curve\n",
    "precision, recall, thresholds = precision_recall_curve(testY, preds)\n",
    "fig, ax = plt.subplots()\n",
    "ax.plot(recall, precision)\n",
    "ax.set_xlim([0.0, 1.0])\n",
    "ax.set_ylim([0.0, 1.0])\n",
    "ax.set_xlabel('Recall')\n",
    "ax.set_ylabel('Precision')\n",
    "ax.set_title('Precision Recall Curve')\n",
    "print(\"AUC Score (Test): %f\" % metrics.average_precision_score(testY, preds))\n",
    "plt.show()"
   ]
  },
  {
   "cell_type": "code",
   "execution_count": 51,
   "metadata": {},
   "outputs": [
    {
     "name": "stdout",
     "output_type": "stream",
     "text": [
      "[0.9902964  0.9111796  0.9971957  0.24748491 0.41916996]\n",
      "467 1062\n",
      "[660.  56.  28.  22.  16.  19.  21.   8.   8.   7.   7.  11.   8.   5.\n",
      "   4.   6.   5.   4.   3.   4.   4.   6.   4.   7.   4.   8.   3.   1.\n",
      "   6.   5.   2.   5.   2.   1.   3.   1.   3.   3.   3.   6.   5.   1.\n",
      "   6.   3.   5.   5.   5.  14.  12.  27.]\n",
      "[  9   5   3   2   1   3   4   1   4   3   2   0   2   2   1   2   1   1\n",
      "   2   2   2   7   0   1   3   3   2   2   2   1   4   3   3   3   4   3\n",
      "   3   5   3   3   6   7   6  12  11  11  15  26  29 144]\n"
     ]
    },
    {
     "data": {
      "text/plain": [
       "(0, 350)"
      ]
     },
     "execution_count": 51,
     "metadata": {},
     "output_type": "execute_result"
    },
    {
     "data": {
      "image/png": "[encoded data removed]",
      "text/plain": [
       "<Figure size 432x288 with 2 Axes>"
      ]
     },
     "metadata": {
      "needs_background": "light"
     },
     "output_type": "display_data"
    }
   ],
   "source": [
    "# Histogram:\n",
    "bins = 50\n",
    "Stable=preds[np.where(testY==1)]\n",
    "print(Stable[:5][:])\n",
    "Unstable=preds[np.where(testY==0)]\n",
    "print(Stable.size, Unstable.size)\n",
    "\n",
    "\n",
    "fig, ax1 = plt.subplots()\n",
    "n, bins, pathces = ax1.hist(Unstable, bins, alpha=0.5, label='No', color='blue', edgecolor = \"black\")\n",
    "print(n)\n",
    "ax1.set_xlabel('Predicted Probability', fontsize=14)\n",
    "ax1.set_ylabel('Unstable',  fontsize=14, color='blue')\n",
    "for tl in ax1.get_yticklabels():\n",
    "    tl.set_color('blue')\n",
    "    \n",
    "\n",
    "\n",
    "ax2 = ax1.twinx()\n",
    "n, bins , patches = ax2.hist(Stable, bins, alpha=0.5, label='Yes',color='green', edgecolor = \"black\")\n",
    "print(n.astype(int))\n",
    "ax2.set_ylabel('Stable', fontsize=14, color='green')\n",
    "for tl in ax2.get_yticklabels():\n",
    "    tl.set_color('green')\n",
    "    \n",
    "    \n",
    "#ax1.set_ylim(ax2.get_ylim())\n",
    "ax1.set_ylim([0,350]) # goes up to ~4300\n",
    "ax2.set_ylim([0,350]) # goes up to ~2100"
   ]
  },
  {
   "cell_type": "code",
   "execution_count": 52,
   "metadata": {},
   "outputs": [
    {
     "data": {
      "image/png": "[encoded data removed]",
      "text/plain": [
       "<Figure size 864x576 with 1 Axes>"
      ]
     },
     "metadata": {
      "needs_background": "light"
     },
     "output_type": "display_data"
    }
   ],
   "source": [
    "# feature importances\n",
    "feat_imp = pd.Series(best_xgbc.get_booster().get_fscore()).sort_values(ascending=False)\n",
    "feat_imp.plot(kind='bar', title='Feature Importances', figsize=(12,8))\n",
    "plt.ylabel('Feature Importance Score')\n",
    "plt.show()"
   ]
  },
  {
   "cell_type": "code",
   "execution_count": 20,
   "metadata": {},
   "outputs": [],
   "source": [
    "import dill\n",
    "import sys\n",
    "dill.dump([best_xgbc, features], open(datapath+\"../models/ressummaryfeaturesxgb_resonant.pkl\", \"wb\"))"
   ]
  },
  {
   "cell_type": "code",
   "execution_count": null,
   "metadata": {},
   "outputs": [],
   "source": []
  }
 ],
 "metadata": {
  "anaconda-cloud": {},
  "kernelspec": {
   "display_name": "Python 3",
   "language": "python",
   "name": "python3"
  },
  "language_info": {
   "codemirror_mode": {
    "name": "ipython",
    "version": 3
   },
   "file_extension": ".py",
   "mimetype": "text/x-python",
   "name": "python",
   "nbconvert_exporter": "python",
   "pygments_lexer": "ipython3",
   "version": "3.7.2"
  }
 },
 "nbformat": 4,
 "nbformat_minor": 2
}
