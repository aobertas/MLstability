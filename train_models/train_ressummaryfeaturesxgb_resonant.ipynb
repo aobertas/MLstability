{
 "cells": [
  {
   "cell_type": "code",
   "execution_count": 1,
   "metadata": {},
   "outputs": [],
   "source": [
    "import numpy as np\n",
    "import sklearn\n",
    "import matplotlib.pyplot as plt\n",
    "%matplotlib inline\n",
    "import pandas as pd\n",
    "from sklearn import metrics\n",
    "from sklearn.model_selection import cross_val_score\n",
    "from matplotlib import rc\n",
    "from matplotlib import cm\n",
    "from mpl_toolkits.mplot3d import axes3d\n",
    "from matplotlib.ticker import MaxNLocator\n",
    "import scipy.signal\n",
    "import xgboost as xgb\n",
    "from xgboost.sklearn import XGBClassifier\n",
    "from hyperopt import hp, fmin, tpe, STATUS_OK, Trials\n",
    "import dill\n",
    "import sys\n",
    "sys.path.append('../')\n",
    "from modelfitting import train_test_split, ROC_curve, PR_curve, stable_unstable_hist, calibration_plot, unstable_error_fraction"
   ]
  },
  {
   "cell_type": "code",
   "execution_count": 2,
   "metadata": {},
   "outputs": [],
   "source": [
    "datapath = '/mnt/ssd/Dropbox/Dropbox (Princeton)/workspace/stability/MLstability/training_data/'\n",
    "dset = 'resonant/'\n",
    "featurefolder = 'ressummaryfeaturesxgbNorbits10000.0Nout1000/'\n",
    "features = None"
   ]
  },
  {
   "cell_type": "code",
   "execution_count": 3,
   "metadata": {
    "scrolled": true
   },
   "outputs": [],
   "source": [
    "trainingdatafolder = datapath+dset+featurefolder\n",
    "trainX, trainY, testX, testY = train_test_split(trainingdatafolder, features, filter=False)"
   ]
  },
  {
   "cell_type": "code",
   "execution_count": 10,
   "metadata": {},
   "outputs": [],
   "source": [
    "features = trainX.columns[3:]\n",
    "trainingdatafolder = datapath+dset+featurefolder\n",
    "trainX, trainY, testX, testY = train_test_split(trainingdatafolder, features, filter=False)"
   ]
  },
  {
   "cell_type": "code",
   "execution_count": 12,
   "metadata": {},
   "outputs": [
    {
     "name": "stderr",
     "output_type": "stream",
     "text": [
      "/home/dtamayo/miniconda3/envs/ml/lib/python3.7/site-packages/xgboost/core.py:587: FutureWarning: Series.base is deprecated and will be removed in a future version\n",
      "  if getattr(data, 'base', None) is not None and \\\n",
      "/home/dtamayo/miniconda3/envs/ml/lib/python3.7/site-packages/xgboost/core.py:588: FutureWarning: Series.base is deprecated and will be removed in a future version\n",
      "  data.base is not None and isinstance(data, np.ndarray) \\\n"
     ]
    }
   ],
   "source": [
    "space ={\n",
    "        'max_depth': hp.randint('x_max_depth',  20),\n",
    "        'min_child_weight': hp.quniform ('x_min_child', 1, 10, 1),\n",
    "        'subsample': hp.uniform ('x_subsample', 0.8, 1),\n",
    "        'scale_pos_weight': hp.uniform(\"x_pos_weight\", 1, 15),\n",
    "        \"learning_rate\":hp.uniform(\"x_learning_rate\",0.01,0.2),\n",
    "        'colsample_bytree': hp.uniform ('x_tree_colsample', 0.5,1),\n",
    "}\n",
    "\n",
    "dtrain = xgb.DMatrix(trainX, trainY)\n",
    "dtest = xgb.DMatrix(testX, testY)\n",
    "def objective(space):\n",
    "\n",
    "    clf = XGBClassifier(n_estimators = 100, \n",
    "                            max_depth = space['max_depth'], \n",
    "                            min_child_weight =space['min_child_weight'],\n",
    "                            subsample = space['subsample'],\n",
    "                            colsample_bytree =space['colsample_bytree'],\n",
    "                            learning_rate = space['learning_rate'], seed = 0)\n",
    "    \n",
    "    params = clf.get_xgb_params()\n",
    "    #dtest\n",
    "    score = xgb.cv(params, dtrain, nfold = 5, metrics = \"auc\", early_stopping_rounds=10)\n",
    "    #print score\n",
    "    #score = cross_val_score(clf, trainX, trainY, cv = 5, scoring=\"average_precision\")\n",
    "    avg_score =  np.mean(score[\"test-auc-mean\"])\n",
    "    error = np.mean(score[\"test-auc-std\"])\n",
    "    \n",
    "    bst = xgb.train(params, dtrain)\n",
    "    preds = bst.predict(dtest)\n",
    "    test_score = metrics.roc_auc_score(testY, preds)\n",
    "    \n",
    "    print(\"SCORE:\", avg_score, \"ERROR\", error, \"HOLDOUT SCORE\", test_score)\n",
    "\n",
    "    return{'loss':1-test_score, 'status': STATUS_OK, \"cv_score\":avg_score , \"cv_error\":error, \"holdout\":test_score }"
   ]
  },
  {
   "cell_type": "code",
   "execution_count": 13,
   "metadata": {
    "scrolled": true
   },
   "outputs": [
    {
     "name": "stdout",
     "output_type": "stream",
     "text": [
      "SCORE:                                              \n",
      "0.92137358                                          \n",
      "ERROR                                               \n",
      "0.0055342370948732855                               \n",
      "HOLDOUT SCORE                                       \n",
      "0.9399881416765592                                  \n",
      "SCORE:                                                                       \n",
      "0.9222509000000001                                                           \n",
      "ERROR                                                                        \n",
      "0.00361008558673014                                                          \n",
      "HOLDOUT SCORE                                                                \n",
      "0.9378679595955501                                                           \n",
      "SCORE:                                                                       \n",
      "0.918412                                                                     \n",
      "ERROR                                                                        \n",
      "0.00563122713878714                                                          \n",
      "HOLDOUT SCORE                                                                \n",
      "0.9318330104811869                                                           \n",
      "SCORE:                                                                       \n",
      "0.9238801400000002                                                           \n",
      "ERROR                                                                        \n",
      "0.004404142113169798                                                         \n",
      "HOLDOUT SCORE                                                                \n",
      "0.9415711518410174                                                           \n",
      "SCORE:                                                                        \n",
      "0.9149356000000001                                                            \n",
      "ERROR                                                                         \n",
      "0.005066585057073499                                                          \n",
      "HOLDOUT SCORE                                                                 \n",
      "0.9280493691397268                                                            \n",
      "SCORE:                                                                        \n",
      "0.8995421800000001                                                            \n",
      "ERROR                                                                         \n",
      "0.006762060598214524                                                          \n",
      "HOLDOUT SCORE                                                                 \n",
      "0.9149564371312486                                                            \n",
      "SCORE:                                                                        \n",
      "0.92052562                                                                    \n",
      "ERROR                                                                         \n",
      "0.005772571392830064                                                          \n",
      "HOLDOUT SCORE                                                                 \n",
      "0.9347779541604853                                                            \n",
      "SCORE:                                                                        \n",
      "0.88630604                                                                    \n",
      "ERROR                                                                         \n",
      "0.007778201023923672                                                          \n",
      "HOLDOUT SCORE                                                                 \n",
      "0.901304162195513                                                             \n",
      "SCORE:                                                                        \n",
      "0.9243892399999998                                                            \n",
      "ERROR                                                                         \n",
      "0.00466132389529331                                                           \n",
      "HOLDOUT SCORE                                                                 \n",
      "0.9367505406559326                                                            \n",
      "SCORE:                                                                        \n",
      "0.91594268                                                                    \n",
      "ERROR                                                                         \n",
      "0.006124373349387908                                                          \n",
      "HOLDOUT SCORE                                                                 \n",
      "0.9402877670498241                                                            \n",
      "SCORE:                                                                         \n",
      "0.90855566                                                                     \n",
      "ERROR                                                                          \n",
      "0.005268915867151521                                                           \n",
      "HOLDOUT SCORE                                                                  \n",
      "0.9205346634250539                                                             \n",
      "SCORE:                                                                         \n",
      "0.8945436399999999                                                             \n",
      "ERROR                                                                          \n",
      "0.006034168550434145                                                           \n",
      "HOLDOUT SCORE                                                                  \n",
      "0.9062337280617849                                                             \n",
      "SCORE:                                                                         \n",
      "0.92258646                                                                     \n",
      "ERROR                                                                          \n",
      "0.004624684092058839                                                           \n",
      "HOLDOUT SCORE                                                                  \n",
      "0.9342572521376021                                                             \n",
      "SCORE:                                                                         \n",
      "0.9184938                                                                      \n",
      "ERROR                                                                          \n",
      "0.0059445063533999625                                                          \n",
      "HOLDOUT SCORE                                                                  \n",
      "0.9286340503649348                                                             \n",
      "SCORE:                                                                         \n",
      "0.8400631199999999                                                             \n",
      "ERROR                                                                          \n",
      "0.017606343117872895                                                           \n",
      "HOLDOUT SCORE                                                                  \n",
      "0.8842109463980976                                                             \n",
      "SCORE:                                                                         \n",
      "0.8938001999999999                                                             \n",
      "ERROR                                                                          \n",
      "0.007255349264601599                                                           \n",
      "HOLDOUT SCORE                                                                  \n",
      "0.9012268803867638                                                             \n",
      "SCORE:                                                                         \n",
      "0.9212079599999999                                                             \n",
      "ERROR                                                                          \n",
      "0.0054165359036325005                                                          \n",
      "HOLDOUT SCORE                                                                  \n",
      "0.9370894403910207                                                             \n",
      "SCORE:                                                                         \n",
      "0.92113712                                                                     \n",
      "ERROR                                                                          \n"
     ]
    },
    {
     "name": "stdout",
     "output_type": "stream",
     "text": [
      "0.0038970544091549973                                                          \n",
      "HOLDOUT SCORE                                                                  \n",
      "0.9380915700749634                                                             \n",
      "SCORE:                                                                         \n",
      "0.92428148                                                                     \n",
      "ERROR                                                                          \n",
      "0.004905368846432323                                                           \n",
      "HOLDOUT SCORE                                                                  \n",
      "0.9412582238613286                                                             \n",
      "SCORE:                                                                         \n",
      "0.9179031599999998                                                             \n",
      "ERROR                                                                          \n",
      "0.004662606402208305                                                           \n",
      "HOLDOUT SCORE                                                                  \n",
      "0.938327216245903                                                              \n",
      "SCORE:                                                                         \n",
      "0.9240193800000001                                                             \n",
      "ERROR                                                                          \n",
      "0.0034427928042795805                                                          \n",
      "HOLDOUT SCORE                                                                  \n",
      "0.9386401442255919                                                             \n",
      "SCORE:                                                                         \n",
      "0.92455712                                                                     \n",
      "ERROR                                                                          \n",
      "0.005460430495265878                                                           \n",
      "HOLDOUT SCORE                                                                  \n",
      "0.939374321408708                                                              \n",
      "SCORE:                                                                         \n",
      "0.9251849999999999                                                             \n",
      "ERROR                                                                          \n",
      "0.006586638556921816                                                           \n",
      "HOLDOUT SCORE                                                                  \n",
      "0.9421862390237661                                                             \n",
      "SCORE:                                                                         \n",
      "0.5                                                                            \n",
      "ERROR                                                                          \n",
      "0.0                                                                            \n",
      "HOLDOUT SCORE                                                                  \n",
      "0.5                                                                            \n",
      "SCORE:                                                                         \n",
      "0.91848592                                                                     \n",
      "ERROR                                                                          \n",
      "0.004761398507956075                                                           \n",
      "HOLDOUT SCORE                                                                  \n",
      "0.9382359983732813                                                             \n",
      "SCORE:                                                                         \n",
      "0.92449666                                                                     \n",
      "ERROR                                                                          \n",
      "0.005070725421149272                                                           \n",
      "HOLDOUT SCORE                                                                  \n",
      "0.9443583646155738                                                             \n",
      "SCORE:                                                                          \n",
      "0.9225001799999999                                                              \n",
      "ERROR                                                                           \n",
      "0.004636640700724245                                                            \n",
      "HOLDOUT SCORE                                                                   \n",
      "0.9377792755527231                                                              \n",
      "SCORE:                                                                          \n",
      "0.9232674                                                                       \n",
      "ERROR                                                                           \n",
      "0.004073850293825367                                                            \n",
      "HOLDOUT SCORE                                                                   \n",
      "0.9414888023726783                                                              \n",
      "SCORE:                                                                          \n",
      "0.9190933000000001                                                              \n",
      "ERROR                                                                           \n",
      "0.005084706540939269                                                            \n",
      "HOLDOUT SCORE                                                                   \n",
      "0.9377634391165043                                                              \n",
      "SCORE:                                                                          \n",
      "0.9210204000000001                                                              \n",
      "ERROR                                                                           \n",
      "0.0041255720543626135                                                           \n",
      "HOLDOUT SCORE                                                                   \n",
      "0.9374790167220098                                                              \n",
      "SCORE:                                                                          \n",
      "0.92570408                                                                      \n",
      "ERROR                                                                           \n",
      "0.004768527705970988                                                            \n",
      "HOLDOUT SCORE                                                                   \n",
      "0.9396568434308562                                                              \n",
      "SCORE:                                                                          \n",
      "0.92074268                                                                      \n",
      "ERROR                                                                           \n",
      "0.0032470567727081088                                                           \n",
      "HOLDOUT SCORE                                                                   \n",
      "0.9353626353856933                                                              \n",
      "SCORE:                                                                          \n",
      "0.92723504                                                                      \n",
      "ERROR                                                                           \n",
      "0.0035059107663251666                                                           \n",
      "HOLDOUT SCORE                                                                   \n",
      "0.9397062531118597                                                              \n",
      "SCORE:                                                                          \n",
      "0.92432728                                                                      \n",
      "ERROR                                                                           \n",
      "0.0037200246680958683                                                           \n",
      "HOLDOUT SCORE                                                                   \n",
      "0.941369078914862                                                               \n",
      "SCORE:                                                                          \n",
      "0.9236441800000001                                                              \n"
     ]
    },
    {
     "name": "stdout",
     "output_type": "stream",
     "text": [
      "ERROR                                                                           \n",
      "0.005100215991485806                                                            \n",
      "HOLDOUT SCORE                                                                   \n",
      "0.9407083827958024                                                              \n",
      "SCORE:                                                                          \n",
      "0.92087162                                                                      \n",
      "ERROR                                                                           \n",
      "0.004891243395309877                                                            \n",
      "HOLDOUT SCORE                                                                   \n",
      "0.939665711835139                                                               \n",
      "SCORE:                                                                          \n",
      "0.9204834999999999                                                              \n",
      "ERROR                                                                           \n",
      "0.006071281241170847                                                            \n",
      "HOLDOUT SCORE                                                                   \n",
      "0.9366143473044486                                                              \n",
      "SCORE:                                                                          \n",
      "0.92004072                                                                      \n",
      "ERROR                                                                           \n",
      "0.005638556710641269                                                            \n",
      "HOLDOUT SCORE                                                                   \n",
      "0.9367581421453176                                                              \n",
      "SCORE:                                                                          \n",
      "0.9216471800000001                                                              \n",
      "ERROR                                                                           \n",
      "0.00483074616360727                                                             \n",
      "HOLDOUT SCORE                                                                   \n",
      "0.9378090480528153                                                              \n",
      "SCORE:                                                                          \n",
      "0.8851134400000001                                                              \n",
      "ERROR                                                                           \n",
      "0.007896214034192365                                                            \n",
      "HOLDOUT SCORE                                                                   \n",
      "0.9020282040594487                                                              \n",
      "SCORE:                                                                          \n",
      "0.9125681199999999                                                              \n",
      "ERROR                                                                           \n",
      "0.00583790179568751                                                             \n",
      "HOLDOUT SCORE                                                                   \n",
      "0.9307003885627991                                                              \n",
      "SCORE:                                                                          \n",
      "0.9241911399999999                                                              \n",
      "ERROR                                                                           \n",
      "0.0047205808223066284                                                           \n",
      "HOLDOUT SCORE                                                                   \n",
      "0.9378533900742285                                                              \n",
      "SCORE:                                                                          \n",
      "0.5                                                                             \n",
      "ERROR                                                                           \n",
      "0.0                                                                             \n",
      "HOLDOUT SCORE                                                                   \n",
      "0.5                                                                             \n",
      "SCORE:                                                                          \n",
      "0.9210575799999999                                                              \n",
      "ERROR                                                                           \n",
      "0.006267812341224646                                                            \n",
      "HOLDOUT SCORE                                                                   \n",
      "0.9387858394388073                                                              \n",
      "SCORE:                                                                          \n",
      "0.84711134                                                                      \n",
      "ERROR                                                                           \n",
      "0.018471240274128956                                                            \n",
      "HOLDOUT SCORE                                                                   \n",
      "0.8812191268675911                                                              \n",
      "SCORE:                                                                          \n",
      "0.92289454                                                                      \n",
      "ERROR                                                                           \n",
      "0.004091127936619565                                                            \n",
      "HOLDOUT SCORE                                                                   \n",
      "0.9375290598604621                                                              \n",
      "SCORE:                                                                          \n",
      "0.92056632                                                                      \n",
      "ERROR                                                                           \n",
      "0.005137639615748548                                                            \n",
      "HOLDOUT SCORE                                                                   \n",
      "0.9371781244338475                                                              \n",
      "SCORE:                                                                          \n",
      "0.91939358                                                                      \n",
      "ERROR                                                                           \n",
      "0.007077283145693535                                                            \n",
      "HOLDOUT SCORE                                                                   \n",
      "0.9384760787463624                                                              \n",
      "SCORE:                                                                          \n",
      "0.9232910399999998                                                              \n",
      "ERROR                                                                           \n",
      "0.004423416946833562                                                            \n",
      "HOLDOUT SCORE                                                                   \n",
      "0.9398722189634356                                                              \n",
      "SCORE:                                                                          \n",
      "0.9248169199999999                                                              \n",
      "ERROR                                                                           \n",
      "0.003917137747697747                                                            \n",
      "HOLDOUT SCORE                                                                   \n",
      "0.9424725617906068                                                              \n",
      "100%|██████████| 50/50 [02:09<00:00,  3.21s/it, best loss: 0.055641635384426236]\n",
      "Optimization Time: %f seconds 129.36940836906433\n",
      "CPU times: user 2min 8s, sys: 839 ms, total: 2min 9s\n",
      "Wall time: 2min 9s\n"
     ]
    }
   ],
   "source": [
    "%%time\n",
    "trials = Trials()\n",
    "import time\n",
    "start = time.time()\n",
    "best = fmin(fn=objective, space = space, algo = tpe.suggest, max_evals = 50, trials = trials)\n",
    "end = time.time()\n",
    "print(\"Optimization Time: %f seconds\", (end  -start))"
   ]
  },
  {
   "cell_type": "code",
   "execution_count": 14,
   "metadata": {},
   "outputs": [
    {
     "data": {
      "text/plain": [
       "{'x_learning_rate': 0.19935592487785003,\n",
       " 'x_max_depth': 11,\n",
       " 'x_min_child': 7.0,\n",
       " 'x_pos_weight': 13.847472001992983,\n",
       " 'x_subsample': 0.9550247625914692,\n",
       " 'x_tree_colsample': 0.6330780598623519}"
      ]
     },
     "execution_count": 14,
     "metadata": {},
     "output_type": "execute_result"
    }
   ],
   "source": [
    "best"
   ]
  },
  {
   "cell_type": "code",
   "execution_count": 15,
   "metadata": {},
   "outputs": [
    {
     "name": "stdout",
     "output_type": "stream",
     "text": [
      "[0]\ttrain-auc:0.937533+0.00469876\ttest-auc:0.899268+0.00802703\n",
      "[1]\ttrain-auc:0.955735+0.00307876\ttest-auc:0.908981+0.00667753\n",
      "[2]\ttrain-auc:0.964009+0.00109807\ttest-auc:0.917286+0.00841177\n",
      "[3]\ttrain-auc:0.969091+0.00136613\ttest-auc:0.921772+0.00754298\n",
      "[4]\ttrain-auc:0.974958+0.00117477\ttest-auc:0.924647+0.0062599\n",
      "[5]\ttrain-auc:0.979097+0.00132708\ttest-auc:0.927727+0.00558295\n",
      "[6]\ttrain-auc:0.981035+0.00149908\ttest-auc:0.929526+0.00546978\n",
      "[7]\ttrain-auc:0.983782+0.00100074\ttest-auc:0.931187+0.00554188\n",
      "[8]\ttrain-auc:0.986211+0.00117525\ttest-auc:0.932918+0.00566483\n",
      "[9]\ttrain-auc:0.987944+0.00172898\ttest-auc:0.933805+0.00598538\n",
      "   train-auc-mean  train-auc-std  test-auc-mean  test-auc-std\n",
      "0        0.937533       0.004699       0.899268      0.008027\n",
      "1        0.955735       0.003079       0.908981      0.006678\n",
      "2        0.964009       0.001098       0.917286      0.008412\n",
      "3        0.969091       0.001366       0.921772      0.007543\n",
      "4        0.974958       0.001175       0.924647      0.006260\n",
      "5        0.979097       0.001327       0.927727      0.005583\n",
      "6        0.981035       0.001499       0.929526      0.005470\n",
      "7        0.983782       0.001001       0.931187      0.005542\n",
      "8        0.986211       0.001175       0.932918      0.005665\n",
      "9        0.987944       0.001729       0.933805      0.005985\n"
     ]
    },
    {
     "name": "stderr",
     "output_type": "stream",
     "text": [
      "/home/dtamayo/miniconda3/envs/ml/lib/python3.7/site-packages/xgboost/core.py:587: FutureWarning: Series.base is deprecated and will be removed in a future version\n",
      "  if getattr(data, 'base', None) is not None and \\\n",
      "/home/dtamayo/miniconda3/envs/ml/lib/python3.7/site-packages/xgboost/core.py:588: FutureWarning: Series.base is deprecated and will be removed in a future version\n",
      "  data.base is not None and isinstance(data, np.ndarray) \\\n"
     ]
    },
    {
     "name": "stdout",
     "output_type": "stream",
     "text": [
      "0.8563569479679769\n"
     ]
    }
   ],
   "source": [
    "best_xgbc = XGBClassifier(n_estimators=100, scale_pos_weight=best[\"x_pos_weight\"],\n",
    "                         learning_rate = best[\"x_learning_rate\"], \n",
    "                         max_depth = int(best[\"x_max_depth\"]), \n",
    "                         min_child_weight = best[\"x_min_child\"],\n",
    "                         subsample = best[\"x_subsample\"], \n",
    "                         colsample_bytree = best[\"x_tree_colsample\"])\n",
    "params = best_xgbc.get_xgb_params()\n",
    "score = xgb.cv(params, dtrain, nfold = 5, metrics = \"auc\", verbose_eval=True)\n",
    "print(score)\n",
    "d_Train = xgb.DMatrix(trainX, trainY)\n",
    "d_Test = xgb.DMatrix(testX)\n",
    "bst = xgb.train(params, d_Train)\n",
    "preds = bst.predict(d_Test)\n",
    "score = metrics.average_precision_score(testY, preds)\n",
    "print(score)"
   ]
  },
  {
   "cell_type": "code",
   "execution_count": 16,
   "metadata": {},
   "outputs": [
    {
     "data": {
      "text/plain": [
       "XGBClassifier(base_score=0.5, booster='gbtree', colsample_bylevel=1,\n",
       "       colsample_bytree=0.6330780598623519, gamma=0,\n",
       "       learning_rate=0.19935592487785003, max_delta_step=0, max_depth=11,\n",
       "       min_child_weight=7.0, missing=None, n_estimators=100, n_jobs=1,\n",
       "       nthread=None, objective='binary:logistic', random_state=0,\n",
       "       reg_alpha=0, reg_lambda=1, scale_pos_weight=13.847472001992983,\n",
       "       seed=None, silent=True, subsample=0.9550247625914692)"
      ]
     },
     "execution_count": 16,
     "metadata": {},
     "output_type": "execute_result"
    }
   ],
   "source": [
    "model = XGBClassifier(n_estimators=100, scale_pos_weight=best[\"x_pos_weight\"],\n",
    "                         learning_rate = best[\"x_learning_rate\"], \n",
    "                         max_depth = int(best[\"x_max_depth\"]), \n",
    "                         min_child_weight = best[\"x_min_child\"],\n",
    "                         subsample = best[\"x_subsample\"], \n",
    "                         colsample_bytree = best[\"x_tree_colsample\"])\n",
    "\n",
    "model.fit(trainX, trainY)"
   ]
  },
  {
   "cell_type": "code",
   "execution_count": 17,
   "metadata": {},
   "outputs": [
    {
     "data": {
      "text/plain": [
       "Text(0.5, 1.0, 'ROC curve (AUC = 0.945)')"
      ]
     },
     "execution_count": 17,
     "metadata": {},
     "output_type": "execute_result"
    },
    {
     "data": {
      "image/png": "[encoded data removed]",
      "text/plain": [
       "<Figure size 432x288 with 1 Axes>"
      ]
     },
     "metadata": {
      "needs_background": "light"
     },
     "output_type": "display_data"
    }
   ],
   "source": [
    "roc_auc, fpr, tpr, ROCthresholds = ROC_curve(trainingdatafolder, model, features)\n",
    "\n",
    "fig, ax = plt.subplots()\n",
    "ax.plot(fpr, tpr)\n",
    "ax.plot([0, 1], [0, 1], 'k--')\n",
    "ax.set_xlim([0.0, 1.0])\n",
    "ax.set_ylim([0.0, 1.0])\n",
    "ax.set_xlabel('False Positive Rate')\n",
    "ax.set_ylabel('True Positive Rate')\n",
    "ax.set_title('ROC curve (AUC = {0:.3f})'.format(roc_auc))"
   ]
  },
  {
   "cell_type": "code",
   "execution_count": 18,
   "metadata": {},
   "outputs": [
    {
     "name": "stdout",
     "output_type": "stream",
     "text": [
      "Threshold 0.0009182692156173289, recall = 1.0, precision = 0.4006849315068493\n",
      "Threshold 0.001021147589199245, recall = 0.9978632478632479, precision = 0.40503035559410233\n",
      "Threshold 0.001123991678468883, recall = 0.9978632478632479, precision = 0.4103690685413005\n",
      "Threshold 0.0012332415208220482, recall = 0.9978632478632479, precision = 0.41585040071237755\n",
      "Threshold 0.0012996663572266698, recall = 0.9978632478632479, precision = 0.4214801444043321\n",
      "Threshold 0.001547131803818047, recall = 0.9978632478632479, precision = 0.4272644098810613\n",
      "Threshold 0.0017870712326839566, recall = 0.9957264957264957, precision = 0.4322820037105751\n",
      "Threshold 0.002111967885866761, recall = 0.9957264957264957, precision = 0.43838193791157104\n",
      "Threshold 0.002336041536182165, recall = 0.9957264957264957, precision = 0.4446564885496183\n",
      "Threshold 0.0026013620663434267, recall = 0.9957264957264957, precision = 0.45111326234269117\n",
      "Threshold 0.0029814294539391994, recall = 0.9935897435897436, precision = 0.4567779960707269\n",
      "Threshold 0.003271725494414568, recall = 0.9935897435897436, precision = 0.46360917248255235\n",
      "Threshold 0.0037268733140081167, recall = 0.9935897435897436, precision = 0.4706477732793522\n",
      "Threshold 0.004275316838175058, recall = 0.9914529914529915, precision = 0.47687564234326824\n",
      "Threshold 0.005075004883110523, recall = 0.9914529914529915, precision = 0.48434237995824636\n",
      "Threshold 0.005696014501154423, recall = 0.9893162393162394, precision = 0.4909862142099682\n",
      "Threshold 0.0066772568970918655, recall = 0.9871794871794872, precision = 0.4978448275862069\n",
      "Threshold 0.008063406683504581, recall = 0.9871794871794872, precision = 0.5060240963855421\n",
      "Threshold 0.009387657977640629, recall = 0.9850427350427351, precision = 0.5133630289532294\n",
      "Threshold 0.010450104251503944, recall = 0.9829059829059829, precision = 0.5209513023782559\n",
      "Threshold 0.012222493067383766, recall = 0.9829059829059829, precision = 0.5299539170506913\n",
      "Threshold 0.014687768183648586, recall = 0.9807692307692307, precision = 0.5381008206330598\n",
      "Threshold 0.01842571422457695, recall = 0.9764957264957265, precision = 0.545346062052506\n",
      "Threshold 0.02418360859155655, recall = 0.9764957264957265, precision = 0.5552855407047388\n",
      "Threshold 0.029142767190933228, recall = 0.9764957264957265, precision = 0.5655940594059405\n",
      "Threshold 0.032238420099020004, recall = 0.9700854700854701, precision = 0.5725094577553594\n",
      "Threshold 0.03772874176502228, recall = 0.9658119658119658, precision = 0.5809768637532133\n",
      "Threshold 0.04400096461176872, recall = 0.9636752136752137, precision = 0.5910878112712975\n",
      "Threshold 0.051049910485744476, recall = 0.9615384615384616, precision = 0.6016042780748663\n",
      "Threshold 0.06287181377410889, recall = 0.9551282051282052, precision = 0.6098226466575716\n",
      "Threshold 0.071269690990448, recall = 0.9508547008547008, precision = 0.6197771587743732\n",
      "Threshold 0.0847371444106102, recall = 0.9465811965811965, precision = 0.6301564722617354\n",
      "Threshold 0.09766153991222382, recall = 0.9423076923076923, precision = 0.6409883720930233\n",
      "Threshold 0.11464638262987137, recall = 0.9358974358974359, precision = 0.6508172362555721\n",
      "Threshold 0.13451145589351654, recall = 0.9273504273504274, precision = 0.6595744680851063\n",
      "Threshold 0.15706072747707367, recall = 0.9209401709401709, precision = 0.6702954898911353\n",
      "Threshold 0.1835680902004242, recall = 0.9188034188034188, precision = 0.6847133757961783\n",
      "Threshold 0.22640681266784668, recall = 0.9166666666666666, precision = 0.6998368678629691\n",
      "Threshold 0.2607429325580597, recall = 0.9081196581196581, precision = 0.7107023411371237\n",
      "Threshold 0.32764676213264465, recall = 0.9017094017094017, precision = 0.7238421955403087\n",
      "Threshold 0.3665183484554291, recall = 0.8952991452991453, precision = 0.7376760563380281\n",
      "Threshold 0.41271477937698364, recall = 0.8846153846153846, precision = 0.7486437613019892\n",
      "Threshold 0.5063896775245667, recall = 0.8760683760683761, precision = 0.7620817843866171\n",
      "Threshold 0.5632367134094238, recall = 0.8632478632478633, precision = 0.7724665391969407\n",
      "Threshold 0.6092922687530518, recall = 0.8504273504273504, precision = 0.7834645669291339\n",
      "Threshold 0.6778610348701477, recall = 0.8333333333333334, precision = 0.7910750507099391\n",
      "Threshold 0.7141703963279724, recall = 0.8183760683760684, precision = 0.801255230125523\n",
      "Threshold 0.7617316842079163, recall = 0.8012820512820513, precision = 0.8099352051835853\n",
      "Threshold 0.7974586486816406, recall = 0.7841880341880342, precision = 0.8191964285714286\n",
      "Threshold 0.8289391398429871, recall = 0.7628205128205128, precision = 0.8244803695150116\n",
      "Threshold 0.8518965244293213, recall = 0.7435897435897436, precision = 0.8325358851674641\n",
      "Threshold 0.8821736574172974, recall = 0.7222222222222222, precision = 0.8387096774193549\n",
      "Threshold 0.9038722515106201, recall = 0.6987179487179487, precision = 0.8427835051546392\n",
      "Threshold 0.9172994494438171, recall = 0.6794871794871795, precision = 0.8525469168900804\n",
      "Threshold 0.927520751953125, recall = 0.6581196581196581, precision = 0.8603351955307262\n",
      "Threshold 0.9455645680427551, recall = 0.6367521367521367, precision = 0.8688046647230321\n",
      "Threshold 0.9573639035224915, recall = 0.6153846153846154, precision = 0.8780487804878049\n",
      "Threshold 0.9656676650047302, recall = 0.5918803418803419, precision = 0.8849840255591054\n",
      "Threshold 0.9707306623458862, recall = 0.5726495726495726, precision = 0.8993288590604027\n",
      "Threshold 0.9750032424926758, recall = 0.5491452991452992, precision = 0.9081272084805654\n",
      "Threshold 0.9788565635681152, recall = 0.5235042735042735, precision = 0.914179104477612\n",
      "Threshold 0.9818776845932007, recall = 0.5021367521367521, precision = 0.9288537549407114\n",
      "Threshold 0.9842870235443115, recall = 0.4807692307692308, precision = 0.9453781512605042\n",
      "Threshold 0.9885922074317932, recall = 0.45726495726495725, precision = 0.9596412556053812\n",
      "Threshold 0.9900244474411011, recall = 0.43162393162393164, precision = 0.9711538461538461\n",
      "Threshold 0.9914340972900391, recall = 0.3995726495726496, precision = 0.9689119170984456\n",
      "Threshold 0.9935279488563538, recall = 0.37393162393162394, precision = 0.9831460674157303\n",
      "Threshold 0.9949061870574951, recall = 0.3418803418803419, precision = 0.9815950920245399\n",
      "Threshold 0.9962215423583984, recall = 0.30982905982905984, precision = 0.9797297297297297\n",
      "Threshold 0.996911346912384, recall = 0.2777777777777778, precision = 0.9774436090225563\n",
      "Threshold 0.9975801706314087, recall = 0.24786324786324787, precision = 0.9830508474576272\n",
      "Threshold 0.9981650710105896, recall = 0.21581196581196582, precision = 0.9805825242718447\n",
      "Threshold 0.9986767172813416, recall = 0.18803418803418803, precision = 1.0\n",
      "Threshold 0.9991222023963928, recall = 0.15598290598290598, precision = 1.0\n",
      "Threshold 0.9993845224380493, recall = 0.12393162393162394, precision = 1.0\n",
      "Threshold 0.9996022582054138, recall = 0.09188034188034189, precision = 1.0\n",
      "Threshold 0.9997265934944153, recall = 0.05982905982905983, precision = 1.0\n",
      "Threshold 0.9998753070831299, recall = 0.027777777777777776, precision = 1.0\n"
     ]
    }
   ],
   "source": [
    "pr_auc, precision, recall, PRthresholds = PR_curve(trainingdatafolder, model, features)\n",
    "for i in range(0,len(recall), 15):\n",
    "    print(\"Threshold {0}, recall = {1}, precision = {2}\".format(PRthresholds[i], recall[i], precision[i]))"
   ]
  },
  {
   "cell_type": "code",
   "execution_count": 19,
   "metadata": {},
   "outputs": [
    {
     "data": {
      "image/png": "[encoded data removed]",
      "text/plain": [
       "<Figure size 432x288 with 1 Axes>"
      ]
     },
     "metadata": {
      "needs_background": "light"
     },
     "output_type": "display_data"
    }
   ],
   "source": [
    "fig, ax = plt.subplots()\n",
    "ax.plot(recall, precision)\n",
    "ax.set_xlim([0.0, 1.0])\n",
    "ax.set_ylim([0.0, 1.0])\n",
    "ax.set_xlabel('Recall')\n",
    "ax.set_ylabel('Precision')\n",
    "ax.set_title(\"AUC Score (Test): {0:.4f}\".format(pr_auc))\n",
    "plt.show()"
   ]
  },
  {
   "cell_type": "code",
   "execution_count": 20,
   "metadata": {},
   "outputs": [
    {
     "data": {
      "text/plain": [
       "(0, 169.4)"
      ]
     },
     "execution_count": 20,
     "metadata": {},
     "output_type": "execute_result"
    },
    {
     "data": {
      "image/png": "[encoded data removed]",
      "text/plain": [
       "<Figure size 432x288 with 2 Axes>"
      ]
     },
     "metadata": {
      "needs_background": "light"
     },
     "output_type": "display_data"
    }
   ],
   "source": [
    "# Histogram:\n",
    "bins = 50\n",
    "Stable, Unstable = stable_unstable_hist(trainingdatafolder, model, features)\n",
    "\n",
    "fig, ax1 = plt.subplots()\n",
    "n, bins, pathces = ax1.hist(Unstable, bins, alpha=0.5, label='No', color='blue', edgecolor = \"black\")\n",
    "#print(n)\n",
    "ax1.set_xlabel('Predicted Probability', fontsize=14)\n",
    "ax1.set_ylabel('Unstable',  fontsize=14, color='blue')\n",
    "for tl in ax1.get_yticklabels():\n",
    "    tl.set_color('blue')\n",
    "    \n",
    "\n",
    "\n",
    "ax2 = ax1.twinx()\n",
    "n, bins , patches = ax2.hist(Stable, bins, alpha=0.5, label='Yes',color='green', edgecolor = \"black\")\n",
    "#print(n.astype(int))\n",
    "ax2.set_ylabel('Stable', fontsize=14, color='green')\n",
    "for tl in ax2.get_yticklabels():\n",
    "    tl.set_color('green')\n",
    "    \n",
    "    \n",
    "#ax1.set_ylim(ax2.get_ylim())\n",
    "ax1.set_ylim([0,1.1*n[-1]]) # goes up to ~4300\n",
    "ax2.set_ylim([0,1.1*n[-1]]) # goes up to ~2100"
   ]
  },
  {
   "cell_type": "code",
   "execution_count": 21,
   "metadata": {},
   "outputs": [
    {
     "data": {
      "text/plain": [
       "Text(0, 0.5, 'Fraction actually stable')"
      ]
     },
     "execution_count": 21,
     "metadata": {},
     "output_type": "execute_result"
    },
    {
     "data": {
      "image/png": "[encoded data removed]",
      "text/plain": [
       "<Figure size 576x432 with 1 Axes>"
      ]
     },
     "metadata": {
      "needs_background": "light"
     },
     "output_type": "display_data"
    }
   ],
   "source": [
    "bincenters, fracstable, errorbars = calibration_plot(trainingdatafolder, model, features, bins=10)\n",
    "fig, ax = plt.subplots(figsize=(8,6))\n",
    "ax.plot(np.linspace(0,1,100), np.linspace(0,1,100), '--')\n",
    "ax.errorbar(bincenters, fracstable, errorbars)\n",
    "ax.set_xlim([0,1])\n",
    "ax.set_ylim([0,1])\n",
    "ax.set_xlabel('Predicted Probability of Stability')\n",
    "ax.set_ylabel('Fraction actually stable')"
   ]
  },
  {
   "cell_type": "code",
   "execution_count": 22,
   "metadata": {},
   "outputs": [
    {
     "data": {
      "text/plain": [
       "Text(0.5, 1.0, 'Fraction of unstable systems mislabeled as stable')"
      ]
     },
     "execution_count": 22,
     "metadata": {},
     "output_type": "execute_result"
    },
    {
     "data": {
      "image/png": "[encoded data removed]",
      "text/plain": [
       "<Figure size 576x432 with 1 Axes>"
      ]
     },
     "metadata": {
      "needs_background": "light"
     },
     "output_type": "display_data"
    }
   ],
   "source": [
    "bincenters, errorfracs, errorbars = unstable_error_fraction(trainingdatafolder, model, features, bins=10)\n",
    "fig, ax = plt.subplots(figsize=(8,6))\n",
    "ax.errorbar(bincenters, errorfracs, errorbars)\n",
    "ax.set_ylim([0,1])\n",
    "ax.set_xlabel('Log Instability Time')\n",
    "ax.set_ylabel('Error Fraction')\n",
    "ax.set_title('Fraction of unstable systems mislabeled as stable')"
   ]
  },
  {
   "cell_type": "code",
   "execution_count": 23,
   "metadata": {},
   "outputs": [
    {
     "data": {
      "image/png": "[encoded data removed]",
      "text/plain": [
       "<Figure size 864x576 with 1 Axes>"
      ]
     },
     "metadata": {
      "needs_background": "light"
     },
     "output_type": "display_data"
    }
   ],
   "source": [
    "# feature importances\n",
    "feat_imp = pd.Series(model.get_booster().get_fscore()).sort_values(ascending=False)\n",
    "feat_imp.plot(kind='bar', title='Feature Importances', figsize=(12,8))\n",
    "plt.ylabel('Feature Importance Score')\n",
    "plt.show()"
   ]
  },
  {
   "cell_type": "code",
   "execution_count": 18,
   "metadata": {},
   "outputs": [],
   "source": [
    "dill.dump([model, features, featurefolder], open(datapath+\"../models/ressummaryfeaturesxgb_resonantNoFilter.pkl\", \"wb\"))"
   ]
  },
  {
   "cell_type": "code",
   "execution_count": null,
   "metadata": {},
   "outputs": [],
   "source": []
  }
 ],
 "metadata": {
  "anaconda-cloud": {},
  "kernelspec": {
   "display_name": "Python 3",
   "language": "python",
   "name": "python3"
  },
  "language_info": {
   "codemirror_mode": {
    "name": "ipython",
    "version": 3
   },
   "file_extension": ".py",
   "mimetype": "text/x-python",
   "name": "python",
   "nbconvert_exporter": "python",
   "pygments_lexer": "ipython3",
   "version": "3.7.3"
  }
 },
 "nbformat": 4,
 "nbformat_minor": 2
}
