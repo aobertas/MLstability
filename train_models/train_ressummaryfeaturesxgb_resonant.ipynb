{
 "cells": [
  {
   "cell_type": "code",
   "execution_count": 1,
   "metadata": {},
   "outputs": [],
   "source": [
    "import numpy as np\n",
    "import sklearn\n",
    "import matplotlib.pyplot as plt\n",
    "%matplotlib inline\n",
    "import pandas as pd\n",
    "from sklearn import metrics\n",
    "from sklearn.model_selection import cross_val_score\n",
    "from matplotlib import rc\n",
    "from matplotlib import cm\n",
    "from mpl_toolkits.mplot3d import axes3d\n",
    "from matplotlib.ticker import MaxNLocator\n",
    "import scipy.signal\n",
    "import xgboost as xgb\n",
    "from xgboost.sklearn import XGBClassifier\n",
    "from hyperopt import hp, fmin, tpe, STATUS_OK, Trials\n",
    "import dill\n",
    "import sys\n",
    "sys.path.append('../')\n",
    "from modelfitting import train_test_split, ROC_curve, PR_curve, stable_unstable_hist, calibration_plot, unstable_error_fraction"
   ]
  },
  {
   "cell_type": "code",
   "execution_count": 2,
   "metadata": {},
   "outputs": [],
   "source": [
    "datapath = '/mnt/ssd/workspace/stability/MLstability/training_data/'\n",
    "dset = 'resonant/'\n",
    "featurefolder = 'ressummaryfeaturesxgbNorbits10000.0Nout1000/'\n",
    "features = None"
   ]
  },
  {
   "cell_type": "code",
   "execution_count": 3,
   "metadata": {
    "scrolled": true
   },
   "outputs": [],
   "source": [
    "trainingdatafolder = datapath+dset+featurefolder\n",
    "trainX, trainY, testX, testY = train_test_split(trainingdatafolder, features, filter=False)"
   ]
  },
  {
   "cell_type": "code",
   "execution_count": 5,
   "metadata": {},
   "outputs": [
    {
     "name": "stderr",
     "output_type": "stream",
     "text": [
      "/home/dtamayo/miniconda3/envs/p3/lib/python3.7/site-packages/xgboost/core.py:587: FutureWarning: Series.base is deprecated and will be removed in a future version\n",
      "  if getattr(data, 'base', None) is not None and \\\n",
      "/home/dtamayo/miniconda3/envs/p3/lib/python3.7/site-packages/xgboost/core.py:588: FutureWarning: Series.base is deprecated and will be removed in a future version\n",
      "  data.base is not None and isinstance(data, np.ndarray) \\\n"
     ]
    }
   ],
   "source": [
    "space ={\n",
    "        'max_depth': hp.randint('x_max_depth',  20),\n",
    "        'min_child_weight': hp.quniform ('x_min_child', 1, 10, 1),\n",
    "        'subsample': hp.uniform ('x_subsample', 0.8, 1),\n",
    "        'scale_pos_weight': hp.uniform(\"x_pos_weight\", 1, 15),\n",
    "        \"learning_rate\":hp.uniform(\"x_learning_rate\",0.01,0.2),\n",
    "        'colsample_bytree': hp.uniform ('x_tree_colsample', 0.5,1),\n",
    "}\n",
    "\n",
    "dtrain = xgb.DMatrix(trainX, trainY)\n",
    "dtest = xgb.DMatrix(testX, testY)\n",
    "def objective(space):\n",
    "\n",
    "    clf = XGBClassifier(n_estimators = 100, \n",
    "                            max_depth = space['max_depth'], \n",
    "                            min_child_weight =space['min_child_weight'],\n",
    "                            subsample = space['subsample'],\n",
    "                            colsample_bytree =space['colsample_bytree'],\n",
    "                            learning_rate = space['learning_rate'], seed = 0)\n",
    "    \n",
    "    params = clf.get_xgb_params()\n",
    "    #dtest\n",
    "    score = xgb.cv(params, dtrain, nfold = 5, metrics = \"auc\", early_stopping_rounds=10)\n",
    "    #print score\n",
    "    #score = cross_val_score(clf, trainX, trainY, cv = 5, scoring=\"average_precision\")\n",
    "    avg_score =  np.mean(score[\"test-auc-mean\"])\n",
    "    error = np.mean(score[\"test-auc-std\"])\n",
    "    \n",
    "    bst = xgb.train(params, dtrain)\n",
    "    preds = bst.predict(dtest)\n",
    "    test_score = metrics.roc_auc_score(testY, preds)\n",
    "    \n",
    "    print(\"SCORE:\", avg_score, \"ERROR\", error, \"HOLDOUT SCORE\", test_score)\n",
    "\n",
    "    return{'loss':1-test_score, 'status': STATUS_OK, \"cv_score\":avg_score , \"cv_error\":error, \"holdout\":test_score }"
   ]
  },
  {
   "cell_type": "code",
   "execution_count": 6,
   "metadata": {
    "scrolled": true
   },
   "outputs": [
    {
     "name": "stdout",
     "output_type": "stream",
     "text": [
      "SCORE:                                              \n",
      "0.92345934                                          \n",
      "ERROR                                               \n",
      "0.0034091695648985044                               \n",
      "HOLDOUT SCORE                                       \n",
      "0.9346620314473617                                  \n",
      "SCORE:                                                                        \n",
      "0.91967886                                                                    \n",
      "ERROR                                                                         \n",
      "0.0030451668723741197                                                         \n",
      "HOLDOUT SCORE                                                                 \n",
      "0.9346354262345136                                                            \n",
      "SCORE:                                                                        \n",
      "0.9208313199999999                                                            \n",
      "ERROR                                                                         \n",
      "0.004127075334987332                                                          \n",
      "HOLDOUT SCORE                                                                 \n",
      "0.9309113298932371                                                            \n",
      "SCORE:                                                                        \n",
      "0.9247942199999999                                                            \n",
      "ERROR                                                                         \n",
      "0.0029226208912037713                                                         \n",
      "HOLDOUT SCORE                                                                 \n",
      "0.9366846610812611                                                            \n",
      "SCORE:                                                                        \n",
      "0.9184417799999999                                                            \n",
      "ERROR                                                                         \n",
      "0.0036625555014225255                                                         \n",
      "HOLDOUT SCORE                                                                 \n",
      "0.9320357168647911                                                            \n",
      "SCORE:                                                                        \n",
      "0.92071092                                                                    \n",
      "ERROR                                                                         \n",
      "0.003078855947229896                                                          \n",
      "HOLDOUT SCORE                                                                 \n",
      "0.9373960337962219                                                            \n",
      "SCORE:                                                                        \n",
      "0.9240751800000002                                                            \n",
      "ERROR                                                                         \n",
      "0.0036285535134901307                                                         \n",
      "HOLDOUT SCORE                                                                 \n",
      "0.937168622572116                                                             \n",
      "SCORE:                                                                        \n",
      "0.9133661999999999                                                            \n",
      "ERROR                                                                         \n",
      "0.0038629517208909536                                                         \n",
      "HOLDOUT SCORE                                                                 \n",
      "0.9281887297784547                                                            \n",
      "SCORE:                                                                        \n",
      "0.9233574999999998                                                            \n",
      "ERROR                                                                         \n",
      "0.004362697158475872                                                          \n",
      "HOLDOUT SCORE                                                                 \n",
      "0.9374454434772252                                                            \n",
      "SCORE:                                                                        \n",
      "0.92330608                                                                    \n",
      "ERROR                                                                         \n",
      "0.0041327942409521016                                                         \n",
      "HOLDOUT SCORE                                                                 \n",
      "0.9333799135710658                                                            \n",
      "SCORE:                                                                         \n",
      "0.9185198800000001                                                             \n",
      "ERROR                                                                          \n",
      "0.0045845318332870715                                                          \n",
      "HOLDOUT SCORE                                                                  \n",
      "0.9295664997295138                                                             \n",
      "SCORE:                                                                         \n",
      "0.9212354999999999                                                             \n",
      "ERROR                                                                          \n",
      "0.0044138119308397795                                                          \n",
      "HOLDOUT SCORE                                                                  \n",
      "0.9376297795948153                                                             \n",
      "SCORE:                                                                          \n",
      "0.9252358999999999                                                              \n",
      "ERROR                                                                           \n",
      "0.004428349828538224                                                            \n",
      "HOLDOUT SCORE                                                                   \n",
      "0.9372832783703421                                                              \n",
      "SCORE:                                                                          \n",
      "0.92127848                                                                      \n",
      "ERROR                                                                           \n",
      "0.00322036028678318                                                             \n",
      "HOLDOUT SCORE                                                                   \n",
      "0.9381276771495428                                                              \n",
      "SCORE:                                                                          \n",
      "0.9224458999999999                                                              \n",
      "ERROR                                                                           \n",
      "0.005661334432123076                                                            \n",
      "HOLDOUT SCORE                                                                   \n",
      "0.9382613366712318                                                              \n",
      "SCORE:                                                                          \n",
      "0.9136266599999999                                                              \n",
      "ERROR                                                                           \n",
      "0.003751092607053514                                                            \n",
      "HOLDOUT SCORE                                                                   \n",
      "0.924609061735496                                                               \n",
      "SCORE:                                                                          \n",
      "0.9235915800000001                                                              \n",
      "ERROR                                                                           \n",
      "0.0035622830440349023                                                           \n",
      "HOLDOUT SCORE                                                                   \n",
      "0.9363647650696361                                                              \n",
      "SCORE:                                                                          \n",
      "0.9235668800000001                                                              \n"
     ]
    },
    {
     "name": "stdout",
     "output_type": "stream",
     "text": [
      "ERROR                                                                           \n",
      "0.0029842811795142495                                                           \n",
      "HOLDOUT SCORE                                                                   \n",
      "0.9333545752731153                                                              \n",
      "SCORE:                                                                          \n",
      "0.92075048                                                                      \n",
      "ERROR                                                                           \n",
      "0.004607980692180135                                                            \n",
      "HOLDOUT SCORE                                                                   \n",
      "0.9354259811305695                                                              \n",
      "SCORE:                                                                          \n",
      "0.92003838                                                                      \n",
      "ERROR                                                                           \n",
      "0.004743004293412223                                                            \n",
      "HOLDOUT SCORE                                                                   \n",
      "0.9384887478953375                                                              \n",
      "SCORE:                                                                          \n",
      "0.9133807600000001                                                             \n",
      "ERROR                                                                          \n",
      "0.004109513001738784                                                           \n",
      "HOLDOUT SCORE                                                                  \n",
      "0.9281443877570411                                                             \n",
      "SCORE:                                                                         \n",
      "0.8978239800000001                                                             \n",
      "ERROR                                                                          \n",
      "0.004792145079340134                                                           \n",
      "HOLDOUT SCORE                                                                  \n",
      "0.917663200809812                                                              \n",
      "SCORE:                                                                         \n",
      "0.87990586                                                                     \n",
      "ERROR                                                                          \n",
      "0.008469302401626976                                                           \n",
      "HOLDOUT SCORE                                                                  \n",
      "0.9033800022551085                                                             \n",
      "SCORE:                                                                         \n",
      "0.9229987999999999                                                             \n",
      "ERROR                                                                          \n",
      "0.003821357991141438                                                           \n",
      "HOLDOUT SCORE                                                                  \n",
      "0.9364882892721446                                                             \n",
      "SCORE:                                                                         \n",
      "0.5                                                                            \n",
      "ERROR                                                                          \n",
      "0.0                                                                            \n",
      "HOLDOUT SCORE                                                                  \n",
      "0.5                                                                            \n",
      "SCORE:                                                                         \n",
      "0.92385022                                                                     \n",
      "ERROR                                                                          \n",
      "0.0034960006300453336                                                          \n",
      "HOLDOUT SCORE                                                                  \n",
      "0.9375778360840167                                                             \n",
      "SCORE:                                                                         \n",
      "0.8540043799999999                                                             \n",
      "ERROR                                                                          \n",
      "0.014715604677429694                                                           \n",
      "HOLDOUT SCORE                                                                  \n",
      "0.8900203846607012                                                             \n",
      "SCORE:                                                                         \n",
      "0.91986054                                                                     \n",
      "ERROR                                                                          \n",
      "0.004752254766472569                                                           \n",
      "HOLDOUT SCORE                                                                  \n",
      "0.9321339027693493                                                             \n",
      "SCORE:                                                                         \n",
      "0.92327888                                                                     \n",
      "ERROR                                                                          \n",
      "0.002811649009521063                                                           \n",
      "HOLDOUT SCORE                                                                  \n",
      "0.9363730000164698                                                             \n",
      "SCORE:                                                                         \n",
      "0.9237461600000001                                                             \n",
      "ERROR                                                                          \n",
      "0.0033120350146567655                                                          \n",
      "HOLDOUT SCORE                                                                  \n",
      "0.9362349062926396                                                             \n",
      "SCORE:                                                                         \n",
      "0.91964416                                                                     \n",
      "ERROR                                                                          \n",
      "0.004407219218639356                                                           \n",
      "HOLDOUT SCORE                                                                  \n",
      "0.933902515966295                                                              \n",
      "SCORE:                                                                         \n",
      "0.8497816                                                                      \n",
      "ERROR                                                                          \n",
      "0.011373771741779658                                                           \n",
      "HOLDOUT SCORE                                                                  \n",
      "0.8842863278345003                                                             \n",
      "SCORE:                                                                         \n",
      "0.9182584799999999                                                             \n",
      "ERROR                                                                          \n",
      "0.0030467489083115203                                                          \n",
      "HOLDOUT SCORE                                                                  \n",
      "0.9355279677798204                                                             \n",
      "SCORE:                                                                         \n",
      "0.9246235400000001                                                             \n",
      "ERROR                                                                          \n",
      "0.0033396685095860275                                                          \n",
      "HOLDOUT SCORE                                                                  \n",
      "0.9354798250137144                                                             \n",
      "SCORE:                                                                         \n",
      "0.9234988599999999                                                             \n"
     ]
    },
    {
     "name": "stdout",
     "output_type": "stream",
     "text": [
      "ERROR                                                                          \n",
      "0.00325890340077781                                                            \n",
      "HOLDOUT SCORE                                                                  \n",
      "0.9329466286761121                                                             \n",
      "SCORE:                                                                         \n",
      "0.91885982                                                                     \n",
      "ERROR                                                                          \n",
      "0.004371557015888933                                                           \n",
      "HOLDOUT SCORE                                                                  \n",
      "0.9377102286908081                                                             \n",
      "SCORE:                                                                         \n",
      "0.91100642                                                                     \n",
      "ERROR                                                                          \n",
      "0.0045275851703257515                                                          \n",
      "HOLDOUT SCORE                                                                  \n",
      "0.9299225028157184                                                             \n",
      "SCORE:                                                                         \n",
      "0.92008012                                                                     \n",
      "ERROR                                                                          \n",
      "0.003942237018864046                                                           \n",
      "HOLDOUT SCORE                                                                  \n",
      "0.9327489899520981                                                             \n",
      "SCORE:                                                                         \n",
      "0.9237717199999999                                                             \n",
      "ERROR                                                                          \n",
      "0.003143004577249821                                                           \n",
      "HOLDOUT SCORE                                                                  \n",
      "0.9391519778441922                                                             \n",
      "SCORE:                                                                         \n",
      "0.92415618                                                                     \n",
      "ERROR                                                                          \n",
      "0.0034690312829365353                                                          \n",
      "HOLDOUT SCORE                                                                  \n",
      "0.9404055901352939                                                             \n",
      "SCORE:                                                                         \n",
      "0.9243784999999999                                                            \n",
      "ERROR                                                                         \n",
      "0.003616564333439082                                                          \n",
      "HOLDOUT SCORE                                                                 \n",
      "0.9389150647583551                                                            \n",
      "SCORE:                                                                        \n",
      "0.92332288                                                                    \n",
      "ERROR                                                                         \n",
      "0.0026289874476123757                                                         \n",
      "HOLDOUT SCORE                                                                 \n",
      "0.9380358258194723                                                            \n",
      "SCORE:                                                                        \n",
      "0.9247373400000001                                                            \n",
      "ERROR                                                                         \n",
      "0.0038815532146819045                                                         \n",
      "HOLDOUT SCORE                                                                 \n",
      "0.9394294322067503                                                            \n",
      "SCORE:                                                                        \n",
      "0.92411016                                                                    \n",
      "ERROR                                                                         \n",
      "0.004088074815010316                                                          \n",
      "HOLDOUT SCORE                                                                 \n",
      "0.9383633233204827                                                            \n",
      "SCORE:                                                                        \n",
      "0.9230072799999999                                                            \n",
      "ERROR                                                                         \n",
      "0.0036059545064782428                                                         \n",
      "HOLDOUT SCORE                                                                 \n",
      "0.9393046410893442                                                            \n",
      "SCORE:                                                                        \n",
      "0.92413378                                                                    \n",
      "ERROR                                                                         \n",
      "0.0034227546524081146                                                         \n",
      "HOLDOUT SCORE                                                                 \n",
      "0.9394161296003264                                                            \n",
      "SCORE:                                                                        \n",
      "0.92456996                                                                    \n",
      "ERROR                                                                         \n",
      "0.003819619652991665                                                          \n",
      "HOLDOUT SCORE                                                                 \n",
      "0.938634443108553                                                             \n",
      "SCORE:                                                                        \n",
      "0.9196040999999999                                                            \n",
      "ERROR                                                                         \n",
      "0.004577959097164491                                                          \n",
      "HOLDOUT SCORE                                                                 \n",
      "0.932586191387766                                                             \n",
      "SCORE:                                                                        \n",
      "0.92453866                                                                    \n",
      "ERROR                                                                         \n",
      "0.002906847840499652                                                          \n",
      "HOLDOUT SCORE                                                                 \n",
      "0.936941844805459                                                             \n",
      "SCORE:                                                                        \n",
      "0.9251674000000001                                                            \n",
      "ERROR                                                                         \n",
      "0.0023031601659992762                                                         \n",
      "HOLDOUT SCORE                                                                 \n",
      "0.9392590321530332                                                            \n",
      "100%|██████████| 50/50 [02:21<00:00,  3.03s/it, best loss: 0.0595944098647061]\n",
      "Optimization Time: %f seconds 141.80592679977417\n",
      "CPU times: user 2min 21s, sys: 962 ms, total: 2min 22s\n",
      "Wall time: 2min 21s\n"
     ]
    }
   ],
   "source": [
    "%%time\n",
    "trials = Trials()\n",
    "import time\n",
    "start = time.time()\n",
    "best = fmin(fn=objective, space = space, algo = tpe.suggest, max_evals = 50, trials = trials)\n",
    "end = time.time()\n",
    "print(\"Optimization Time: %f seconds\", (end  -start))"
   ]
  },
  {
   "cell_type": "code",
   "execution_count": 7,
   "metadata": {},
   "outputs": [
    {
     "data": {
      "text/plain": [
       "{'x_learning_rate': 0.13950402590897332,\n",
       " 'x_max_depth': 10,\n",
       " 'x_min_child': 8.0,\n",
       " 'x_pos_weight': 8.583570174551443,\n",
       " 'x_subsample': 0.9096382810921928,\n",
       " 'x_tree_colsample': 0.6833035545834406}"
      ]
     },
     "execution_count": 7,
     "metadata": {},
     "output_type": "execute_result"
    }
   ],
   "source": [
    "best"
   ]
  },
  {
   "cell_type": "code",
   "execution_count": 8,
   "metadata": {},
   "outputs": [
    {
     "name": "stdout",
     "output_type": "stream",
     "text": [
      "[0]\ttrain-auc:0.936914+0.0033654\ttest-auc:0.899812+0.00689715\n",
      "[1]\ttrain-auc:0.95664+0.00233344\ttest-auc:0.91336+0.00580317\n",
      "[2]\ttrain-auc:0.963646+0.00249882\ttest-auc:0.918938+0.00698499\n",
      "[3]\ttrain-auc:0.968117+0.00102465\ttest-auc:0.922158+0.00562708\n",
      "[4]\ttrain-auc:0.972382+0.00152694\ttest-auc:0.924522+0.00604194\n",
      "[5]\ttrain-auc:0.974782+0.00167752\ttest-auc:0.927132+0.00545687\n",
      "[6]\ttrain-auc:0.976813+0.00115135\ttest-auc:0.928214+0.00576116\n",
      "[7]\ttrain-auc:0.978935+0.00116411\ttest-auc:0.929112+0.00515339\n",
      "[8]\ttrain-auc:0.980986+0.000942633\ttest-auc:0.930683+0.00547004\n",
      "[9]\ttrain-auc:0.982392+0.00116119\ttest-auc:0.932038+0.00571155\n",
      "   train-auc-mean  train-auc-std  test-auc-mean  test-auc-std\n",
      "0        0.936914       0.003365       0.899812      0.006897\n",
      "1        0.956640       0.002333       0.913360      0.005803\n",
      "2        0.963646       0.002499       0.918938      0.006985\n",
      "3        0.968117       0.001025       0.922158      0.005627\n",
      "4        0.972382       0.001527       0.924522      0.006042\n",
      "5        0.974782       0.001678       0.927132      0.005457\n",
      "6        0.976813       0.001151       0.928214      0.005761\n",
      "7        0.978935       0.001164       0.929112      0.005153\n",
      "8        0.980986       0.000943       0.930683      0.005470\n",
      "9        0.982392       0.001161       0.932038      0.005712\n"
     ]
    },
    {
     "name": "stderr",
     "output_type": "stream",
     "text": [
      "/home/dtamayo/miniconda3/envs/p3/lib/python3.7/site-packages/xgboost/core.py:587: FutureWarning: Series.base is deprecated and will be removed in a future version\n",
      "  if getattr(data, 'base', None) is not None and \\\n",
      "/home/dtamayo/miniconda3/envs/p3/lib/python3.7/site-packages/xgboost/core.py:588: FutureWarning: Series.base is deprecated and will be removed in a future version\n",
      "  data.base is not None and isinstance(data, np.ndarray) \\\n"
     ]
    },
    {
     "name": "stdout",
     "output_type": "stream",
     "text": [
      "0.8527607757151421\n"
     ]
    }
   ],
   "source": [
    "best_xgbc = XGBClassifier(n_estimators=100, scale_pos_weight=best[\"x_pos_weight\"],\n",
    "                         learning_rate = best[\"x_learning_rate\"], \n",
    "                         max_depth = int(best[\"x_max_depth\"]), \n",
    "                         min_child_weight = best[\"x_min_child\"],\n",
    "                         subsample = best[\"x_subsample\"], \n",
    "                         colsample_bytree = best[\"x_tree_colsample\"])\n",
    "params = best_xgbc.get_xgb_params()\n",
    "score = xgb.cv(params, dtrain, nfold = 5, metrics = \"auc\", verbose_eval=True)\n",
    "print(score)\n",
    "d_Train = xgb.DMatrix(trainX, trainY)\n",
    "d_Test = xgb.DMatrix(testX)\n",
    "bst = xgb.train(params, d_Train)\n",
    "preds = bst.predict(d_Test)\n",
    "score = metrics.average_precision_score(testY, preds)\n",
    "print(score)"
   ]
  },
  {
   "cell_type": "code",
   "execution_count": 9,
   "metadata": {},
   "outputs": [
    {
     "data": {
      "text/plain": [
       "XGBClassifier(base_score=0.5, booster='gbtree', colsample_bylevel=1,\n",
       "       colsample_bytree=0.6833035545834406, gamma=0,\n",
       "       learning_rate=0.13950402590897332, max_delta_step=0, max_depth=10,\n",
       "       min_child_weight=8.0, missing=None, n_estimators=100, n_jobs=1,\n",
       "       nthread=None, objective='binary:logistic', random_state=0,\n",
       "       reg_alpha=0, reg_lambda=1, scale_pos_weight=8.583570174551443,\n",
       "       seed=None, silent=True, subsample=0.9096382810921928)"
      ]
     },
     "execution_count": 9,
     "metadata": {},
     "output_type": "execute_result"
    }
   ],
   "source": [
    "model = XGBClassifier(n_estimators=100, scale_pos_weight=best[\"x_pos_weight\"],\n",
    "                         learning_rate = best[\"x_learning_rate\"], \n",
    "                         max_depth = int(best[\"x_max_depth\"]), \n",
    "                         min_child_weight = best[\"x_min_child\"],\n",
    "                         subsample = best[\"x_subsample\"], \n",
    "                         colsample_bytree = best[\"x_tree_colsample\"])\n",
    "\n",
    "model.fit(trainX, trainY)"
   ]
  },
  {
   "cell_type": "code",
   "execution_count": 10,
   "metadata": {},
   "outputs": [
    {
     "data": {
      "text/plain": [
       "Text(0.5, 1.0, 'ROC curve (AUC = 0.943)')"
      ]
     },
     "execution_count": 10,
     "metadata": {},
     "output_type": "execute_result"
    },
    {
     "data": {
      "image/png": "[encoded data removed]",
      "text/plain": [
       "<Figure size 432x288 with 1 Axes>"
      ]
     },
     "metadata": {
      "needs_background": "light"
     },
     "output_type": "display_data"
    }
   ],
   "source": [
    "roc_auc, fpr, tpr, ROCthresholds = ROC_curve(trainingdatafolder, model, features)\n",
    "\n",
    "fig, ax = plt.subplots()\n",
    "ax.plot(fpr, tpr)\n",
    "ax.plot([0, 1], [0, 1], 'k--')\n",
    "ax.set_xlim([0.0, 1.0])\n",
    "ax.set_ylim([0.0, 1.0])\n",
    "ax.set_xlabel('False Positive Rate')\n",
    "ax.set_ylabel('True Positive Rate')\n",
    "ax.set_title('ROC curve (AUC = {0:.3f})'.format(roc_auc))"
   ]
  },
  {
   "cell_type": "code",
   "execution_count": 11,
   "metadata": {},
   "outputs": [
    {
     "name": "stdout",
     "output_type": "stream",
     "text": [
      "Threshold 0.0044329105876386166, recall = 1.0, precision = 0.4296228150873965\n",
      "Threshold 0.004784636199474335, recall = 0.9978586723768736, precision = 0.43470149253731344\n",
      "Threshold 0.005336316302418709, recall = 0.9978586723768736, precision = 0.44087038789025546\n",
      "Threshold 0.006001991219818592, recall = 0.9957173447537473, precision = 0.44625719769673705\n",
      "Threshold 0.006593071389943361, recall = 0.9935760171306209, precision = 0.45180136319376824\n",
      "Threshold 0.007144923321902752, recall = 0.9914346895074947, precision = 0.4575098814229249\n",
      "Threshold 0.0076441639102995396, recall = 0.9892933618843683, precision = 0.4633901705115346\n",
      "Threshold 0.008673561736941338, recall = 0.9892933618843683, precision = 0.47046843177189407\n",
      "Threshold 0.010091414675116539, recall = 0.9892933618843683, precision = 0.47776628748707345\n",
      "Threshold 0.011444910429418087, recall = 0.9892933618843683, precision = 0.4852941176470588\n",
      "Threshold 0.012841804884374142, recall = 0.9892933618843683, precision = 0.49306296691568835\n",
      "Threshold 0.014339160174131393, recall = 0.9892933618843683, precision = 0.5010845986984815\n",
      "Threshold 0.016321996226906776, recall = 0.987152034261242, precision = 0.5082690187431091\n",
      "Threshold 0.019008098170161247, recall = 0.987152034261242, precision = 0.5168161434977578\n",
      "Threshold 0.0211896114051342, recall = 0.9850107066381156, precision = 0.5245153933865451\n",
      "Threshold 0.0250129122287035, recall = 0.9828693790149893, precision = 0.5324825986078886\n",
      "Threshold 0.028386719524860382, recall = 0.9807280513918629, precision = 0.5407319952774499\n",
      "Threshold 0.033335451036691666, recall = 0.9764453961456103, precision = 0.5480769230769231\n",
      "Threshold 0.038648709654808044, recall = 0.9721627408993576, precision = 0.5556915544675642\n",
      "Threshold 0.045082587748765945, recall = 0.9721627408993576, precision = 0.5660847880299252\n",
      "Threshold 0.05005893483757973, recall = 0.9700214132762313, precision = 0.5756035578144854\n",
      "Threshold 0.05926595628261566, recall = 0.9678800856531049, precision = 0.5854922279792746\n",
      "Threshold 0.06723494827747345, recall = 0.9657387580299786, precision = 0.5957727873183619\n",
      "Threshold 0.07356560230255127, recall = 0.961456102783726, precision = 0.605121293800539\n",
      "Threshold 0.0848347470164299, recall = 0.9571734475374732, precision = 0.6148555708390646\n",
      "Threshold 0.09971325099468231, recall = 0.9486081370449678, precision = 0.6221910112359551\n",
      "Threshold 0.1210973933339119, recall = 0.9379014989293362, precision = 0.6284074605451937\n",
      "Threshold 0.1300087571144104, recall = 0.9357601713062098, precision = 0.6407624633431085\n",
      "Threshold 0.1507592648267746, recall = 0.9314775160599572, precision = 0.6521739130434783\n",
      "Threshold 0.16731517016887665, recall = 0.9314775160599572, precision = 0.6671779141104295\n",
      "Threshold 0.2100284844636917, recall = 0.9293361884368309, precision = 0.6813186813186813\n",
      "Threshold 0.25311923027038574, recall = 0.9186295503211992, precision = 0.6897106109324759\n",
      "Threshold 0.2921353280544281, recall = 0.9100642398286938, precision = 0.700164744645799\n",
      "Threshold 0.31924259662628174, recall = 0.9057815845824411, precision = 0.714527027027027\n",
      "Threshold 0.36607712507247925, recall = 0.8993576017130621, precision = 0.7279029462738301\n",
      "Threshold 0.3977595865726471, recall = 0.8886509635974305, precision = 0.7384341637010676\n",
      "Threshold 0.4516052305698395, recall = 0.880085653104925, precision = 0.7513711151736746\n",
      "Threshold 0.5065101981163025, recall = 0.867237687366167, precision = 0.7612781954887218\n",
      "Threshold 0.5634279847145081, recall = 0.8522483940042827, precision = 0.769825918762089\n",
      "Threshold 0.6043581366539001, recall = 0.8351177730192719, precision = 0.7768924302788844\n",
      "Threshold 0.6430299282073975, recall = 0.815845824411135, precision = 0.7823408624229979\n",
      "Threshold 0.6924481987953186, recall = 0.7965738758029979, precision = 0.788135593220339\n",
      "Threshold 0.7292606830596924, recall = 0.7815845824411135, precision = 0.7986870897155361\n",
      "Threshold 0.7706748843193054, recall = 0.7580299785867237, precision = 0.8009049773755657\n",
      "Threshold 0.7899746298789978, recall = 0.7408993576017131, precision = 0.810304449648712\n",
      "Threshold 0.8134245872497559, recall = 0.7259100642398287, precision = 0.8228155339805825\n",
      "Threshold 0.8421182036399841, recall = 0.7044967880085653, precision = 0.8287153652392947\n",
      "Threshold 0.8666101098060608, recall = 0.6852248394004282, precision = 0.837696335078534\n",
      "Threshold 0.8869675993919373, recall = 0.6659528907922913, precision = 0.8474114441416893\n",
      "Threshold 0.9067215919494629, recall = 0.6423982869379015, precision = 0.8522727272727273\n",
      "Threshold 0.9220453500747681, recall = 0.6252676659528907, precision = 0.8664688427299704\n",
      "Threshold 0.9280604124069214, recall = 0.6017130620985011, precision = 0.8726708074534162\n",
      "Threshold 0.9336968660354614, recall = 0.5802997858672377, precision = 0.8827361563517915\n",
      "Threshold 0.9467458128929138, recall = 0.556745182012848, precision = 0.8904109589041096\n",
      "Threshold 0.9529211521148682, recall = 0.5396145610278372, precision = 0.9097472924187726\n",
      "Threshold 0.9602670669555664, recall = 0.5203426124197003, precision = 0.9274809160305344\n",
      "Threshold 0.9668466448783875, recall = 0.49036402569593146, precision = 0.9271255060728745\n",
      "Threshold 0.9721907377243042, recall = 0.4668094218415418, precision = 0.9396551724137931\n",
      "Threshold 0.9769830703735352, recall = 0.43897216274089934, precision = 0.9447004608294931\n",
      "Threshold 0.9810433983802795, recall = 0.41113490364025695, precision = 0.9504950495049505\n",
      "Threshold 0.983664333820343, recall = 0.38329764453961457, precision = 0.9572192513368984\n",
      "Threshold 0.9876229763031006, recall = 0.3576017130620985, precision = 0.9709302325581395\n",
      "Threshold 0.9895965456962585, recall = 0.3297644539614561, precision = 0.9808917197452229\n",
      "Threshold 0.9916447997093201, recall = 0.29764453961456105, precision = 0.9788732394366197\n",
      "Threshold 0.9929168224334717, recall = 0.2676659528907923, precision = 0.984251968503937\n",
      "Threshold 0.9942493438720703, recall = 0.2398286937901499, precision = 1.0\n",
      "Threshold 0.995441198348999, recall = 0.20770877944325483, precision = 1.0\n",
      "Threshold 0.9964685440063477, recall = 0.17558886509635974, precision = 1.0\n",
      "Threshold 0.9972537159919739, recall = 0.14346895074946467, precision = 1.0\n",
      "Threshold 0.9979415535926819, recall = 0.11134903640256959, precision = 1.0\n",
      "Threshold 0.9986250400543213, recall = 0.07922912205567452, precision = 1.0\n",
      "Threshold 0.9989560842514038, recall = 0.047109207708779445, precision = 1.0\n",
      "Threshold 0.9995310306549072, recall = 0.014989293361884369, precision = 1.0\n"
     ]
    }
   ],
   "source": [
    "pr_auc, precision, recall, PRthresholds = PR_curve(trainingdatafolder, model, features)\n",
    "for i in range(0,len(recall), 15):\n",
    "    print(\"Threshold {0}, recall = {1}, precision = {2}\".format(PRthresholds[i], recall[i], precision[i]))"
   ]
  },
  {
   "cell_type": "code",
   "execution_count": 12,
   "metadata": {},
   "outputs": [
    {
     "data": {
      "image/png": "[encoded data removed]",
      "text/plain": [
       "<Figure size 432x288 with 1 Axes>"
      ]
     },
     "metadata": {
      "needs_background": "light"
     },
     "output_type": "display_data"
    }
   ],
   "source": [
    "fig, ax = plt.subplots()\n",
    "ax.plot(recall, precision)\n",
    "ax.set_xlim([0.0, 1.0])\n",
    "ax.set_ylim([0.0, 1.0])\n",
    "ax.set_xlabel('Recall')\n",
    "ax.set_ylabel('Precision')\n",
    "ax.set_title(\"AUC Score (Test): {0:.4f}\".format(pr_auc))\n",
    "plt.show()"
   ]
  },
  {
   "cell_type": "code",
   "execution_count": 13,
   "metadata": {},
   "outputs": [
    {
     "data": {
      "text/plain": [
       "(0, 106.7)"
      ]
     },
     "execution_count": 13,
     "metadata": {},
     "output_type": "execute_result"
    },
    {
     "data": {
      "image/png": "[encoded data removed]",
      "text/plain": [
       "<Figure size 432x288 with 2 Axes>"
      ]
     },
     "metadata": {
      "needs_background": "light"
     },
     "output_type": "display_data"
    }
   ],
   "source": [
    "# Histogram:\n",
    "bins = 50\n",
    "Stable, Unstable = stable_unstable_hist(trainingdatafolder, model, features)\n",
    "\n",
    "fig, ax1 = plt.subplots()\n",
    "n, bins, pathces = ax1.hist(Unstable, bins, alpha=0.5, label='No', color='blue', edgecolor = \"black\")\n",
    "#print(n)\n",
    "ax1.set_xlabel('Predicted Probability', fontsize=14)\n",
    "ax1.set_ylabel('Unstable',  fontsize=14, color='blue')\n",
    "for tl in ax1.get_yticklabels():\n",
    "    tl.set_color('blue')\n",
    "    \n",
    "\n",
    "\n",
    "ax2 = ax1.twinx()\n",
    "n, bins , patches = ax2.hist(Stable, bins, alpha=0.5, label='Yes',color='green', edgecolor = \"black\")\n",
    "#print(n.astype(int))\n",
    "ax2.set_ylabel('Stable', fontsize=14, color='green')\n",
    "for tl in ax2.get_yticklabels():\n",
    "    tl.set_color('green')\n",
    "    \n",
    "    \n",
    "#ax1.set_ylim(ax2.get_ylim())\n",
    "ax1.set_ylim([0,1.1*n[-1]]) # goes up to ~4300\n",
    "ax2.set_ylim([0,1.1*n[-1]]) # goes up to ~2100"
   ]
  },
  {
   "cell_type": "code",
   "execution_count": 14,
   "metadata": {},
   "outputs": [
    {
     "data": {
      "text/plain": [
       "Text(0, 0.5, 'Fraction actually stable')"
      ]
     },
     "execution_count": 14,
     "metadata": {},
     "output_type": "execute_result"
    },
    {
     "data": {
      "image/png": "[encoded data removed]",
      "text/plain": [
       "<Figure size 576x432 with 1 Axes>"
      ]
     },
     "metadata": {
      "needs_background": "light"
     },
     "output_type": "display_data"
    }
   ],
   "source": [
    "bincenters, fracstable, errorbars = calibration_plot(trainingdatafolder, model, features, bins=10)\n",
    "fig, ax = plt.subplots(figsize=(8,6))\n",
    "ax.plot(np.linspace(0,1,100), np.linspace(0,1,100), '--')\n",
    "ax.errorbar(bincenters, fracstable, errorbars)\n",
    "ax.set_xlim([0,1])\n",
    "ax.set_ylim([0,1])\n",
    "ax.set_xlabel('Predicted Probability of Stability')\n",
    "ax.set_ylabel('Fraction actually stable')"
   ]
  },
  {
   "cell_type": "code",
   "execution_count": 15,
   "metadata": {},
   "outputs": [
    {
     "data": {
      "text/plain": [
       "Text(0.5, 1.0, 'Fraction of unstable systems mislabeled as stable')"
      ]
     },
     "execution_count": 15,
     "metadata": {},
     "output_type": "execute_result"
    },
    {
     "data": {
      "image/png": "[encoded data removed]",
      "text/plain": [
       "<Figure size 576x432 with 1 Axes>"
      ]
     },
     "metadata": {
      "needs_background": "light"
     },
     "output_type": "display_data"
    }
   ],
   "source": [
    "bincenters, errorfracs, errorbars = unstable_error_fraction(trainingdatafolder, model, features, bins=10)\n",
    "fig, ax = plt.subplots(figsize=(8,6))\n",
    "ax.errorbar(bincenters, errorfracs, errorbars)\n",
    "ax.set_ylim([0,1])\n",
    "ax.set_xlabel('Log Instability Time')\n",
    "ax.set_ylabel('Error Fraction')\n",
    "ax.set_title('Fraction of unstable systems mislabeled as stable')"
   ]
  },
  {
   "cell_type": "code",
   "execution_count": 16,
   "metadata": {},
   "outputs": [
    {
     "data": {
      "image/png": "[encoded data removed]",
      "text/plain": [
       "<Figure size 864x576 with 1 Axes>"
      ]
     },
     "metadata": {
      "needs_background": "light"
     },
     "output_type": "display_data"
    }
   ],
   "source": [
    "# feature importances\n",
    "feat_imp = pd.Series(model.get_booster().get_fscore()).sort_values(ascending=False)\n",
    "feat_imp.plot(kind='bar', title='Feature Importances', figsize=(12,8))\n",
    "plt.ylabel('Feature Importance Score')\n",
    "plt.show()"
   ]
  },
  {
   "cell_type": "code",
   "execution_count": 18,
   "metadata": {},
   "outputs": [],
   "source": [
    "dill.dump([model, features, featurefolder], open(datapath+\"../models/ressummaryfeaturesxgb_resonantNoFilter.pkl\", \"wb\"))"
   ]
  },
  {
   "cell_type": "code",
   "execution_count": null,
   "metadata": {},
   "outputs": [],
   "source": []
  }
 ],
 "metadata": {
  "anaconda-cloud": {},
  "kernelspec": {
   "display_name": "Python 3",
   "language": "python",
   "name": "python3"
  },
  "language_info": {
   "codemirror_mode": {
    "name": "ipython",
    "version": 3
   },
   "file_extension": ".py",
   "mimetype": "text/x-python",
   "name": "python",
   "nbconvert_exporter": "python",
   "pygments_lexer": "ipython3",
   "version": "3.7.2"
  }
 },
 "nbformat": 4,
 "nbformat_minor": 2
}
