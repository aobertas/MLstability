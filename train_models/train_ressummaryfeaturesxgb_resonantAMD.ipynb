{
 "cells": [
  {
   "cell_type": "code",
   "execution_count": 1,
   "metadata": {},
   "outputs": [],
   "source": [
    "import numpy as np\n",
    "import sklearn\n",
    "import matplotlib.pyplot as plt\n",
    "%matplotlib inline\n",
    "import pandas as pd\n",
    "from sklearn import metrics\n",
    "from sklearn.model_selection import cross_val_score\n",
    "from matplotlib import rc\n",
    "from matplotlib import cm\n",
    "from mpl_toolkits.mplot3d import axes3d\n",
    "from matplotlib.ticker import MaxNLocator\n",
    "import scipy.signal\n",
    "import xgboost as xgb\n",
    "from xgboost.sklearn import XGBClassifier\n",
    "from hyperopt import hp, fmin, tpe, STATUS_OK, Trials\n",
    "import dill\n",
    "import sys\n",
    "sys.path.append('../')\n",
    "from modelfitting import train_test_split, ROC_curve, PR_curve, stable_unstable_hist, calibration_plot, unstable_error_fraction"
   ]
  },
  {
   "cell_type": "code",
   "execution_count": 2,
   "metadata": {},
   "outputs": [],
   "source": [
    "datapath = '/mnt/ssd/Dropbox/Dropbox (Princeton)/workspace/stability/MLstability/training_data/'\n",
    "dset = 'resonant/'\n",
    "featurefolder = 'ressummaryfeaturesxgbNorbits10000.0Nout1000/'\n",
    "features = None"
   ]
  },
  {
   "cell_type": "code",
   "execution_count": 3,
   "metadata": {
    "scrolled": true
   },
   "outputs": [],
   "source": [
    "trainingdatafolder = datapath+dset+featurefolder\n",
    "trainX, trainY, testX, testY = train_test_split(trainingdatafolder, features, filter=False)"
   ]
  },
  {
   "cell_type": "code",
   "execution_count": 4,
   "metadata": {},
   "outputs": [
    {
     "name": "stderr",
     "output_type": "stream",
     "text": [
      "/home/dtamayo/miniconda3/envs/ml/lib/python3.7/site-packages/xgboost/core.py:587: FutureWarning: Series.base is deprecated and will be removed in a future version\n",
      "  if getattr(data, 'base', None) is not None and \\\n",
      "/home/dtamayo/miniconda3/envs/ml/lib/python3.7/site-packages/xgboost/core.py:588: FutureWarning: Series.base is deprecated and will be removed in a future version\n",
      "  data.base is not None and isinstance(data, np.ndarray) \\\n"
     ]
    }
   ],
   "source": [
    "space ={\n",
    "        'max_depth': hp.randint('x_max_depth',  20),\n",
    "        'min_child_weight': hp.quniform ('x_min_child', 1, 10, 1),\n",
    "        'subsample': hp.uniform ('x_subsample', 0.8, 1),\n",
    "        'scale_pos_weight': hp.uniform(\"x_pos_weight\", 1, 15),\n",
    "        \"learning_rate\":hp.uniform(\"x_learning_rate\",0.01,0.2),\n",
    "        'colsample_bytree': hp.uniform ('x_tree_colsample', 0.5,1),\n",
    "}\n",
    "\n",
    "dtrain = xgb.DMatrix(trainX, trainY)\n",
    "dtest = xgb.DMatrix(testX, testY)\n",
    "def objective(space):\n",
    "\n",
    "    clf = XGBClassifier(n_estimators = 100, \n",
    "                            max_depth = space['max_depth'], \n",
    "                            min_child_weight =space['min_child_weight'],\n",
    "                            subsample = space['subsample'],\n",
    "                            colsample_bytree =space['colsample_bytree'],\n",
    "                            learning_rate = space['learning_rate'], seed = 0)\n",
    "    \n",
    "    params = clf.get_xgb_params()\n",
    "    #dtest\n",
    "    score = xgb.cv(params, dtrain, nfold = 5, metrics = \"auc\", early_stopping_rounds=10)\n",
    "    #print score\n",
    "    #score = cross_val_score(clf, trainX, trainY, cv = 5, scoring=\"average_precision\")\n",
    "    avg_score =  np.mean(score[\"test-auc-mean\"])\n",
    "    error = np.mean(score[\"test-auc-std\"])\n",
    "    \n",
    "    bst = xgb.train(params, dtrain)\n",
    "    preds = bst.predict(dtest)\n",
    "    test_score = metrics.roc_auc_score(testY, preds)\n",
    "    \n",
    "    print(\"SCORE:\", avg_score, \"ERROR\", error, \"HOLDOUT SCORE\", test_score)\n",
    "\n",
    "    return{'loss':1-test_score, 'status': STATUS_OK, \"cv_score\":avg_score , \"cv_error\":error, \"holdout\":test_score }"
   ]
  },
  {
   "cell_type": "code",
   "execution_count": 5,
   "metadata": {
    "scrolled": true
   },
   "outputs": [
    {
     "name": "stdout",
     "output_type": "stream",
     "text": [
      "SCORE:                                              \n",
      "0.9333984999999998                                  \n",
      "ERROR                                               \n",
      "0.004788971712596568                                \n",
      "HOLDOUT SCORE                                       \n",
      "0.9452794117460748                                  \n",
      "SCORE:                                                                        \n",
      "0.93188904                                                                    \n",
      "ERROR                                                                         \n",
      "0.004065170991710046                                                          \n",
      "HOLDOUT SCORE                                                                 \n",
      "0.9444711200414536                                                            \n",
      "SCORE:                                                                        \n",
      "0.9290982199999999                                                            \n",
      "ERROR                                                                         \n",
      "0.005283089497440807                                                          \n",
      "HOLDOUT SCORE                                                                 \n",
      "0.9424985335460061                                                            \n",
      "SCORE:                                                                        \n",
      "0.93223224                                                                    \n",
      "ERROR                                                                         \n",
      "0.003074156761389052                                                          \n",
      "HOLDOUT SCORE                                                                 \n",
      "0.9462181956851413                                                            \n",
      "SCORE:                                                                        \n",
      "0.9186879400000001                                                            \n",
      "ERROR                                                                         \n",
      "0.005400972028768937                                                          \n",
      "HOLDOUT SCORE                                                                 \n",
      "0.9333849812306558                                                            \n",
      "SCORE:                                                                        \n",
      "0.9270554799999999                                                            \n",
      "ERROR                                                                         \n",
      "0.006147910339192396                                                          \n",
      "HOLDOUT SCORE                                                                 \n",
      "0.9450526339794176                                                            \n",
      "SCORE:                                                                        \n",
      "0.93003374                                                                    \n",
      "ERROR                                                                         \n",
      "0.005259000304376953                                                          \n",
      "HOLDOUT SCORE                                                                 \n",
      "0.944838525361736                                                             \n",
      "SCORE:                                                                        \n",
      "0.9206248599999999                                                            \n",
      "ERROR                                                                         \n",
      "0.0041099671214161705                                                         \n",
      "HOLDOUT SCORE                                                                 \n",
      "0.936848093103042                                                             \n",
      "SCORE:                                                                        \n",
      "0.9236277399999999                                                            \n",
      "ERROR                                                                         \n",
      "0.003609948757701461                                                          \n",
      "HOLDOUT SCORE                                                                 \n",
      "0.9355653417692972                                                            \n",
      "SCORE:                                                                        \n",
      "0.9309316599999999                                                            \n",
      "ERROR                                                                         \n",
      "0.004443080669381729                                                          \n",
      "HOLDOUT SCORE                                                                 \n",
      "0.9453459247781949                                                            \n",
      "SCORE:                                                                         \n",
      "0.92699838                                                                     \n",
      "ERROR                                                                          \n",
      "0.00603206996323349                                                            \n",
      "HOLDOUT SCORE                                                                  \n",
      "0.9415990239687629                                                             \n",
      "SCORE:                                                                         \n",
      "0.92611826                                                                     \n",
      "ERROR                                                                          \n",
      "0.006735008749628599                                                           \n",
      "HOLDOUT SCORE                                                                  \n",
      "0.9455910728108661                                                             \n",
      "SCORE:                                                                         \n",
      "0.9293327399999999                                                             \n",
      "ERROR                                                                          \n",
      "0.006363388370360131                                                           \n",
      "HOLDOUT SCORE                                                                  \n",
      "0.9443513965836374                                                             \n",
      "SCORE:                                                                         \n",
      "0.88984128                                                                     \n",
      "ERROR                                                                          \n",
      "0.008116184434762993                                                           \n",
      "HOLDOUT SCORE                                                                  \n",
      "0.9011901398547355                                                             \n",
      "SCORE:                                                                         \n",
      "0.9298550999999999                                                             \n",
      "ERROR                                                                          \n",
      "0.007423552923567704                                                           \n",
      "HOLDOUT SCORE                                                                  \n",
      "0.942883675674854                                                              \n",
      "SCORE:                                                                         \n",
      "0.93294542                                                                     \n",
      "ERROR                                                                          \n",
      "0.004103968979695194                                                           \n",
      "HOLDOUT SCORE                                                                  \n",
      "0.9487494916503973                                                             \n",
      "SCORE:                                                                         \n",
      "0.9301833                                                                      \n",
      "ERROR                                                                          \n",
      "0.003953933772659883                                                           \n",
      "HOLDOUT SCORE                                                                  \n",
      "0.9455093567999757                                                             \n",
      "SCORE:                                                                         \n",
      "0.9322012599999999                                                             \n",
      "ERROR                                                                          \n",
      "0.00507280431651824                                                            \n",
      "HOLDOUT SCORE                                                                  \n",
      "0.9471329082411547                                                             \n",
      "SCORE:                                                                         \n",
      "0.9313927600000002                                                             \n",
      "ERROR                                                                          \n",
      "0.005714551514648513                                                           \n",
      "HOLDOUT SCORE                                                                  \n",
      "0.9493392405351956                                                             \n",
      "SCORE:                                                                         \n",
      "0.5                                                                            \n",
      "ERROR                                                                          \n",
      "0.0                                                                            \n",
      "HOLDOUT SCORE                                                                  \n",
      "0.5                                                                            \n",
      "SCORE:                                                                         \n",
      "0.93181602                                                                     \n",
      "ERROR                                                                          \n",
      "0.004058234244144898                                                           \n",
      "HOLDOUT SCORE                                                                  \n",
      "0.948595561490348                                                              \n",
      "SCORE:                                                                         \n",
      "0.9314441200000001                                                             \n",
      "ERROR                                                                          \n",
      "0.004834864391147602                                                           \n",
      "HOLDOUT SCORE                                                                  \n",
      "0.9486449711713515                                                             \n",
      "SCORE:                                                                         \n",
      "0.9331424                                                                      \n",
      "ERROR                                                                          \n",
      "0.004165228180832019                                                           \n",
      "HOLDOUT SCORE                                                                  \n",
      "0.9448043186595025                                                             \n",
      "SCORE:                                                                         \n",
      "0.9086345                                                                      \n",
      "ERROR                                                                          \n",
      "0.005292075738170797                                                           \n",
      "HOLDOUT SCORE                                                                  \n",
      "0.9265176690286183                                                             \n",
      "SCORE:                                                                         \n",
      "0.9310523199999998                                                             \n",
      "ERROR                                                                          \n",
      "0.0035228708108881552                                                          \n",
      "HOLDOUT SCORE                                                                  \n",
      "0.9447485744040116                                                             \n",
      "SCORE:                                                                         \n",
      "0.92668344                                                                     \n",
      "ERROR                                                                          \n",
      "0.006634440070975992                                                           \n",
      "HOLDOUT SCORE                                                                  \n",
      "0.9389499049180369                                                             \n",
      "SCORE:                                                                         \n",
      "0.9332780599999999                                                             \n",
      "ERROR                                                                          \n",
      "0.0038397455019223694                                                          \n",
      "HOLDOUT SCORE                                                                  \n",
      "0.9487013488842915                                                             \n",
      "SCORE:                                                                         \n",
      "0.85326228                                                                     \n",
      "ERROR                                                                          \n",
      "0.01920440736530862                                                            \n",
      "HOLDOUT SCORE                                                                  \n",
      "0.8946465244090159                                                             \n",
      "SCORE:                                                                         \n",
      "0.9301400400000001                                                             \n",
      "ERROR                                                                          \n",
      "0.005101989710323195                                                           \n",
      "HOLDOUT SCORE                                                                  \n",
      "0.9492974323435772                                                             \n",
      "SCORE:                                                                         \n",
      "0.92793224                                                                     \n",
      "ERROR                                                                          \n",
      "0.004438104491904827                                                           \n",
      "HOLDOUT SCORE                                                                  \n",
      "0.9463119473875581                                                             \n",
      "SCORE:                                                                         \n",
      "0.92897356                                                                     \n",
      "ERROR                                                                          \n",
      "0.005591512744603758                                                           \n",
      "HOLDOUT SCORE                                                                  \n",
      "0.9438832715290015                                                             \n",
      "SCORE:                                                                         \n",
      "0.9323877399999999                                                             \n",
      "ERROR                                                                          \n",
      "0.004751003098648817                                                           \n",
      "HOLDOUT SCORE                                                                  \n",
      "0.950478197028071                                                              \n",
      "SCORE:                                                                          \n",
      "0.92950106                                                                      \n",
      "ERROR                                                                           \n",
      "0.005280419272785888                                                            \n",
      "HOLDOUT SCORE                                                                   \n",
      "0.9471975209009283                                                              \n",
      "SCORE:                                                                          \n",
      "0.93123884                                                                      \n",
      "ERROR                                                                           \n",
      "0.0038905792835853604                                                           \n",
      "HOLDOUT SCORE                                                                   \n",
      "0.9449170740853824                                                              \n",
      "SCORE:                                                                          \n",
      "0.93259788                                                                      \n",
      "ERROR                                                                           \n"
     ]
    },
    {
     "name": "stdout",
     "output_type": "stream",
     "text": [
      "0.0037334380486168084                                                           \n",
      "HOLDOUT SCORE                                                                   \n",
      "0.9484226276068357                                                              \n",
      "SCORE:                                                                          \n",
      "0.9344089800000001                                                              \n",
      "ERROR                                                                           \n",
      "0.0041116646830891565                                                           \n",
      "HOLDOUT SCORE                                                                   \n",
      "0.9488293072889415                                                              \n",
      "SCORE:                                                                          \n",
      "0.9148373200000002                                                              \n",
      "ERROR                                                                           \n",
      "0.005351361531714097                                                            \n",
      "HOLDOUT SCORE                                                                   \n",
      "0.9336510333591361                                                              \n",
      "SCORE:                                                                          \n",
      "0.9338047599999999                                                              \n",
      "ERROR                                                                           \n",
      "0.00552616789472961                                                             \n",
      "HOLDOUT SCORE                                                                   \n",
      "0.9489686679276693                                                              \n",
      "SCORE:                                                                          \n",
      "0.5                                                                             \n",
      "ERROR                                                                           \n",
      "0.0                                                                             \n",
      "HOLDOUT SCORE                                                                   \n",
      "0.5                                                                             \n",
      "SCORE:                                                                          \n",
      "0.93300678                                                                      \n",
      "ERROR                                                                           \n",
      "0.003289166740040814                                                            \n",
      "HOLDOUT SCORE                                                                   \n",
      "0.9440771095083229                                                              \n",
      "SCORE:                                                                          \n",
      "0.89190182                                                                      \n",
      "ERROR                                                                           \n",
      "0.008039779175433871                                                            \n",
      "HOLDOUT SCORE                                                                   \n",
      "0.9044074702370017                                                              \n",
      "SCORE:                                                                          \n",
      "0.92206948                                                                      \n",
      "ERROR                                                                           \n",
      "0.007234363446702173                                                            \n",
      "HOLDOUT SCORE                                                                   \n",
      "0.9387991420452313                                                              \n",
      "SCORE:                                                                          \n",
      "0.9317919400000001                                                              \n",
      "ERROR                                                                           \n",
      "0.0052780968740623255                                                           \n",
      "HOLDOUT SCORE                                                                   \n",
      "0.9471189721772819                                                              \n",
      "SCORE:                                                                          \n",
      "0.9291438999999999                                                              \n",
      "ERROR                                                                           \n",
      "0.004582408729819829                                                            \n",
      "HOLDOUT SCORE                                                                   \n",
      "0.9452870132354599                                                              \n",
      "SCORE:                                                                          \n",
      "0.9334237200000001                                                              \n",
      "ERROR                                                                           \n",
      "0.005161187601442229                                                            \n",
      "HOLDOUT SCORE                                                                   \n",
      "0.9463429868025475                                                              \n",
      "SCORE:                                                                          \n",
      "0.9284767                                                                       \n",
      "ERROR                                                                           \n",
      "0.005854358854946237                                                            \n",
      "HOLDOUT SCORE                                                                   \n",
      "0.9398589163570116                                                              \n",
      "SCORE:                                                                          \n",
      "0.9300632600000001                                                              \n",
      "ERROR                                                                           \n",
      "0.004010611340600094                                                            \n",
      "HOLDOUT SCORE                                                                   \n",
      "0.9422122107791655                                                              \n",
      "SCORE:                                                                          \n",
      "0.82661032                                                                      \n",
      "ERROR                                                                           \n",
      "0.024221115013676364                                                            \n",
      "HOLDOUT SCORE                                                                   \n",
      "0.8631484862267347                                                              \n",
      "SCORE:                                                                          \n",
      "0.9336906199999999                                                              \n",
      "ERROR                                                                           \n",
      "0.005550047425341268                                                            \n",
      "HOLDOUT SCORE                                                                   \n",
      "0.9496781402702836                                                              \n",
      "SCORE:                                                                          \n",
      "0.9316753                                                                       \n",
      "ERROR                                                                           \n",
      "0.00373220936370932                                                             \n",
      "HOLDOUT SCORE                                                                   \n",
      "0.9453503589803363                                                              \n",
      "100%|██████████| 50/50 [02:47<00:00,  3.65s/it, best loss: 0.049521802971928985]\n",
      "Optimization Time: %f seconds 167.30928707122803\n",
      "CPU times: user 2min 46s, sys: 923 ms, total: 2min 47s\n",
      "Wall time: 2min 47s\n"
     ]
    }
   ],
   "source": [
    "%%time\n",
    "trials = Trials()\n",
    "import time\n",
    "start = time.time()\n",
    "best = fmin(fn=objective, space = space, algo = tpe.suggest, max_evals = 50, trials = trials)\n",
    "end = time.time()\n",
    "print(\"Optimization Time: %f seconds\", (end  -start))"
   ]
  },
  {
   "cell_type": "code",
   "execution_count": 6,
   "metadata": {},
   "outputs": [
    {
     "data": {
      "text/plain": [
       "{'x_learning_rate': 0.12525170327242666,\n",
       " 'x_max_depth': 15,\n",
       " 'x_min_child': 2.0,\n",
       " 'x_pos_weight': 9.562542758627295,\n",
       " 'x_subsample': 0.9311071230917375,\n",
       " 'x_tree_colsample': 0.9054573319375767}"
      ]
     },
     "execution_count": 6,
     "metadata": {},
     "output_type": "execute_result"
    }
   ],
   "source": [
    "best"
   ]
  },
  {
   "cell_type": "code",
   "execution_count": 7,
   "metadata": {},
   "outputs": [
    {
     "name": "stdout",
     "output_type": "stream",
     "text": [
      "[0]\ttrain-auc:0.957364+0.00171701\ttest-auc:0.900319+0.00550392\n",
      "[1]\ttrain-auc:0.975473+0.0032228\ttest-auc:0.916443+0.00598924\n",
      "[2]\ttrain-auc:0.982894+0.00255291\ttest-auc:0.924635+0.007244\n",
      "[3]\ttrain-auc:0.986808+0.00222286\ttest-auc:0.927736+0.00568517\n",
      "[4]\ttrain-auc:0.989001+0.00210183\ttest-auc:0.928992+0.00578721\n",
      "[5]\ttrain-auc:0.990683+0.00242661\ttest-auc:0.929506+0.00616625\n",
      "[6]\ttrain-auc:0.992382+0.00140445\ttest-auc:0.930646+0.0067298\n",
      "[7]\ttrain-auc:0.994343+0.000876356\ttest-auc:0.933356+0.00674438\n",
      "[8]\ttrain-auc:0.995578+0.000815274\ttest-auc:0.935303+0.0056686\n",
      "[9]\ttrain-auc:0.996544+0.000655044\ttest-auc:0.936681+0.00553097\n",
      "   train-auc-mean  train-auc-std  test-auc-mean  test-auc-std\n",
      "0        0.957364       0.001717       0.900319      0.005504\n",
      "1        0.975473       0.003223       0.916443      0.005989\n",
      "2        0.982894       0.002553       0.924635      0.007244\n",
      "3        0.986808       0.002223       0.927736      0.005685\n",
      "4        0.989001       0.002102       0.928992      0.005787\n",
      "5        0.990683       0.002427       0.929506      0.006166\n",
      "6        0.992382       0.001404       0.930646      0.006730\n",
      "7        0.994343       0.000876       0.933356      0.006744\n",
      "8        0.995578       0.000815       0.935303      0.005669\n",
      "9        0.996544       0.000655       0.936681      0.005531\n"
     ]
    },
    {
     "name": "stderr",
     "output_type": "stream",
     "text": [
      "/home/dtamayo/miniconda3/envs/ml/lib/python3.7/site-packages/xgboost/core.py:587: FutureWarning: Series.base is deprecated and will be removed in a future version\n",
      "  if getattr(data, 'base', None) is not None and \\\n",
      "/home/dtamayo/miniconda3/envs/ml/lib/python3.7/site-packages/xgboost/core.py:588: FutureWarning: Series.base is deprecated and will be removed in a future version\n",
      "  data.base is not None and isinstance(data, np.ndarray) \\\n"
     ]
    },
    {
     "name": "stdout",
     "output_type": "stream",
     "text": [
      "0.8626088733486297\n"
     ]
    }
   ],
   "source": [
    "best_xgbc = XGBClassifier(n_estimators=100, scale_pos_weight=best[\"x_pos_weight\"],\n",
    "                         learning_rate = best[\"x_learning_rate\"], \n",
    "                         max_depth = int(best[\"x_max_depth\"]), \n",
    "                         min_child_weight = best[\"x_min_child\"],\n",
    "                         subsample = best[\"x_subsample\"], \n",
    "                         colsample_bytree = best[\"x_tree_colsample\"])\n",
    "params = best_xgbc.get_xgb_params()\n",
    "score = xgb.cv(params, dtrain, nfold = 5, metrics = \"auc\", verbose_eval=True)\n",
    "print(score)\n",
    "d_Train = xgb.DMatrix(trainX, trainY)\n",
    "d_Test = xgb.DMatrix(testX)\n",
    "bst = xgb.train(params, d_Train)\n",
    "preds = bst.predict(d_Test)\n",
    "score = metrics.average_precision_score(testY, preds)\n",
    "print(score)"
   ]
  },
  {
   "cell_type": "code",
   "execution_count": 8,
   "metadata": {},
   "outputs": [
    {
     "data": {
      "text/plain": [
       "XGBClassifier(base_score=0.5, booster='gbtree', colsample_bylevel=1,\n",
       "       colsample_bytree=0.9054573319375767, gamma=0,\n",
       "       learning_rate=0.12525170327242666, max_delta_step=0, max_depth=15,\n",
       "       min_child_weight=2.0, missing=None, n_estimators=100, n_jobs=1,\n",
       "       nthread=None, objective='binary:logistic', random_state=0,\n",
       "       reg_alpha=0, reg_lambda=1, scale_pos_weight=9.562542758627295,\n",
       "       seed=None, silent=True, subsample=0.9311071230917375)"
      ]
     },
     "execution_count": 8,
     "metadata": {},
     "output_type": "execute_result"
    }
   ],
   "source": [
    "model = XGBClassifier(n_estimators=100, scale_pos_weight=best[\"x_pos_weight\"],\n",
    "                         learning_rate = best[\"x_learning_rate\"], \n",
    "                         max_depth = int(best[\"x_max_depth\"]), \n",
    "                         min_child_weight = best[\"x_min_child\"],\n",
    "                         subsample = best[\"x_subsample\"], \n",
    "                         colsample_bytree = best[\"x_tree_colsample\"])\n",
    "\n",
    "model.fit(trainX, trainY)"
   ]
  },
  {
   "cell_type": "code",
   "execution_count": 9,
   "metadata": {},
   "outputs": [
    {
     "data": {
      "text/plain": [
       "Text(0.5, 1.0, 'ROC curve (AUC = 0.958)')"
      ]
     },
     "execution_count": 9,
     "metadata": {},
     "output_type": "execute_result"
    },
    {
     "data": {
      "image/png": "[encoded data removed]",
      "text/plain": [
       "<Figure size 432x288 with 1 Axes>"
      ]
     },
     "metadata": {
      "needs_background": "light"
     },
     "output_type": "display_data"
    }
   ],
   "source": [
    "roc_auc, fpr, tpr, ROCthresholds = ROC_curve(trainingdatafolder, model, features)\n",
    "\n",
    "fig, ax = plt.subplots()\n",
    "ax.plot(fpr, tpr)\n",
    "ax.plot([0, 1], [0, 1], 'k--')\n",
    "ax.set_xlim([0.0, 1.0])\n",
    "ax.set_ylim([0.0, 1.0])\n",
    "ax.set_xlabel('False Positive Rate')\n",
    "ax.set_ylabel('True Positive Rate')\n",
    "ax.set_title('ROC curve (AUC = {0:.3f})'.format(roc_auc))"
   ]
  },
  {
   "cell_type": "code",
   "execution_count": 10,
   "metadata": {},
   "outputs": [
    {
     "name": "stdout",
     "output_type": "stream",
     "text": [
      "Threshold 0.0036236047744750977, recall = 1.0, precision = 0.4968152866242038\n",
      "Threshold 0.004157045390456915, recall = 0.9978632478632479, precision = 0.5037756202804746\n",
      "Threshold 0.004717106465250254, recall = 0.9978632478632479, precision = 0.5120614035087719\n",
      "Threshold 0.0054033598862588406, recall = 0.9978632478632479, precision = 0.5206243032329989\n",
      "Threshold 0.006412971764802933, recall = 0.9978632478632479, precision = 0.5294784580498866\n",
      "Threshold 0.007502147462219, recall = 0.9978632478632479, precision = 0.538638985005767\n",
      "Threshold 0.00861422810703516, recall = 0.9978632478632479, precision = 0.5481220657276995\n",
      "Threshold 0.010083763860166073, recall = 0.9914529914529915, precision = 0.5543608124253285\n",
      "Threshold 0.013286415487527847, recall = 0.9871794871794872, precision = 0.5620437956204379\n",
      "Threshold 0.015978265553712845, recall = 0.9850427350427351, precision = 0.5712515489467163\n",
      "Threshold 0.01886468566954136, recall = 0.9850427350427351, precision = 0.5820707070707071\n",
      "Threshold 0.022711411118507385, recall = 0.9829059829059829, precision = 0.592020592020592\n",
      "Threshold 0.02566717565059662, recall = 0.9807692307692307, precision = 0.6023622047244095\n",
      "Threshold 0.030148031190037727, recall = 0.9786324786324786, precision = 0.6131191432396251\n",
      "Threshold 0.0370943509042263, recall = 0.9786324786324786, precision = 0.6256830601092896\n",
      "Threshold 0.04397983103990555, recall = 0.9764957264957265, precision = 0.6373779637377964\n",
      "Threshold 0.0531364344060421, recall = 0.9700854700854701, precision = 0.6467236467236467\n",
      "Threshold 0.06298265606164932, recall = 0.9700854700854701, precision = 0.660844250363901\n",
      "Threshold 0.07262804359197617, recall = 0.9636752136752137, precision = 0.6711309523809523\n",
      "Threshold 0.08776839077472687, recall = 0.9572649572649573, precision = 0.6818873668188736\n",
      "Threshold 0.11066371202468872, recall = 0.9487179487179487, precision = 0.6915887850467289\n",
      "Threshold 0.14486292004585266, recall = 0.9401709401709402, precision = 0.7017543859649122\n",
      "Threshold 0.17486286163330078, recall = 0.938034188034188, precision = 0.7173202614379085\n",
      "Threshold 0.21864724159240723, recall = 0.9230769230769231, precision = 0.7236180904522613\n",
      "Threshold 0.26268303394317627, recall = 0.9145299145299145, precision = 0.7353951890034365\n",
      "Threshold 0.30058008432388306, recall = 0.9081196581196581, precision = 0.7495590828924162\n",
      "Threshold 0.357982873916626, recall = 0.905982905982906, precision = 0.7681159420289855\n",
      "Threshold 0.4136817157268524, recall = 0.8952991452991453, precision = 0.7802607076350093\n",
      "Threshold 0.4802463948726654, recall = 0.8824786324786325, precision = 0.7911877394636015\n",
      "Threshold 0.5527812242507935, recall = 0.8675213675213675, precision = 0.8007889546351085\n",
      "Threshold 0.6152516603469849, recall = 0.8589743589743589, precision = 0.8170731707317073\n",
      "Threshold 0.6764337420463562, recall = 0.844017094017094, precision = 0.8280922431865828\n",
      "Threshold 0.7142040133476257, recall = 0.8247863247863247, precision = 0.8354978354978355\n",
      "Threshold 0.7701759934425354, recall = 0.8098290598290598, precision = 0.8478747203579419\n",
      "Threshold 0.8106486797332764, recall = 0.7863247863247863, precision = 0.8518518518518519\n",
      "Threshold 0.8418521285057068, recall = 0.7649572649572649, precision = 0.8585131894484412\n",
      "Threshold 0.8626257181167603, recall = 0.7435897435897436, precision = 0.8656716417910447\n",
      "Threshold 0.8926658034324646, recall = 0.7115384615384616, precision = 0.8604651162790697\n",
      "Threshold 0.9150481820106506, recall = 0.6923076923076923, precision = 0.8709677419354839\n",
      "Threshold 0.9325243830680847, recall = 0.6709401709401709, precision = 0.8795518207282913\n",
      "Threshold 0.9411143660545349, recall = 0.6474358974358975, precision = 0.8859649122807017\n",
      "Threshold 0.951106607913971, recall = 0.6260683760683761, precision = 0.8960244648318043\n",
      "Threshold 0.9634315371513367, recall = 0.6047008547008547, precision = 0.907051282051282\n",
      "Threshold 0.9743329286575317, recall = 0.5790598290598291, precision = 0.9124579124579124\n",
      "Threshold 0.9796110391616821, recall = 0.5598290598290598, precision = 0.9290780141843972\n",
      "Threshold 0.9837881326675415, recall = 0.5341880341880342, precision = 0.9363295880149812\n",
      "Threshold 0.9866558313369751, recall = 0.5085470085470085, precision = 0.9444444444444444\n",
      "Threshold 0.9886869192123413, recall = 0.4829059829059829, precision = 0.9535864978902954\n",
      "Threshold 0.9904515743255615, recall = 0.4594017094017094, precision = 0.9684684684684685\n",
      "Threshold 0.9927640557289124, recall = 0.42948717948717946, precision = 0.9710144927536232\n",
      "Threshold 0.9945900440216064, recall = 0.40384615384615385, precision = 0.984375\n",
      "Threshold 0.9956464171409607, recall = 0.37606837606837606, precision = 0.9943502824858758\n",
      "Threshold 0.9964507818222046, recall = 0.344017094017094, precision = 0.9938271604938271\n",
      "Threshold 0.9974943399429321, recall = 0.31196581196581197, precision = 0.9931972789115646\n",
      "Threshold 0.9980623126029968, recall = 0.2799145299145299, precision = 0.9924242424242424\n",
      "Threshold 0.9983673691749573, recall = 0.24786324786324787, precision = 0.9914529914529915\n",
      "Threshold 0.9988214373588562, recall = 0.21581196581196582, precision = 0.9901960784313726\n",
      "Threshold 0.9990630745887756, recall = 0.18376068376068377, precision = 0.9885057471264368\n",
      "Threshold 0.9993963241577148, recall = 0.1517094017094017, precision = 0.9861111111111112\n",
      "Threshold 0.9995633959770203, recall = 0.12179487179487179, precision = 1.0\n",
      "Threshold 0.9997051358222961, recall = 0.08974358974358974, precision = 1.0\n",
      "Threshold 0.9997716546058655, recall = 0.057692307692307696, precision = 1.0\n",
      "Threshold 0.9998359680175781, recall = 0.02564102564102564, precision = 1.0\n"
     ]
    }
   ],
   "source": [
    "pr_auc, precision, recall, PRthresholds = PR_curve(trainingdatafolder, model, features)\n",
    "for i in range(0,len(recall), 15):\n",
    "    print(\"Threshold {0}, recall = {1}, precision = {2}\".format(PRthresholds[i], recall[i], precision[i]))"
   ]
  },
  {
   "cell_type": "code",
   "execution_count": 11,
   "metadata": {},
   "outputs": [
    {
     "data": {
      "image/png": "[encoded data removed]",
      "text/plain": [
       "<Figure size 432x288 with 1 Axes>"
      ]
     },
     "metadata": {
      "needs_background": "light"
     },
     "output_type": "display_data"
    }
   ],
   "source": [
    "fig, ax = plt.subplots()\n",
    "ax.plot(recall, precision)\n",
    "ax.set_xlim([0.0, 1.0])\n",
    "ax.set_ylim([0.0, 1.0])\n",
    "ax.set_xlabel('Recall')\n",
    "ax.set_ylabel('Precision')\n",
    "ax.set_title(\"AUC Score (Test): {0:.4f}\".format(pr_auc))\n",
    "plt.show()"
   ]
  },
  {
   "cell_type": "code",
   "execution_count": 12,
   "metadata": {},
   "outputs": [
    {
     "data": {
      "text/plain": [
       "(0, 213.4)"
      ]
     },
     "execution_count": 12,
     "metadata": {},
     "output_type": "execute_result"
    },
    {
     "data": {
      "image/png": "[encoded data removed]",
      "text/plain": [
       "<Figure size 432x288 with 2 Axes>"
      ]
     },
     "metadata": {
      "needs_background": "light"
     },
     "output_type": "display_data"
    }
   ],
   "source": [
    "# Histogram:\n",
    "bins = 50\n",
    "Stable, Unstable = stable_unstable_hist(trainingdatafolder, model, features)\n",
    "\n",
    "fig, ax1 = plt.subplots()\n",
    "n, bins, pathces = ax1.hist(Unstable, bins, alpha=0.5, label='No', color='blue', edgecolor = \"black\")\n",
    "#print(n)\n",
    "ax1.set_xlabel('Predicted Probability', fontsize=14)\n",
    "ax1.set_ylabel('Unstable',  fontsize=14, color='blue')\n",
    "for tl in ax1.get_yticklabels():\n",
    "    tl.set_color('blue')\n",
    "    \n",
    "\n",
    "\n",
    "ax2 = ax1.twinx()\n",
    "n, bins , patches = ax2.hist(Stable, bins, alpha=0.5, label='Yes',color='green', edgecolor = \"black\")\n",
    "#print(n.astype(int))\n",
    "ax2.set_ylabel('Stable', fontsize=14, color='green')\n",
    "for tl in ax2.get_yticklabels():\n",
    "    tl.set_color('green')\n",
    "    \n",
    "    \n",
    "#ax1.set_ylim(ax2.get_ylim())\n",
    "ax1.set_ylim([0,1.1*n[-1]]) # goes up to ~4300\n",
    "ax2.set_ylim([0,1.1*n[-1]]) # goes up to ~2100"
   ]
  },
  {
   "cell_type": "code",
   "execution_count": 13,
   "metadata": {},
   "outputs": [
    {
     "data": {
      "text/plain": [
       "Text(0, 0.5, 'Fraction actually stable')"
      ]
     },
     "execution_count": 13,
     "metadata": {},
     "output_type": "execute_result"
    },
    {
     "data": {
      "image/png": "[encoded data removed]",
      "text/plain": [
       "<Figure size 576x432 with 1 Axes>"
      ]
     },
     "metadata": {
      "needs_background": "light"
     },
     "output_type": "display_data"
    }
   ],
   "source": [
    "bincenters, fracstable, errorbars = calibration_plot(trainingdatafolder, model, features, bins=10)\n",
    "fig, ax = plt.subplots(figsize=(8,6))\n",
    "ax.plot(np.linspace(0,1,100), np.linspace(0,1,100), '--')\n",
    "ax.errorbar(bincenters, fracstable, errorbars)\n",
    "ax.set_xlim([0,1])\n",
    "ax.set_ylim([0,1])\n",
    "ax.set_xlabel('Predicted Probability of Stability')\n",
    "ax.set_ylabel('Fraction actually stable')"
   ]
  },
  {
   "cell_type": "code",
   "execution_count": 14,
   "metadata": {},
   "outputs": [
    {
     "name": "stderr",
     "output_type": "stream",
     "text": [
      "../modelfitting.py:99: RuntimeWarning: divide by zero encountered in true_divide\n",
      "  errorbars.append(np.sqrt(1./Nerrors + 1./hist[i])*errorfracs[-1]) # see calibration plot comment\n",
      "../modelfitting.py:99: RuntimeWarning: invalid value encountered in double_scalars\n",
      "  errorbars.append(np.sqrt(1./Nerrors + 1./hist[i])*errorfracs[-1]) # see calibration plot comment\n"
     ]
    },
    {
     "data": {
      "text/plain": [
       "Text(0.5, 1.0, 'Fraction of unstable systems mislabeled as stable')"
      ]
     },
     "execution_count": 14,
     "metadata": {},
     "output_type": "execute_result"
    },
    {
     "data": {
      "image/png": "[encoded data removed]",
      "text/plain": [
       "<Figure size 576x432 with 1 Axes>"
      ]
     },
     "metadata": {
      "needs_background": "light"
     },
     "output_type": "display_data"
    }
   ],
   "source": [
    "bincenters, errorfracs, errorbars = unstable_error_fraction(trainingdatafolder, model, features, bins=10)\n",
    "fig, ax = plt.subplots(figsize=(8,6))\n",
    "ax.errorbar(bincenters, errorfracs, errorbars)\n",
    "ax.set_ylim([0,1])\n",
    "ax.set_xlabel('Log Instability Time')\n",
    "ax.set_ylabel('Error Fraction')\n",
    "ax.set_title('Fraction of unstable systems mislabeled as stable')"
   ]
  },
  {
   "cell_type": "code",
   "execution_count": 15,
   "metadata": {},
   "outputs": [
    {
     "data": {
      "image/png": "[encoded data removed]",
      "text/plain": [
       "<Figure size 864x576 with 1 Axes>"
      ]
     },
     "metadata": {
      "needs_background": "light"
     },
     "output_type": "display_data"
    }
   ],
   "source": [
    "# feature importances\n",
    "feat_imp = pd.Series(model.get_booster().get_fscore()).sort_values(ascending=False)\n",
    "feat_imp.plot(kind='bar', title='Feature Importances', figsize=(12,8))\n",
    "plt.ylabel('Feature Importance Score')\n",
    "plt.show()"
   ]
  },
  {
   "cell_type": "code",
   "execution_count": 16,
   "metadata": {},
   "outputs": [],
   "source": [
    "dill.dump([model, features, featurefolder], open(datapath+\"../models/ressummaryfeaturesxgb_resonantAMD.pkl\", \"wb\"))"
   ]
  },
  {
   "cell_type": "markdown",
   "metadata": {},
   "source": [
    "# slice data between ranges of instability times"
   ]
  },
  {
   "cell_type": "markdown",
   "metadata": {},
   "source": [
    "# things that are just unstable might be very similar to things that are just stable"
   ]
  },
  {
   "cell_type": "markdown",
   "metadata": {},
   "source": [
    "# predict at half a billion, then repredict at half a billion whether you'll be unstable at a billion"
   ]
  },
  {
   "cell_type": "markdown",
   "metadata": {},
   "source": [
    "# do the summary features change with time?"
   ]
  },
  {
   "cell_type": "markdown",
   "metadata": {},
   "source": [
    "# try training on just unstable systems"
   ]
  },
  {
   "cell_type": "code",
   "execution_count": null,
   "metadata": {},
   "outputs": [],
   "source": []
  }
 ],
 "metadata": {
  "anaconda-cloud": {},
  "kernelspec": {
   "display_name": "Python 3",
   "language": "python",
   "name": "python3"
  },
  "language_info": {
   "codemirror_mode": {
    "name": "ipython",
    "version": 3
   },
   "file_extension": ".py",
   "mimetype": "text/x-python",
   "name": "python",
   "nbconvert_exporter": "python",
   "pygments_lexer": "ipython3",
   "version": "3.7.3"
  }
 },
 "nbformat": 4,
 "nbformat_minor": 2
}
