{
 "cells": [
  {
   "cell_type": "code",
   "execution_count": 21,
   "metadata": {},
   "outputs": [],
   "source": [
    "import numpy as np\n",
    "import sklearn\n",
    "import matplotlib.pyplot as plt\n",
    "%matplotlib inline\n",
    "import pandas as pd\n",
    "from sklearn import metrics\n",
    "from sklearn.model_selection import cross_val_score\n",
    "from matplotlib import rc\n",
    "from matplotlib import cm\n",
    "from mpl_toolkits.mplot3d import axes3d\n",
    "from matplotlib.ticker import MaxNLocator\n",
    "import scipy.signal\n",
    "import xgboost as xgb\n",
    "from xgboost.sklearn import XGBClassifier\n",
    "from hyperopt import hp, fmin, tpe, STATUS_OK, Trials\n",
    "import dill\n",
    "import sys\n",
    "sys.path.append('../')\n",
    "from modelfitting import train_test_split, ROC_curve, PR_curve, stable_unstable_hist, calibration_plot, unstable_error_fraction"
   ]
  },
  {
   "cell_type": "code",
   "execution_count": 22,
   "metadata": {},
   "outputs": [],
   "source": [
    "datapath = '/mnt/ssd/Dropbox/Dropbox (Princeton)/workspace/stability/MLstability/training_data/'\n",
    "dset = 'resonant/'\n",
    "featurefolder = 'ressummaryfeaturesxgbNorbits10000.0Nout1000/'\n",
    "features = None"
   ]
  },
  {
   "cell_type": "code",
   "execution_count": 23,
   "metadata": {
    "scrolled": true
   },
   "outputs": [],
   "source": [
    "trainingdatafolder = datapath+dset+featurefolder\n",
    "trainX, trainY, testX, testY = train_test_split(trainingdatafolder, features, filter=False)"
   ]
  },
  {
   "cell_type": "code",
   "execution_count": 24,
   "metadata": {},
   "outputs": [
    {
     "data": {
      "text/plain": [
       "(7999, 58)"
      ]
     },
     "execution_count": 24,
     "metadata": {},
     "output_type": "execute_result"
    }
   ],
   "source": [
    "trainX.shape"
   ]
  },
  {
   "cell_type": "code",
   "execution_count": 25,
   "metadata": {},
   "outputs": [],
   "source": [
    "space ={\n",
    "        'max_depth': hp.randint('x_max_depth',  20),\n",
    "        'min_child_weight': hp.quniform ('x_min_child', 1, 10, 1),\n",
    "        'subsample': hp.uniform ('x_subsample', 0.8, 1),\n",
    "        'scale_pos_weight': hp.uniform(\"x_pos_weight\", 1, 15),\n",
    "        \"learning_rate\":hp.uniform(\"x_learning_rate\",0.01,0.2),\n",
    "        'colsample_bytree': hp.uniform ('x_tree_colsample', 0.5,1),\n",
    "}\n",
    "\n",
    "dtrain = xgb.DMatrix(trainX, trainY)\n",
    "dtest = xgb.DMatrix(testX, testY)\n",
    "def objective(space):\n",
    "\n",
    "    clf = XGBClassifier(n_estimators = 100, \n",
    "                            max_depth = space['max_depth'], \n",
    "                            min_child_weight =space['min_child_weight'],\n",
    "                            subsample = space['subsample'],\n",
    "                            colsample_bytree =space['colsample_bytree'],\n",
    "                            learning_rate = space['learning_rate'], seed = 0)\n",
    "    \n",
    "    params = clf.get_xgb_params()\n",
    "    #dtest\n",
    "    score = xgb.cv(params, dtrain, nfold = 5, metrics = \"auc\", early_stopping_rounds=10)\n",
    "    #print score\n",
    "    #score = cross_val_score(clf, trainX, trainY, cv = 5, scoring=\"average_precision\")\n",
    "    avg_score =  np.mean(score[\"test-auc-mean\"])\n",
    "    error = np.mean(score[\"test-auc-std\"])\n",
    "    \n",
    "    bst = xgb.train(params, dtrain)\n",
    "    preds = bst.predict(dtest)\n",
    "    test_score = metrics.roc_auc_score(testY, preds)\n",
    "    \n",
    "    print(\"SCORE:\", avg_score, \"ERROR\", error, \"HOLDOUT SCORE\", test_score)\n",
    "\n",
    "    return{'loss':1-test_score, 'status': STATUS_OK, \"cv_score\":avg_score , \"cv_error\":error, \"holdout\":test_score }"
   ]
  },
  {
   "cell_type": "code",
   "execution_count": 26,
   "metadata": {
    "scrolled": true
   },
   "outputs": [
    {
     "name": "stdout",
     "output_type": "stream",
     "text": [
      "SCORE:                                              \n",
      "0.9301380400000001                                  \n",
      "ERROR                                               \n",
      "0.00513922353884161                                 \n",
      "HOLDOUT SCORE                                       \n",
      "0.944408407754026                                   \n",
      "SCORE:                                                                         \n",
      "0.9306958599999999                                                             \n",
      "ERROR                                                                          \n",
      "0.004470925321253949                                                           \n",
      "HOLDOUT SCORE                                                                  \n",
      "0.9440353013167047                                                             \n",
      "SCORE:                                                                         \n",
      "0.9322621200000001                                                             \n",
      "ERROR                                                                          \n",
      "0.005818105332639394                                                           \n",
      "HOLDOUT SCORE                                                                  \n",
      "0.9455784036618908                                                             \n",
      "SCORE:                                                                         \n",
      "0.93208522                                                                    \n",
      "ERROR                                                                         \n",
      "0.005872279181172277                                                          \n",
      "HOLDOUT SCORE                                                                 \n",
      "0.9469270345703068                                                            \n",
      "SCORE:                                                                        \n",
      "0.9286512800000001                                                           \n",
      "ERROR                                                                        \n",
      "0.0034136022246603072                                                        \n",
      "HOLDOUT SCORE                                                                \n",
      "0.9481755792018183                                                           \n",
      "SCORE:                                                                         \n",
      "0.9299977799999999                                                             \n",
      "ERROR                                                                          \n",
      "0.00558500819884918                                                            \n",
      "HOLDOUT SCORE                                                                  \n",
      "0.944205067912973                                                              \n",
      "SCORE:                                                                         \n",
      "0.8276818199999999                                                             \n",
      "ERROR                                                                          \n",
      "0.01955475000030686                                                            \n",
      "HOLDOUT SCORE                                                                  \n",
      "0.870384470663952                                                              \n",
      "SCORE:                                                                         \n",
      "0.8954650000000001                                                             \n",
      "ERROR                                                                          \n",
      "0.006513309963851734                                                           \n",
      "HOLDOUT SCORE                                                                  \n",
      "0.9212840435869403                                                             \n",
      "SCORE:                                                                         \n",
      "0.9287226399999999                                                             \n",
      "ERROR                                                                          \n",
      "0.002063120159348648                                                           \n",
      "HOLDOUT SCORE                                                                  \n",
      "0.9428374332810942                                                             \n",
      "SCORE:                                                                         \n",
      "0.93193878                                                                     \n",
      "ERROR                                                                          \n",
      "0.004494641549014525                                                           \n",
      "HOLDOUT SCORE                                                                  \n",
      "0.9468465854743139                                                             \n",
      "SCORE:                                                                          \n",
      "0.5                                                                             \n",
      "ERROR                                                                           \n",
      "0.0                                                                             \n",
      "HOLDOUT SCORE                                                                   \n",
      "0.5                                                                             \n",
      "SCORE:                                                                          \n",
      "0.90791278                                                                      \n",
      "ERROR                                                                           \n",
      "0.006077426911295628                                                            \n",
      "HOLDOUT SCORE                                                                   \n",
      "0.9260330740803148                                                              \n",
      "SCORE:                                                                          \n",
      "0.90937406                                                                      \n",
      "ERROR                                                                           \n",
      "0.006349517130132633                                                            \n",
      "HOLDOUT SCORE                                                                   \n",
      "0.9302278293060221                                                              \n",
      "SCORE:                                                                          \n",
      "0.93233312                                                                      \n",
      "ERROR                                                                           \n",
      "0.00302503671270644                                                             \n",
      "HOLDOUT SCORE                                                                   \n",
      "0.948675377128892                                                               \n",
      "SCORE:                                                                          \n",
      "0.9301403                                                                      \n",
      "ERROR                                                                          \n",
      "0.0029675908346557204                                                          \n",
      "HOLDOUT SCORE                                                                  \n",
      "0.9455372289277212                                                             \n",
      "SCORE:                                                                         \n",
      "0.91658386                                                                     \n",
      "ERROR                                                                          \n",
      "0.005438907728842135                                                           \n",
      "HOLDOUT SCORE                                                                  \n",
      "0.9328465423992074                                                             \n",
      "SCORE:                                                                         \n",
      "0.93094662                                                                     \n",
      "ERROR                                                                          \n",
      "0.003663986174757339                                                           \n",
      "HOLDOUT SCORE                                                                  \n",
      "0.9474901782422568                                                             \n",
      "SCORE:                                                                         \n",
      "0.9249425200000001                                                             \n"
     ]
    },
    {
     "name": "stdout",
     "output_type": "stream",
     "text": [
      "ERROR                                                                          \n",
      "0.005233196914227973                                                           \n",
      "HOLDOUT SCORE                                                                  \n",
      "0.9398696851336403                                                             \n",
      "SCORE:                                                                         \n",
      "0.92660082                                                                     \n",
      "ERROR                                                                          \n",
      "0.005766306510548804                                                           \n",
      "HOLDOUT SCORE                                                                  \n",
      "0.9413456409892578                                                             \n",
      "SCORE:                                                                         \n",
      "0.9301515599999999                                                             \n",
      "ERROR                                                                          \n",
      "0.005092700980337418                                                           \n",
      "HOLDOUT SCORE                                                                  \n",
      "0.9482604624999525                                                             \n",
      "SCORE:                                                                         \n",
      "0.9346205                                                                      \n",
      "ERROR                                                                          \n",
      "0.0030978767865754626                                                          \n",
      "HOLDOUT SCORE                                                                  \n",
      "0.9521353217140345                                                             \n",
      "SCORE:                                                                         \n",
      "0.9345748200000001                                                             \n",
      "ERROR                                                                          \n",
      "0.004097905841659801                                                           \n",
      "HOLDOUT SCORE                                                                  \n",
      "0.9491580717048493                                                             \n",
      "SCORE:                                                                         \n",
      "0.9347270999999999                                                             \n",
      "ERROR                                                                          \n",
      "0.004476973215410471                                                           \n",
      "HOLDOUT SCORE                                                                  \n",
      "0.9508665064441626                                                             \n",
      "SCORE:                                                                         \n",
      "0.9355825600000001                                                             \n",
      "ERROR                                                                          \n",
      "0.002370698521849286                                                           \n",
      "HOLDOUT SCORE                                                                  \n",
      "0.9508589049547773                                                             \n",
      "SCORE:                                                                         \n",
      "0.9327867600000002                                                             \n",
      "ERROR                                                                          \n",
      "0.003427837201805691                                                           \n",
      "HOLDOUT SCORE                                                                  \n",
      "0.9511395266045795                                                             \n",
      "SCORE:                                                                         \n",
      "0.9339213200000002                                                             \n",
      "ERROR                                                                          \n",
      "0.004344356638573481                                                           \n",
      "HOLDOUT SCORE                                                                  \n",
      "0.9479335984563909                                                             \n",
      "SCORE:                                                                         \n",
      "0.9306944400000001                                                             \n",
      "ERROR                                                                          \n",
      "0.003954753430841204                                                           \n",
      "HOLDOUT SCORE                                                                  \n",
      "0.9466863207397769                                                             \n",
      "SCORE:                                                                         \n",
      "0.9312280000000002                                                             \n",
      "ERROR                                                                          \n",
      "0.004868279641286491                                                           \n",
      "HOLDOUT SCORE                                                                  \n",
      "0.945241404299149                                                              \n",
      "SCORE:                                                                         \n",
      "0.93252434                                                                     \n",
      "ERROR                                                                          \n",
      "0.00304496271035552                                                            \n",
      "HOLDOUT SCORE                                                                  \n",
      "0.9495742532486864                                                             \n",
      "SCORE:                                                                         \n",
      "0.93314124                                                                     \n",
      "ERROR                                                                          \n",
      "0.0036669852300580197                                                          \n",
      "HOLDOUT SCORE                                                                  \n",
      "0.947196253986031                                                              \n",
      "SCORE:                                                                         \n",
      "0.93295838                                                                     \n",
      "ERROR                                                                          \n",
      "0.004168282529904093                                                           \n",
      "HOLDOUT SCORE                                                                  \n",
      "0.9510185362318657                                                             \n",
      "SCORE:                                                                         \n",
      "0.9340464200000002                                                             \n",
      "ERROR                                                                          \n",
      "0.003174188430416145                                                           \n",
      "HOLDOUT SCORE                                                                  \n",
      "0.9487019823417402                                                             \n",
      "SCORE:                                                                         \n",
      "0.93231096                                                                     \n",
      "ERROR                                                                          \n",
      "0.005073686966240107                                                           \n",
      "HOLDOUT SCORE                                                                  \n",
      "0.94689979590001                                                               \n",
      "SCORE:                                                                         \n",
      "0.9259914200000001                                                             \n",
      "ERROR                                                                          \n",
      "0.0029731595062712788                                                          \n",
      "HOLDOUT SCORE                                                                  \n",
      "0.9445465014778563                                                             \n",
      "SCORE:                                                                         \n",
      "0.93080476                                                                     \n"
     ]
    },
    {
     "name": "stdout",
     "output_type": "stream",
     "text": [
      "ERROR                                                                          \n",
      "0.00336847062739326                                                            \n",
      "HOLDOUT SCORE                                                                  \n",
      "0.9467274954739466                                                             \n",
      "SCORE:                                                                         \n",
      "0.93054638                                                                     \n",
      "ERROR                                                                          \n",
      "0.005200068768109957                                                           \n",
      "HOLDOUT SCORE                                                                  \n",
      "0.9431655642395533                                                             \n",
      "SCORE:                                                                         \n",
      "0.89527492                                                                     \n",
      "ERROR                                                                          \n",
      "0.006459056763674187                                                           \n",
      "HOLDOUT SCORE                                                                  \n",
      "0.9196250185286303                                                             \n",
      "SCORE:                                                                         \n",
      "0.9295483599999999                                                             \n",
      "ERROR                                                                          \n",
      "0.0035247709312835477                                                          \n",
      "HOLDOUT SCORE                                                                  \n",
      "0.9506181911242476                                                             \n",
      "SCORE:                                                                         \n",
      "0.9335935000000001                                                             \n",
      "ERROR                                                                          \n",
      "0.0059214822413424665                                                          \n",
      "HOLDOUT SCORE                                                                  \n",
      "0.9487203526077542                                                             \n",
      "SCORE:                                                                         \n",
      "0.5                                                                            \n",
      "ERROR                                                                          \n",
      "0.0                                                                            \n",
      "HOLDOUT SCORE                                                                  \n",
      "0.5                                                                            \n",
      "SCORE:                                                                         \n",
      "0.84619932                                                                     \n",
      "ERROR                                                                          \n",
      "0.01374285048709865                                                            \n",
      "HOLDOUT SCORE                                                                  \n",
      "0.9004014853310258                                                             \n",
      "SCORE:                                                                         \n",
      "0.9329101399999999                                                             \n",
      "ERROR                                                                          \n",
      "0.003583507149424395                                                           \n",
      "HOLDOUT SCORE                                                                  \n",
      "0.9487330217567297                                                             \n",
      "SCORE:                                                                         \n",
      "0.9191640400000001                                                             \n",
      "ERROR                                                                          \n",
      "0.003989734863505098                                                           \n",
      "HOLDOUT SCORE                                                                  \n",
      "0.9373852650195929                                                             \n",
      "SCORE:                                                                         \n",
      "0.9266385800000002                                                             \n",
      "ERROR                                                                          \n",
      "0.0022576513923916013                                                          \n",
      "HOLDOUT SCORE                                                                  \n",
      "0.9489737355872595                                                             \n",
      "SCORE:                                                                         \n",
      "0.9223811600000001                                                             \n",
      "ERROR                                                                          \n",
      "0.005260796851023603                                                           \n",
      "HOLDOUT SCORE                                                                  \n",
      "0.9364572498571554                                                             \n",
      "SCORE:                                                                         \n",
      "0.93407552                                                                     \n",
      "ERROR                                                                          \n",
      "0.003387638164856073                                                           \n",
      "HOLDOUT SCORE                                                                  \n",
      "0.9530215286848537                                                             \n",
      "SCORE:                                                                         \n",
      "0.9314683800000001                                                             \n",
      "ERROR                                                                          \n",
      "0.003292856133133523                                                           \n",
      "HOLDOUT SCORE                                                                  \n",
      "0.9484885071815071                                                             \n",
      "SCORE:                                                                         \n",
      "0.9304986600000001                                                             \n",
      "ERROR                                                                          \n",
      "0.003014603239543142                                                           \n",
      "HOLDOUT SCORE                                                                  \n",
      "0.9460991056847738                                                             \n",
      "SCORE:                                                                         \n",
      "0.93203766                                                                     \n",
      "ERROR                                                                          \n",
      "0.0027703820669447575                                                          \n",
      "HOLDOUT SCORE                                                                  \n",
      "0.94986944441981                                                               \n",
      "SCORE:                                                                         \n",
      "0.9317404400000001                                                             \n",
      "ERROR                                                                          \n",
      "0.0037909899921157774                                                          \n",
      "HOLDOUT SCORE                                                                  \n",
      "0.9484238945217333                                                             \n",
      "100%|██████████| 50/50 [02:28<00:00,  3.99s/it, best loss: 0.04697847131514632]\n",
      "Optimization Time: %f seconds 148.28274989128113\n",
      "CPU times: user 2min 28s, sys: 578 ms, total: 2min 28s\n",
      "Wall time: 2min 28s\n"
     ]
    }
   ],
   "source": [
    "%%time\n",
    "trials = Trials()\n",
    "import time\n",
    "start = time.time()\n",
    "best = fmin(fn=objective, space = space, algo = tpe.suggest, max_evals = 50, trials = trials)\n",
    "end = time.time()\n",
    "print(\"Optimization Time: %f seconds\", (end  -start))"
   ]
  },
  {
   "cell_type": "code",
   "execution_count": 27,
   "metadata": {},
   "outputs": [
    {
     "data": {
      "text/plain": [
       "{'x_learning_rate': 0.17049883400833232,\n",
       " 'x_max_depth': 15,\n",
       " 'x_min_child': 4.0,\n",
       " 'x_pos_weight': 14.972737650672839,\n",
       " 'x_subsample': 0.9198878331757864,\n",
       " 'x_tree_colsample': 0.9109979380441462}"
      ]
     },
     "execution_count": 27,
     "metadata": {},
     "output_type": "execute_result"
    }
   ],
   "source": [
    "best"
   ]
  },
  {
   "cell_type": "code",
   "execution_count": 28,
   "metadata": {},
   "outputs": [
    {
     "name": "stdout",
     "output_type": "stream",
     "text": [
      "[0]\ttrain-auc:0.953216+0.00271983\ttest-auc:0.903489+0.00724845\n",
      "[1]\ttrain-auc:0.971202+0.00257553\ttest-auc:0.915728+0.00595352\n",
      "[2]\ttrain-auc:0.978287+0.000820872\ttest-auc:0.921345+0.00601962\n",
      "[3]\ttrain-auc:0.982955+0.000892348\ttest-auc:0.926625+0.00633541\n",
      "[4]\ttrain-auc:0.986418+0.000903439\ttest-auc:0.929194+0.00690917\n",
      "[5]\ttrain-auc:0.989336+0.00102152\ttest-auc:0.930897+0.00796076\n",
      "[6]\ttrain-auc:0.991545+0.00116337\ttest-auc:0.933189+0.00717073\n",
      "[7]\ttrain-auc:0.993345+0.000936111\ttest-auc:0.935516+0.00641731\n",
      "[8]\ttrain-auc:0.994649+0.000834124\ttest-auc:0.937409+0.0056401\n",
      "[9]\ttrain-auc:0.995687+0.000584881\ttest-auc:0.938401+0.00626838\n",
      "   train-auc-mean  train-auc-std  test-auc-mean  test-auc-std\n",
      "0        0.953216       0.002720       0.903489      0.007248\n",
      "1        0.971202       0.002576       0.915728      0.005954\n",
      "2        0.978287       0.000821       0.921345      0.006020\n",
      "3        0.982955       0.000892       0.926625      0.006335\n",
      "4        0.986418       0.000903       0.929194      0.006909\n",
      "5        0.989336       0.001022       0.930897      0.007961\n",
      "6        0.991545       0.001163       0.933189      0.007171\n",
      "7        0.993345       0.000936       0.935516      0.006417\n",
      "8        0.994649       0.000834       0.937409      0.005640\n",
      "9        0.995687       0.000585       0.938401      0.006268\n"
     ]
    },
    {
     "name": "stderr",
     "output_type": "stream",
     "text": [
      "/home/dtamayo/miniconda3/envs/ml/lib/python3.7/site-packages/xgboost/core.py:587: FutureWarning: Series.base is deprecated and will be removed in a future version\n",
      "  if getattr(data, 'base', None) is not None and \\\n",
      "/home/dtamayo/miniconda3/envs/ml/lib/python3.7/site-packages/xgboost/core.py:588: FutureWarning: Series.base is deprecated and will be removed in a future version\n",
      "  data.base is not None and isinstance(data, np.ndarray) \\\n"
     ]
    },
    {
     "name": "stdout",
     "output_type": "stream",
     "text": [
      "0.8488668289803917\n"
     ]
    }
   ],
   "source": [
    "best_xgbc = XGBClassifier(n_estimators=100, scale_pos_weight=best[\"x_pos_weight\"],\n",
    "                         learning_rate = best[\"x_learning_rate\"], \n",
    "                         max_depth = int(best[\"x_max_depth\"]), \n",
    "                         min_child_weight = best[\"x_min_child\"],\n",
    "                         subsample = best[\"x_subsample\"], \n",
    "                         colsample_bytree = best[\"x_tree_colsample\"])\n",
    "params = best_xgbc.get_xgb_params()\n",
    "score = xgb.cv(params, dtrain, nfold = 5, metrics = \"auc\", verbose_eval=True)\n",
    "print(score)\n",
    "d_Train = xgb.DMatrix(trainX, trainY)\n",
    "d_Test = xgb.DMatrix(testX)\n",
    "bst = xgb.train(params, d_Train)\n",
    "preds = bst.predict(d_Test)\n",
    "score = metrics.average_precision_score(testY, preds)\n",
    "print(score)"
   ]
  },
  {
   "cell_type": "code",
   "execution_count": 29,
   "metadata": {},
   "outputs": [
    {
     "data": {
      "text/plain": [
       "XGBClassifier(base_score=0.5, booster='gbtree', colsample_bylevel=1,\n",
       "              colsample_bytree=0.9109979380441462, gamma=0,\n",
       "              learning_rate=0.17049883400833232, max_delta_step=0, max_depth=15,\n",
       "              min_child_weight=4.0, missing=None, n_estimators=100, n_jobs=1,\n",
       "              nthread=None, objective='binary:logistic', random_state=0,\n",
       "              reg_alpha=0, reg_lambda=1, scale_pos_weight=14.972737650672839,\n",
       "              seed=None, silent=True, subsample=0.9198878331757864)"
      ]
     },
     "execution_count": 29,
     "metadata": {},
     "output_type": "execute_result"
    }
   ],
   "source": [
    "model = XGBClassifier(n_estimators=100, scale_pos_weight=best[\"x_pos_weight\"],\n",
    "                         learning_rate = best[\"x_learning_rate\"], \n",
    "                         max_depth = int(best[\"x_max_depth\"]), \n",
    "                         min_child_weight = best[\"x_min_child\"],\n",
    "                         subsample = best[\"x_subsample\"], \n",
    "                         colsample_bytree = best[\"x_tree_colsample\"])\n",
    "\n",
    "model.fit(trainX, trainY)"
   ]
  },
  {
   "cell_type": "code",
   "execution_count": 30,
   "metadata": {},
   "outputs": [
    {
     "data": {
      "text/plain": [
       "Text(0.5, 1.0, 'ROC curve (AUC = 0.954)')"
      ]
     },
     "execution_count": 30,
     "metadata": {},
     "output_type": "execute_result"
    },
    {
     "data": {
      "image/png": "[encoded data removed]",
      "text/plain": [
       "<Figure size 432x288 with 1 Axes>"
      ]
     },
     "metadata": {
      "needs_background": "light"
     },
     "output_type": "display_data"
    }
   ],
   "source": [
    "roc_auc, fpr, tpr, ROCthresholds = ROC_curve(trainingdatafolder, model, features)\n",
    "\n",
    "fig, ax = plt.subplots()\n",
    "ax.plot(fpr, tpr)\n",
    "ax.plot([0, 1], [0, 1], 'k--')\n",
    "ax.set_xlim([0.0, 1.0])\n",
    "ax.set_ylim([0.0, 1.0])\n",
    "ax.set_xlabel('False Positive Rate')\n",
    "ax.set_ylabel('True Positive Rate')\n",
    "ax.set_title('ROC curve (AUC = {0:.3f})'.format(roc_auc))"
   ]
  },
  {
   "cell_type": "code",
   "execution_count": 31,
   "metadata": {},
   "outputs": [
    {
     "name": "stdout",
     "output_type": "stream",
     "text": [
      "Threshold 0.002750176237896085, recall = 1.0, precision = 0.4586815227483751\n",
      "Threshold 0.0030854325741529465, recall = 0.9979757085020243, precision = 0.4642184557438795\n",
      "Threshold 0.00331603130325675, recall = 0.9979757085020243, precision = 0.4708691499522445\n",
      "Threshold 0.0037937527522444725, recall = 0.9979757085020243, precision = 0.47771317829457366\n",
      "Threshold 0.004244508687406778, recall = 0.9979757085020243, precision = 0.48475909537856443\n",
      "Threshold 0.004781506024301052, recall = 0.9979757085020243, precision = 0.49201596806387227\n",
      "Threshold 0.0057002101093530655, recall = 0.9959514170040485, precision = 0.49848024316109424\n",
      "Threshold 0.0061778295785188675, recall = 0.9919028340080972, precision = 0.5041152263374485\n",
      "Threshold 0.007163155358284712, recall = 0.9898785425101214, precision = 0.5109717868338558\n",
      "Threshold 0.007960300892591476, recall = 0.9878542510121457, precision = 0.5180467091295117\n",
      "Threshold 0.00913328118622303, recall = 0.9878542510121457, precision = 0.5264293419633226\n",
      "Threshold 0.011152629740536213, recall = 0.9878542510121457, precision = 0.5350877192982456\n",
      "Threshold 0.012504753656685352, recall = 0.9858299595141701, precision = 0.5429208472686734\n",
      "Threshold 0.014572817832231522, recall = 0.9838056680161943, precision = 0.5510204081632653\n",
      "Threshold 0.01780756749212742, recall = 0.9817813765182186, precision = 0.5594002306805075\n",
      "Threshold 0.02064700610935688, recall = 0.9777327935222672, precision = 0.5669014084507042\n",
      "Threshold 0.02370263636112213, recall = 0.97165991902834, precision = 0.5734767025089605\n",
      "Threshold 0.02795565500855446, recall = 0.9655870445344129, precision = 0.5802919708029197\n",
      "Threshold 0.031634725630283356, recall = 0.9635627530364372, precision = 0.5898389095415117\n",
      "Threshold 0.04017872363328934, recall = 0.9615384615384616, precision = 0.5997474747474747\n",
      "Threshold 0.04628150165081024, recall = 0.9595141700404858, precision = 0.61003861003861\n",
      "Threshold 0.05184049904346466, recall = 0.9554655870445344, precision = 0.6194225721784777\n",
      "Threshold 0.0595543272793293, recall = 0.9473684210526315, precision = 0.6265060240963856\n",
      "Threshold 0.07093214988708496, recall = 0.9412955465587044, precision = 0.6352459016393442\n",
      "Threshold 0.08232542872428894, recall = 0.9412955465587044, precision = 0.6485355648535565\n",
      "Threshold 0.09340797364711761, recall = 0.9271255060728745, precision = 0.6524216524216524\n",
      "Threshold 0.10601092129945755, recall = 0.9271255060728745, precision = 0.6666666666666666\n",
      "Threshold 0.12358637154102325, recall = 0.9210526315789473, precision = 0.6770833333333334\n",
      "Threshold 0.14502696692943573, recall = 0.9149797570850202, precision = 0.6879756468797564\n",
      "Threshold 0.18508228659629822, recall = 0.9068825910931174, precision = 0.6978193146417445\n",
      "Threshold 0.22668884694576263, recall = 0.9008097165991903, precision = 0.7097288676236044\n",
      "Threshold 0.27155691385269165, recall = 0.8927125506072875, precision = 0.7205882352941176\n",
      "Threshold 0.31810399889945984, recall = 0.8805668016194332, precision = 0.7286432160804021\n",
      "Threshold 0.3576890528202057, recall = 0.8704453441295547, precision = 0.738831615120275\n",
      "Threshold 0.4310872554779053, recall = 0.8643724696356275, precision = 0.7530864197530864\n",
      "Threshold 0.4839051365852356, recall = 0.8481781376518218, precision = 0.7590579710144928\n",
      "Threshold 0.539750337600708, recall = 0.8380566801619433, precision = 0.770949720670391\n",
      "Threshold 0.585648238658905, recall = 0.8299595141700404, precision = 0.7854406130268199\n",
      "Threshold 0.6398842334747314, recall = 0.8218623481781376, precision = 0.8007889546351085\n",
      "Threshold 0.6952568888664246, recall = 0.8076923076923077, precision = 0.8109756097560976\n",
      "Threshold 0.7408035397529602, recall = 0.791497975708502, precision = 0.8197064989517819\n",
      "Threshold 0.7888372540473938, recall = 0.7732793522267206, precision = 0.8268398268398268\n",
      "Threshold 0.8291174173355103, recall = 0.7489878542510121, precision = 0.8277404921700223\n",
      "Threshold 0.8666188716888428, recall = 0.728744939271255, precision = 0.8333333333333334\n",
      "Threshold 0.8751755952835083, recall = 0.7105263157894737, precision = 0.841726618705036\n",
      "Threshold 0.8989828824996948, recall = 0.6963562753036437, precision = 0.8557213930348259\n",
      "Threshold 0.920536994934082, recall = 0.6821862348178138, precision = 0.8708010335917312\n",
      "Threshold 0.9347409009933472, recall = 0.659919028340081, precision = 0.8763440860215054\n",
      "Threshold 0.9500048160552979, recall = 0.6396761133603239, precision = 0.8851540616246498\n",
      "Threshold 0.9602351784706116, recall = 0.6214574898785425, precision = 0.8976608187134503\n",
      "Threshold 0.9677823781967163, recall = 0.5991902834008097, precision = 0.9051987767584098\n",
      "Threshold 0.9751495718955994, recall = 0.5789473684210527, precision = 0.9166666666666666\n",
      "Threshold 0.9809829592704773, recall = 0.5566801619433198, precision = 0.9259259259259259\n",
      "Threshold 0.9854660034179688, recall = 0.5344129554655871, precision = 0.9361702127659575\n",
      "Threshold 0.9883884787559509, recall = 0.5141700404858299, precision = 0.951310861423221\n",
      "Threshold 0.9910573959350586, recall = 0.48582995951417, precision = 0.9523809523809523\n",
      "Threshold 0.9939401149749756, recall = 0.46558704453441296, precision = 0.9704641350210971\n",
      "Threshold 0.9951621890068054, recall = 0.43724696356275305, precision = 0.972972972972973\n",
      "Threshold 0.9962994456291199, recall = 0.41295546558704455, precision = 0.9855072463768116\n",
      "Threshold 0.9971576929092407, recall = 0.3825910931174089, precision = 0.984375\n",
      "Threshold 0.9978602528572083, recall = 0.354251012145749, precision = 0.9887005649717514\n",
      "Threshold 0.9983335137367249, recall = 0.3259109311740891, precision = 0.9938271604938271\n",
      "Threshold 0.9986304044723511, recall = 0.29554655870445345, precision = 0.9931972789115646\n",
      "Threshold 0.9989219903945923, recall = 0.2651821862348178, precision = 0.9924242424242424\n",
      "Threshold 0.9991844296455383, recall = 0.23481781376518218, precision = 0.9914529914529915\n",
      "Threshold 0.9993845224380493, recall = 0.20445344129554655, precision = 0.9901960784313726\n",
      "Threshold 0.9995823502540588, recall = 0.17408906882591094, precision = 0.9885057471264368\n",
      "Threshold 0.999701201915741, recall = 0.145748987854251, precision = 1.0\n",
      "Threshold 0.9997853636741638, recall = 0.11538461538461539, precision = 1.0\n",
      "Threshold 0.9998728036880493, recall = 0.08502024291497975, precision = 1.0\n",
      "Threshold 0.9999202489852905, recall = 0.05465587044534413, precision = 1.0\n",
      "Threshold 0.9999598264694214, recall = 0.022267206477732792, precision = 1.0\n"
     ]
    }
   ],
   "source": [
    "pr_auc, precision, recall, PRthresholds = PR_curve(trainingdatafolder, model, features)\n",
    "for i in range(0,len(recall), 15):\n",
    "    print(\"Threshold {0}, recall = {1}, precision = {2}\".format(PRthresholds[i], recall[i], precision[i]))"
   ]
  },
  {
   "cell_type": "code",
   "execution_count": 32,
   "metadata": {},
   "outputs": [
    {
     "data": {
      "image/png": "[encoded data removed]",
      "text/plain": [
       "<Figure size 432x288 with 1 Axes>"
      ]
     },
     "metadata": {
      "needs_background": "light"
     },
     "output_type": "display_data"
    }
   ],
   "source": [
    "fig, ax = plt.subplots()\n",
    "ax.plot(recall, precision)\n",
    "ax.set_xlim([0.0, 1.0])\n",
    "ax.set_ylim([0.0, 1.0])\n",
    "ax.set_xlabel('Recall')\n",
    "ax.set_ylabel('Precision')\n",
    "ax.set_title(\"AUC Score (Test): {0:.4f}\".format(pr_auc))\n",
    "plt.show()"
   ]
  },
  {
   "cell_type": "code",
   "execution_count": 13,
   "metadata": {},
   "outputs": [
    {
     "data": {
      "text/plain": [
       "(0, 203.50000000000003)"
      ]
     },
     "execution_count": 13,
     "metadata": {},
     "output_type": "execute_result"
    },
    {
     "data": {
      "image/png": "[encoded data removed]",
      "text/plain": [
       "<Figure size 432x288 with 2 Axes>"
      ]
     },
     "metadata": {
      "needs_background": "light"
     },
     "output_type": "display_data"
    }
   ],
   "source": [
    "# Histogram:\n",
    "bins = 50\n",
    "Stable, Unstable = stable_unstable_hist(trainingdatafolder, model, features)\n",
    "\n",
    "fig, ax1 = plt.subplots()\n",
    "n, bins, pathces = ax1.hist(Unstable, bins, alpha=0.5, label='No', color='blue', edgecolor = \"black\")\n",
    "#print(n)\n",
    "ax1.set_xlabel('Predicted Probability', fontsize=14)\n",
    "ax1.set_ylabel('Unstable',  fontsize=14, color='blue')\n",
    "for tl in ax1.get_yticklabels():\n",
    "    tl.set_color('blue')\n",
    "    \n",
    "\n",
    "\n",
    "ax2 = ax1.twinx()\n",
    "n, bins , patches = ax2.hist(Stable, bins, alpha=0.5, label='Yes',color='green', edgecolor = \"black\")\n",
    "#print(n.astype(int))\n",
    "ax2.set_ylabel('Stable', fontsize=14, color='green')\n",
    "for tl in ax2.get_yticklabels():\n",
    "    tl.set_color('green')\n",
    "    \n",
    "    \n",
    "#ax1.set_ylim(ax2.get_ylim())\n",
    "ax1.set_ylim([0,1.1*n[-1]]) # goes up to ~4300\n",
    "ax2.set_ylim([0,1.1*n[-1]]) # goes up to ~2100"
   ]
  },
  {
   "cell_type": "code",
   "execution_count": 14,
   "metadata": {},
   "outputs": [
    {
     "data": {
      "text/plain": [
       "Text(0, 0.5, 'Fraction actually stable')"
      ]
     },
     "execution_count": 14,
     "metadata": {},
     "output_type": "execute_result"
    },
    {
     "data": {
      "image/png": "[encoded data removed]",
      "text/plain": [
       "<Figure size 576x432 with 1 Axes>"
      ]
     },
     "metadata": {
      "needs_background": "light"
     },
     "output_type": "display_data"
    }
   ],
   "source": [
    "bincenters, fracstable, errorbars = calibration_plot(trainingdatafolder, model, features, bins=10)\n",
    "fig, ax = plt.subplots(figsize=(8,6))\n",
    "ax.plot(np.linspace(0,1,100), np.linspace(0,1,100), '--')\n",
    "ax.errorbar(bincenters, fracstable, errorbars)\n",
    "ax.set_xlim([0,1])\n",
    "ax.set_ylim([0,1])\n",
    "ax.set_xlabel('Predicted Probability of Stability')\n",
    "ax.set_ylabel('Fraction actually stable')"
   ]
  },
  {
   "cell_type": "code",
   "execution_count": 15,
   "metadata": {},
   "outputs": [
    {
     "data": {
      "text/plain": [
       "Text(0.5, 1.0, 'Fraction of unstable systems mislabeled as stable')"
      ]
     },
     "execution_count": 15,
     "metadata": {},
     "output_type": "execute_result"
    },
    {
     "data": {
      "image/png": "[encoded data removed]",
      "text/plain": [
       "<Figure size 576x432 with 1 Axes>"
      ]
     },
     "metadata": {
      "needs_background": "light"
     },
     "output_type": "display_data"
    }
   ],
   "source": [
    "bincenters, errorfracs, errorbars = unstable_error_fraction(trainingdatafolder, model, features, bins=10)\n",
    "fig, ax = plt.subplots(figsize=(8,6))\n",
    "ax.errorbar(bincenters, errorfracs, errorbars)\n",
    "ax.set_ylim([0,1])\n",
    "ax.set_xlabel('Log Instability Time')\n",
    "ax.set_ylabel('Error Fraction')\n",
    "ax.set_title('Fraction of unstable systems mislabeled as stable')"
   ]
  },
  {
   "cell_type": "code",
   "execution_count": 16,
   "metadata": {},
   "outputs": [
    {
     "data": {
      "image/png": "[encoded data removed]",
      "text/plain": [
       "<Figure size 864x576 with 1 Axes>"
      ]
     },
     "metadata": {
      "needs_background": "light"
     },
     "output_type": "display_data"
    }
   ],
   "source": [
    "# feature importances\n",
    "feat_imp = pd.Series(model.get_booster().get_fscore()).sort_values(ascending=False)\n",
    "feat_imp.plot(kind='bar', title='Feature Importances', figsize=(12,8))\n",
    "plt.ylabel('Feature Importance Score')\n",
    "plt.show()"
   ]
  },
  {
   "cell_type": "code",
   "execution_count": 17,
   "metadata": {},
   "outputs": [],
   "source": [
    "dill.dump([model, features, featurefolder], open(datapath+\"../models/ressummaryfeaturesxgb_resonantAMD.pkl\", \"wb\"))"
   ]
  },
  {
   "cell_type": "markdown",
   "metadata": {},
   "source": [
    "# slice data between ranges of instability times"
   ]
  },
  {
   "cell_type": "markdown",
   "metadata": {},
   "source": [
    "# things that are just unstable might be very similar to things that are just stable"
   ]
  },
  {
   "cell_type": "markdown",
   "metadata": {},
   "source": [
    "# predict at half a billion, then repredict at half a billion whether you'll be unstable at a billion"
   ]
  },
  {
   "cell_type": "markdown",
   "metadata": {},
   "source": [
    "# do the summary features change with time?"
   ]
  },
  {
   "cell_type": "markdown",
   "metadata": {},
   "source": [
    "# try training on just unstable systems"
   ]
  },
  {
   "cell_type": "code",
   "execution_count": null,
   "metadata": {},
   "outputs": [],
   "source": []
  }
 ],
 "metadata": {
  "anaconda-cloud": {},
  "kernelspec": {
   "display_name": "Python 3",
   "language": "python",
   "name": "python3"
  },
  "language_info": {
   "codemirror_mode": {
    "name": "ipython",
    "version": 3
   },
   "file_extension": ".py",
   "mimetype": "text/x-python",
   "name": "python",
   "nbconvert_exporter": "python",
   "pygments_lexer": "ipython3",
   "version": "3.7.3"
  }
 },
 "nbformat": 4,
 "nbformat_minor": 2
}
