{
 "cells": [
  {
   "cell_type": "markdown",
   "metadata": {},
   "source": [
    "# Do XGB CV using Precision Recall AUC rather than ROC AUC. Find very small difference in performance"
   ]
  },
  {
   "cell_type": "code",
   "execution_count": 1,
   "metadata": {},
   "outputs": [],
   "source": [
    "import numpy as np\n",
    "import sklearn\n",
    "import matplotlib.pyplot as plt\n",
    "%matplotlib inline\n",
    "import pandas as pd\n",
    "from sklearn import metrics\n",
    "from sklearn.model_selection import cross_val_score\n",
    "from matplotlib import rc\n",
    "from matplotlib import cm\n",
    "from mpl_toolkits.mplot3d import axes3d\n",
    "from matplotlib.ticker import MaxNLocator\n",
    "import scipy.signal\n",
    "import xgboost as xgb\n",
    "from xgboost.sklearn import XGBClassifier\n",
    "from hyperopt import hp, fmin, tpe, STATUS_OK, Trials\n",
    "import dill\n",
    "import sys\n",
    "sys.path.append('../')\n",
    "from modelfitting import train_test_split, ROC_curve, PR_curve, stable_unstable_hist, calibration_plot, unstable_error_fraction"
   ]
  },
  {
   "cell_type": "code",
   "execution_count": 2,
   "metadata": {},
   "outputs": [],
   "source": [
    "datapath = '/mnt/ssd/workspace/stability/MLstability/training_data/'\n",
    "dset = 'resonant/'\n",
    "featurefolder = 'ressummaryfeaturesxgbNorbits10000.0Nout1000/'\n",
    "features = None"
   ]
  },
  {
   "cell_type": "code",
   "execution_count": 3,
   "metadata": {
    "scrolled": true
   },
   "outputs": [],
   "source": [
    "trainingdatafolder = datapath+dset+featurefolder\n",
    "trainX, trainY, testX, testY = train_test_split(trainingdatafolder, features)"
   ]
  },
  {
   "cell_type": "code",
   "execution_count": 13,
   "metadata": {},
   "outputs": [],
   "source": [
    "space ={\n",
    "        'max_depth': hp.randint('x_max_depth',  20),\n",
    "        'min_child_weight': hp.quniform ('x_min_child', 1, 10, 1),\n",
    "        'subsample': hp.uniform ('x_subsample', 0.8, 1),\n",
    "        'scale_pos_weight': hp.uniform(\"x_pos_weight\", 1, 15),\n",
    "        \"learning_rate\":hp.uniform(\"x_learning_rate\",0.01,0.2),\n",
    "        'colsample_bytree': hp.uniform ('x_tree_colsample', 0.5,1),\n",
    "}\n",
    "\n",
    "dtrain = xgb.DMatrix(trainX, trainY)\n",
    "dtest = xgb.DMatrix(testX, testY)\n",
    "def objective(space):\n",
    "\n",
    "    clf = XGBClassifier(n_estimators = 100, \n",
    "                            max_depth = space['max_depth'], \n",
    "                            min_child_weight =space['min_child_weight'],\n",
    "                            subsample = space['subsample'],\n",
    "                            colsample_bytree =space['colsample_bytree'],\n",
    "                            learning_rate = space['learning_rate'], seed = 0)\n",
    "    \n",
    "    params = clf.get_xgb_params()\n",
    "    #dtest\n",
    "    score = xgb.cv(params, dtrain, nfold = 5, metrics = \"aucpr\", early_stopping_rounds=10)\n",
    "    #print score\n",
    "    #score = cross_val_score(clf, trainX, trainY, cv = 5, scoring=\"average_precision\")\n",
    "    avg_score =  np.mean(score[\"test-aucpr-mean\"])\n",
    "    error = np.mean(score[\"test-aucpr-std\"])\n",
    "    \n",
    "    bst = xgb.train(params, dtrain)\n",
    "    preds = bst.predict(dtest)\n",
    "    test_score = metrics.roc_auc_score(testY, preds)\n",
    "    \n",
    "    print(\"SCORE:\", avg_score, \"ERROR\", error, \"HOLDOUT SCORE\", test_score)\n",
    "\n",
    "    return{'loss':1-test_score, 'status': STATUS_OK, \"cv_score\":avg_score , \"cv_error\":error, \"holdout\":test_score }"
   ]
  },
  {
   "cell_type": "code",
   "execution_count": 14,
   "metadata": {
    "scrolled": true
   },
   "outputs": [
    {
     "name": "stdout",
     "output_type": "stream",
     "text": [
      "SCORE:                                              \n",
      "0.8213935400000001                                  \n",
      "ERROR                                               \n",
      "0.022770968229508016                                \n",
      "HOLDOUT SCORE                                       \n",
      "0.9284137238534219                                  \n",
      "SCORE:                                                                        \n",
      "0.82254434                                                                    \n",
      "ERROR                                                                         \n",
      "0.02299394994593714                                                           \n",
      "HOLDOUT SCORE                                                                 \n",
      "0.9286163636143674                                                            \n",
      "SCORE:                                                                        \n",
      "0.8211744800000002                                                            \n",
      "ERROR                                                                         \n",
      "0.020527333293387722                                                          \n",
      "HOLDOUT SCORE                                                                 \n",
      "0.9284016259572461                                                            \n",
      "SCORE:                                                                        \n",
      "0.8228002200000001                                                            \n",
      "ERROR                                                                         \n",
      "0.024036813499200345                                                          \n",
      "HOLDOUT SCORE                                                                 \n",
      "0.9301427148485545                                                            \n",
      "SCORE:                                                                        \n",
      "0.8192187000000001                                                            \n",
      "ERROR                                                                         \n",
      "0.017004794503390437                                                          \n",
      "HOLDOUT SCORE                                                                 \n",
      "0.9175790496699291                                                            \n",
      "SCORE:                                                                        \n",
      "0.8209471                                                                     \n",
      "ERROR                                                                         \n",
      "0.012745741300968135                                                          \n",
      "HOLDOUT SCORE                                                                 \n",
      "0.9300721437875286                                                            \n",
      "SCORE:                                                                        \n",
      "0.2862698                                                                     \n",
      "ERROR                                                                         \n",
      "0.013965080284767426                                                          \n",
      "HOLDOUT SCORE                                                                 \n",
      "0.5                                                                           \n",
      "SCORE:                                                                        \n",
      "0.82056214                                                                    \n",
      "ERROR                                                                         \n",
      "0.020211202522121916                                                          \n",
      "HOLDOUT SCORE                                                                 \n",
      "0.929566048464172                                                             \n",
      "SCORE:                                                                        \n",
      "0.8229604                                                                     \n",
      "ERROR                                                                         \n",
      "0.012448014431630924                                                          \n",
      "HOLDOUT SCORE                                                                 \n",
      "0.9304663335712586                                                            \n",
      "SCORE:                                                                        \n",
      "0.8204939600000001                                                            \n",
      "ERROR                                                                         \n",
      "0.019296375082900157                                                          \n",
      "HOLDOUT SCORE                                                                 \n",
      "0.9215219556652432                                                            \n",
      "SCORE:                                                                         \n",
      "0.7477475                                                                      \n",
      "ERROR                                                                          \n",
      "0.01623250003491539                                                            \n",
      "HOLDOUT SCORE                                                                  \n",
      "0.9059297838105953                                                             \n",
      "SCORE:                                                                         \n",
      "0.8170289399999999                                                             \n",
      "ERROR                                                                          \n",
      "0.020508156446193523                                                           \n",
      "HOLDOUT SCORE                                                                  \n",
      "0.9296174645229195                                                             \n",
      "SCORE:                                                                         \n",
      "0.65146248                                                                     \n",
      "ERROR                                                                          \n",
      "0.020169058616254794                                                           \n",
      "HOLDOUT SCORE                                                                  \n",
      "0.8859934590708008                                                             \n",
      "SCORE:                                                                         \n",
      "0.8177777800000001                                                             \n",
      "ERROR                                                                          \n",
      "0.016928879788899613                                                           \n",
      "HOLDOUT SCORE                                                                  \n",
      "0.9247490694701525                                                             \n",
      "SCORE:                                                                         \n",
      "0.6082276400000001                                                             \n",
      "ERROR                                                                          \n",
      "0.02170174896142007                                                            \n",
      "HOLDOUT SCORE                                                                  \n",
      "0.8834377785036516                                                             \n",
      "SCORE:                                                                         \n",
      "0.8209000399999999                                                             \n",
      "ERROR                                                                          \n",
      "0.018912907700486307                                                           \n",
      "HOLDOUT SCORE                                                                  \n",
      "0.9270406126374623                                                             \n",
      "SCORE:                                                                         \n",
      "0.7524554                                                                      \n",
      "ERROR                                                                          \n",
      "0.020957580298398424                                                           \n",
      "HOLDOUT SCORE                                                                  \n",
      "0.9101025498332507                                                             \n",
      "SCORE:                                                                         \n",
      "0.8234061199999999                                                             \n",
      "ERROR                                                                          \n"
     ]
    },
    {
     "name": "stdout",
     "output_type": "stream",
     "text": [
      "0.015654399178747964                                                           \n",
      "HOLDOUT SCORE                                                                  \n",
      "0.9285276457090779                                                             \n",
      "SCORE:                                                                         \n",
      "0.81791258                                                                     \n",
      "ERROR                                                                          \n",
      "0.020544314263914874                                                           \n",
      "HOLDOUT SCORE                                                                  \n",
      "0.9239959754332056                                                             \n",
      "SCORE:                                                                         \n",
      "0.82805436                                                                     \n",
      "ERROR                                                                          \n",
      "0.018443639642826533                                                           \n",
      "HOLDOUT SCORE                                                                  \n",
      "0.9284016259572461                                                             \n",
      "SCORE:                                                                         \n",
      "0.81475932                                                                     \n",
      "ERROR                                                                          \n",
      "0.024200178735274254                                                           \n",
      "HOLDOUT SCORE                                                                  \n",
      "0.9249144073845559                                                             \n",
      "SCORE:                                                                         \n",
      "0.8208608999999999                                                             \n",
      "ERROR                                                                          \n",
      "0.02565995730651341                                                            \n",
      "HOLDOUT SCORE                                                                  \n",
      "0.9236239651257979                                                             \n",
      "SCORE:                                                                         \n",
      "0.8226265399999999                                                             \n",
      "ERROR                                                                          \n",
      "0.022284982241209433                                                           \n",
      "HOLDOUT SCORE                                                                  \n",
      "0.9281183335551281                                                             \n",
      "SCORE:                                                                         \n",
      "0.81000538                                                                     \n",
      "ERROR                                                                          \n",
      "0.02608895313965316                                                            \n",
      "HOLDOUT SCORE                                                                  \n",
      "0.921703424107881                                                              \n",
      "SCORE:                                                                         \n",
      "0.7165678                                                                      \n",
      "ERROR                                                                          \n",
      "0.017752597032681963                                                           \n",
      "HOLDOUT SCORE                                                                  \n",
      "0.9007377700351242                                                             \n",
      "SCORE:                                                                         \n",
      "0.81123952                                                                     \n",
      "ERROR                                                                          \n",
      "0.028505679821708006                                                           \n",
      "HOLDOUT SCORE                                                                  \n",
      "0.9237812377760841                                                             \n",
      "SCORE:                                                                         \n",
      "0.788634                                                                       \n",
      "ERROR                                                                          \n",
      "0.0318846759199384                                                             \n",
      "HOLDOUT SCORE                                                                  \n",
      "0.9111107078479053                                                             \n",
      "SCORE:                                                                         \n",
      "0.7760673800000001                                                             \n",
      "ERROR                                                                          \n",
      "0.026152894682125366                                                           \n",
      "HOLDOUT SCORE                                                                  \n",
      "0.9138690281760002                                                             \n",
      "SCORE:                                                                         \n",
      "0.82399168                                                                     \n",
      "ERROR                                                                          \n",
      "0.024404119026858014                                                           \n",
      "HOLDOUT SCORE                                                                  \n",
      "0.9271736894953968                                                             \n",
      "SCORE:                                                                         \n",
      "0.81046672                                                                     \n",
      "ERROR                                                                          \n",
      "0.018177922405581488                                                           \n",
      "HOLDOUT SCORE                                                                  \n",
      "0.928401625957246                                                              \n",
      "SCORE:                                                                         \n",
      "0.8129852599999999                                                             \n",
      "ERROR                                                                          \n",
      "0.023245986719358146                                                           \n",
      "HOLDOUT SCORE                                                                  \n",
      "0.9232549792924343                                                             \n",
      "SCORE:                                                                         \n",
      "0.8163746599999999                                                             \n",
      "ERROR                                                                          \n",
      "0.01772956915731693                                                            \n",
      "HOLDOUT SCORE                                                                  \n",
      "0.9252612137415971                                                             \n",
      "SCORE:                                                                         \n",
      "0.81069488                                                                     \n",
      "ERROR                                                                          \n",
      "0.02426746648503017                                                            \n",
      "HOLDOUT SCORE                                                                  \n",
      "0.9205258955467646                                                             \n",
      "SCORE:                                                                         \n",
      "0.81451446                                                                     \n",
      "ERROR                                                                          \n",
      "0.02377193562210559                                                            \n",
      "HOLDOUT SCORE                                                                  \n",
      "0.9258298148618622                                                             \n",
      "SCORE:                                                                         \n",
      "0.2862698                                                                      \n",
      "ERROR                                                                          \n"
     ]
    },
    {
     "name": "stdout",
     "output_type": "stream",
     "text": [
      "0.013965080284767426                                                           \n",
      "HOLDOUT SCORE                                                                  \n",
      "0.5                                                                            \n",
      "SCORE:                                                                         \n",
      "0.82159232                                                                     \n",
      "ERROR                                                                          \n",
      "0.018359022200164145                                                           \n",
      "HOLDOUT SCORE                                                                  \n",
      "0.9292928376422008                                                             \n",
      "SCORE:                                                                         \n",
      "0.8170441800000001                                                             \n",
      "ERROR                                                                          \n",
      "0.01859020662103253                                                            \n",
      "HOLDOUT SCORE                                                                  \n",
      "0.9279086366880799                                                             \n",
      "SCORE:                                                                         \n",
      "0.809321                                                                       \n",
      "ERROR                                                                          \n",
      "0.025028954756870486                                                           \n",
      "HOLDOUT SCORE                                                                  \n",
      "0.9215320372453898                                                             \n",
      "SCORE:                                                                         \n",
      "0.81380984                                                                     \n",
      "ERROR                                                                          \n",
      "0.020706048029304945                                                           \n",
      "HOLDOUT SCORE                                                                  \n",
      "0.9250051416058749                                                             \n",
      "SCORE:                                                                         \n",
      "0.70223188                                                                     \n",
      "ERROR                                                                          \n",
      "0.025160143433320716                                                           \n",
      "HOLDOUT SCORE                                                                  \n",
      "0.8894474084290076                                                             \n",
      "SCORE:                                                                         \n",
      "0.8127437399999999                                                             \n",
      "ERROR                                                                          \n",
      "0.022119612375037755                                                           \n",
      "HOLDOUT SCORE                                                                  \n",
      "0.917692971525585                                                              \n",
      "SCORE:                                                                         \n",
      "0.7919144                                                                      \n",
      "ERROR                                                                          \n",
      "0.028171033460329415                                                           \n",
      "HOLDOUT SCORE                                                                  \n",
      "0.9175437641394161                                                             \n",
      "SCORE:                                                                         \n",
      "0.77866684                                                                     \n",
      "ERROR                                                                          \n",
      "0.026335097166160577                                                           \n",
      "HOLDOUT SCORE                                                                  \n",
      "0.9174923480806688                                                             \n",
      "SCORE:                                                                         \n",
      "0.8233127                                                                      \n",
      "ERROR                                                                          \n",
      "0.022203997952626415                                                           \n",
      "HOLDOUT SCORE                                                                  \n",
      "0.9268843481451907                                                             \n",
      "SCORE:                                                                         \n",
      "0.8132003400000001                                                             \n",
      "ERROR                                                                          \n",
      "0.024505157946317656                                                           \n",
      "HOLDOUT SCORE                                                                  \n",
      "0.9244940054924449                                                             \n",
      "SCORE:                                                                         \n",
      "0.8219456199999999                                                             \n",
      "ERROR                                                                          \n",
      "0.018986205534261832                                                           \n",
      "HOLDOUT SCORE                                                                  \n",
      "0.9237328461913806                                                             \n",
      "SCORE:                                                                         \n",
      "0.79942204                                                                     \n",
      "ERROR                                                                          \n",
      "0.030320107749014353                                                           \n",
      "HOLDOUT SCORE                                                                  \n",
      "0.9245242502328845                                                             \n",
      "SCORE:                                                                         \n",
      "0.8180690400000001                                                             \n",
      "ERROR                                                                          \n",
      "0.019433150457872608                                                           \n",
      "HOLDOUT SCORE                                                                  \n",
      "0.9254144537598246                                                             \n",
      "SCORE:                                                                         \n",
      "0.81620186                                                                     \n",
      "ERROR                                                                          \n",
      "0.01587103029995438                                                            \n",
      "HOLDOUT SCORE                                                                  \n",
      "0.9192727551345488                                                             \n",
      "SCORE:                                                                         \n",
      "0.7587652199999999                                                             \n",
      "ERROR                                                                          \n",
      "0.02215296997041933                                                            \n",
      "HOLDOUT SCORE                                                                  \n",
      "0.9116268847514084                                                             \n",
      "100%|██████████| 50/50 [01:33<00:00,  1.75s/it, best loss: 0.06953366642874137]\n",
      "Optimization Time: %f seconds 93.18027448654175\n",
      "CPU times: user 1min 32s, sys: 707 ms, total: 1min 33s\n",
      "Wall time: 1min 33s\n"
     ]
    }
   ],
   "source": [
    "%%time\n",
    "trials = Trials()\n",
    "import time\n",
    "start = time.time()\n",
    "best = fmin(fn=objective, space = space, algo = tpe.suggest, max_evals = 50, trials = trials)\n",
    "end = time.time()\n",
    "print(\"Optimization Time: %f seconds\", (end  -start))"
   ]
  },
  {
   "cell_type": "code",
   "execution_count": 15,
   "metadata": {},
   "outputs": [
    {
     "data": {
      "text/plain": [
       "{'x_learning_rate': 0.07692134413455207,\n",
       " 'x_max_depth': 11,\n",
       " 'x_min_child': 4.0,\n",
       " 'x_pos_weight': 12.008614249447442,\n",
       " 'x_subsample': 0.8287309108835599,\n",
       " 'x_tree_colsample': 0.75557830389685}"
      ]
     },
     "execution_count": 15,
     "metadata": {},
     "output_type": "execute_result"
    }
   ],
   "source": [
    "best"
   ]
  },
  {
   "cell_type": "code",
   "execution_count": 16,
   "metadata": {},
   "outputs": [
    {
     "name": "stdout",
     "output_type": "stream",
     "text": [
      "[0]\ttrain-aucpr:0.780762+0.01327\ttest-aucpr:0.70963+0.019693\n",
      "[1]\ttrain-aucpr:0.844198+0.0186128\ttest-aucpr:0.761694+0.0215451\n",
      "[2]\ttrain-aucpr:0.867641+0.0177491\ttest-aucpr:0.787073+0.0297586\n",
      "[3]\ttrain-aucpr:0.88123+0.0121354\ttest-aucpr:0.800127+0.0277582\n",
      "[4]\ttrain-aucpr:0.889669+0.0114498\ttest-aucpr:0.805709+0.0289936\n",
      "[5]\ttrain-aucpr:0.897406+0.0121715\ttest-aucpr:0.805339+0.0284229\n",
      "[6]\ttrain-aucpr:0.908529+0.00637986\ttest-aucpr:0.810464+0.0299124\n",
      "[7]\ttrain-aucpr:0.912606+0.00683199\ttest-aucpr:0.815702+0.0252218\n",
      "[8]\ttrain-aucpr:0.920397+0.00594255\ttest-aucpr:0.817327+0.0241993\n",
      "[9]\ttrain-aucpr:0.925151+0.0064168\ttest-aucpr:0.820412+0.0244699\n",
      "   train-aucpr-mean  train-aucpr-std  test-aucpr-mean  test-aucpr-std\n",
      "0          0.780762         0.013270         0.709630        0.019693\n",
      "1          0.844198         0.018613         0.761694        0.021545\n",
      "2          0.867641         0.017749         0.787073        0.029759\n",
      "3          0.881230         0.012135         0.800127        0.027758\n",
      "4          0.889669         0.011450         0.805709        0.028994\n",
      "5          0.897406         0.012172         0.805339        0.028423\n",
      "6          0.908529         0.006380         0.810464        0.029912\n",
      "7          0.912606         0.006832         0.815702        0.025222\n",
      "8          0.920397         0.005943         0.817327        0.024199\n",
      "9          0.925151         0.006417         0.820412        0.024470\n"
     ]
    },
    {
     "name": "stderr",
     "output_type": "stream",
     "text": [
      "/home/dtamayo/miniconda3/envs/p3/lib/python3.7/site-packages/xgboost/core.py:587: FutureWarning: Series.base is deprecated and will be removed in a future version\n",
      "  if getattr(data, 'base', None) is not None and \\\n",
      "/home/dtamayo/miniconda3/envs/p3/lib/python3.7/site-packages/xgboost/core.py:588: FutureWarning: Series.base is deprecated and will be removed in a future version\n",
      "  data.base is not None and isinstance(data, np.ndarray) \\\n"
     ]
    },
    {
     "name": "stdout",
     "output_type": "stream",
     "text": [
      "0.8276235717719186\n"
     ]
    }
   ],
   "source": [
    "best_xgbc = XGBClassifier(n_estimators=100, scale_pos_weight=best[\"x_pos_weight\"],\n",
    "                         learning_rate = best[\"x_learning_rate\"], \n",
    "                         max_depth = int(best[\"x_max_depth\"]), \n",
    "                         min_child_weight = best[\"x_min_child\"],\n",
    "                         subsample = best[\"x_subsample\"], \n",
    "                         colsample_bytree = best[\"x_tree_colsample\"])\n",
    "params = best_xgbc.get_xgb_params()\n",
    "score = xgb.cv(params, dtrain, nfold = 5, metrics = \"aucpr\", verbose_eval=True)\n",
    "print(score)\n",
    "d_Train = xgb.DMatrix(trainX, trainY)\n",
    "d_Test = xgb.DMatrix(testX)\n",
    "bst = xgb.train(params, d_Train)\n",
    "preds = bst.predict(d_Test)\n",
    "score = metrics.average_precision_score(testY, preds)\n",
    "print(score)"
   ]
  },
  {
   "cell_type": "code",
   "execution_count": 17,
   "metadata": {},
   "outputs": [
    {
     "data": {
      "text/plain": [
       "XGBClassifier(base_score=0.5, booster='gbtree', colsample_bylevel=1,\n",
       "       colsample_bytree=0.75557830389685, gamma=0,\n",
       "       learning_rate=0.07692134413455207, max_delta_step=0, max_depth=11,\n",
       "       min_child_weight=4.0, missing=None, n_estimators=100, n_jobs=1,\n",
       "       nthread=None, objective='binary:logistic', random_state=0,\n",
       "       reg_alpha=0, reg_lambda=1, scale_pos_weight=12.008614249447442,\n",
       "       seed=None, silent=True, subsample=0.8287309108835599)"
      ]
     },
     "execution_count": 17,
     "metadata": {},
     "output_type": "execute_result"
    }
   ],
   "source": [
    "model = XGBClassifier(n_estimators=100, scale_pos_weight=best[\"x_pos_weight\"],\n",
    "                         learning_rate = best[\"x_learning_rate\"], \n",
    "                         max_depth = int(best[\"x_max_depth\"]), \n",
    "                         min_child_weight = best[\"x_min_child\"],\n",
    "                         subsample = best[\"x_subsample\"], \n",
    "                         colsample_bytree = best[\"x_tree_colsample\"])\n",
    "\n",
    "model.fit(trainX, trainY)"
   ]
  },
  {
   "cell_type": "code",
   "execution_count": 18,
   "metadata": {},
   "outputs": [
    {
     "data": {
      "text/plain": [
       "Text(0.5, 1.0, 'ROC curve (AUC = 0.943)')"
      ]
     },
     "execution_count": 18,
     "metadata": {},
     "output_type": "execute_result"
    },
    {
     "data": {
      "image/png": "[encoded data removed]",
      "text/plain": [
       "<Figure size 432x288 with 1 Axes>"
      ]
     },
     "metadata": {
      "needs_background": "light"
     },
     "output_type": "display_data"
    }
   ],
   "source": [
    "roc_auc, fpr, tpr, ROCthresholds = ROC_curve(trainingdatafolder, model, features)\n",
    "\n",
    "fig, ax = plt.subplots()\n",
    "ax.plot(fpr, tpr)\n",
    "ax.plot([0, 1], [0, 1], 'k--')\n",
    "ax.set_xlim([0.0, 1.0])\n",
    "ax.set_ylim([0.0, 1.0])\n",
    "ax.set_xlabel('False Positive Rate')\n",
    "ax.set_ylabel('True Positive Rate')\n",
    "ax.set_title('ROC curve (AUC = {0:.3f})'.format(roc_auc))"
   ]
  },
  {
   "cell_type": "code",
   "execution_count": 21,
   "metadata": {},
   "outputs": [
    {
     "name": "stdout",
     "output_type": "stream",
     "text": [
      "Threshold 0.008735956624150276, recall = 1.0, precision = 0.4214801444043321\n",
      "Threshold 0.009356862865388393, recall = 0.9978586723768736, precision = 0.4263494967978042\n",
      "Threshold 0.00990913063287735, recall = 0.9978586723768736, precision = 0.4322820037105751\n",
      "Threshold 0.01118516456335783, recall = 0.9978586723768736, precision = 0.43838193791157104\n",
      "Threshold 0.012281272560358047, recall = 0.9978586723768736, precision = 0.4446564885496183\n",
      "Threshold 0.013150620274245739, recall = 0.9978586723768736, precision = 0.45111326234269117\n",
      "Threshold 0.014322025701403618, recall = 0.9978586723768736, precision = 0.4577603143418468\n",
      "Threshold 0.015855329111218452, recall = 0.9978586723768736, precision = 0.4646061814556331\n",
      "Threshold 0.016817398369312286, recall = 0.9978586723768736, precision = 0.4716599190283401\n",
      "Threshold 0.01799878105521202, recall = 0.9914346895074947, precision = 0.47584789311408016\n",
      "Threshold 0.020118599757552147, recall = 0.9892933618843683, precision = 0.4822546972860125\n",
      "Threshold 0.02188142202794552, recall = 0.987152034261242, precision = 0.48886532343584305\n",
      "Threshold 0.024852104485034943, recall = 0.9850107066381156, precision = 0.4956896551724138\n",
      "Threshold 0.026427101343870163, recall = 0.9850107066381156, precision = 0.5038335158817087\n",
      "Threshold 0.03077191859483719, recall = 0.9850107066381156, precision = 0.512249443207127\n",
      "Threshold 0.034352418035268784, recall = 0.9850107066381156, precision = 0.5209513023782559\n",
      "Threshold 0.040549904108047485, recall = 0.9850107066381156, precision = 0.5299539170506913\n",
      "Threshold 0.04660394787788391, recall = 0.9828693790149893, precision = 0.5381008206330598\n",
      "Threshold 0.05444846674799919, recall = 0.9828693790149893, precision = 0.5477326968973747\n",
      "Threshold 0.06011630594730377, recall = 0.9828693790149893, precision = 0.5577156743620899\n",
      "Threshold 0.06851057708263397, recall = 0.9764453961456103, precision = 0.5643564356435643\n",
      "Threshold 0.08055896311998367, recall = 0.9700214132762313, precision = 0.5712484237074401\n",
      "Threshold 0.09579700231552124, recall = 0.9635974304068522, precision = 0.5784061696658098\n",
      "Threshold 0.10511139035224915, recall = 0.961456102783726, precision = 0.5884665792922673\n",
      "Threshold 0.1155170351266861, recall = 0.961456102783726, precision = 0.6002673796791443\n",
      "Threshold 0.130165696144104, recall = 0.9593147751605996, precision = 0.6111869031377899\n",
      "Threshold 0.15316009521484375, recall = 0.9528907922912205, precision = 0.6197771587743732\n",
      "Threshold 0.1706719994544983, recall = 0.9464668094218416, precision = 0.6287339971550497\n",
      "Threshold 0.19276700913906097, recall = 0.9379014989293362, precision = 0.6366279069767442\n",
      "Threshold 0.22648319602012634, recall = 0.9336188436830836, precision = 0.6478454680534919\n",
      "Threshold 0.25757133960723877, recall = 0.9271948608137045, precision = 0.6580547112462006\n",
      "Threshold 0.2973841726779938, recall = 0.9271948608137045, precision = 0.6734059097978227\n",
      "Threshold 0.3330724537372589, recall = 0.9186295503211992, precision = 0.6831210191082803\n",
      "Threshold 0.3934372663497925, recall = 0.9100642398286938, precision = 0.6933115823817292\n",
      "Threshold 0.4251689016819, recall = 0.9014989293361885, precision = 0.7040133779264214\n",
      "Threshold 0.4469597637653351, recall = 0.8972162740899358, precision = 0.7186963979416809\n",
      "Threshold 0.48575055599212646, recall = 0.8907922912205567, precision = 0.7323943661971831\n",
      "Threshold 0.5318540930747986, recall = 0.8843683083511777, precision = 0.7468354430379747\n",
      "Threshold 0.5812874436378479, recall = 0.8758029978586723, precision = 0.7602230483271375\n",
      "Threshold 0.6210565567016602, recall = 0.8629550321199143, precision = 0.7705544933078394\n",
      "Threshold 0.6539111733436584, recall = 0.841541755888651, precision = 0.7736220472440944\n",
      "Threshold 0.6917089819908142, recall = 0.8308351177730193, precision = 0.7870182555780934\n",
      "Threshold 0.727385938167572, recall = 0.8094218415417559, precision = 0.7907949790794979\n",
      "Threshold 0.7778070569038391, recall = 0.7944325481798715, precision = 0.8012958963282938\n",
      "Threshold 0.8075025677680969, recall = 0.7794432548179872, precision = 0.8125\n",
      "Threshold 0.8401728868484497, recall = 0.7601713062098501, precision = 0.8198614318706697\n",
      "Threshold 0.8528861999511719, recall = 0.7366167023554604, precision = 0.8229665071770335\n",
      "Threshold 0.8712959289550781, recall = 0.715203426124197, precision = 0.8287841191066998\n",
      "Threshold 0.8887321949005127, recall = 0.6980728051391863, precision = 0.8402061855670103\n",
      "Threshold 0.8978915810585022, recall = 0.6745182012847966, precision = 0.8445040214477212\n",
      "Threshold 0.9062251448631287, recall = 0.6573875802997858, precision = 0.8575418994413407\n",
      "Threshold 0.9201198816299438, recall = 0.6316916488222698, precision = 0.8600583090379009\n",
      "Threshold 0.9301332831382751, recall = 0.6081370449678801, precision = 0.8658536585365854\n",
      "Threshold 0.9380572438240051, recall = 0.5867237687366167, precision = 0.8753993610223643\n",
      "Threshold 0.9473713040351868, recall = 0.563169164882227, precision = 0.8825503355704698\n",
      "Threshold 0.9554840326309204, recall = 0.5374732334047109, precision = 0.8869257950530035\n",
      "Threshold 0.9617428779602051, recall = 0.5139186295503212, precision = 0.8955223880597015\n",
      "Threshold 0.9648336172103882, recall = 0.48822269807280516, precision = 0.9011857707509882\n",
      "Threshold 0.9712335467338562, recall = 0.4689507494646681, precision = 0.9201680672268907\n",
      "Threshold 0.9755420684814453, recall = 0.4518201284796574, precision = 0.9461883408071748\n",
      "Threshold 0.9779899716377258, recall = 0.4282655246252677, precision = 0.9615384615384616\n",
      "Threshold 0.9811820387840271, recall = 0.4025695931477516, precision = 0.9740932642487047\n",
      "Threshold 0.982767641544342, recall = 0.37259100642398285, precision = 0.9775280898876404\n",
      "Threshold 0.984635055065155, recall = 0.3426124197002141, precision = 0.9815950920245399\n",
      "Threshold 0.9862805604934692, recall = 0.31263383297644537, precision = 0.9864864864864865\n",
      "Threshold 0.9888871312141418, recall = 0.284796573875803, precision = 1.0\n",
      "Threshold 0.9910365343093872, recall = 0.25267665952890794, precision = 1.0\n",
      "Threshold 0.9921494722366333, recall = 0.22055674518201285, precision = 1.0\n",
      "Threshold 0.993198573589325, recall = 0.18843683083511778, precision = 1.0\n",
      "Threshold 0.994055986404419, recall = 0.15631691648822268, precision = 1.0\n",
      "Threshold 0.9949394464492798, recall = 0.12419700214132762, precision = 1.0\n",
      "Threshold 0.9964015483856201, recall = 0.09207708779443255, precision = 1.0\n",
      "Threshold 0.9972061514854431, recall = 0.059957173447537475, precision = 1.0\n",
      "Threshold 0.9979904890060425, recall = 0.027837259100642397, precision = 1.0\n"
     ]
    }
   ],
   "source": [
    "pr_auc, precision, recall, PRthresholds = PR_curve(trainingdatafolder, model, features)\n",
    "for i in range(0,len(recall), 15):\n",
    "    print(\"Threshold {0}, recall = {1}, precision = {2}\".format(PRthresholds[i], recall[i], precision[i]))"
   ]
  },
  {
   "cell_type": "code",
   "execution_count": 22,
   "metadata": {},
   "outputs": [
    {
     "data": {
      "image/png": "[encoded data removed]",
      "text/plain": [
       "<Figure size 432x288 with 1 Axes>"
      ]
     },
     "metadata": {
      "needs_background": "light"
     },
     "output_type": "display_data"
    }
   ],
   "source": [
    "fig, ax = plt.subplots()\n",
    "ax.plot(recall, precision)\n",
    "ax.set_xlim([0.0, 1.0])\n",
    "ax.set_ylim([0.0, 1.0])\n",
    "ax.set_xlabel('Recall')\n",
    "ax.set_ylabel('Precision')\n",
    "ax.set_title(\"AUC Score (Test): {0:.4f}\".format(pr_auc))\n",
    "plt.show()"
   ]
  },
  {
   "cell_type": "code",
   "execution_count": 23,
   "metadata": {},
   "outputs": [
    {
     "data": {
      "text/plain": [
       "(0, 91.30000000000001)"
      ]
     },
     "execution_count": 23,
     "metadata": {},
     "output_type": "execute_result"
    },
    {
     "data": {
      "image/png": "[encoded data removed]",
      "text/plain": [
       "<Figure size 432x288 with 2 Axes>"
      ]
     },
     "metadata": {
      "needs_background": "light"
     },
     "output_type": "display_data"
    }
   ],
   "source": [
    "# Histogram:\n",
    "bins = 50\n",
    "Stable, Unstable = stable_unstable_hist(trainingdatafolder, model, features)\n",
    "\n",
    "fig, ax1 = plt.subplots()\n",
    "n, bins, pathces = ax1.hist(Unstable, bins, alpha=0.5, label='No', color='blue', edgecolor = \"black\")\n",
    "#print(n)\n",
    "ax1.set_xlabel('Predicted Probability', fontsize=14)\n",
    "ax1.set_ylabel('Unstable',  fontsize=14, color='blue')\n",
    "for tl in ax1.get_yticklabels():\n",
    "    tl.set_color('blue')\n",
    "    \n",
    "\n",
    "\n",
    "ax2 = ax1.twinx()\n",
    "n, bins , patches = ax2.hist(Stable, bins, alpha=0.5, label='Yes',color='green', edgecolor = \"black\")\n",
    "#print(n.astype(int))\n",
    "ax2.set_ylabel('Stable', fontsize=14, color='green')\n",
    "for tl in ax2.get_yticklabels():\n",
    "    tl.set_color('green')\n",
    "    \n",
    "    \n",
    "#ax1.set_ylim(ax2.get_ylim())\n",
    "ax1.set_ylim([0,1.1*n[-1]]) # goes up to ~4300\n",
    "ax2.set_ylim([0,1.1*n[-1]]) # goes up to ~2100"
   ]
  },
  {
   "cell_type": "code",
   "execution_count": 24,
   "metadata": {},
   "outputs": [
    {
     "data": {
      "text/plain": [
       "Text(0, 0.5, 'Fraction actually stable')"
      ]
     },
     "execution_count": 24,
     "metadata": {},
     "output_type": "execute_result"
    },
    {
     "data": {
      "image/png": "[encoded data removed]",
      "text/plain": [
       "<Figure size 576x432 with 1 Axes>"
      ]
     },
     "metadata": {
      "needs_background": "light"
     },
     "output_type": "display_data"
    }
   ],
   "source": [
    "bincenters, fracstable, errorbars = calibration_plot(trainingdatafolder, model, features, bins=10)\n",
    "fig, ax = plt.subplots(figsize=(8,6))\n",
    "ax.plot(np.linspace(0,1,100), np.linspace(0,1,100), '--')\n",
    "ax.errorbar(bincenters, fracstable, errorbars)\n",
    "ax.set_xlim([0,1])\n",
    "ax.set_ylim([0,1])\n",
    "ax.set_xlabel('Predicted Probability of Stability')\n",
    "ax.set_ylabel('Fraction actually stable')"
   ]
  },
  {
   "cell_type": "code",
   "execution_count": 25,
   "metadata": {},
   "outputs": [
    {
     "data": {
      "text/plain": [
       "Text(0.5, 1.0, 'Fraction of unstable systems mislabeled as stable')"
      ]
     },
     "execution_count": 25,
     "metadata": {},
     "output_type": "execute_result"
    },
    {
     "data": {
      "image/png": "[encoded data removed]",
      "text/plain": [
       "<Figure size 576x432 with 1 Axes>"
      ]
     },
     "metadata": {
      "needs_background": "light"
     },
     "output_type": "display_data"
    }
   ],
   "source": [
    "bincenters, errorfracs, errorbars = unstable_error_fraction(trainingdatafolder, model, features, bins=10)\n",
    "fig, ax = plt.subplots(figsize=(8,6))\n",
    "ax.errorbar(bincenters, errorfracs, errorbars)\n",
    "ax.set_ylim([0,1])\n",
    "ax.set_xlabel('Log Instability Time')\n",
    "ax.set_ylabel('Error Fraction')\n",
    "ax.set_title('Fraction of unstable systems mislabeled as stable')"
   ]
  },
  {
   "cell_type": "code",
   "execution_count": 14,
   "metadata": {},
   "outputs": [
    {
     "data": {
      "image/png": "[encoded data removed]",
      "text/plain": [
       "<Figure size 864x576 with 1 Axes>"
      ]
     },
     "metadata": {
      "needs_background": "light"
     },
     "output_type": "display_data"
    }
   ],
   "source": [
    "# feature importances\n",
    "feat_imp = pd.Series(model.get_booster().get_fscore()).sort_values(ascending=False)\n",
    "feat_imp.plot(kind='bar', title='Feature Importances', figsize=(12,8))\n",
    "plt.ylabel('Feature Importance Score')\n",
    "plt.show()"
   ]
  },
  {
   "cell_type": "code",
   "execution_count": 26,
   "metadata": {},
   "outputs": [],
   "source": [
    "dill.dump([model, features, featurefolder], open(datapath+\"../models/ressummaryfeaturesxgb_resonantPRCV.pkl\", \"wb\"))"
   ]
  }
 ],
 "metadata": {
  "anaconda-cloud": {},
  "kernelspec": {
   "display_name": "Python 3",
   "language": "python",
   "name": "python3"
  },
  "language_info": {
   "codemirror_mode": {
    "name": "ipython",
    "version": 3
   },
   "file_extension": ".py",
   "mimetype": "text/x-python",
   "name": "python",
   "nbconvert_exporter": "python",
   "pygments_lexer": "ipython3",
   "version": "3.7.2"
  }
 },
 "nbformat": 4,
 "nbformat_minor": 2
}
