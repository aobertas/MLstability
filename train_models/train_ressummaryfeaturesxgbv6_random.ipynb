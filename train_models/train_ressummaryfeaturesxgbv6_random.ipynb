{
 "cells": [
  {
   "cell_type": "code",
   "execution_count": 1,
   "metadata": {},
   "outputs": [],
   "source": [
    "import numpy as np\n",
    "import sklearn\n",
    "import matplotlib.pyplot as plt\n",
    "%matplotlib inline\n",
    "import pandas as pd\n",
    "from sklearn import metrics\n",
    "from sklearn.model_selection import cross_val_score\n",
    "from matplotlib import rc\n",
    "from matplotlib import cm\n",
    "from mpl_toolkits.mplot3d import axes3d\n",
    "from matplotlib.ticker import MaxNLocator\n",
    "import scipy.signal\n",
    "import xgboost as xgb\n",
    "from xgboost.sklearn import XGBClassifier\n",
    "from hyperopt import hp, fmin, tpe, STATUS_OK, Trials\n",
    "import dill\n",
    "import sys\n",
    "sys.path.append('../')\n",
    "from modelfitting import train_test_split, ROC_curve, PR_curve, stable_unstable_hist, calibration_plot, unstable_error_fraction"
   ]
  },
  {
   "cell_type": "code",
   "execution_count": 6,
   "metadata": {},
   "outputs": [],
   "source": [
    "datapath = '/mnt/ssd/Dropbox/Dropbox (Princeton)/workspace/stability/MLstability/training_data/'\n",
    "dset = 'random/'\n",
    "featurefolder = 'ressummaryfeaturesxgbv6Norbits10000.0Nout1000/'#'ressummaryfeaturesxgbNorbits10000.0Nout1000/'\n",
    "\n",
    "features = None"
   ]
  },
  {
   "cell_type": "code",
   "execution_count": 7,
   "metadata": {
    "scrolled": true
   },
   "outputs": [],
   "source": [
    "trainingdatafolder = datapath+dset+featurefolder\n",
    "trainX, trainY, testX, testY = train_test_split(trainingdatafolder, features)"
   ]
  },
  {
   "cell_type": "code",
   "execution_count": 9,
   "metadata": {},
   "outputs": [
    {
     "name": "stderr",
     "output_type": "stream",
     "text": [
      "/home/dtamayo/miniconda3/envs/ml/lib/python3.7/site-packages/xgboost/core.py:587: FutureWarning: Series.base is deprecated and will be removed in a future version\n",
      "  if getattr(data, 'base', None) is not None and \\\n",
      "/home/dtamayo/miniconda3/envs/ml/lib/python3.7/site-packages/xgboost/core.py:588: FutureWarning: Series.base is deprecated and will be removed in a future version\n",
      "  data.base is not None and isinstance(data, np.ndarray) \\\n"
     ]
    }
   ],
   "source": [
    "space ={\n",
    "        'max_depth': hp.randint('x_max_depth',  20),\n",
    "        'min_child_weight': hp.quniform ('x_min_child', 1, 10, 1),\n",
    "        'subsample': hp.uniform ('x_subsample', 0.8, 1),\n",
    "        'scale_pos_weight': hp.uniform(\"x_pos_weight\", 1, 15),\n",
    "        \"learning_rate\":hp.uniform(\"x_learning_rate\",0.01,0.2),\n",
    "        'colsample_bytree': hp.uniform ('x_tree_colsample', 0.5,1),\n",
    "}\n",
    "\n",
    "dtrain = xgb.DMatrix(trainX, trainY)\n",
    "dtest = xgb.DMatrix(testX, testY)\n",
    "def objective(space):\n",
    "\n",
    "    clf = XGBClassifier(n_estimators = 100, \n",
    "                            max_depth = space['max_depth'], \n",
    "                            min_child_weight =space['min_child_weight'],\n",
    "                            subsample = space['subsample'],\n",
    "                            colsample_bytree =space['colsample_bytree'],\n",
    "                            learning_rate = space['learning_rate'], seed = 0)\n",
    "    \n",
    "    params = clf.get_xgb_params()\n",
    "    #dtest\n",
    "    score = xgb.cv(params, dtrain, nfold = 5, metrics = \"auc\", early_stopping_rounds=10)\n",
    "    #print score\n",
    "    #score = cross_val_score(clf, trainX, trainY, cv = 5, scoring=\"average_precision\")\n",
    "    avg_score =  np.mean(score[\"test-auc-mean\"])\n",
    "    error = np.mean(score[\"test-auc-std\"])\n",
    "    \n",
    "    bst = xgb.train(params, dtrain)\n",
    "    preds = bst.predict(dtest)\n",
    "    test_score = metrics.roc_auc_score(testY, preds)\n",
    "    \n",
    "    print(\"SCORE:\", avg_score, \"ERROR\", error, \"HOLDOUT SCORE\", test_score)\n",
    "\n",
    "    return{'loss':1-test_score, 'status': STATUS_OK, \"cv_score\":avg_score , \"cv_error\":error, \"holdout\":test_score }"
   ]
  },
  {
   "cell_type": "code",
   "execution_count": 10,
   "metadata": {
    "scrolled": true
   },
   "outputs": [
    {
     "name": "stdout",
     "output_type": "stream",
     "text": [
      "SCORE:                                              \n",
      "0.9836552199999999                                  \n",
      "ERROR                                               \n",
      "0.0020486231450380812                               \n",
      "HOLDOUT SCORE                                       \n",
      "0.9892318062934911                                  \n",
      "SCORE:                                                                         \n",
      "0.98347046                                                                     \n",
      "ERROR                                                                          \n",
      "0.0017058013632811533                                                          \n",
      "HOLDOUT SCORE                                                                  \n",
      "0.9877293864869179                                                             \n",
      "SCORE:                                                                         \n",
      "0.9762561399999999                                                             \n",
      "ERROR                                                                          \n",
      "0.003209757513658147                                                           \n",
      "HOLDOUT SCORE                                                                  \n",
      "0.9824526113183913                                                             \n",
      "SCORE:                                                                         \n",
      "0.9837906399999998                                                             \n",
      "ERROR                                                                          \n",
      "0.001663442015691304                                                           \n",
      "HOLDOUT SCORE                                                                  \n",
      "0.9895124679982822                                                             \n",
      "SCORE:                                                                         \n",
      "0.5                                                                            \n",
      "ERROR                                                                          \n",
      "0.0                                                                            \n",
      "HOLDOUT SCORE                                                                  \n",
      "0.5                                                                            \n",
      "SCORE:                                                                         \n",
      "0.9832565000000001                                                             \n",
      "ERROR                                                                          \n",
      "0.0017883381970579862                                                          \n",
      "HOLDOUT SCORE                                                                  \n",
      "0.9887180697043033                                                             \n",
      "SCORE:                                                                         \n",
      "0.97775672                                                                     \n",
      "ERROR                                                                          \n",
      "0.0029874762448215226                                                          \n",
      "HOLDOUT SCORE                                                                  \n",
      "0.9846960618052261                                                             \n",
      "SCORE:                                                                         \n",
      "0.9827477799999998                                                             \n",
      "ERROR                                                                          \n",
      "0.0017684673227352638                                                          \n",
      "HOLDOUT SCORE                                                                  \n",
      "0.9876770242285615                                                             \n",
      "SCORE:                                                                         \n",
      "0.9838708800000001                                                             \n",
      "ERROR                                                                          \n",
      "0.0015882707317395426                                                          \n",
      "HOLDOUT SCORE                                                                  \n",
      "0.9868826259345825                                                             \n",
      "SCORE:                                                                         \n",
      "0.9831427199999998                                                             \n",
      "ERROR                                                                          \n",
      "0.0018126691643942125                                                          \n",
      "HOLDOUT SCORE                                                                  \n",
      "0.9864332320884631                                                             \n",
      "SCORE:                                                                          \n",
      "0.5                                                                             \n",
      "ERROR                                                                           \n",
      "0.0                                                                             \n",
      "HOLDOUT SCORE                                                                   \n",
      "0.5                                                                             \n",
      "SCORE:                                                                          \n",
      "0.9750857600000001                                                              \n",
      "ERROR                                                                           \n",
      "0.0030468916922147256                                                           \n",
      "HOLDOUT SCORE                                                                   \n",
      "0.9830671347824638                                                              \n",
      "SCORE:                                                                          \n",
      "0.98322462                                                                      \n",
      "ERROR                                                                           \n",
      "0.0017409971212246234                                                           \n",
      "HOLDOUT SCORE                                                                   \n",
      "0.9874245962534762                                                              \n",
      "SCORE:                                                                          \n",
      "0.9834559599999999                                                              \n",
      "ERROR                                                                           \n",
      "0.0020183070375371717                                                           \n",
      "HOLDOUT SCORE                                                                   \n",
      "0.9872985917149669                                                              \n",
      "SCORE:                                                                          \n",
      "0.9835385000000001                                                              \n",
      "ERROR                                                                           \n",
      "0.0019019907289109625                                                           \n",
      "HOLDOUT SCORE                                                                   \n",
      "0.9876157813311875                                                              \n",
      "SCORE:                                                                          \n",
      "0.9787506                                                                       \n",
      "ERROR                                                                           \n",
      "0.0031191110358091655                                                           \n",
      "HOLDOUT SCORE                                                                   \n",
      "0.9858238191808061                                                              \n",
      "SCORE:                                                                          \n",
      "0.9829797399999999                                                              \n",
      "ERROR                                                                           \n",
      "0.0016381783951015228                                                           \n",
      "HOLDOUT SCORE                                                                   \n",
      "0.9877003987406919                                                              \n",
      "SCORE:                                                                          \n"
     ]
    },
    {
     "name": "stdout",
     "output_type": "stream",
     "text": [
      "0.98333034                                                                      \n",
      "ERROR                                                                           \n",
      "0.001828130015319172                                                            \n",
      "HOLDOUT SCORE                                                                   \n",
      "0.9878619258352701                                                              \n",
      "SCORE:                                                                          \n",
      "0.9343641400000001                                                              \n",
      "ERROR                                                                           \n",
      "0.011656054909326058                                                            \n",
      "HOLDOUT SCORE                                                                   \n",
      "0.9520692642926762                                                              \n",
      "SCORE:                                                                          \n",
      "0.9828903800000001                                                              \n",
      "ERROR                                                                           \n",
      "0.0019138789722658526                                                           \n",
      "HOLDOUT SCORE                                                                   \n",
      "0.9872421242555552                                                              \n",
      "SCORE:                                                                          \n",
      "0.9840736400000001                                                              \n",
      "ERROR                                                                           \n",
      "0.001916632735355598                                                            \n",
      "HOLDOUT SCORE                                                                   \n",
      "0.9885434729900392                                                              \n",
      "SCORE:                                                                          \n",
      "0.98408406                                                                      \n",
      "ERROR                                                                           \n",
      "0.0017214335792361218                                                           \n",
      "HOLDOUT SCORE                                                                   \n",
      "0.9886208853527935                                                              \n",
      "SCORE:                                                                          \n",
      "0.9841476200000001                                                              \n",
      "ERROR                                                                           \n",
      "0.0018539511484032816                                                           \n",
      "HOLDOUT SCORE                                                                   \n",
      "0.9894998172766633                                                              \n",
      "SCORE:                                                                          \n",
      "0.98378386                                                                      \n",
      "ERROR                                                                           \n",
      "0.0019083360381097355                                                           \n",
      "HOLDOUT SCORE                                                                   \n",
      "0.9891977079908493                                                              \n",
      "SCORE:                                                                          \n",
      "0.98369664                                                                      \n",
      "ERROR                                                                           \n",
      "0.0019026462234240128                                                           \n",
      "HOLDOUT SCORE                                                                   \n",
      "0.9877430425638974                                                              \n",
      "SCORE:                                                                          \n",
      "0.98336978                                                                      \n",
      "ERROR                                                                           \n",
      "0.0019167650873772174                                                           \n",
      "HOLDOUT SCORE                                                                   \n",
      "0.9893454114492214                                                              \n",
      "SCORE:                                                                          \n",
      "0.9689194799999999                                                              \n",
      "ERROR                                                                           \n",
      "0.0034026443775010996                                                           \n",
      "HOLDOUT SCORE                                                                   \n",
      "0.9805414307781836                                                              \n",
      "SCORE:                                                                          \n",
      "0.98212722                                                                      \n",
      "ERROR                                                                           \n",
      "0.0021031549501001707                                                           \n",
      "HOLDOUT SCORE                                                                   \n",
      "0.986747740757056                                                               \n",
      "SCORE:                                                                          \n",
      "0.9836960999999999                                                              \n",
      "ERROR                                                                           \n",
      "0.0019264773737178577                                                           \n",
      "HOLDOUT SCORE                                                                   \n",
      "0.9876412503336522                                                              \n",
      "SCORE:                                                                          \n",
      "0.9828298200000001                                                              \n",
      "ERROR                                                                           \n",
      "0.0020253038828924284                                                           \n",
      "HOLDOUT SCORE                                                                   \n",
      "0.9877604687234784                                                              \n",
      "SCORE:                                                                          \n",
      "0.98436038                                                                      \n",
      "ERROR                                                                           \n",
      "0.0018276769785486456                                                           \n",
      "HOLDOUT SCORE                                                                   \n",
      "0.9883075495987879                                                              \n",
      "SCORE:                                                                          \n",
      "0.9835726399999999                                                              \n",
      "ERROR                                                                           \n",
      "0.0018544817165474156                                                           \n",
      "HOLDOUT SCORE                                                                   \n",
      "0.9891757577321462                                                              \n",
      "SCORE:                                                                          \n",
      "0.98248066                                                                      \n",
      "ERROR                                                                           \n",
      "0.0019902820856140904                                                           \n",
      "HOLDOUT SCORE                                                                   \n",
      "0.9870154166217746                                                              \n",
      "SCORE:                                                                          \n",
      "0.98382544                                                                      \n",
      "ERROR                                                                           \n",
      "0.0017292823616145204                                                           \n",
      "HOLDOUT SCORE                                                                   \n",
      "0.9883591578406241                                                              \n"
     ]
    },
    {
     "name": "stdout",
     "output_type": "stream",
     "text": [
      "SCORE:                                                                          \n",
      "0.9833785799999999                                                              \n",
      "ERROR                                                                           \n",
      "0.0019411674398691098                                                           \n",
      "HOLDOUT SCORE                                                                   \n",
      "0.9879766201259742                                                              \n",
      "SCORE:                                                                          \n",
      "0.98345424                                                                      \n",
      "ERROR                                                                           \n",
      "0.0016759844444482672                                                           \n",
      "HOLDOUT SCORE                                                                   \n",
      "0.98793623835233                                                                \n",
      "SCORE:                                                                          \n",
      "0.9832847000000001                                                              \n",
      "ERROR                                                                           \n",
      "0.0018348378717424566                                                           \n",
      "HOLDOUT SCORE                                                                   \n",
      "0.9876733379255732                                                              \n",
      "SCORE:                                                                          \n",
      "0.9831948400000001                                                              \n",
      "ERROR                                                                           \n",
      "0.001980736381784821                                                            \n",
      "HOLDOUT SCORE                                                                   \n",
      "0.9885607315903933                                                              \n",
      "SCORE:                                                                          \n",
      "0.9835577000000001                                                              \n",
      "ERROR                                                                           \n",
      "0.001865670370979284                                                            \n",
      "HOLDOUT SCORE                                                                   \n",
      "0.9884799680431042                                                              \n",
      "SCORE:                                                                          \n",
      "0.9737907                                                                       \n",
      "ERROR                                                                           \n",
      "0.0031427494932250014                                                           \n",
      "HOLDOUT SCORE                                                                   \n",
      "0.9790710985635315                                                              \n",
      "SCORE:                                                                          \n",
      "0.9829184                                                                       \n",
      "ERROR                                                                           \n",
      "0.001737402625458798                                                            \n",
      "HOLDOUT SCORE                                                                   \n",
      "0.9877892889104779                                                              \n",
      "SCORE:                                                                          \n",
      "0.5                                                                             \n",
      "ERROR                                                                           \n",
      "0.0                                                                             \n",
      "HOLDOUT SCORE                                                                   \n",
      "0.5                                                                             \n",
      "SCORE:                                                                          \n",
      "0.9447958599999999                                                              \n",
      "ERROR                                                                           \n",
      "0.006577019369109464                                                            \n",
      "HOLDOUT SCORE                                                                   \n",
      "0.9690039726617068                                                              \n",
      "SCORE:                                                                          \n",
      "0.9840709400000002                                                              \n",
      "ERROR                                                                           \n",
      "0.0019420576646817778                                                           \n",
      "HOLDOUT SCORE                                                                   \n",
      "0.9873265741058328                                                              \n",
      "SCORE:                                                                          \n",
      "0.9676502999999999                                                              \n",
      "ERROR                                                                           \n",
      "0.003925752390348127                                                            \n",
      "HOLDOUT SCORE                                                                   \n",
      "0.9792337985726971                                                              \n",
      "SCORE:                                                                          \n",
      "0.982145                                                                        \n",
      "ERROR                                                                           \n",
      "0.0018912458732596037                                                           \n",
      "HOLDOUT SCORE                                                                   \n",
      "0.9866745173749703                                                              \n",
      "SCORE:                                                                          \n",
      "0.9831935599999999                                                              \n",
      "ERROR                                                                           \n",
      "0.001956005154717756                                                            \n",
      "HOLDOUT SCORE                                                                   \n",
      "0.9868391443152432                                                              \n",
      "SCORE:                                                                          \n",
      "0.98289074                                                                      \n",
      "ERROR                                                                           \n",
      "0.001981988035621082                                                            \n",
      "HOLDOUT SCORE                                                                   \n",
      "0.9876147759758273                                                              \n",
      "SCORE:                                                                          \n",
      "0.98435692                                                                      \n",
      "ERROR                                                                           \n",
      "0.0019198734862722968                                                           \n",
      "HOLDOUT SCORE                                                                   \n",
      "0.9887116186740736                                                              \n",
      "SCORE:                                                                          \n",
      "0.9832116                                                                       \n",
      "ERROR                                                                           \n",
      "0.0020729618890843234                                                           \n",
      "HOLDOUT SCORE                                                                   \n",
      "0.9883334374993192                                                              \n",
      "100%|██████████| 50/50 [06:28<00:00,  9.67s/it, best loss: 0.010487532001717814]\n",
      "Optimization Time: %f seconds 388.3785254955292\n",
      "CPU times: user 6min 26s, sys: 2.24 s, total: 6min 28s\n",
      "Wall time: 6min 28s\n"
     ]
    }
   ],
   "source": [
    "%%time\n",
    "trials = Trials()\n",
    "import time\n",
    "start = time.time()\n",
    "best = fmin(fn=objective, space = space, algo = tpe.suggest, max_evals = 50, trials = trials)\n",
    "end = time.time()\n",
    "print(\"Optimization Time: %f seconds\", (end  -start))"
   ]
  },
  {
   "cell_type": "code",
   "execution_count": 11,
   "metadata": {},
   "outputs": [
    {
     "data": {
      "text/plain": [
       "{'x_learning_rate': 0.18411594386285307,\n",
       " 'x_max_depth': 7,\n",
       " 'x_min_child': 4.0,\n",
       " 'x_pos_weight': 5.737636317557028,\n",
       " 'x_subsample': 0.8947808175869575,\n",
       " 'x_tree_colsample': 0.7158869449040648}"
      ]
     },
     "execution_count": 11,
     "metadata": {},
     "output_type": "execute_result"
    }
   ],
   "source": [
    "best"
   ]
  },
  {
   "cell_type": "code",
   "execution_count": 12,
   "metadata": {},
   "outputs": [
    {
     "name": "stdout",
     "output_type": "stream",
     "text": [
      "[0]\ttrain-auc:0.976201+0.00221713\ttest-auc:0.968343+0.00286826\n",
      "[1]\ttrain-auc:0.986375+0.000661377\ttest-auc:0.978919+0.00237217\n",
      "[2]\ttrain-auc:0.988805+0.00108578\ttest-auc:0.981802+0.00236661\n",
      "[3]\ttrain-auc:0.990124+0.000796587\ttest-auc:0.982736+0.00231465\n",
      "[4]\ttrain-auc:0.991387+0.000463838\ttest-auc:0.983604+0.00221394\n",
      "[5]\ttrain-auc:0.992234+0.000397332\ttest-auc:0.984412+0.00223134\n",
      "[6]\ttrain-auc:0.993021+0.000229097\ttest-auc:0.985031+0.00204804\n",
      "[7]\ttrain-auc:0.993649+0.000298534\ttest-auc:0.985233+0.00194842\n",
      "[8]\ttrain-auc:0.994192+0.000307954\ttest-auc:0.985791+0.00190038\n",
      "[9]\ttrain-auc:0.99477+0.000176044\ttest-auc:0.986168+0.00191274\n",
      "   train-auc-mean  train-auc-std  test-auc-mean  test-auc-std\n",
      "0        0.976201       0.002217       0.968343      0.002868\n",
      "1        0.986375       0.000661       0.978919      0.002372\n",
      "2        0.988805       0.001086       0.981802      0.002367\n",
      "3        0.990124       0.000797       0.982736      0.002315\n",
      "4        0.991387       0.000464       0.983604      0.002214\n",
      "5        0.992234       0.000397       0.984412      0.002231\n",
      "6        0.993021       0.000229       0.985031      0.002048\n",
      "7        0.993649       0.000299       0.985233      0.001948\n",
      "8        0.994192       0.000308       0.985791      0.001900\n",
      "9        0.994770       0.000176       0.986168      0.001913\n"
     ]
    },
    {
     "name": "stderr",
     "output_type": "stream",
     "text": [
      "/home/dtamayo/miniconda3/envs/ml/lib/python3.7/site-packages/xgboost/core.py:587: FutureWarning: Series.base is deprecated and will be removed in a future version\n",
      "  if getattr(data, 'base', None) is not None and \\\n",
      "/home/dtamayo/miniconda3/envs/ml/lib/python3.7/site-packages/xgboost/core.py:588: FutureWarning: Series.base is deprecated and will be removed in a future version\n",
      "  data.base is not None and isinstance(data, np.ndarray) \\\n"
     ]
    },
    {
     "name": "stdout",
     "output_type": "stream",
     "text": [
      "0.9824321459404656\n"
     ]
    }
   ],
   "source": [
    "best_xgbc = XGBClassifier(n_estimators=100, scale_pos_weight=best[\"x_pos_weight\"],\n",
    "                         learning_rate = best[\"x_learning_rate\"], \n",
    "                         max_depth = int(best[\"x_max_depth\"]), \n",
    "                         min_child_weight = best[\"x_min_child\"],\n",
    "                         subsample = best[\"x_subsample\"], \n",
    "                         colsample_bytree = best[\"x_tree_colsample\"])\n",
    "params = best_xgbc.get_xgb_params()\n",
    "score = xgb.cv(params, dtrain, nfold = 5, metrics = \"auc\", verbose_eval=True)\n",
    "print(score)\n",
    "d_Train = xgb.DMatrix(trainX, trainY)\n",
    "d_Test = xgb.DMatrix(testX)\n",
    "bst = xgb.train(params, d_Train)\n",
    "preds = bst.predict(d_Test)\n",
    "score = metrics.average_precision_score(testY, preds)\n",
    "print(score)"
   ]
  },
  {
   "cell_type": "code",
   "execution_count": 13,
   "metadata": {},
   "outputs": [
    {
     "data": {
      "text/plain": [
       "XGBClassifier(base_score=0.5, booster='gbtree', colsample_bylevel=1,\n",
       "              colsample_bytree=0.7158869449040648, gamma=0,\n",
       "              learning_rate=0.18411594386285307, max_delta_step=0, max_depth=7,\n",
       "              min_child_weight=4.0, missing=None, n_estimators=100, n_jobs=1,\n",
       "              nthread=None, objective='binary:logistic', random_state=0,\n",
       "              reg_alpha=0, reg_lambda=1, scale_pos_weight=5.737636317557028,\n",
       "              seed=None, silent=True, subsample=0.8947808175869575)"
      ]
     },
     "execution_count": 13,
     "metadata": {},
     "output_type": "execute_result"
    }
   ],
   "source": [
    "model = XGBClassifier(n_estimators=100, scale_pos_weight=best[\"x_pos_weight\"],\n",
    "                         learning_rate = best[\"x_learning_rate\"], \n",
    "                         max_depth = int(best[\"x_max_depth\"]), \n",
    "                         min_child_weight = best[\"x_min_child\"],\n",
    "                         subsample = best[\"x_subsample\"], \n",
    "                         colsample_bytree = best[\"x_tree_colsample\"])\n",
    "\n",
    "model.fit(trainX, trainY)"
   ]
  },
  {
   "cell_type": "code",
   "execution_count": 14,
   "metadata": {},
   "outputs": [
    {
     "data": {
      "text/plain": [
       "Text(0.5, 1.0, 'ROC curve (AUC = 0.991)')"
      ]
     },
     "execution_count": 14,
     "metadata": {},
     "output_type": "execute_result"
    },
    {
     "data": {
      "image/png": "[encoded data removed]",
      "text/plain": [
       "<Figure size 432x288 with 1 Axes>"
      ]
     },
     "metadata": {
      "needs_background": "light"
     },
     "output_type": "display_data"
    }
   ],
   "source": [
    "roc_auc, fpr, tpr, ROCthresholds = ROC_curve(trainingdatafolder, model, features)\n",
    "\n",
    "fig, ax = plt.subplots()\n",
    "ax.plot(fpr, tpr)\n",
    "ax.plot([0, 1], [0, 1], 'k--')\n",
    "ax.set_xlim([0.0, 1.0])\n",
    "ax.set_ylim([0.0, 1.0])\n",
    "ax.set_xlabel('False Positive Rate')\n",
    "ax.set_ylabel('True Positive Rate')\n",
    "ax.set_title('ROC curve (AUC = {0:.3f})'.format(roc_auc))"
   ]
  },
  {
   "cell_type": "code",
   "execution_count": 15,
   "metadata": {},
   "outputs": [
    {
     "name": "stdout",
     "output_type": "stream",
     "text": [
      "Threshold 0.0008470457978546619, recall = 1.0, precision = 0.6449394038650508\n",
      "Threshold 0.0008849781006574631, recall = 0.9994921279837481, precision = 0.6477946017116524\n",
      "Threshold 0.0009579339530318975, recall = 0.9994921279837481, precision = 0.6510089315249752\n",
      "Threshold 0.0010216672671958804, recall = 0.9994921279837481, precision = 0.6542553191489362\n",
      "Threshold 0.001069160527549684, recall = 0.9994921279837481, precision = 0.6575342465753424\n",
      "Threshold 0.0011157202534377575, recall = 0.9994921279837481, precision = 0.6608462055070518\n",
      "Threshold 0.001206308719702065, recall = 0.9994921279837481, precision = 0.6641916976037799\n",
      "Threshold 0.001305110054090619, recall = 0.9994921279837481, precision = 0.6675712347354138\n",
      "Threshold 0.0013856342993676662, recall = 0.9994921279837481, precision = 0.6709853392430958\n",
      "Threshold 0.0014634381514042616, recall = 0.9994921279837481, precision = 0.6744345442083619\n",
      "Threshold 0.001551163732074201, recall = 0.9994921279837481, precision = 0.6779193937306235\n",
      "Threshold 0.0016364143230021, recall = 0.9994921279837481, precision = 0.6814404432132964\n",
      "Threshold 0.0018070533405989408, recall = 0.9994921279837481, precision = 0.6849982596588932\n",
      "Threshold 0.0019481778144836426, recall = 0.9994921279837481, precision = 0.688593421973408\n",
      "Threshold 0.002096676966175437, recall = 0.9994921279837481, precision = 0.6922265212803377\n",
      "Threshold 0.0022993236780166626, recall = 0.9994921279837481, precision = 0.695898161244696\n",
      "Threshold 0.0025286590680480003, recall = 0.9994921279837481, precision = 0.6996089584073942\n",
      "Threshold 0.002694658702239394, recall = 0.9994921279837481, precision = 0.7033595425303788\n",
      "Threshold 0.0028723517898470163, recall = 0.9994921279837481, precision = 0.7071505569529285\n",
      "Threshold 0.0030156015418469906, recall = 0.9994921279837481, precision = 0.7109826589595376\n",
      "Threshold 0.0033482667058706284, recall = 0.9994921279837481, precision = 0.7148565201598256\n",
      "Threshold 0.003793329233303666, recall = 0.9994921279837481, precision = 0.718772826880935\n",
      "Threshold 0.004130571149289608, recall = 0.9994921279837481, precision = 0.7227322805728975\n",
      "Threshold 0.0045304615050554276, recall = 0.9989842559674962, precision = 0.7263663220088626\n",
      "Threshold 0.00522388843819499, recall = 0.9984763839512443, precision = 0.7300408466394356\n",
      "Threshold 0.005699493922293186, recall = 0.9984763839512443, precision = 0.7341299477221808\n",
      "Threshold 0.006118656601756811, recall = 0.9984763839512443, precision = 0.7382651145324821\n",
      "Threshold 0.007123715244233608, recall = 0.9979685119349924, precision = 0.7420694864048338\n",
      "Threshold 0.007805275730788708, recall = 0.9979685119349924, precision = 0.7462969996202051\n",
      "Threshold 0.008806225843727589, recall = 0.9979685119349924, precision = 0.7505729564553094\n",
      "Threshold 0.009546018205583096, recall = 0.9974606399187405, precision = 0.7545140222819823\n",
      "Threshold 0.010755899362266064, recall = 0.9974606399187405, precision = 0.758887171561051\n",
      "Threshold 0.011701707728207111, recall = 0.9974606399187405, precision = 0.7633113097551496\n",
      "Threshold 0.013184681534767151, recall = 0.9974606399187405, precision = 0.7677873338545739\n",
      "Threshold 0.014495288021862507, recall = 0.9969527679024885, precision = 0.7719229256783326\n",
      "Threshold 0.01615411601960659, recall = 0.9969527679024885, precision = 0.776503164556962\n",
      "Threshold 0.01855182647705078, recall = 0.9964448958862366, precision = 0.7807401512136888\n",
      "Threshold 0.021322200074791908, recall = 0.9964448958862366, precision = 0.7854283426741393\n",
      "Threshold 0.024373693391680717, recall = 0.9964448958862366, precision = 0.7901731776077325\n",
      "Threshold 0.027169274166226387, recall = 0.9954291518537328, precision = 0.7941653160453809\n",
      "Threshold 0.0316677950322628, recall = 0.9954291518537328, precision = 0.7990216061964941\n",
      "Threshold 0.03465483337640762, recall = 0.9949212798374809, precision = 0.8035274815422477\n",
      "Threshold 0.03970576450228691, recall = 0.994413407821229, precision = 0.8080891456871647\n",
      "Threshold 0.045899223536252975, recall = 0.9933976637887253, precision = 0.8122923588039868\n",
      "Threshold 0.051929883658885956, recall = 0.9928897917724734, precision = 0.8169661512745507\n",
      "Threshold 0.055680181831121445, recall = 0.9923819197562215, precision = 0.8216989066442388\n",
      "Threshold 0.06289611756801605, recall = 0.9918740477399696, precision = 0.826491747778248\n",
      "Threshold 0.06886594742536545, recall = 0.9913661757237177, precision = 0.8313458262350937\n",
      "Threshold 0.07996325194835663, recall = 0.9888268156424581, precision = 0.8345477925417917\n",
      "Threshold 0.09683801978826523, recall = 0.9883189436262062, precision = 0.8395168248490078\n",
      "Threshold 0.11266274005174637, recall = 0.9883189436262062, precision = 0.8449848024316109\n",
      "Threshold 0.13149067759513855, recall = 0.9862874555611986, precision = 0.8487762237762237\n",
      "Threshold 0.15309318900108337, recall = 0.9852717115286947, precision = 0.8534975802903652\n",
      "Threshold 0.17981977760791779, recall = 0.9852717115286947, precision = 0.8591674047829938\n",
      "Threshold 0.20415832102298737, recall = 0.9832402234636871, precision = 0.8631297369594293\n",
      "Threshold 0.22425293922424316, recall = 0.9807008633824277, precision = 0.8666965888689407\n",
      "Threshold 0.24223047494888306, recall = 0.97866937531742, precision = 0.8707636692272933\n",
      "Threshold 0.26599493622779846, recall = 0.9766378872524124, precision = 0.8748862602365787\n",
      "Threshold 0.29941409826278687, recall = 0.9756221432199086, precision = 0.8799816765918461\n",
      "Threshold 0.3426962196826935, recall = 0.973590655154901, precision = 0.8842250922509225\n",
      "Threshold 0.37766945362091064, recall = 0.9720670391061452, precision = 0.8889921040408733\n",
      "Threshold 0.4085012674331665, recall = 0.9705434230573895, precision = 0.8938260056127222\n",
      "Threshold 0.446562260389328, recall = 0.9690198070086338, precision = 0.898728214790391\n",
      "Threshold 0.47814616560935974, recall = 0.9669883189436262, precision = 0.9032258064516129\n",
      "Threshold 0.5143119692802429, recall = 0.9644489588623667, precision = 0.9073100812231247\n",
      "Threshold 0.5497281551361084, recall = 0.9619095987811072, precision = 0.9114533205004812\n",
      "Threshold 0.5794097781181335, recall = 0.9583544946673438, precision = 0.9146873485215705\n",
      "Threshold 0.6132740378379822, recall = 0.9547993905535805, precision = 0.91796875\n",
      "Threshold 0.6343013644218445, recall = 0.9512442864398172, precision = 0.9212985735366453\n",
      "Threshold 0.67158442735672, recall = 0.9481970543423057, precision = 0.925173439048563\n",
      "Threshold 0.6941882967948914, recall = 0.9436262061960387, precision = 0.927608587119321\n",
      "Threshold 0.7146564722061157, recall = 0.9395632300660234, precision = 0.9305835010060363\n",
      "Threshold 0.7539840340614319, recall = 0.9355002539360081, precision = 0.9336036492650786\n",
      "Threshold 0.7767539024353027, recall = 0.930929405789741, precision = 0.9361593462717058\n",
      "Threshold 0.7983234524726868, recall = 0.9283900457084815, precision = 0.9408131755018013\n",
      "Threshold 0.8179715871810913, recall = 0.92534281361097, precision = 0.9450207468879668\n",
      "Threshold 0.8290027976036072, recall = 0.9217877094972067, precision = 0.9487715629900679\n",
      "Threshold 0.8444998860359192, recall = 0.9172168613509396, precision = 0.9515279241306639\n",
      "Threshold 0.8560761213302612, recall = 0.9131538852209243, precision = 0.9548592671269251\n",
      "Threshold 0.875978946685791, recall = 0.9080751650584052, precision = 0.9571734475374732\n",
      "Threshold 0.891219973564148, recall = 0.9024885728796344, precision = 0.958985429033999\n",
      "Threshold 0.8975933790206909, recall = 0.8969019807008634, precision = 0.9608269858541894\n",
      "Threshold 0.9072292447090149, recall = 0.8908075165058406, precision = 0.9621503017004936\n",
      "Threshold 0.9180749654769897, recall = 0.8862366683595734, precision = 0.9651548672566371\n",
      "Threshold 0.9326494336128235, recall = 0.8796343321482987, precision = 0.965978806469604\n",
      "Threshold 0.9372010231018066, recall = 0.8735398679532758, precision = 0.9673790776152981\n",
      "Threshold 0.9419102072715759, recall = 0.866937531742001, precision = 0.9682359614293817\n",
      "Threshold 0.9457474946975708, recall = 0.8598273235144743, precision = 0.9685354691075515\n",
      "Threshold 0.9512919187545776, recall = 0.8527171152869477, precision = 0.9688401615695326\n",
      "Threshold 0.9554156064987183, recall = 0.8461147790756729, precision = 0.969732246798603\n",
      "Threshold 0.9601278305053711, recall = 0.8410360589131539, precision = 0.9724016441573693\n",
      "Threshold 0.9643287658691406, recall = 0.8354494667343829, precision = 0.9745260663507109\n",
      "Threshold 0.9680349826812744, recall = 0.8303707465718639, precision = 0.9772863120143455\n",
      "Threshold 0.9714781641960144, recall = 0.8237684103605891, precision = 0.9782870928829915\n",
      "Threshold 0.974368691444397, recall = 0.8166582021330625, precision = 0.9786975045648204\n",
      "Threshold 0.9767205119132996, recall = 0.8105637379380396, precision = 0.9803439803439803\n",
      "Threshold 0.9789856672286987, recall = 0.8044692737430168, precision = 0.9820210787352759\n",
      "Threshold 0.9810916185379028, recall = 0.7983748095479939, precision = 0.983729662077597\n",
      "Threshold 0.9827420115470886, recall = 0.7917724733367192, precision = 0.9848389134554643\n",
      "Threshold 0.9845461845397949, recall = 0.7856780091416963, precision = 0.9866071428571429\n",
      "Threshold 0.9862980842590332, recall = 0.7795835449466735, precision = 0.9884095299420477\n",
      "Threshold 0.9870902895927429, recall = 0.7724733367191468, precision = 0.9889466840052016\n",
      "Threshold 0.9880837798118591, recall = 0.7653631284916201, precision = 0.989494418910046\n",
      "Threshold 0.9891536831855774, recall = 0.7592686642965972, precision = 0.9913793103448276\n",
      "Threshold 0.9898137450218201, recall = 0.7521584560690706, precision = 0.9919624916275954\n",
      "Threshold 0.9907259941101074, recall = 0.744540375825292, precision = 0.9918809201623816\n",
      "Threshold 0.9918871521949768, recall = 0.7374301675977654, precision = 0.9924812030075187\n",
      "Threshold 0.9928159713745117, recall = 0.7308278313864907, precision = 0.9937845303867403\n",
      "Threshold 0.9932041168212891, recall = 0.7237176231589639, precision = 0.994417306350314\n",
      "Threshold 0.9938451647758484, recall = 0.7160995429151854, precision = 0.9943582510578279\n",
      "Threshold 0.9943031072616577, recall = 0.7094972067039106, precision = 0.9957234497505346\n",
      "Threshold 0.9947288632392883, recall = 0.7018791264601321, precision = 0.9956772334293948\n",
      "Threshold 0.9950218200683594, recall = 0.6947689182326053, precision = 0.9963583394027676\n",
      "Threshold 0.9954582452774048, recall = 0.6876587100050787, precision = 0.9970544918998527\n",
      "Threshold 0.9957820177078247, recall = 0.6800406297613002, precision = 0.9970215934475056\n",
      "Threshold 0.9961440563201904, recall = 0.6719146775012697, precision = 0.9969856819894499\n",
      "Threshold 0.9964572787284851, recall = 0.664804469273743, precision = 0.9977134146341463\n",
      "Threshold 0.9966651797294617, recall = 0.6571863890299644, precision = 0.9976869699306091\n",
      "Threshold 0.9969786405563354, recall = 0.6495683087861859, precision = 0.9976599063962559\n",
      "Threshold 0.9971452355384827, recall = 0.6424581005586593, precision = 0.9984214680347278\n",
      "Threshold 0.9973926544189453, recall = 0.6348400203148806, precision = 0.9984025559105432\n",
      "Threshold 0.9976443648338318, recall = 0.6272219400711021, precision = 0.9983831851253031\n",
      "Threshold 0.9978151321411133, recall = 0.6196038598273235, precision = 0.9983633387888707\n",
      "Threshold 0.9979848861694336, recall = 0.6124936515997969, precision = 0.9991714995857498\n",
      "Threshold 0.9981386661529541, recall = 0.6048755713560183, precision = 0.9991610738255033\n",
      "Threshold 0.9982884526252747, recall = 0.5972574911122397, precision = 0.9991503823279524\n",
      "Threshold 0.9984228610992432, recall = 0.5896394108684612, precision = 0.9991394148020654\n",
      "Threshold 0.9985554814338684, recall = 0.5820213306246825, precision = 0.999128160418483\n",
      "Threshold 0.9986894726753235, recall = 0.574403250380904, precision = 0.9991166077738516\n",
      "Threshold 0.9987806677818298, recall = 0.5672930421533774, precision = 1.0\n",
      "Threshold 0.998875081539154, recall = 0.5596749619095988, precision = 1.0\n",
      "Threshold 0.9989510774612427, recall = 0.5520568816658202, precision = 1.0\n",
      "Threshold 0.9990314245223999, recall = 0.5444388014220416, precision = 1.0\n",
      "Threshold 0.9991200566291809, recall = 0.5368207211782631, precision = 1.0\n",
      "Threshold 0.9991925358772278, recall = 0.5292026409344845, precision = 1.0\n",
      "Threshold 0.9992239475250244, recall = 0.5215845606907059, precision = 1.0\n",
      "Threshold 0.9992675185203552, recall = 0.5139664804469274, precision = 1.0\n",
      "Threshold 0.999363124370575, recall = 0.5063484002031488, precision = 1.0\n",
      "Threshold 0.9994294047355652, recall = 0.4987303199593702, precision = 1.0\n",
      "Threshold 0.9994756579399109, recall = 0.49111223971559165, precision = 1.0\n",
      "Threshold 0.9995253086090088, recall = 0.4829862874555612, precision = 1.0\n",
      "Threshold 0.9995540976524353, recall = 0.4748603351955307, precision = 1.0\n",
      "Threshold 0.9995829463005066, recall = 0.46673438293550024, precision = 1.0\n",
      "Threshold 0.999610960483551, recall = 0.4591163026917217, precision = 1.0\n",
      "Threshold 0.9996408224105835, recall = 0.45149822244794313, precision = 1.0\n",
      "Threshold 0.9996683597564697, recall = 0.44388014220416455, precision = 1.0\n",
      "Threshold 0.9996888637542725, recall = 0.43473844591163024, precision = 1.0\n",
      "Threshold 0.9997133612632751, recall = 0.4266124936515998, precision = 1.0\n",
      "Threshold 0.9997370839118958, recall = 0.4174707973590655, precision = 1.0\n",
      "Threshold 0.9997565150260925, recall = 0.4098527171152869, precision = 1.0\n",
      "Threshold 0.9997697472572327, recall = 0.4017267648552565, precision = 1.0\n",
      "Threshold 0.9997923970222473, recall = 0.3930929405789741, precision = 1.0\n",
      "Threshold 0.9998099207878113, recall = 0.3854748603351955, precision = 1.0\n",
      "Threshold 0.9998239874839783, recall = 0.377856780091417, precision = 1.0\n",
      "Threshold 0.9998394250869751, recall = 0.3702386998476384, precision = 1.0\n",
      "Threshold 0.9998522996902466, recall = 0.3621127475876079, precision = 1.0\n",
      "Threshold 0.9998654127120972, recall = 0.3534789233113255, precision = 1.0\n",
      "Threshold 0.9998736381530762, recall = 0.3453529710512951, precision = 1.0\n",
      "Threshold 0.9998836517333984, recall = 0.3372270187912646, precision = 1.0\n",
      "Threshold 0.9998923540115356, recall = 0.329608938547486, precision = 1.0\n",
      "Threshold 0.9999023675918579, recall = 0.3214829862874556, precision = 1.0\n",
      "Threshold 0.9999120235443115, recall = 0.31132554596241746, precision = 1.0\n",
      "Threshold 0.9999194145202637, recall = 0.3006602336211275, precision = 1.0\n",
      "Threshold 0.9999254941940308, recall = 0.2930421533773489, precision = 1.0\n",
      "Threshold 0.999930739402771, recall = 0.28390045708481465, precision = 1.0\n",
      "Threshold 0.9999344348907471, recall = 0.27577450482478416, precision = 1.0\n",
      "Threshold 0.9999394416809082, recall = 0.2676485525647537, precision = 1.0\n",
      "Threshold 0.9999452829360962, recall = 0.25495175215845606, precision = 1.0\n",
      "Threshold 0.9999498128890991, recall = 0.2463179278821737, precision = 1.0\n",
      "Threshold 0.9999562501907349, recall = 0.2361604875571356, precision = 1.0\n",
      "Threshold 0.9999595880508423, recall = 0.22600304723209752, precision = 1.0\n",
      "Threshold 0.9999628067016602, recall = 0.2143219908583037, precision = 1.0\n",
      "Threshold 0.9999657869338989, recall = 0.2011173184357542, precision = 1.0\n",
      "Threshold 0.9999688863754272, recall = 0.18842051802945659, precision = 1.0\n",
      "Threshold 0.9999712705612183, recall = 0.17724733367191467, precision = 1.0\n",
      "Threshold 0.9999746084213257, recall = 0.1665820213306247, precision = 1.0\n",
      "Threshold 0.9999775886535645, recall = 0.15439309294057899, precision = 1.0\n",
      "Threshold 0.9999802112579346, recall = 0.14017267648552564, precision = 1.0\n",
      "Threshold 0.9999827146530151, recall = 0.12493651599796851, precision = 1.0\n",
      "Threshold 0.999984860420227, recall = 0.11020822752666327, precision = 1.0\n",
      "Threshold 0.9999873638153076, recall = 0.090401218892839, precision = 1.0\n",
      "Threshold 0.9999892711639404, recall = 0.07719654647028949, precision = 1.0\n",
      "Threshold 0.9999912977218628, recall = 0.062468257998984256, precision = 1.0\n",
      "Threshold 0.9999933242797852, recall = 0.0446927374301676, precision = 1.0\n",
      "Threshold 0.999995231628418, recall = 0.0228542407313357, precision = 1.0\n",
      "Threshold 0.9999974966049194, recall = 0.007110208227526663, precision = 1.0\n"
     ]
    }
   ],
   "source": [
    "pr_auc, precision, recall, PRthresholds = PR_curve(trainingdatafolder, model, features)\n",
    "for i in range(0,len(recall), 15):\n",
    "    print(\"Threshold {0}, recall = {1}, precision = {2}\".format(PRthresholds[i], recall[i], precision[i]))"
   ]
  },
  {
   "cell_type": "code",
   "execution_count": 16,
   "metadata": {},
   "outputs": [
    {
     "data": {
      "image/png": "[encoded data removed]",
      "text/plain": [
       "<Figure size 432x288 with 1 Axes>"
      ]
     },
     "metadata": {
      "needs_background": "light"
     },
     "output_type": "display_data"
    }
   ],
   "source": [
    "fig, ax = plt.subplots()\n",
    "ax.plot(recall, precision)\n",
    "ax.set_xlim([0.0, 1.0])\n",
    "ax.set_ylim([0.0, 1.0])\n",
    "ax.set_xlabel('Recall')\n",
    "ax.set_ylabel('Precision')\n",
    "ax.set_title(\"AUC Score (Test): {0:.4f}\".format(pr_auc))\n",
    "plt.show()"
   ]
  },
  {
   "cell_type": "code",
   "execution_count": 17,
   "metadata": {},
   "outputs": [
    {
     "data": {
      "text/plain": [
       "(0, 514.8000000000001)"
      ]
     },
     "execution_count": 17,
     "metadata": {},
     "output_type": "execute_result"
    },
    {
     "data": {
      "image/png": "[encoded data removed]",
      "text/plain": [
       "<Figure size 432x288 with 2 Axes>"
      ]
     },
     "metadata": {
      "needs_background": "light"
     },
     "output_type": "display_data"
    }
   ],
   "source": [
    "# Histogram:\n",
    "bins = 50\n",
    "Stable, Unstable = stable_unstable_hist(trainingdatafolder, model, features)\n",
    "\n",
    "fig, ax1 = plt.subplots()\n",
    "n, bins, pathces = ax1.hist(Unstable, bins, alpha=0.5, label='No', color='blue', edgecolor = \"black\")\n",
    "#print(n)\n",
    "ax1.set_xlabel('Predicted Probability', fontsize=14)\n",
    "ax1.set_ylabel('Unstable',  fontsize=14, color='blue')\n",
    "for tl in ax1.get_yticklabels():\n",
    "    tl.set_color('blue')\n",
    "    \n",
    "\n",
    "\n",
    "ax2 = ax1.twinx()\n",
    "n, bins , patches = ax2.hist(Stable, bins, alpha=0.5, label='Yes',color='green', edgecolor = \"black\")\n",
    "#print(n.astype(int))\n",
    "ax2.set_ylabel('Stable', fontsize=14, color='green')\n",
    "for tl in ax2.get_yticklabels():\n",
    "    tl.set_color('green')\n",
    "    \n",
    "    \n",
    "#ax1.set_ylim(ax2.get_ylim())\n",
    "ax1.set_ylim([0,1.1*n[-1]]) # goes up to ~4300\n",
    "ax2.set_ylim([0,1.1*n[-1]]) # goes up to ~2100"
   ]
  },
  {
   "cell_type": "code",
   "execution_count": 18,
   "metadata": {},
   "outputs": [
    {
     "data": {
      "text/plain": [
       "Text(0, 0.5, 'Fraction actually stable')"
      ]
     },
     "execution_count": 18,
     "metadata": {},
     "output_type": "execute_result"
    },
    {
     "data": {
      "image/png": "[encoded data removed]",
      "text/plain": [
       "<Figure size 576x432 with 1 Axes>"
      ]
     },
     "metadata": {
      "needs_background": "light"
     },
     "output_type": "display_data"
    }
   ],
   "source": [
    "bincenters, fracstable, errorbars = calibration_plot(trainingdatafolder, model, features, bins=10)\n",
    "fig, ax = plt.subplots(figsize=(8,6))\n",
    "ax.plot(np.linspace(0,1,100), np.linspace(0,1,100), '--')\n",
    "ax.errorbar(bincenters, fracstable, errorbars)\n",
    "ax.set_xlim([0,1])\n",
    "ax.set_ylim([0,1])\n",
    "ax.set_xlabel('Predicted Probability of Stability')\n",
    "ax.set_ylabel('Fraction actually stable')"
   ]
  },
  {
   "cell_type": "code",
   "execution_count": 19,
   "metadata": {},
   "outputs": [
    {
     "name": "stderr",
     "output_type": "stream",
     "text": [
      "../modelfitting.py:99: RuntimeWarning: divide by zero encountered in true_divide\n",
      "  errorbars.append(np.sqrt(1./Nerrors + 1./hist[i])*errorfracs[-1]) # see calibration plot comment\n",
      "../modelfitting.py:99: RuntimeWarning: invalid value encountered in double_scalars\n",
      "  errorbars.append(np.sqrt(1./Nerrors + 1./hist[i])*errorfracs[-1]) # see calibration plot comment\n"
     ]
    },
    {
     "data": {
      "text/plain": [
       "Text(0.5, 1.0, 'Fraction of unstable systems mislabeled as stable')"
      ]
     },
     "execution_count": 19,
     "metadata": {},
     "output_type": "execute_result"
    },
    {
     "data": {
      "image/png": "[encoded data removed]",
      "text/plain": [
       "<Figure size 576x432 with 1 Axes>"
      ]
     },
     "metadata": {
      "needs_background": "light"
     },
     "output_type": "display_data"
    }
   ],
   "source": [
    "bincenters, errorfracs, errorbars = unstable_error_fraction(trainingdatafolder, model, features, bins=10)\n",
    "fig, ax = plt.subplots(figsize=(8,6))\n",
    "ax.errorbar(bincenters, errorfracs, errorbars)\n",
    "ax.set_ylim([0,1])\n",
    "ax.set_xlabel('Log Instability Time')\n",
    "ax.set_ylabel('Error Fraction')\n",
    "ax.set_title('Fraction of unstable systems mislabeled as stable')"
   ]
  },
  {
   "cell_type": "code",
   "execution_count": 20,
   "metadata": {},
   "outputs": [
    {
     "data": {
      "image/png": "[encoded data removed]",
      "text/plain": [
       "<Figure size 864x576 with 1 Axes>"
      ]
     },
     "metadata": {
      "needs_background": "light"
     },
     "output_type": "display_data"
    }
   ],
   "source": [
    "# feature importances\n",
    "feat_imp = pd.Series(model.get_booster().get_fscore()).sort_values(ascending=False)\n",
    "feat_imp.plot(kind='bar', title='Feature Importances', figsize=(12,8))\n",
    "plt.ylabel('Feature Importance Score')\n",
    "plt.show()"
   ]
  },
  {
   "cell_type": "code",
   "execution_count": 22,
   "metadata": {},
   "outputs": [],
   "source": [
    "dill.dump([model, features, featurefolder], open(datapath+\"../models/ressummaryfeaturesxgbv6_random.pkl\", \"wb\"))"
   ]
  },
  {
   "cell_type": "code",
   "execution_count": null,
   "metadata": {},
   "outputs": [],
   "source": []
  }
 ],
 "metadata": {
  "anaconda-cloud": {},
  "kernelspec": {
   "display_name": "Python 3",
   "language": "python",
   "name": "python3"
  },
  "language_info": {
   "codemirror_mode": {
    "name": "ipython",
    "version": 3
   },
   "file_extension": ".py",
   "mimetype": "text/x-python",
   "name": "python",
   "nbconvert_exporter": "python",
   "pygments_lexer": "ipython3",
   "version": "3.7.3"
  }
 },
 "nbformat": 4,
 "nbformat_minor": 2
}
