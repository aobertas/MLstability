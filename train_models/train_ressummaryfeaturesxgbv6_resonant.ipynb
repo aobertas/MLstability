{
 "cells": [
  {
   "cell_type": "markdown",
   "metadata": {},
   "source": [
    "# Dont' use features that require transform to res variables with celmech in tseries. Almost as good as models that include them"
   ]
  },
  {
   "cell_type": "code",
   "execution_count": 16,
   "metadata": {},
   "outputs": [],
   "source": [
    "import numpy as np\n",
    "import sklearn\n",
    "import matplotlib.pyplot as plt\n",
    "%matplotlib inline\n",
    "import pandas as pd\n",
    "from sklearn import metrics\n",
    "from sklearn.model_selection import cross_val_score\n",
    "from matplotlib import rc\n",
    "from matplotlib import cm\n",
    "from mpl_toolkits.mplot3d import axes3d\n",
    "from matplotlib.ticker import MaxNLocator\n",
    "import scipy.signal\n",
    "import xgboost as xgb\n",
    "from xgboost.sklearn import XGBClassifier\n",
    "from hyperopt import hp, fmin, tpe, STATUS_OK, Trials\n",
    "import dill\n",
    "import sys\n",
    "sys.path.append('../')\n",
    "from modelfitting import train_test_split, ROC_curve, PR_curve, stable_unstable_hist, calibration_plot, unstable_error_fraction"
   ]
  },
  {
   "cell_type": "code",
   "execution_count": 17,
   "metadata": {},
   "outputs": [],
   "source": [
    "space ={\n",
    "        'max_depth': hp.randint('x_max_depth',  20),\n",
    "        'min_child_weight': hp.quniform ('x_min_child', 1, 10, 1),\n",
    "        'subsample': hp.uniform ('x_subsample', 0.8, 1),\n",
    "        'scale_pos_weight': hp.uniform(\"x_pos_weight\", 1, 15),\n",
    "        \"learning_rate\":hp.uniform(\"x_learning_rate\",0.01,0.2),\n",
    "        'colsample_bytree': hp.uniform ('x_tree_colsample', 0.5,1),\n",
    "}\n",
    "\n",
    "def objective(space):\n",
    "\n",
    "    clf = XGBClassifier(n_estimators = 100, \n",
    "                            max_depth = space['max_depth'], \n",
    "                            min_child_weight =space['min_child_weight'],\n",
    "                            subsample = space['subsample'],\n",
    "                            colsample_bytree =space['colsample_bytree'],\n",
    "                            learning_rate = space['learning_rate'], seed = 0)\n",
    "    \n",
    "    params = clf.get_xgb_params()\n",
    "    #dtest\n",
    "    score = xgb.cv(params, dtrain, nfold = 5, metrics = \"aucpr\", early_stopping_rounds=10)\n",
    "    #print score\n",
    "    #score = cross_val_score(clf, trainX, trainY, cv = 5, scoring=\"average_precision\")\n",
    "    avg_score =  np.mean(score[\"test-aucpr-mean\"])\n",
    "    error = np.mean(score[\"test-aucpr-std\"])\n",
    "    \n",
    "    bst = xgb.train(params, dtrain)\n",
    "    preds = bst.predict(dtest)\n",
    "    precision, recall, thresh = metrics.precision_recall_curve(testY, preds)\n",
    "    test_score = metrics.auc(recall, precision)\n",
    "    \n",
    "    print(\"SCORE:\", avg_score, \"ERROR\", error, \"HOLDOUT SCORE\", test_score)\n",
    "\n",
    "    return{'loss':1-test_score, 'status': STATUS_OK, \"cv_score\":avg_score , \"cv_error\":error, \"holdout\":test_score }\n",
    "\n",
    "resparamfeatures = ['betanear', 'jnear', 'strengthnear', 'C_AMDnear', 'reshalfwidthnear', 'betafar',\n",
    "                   'jfar', 'strengthfar', 'C_AMDfar', 'reshalfwidthfar', 'betaouter',\n",
    "                    'secondres', 'reshalfwidthouter', 'jouter', 'C_AMDouter']\n",
    "tseriesfeatures = ['EMcrossnear', 'EMcrossfar', 'EMcrossouter', 'strengthouter', \n",
    "       'tlyap', 'megno', 'EMmednear', 'EMmaxnear', 'EMstdnear', 'EMslopenear', 'EMrollingstdnear',\n",
    "       'EPmednear', 'EPmaxnear', 'EPstdnear', 'EPslopenear', 'EProllingstdnear', 'EMmedfar', 'EMmaxfar',\n",
    "       'EMstdfar', 'EMslopefar', 'EMrollingstdfar', 'EPmedfar', 'EPmaxfar', 'EPstdfar', 'EPslopefar',\n",
    "       'EProllingstdfar', 'EMmedouter', 'EMmaxouter', 'EMstdouter', 'AMDerr',\n",
    "       'EMslopeouter', 'EMrollingstdouter', 'EPmedouter', 'EPmaxouter',\n",
    "       'EPstdouter', 'EPslopeouter', 'EProllingstdouter']\n",
    "\n",
    "features = resparamfeatures + tseriesfeatures\n",
    "\n",
    "datapath = '/mnt/ssd/Dropbox/Dropbox (Princeton)/workspace/stability/MLstability/training_data/'\n",
    "dset = 'resonant/'\n"
   ]
  },
  {
   "cell_type": "code",
   "execution_count": 18,
   "metadata": {},
   "outputs": [
    {
     "name": "stdout",
     "output_type": "stream",
     "text": [
      "SCORE:                                              \n",
      "0.82806458                                          \n",
      "ERROR                                               \n",
      "0.010704535070100586                                \n",
      "HOLDOUT SCORE                                       \n",
      "0.8774092572473715                                  \n",
      "SCORE:                                                                        \n",
      "0.8213314800000001                                                            \n",
      "ERROR                                                                         \n",
      "0.011091784116416491                                                          \n",
      "HOLDOUT SCORE                                                                 \n",
      "0.8660995562530867                                                            \n",
      "SCORE:                                                                        \n",
      "0.8369695600000002                                                            \n",
      "ERROR                                                                         \n",
      "0.011417281232823241                                                          \n",
      "HOLDOUT SCORE                                                                 \n",
      "0.8775605319278723                                                            \n",
      "SCORE:                                                                        \n",
      "0.8312523800000001                                                            \n",
      "ERROR                                                                         \n",
      "0.007674402074295146                                                          \n",
      "HOLDOUT SCORE                                                                 \n",
      "0.879030950231604                                                             \n",
      "SCORE:                                                                        \n",
      "0.83248178                                                                    \n",
      "ERROR                                                                         \n",
      "0.008891548345485873                                                          \n",
      "HOLDOUT SCORE                                                                 \n",
      "0.8755682449049755                                                            \n",
      "SCORE:                                                                        \n",
      "0.8360002599999999                                                            \n",
      "ERROR                                                                         \n",
      "0.010548056573917759                                                          \n",
      "HOLDOUT SCORE                                                                 \n",
      "0.8813483868850225                                                            \n",
      "SCORE:                                                                        \n",
      "0.7045527800000001                                                            \n",
      "ERROR                                                                         \n",
      "0.02041439749336396                                                           \n",
      "HOLDOUT SCORE                                                                 \n",
      "0.7751405365398308                                                            \n",
      "SCORE:                                                                        \n",
      "0.82864784                                                                    \n",
      "ERROR                                                                         \n",
      "0.01208263251165222                                                           \n",
      "HOLDOUT SCORE                                                                 \n",
      "0.8793573940249241                                                            \n",
      "SCORE:                                                                        \n",
      "0.83281754                                                                    \n",
      "ERROR                                                                         \n",
      "0.011016952883924215                                                          \n",
      "HOLDOUT SCORE                                                                 \n",
      "0.8753177632767795                                                            \n",
      "SCORE:                                                                        \n",
      "0.8363607199999998                                                            \n",
      "ERROR                                                                         \n",
      "0.012659973516330882                                                          \n",
      "HOLDOUT SCORE                                                                 \n",
      "0.8717189772864019                                                            \n",
      "SCORE:                                                                         \n",
      "0.8053992399999998                                                             \n",
      "ERROR                                                                          \n",
      "0.012761344892074228                                                           \n",
      "HOLDOUT SCORE                                                                  \n",
      "0.8498749873620123                                                             \n",
      "SCORE:                                                                         \n",
      "0.84002502                                                                     \n",
      "ERROR                                                                          \n",
      "0.010405562380582031                                                           \n",
      "HOLDOUT SCORE                                                                  \n",
      "0.8653637281507716                                                             \n",
      "SCORE:                                                                         \n",
      "0.5849289799999999                                                             \n",
      "ERROR                                                                          \n",
      "0.03309792983077014                                                            \n",
      "HOLDOUT SCORE                                                                  \n",
      "0.7462514199623704                                                             \n",
      "SCORE:                                                                         \n",
      "0.8272052999999999                                                             \n",
      "ERROR                                                                          \n",
      "0.009635181294678764                                                           \n",
      "HOLDOUT SCORE                                                                  \n",
      "0.8553127117397422                                                             \n",
      "SCORE:                                                                         \n",
      "0.82914832                                                                     \n",
      "ERROR                                                                          \n",
      "0.009454023592925596                                                           \n",
      "HOLDOUT SCORE                                                                  \n",
      "0.8702661800309507                                                             \n",
      "SCORE:                                                                         \n",
      "0.8322767600000001                                                             \n",
      "ERROR                                                                          \n",
      "0.009727531330319783                                                           \n",
      "HOLDOUT SCORE                                                                  \n",
      "0.8659156857878195                                                             \n",
      "SCORE:                                                                         \n",
      "0.8318747200000001                                                             \n",
      "ERROR                                                                          \n",
      "0.007790197510324721                                                           \n",
      "HOLDOUT SCORE                                                                  \n",
      "0.8644372940820388                                                             \n",
      "SCORE:                                                                         \n",
      "0.8268556                                                                      \n",
      "ERROR                                                                          \n"
     ]
    },
    {
     "name": "stdout",
     "output_type": "stream",
     "text": [
      "0.011366185511581334                                                           \n",
      "HOLDOUT SCORE                                                                  \n",
      "0.8630866053210126                                                             \n",
      "SCORE:                                                                         \n",
      "0.82733642                                                                     \n",
      "ERROR                                                                          \n",
      "0.010199572773488302                                                           \n",
      "HOLDOUT SCORE                                                                  \n",
      "0.8702189876460995                                                             \n",
      "SCORE:                                                                         \n",
      "0.56557474                                                                     \n",
      "ERROR                                                                          \n",
      "0.028921336482871755                                                           \n",
      "HOLDOUT SCORE                                                                  \n",
      "0.7326211570384424                                                             \n",
      "SCORE:                                                                         \n",
      "0.83694416                                                                     \n",
      "ERROR                                                                          \n",
      "0.010525432750052171                                                           \n",
      "HOLDOUT SCORE                                                                  \n",
      "0.8755055659473278                                                             \n",
      "SCORE:                                                                         \n",
      "0.8349326400000001                                                             \n",
      "ERROR                                                                          \n",
      "0.012647721108040808                                                           \n",
      "HOLDOUT SCORE                                                                  \n",
      "0.8883128750126051                                                             \n",
      "SCORE:                                                                         \n",
      "0.82965418                                                                     \n",
      "ERROR                                                                          \n",
      "0.009742221253781203                                                           \n",
      "HOLDOUT SCORE                                                                  \n",
      "0.8756500138713949                                                             \n",
      "SCORE:                                                                         \n",
      "0.83938028                                                                     \n",
      "ERROR                                                                          \n",
      "0.007869106558483472                                                           \n",
      "HOLDOUT SCORE                                                                  \n",
      "0.8860703639940538                                                             \n",
      "SCORE:                                                                         \n",
      "0.83973108                                                                     \n",
      "ERROR                                                                          \n",
      "0.0072637697635948625                                                          \n",
      "HOLDOUT SCORE                                                                  \n",
      "0.8811252514687897                                                             \n",
      "SCORE:                                                                         \n",
      "0.2572812                                                                      \n",
      "ERROR                                                                          \n",
      "0.0063181281848344924                                                          \n",
      "HOLDOUT SCORE                                                                  \n",
      "0.63525                                                                        \n",
      "SCORE:                                                                         \n",
      "0.7470477000000001                                                             \n",
      "ERROR                                                                          \n",
      "0.01924466523799015                                                            \n",
      "HOLDOUT SCORE                                                                  \n",
      "0.8195263018841284                                                             \n",
      "SCORE:                                                                         \n",
      "0.7918664799999999                                                             \n",
      "ERROR                                                                          \n",
      "0.01153845938346849                                                            \n",
      "HOLDOUT SCORE                                                                  \n",
      "0.8431716664150491                                                             \n",
      "SCORE:                                                                         \n",
      "0.8369531800000001                                                             \n",
      "ERROR                                                                          \n",
      "0.009371283626572576                                                           \n",
      "HOLDOUT SCORE                                                                  \n",
      "0.876226470564717                                                              \n",
      "SCORE:                                                                         \n",
      "0.82266032                                                                     \n",
      "ERROR                                                                          \n",
      "0.013036003127577842                                                           \n",
      "HOLDOUT SCORE                                                                  \n",
      "0.865647551297997                                                              \n",
      "SCORE:                                                                         \n",
      "0.831641                                                                       \n",
      "ERROR                                                                          \n",
      "0.012651528560385285                                                           \n",
      "HOLDOUT SCORE                                                                  \n",
      "0.8808896428663565                                                             \n",
      "SCORE:                                                                         \n",
      "0.8370688                                                                      \n",
      "ERROR                                                                          \n",
      "0.013017593362582777                                                           \n",
      "HOLDOUT SCORE                                                                  \n",
      "0.8798555917491632                                                             \n",
      "SCORE:                                                                         \n",
      "0.8332546799999999                                                             \n",
      "ERROR                                                                          \n",
      "0.015860952282130008                                                           \n",
      "HOLDOUT SCORE                                                                  \n",
      "0.8696673288347111                                                             \n",
      "SCORE:                                                                         \n",
      "0.8405849200000001                                                             \n",
      "ERROR                                                                          \n",
      "0.008714692848470078                                                           \n",
      "HOLDOUT SCORE                                                                  \n",
      "0.8771444810006209                                                             \n",
      "SCORE:                                                                         \n",
      "0.83845002                                                                     \n",
      "ERROR                                                                          \n"
     ]
    },
    {
     "name": "stdout",
     "output_type": "stream",
     "text": [
      "0.012339128161321069                                                           \n",
      "HOLDOUT SCORE                                                                  \n",
      "0.883415907442142                                                              \n",
      "SCORE:                                                                         \n",
      "0.8352968199999999                                                             \n",
      "ERROR                                                                          \n",
      "0.010398022053643787                                                           \n",
      "HOLDOUT SCORE                                                                  \n",
      "0.8811970256832944                                                             \n",
      "SCORE:                                                                         \n",
      "0.7194008799999999                                                             \n",
      "ERROR                                                                          \n",
      "0.014707298674670943                                                           \n",
      "HOLDOUT SCORE                                                                  \n",
      "0.7852545693930015                                                             \n",
      "SCORE:                                                                         \n",
      "0.8186385599999999                                                             \n",
      "ERROR                                                                          \n",
      "0.011996525272890387                                                           \n",
      "HOLDOUT SCORE                                                                  \n",
      "0.8676339928799238                                                             \n",
      "SCORE:                                                                         \n",
      "0.78514694                                                                     \n",
      "ERROR                                                                          \n",
      "0.01373058994635384                                                            \n",
      "HOLDOUT SCORE                                                                  \n",
      "0.8364299204634004                                                             \n",
      "SCORE:                                                                         \n",
      "0.8259826799999999                                                             \n",
      "ERROR                                                                          \n",
      "0.008300313308370314                                                           \n",
      "HOLDOUT SCORE                                                                  \n",
      "0.877109220269079                                                              \n",
      "SCORE:                                                                         \n",
      "0.2572812                                                                      \n",
      "ERROR                                                                          \n",
      "0.0063181281848344924                                                          \n",
      "HOLDOUT SCORE                                                                  \n",
      "0.63525                                                                        \n",
      "SCORE:                                                                         \n",
      "0.8216710600000001                                                             \n",
      "ERROR                                                                          \n",
      "0.009905680843309006                                                           \n",
      "HOLDOUT SCORE                                                                  \n",
      "0.8545865753219999                                                             \n",
      "SCORE:                                                                         \n",
      "0.8330185799999998                                                             \n",
      "ERROR                                                                          \n",
      "0.01318124372727672                                                            \n",
      "HOLDOUT SCORE                                                                  \n",
      "0.8703321033698731                                                             \n",
      "SCORE:                                                                         \n",
      "0.81809488                                                                     \n",
      "ERROR                                                                          \n",
      "0.011994109856340753                                                           \n",
      "HOLDOUT SCORE                                                                  \n",
      "0.8659604547322914                                                             \n",
      "SCORE:                                                                         \n",
      "0.7513852200000001                                                             \n",
      "ERROR                                                                          \n",
      "0.01721166168723661                                                            \n",
      "HOLDOUT SCORE                                                                  \n",
      "0.8075199639550975                                                             \n",
      "SCORE:                                                                         \n",
      "0.83019608                                                                     \n",
      "ERROR                                                                          \n",
      "0.008539153085704299                                                           \n",
      "HOLDOUT SCORE                                                                  \n",
      "0.8750000219836702                                                             \n",
      "SCORE:                                                                         \n",
      "0.8336677800000001                                                             \n",
      "ERROR                                                                          \n",
      "0.011318456085464515                                                           \n",
      "HOLDOUT SCORE                                                                  \n",
      "0.8825535962441856                                                             \n",
      "SCORE:                                                                         \n",
      "0.835632                                                                       \n",
      "ERROR                                                                          \n",
      "0.009527352838190787                                                           \n",
      "HOLDOUT SCORE                                                                  \n",
      "0.8823646080865105                                                             \n",
      "SCORE:                                                                         \n",
      "0.8345148800000001                                                             \n",
      "ERROR                                                                          \n",
      "0.013271681615545927                                                           \n",
      "HOLDOUT SCORE                                                                  \n",
      "0.8720317210306763                                                             \n",
      "SCORE:                                                                         \n",
      "0.8297858400000001                                                             \n",
      "ERROR                                                                          \n",
      "0.010796016164551493                                                           \n",
      "HOLDOUT SCORE                                                                  \n",
      "0.8761748594445005                                                             \n",
      "100%|██████████| 50/50 [02:18<00:00,  3.35s/it, best loss: 0.11168712498739486]\n",
      "[0]\ttrain-aucpr:0.854796+0.00768753\ttest-aucpr:0.770647+0.00785067\n",
      "[1]\ttrain-aucpr:0.899783+0.00191853\ttest-aucpr:0.802262+0.0218637\n",
      "[2]\ttrain-aucpr:0.92235+0.003887\ttest-aucpr:0.82378+0.00939603\n",
      "[3]\ttrain-aucpr:0.93503+0.00214854\ttest-aucpr:0.83126+0.0129851\n",
      "[4]\ttrain-aucpr:0.943745+0.00208757\ttest-aucpr:0.838532+0.0127794\n",
      "[5]\ttrain-aucpr:0.950496+0.00223565\ttest-aucpr:0.845021+0.0136135\n",
      "[6]\ttrain-aucpr:0.955379+0.00190891\ttest-aucpr:0.851015+0.0136513\n",
      "[7]\ttrain-aucpr:0.959953+0.00243129\ttest-aucpr:0.855661+0.0123182\n",
      "[8]\ttrain-aucpr:0.965295+0.00171979\ttest-aucpr:0.85961+0.011702\n",
      "[9]\ttrain-aucpr:0.969029+0.00169506\ttest-aucpr:0.860017+0.0129682\n"
     ]
    }
   ],
   "source": [
    "listNorbits=[1e4]\n",
    "for Norbits in listNorbits:\n",
    "    featurefolder = 'ressummaryfeaturesxgbv6Norbits{0:.1f}Nout1000/'.format(Norbits)\n",
    "    trainingdatafolder = datapath+dset+featurefolder\n",
    "    trainX, trainY, testX, testY = train_test_split(trainingdatafolder, features, filter=False)\n",
    "\n",
    "\n",
    "    dtrain = xgb.DMatrix(trainX, trainY)\n",
    "    dtest = xgb.DMatrix(testX, testY)\n",
    "\n",
    "    trials = Trials()\n",
    "    best = fmin(fn=objective, space = space, algo = tpe.suggest, max_evals = 50, trials = trials)\n",
    "\n",
    "    best_xgbc = XGBClassifier(n_estimators=100, scale_pos_weight=best[\"x_pos_weight\"],\n",
    "                             learning_rate = best[\"x_learning_rate\"], \n",
    "                             max_depth = int(best[\"x_max_depth\"]), \n",
    "                             min_child_weight = best[\"x_min_child\"],\n",
    "                             subsample = best[\"x_subsample\"], \n",
    "                             colsample_bytree = best[\"x_tree_colsample\"])\n",
    "    params = best_xgbc.get_xgb_params()\n",
    "    score = xgb.cv(params, dtrain, nfold = 5, metrics = \"aucpr\", verbose_eval=True)\n",
    "    d_Train = xgb.DMatrix(trainX, trainY)\n",
    "    d_Test = xgb.DMatrix(testX)\n",
    "    bst = xgb.train(params, d_Train)\n",
    "    preds = bst.predict(d_Test)\n",
    "    score = metrics.average_precision_score(testY, preds)\n",
    "\n",
    "    model = XGBClassifier(n_estimators=100, scale_pos_weight=best[\"x_pos_weight\"],\n",
    "                             learning_rate = best[\"x_learning_rate\"], \n",
    "                             max_depth = int(best[\"x_max_depth\"]), \n",
    "                             min_child_weight = best[\"x_min_child\"],\n",
    "                             subsample = best[\"x_subsample\"], \n",
    "                             colsample_bytree = best[\"x_tree_colsample\"])\n",
    "\n",
    "    model.fit(trainX, trainY, eval_metric='aucpr')\n",
    "\n",
    "    dill.dump([model, features, featurefolder], open(datapath+\"../models/ressummaryfeaturesxgbv6_resonant{0:.0e}.pkl\".format(Norbits), \"wb\"))"
   ]
  },
  {
   "cell_type": "code",
   "execution_count": 22,
   "metadata": {},
   "outputs": [
    {
     "data": {
      "text/plain": [
       "Text(0.5, 1.0, 'ROC curve (AUC = 0.959)')"
      ]
     },
     "execution_count": 22,
     "metadata": {},
     "output_type": "execute_result"
    },
    {
     "data": {
      "image/png": "[encoded data removed]",
      "text/plain": [
       "<Figure size 432x288 with 1 Axes>"
      ]
     },
     "metadata": {
      "needs_background": "light"
     },
     "output_type": "display_data"
    }
   ],
   "source": [
    "roc_auc, fpr, tpr, ROCthresholds = ROC_curve(trainingdatafolder, model, features)\n",
    "\n",
    "fig, ax = plt.subplots()\n",
    "ax.plot(fpr, tpr)\n",
    "ax.plot([0, 1], [0, 1], 'k--')\n",
    "ax.set_xlim([0.0, 1.0])\n",
    "ax.set_ylim([0.0, 1.0])\n",
    "ax.set_xlabel('False Positive Rate')\n",
    "ax.set_ylabel('True Positive Rate')\n",
    "ax.set_title('ROC curve (AUC = {0:.3f})'.format(roc_auc))"
   ]
  },
  {
   "cell_type": "code",
   "execution_count": 23,
   "metadata": {},
   "outputs": [
    {
     "name": "stdout",
     "output_type": "stream",
     "text": [
      "Threshold 1.9999017715454102, FPR = 0.0, TPR = 0.0\n",
      "Threshold 0.9860304594039917, FPR = 0.00411240575736806, TPR = 0.3844731977818854\n",
      "Threshold 0.9591091871261597, FPR = 0.01028101439342015, TPR = 0.512014787430684\n",
      "Threshold 0.9424808025360107, FPR = 0.018505825908156272, TPR = 0.5582255083179297\n",
      "Threshold 0.9128478765487671, FPR = 0.025359835503769704, TPR = 0.6284658040665434\n",
      "Threshold 0.8827143907546997, FPR = 0.033584647018505824, TPR = 0.6691312384473198\n",
      "Threshold 0.8439748883247375, FPR = 0.03906785469499657, TPR = 0.7079482439926063\n",
      "Threshold 0.8000836372375488, FPR = 0.04934886908841672, TPR = 0.7264325323475046\n",
      "Threshold 0.7116411328315735, FPR = 0.06442769019876628, TPR = 0.7837338262476895\n",
      "Threshold 0.6079264283180237, FPR = 0.07539410555174778, TPR = 0.8133086876155268\n",
      "Threshold 0.5018351078033447, FPR = 0.08978752570253598, TPR = 0.8373382624768947\n",
      "Threshold 0.4287303388118744, FPR = 0.10212474297464016, TPR = 0.8539741219963032\n",
      "Threshold 0.3341927230358124, FPR = 0.11514736120630568, TPR = 0.88909426987061\n",
      "Threshold 0.25943470001220703, FPR = 0.13159698423577793, TPR = 0.911275415896488\n",
      "Threshold 0.1495002657175064, FPR = 0.15969842357779301, TPR = 0.9408502772643254\n",
      "Threshold 0.09686367213726044, FPR = 0.18848526387936942, TPR = 0.9574861367837338\n",
      "Threshold 0.060863394290208817, FPR = 0.21521590130226181, TPR = 0.9722735674676525\n",
      "Threshold 0.023145711049437523, FPR = 0.2844413982179575, TPR = 0.9852125693160814\n"
     ]
    }
   ],
   "source": [
    "for i in range(0,len(fpr), 15):\n",
    "    print(\"Threshold {0}, FPR = {1}, TPR = {2}\".format(rocthresholds[i], fpr[i], tpr[i]))"
   ]
  },
  {
   "cell_type": "code",
   "execution_count": 100,
   "metadata": {},
   "outputs": [
    {
     "name": "stdout",
     "output_type": "stream",
     "text": [
      "Threshold 0.0025387408677488565, recall = 1.0, precision = 0.43876723438767234\n",
      "Threshold 0.002793877152726054, recall = 0.9981515711645101, precision = 0.4433497536945813\n",
      "Threshold 0.0033131123054772615, recall = 0.9981515711645101, precision = 0.4488778054862843\n",
      "Threshold 0.0036996505223214626, recall = 0.9981515711645101, precision = 0.45454545454545453\n",
      "Threshold 0.004002034198492765, recall = 0.9981515711645101, precision = 0.46035805626598464\n",
      "Threshold 0.004368775989860296, recall = 0.9981515711645101, precision = 0.46632124352331605\n",
      "Threshold 0.005086724646389484, recall = 0.9981515711645101, precision = 0.47244094488188976\n",
      "Threshold 0.005759655963629484, recall = 0.9963031423290203, precision = 0.4778368794326241\n",
      "Threshold 0.0063275182619690895, recall = 0.9944547134935305, precision = 0.4833782569631626\n",
      "Threshold 0.006997937336564064, recall = 0.9944547134935305, precision = 0.4899817850637523\n",
      "Threshold 0.007695464417338371, recall = 0.9944547134935305, precision = 0.4967682363804247\n",
      "Threshold 0.008507847785949707, recall = 0.9944547134935305, precision = 0.5037453183520599\n",
      "Threshold 0.00962818507105112, recall = 0.9944547134935305, precision = 0.5109211775878443\n",
      "Threshold 0.010808716528117657, recall = 0.9944547134935305, precision = 0.5183044315992292\n",
      "Threshold 0.01249208115041256, recall = 0.9907578558225508, precision = 0.5239491691104594\n",
      "Threshold 0.01457869354635477, recall = 0.9907578558225508, precision = 0.5317460317460317\n",
      "Threshold 0.01653292216360569, recall = 0.9907578558225508, precision = 0.5397784491440081\n",
      "Threshold 0.018381202593445778, recall = 0.9870609981515711, precision = 0.5460122699386503\n",
      "Threshold 0.020515507087111473, recall = 0.9870609981515711, precision = 0.5545171339563862\n",
      "Threshold 0.023145711049437523, recall = 0.9852125693160814, precision = 0.5622362869198312\n",
      "Threshold 0.027869023382663727, recall = 0.9852125693160814, precision = 0.5712754555198285\n",
      "Threshold 0.030657220631837845, recall = 0.9815157116451017, precision = 0.5784313725490197\n",
      "Threshold 0.03339611366391182, recall = 0.9815157116451017, precision = 0.5880398671096345\n",
      "Threshold 0.03701447695493698, recall = 0.9796672828096118, precision = 0.5968468468468469\n",
      "Threshold 0.04564845934510231, recall = 0.977818853974122, precision = 0.6059564719358533\n",
      "Threshold 0.05217752233147621, recall = 0.9741219963031423, precision = 0.6142191142191142\n",
      "Threshold 0.06008245050907135, recall = 0.9722735674676525, precision = 0.6239620403321471\n",
      "Threshold 0.06672634929418564, recall = 0.9685767097966729, precision = 0.6328502415458938\n",
      "Threshold 0.07516174763441086, recall = 0.9648798521256932, precision = 0.6420664206642066\n",
      "Threshold 0.09139879792928696, recall = 0.9593345656192237, precision = 0.650375939849624\n",
      "Threshold 0.10998367518186569, recall = 0.9537892791127541, precision = 0.6590038314176245\n",
      "Threshold 0.12479054182767868, recall = 0.9463955637707948, precision = 0.6666666666666666\n",
      "Threshold 0.13757972419261932, recall = 0.9426987060998152, precision = 0.6772908366533864\n",
      "Threshold 0.15082640945911407, recall = 0.9390018484288355, precision = 0.6883468834688347\n",
      "Threshold 0.18485002219676971, recall = 0.9353049907578558, precision = 0.6998616874135546\n",
      "Threshold 0.20935076475143433, recall = 0.922365988909427, precision = 0.7048022598870056\n",
      "Threshold 0.24170538783073425, recall = 0.9168207024029574, precision = 0.7157287157287158\n",
      "Threshold 0.2778702974319458, recall = 0.9094269870609981, precision = 0.7256637168141593\n",
      "Threshold 0.29566359519958496, recall = 0.9020332717190388, precision = 0.7360482654600302\n",
      "Threshold 0.3375106453895569, recall = 0.8872458410351202, precision = 0.7407407407407407\n",
      "Threshold 0.3615977466106415, recall = 0.878003696857671, precision = 0.7503949447077409\n",
      "Threshold 0.41075363755226135, recall = 0.8595194085027726, precision = 0.7524271844660194\n",
      "Threshold 0.4495658874511719, recall = 0.8502772643253235, precision = 0.7628524046434494\n",
      "Threshold 0.491216242313385, recall = 0.8373382624768947, precision = 0.7704081632653061\n",
      "Threshold 0.5253816246986389, recall = 0.8317929759704251, precision = 0.7853403141361257\n",
      "Threshold 0.5797449350357056, recall = 0.8188539741219963, precision = 0.7939068100358423\n",
      "Threshold 0.6419272422790527, recall = 0.8040665434380776, precision = 0.8011049723756906\n",
      "Threshold 0.6845118403434753, recall = 0.7929759704251387, precision = 0.8125\n",
      "Threshold 0.7175460457801819, recall = 0.7818853974121996, precision = 0.8245614035087719\n",
      "Threshold 0.7473267316818237, recall = 0.7652495378927912, precision = 0.8313253012048193\n",
      "Threshold 0.7739718556404114, recall = 0.744916820702403, precision = 0.8343685300207039\n",
      "Threshold 0.795981764793396, recall = 0.7319778188539742, precision = 0.8461538461538461\n",
      "Threshold 0.8182363510131836, recall = 0.7208872458410351, precision = 0.8609271523178808\n",
      "Threshold 0.846030592918396, recall = 0.7042513863216266, precision = 0.8698630136986302\n",
      "Threshold 0.8666626214981079, recall = 0.6839186691312384, precision = 0.8747044917257684\n",
      "Threshold 0.8844790458679199, recall = 0.66728280961183, precision = 0.8848039215686274\n",
      "Threshold 0.9003612399101257, recall = 0.6487985212569316, precision = 0.8931297709923665\n",
      "Threshold 0.9127172231674194, recall = 0.6284658040665434, precision = 0.8994708994708994\n",
      "Threshold 0.9222897291183472, recall = 0.6025878003696857, precision = 0.8980716253443526\n",
      "Threshold 0.9296275973320007, recall = 0.5785582255083179, precision = 0.8994252873563219\n",
      "Threshold 0.9394975304603577, recall = 0.5619223659889094, precision = 0.9129129129129129\n",
      "Threshold 0.9481865167617798, recall = 0.5471349353049908, precision = 0.9308176100628931\n",
      "Threshold 0.9542255401611328, recall = 0.5286506469500925, precision = 0.9438943894389439\n",
      "Threshold 0.9597211480140686, recall = 0.5083179297597042, precision = 0.9548611111111112\n",
      "Threshold 0.9661409854888916, recall = 0.4824399260628466, precision = 0.9560439560439561\n",
      "Threshold 0.9738814830780029, recall = 0.4584103512014787, precision = 0.9612403100775194\n",
      "Threshold 0.9794846177101135, recall = 0.43253234750462105, precision = 0.9629629629629629\n",
      "Threshold 0.9822230339050293, recall = 0.41035120147874304, precision = 0.9736842105263158\n",
      "Threshold 0.9861474633216858, recall = 0.3844731977818854, precision = 0.9765258215962441\n",
      "Threshold 0.9886103272438049, recall = 0.3585951940850277, precision = 0.9797979797979798\n",
      "Threshold 0.9914871454238892, recall = 0.33086876155268025, precision = 0.9781420765027322\n",
      "Threshold 0.9931706190109253, recall = 0.3049907578558225, precision = 0.9821428571428571\n",
      "Threshold 0.994412362575531, recall = 0.27911275415896486, precision = 0.9869281045751634\n",
      "Threshold 0.9953014850616455, recall = 0.2513863216266174, precision = 0.9855072463768116\n",
      "Threshold 0.9965136647224426, recall = 0.2255083179297597, precision = 0.991869918699187\n",
      "Threshold 0.9973691701889038, recall = 0.1977818853974122, precision = 0.9907407407407407\n",
      "Threshold 0.9979462027549744, recall = 0.17005545286506468, precision = 0.989247311827957\n",
      "Threshold 0.9984777569770813, recall = 0.1423290203327172, precision = 0.9871794871794872\n",
      "Threshold 0.9989205598831177, recall = 0.11645101663585952, precision = 1.0\n",
      "Threshold 0.9992222785949707, recall = 0.08872458410351201, precision = 1.0\n",
      "Threshold 0.999503493309021, recall = 0.059149722735674676, precision = 1.0\n",
      "Threshold 0.9996588230133057, recall = 0.031423290203327174, precision = 1.0\n",
      "Threshold 0.9998199343681335, recall = 0.0036968576709796672, precision = 1.0\n"
     ]
    }
   ],
   "source": [
    "pr_auc, precision, recall, PRthresholds = PR_curve(trainingdatafolder, model, features)\n",
    "for i in range(0,len(recall), 15):\n",
    "    print(\"Threshold {0}, recall = {1}, precision = {2}\".format(PRthresholds[i], recall[i], precision[i]))"
   ]
  },
  {
   "cell_type": "code",
   "execution_count": 55,
   "metadata": {},
   "outputs": [
    {
     "name": "stdout",
     "output_type": "stream",
     "text": [
      "0.06322314 0.9704251386321626 0.6302521008403361\n"
     ]
    }
   ],
   "source": [
    "i=400\n",
    "PRthreshold = PRthresholds[i]\n",
    "rec = recall[i]\n",
    "prec = precision[i]\n",
    "print(PRthreshold, rec, prec)"
   ]
  },
  {
   "cell_type": "code",
   "execution_count": 86,
   "metadata": {},
   "outputs": [],
   "source": [
    "trainX, trainy, testX, testy = train_test_split(trainingdatafolder, features, filter=False)\n",
    "preds = model.predict_proba(testX)[:,1]"
   ]
  },
  {
   "cell_type": "code",
   "execution_count": 87,
   "metadata": {},
   "outputs": [],
   "source": [
    "predy = (preds >= PRthreshold)"
   ]
  },
  {
   "cell_type": "code",
   "execution_count": 88,
   "metadata": {},
   "outputs": [
    {
     "data": {
      "text/plain": [
       "array([False, False, False, False, False, False, False, False,  True,\n",
       "        True])"
      ]
     },
     "execution_count": 88,
     "metadata": {},
     "output_type": "execute_result"
    }
   ],
   "source": [
    "predlabels[:10]"
   ]
  },
  {
   "cell_type": "code",
   "execution_count": 89,
   "metadata": {},
   "outputs": [
    {
     "data": {
      "text/plain": [
       "7999     True\n",
       "8000    False\n",
       "8001    False\n",
       "8002    False\n",
       "8003     True\n",
       "8004    False\n",
       "8005    False\n",
       "8006     True\n",
       "8007    False\n",
       "8008    False\n",
       "Name: Stable, dtype: bool"
      ]
     },
     "execution_count": 89,
     "metadata": {},
     "output_type": "execute_result"
    }
   ],
   "source": [
    "testy[:10]"
   ]
  },
  {
   "cell_type": "code",
   "execution_count": 120,
   "metadata": {},
   "outputs": [
    {
     "data": {
      "text/plain": [
       "array([0.        , 0.001001  , 0.002002  , 0.003003  , 0.004004  ,\n",
       "       0.00500501, 0.00600601, 0.00700701, 0.00800801, 0.00900901,\n",
       "       0.01001001, 0.01101101, 0.01201201, 0.01301301, 0.01401401,\n",
       "       0.01501502, 0.01601602, 0.01701702, 0.01801802, 0.01901902,\n",
       "       0.02002002, 0.02102102, 0.02202202, 0.02302302, 0.02402402,\n",
       "       0.02502503, 0.02602603, 0.02702703, 0.02802803, 0.02902903,\n",
       "       0.03003003, 0.03103103, 0.03203203, 0.03303303, 0.03403403,\n",
       "       0.03503504, 0.03603604, 0.03703704, 0.03803804, 0.03903904,\n",
       "       0.04004004, 0.04104104, 0.04204204, 0.04304304, 0.04404404,\n",
       "       0.04504505, 0.04604605, 0.04704705, 0.04804805, 0.04904905,\n",
       "       0.05005005, 0.05105105, 0.05205205, 0.05305305, 0.05405405,\n",
       "       0.05505506, 0.05605606, 0.05705706, 0.05805806, 0.05905906,\n",
       "       0.06006006, 0.06106106, 0.06206206, 0.06306306, 0.06406406,\n",
       "       0.06506507, 0.06606607, 0.06706707, 0.06806807, 0.06906907,\n",
       "       0.07007007, 0.07107107, 0.07207207, 0.07307307, 0.07407407,\n",
       "       0.07507508, 0.07607608, 0.07707708, 0.07807808, 0.07907908,\n",
       "       0.08008008, 0.08108108, 0.08208208, 0.08308308, 0.08408408,\n",
       "       0.08508509, 0.08608609, 0.08708709, 0.08808809, 0.08908909,\n",
       "       0.09009009, 0.09109109, 0.09209209, 0.09309309, 0.09409409,\n",
       "       0.0950951 , 0.0960961 , 0.0970971 , 0.0980981 , 0.0990991 ,\n",
       "       0.1001001 , 0.1011011 , 0.1021021 , 0.1031031 , 0.1041041 ,\n",
       "       0.10510511, 0.10610611, 0.10710711, 0.10810811, 0.10910911,\n",
       "       0.11011011, 0.11111111, 0.11211211, 0.11311311, 0.11411411,\n",
       "       0.11511512, 0.11611612, 0.11711712, 0.11811812, 0.11911912,\n",
       "       0.12012012, 0.12112112, 0.12212212, 0.12312312, 0.12412412,\n",
       "       0.12512513, 0.12612613, 0.12712713, 0.12812813, 0.12912913,\n",
       "       0.13013013, 0.13113113, 0.13213213, 0.13313313, 0.13413413,\n",
       "       0.13513514, 0.13613614, 0.13713714, 0.13813814, 0.13913914,\n",
       "       0.14014014, 0.14114114, 0.14214214, 0.14314314, 0.14414414,\n",
       "       0.14514515, 0.14614615, 0.14714715, 0.14814815, 0.14914915,\n",
       "       0.15015015, 0.15115115, 0.15215215, 0.15315315, 0.15415415,\n",
       "       0.15515516, 0.15615616, 0.15715716, 0.15815816, 0.15915916,\n",
       "       0.16016016, 0.16116116, 0.16216216, 0.16316316, 0.16416416,\n",
       "       0.16516517, 0.16616617, 0.16716717, 0.16816817, 0.16916917,\n",
       "       0.17017017, 0.17117117, 0.17217217, 0.17317317, 0.17417417,\n",
       "       0.17517518, 0.17617618, 0.17717718, 0.17817818, 0.17917918,\n",
       "       0.18018018, 0.18118118, 0.18218218, 0.18318318, 0.18418418,\n",
       "       0.18518519, 0.18618619, 0.18718719, 0.18818819, 0.18918919,\n",
       "       0.19019019, 0.19119119, 0.19219219, 0.19319319, 0.19419419,\n",
       "       0.1951952 , 0.1961962 , 0.1971972 , 0.1981982 , 0.1991992 ,\n",
       "       0.2002002 , 0.2012012 , 0.2022022 , 0.2032032 , 0.2042042 ,\n",
       "       0.20520521, 0.20620621, 0.20720721, 0.20820821, 0.20920921,\n",
       "       0.21021021, 0.21121121, 0.21221221, 0.21321321, 0.21421421,\n",
       "       0.21521522, 0.21621622, 0.21721722, 0.21821822, 0.21921922,\n",
       "       0.22022022, 0.22122122, 0.22222222, 0.22322322, 0.22422422,\n",
       "       0.22522523, 0.22622623, 0.22722723, 0.22822823, 0.22922923,\n",
       "       0.23023023, 0.23123123, 0.23223223, 0.23323323, 0.23423423,\n",
       "       0.23523524, 0.23623624, 0.23723724, 0.23823824, 0.23923924,\n",
       "       0.24024024, 0.24124124, 0.24224224, 0.24324324, 0.24424424,\n",
       "       0.24524525, 0.24624625, 0.24724725, 0.24824825, 0.24924925,\n",
       "       0.25025025, 0.25125125, 0.25225225, 0.25325325, 0.25425425,\n",
       "       0.25525526, 0.25625626, 0.25725726, 0.25825826, 0.25925926,\n",
       "       0.26026026, 0.26126126, 0.26226226, 0.26326326, 0.26426426,\n",
       "       0.26526527, 0.26626627, 0.26726727, 0.26826827, 0.26926927,\n",
       "       0.27027027, 0.27127127, 0.27227227, 0.27327327, 0.27427427,\n",
       "       0.27527528, 0.27627628, 0.27727728, 0.27827828, 0.27927928,\n",
       "       0.28028028, 0.28128128, 0.28228228, 0.28328328, 0.28428428,\n",
       "       0.28528529, 0.28628629, 0.28728729, 0.28828829, 0.28928929,\n",
       "       0.29029029, 0.29129129, 0.29229229, 0.29329329, 0.29429429,\n",
       "       0.2952953 , 0.2962963 , 0.2972973 , 0.2982983 , 0.2992993 ,\n",
       "       0.3003003 , 0.3013013 , 0.3023023 , 0.3033033 , 0.3043043 ,\n",
       "       0.30530531, 0.30630631, 0.30730731, 0.30830831, 0.30930931,\n",
       "       0.31031031, 0.31131131, 0.31231231, 0.31331331, 0.31431431,\n",
       "       0.31531532, 0.31631632, 0.31731732, 0.31831832, 0.31931932,\n",
       "       0.32032032, 0.32132132, 0.32232232, 0.32332332, 0.32432432,\n",
       "       0.32532533, 0.32632633, 0.32732733, 0.32832833, 0.32932933,\n",
       "       0.33033033, 0.33133133, 0.33233233, 0.33333333, 0.33433433,\n",
       "       0.33533534, 0.33633634, 0.33733734, 0.33833834, 0.33933934,\n",
       "       0.34034034, 0.34134134, 0.34234234, 0.34334334, 0.34434434,\n",
       "       0.34534535, 0.34634635, 0.34734735, 0.34834835, 0.34934935,\n",
       "       0.35035035, 0.35135135, 0.35235235, 0.35335335, 0.35435435,\n",
       "       0.35535536, 0.35635636, 0.35735736, 0.35835836, 0.35935936,\n",
       "       0.36036036, 0.36136136, 0.36236236, 0.36336336, 0.36436436,\n",
       "       0.36536537, 0.36636637, 0.36736737, 0.36836837, 0.36936937,\n",
       "       0.37037037, 0.37137137, 0.37237237, 0.37337337, 0.37437437,\n",
       "       0.37537538, 0.37637638, 0.37737738, 0.37837838, 0.37937938,\n",
       "       0.38038038, 0.38138138, 0.38238238, 0.38338338, 0.38438438,\n",
       "       0.38538539, 0.38638639, 0.38738739, 0.38838839, 0.38938939,\n",
       "       0.39039039, 0.39139139, 0.39239239, 0.39339339, 0.39439439,\n",
       "       0.3953954 , 0.3963964 , 0.3973974 , 0.3983984 , 0.3993994 ,\n",
       "       0.4004004 , 0.4014014 , 0.4024024 , 0.4034034 , 0.4044044 ,\n",
       "       0.40540541, 0.40640641, 0.40740741, 0.40840841, 0.40940941,\n",
       "       0.41041041, 0.41141141, 0.41241241, 0.41341341, 0.41441441,\n",
       "       0.41541542, 0.41641642, 0.41741742, 0.41841842, 0.41941942,\n",
       "       0.42042042, 0.42142142, 0.42242242, 0.42342342, 0.42442442,\n",
       "       0.42542543, 0.42642643, 0.42742743, 0.42842843, 0.42942943,\n",
       "       0.43043043, 0.43143143, 0.43243243, 0.43343343, 0.43443443,\n",
       "       0.43543544, 0.43643644, 0.43743744, 0.43843844, 0.43943944,\n",
       "       0.44044044, 0.44144144, 0.44244244, 0.44344344, 0.44444444,\n",
       "       0.44544545, 0.44644645, 0.44744745, 0.44844845, 0.44944945,\n",
       "       0.45045045, 0.45145145, 0.45245245, 0.45345345, 0.45445445,\n",
       "       0.45545546, 0.45645646, 0.45745746, 0.45845846, 0.45945946,\n",
       "       0.46046046, 0.46146146, 0.46246246, 0.46346346, 0.46446446,\n",
       "       0.46546547, 0.46646647, 0.46746747, 0.46846847, 0.46946947,\n",
       "       0.47047047, 0.47147147, 0.47247247, 0.47347347, 0.47447447,\n",
       "       0.47547548, 0.47647648, 0.47747748, 0.47847848, 0.47947948,\n",
       "       0.48048048, 0.48148148, 0.48248248, 0.48348348, 0.48448448,\n",
       "       0.48548549, 0.48648649, 0.48748749, 0.48848849, 0.48948949,\n",
       "       0.49049049, 0.49149149, 0.49249249, 0.49349349, 0.49449449,\n",
       "       0.4954955 , 0.4964965 , 0.4974975 , 0.4984985 , 0.4994995 ,\n",
       "       0.5005005 , 0.5015015 , 0.5025025 , 0.5035035 , 0.5045045 ,\n",
       "       0.50550551, 0.50650651, 0.50750751, 0.50850851, 0.50950951,\n",
       "       0.51051051, 0.51151151, 0.51251251, 0.51351351, 0.51451451,\n",
       "       0.51551552, 0.51651652, 0.51751752, 0.51851852, 0.51951952,\n",
       "       0.52052052, 0.52152152, 0.52252252, 0.52352352, 0.52452452,\n",
       "       0.52552553, 0.52652653, 0.52752753, 0.52852853, 0.52952953,\n",
       "       0.53053053, 0.53153153, 0.53253253, 0.53353353, 0.53453453,\n",
       "       0.53553554, 0.53653654, 0.53753754, 0.53853854, 0.53953954,\n",
       "       0.54054054, 0.54154154, 0.54254254, 0.54354354, 0.54454454,\n",
       "       0.54554555, 0.54654655, 0.54754755, 0.54854855, 0.54954955,\n",
       "       0.55055055, 0.55155155, 0.55255255, 0.55355355, 0.55455455,\n",
       "       0.55555556, 0.55655656, 0.55755756, 0.55855856, 0.55955956,\n",
       "       0.56056056, 0.56156156, 0.56256256, 0.56356356, 0.56456456,\n",
       "       0.56556557, 0.56656657, 0.56756757, 0.56856857, 0.56956957,\n",
       "       0.57057057, 0.57157157, 0.57257257, 0.57357357, 0.57457457,\n",
       "       0.57557558, 0.57657658, 0.57757758, 0.57857858, 0.57957958,\n",
       "       0.58058058, 0.58158158, 0.58258258, 0.58358358, 0.58458458,\n",
       "       0.58558559, 0.58658659, 0.58758759, 0.58858859, 0.58958959,\n",
       "       0.59059059, 0.59159159, 0.59259259, 0.59359359, 0.59459459,\n",
       "       0.5955956 , 0.5965966 , 0.5975976 , 0.5985986 , 0.5995996 ,\n",
       "       0.6006006 , 0.6016016 , 0.6026026 , 0.6036036 , 0.6046046 ,\n",
       "       0.60560561, 0.60660661, 0.60760761, 0.60860861, 0.60960961,\n",
       "       0.61061061, 0.61161161, 0.61261261, 0.61361361, 0.61461461,\n",
       "       0.61561562, 0.61661662, 0.61761762, 0.61861862, 0.61961962,\n",
       "       0.62062062, 0.62162162, 0.62262262, 0.62362362, 0.62462462,\n",
       "       0.62562563, 0.62662663, 0.62762763, 0.62862863, 0.62962963,\n",
       "       0.63063063, 0.63163163, 0.63263263, 0.63363363, 0.63463463,\n",
       "       0.63563564, 0.63663664, 0.63763764, 0.63863864, 0.63963964,\n",
       "       0.64064064, 0.64164164, 0.64264264, 0.64364364, 0.64464464,\n",
       "       0.64564565, 0.64664665, 0.64764765, 0.64864865, 0.64964965,\n",
       "       0.65065065, 0.65165165, 0.65265265, 0.65365365, 0.65465465,\n",
       "       0.65565566, 0.65665666, 0.65765766, 0.65865866, 0.65965966,\n",
       "       0.66066066, 0.66166166, 0.66266266, 0.66366366, 0.66466466,\n",
       "       0.66566567, 0.66666667, 0.66766767, 0.66866867, 0.66966967,\n",
       "       0.67067067, 0.67167167, 0.67267267, 0.67367367, 0.67467467,\n",
       "       0.67567568, 0.67667668, 0.67767768, 0.67867868, 0.67967968,\n",
       "       0.68068068, 0.68168168, 0.68268268, 0.68368368, 0.68468468,\n",
       "       0.68568569, 0.68668669, 0.68768769, 0.68868869, 0.68968969,\n",
       "       0.69069069, 0.69169169, 0.69269269, 0.69369369, 0.69469469,\n",
       "       0.6956957 , 0.6966967 , 0.6976977 , 0.6986987 , 0.6996997 ,\n",
       "       0.7007007 , 0.7017017 , 0.7027027 , 0.7037037 , 0.7047047 ,\n",
       "       0.70570571, 0.70670671, 0.70770771, 0.70870871, 0.70970971,\n",
       "       0.71071071, 0.71171171, 0.71271271, 0.71371371, 0.71471471,\n",
       "       0.71571572, 0.71671672, 0.71771772, 0.71871872, 0.71971972,\n",
       "       0.72072072, 0.72172172, 0.72272272, 0.72372372, 0.72472472,\n",
       "       0.72572573, 0.72672673, 0.72772773, 0.72872873, 0.72972973,\n",
       "       0.73073073, 0.73173173, 0.73273273, 0.73373373, 0.73473473,\n",
       "       0.73573574, 0.73673674, 0.73773774, 0.73873874, 0.73973974,\n",
       "       0.74074074, 0.74174174, 0.74274274, 0.74374374, 0.74474474,\n",
       "       0.74574575, 0.74674675, 0.74774775, 0.74874875, 0.74974975,\n",
       "       0.75075075, 0.75175175, 0.75275275, 0.75375375, 0.75475475,\n",
       "       0.75575576, 0.75675676, 0.75775776, 0.75875876, 0.75975976,\n",
       "       0.76076076, 0.76176176, 0.76276276, 0.76376376, 0.76476476,\n",
       "       0.76576577, 0.76676677, 0.76776777, 0.76876877, 0.76976977,\n",
       "       0.77077077, 0.77177177, 0.77277277, 0.77377377, 0.77477477,\n",
       "       0.77577578, 0.77677678, 0.77777778, 0.77877878, 0.77977978,\n",
       "       0.78078078, 0.78178178, 0.78278278, 0.78378378, 0.78478478,\n",
       "       0.78578579, 0.78678679, 0.78778779, 0.78878879, 0.78978979,\n",
       "       0.79079079, 0.79179179, 0.79279279, 0.79379379, 0.79479479,\n",
       "       0.7957958 , 0.7967968 , 0.7977978 , 0.7987988 , 0.7997998 ,\n",
       "       0.8008008 , 0.8018018 , 0.8028028 , 0.8038038 , 0.8048048 ,\n",
       "       0.80580581, 0.80680681, 0.80780781, 0.80880881, 0.80980981,\n",
       "       0.81081081, 0.81181181, 0.81281281, 0.81381381, 0.81481481,\n",
       "       0.81581582, 0.81681682, 0.81781782, 0.81881882, 0.81981982,\n",
       "       0.82082082, 0.82182182, 0.82282282, 0.82382382, 0.82482482,\n",
       "       0.82582583, 0.82682683, 0.82782783, 0.82882883, 0.82982983,\n",
       "       0.83083083, 0.83183183, 0.83283283, 0.83383383, 0.83483483,\n",
       "       0.83583584, 0.83683684, 0.83783784, 0.83883884, 0.83983984,\n",
       "       0.84084084, 0.84184184, 0.84284284, 0.84384384, 0.84484484,\n",
       "       0.84584585, 0.84684685, 0.84784785, 0.84884885, 0.84984985,\n",
       "       0.85085085, 0.85185185, 0.85285285, 0.85385385, 0.85485485,\n",
       "       0.85585586, 0.85685686, 0.85785786, 0.85885886, 0.85985986,\n",
       "       0.86086086, 0.86186186, 0.86286286, 0.86386386, 0.86486486,\n",
       "       0.86586587, 0.86686687, 0.86786787, 0.86886887, 0.86986987,\n",
       "       0.87087087, 0.87187187, 0.87287287, 0.87387387, 0.87487487,\n",
       "       0.87587588, 0.87687688, 0.87787788, 0.87887888, 0.87987988,\n",
       "       0.88088088, 0.88188188, 0.88288288, 0.88388388, 0.88488488,\n",
       "       0.88588589, 0.88688689, 0.88788789, 0.88888889, 0.88988989,\n",
       "       0.89089089, 0.89189189, 0.89289289, 0.89389389, 0.89489489,\n",
       "       0.8958959 , 0.8968969 , 0.8978979 , 0.8988989 , 0.8998999 ,\n",
       "       0.9009009 , 0.9019019 , 0.9029029 , 0.9039039 , 0.9049049 ,\n",
       "       0.90590591, 0.90690691, 0.90790791, 0.90890891, 0.90990991,\n",
       "       0.91091091, 0.91191191, 0.91291291, 0.91391391, 0.91491491,\n",
       "       0.91591592, 0.91691692, 0.91791792, 0.91891892, 0.91991992,\n",
       "       0.92092092, 0.92192192, 0.92292292, 0.92392392, 0.92492492,\n",
       "       0.92592593, 0.92692693, 0.92792793, 0.92892893, 0.92992993,\n",
       "       0.93093093, 0.93193193, 0.93293293, 0.93393393, 0.93493493,\n",
       "       0.93593594, 0.93693694, 0.93793794, 0.93893894, 0.93993994,\n",
       "       0.94094094, 0.94194194, 0.94294294, 0.94394394, 0.94494494,\n",
       "       0.94594595, 0.94694695, 0.94794795, 0.94894895, 0.94994995,\n",
       "       0.95095095, 0.95195195, 0.95295295, 0.95395395, 0.95495495,\n",
       "       0.95595596, 0.95695696, 0.95795796, 0.95895896, 0.95995996,\n",
       "       0.96096096, 0.96196196, 0.96296296, 0.96396396, 0.96496496,\n",
       "       0.96596597, 0.96696697, 0.96796797, 0.96896897, 0.96996997,\n",
       "       0.97097097, 0.97197197, 0.97297297, 0.97397397, 0.97497497,\n",
       "       0.97597598, 0.97697698, 0.97797798, 0.97897898, 0.97997998,\n",
       "       0.98098098, 0.98198198, 0.98298298, 0.98398398, 0.98498498,\n",
       "       0.98598599, 0.98698699, 0.98798799, 0.98898899, 0.98998999,\n",
       "       0.99099099, 0.99199199, 0.99299299, 0.99399399, 0.99499499,\n",
       "       0.995996  , 0.996997  , 0.997998  , 0.998999  , 1.        ])"
      ]
     },
     "execution_count": 120,
     "metadata": {},
     "output_type": "execute_result"
    }
   ],
   "source": [
    "np.linspace(0,1,N)"
   ]
  },
  {
   "cell_type": "code",
   "execution_count": 126,
   "metadata": {},
   "outputs": [
    {
     "data": {
      "text/plain": [
       "(0, 1459, 0, 541)"
      ]
     },
     "execution_count": 126,
     "metadata": {},
     "output_type": "execute_result"
    }
   ],
   "source": [
    "predy = (preds >= 0)\n",
    "tn, fp, fn, tp = confusion_matrix(testy, predy).ravel()\n",
    "tn, fp, fn, tp"
   ]
  },
  {
   "cell_type": "code",
   "execution_count": 128,
   "metadata": {},
   "outputs": [],
   "source": [
    "npv[np.isnan(npv)] = 1"
   ]
  },
  {
   "cell_type": "code",
   "execution_count": 130,
   "metadata": {},
   "outputs": [
    {
     "name": "stderr",
     "output_type": "stream",
     "text": [
      "/home/dtamayo/miniconda3/envs/ml/lib/python3.7/site-packages/ipykernel_launcher.py:12: RuntimeWarning: invalid value encountered in long_scalars\n",
      "  if sys.path[0] == '':\n",
      "/home/dtamayo/miniconda3/envs/ml/lib/python3.7/site-packages/ipykernel_launcher.py:10: RuntimeWarning: invalid value encountered in long_scalars\n",
      "  # Remove the CWD from sys.path while we load stuff.\n"
     ]
    }
   ],
   "source": [
    "from sklearn.metrics import confusion_matrix\n",
    "from sklearn.metrics import auc\n",
    "\n",
    "N=1000\n",
    "npv, tnr = np.zeros(N), np.zeros(N)\n",
    "ppv, tpr = np.zeros(N), np.zeros(N)\n",
    "for i, thresh in enumerate(np.linspace(0, 1, N)):\n",
    "    predy = (preds >= thresh)\n",
    "    tn, fp, fn, tp = confusion_matrix(testy, predy).ravel()\n",
    "    ppv[i] = tp/(tp+fp)\n",
    "    tpr[i] = tp/(tp+fn)\n",
    "    npv[i] = tn/(tn+fn)\n",
    "    tnr[i] = tn/(tn+fp)\n",
    "    \n",
    "# When thresh is 0 or 1, we don't predict any of one class, so ppv and npv can be nan (conditioned on predicted pos or neg)\n",
    "ppv[np.isnan(ppv)] = 1\n",
    "npv[np.isnan(npv)] = 1\n",
    "#tpr[np.isnan(tpr)] = 1\n",
    "#tnr[np.isnan(tnr)] = 1"
   ]
  },
  {
   "cell_type": "code",
   "execution_count": 91,
   "metadata": {},
   "outputs": [
    {
     "data": {
      "text/plain": [
       "833"
      ]
     },
     "execution_count": 91,
     "metadata": {},
     "output_type": "execute_result"
    }
   ],
   "source": [
    "pp = tp+fp\n",
    "pp"
   ]
  },
  {
   "cell_type": "code",
   "execution_count": 92,
   "metadata": {},
   "outputs": [
    {
     "data": {
      "text/plain": [
       "0.6302521008403361"
      ]
     },
     "execution_count": 92,
     "metadata": {},
     "output_type": "execute_result"
    }
   ],
   "source": [
    "prec = tp/pp\n",
    "prec"
   ]
  },
  {
   "cell_type": "code",
   "execution_count": 93,
   "metadata": {},
   "outputs": [
    {
     "data": {
      "text/plain": [
       "0.9704251386321626"
      ]
     },
     "execution_count": 93,
     "metadata": {},
     "output_type": "execute_result"
    }
   ],
   "source": [
    "p = tp+fn\n",
    "rec = tp/p\n",
    "rec"
   ]
  },
  {
   "cell_type": "code",
   "execution_count": 116,
   "metadata": {},
   "outputs": [
    {
     "name": "stdout",
     "output_type": "stream",
     "text": [
      "Threshold 0.0025387408677488565, recall = 1.0, precision = 0.43876723438767234\n",
      "Threshold 0.002793877152726054, recall = 0.9981515711645101, precision = 0.4433497536945813\n",
      "Threshold 0.0033131123054772615, recall = 0.9981515711645101, precision = 0.4488778054862843\n",
      "Threshold 0.0036996505223214626, recall = 0.9981515711645101, precision = 0.45454545454545453\n",
      "Threshold 0.004002034198492765, recall = 0.9981515711645101, precision = 0.46035805626598464\n",
      "Threshold 0.004368775989860296, recall = 0.9981515711645101, precision = 0.46632124352331605\n",
      "Threshold 0.005086724646389484, recall = 0.9981515711645101, precision = 0.47244094488188976\n",
      "Threshold 0.005759655963629484, recall = 0.9963031423290203, precision = 0.4778368794326241\n",
      "Threshold 0.0063275182619690895, recall = 0.9944547134935305, precision = 0.4833782569631626\n",
      "Threshold 0.006997937336564064, recall = 0.9944547134935305, precision = 0.4899817850637523\n",
      "Threshold 0.007695464417338371, recall = 0.9944547134935305, precision = 0.4967682363804247\n",
      "Threshold 0.008507847785949707, recall = 0.9944547134935305, precision = 0.5037453183520599\n",
      "Threshold 0.00962818507105112, recall = 0.9944547134935305, precision = 0.5109211775878443\n",
      "Threshold 0.010808716528117657, recall = 0.9944547134935305, precision = 0.5183044315992292\n",
      "Threshold 0.01249208115041256, recall = 0.9907578558225508, precision = 0.5239491691104594\n",
      "Threshold 0.01457869354635477, recall = 0.9907578558225508, precision = 0.5317460317460317\n",
      "Threshold 0.01653292216360569, recall = 0.9907578558225508, precision = 0.5397784491440081\n",
      "Threshold 0.018381202593445778, recall = 0.9870609981515711, precision = 0.5460122699386503\n",
      "Threshold 0.020515507087111473, recall = 0.9870609981515711, precision = 0.5545171339563862\n",
      "Threshold 0.023145711049437523, recall = 0.9852125693160814, precision = 0.5622362869198312\n",
      "Threshold 0.027869023382663727, recall = 0.9852125693160814, precision = 0.5712754555198285\n",
      "Threshold 0.030657220631837845, recall = 0.9815157116451017, precision = 0.5784313725490197\n",
      "Threshold 0.03339611366391182, recall = 0.9815157116451017, precision = 0.5880398671096345\n",
      "Threshold 0.03701447695493698, recall = 0.9796672828096118, precision = 0.5968468468468469\n",
      "Threshold 0.04564845934510231, recall = 0.977818853974122, precision = 0.6059564719358533\n",
      "Threshold 0.05217752233147621, recall = 0.9741219963031423, precision = 0.6142191142191142\n",
      "Threshold 0.06008245050907135, recall = 0.9722735674676525, precision = 0.6239620403321471\n",
      "Threshold 0.06672634929418564, recall = 0.9685767097966729, precision = 0.6328502415458938\n",
      "Threshold 0.07516174763441086, recall = 0.9648798521256932, precision = 0.6420664206642066\n",
      "Threshold 0.09139879792928696, recall = 0.9593345656192237, precision = 0.650375939849624\n",
      "Threshold 0.10998367518186569, recall = 0.9537892791127541, precision = 0.6590038314176245\n",
      "Threshold 0.12479054182767868, recall = 0.9463955637707948, precision = 0.6666666666666666\n",
      "Threshold 0.13757972419261932, recall = 0.9426987060998152, precision = 0.6772908366533864\n",
      "Threshold 0.15082640945911407, recall = 0.9390018484288355, precision = 0.6883468834688347\n",
      "Threshold 0.18485002219676971, recall = 0.9353049907578558, precision = 0.6998616874135546\n",
      "Threshold 0.20935076475143433, recall = 0.922365988909427, precision = 0.7048022598870056\n",
      "Threshold 0.24170538783073425, recall = 0.9168207024029574, precision = 0.7157287157287158\n",
      "Threshold 0.2778702974319458, recall = 0.9094269870609981, precision = 0.7256637168141593\n",
      "Threshold 0.29566359519958496, recall = 0.9020332717190388, precision = 0.7360482654600302\n",
      "Threshold 0.3375106453895569, recall = 0.8872458410351202, precision = 0.7407407407407407\n",
      "Threshold 0.3615977466106415, recall = 0.878003696857671, precision = 0.7503949447077409\n",
      "Threshold 0.41075363755226135, recall = 0.8595194085027726, precision = 0.7524271844660194\n",
      "Threshold 0.4495658874511719, recall = 0.8502772643253235, precision = 0.7628524046434494\n",
      "Threshold 0.491216242313385, recall = 0.8373382624768947, precision = 0.7704081632653061\n",
      "Threshold 0.5253816246986389, recall = 0.8317929759704251, precision = 0.7853403141361257\n",
      "Threshold 0.5797449350357056, recall = 0.8188539741219963, precision = 0.7939068100358423\n",
      "Threshold 0.6419272422790527, recall = 0.8040665434380776, precision = 0.8011049723756906\n",
      "Threshold 0.6845118403434753, recall = 0.7929759704251387, precision = 0.8125\n",
      "Threshold 0.7175460457801819, recall = 0.7818853974121996, precision = 0.8245614035087719\n",
      "Threshold 0.7473267316818237, recall = 0.7652495378927912, precision = 0.8313253012048193\n",
      "Threshold 0.7739718556404114, recall = 0.744916820702403, precision = 0.8343685300207039\n",
      "Threshold 0.795981764793396, recall = 0.7319778188539742, precision = 0.8461538461538461\n",
      "Threshold 0.8182363510131836, recall = 0.7208872458410351, precision = 0.8609271523178808\n",
      "Threshold 0.846030592918396, recall = 0.7042513863216266, precision = 0.8698630136986302\n",
      "Threshold 0.8666626214981079, recall = 0.6839186691312384, precision = 0.8747044917257684\n",
      "Threshold 0.8844790458679199, recall = 0.66728280961183, precision = 0.8848039215686274\n",
      "Threshold 0.9003612399101257, recall = 0.6487985212569316, precision = 0.8931297709923665\n",
      "Threshold 0.9127172231674194, recall = 0.6284658040665434, precision = 0.8994708994708994\n",
      "Threshold 0.9222897291183472, recall = 0.6025878003696857, precision = 0.8980716253443526\n",
      "Threshold 0.9296275973320007, recall = 0.5785582255083179, precision = 0.8994252873563219\n",
      "Threshold 0.9394975304603577, recall = 0.5619223659889094, precision = 0.9129129129129129\n",
      "Threshold 0.9481865167617798, recall = 0.5471349353049908, precision = 0.9308176100628931\n",
      "Threshold 0.9542255401611328, recall = 0.5286506469500925, precision = 0.9438943894389439\n",
      "Threshold 0.9597211480140686, recall = 0.5083179297597042, precision = 0.9548611111111112\n",
      "Threshold 0.9661409854888916, recall = 0.4824399260628466, precision = 0.9560439560439561\n",
      "Threshold 0.9738814830780029, recall = 0.4584103512014787, precision = 0.9612403100775194\n",
      "Threshold 0.9794846177101135, recall = 0.43253234750462105, precision = 0.9629629629629629\n",
      "Threshold 0.9822230339050293, recall = 0.41035120147874304, precision = 0.9736842105263158\n",
      "Threshold 0.9861474633216858, recall = 0.3844731977818854, precision = 0.9765258215962441\n",
      "Threshold 0.9886103272438049, recall = 0.3585951940850277, precision = 0.9797979797979798\n",
      "Threshold 0.9914871454238892, recall = 0.33086876155268025, precision = 0.9781420765027322\n",
      "Threshold 0.9931706190109253, recall = 0.3049907578558225, precision = 0.9821428571428571\n",
      "Threshold 0.994412362575531, recall = 0.27911275415896486, precision = 0.9869281045751634\n",
      "Threshold 0.9953014850616455, recall = 0.2513863216266174, precision = 0.9855072463768116\n",
      "Threshold 0.9965136647224426, recall = 0.2255083179297597, precision = 0.991869918699187\n",
      "Threshold 0.9973691701889038, recall = 0.1977818853974122, precision = 0.9907407407407407\n",
      "Threshold 0.9979462027549744, recall = 0.17005545286506468, precision = 0.989247311827957\n",
      "Threshold 0.9984777569770813, recall = 0.1423290203327172, precision = 0.9871794871794872\n",
      "Threshold 0.9989205598831177, recall = 0.11645101663585952, precision = 1.0\n",
      "Threshold 0.9992222785949707, recall = 0.08872458410351201, precision = 1.0\n",
      "Threshold 0.999503493309021, recall = 0.059149722735674676, precision = 1.0\n",
      "Threshold 0.9996588230133057, recall = 0.031423290203327174, precision = 1.0\n",
      "Threshold 0.9998199343681335, recall = 0.0036968576709796672, precision = 1.0\n"
     ]
    },
    {
     "ename": "IndexError",
     "evalue": "index 1245 is out of bounds for axis 0 with size 1232",
     "output_type": "error",
     "traceback": [
      "\u001b[0;31m---------------------------------------------------------------------------\u001b[0m",
      "\u001b[0;31mIndexError\u001b[0m                                Traceback (most recent call last)",
      "\u001b[0;32m<ipython-input-116-7b584d1cfa30>\u001b[0m in \u001b[0;36m<module>\u001b[0;34m\u001b[0m\n\u001b[1;32m      1\u001b[0m \u001b[0;32mfor\u001b[0m \u001b[0mi\u001b[0m \u001b[0;32min\u001b[0m \u001b[0mrange\u001b[0m\u001b[0;34m(\u001b[0m\u001b[0;36m0\u001b[0m\u001b[0;34m,\u001b[0m\u001b[0mlen\u001b[0m\u001b[0;34m(\u001b[0m\u001b[0mrec\u001b[0m\u001b[0;34m)\u001b[0m\u001b[0;34m,\u001b[0m \u001b[0;36m15\u001b[0m\u001b[0;34m)\u001b[0m\u001b[0;34m:\u001b[0m\u001b[0;34m\u001b[0m\u001b[0;34m\u001b[0m\u001b[0m\n\u001b[0;32m----> 2\u001b[0;31m     \u001b[0mprint\u001b[0m\u001b[0;34m(\u001b[0m\u001b[0;34m\"Threshold {0}, recall = {1}, precision = {2}\"\u001b[0m\u001b[0;34m.\u001b[0m\u001b[0mformat\u001b[0m\u001b[0;34m(\u001b[0m\u001b[0mPRthresholds\u001b[0m\u001b[0;34m[\u001b[0m\u001b[0mi\u001b[0m\u001b[0;34m]\u001b[0m\u001b[0;34m,\u001b[0m \u001b[0mrec\u001b[0m\u001b[0;34m[\u001b[0m\u001b[0mi\u001b[0m\u001b[0;34m]\u001b[0m\u001b[0;34m,\u001b[0m \u001b[0mprec\u001b[0m\u001b[0;34m[\u001b[0m\u001b[0mi\u001b[0m\u001b[0;34m]\u001b[0m\u001b[0;34m)\u001b[0m\u001b[0;34m)\u001b[0m\u001b[0;34m\u001b[0m\u001b[0;34m\u001b[0m\u001b[0m\n\u001b[0m",
      "\u001b[0;31mIndexError\u001b[0m: index 1245 is out of bounds for axis 0 with size 1232"
     ]
    }
   ],
   "source": [
    "for i in range(0,len(rec), 15):\n",
    "    print(\"Threshold {0}, recall = {1}, precision = {2}\".format(PRthresholds[i], rec[i], prec[i]))"
   ]
  },
  {
   "cell_type": "code",
   "execution_count": 118,
   "metadata": {},
   "outputs": [
    {
     "name": "stdout",
     "output_type": "stream",
     "text": [
      "Threshold 0.0025387408677488565, tnr = 0.5257025359835503, npv = 1.0\n",
      "Threshold 0.002793877152726054, tnr = 0.5352981494174092, npv = 0.9987212276214834\n",
      "Threshold 0.0033131123054772615, tnr = 0.5455791638108294, npv = 0.998745294855709\n",
      "Threshold 0.0036996505223214626, tnr = 0.5558601782042495, npv = 0.9987684729064039\n",
      "Threshold 0.004002034198492765, tnr = 0.5661411925976696, npv = 0.9987908101571947\n",
      "Threshold 0.004368775989860296, tnr = 0.5764222069910898, npv = 0.998812351543943\n",
      "Threshold 0.005086724646389484, tnr = 0.5867032213845099, npv = 0.9988331388564761\n",
      "Threshold 0.005759655963629484, tnr = 0.5962988348183688, npv = 0.9977064220183486\n",
      "Threshold 0.0063275182619690895, tnr = 0.6058944482522276, npv = 0.9966178128523112\n",
      "Threshold 0.006997937336564064, tnr = 0.6161754626456477, npv = 0.9966740576496674\n",
      "Threshold 0.007695464417338371, tnr = 0.6264564770390678, npv = 0.9967284623773174\n",
      "Threshold 0.008507847785949707, tnr = 0.636737491432488, npv = 0.9967811158798283\n",
      "Threshold 0.00962818507105112, tnr = 0.6470185058259081, npv = 0.996832101372756\n",
      "Threshold 0.010808716528117657, tnr = 0.6572995202193284, npv = 0.9968814968814969\n",
      "Threshold 0.01249208115041256, tnr = 0.6662097326936258, npv = 0.9948822927328557\n",
      "Threshold 0.01457869354635477, tnr = 0.6764907470870459, npv = 0.9949596774193549\n",
      "Threshold 0.01653292216360569, tnr = 0.686771761480466, npv = 0.9950347567030785\n",
      "Threshold 0.018381202593445778, tnr = 0.6956819739547635, npv = 0.9931506849315068\n",
      "Threshold 0.020515507087111473, tnr = 0.7059629883481837, npv = 0.9932497589199615\n",
      "Threshold 0.023145711049437523, tnr = 0.7155586017820424, npv = 0.9923954372623575\n",
      "Threshold 0.027869023382663727, tnr = 0.7258396161754627, npv = 0.9925023430178069\n",
      "Threshold 0.030657220631837845, tnr = 0.7347498286497601, npv = 0.9907578558225508\n",
      "Threshold 0.03339611366391182, tnr = 0.7450308430431802, npv = 0.9908842297174111\n",
      "Threshold 0.03701447695493698, tnr = 0.7546264564770391, npv = 0.9901079136690647\n",
      "Threshold 0.04564845934510231, tnr = 0.7642220699108979, npv = 0.9893522626441881\n",
      "Threshold 0.05217752233147621, tnr = 0.7731322823851954, npv = 0.9877408056042032\n",
      "Threshold 0.06008245050907135, tnr = 0.7827278958190541, npv = 0.9870354364736387\n",
      "Threshold 0.06672634929418564, tnr = 0.7916381082933516, npv = 0.985494880546075\n",
      "Threshold 0.07516174763441086, tnr = 0.800548320767649, npv = 0.9839932603201348\n",
      "Threshold 0.09139879792928696, tnr = 0.8087731322823852, npv = 0.9816971713810316\n",
      "Threshold 0.10998367518186569, tnr = 0.8169979437971213, npv = 0.9794576828266228\n",
      "Threshold 0.12479054182767868, tnr = 0.8245373543522961, npv = 0.976461038961039\n",
      "Threshold 0.13757972419261932, tnr = 0.8334475668265936, npv = 0.97514033680834\n",
      "Threshold 0.15082640945911407, tnr = 0.8423577793008911, npv = 0.973851030110935\n",
      "Threshold 0.18485002219676971, tnr = 0.8512679917751885, npv = 0.9725920125293657\n",
      "Threshold 0.20935076475143433, tnr = 0.8567511994516792, npv = 0.9674922600619195\n",
      "Threshold 0.24170538783073425, tnr = 0.8649760109664153, npv = 0.9655700076511095\n",
      "Threshold 0.2778702974319458, tnr = 0.8725154215215901, npv = 0.9629349470499243\n",
      "Threshold 0.29566359519958496, tnr = 0.8800548320767649, npv = 0.9603590127150337\n",
      "Threshold 0.3375106453895569, tnr = 0.8848526387936944, npv = 0.9548816568047337\n",
      "Threshold 0.3615977466106415, tnr = 0.8917066483893078, npv = 0.9517190929041697\n",
      "Threshold 0.41075363755226135, tnr = 0.8951336531871145, npv = 0.9450072358900145\n",
      "Threshold 0.4495658874511719, tnr = 0.9019876627827279, npv = 0.9420186113099499\n",
      "Threshold 0.491216242313385, tnr = 0.9074708704592186, npv = 0.9376770538243626\n",
      "Threshold 0.5253816246986389, tnr = 0.9156956819739548, npv = 0.9362298528381219\n",
      "Threshold 0.5797449350357056, tnr = 0.9211788896504455, npv = 0.9320388349514563\n",
      "Threshold 0.6419272422790527, tnr = 0.9259766963673749, npv = 0.9272477693891558\n",
      "Threshold 0.6845118403434753, tnr = 0.932145305003427, npv = 0.9239130434782609\n",
      "Threshold 0.7175460457801819, tnr = 0.9383139136394791, npv = 0.9206455951580363\n",
      "Threshold 0.7473267316818237, tnr = 0.9424263193968472, npv = 0.9154460719041279\n",
      "Threshold 0.7739718556404114, tnr = 0.9451679232350926, npv = 0.9090309822017139\n",
      "Threshold 0.795981764793396, tnr = 0.9506511309115833, npv = 0.9053524804177546\n",
      "Threshold 0.8182363510131836, tnr = 0.9568197395476353, npv = 0.9023917259211377\n",
      "Threshold 0.846030592918396, tnr = 0.9609321453050035, npv = 0.8975672215108835\n",
      "Threshold 0.8666626214981079, tnr = 0.9636737491432488, npv = 0.891566265060241\n",
      "Threshold 0.8844790458679199, tnr = 0.9677861549006168, npv = 0.8869346733668342\n",
      "Threshold 0.9003612399101257, tnr = 0.9712131596984236, npv = 0.8817672682016179\n",
      "Threshold 0.9127172231674194, tnr = 0.973954763536669, npv = 0.876078914919852\n",
      "Threshold 0.9222897291183472, tnr = 0.9746401644962303, npv = 0.868662186927306\n",
      "Threshold 0.9296275973320007, tnr = 0.976010966415353, npv = 0.8619854721549637\n",
      "Threshold 0.9394975304603577, tnr = 0.980123372172721, npv = 0.8578284343131374\n",
      "Threshold 0.9481865167617798, tnr = 0.9849211788896505, npv = 0.8543400713436385\n",
      "Threshold 0.9542255401611328, tnr = 0.9883481836874571, npv = 0.8497348261638185\n",
      "Threshold 0.9597211480140686, tnr = 0.9910897875257025, npv = 0.844626168224299\n",
      "Threshold 0.9661409854888916, tnr = 0.9917751884852639, npv = 0.8378691372321946\n",
      "Threshold 0.9738814830780029, tnr = 0.9931459904043866, npv = 0.8318025258323766\n",
      "Threshold 0.9794846177101135, tnr = 0.9938313913639479, npv = 0.8252703471826978\n",
      "Threshold 0.9822230339050293, tnr = 0.995887594242632, npv = 0.8199774266365688\n",
      "Threshold 0.9861474633216858, tnr = 0.9965729952021933, npv = 0.8136541689983212\n",
      "Threshold 0.9886103272438049, tnr = 0.9972583961617546, npv = 0.8074361820199778\n",
      "Threshold 0.9914871454238892, tnr = 0.9972583961617546, npv = 0.8007705008255366\n",
      "Threshold 0.9931706190109253, tnr = 0.997943797121316, npv = 0.7947598253275109\n",
      "Threshold 0.994412362575531, tnr = 0.9986291980808774, npv = 0.7888467785598268\n",
      "Threshold 0.9953014850616455, tnr = 0.9986291980808774, npv = 0.7824919441460795\n",
      "Threshold 0.9965136647224426, tnr = 0.9993145990404386, npv = 0.7767714437932871\n",
      "Threshold 0.9973691701889038, tnr = 0.9993145990404386, npv = 0.7706131078224101\n",
      "Threshold 0.9979462027549744, tnr = 0.9993145990404386, npv = 0.7645516518091243\n",
      "Threshold 0.9984777569770813, tnr = 0.9993145990404386, npv = 0.7585848074921956\n",
      "Threshold 0.9989205598831177, tnr = 1.0, npv = 0.7532266391326794\n",
      "Threshold 0.9992222785949707, tnr = 1.0, npv = 0.7474385245901639\n",
      "Threshold 0.999503493309021, tnr = 1.0, npv = 0.7413617886178862\n",
      "Threshold 0.9996588230133057, tnr = 1.0, npv = 0.7357539082198689\n",
      "Threshold 0.9998199343681335, tnr = 1.0, npv = 0.7302302302302303\n"
     ]
    },
    {
     "ename": "IndexError",
     "evalue": "index 1245 is out of bounds for axis 0 with size 1232",
     "output_type": "error",
     "traceback": [
      "\u001b[0;31m---------------------------------------------------------------------------\u001b[0m",
      "\u001b[0;31mIndexError\u001b[0m                                Traceback (most recent call last)",
      "\u001b[0;32m<ipython-input-118-d0bc516f02ee>\u001b[0m in \u001b[0;36m<module>\u001b[0;34m\u001b[0m\n\u001b[1;32m      1\u001b[0m \u001b[0;32mfor\u001b[0m \u001b[0mi\u001b[0m \u001b[0;32min\u001b[0m \u001b[0mrange\u001b[0m\u001b[0;34m(\u001b[0m\u001b[0;36m0\u001b[0m\u001b[0;34m,\u001b[0m\u001b[0mlen\u001b[0m\u001b[0;34m(\u001b[0m\u001b[0mrec\u001b[0m\u001b[0;34m)\u001b[0m\u001b[0;34m,\u001b[0m \u001b[0;36m15\u001b[0m\u001b[0;34m)\u001b[0m\u001b[0;34m:\u001b[0m\u001b[0;34m\u001b[0m\u001b[0;34m\u001b[0m\u001b[0m\n\u001b[0;32m----> 2\u001b[0;31m     \u001b[0mprint\u001b[0m\u001b[0;34m(\u001b[0m\u001b[0;34m\"Threshold {0}, tnr = {1}, npv = {2}\"\u001b[0m\u001b[0;34m.\u001b[0m\u001b[0mformat\u001b[0m\u001b[0;34m(\u001b[0m\u001b[0mPRthresholds\u001b[0m\u001b[0;34m[\u001b[0m\u001b[0mi\u001b[0m\u001b[0;34m]\u001b[0m\u001b[0;34m,\u001b[0m \u001b[0mtnr\u001b[0m\u001b[0;34m[\u001b[0m\u001b[0mi\u001b[0m\u001b[0;34m]\u001b[0m\u001b[0;34m,\u001b[0m \u001b[0mnpv\u001b[0m\u001b[0;34m[\u001b[0m\u001b[0mi\u001b[0m\u001b[0;34m]\u001b[0m\u001b[0;34m)\u001b[0m\u001b[0;34m)\u001b[0m\u001b[0;34m\u001b[0m\u001b[0;34m\u001b[0m\u001b[0m\n\u001b[0m",
      "\u001b[0;31mIndexError\u001b[0m: index 1245 is out of bounds for axis 0 with size 1232"
     ]
    }
   ],
   "source": [
    "for i in range(0,len(rec), 15):\n",
    "    print(\"Threshold {0}, tnr = {1}, npv = {2}\".format(PRthresholds[i], tnr[i], npv[i]))"
   ]
  },
  {
   "cell_type": "code",
   "execution_count": 125,
   "metadata": {},
   "outputs": [
    {
     "data": {
      "text/plain": [
       "array([       nan, 1.        , 1.        , 0.99872774, 0.99879227,\n",
       "       0.99882491, 0.99773243, 0.99667774, 0.99674267, 0.99680511,\n",
       "       0.99684543, 0.99584631, 0.99486125, 0.99490316, 0.99494949,\n",
       "       0.99498998, 0.99501992, 0.99308983, 0.99315068, 0.99318403,\n",
       "       0.99323671, 0.99328859, 0.99332698, 0.99239544, 0.99243856,\n",
       "       0.99245994, 0.99246704, 0.99248826, 0.99158879, 0.99162011,\n",
       "       0.99165121, 0.9907919 , 0.99085923, 0.99088423, 0.99001815,\n",
       "       0.99005425, 0.99008115, 0.9901168 , 0.98925694, 0.98926655,\n",
       "       0.98927614, 0.98928571, 0.98929527, 0.98931434, 0.98933333,\n",
       "       0.98934281, 0.98937112, 0.98937112, 0.98852604, 0.98854626,\n",
       "       0.98769772, 0.9877193 , 0.98774081, 0.98777293, 0.98779425,\n",
       "       0.98695652, 0.98697917, 0.98700173, 0.98701299, 0.98702422,\n",
       "       0.98703544, 0.98623064, 0.9862543 , 0.98628963, 0.98547009,\n",
       "       0.98547009, 0.98549488, 0.98550725, 0.98550725, 0.9855565 ,\n",
       "       0.985581  , 0.98393914, 0.9839527 , 0.98396624, 0.98396624,\n",
       "       0.98399326, 0.98400673, 0.98402019, 0.98402019, 0.98403361,\n",
       "       0.98404702, 0.9840604 , 0.98323554, 0.98323554, 0.98324958,\n",
       "       0.98242678, 0.98245614, 0.98245614, 0.98247078, 0.9824854 ,\n",
       "       0.98168193, 0.98168193, 0.98172757, 0.98172757, 0.98174274,\n",
       "       0.98174274, 0.98174274, 0.98096026, 0.98096026, 0.98096026,\n",
       "       0.98096026, 0.98097601, 0.98097601, 0.98099174, 0.98021434,\n",
       "       0.98021434, 0.97942387, 0.97944079, 0.97945768, 0.97945768,\n",
       "       0.97947455, 0.97949139, 0.97868852, 0.97788698, 0.97792314,\n",
       "       0.9771615 , 0.97636512, 0.97636512, 0.97636512, 0.97638436,\n",
       "       0.97640358, 0.97640358, 0.97642276, 0.97642276, 0.97642276,\n",
       "       0.9756691 , 0.97568882, 0.9757085 , 0.9757085 , 0.97572816,\n",
       "       0.97578692, 0.97584541, 0.97586484, 0.97586484, 0.97586484,\n",
       "       0.97588424, 0.97590361, 0.97514034, 0.97516026, 0.97516026,\n",
       "       0.9752    , 0.9752    , 0.9752    , 0.97521982, 0.97521982,\n",
       "       0.97525938, 0.97448166, 0.97454256, 0.97454256, 0.9745628 ,\n",
       "       0.97383029, 0.97387173, 0.97389241, 0.97389241, 0.97389241,\n",
       "       0.97389241, 0.97389241, 0.97391304, 0.97393365, 0.97395422,\n",
       "       0.97397476, 0.97397476, 0.97397476, 0.97397476, 0.97397476,\n",
       "       0.97397476, 0.97399527, 0.97401575, 0.97401575, 0.97403619,\n",
       "       0.97327044, 0.97327044, 0.97327044, 0.97327044, 0.97327044,\n",
       "       0.97250589, 0.97250589, 0.97252747, 0.97252747, 0.97254902,\n",
       "       0.97254902, 0.97257053, 0.97259201, 0.97259201, 0.97259201,\n",
       "       0.97261346, 0.97263487, 0.97265625, 0.97194076, 0.9711838 ,\n",
       "       0.9711838 , 0.9711838 , 0.9711838 , 0.9711838 , 0.9711838 ,\n",
       "       0.97042802, 0.97042802, 0.97042802, 0.97042802, 0.97042802,\n",
       "       0.97045101, 0.97047397, 0.97047397, 0.97049689, 0.96899225,\n",
       "       0.96899225, 0.96899225, 0.96899225, 0.96749226, 0.96749226,\n",
       "       0.9675174 , 0.9675174 , 0.9675425 , 0.9675425 , 0.9675425 ,\n",
       "       0.9675425 , 0.96759259, 0.96759259, 0.96759259, 0.96759259,\n",
       "       0.96759259, 0.96759259, 0.96684657, 0.96684657, 0.96684657,\n",
       "       0.96687211, 0.96689761, 0.96617986, 0.96617986, 0.96617986,\n",
       "       0.96543779, 0.96543779, 0.96546431, 0.9654908 , 0.9654908 ,\n",
       "       0.96551724, 0.96554364, 0.96554364, 0.96557001, 0.96557001,\n",
       "       0.96557001, 0.96557001, 0.96559633, 0.96562261, 0.96562261,\n",
       "       0.96562261, 0.96562261, 0.96564885, 0.96564885, 0.96491228,\n",
       "       0.96493902, 0.96493902, 0.96493902, 0.96496573, 0.96496573,\n",
       "       0.96496573, 0.96496573, 0.96423135, 0.9634981 , 0.9634981 ,\n",
       "       0.96355353, 0.96355353, 0.96360879, 0.96360879, 0.96360879,\n",
       "       0.96360879, 0.96360879, 0.96360879, 0.96360879, 0.96360879,\n",
       "       0.96360879, 0.96363636, 0.96293495, 0.96293495, 0.96293495,\n",
       "       0.96293495, 0.96293495, 0.96293495, 0.96223565, 0.96153846,\n",
       "       0.96153846, 0.96153846, 0.96153846, 0.96153846, 0.96153846,\n",
       "       0.96153846, 0.96153846, 0.96159639, 0.96159639, 0.96162528,\n",
       "       0.96090226, 0.96021021, 0.96021021, 0.96024006, 0.96026987,\n",
       "       0.96029963, 0.96038864, 0.96038864, 0.96038864, 0.96038864,\n",
       "       0.96038864, 0.9596714 , 0.9596714 , 0.9596714 , 0.9596714 ,\n",
       "       0.9596714 , 0.95970149, 0.95973154, 0.95973154, 0.95973154,\n",
       "       0.95973154, 0.95973154, 0.95973154, 0.95973154, 0.95973154,\n",
       "       0.95973154, 0.95973154, 0.95973154, 0.95904691, 0.95833333,\n",
       "       0.95833333, 0.95833333, 0.95833333, 0.95833333, 0.95833333,\n",
       "       0.95762082, 0.9576523 , 0.95694135, 0.95694135, 0.95694135,\n",
       "       0.95694135, 0.95555556, 0.95558845, 0.95558845, 0.95488166,\n",
       "       0.95488166, 0.95488166, 0.95488166, 0.954915  , 0.954915  ,\n",
       "       0.954915  , 0.954915  , 0.95350554, 0.95280236, 0.95280236,\n",
       "       0.95283714, 0.95287187, 0.95217071, 0.95217071, 0.95217071,\n",
       "       0.95217071, 0.95217071, 0.95217071, 0.95217071, 0.95217071,\n",
       "       0.95217071, 0.95220588, 0.95220588, 0.95227606, 0.95231108,\n",
       "       0.95234604, 0.95171909, 0.95102339, 0.95032871, 0.94963504,\n",
       "       0.94894238, 0.94894238, 0.94825073, 0.94825073, 0.94825073,\n",
       "       0.94825073, 0.94828842, 0.94828842, 0.94828842, 0.94828842,\n",
       "       0.94828842, 0.94828842, 0.94828842, 0.94828842, 0.94828842,\n",
       "       0.94828842, 0.94832606, 0.94832606, 0.94836364, 0.94836364,\n",
       "       0.94836364, 0.94836364, 0.94836364, 0.94836364, 0.94836364,\n",
       "       0.94767442, 0.9469862 , 0.9469862 , 0.9469862 , 0.9469862 ,\n",
       "       0.94629898, 0.94629898, 0.94629898, 0.94565217, 0.94565217,\n",
       "       0.94496741, 0.94496741, 0.94496741, 0.94496741, 0.94496741,\n",
       "       0.94496741, 0.94496741, 0.94500724, 0.94500724, 0.94500724,\n",
       "       0.94500724, 0.94364162, 0.94368231, 0.94372294, 0.94372294,\n",
       "       0.94372294, 0.94372294, 0.94376352, 0.94380403, 0.94312455,\n",
       "       0.94312455, 0.94312455, 0.94312455, 0.94312455, 0.94312455,\n",
       "       0.94312455, 0.94312455, 0.94312455, 0.94312455, 0.94316547,\n",
       "       0.94320633, 0.94320633, 0.94324713, 0.94324713, 0.94324713,\n",
       "       0.94324713, 0.94328787, 0.94328787, 0.94328787, 0.94261119,\n",
       "       0.94265233, 0.94265233, 0.94265233, 0.94265233, 0.94265233,\n",
       "       0.94265233, 0.94269341, 0.94201861, 0.94201861, 0.94201861,\n",
       "       0.94206009, 0.9413867 , 0.94142857, 0.94147038, 0.94147038,\n",
       "       0.94147038, 0.94147038, 0.94147038, 0.94147038, 0.94147038,\n",
       "       0.94151213, 0.94151213, 0.94151213, 0.94084105, 0.94084105,\n",
       "       0.94084105, 0.94084105, 0.94088319, 0.94088319, 0.94021352,\n",
       "       0.94025605, 0.94029851, 0.94029851, 0.93963068, 0.93963068,\n",
       "       0.93963068, 0.93963068, 0.93963068, 0.93963068, 0.93963068,\n",
       "       0.93963068, 0.93963068, 0.9389638 , 0.9389638 , 0.9389638 ,\n",
       "       0.9389638 , 0.9389638 , 0.9389638 , 0.9389638 , 0.93900709,\n",
       "       0.93767705, 0.93772116, 0.93772116, 0.93780919, 0.93780919,\n",
       "       0.93780919, 0.93780919, 0.93780919, 0.93785311, 0.93785311,\n",
       "       0.93785311, 0.93785311, 0.93723554, 0.93723554, 0.93727977,\n",
       "       0.93727977, 0.93727977, 0.93727977, 0.93732394, 0.93736805,\n",
       "       0.9374121 , 0.9375    , 0.9375    , 0.93754386, 0.93754386,\n",
       "       0.9368864 , 0.9368864 , 0.9368864 , 0.9368864 , 0.9368864 ,\n",
       "       0.9368864 , 0.9368864 , 0.9368864 , 0.9368864 , 0.93622985,\n",
       "       0.93627451, 0.93496503, 0.93496503, 0.93496503, 0.93496503,\n",
       "       0.93501048, 0.93505587, 0.93514644, 0.93514644, 0.93449477,\n",
       "       0.93449477, 0.93449477, 0.93449477, 0.93449477, 0.93449477,\n",
       "       0.93449477, 0.93449477, 0.93449477, 0.93449477, 0.93449477,\n",
       "       0.93384401, 0.93389005, 0.93389005, 0.93389005, 0.93389005,\n",
       "       0.93389005, 0.93389005, 0.93389005, 0.93389005, 0.93389005,\n",
       "       0.93389005, 0.93389005, 0.93389005, 0.93389005, 0.93389005,\n",
       "       0.93324061, 0.93324061, 0.93259208, 0.93259208, 0.93259208,\n",
       "       0.93259208, 0.93259208, 0.93259208, 0.93259208, 0.93259208,\n",
       "       0.93259208, 0.93194444, 0.93194444, 0.93199167, 0.93199167,\n",
       "       0.93199167, 0.93203883, 0.93203883, 0.93203883, 0.93203883,\n",
       "       0.93139293, 0.93139293, 0.93144044, 0.93144044, 0.93144044,\n",
       "       0.93144044, 0.93148789, 0.93148789, 0.93153527, 0.93153527,\n",
       "       0.93153527, 0.93153527, 0.9308915 , 0.9308915 , 0.9308915 ,\n",
       "       0.9308915 , 0.93093923, 0.93098689, 0.93098689, 0.93098689,\n",
       "       0.93098689, 0.93098689, 0.93098689, 0.93098689, 0.93098689,\n",
       "       0.93098689, 0.93034483, 0.93034483, 0.93044077, 0.93044077,\n",
       "       0.92980041, 0.92980041, 0.92980041, 0.92980041, 0.92980041,\n",
       "       0.92980041, 0.92916094, 0.92916094, 0.92916094, 0.92916094,\n",
       "       0.92852234, 0.92852234, 0.92852234, 0.92852234, 0.92852234,\n",
       "       0.92852234, 0.92852234, 0.92852234, 0.92852234, 0.92852234,\n",
       "       0.92852234, 0.92852234, 0.92788462, 0.92788462, 0.92788462,\n",
       "       0.92788462, 0.92788462, 0.92788462, 0.92788462, 0.92788462,\n",
       "       0.92788462, 0.92724777, 0.9273475 , 0.92671233, 0.92671233,\n",
       "       0.92607803, 0.92607803, 0.92607803, 0.92612859, 0.92617908,\n",
       "       0.92617908, 0.92622951, 0.92622951, 0.92627986, 0.92627986,\n",
       "       0.92627986, 0.92633015, 0.92633015, 0.92633015, 0.92633015,\n",
       "       0.92633015, 0.92633015, 0.92633015, 0.92633015, 0.92633015,\n",
       "       0.92633015, 0.92633015, 0.92633015, 0.92633015, 0.92633015,\n",
       "       0.9256987 , 0.9256987 , 0.9256987 , 0.9256987 , 0.9256987 ,\n",
       "       0.92506812, 0.92511913, 0.92511913, 0.9244898 , 0.9244898 ,\n",
       "       0.9244898 , 0.92386132, 0.92386132, 0.92386132, 0.92328581,\n",
       "       0.92338983, 0.92338983, 0.92338983, 0.92276423, 0.92276423,\n",
       "       0.92213947, 0.92213947, 0.92213947, 0.92213947, 0.92219215,\n",
       "       0.92219215, 0.92219215, 0.92219215, 0.92219215, 0.92224476,\n",
       "       0.92224476, 0.92162162, 0.92162162, 0.92162162, 0.92162162,\n",
       "       0.92162162, 0.92162162, 0.92162162, 0.92099932, 0.92099932,\n",
       "       0.92105263, 0.92043156, 0.92048518, 0.92053872, 0.9206456 ,\n",
       "       0.9206456 , 0.9206456 , 0.92069892, 0.92075218, 0.92075218,\n",
       "       0.92080537, 0.92080537, 0.92080537, 0.92080537, 0.92080537,\n",
       "       0.92080537, 0.92080537, 0.92018779, 0.92018779, 0.92018779,\n",
       "       0.92018779, 0.91957105, 0.91962492, 0.91962492, 0.91967871,\n",
       "       0.91850367, 0.91789052, 0.91789052, 0.91789052, 0.91789052,\n",
       "       0.91789052, 0.91666667, 0.91666667, 0.91666667, 0.91666667,\n",
       "       0.91605596, 0.91544607, 0.91422872, 0.91422872, 0.91422872,\n",
       "       0.91362126, 0.91362126, 0.91301461, 0.91240876, 0.91240876,\n",
       "       0.91180371, 0.91180371, 0.91180371, 0.91119947, 0.91119947,\n",
       "       0.91119947, 0.91059603, 0.91059603, 0.9106552 , 0.91005291,\n",
       "       0.91005291, 0.90945142, 0.90945142, 0.90945142, 0.90885073,\n",
       "       0.90891089, 0.90891089, 0.90897098, 0.90903098, 0.90909091,\n",
       "       0.90915076, 0.90861275, 0.90861275, 0.90861275, 0.9086728 ,\n",
       "       0.90807617, 0.90754098, 0.90754098, 0.90754098, 0.90754098,\n",
       "       0.90694626, 0.90641361, 0.90647482, 0.90653595, 0.90594383,\n",
       "       0.90594383, 0.90594383, 0.90594383, 0.90594383, 0.90594383,\n",
       "       0.90535248, 0.9041721 , 0.9041721 , 0.90358306, 0.90358306,\n",
       "       0.90370852, 0.90370852, 0.90370852, 0.90383366, 0.90383366,\n",
       "       0.9038961 , 0.9038961 , 0.90395847, 0.90395847, 0.90337224,\n",
       "       0.90337224, 0.90278678, 0.90278678, 0.90278678, 0.90284974,\n",
       "       0.90232859, 0.90232859, 0.90232859, 0.9012266 , 0.90129032,\n",
       "       0.90129032, 0.90129032, 0.90070922, 0.90070922, 0.90012887,\n",
       "       0.90019317, 0.8996139 , 0.8996139 , 0.8996139 , 0.8996139 ,\n",
       "       0.89916506, 0.89916506, 0.89916506, 0.89922978, 0.89922978,\n",
       "       0.89922978, 0.89922978, 0.89922978, 0.89922978, 0.89865298,\n",
       "       0.89865298, 0.89871795, 0.89871795, 0.89871795, 0.89756722,\n",
       "       0.89756722, 0.89705882, 0.89648562, 0.89648562, 0.89655172,\n",
       "       0.89655172, 0.89655172, 0.89655172, 0.89655172, 0.89597958,\n",
       "       0.89540816, 0.89540816, 0.89540816, 0.89490446, 0.89433482,\n",
       "       0.8937659 , 0.89326557, 0.89326557, 0.89326557, 0.89269841,\n",
       "       0.89156627, 0.89163498, 0.89113924, 0.89113924, 0.8912081 ,\n",
       "       0.8912081 , 0.89064475, 0.89064475, 0.89008212, 0.89008212,\n",
       "       0.88895899, 0.88839849, 0.88839849, 0.88783869, 0.88783869,\n",
       "       0.88783869, 0.88790932, 0.88742138, 0.88749214, 0.88589342,\n",
       "       0.88589342, 0.88589342, 0.88533835, 0.88423029, 0.8836773 ,\n",
       "       0.88257339, 0.88257339, 0.88257339, 0.88264669, 0.8827199 ,\n",
       "       0.88279302, 0.88279302, 0.88286604, 0.88231631, 0.88176727,\n",
       "       0.88067122, 0.88012422, 0.88019863, 0.88019863, 0.87965261,\n",
       "       0.87856258, 0.87856258, 0.87801858, 0.87801858, 0.87809406,\n",
       "       0.87700865, 0.87607891, 0.87561576, 0.87561576, 0.87507692,\n",
       "       0.87346437, 0.87292818, 0.87239264, 0.87078996, 0.87025704,\n",
       "       0.86919315, 0.86919315, 0.86813187, 0.86768293, 0.8660986 ,\n",
       "       0.86557178, 0.86557178, 0.86399514, 0.86294724, 0.86154776,\n",
       "       0.86102719, 0.86050725, 0.86050725, 0.86050725, 0.86007238,\n",
       "       0.85955395, 0.85903614, 0.85860409, 0.85825826, 0.85748503,\n",
       "       0.85748503, 0.85697187, 0.85705742, 0.85603345, 0.8545888 ,\n",
       "       0.8546754 , 0.8547619 , 0.85434007, 0.85391924, 0.85299348,\n",
       "       0.85147929, 0.85174247, 0.85123967, 0.84973483, 0.84823529,\n",
       "       0.84674105, 0.84534271, 0.84543326, 0.84543326, 0.8441331 ,\n",
       "       0.8441331 , 0.84324009, 0.84225844, 0.84176847, 0.84079024,\n",
       "       0.83786914, 0.83699422, 0.83660508, 0.83564014, 0.83564014,\n",
       "       0.83419689, 0.83419689, 0.83371692, 0.83189902, 0.82951945,\n",
       "       0.82857143, 0.82715345, 0.82715345, 0.82527035, 0.82396366,\n",
       "       0.82276331, 0.82090395, 0.81859155, 0.81813063, 0.81537598,\n",
       "       0.81354983, 0.81148912, 0.80878266, 0.80609418, 0.80564784,\n",
       "       0.80121145, 0.79945055, 0.79562842, 0.79001628, 0.78586839,\n",
       "       0.77801494, 0.77306469, 0.76415094, 0.75167439, 0.7295    ])"
      ]
     },
     "execution_count": 125,
     "metadata": {},
     "output_type": "execute_result"
    }
   ],
   "source": [
    "npv"
   ]
  },
  {
   "cell_type": "code",
   "execution_count": 134,
   "metadata": {},
   "outputs": [
    {
     "data": {
      "image/png": "[encoded data removed]",
      "text/plain": [
       "<Figure size 432x288 with 1 Axes>"
      ]
     },
     "metadata": {
      "needs_background": "light"
     },
     "output_type": "display_data"
    }
   ],
   "source": [
    "pr_auc = auc(tpr, ppv)\n",
    "fig, ax = plt.subplots()\n",
    "ax.plot(tpr, ppv)\n",
    "ax.set_xlim([0.0, 1.0])\n",
    "ax.set_ylim([0.0, 1.0])\n",
    "ax.set_xlabel('TPR')\n",
    "ax.set_ylabel('PPV')\n",
    "ax.set_title(\"AUC Score (Test): {0:.4f}\".format(pr_auc))\n",
    "plt.show()"
   ]
  },
  {
   "cell_type": "code",
   "execution_count": 107,
   "metadata": {},
   "outputs": [
    {
     "data": {
      "image/png": "[encoded data removed]",
      "text/plain": [
       "<Figure size 432x288 with 1 Axes>"
      ]
     },
     "metadata": {
      "needs_background": "light"
     },
     "output_type": "display_data"
    }
   ],
   "source": [
    "pr_auc = auc(tpr, ppv)\n",
    "fig, ax = plt.subplots()\n",
    "ax.plot(tpr, ppv)\n",
    "ax.set_xlim([0.0, 1.0])\n",
    "ax.set_ylim([0.0, 1.0])\n",
    "ax.set_xlabel('TPR')\n",
    "ax.set_ylabel('PPV')\n",
    "ax.set_title(\"AUC Score (Test): {0:.4f}\".format(pr_auc))\n",
    "plt.show()"
   ]
  },
  {
   "cell_type": "code",
   "execution_count": 115,
   "metadata": {},
   "outputs": [
    {
     "data": {
      "text/plain": [
       "(1999,)"
      ]
     },
     "execution_count": 115,
     "metadata": {},
     "output_type": "execute_result"
    }
   ],
   "source": [
    "tpr.shape"
   ]
  },
  {
   "cell_type": "code",
   "execution_count": 135,
   "metadata": {},
   "outputs": [
    {
     "data": {
      "image/png": "[encoded data removed]",
      "text/plain": [
       "<Figure size 432x288 with 1 Axes>"
      ]
     },
     "metadata": {
      "needs_background": "light"
     },
     "output_type": "display_data"
    }
   ],
   "source": [
    "nauc = auc(tnr, npv)\n",
    "fig, ax = plt.subplots()\n",
    "ax.plot(tnr, npv)\n",
    "ax.set_xlim([0.0, 1.0])\n",
    "ax.set_ylim([0.0, 1.0])\n",
    "ax.set_xlabel('TNR')\n",
    "ax.set_ylabel('NPV')\n",
    "ax.set_title(\"AUC Score (Test): {0:.4f}\".format(nauc))\n",
    "plt.show()"
   ]
  },
  {
   "cell_type": "code",
   "execution_count": 10,
   "metadata": {},
   "outputs": [
    {
     "data": {
      "text/plain": [
       "(0, 189.20000000000002)"
      ]
     },
     "execution_count": 10,
     "metadata": {},
     "output_type": "execute_result"
    },
    {
     "data": {
      "image/png": "[encoded data removed]",
      "text/plain": [
       "<Figure size 432x288 with 2 Axes>"
      ]
     },
     "metadata": {
      "needs_background": "light"
     },
     "output_type": "display_data"
    }
   ],
   "source": [
    "# Histogram:\n",
    "bins = 50\n",
    "Stable, Unstable = stable_unstable_hist(trainingdatafolder, model, features)\n",
    "\n",
    "fig, ax1 = plt.subplots()\n",
    "n, bins, pathces = ax1.hist(Unstable, bins, alpha=0.5, label='No', color='blue', edgecolor = \"black\")\n",
    "#print(n)\n",
    "ax1.set_xlabel('Predicted Probability', fontsize=14)\n",
    "ax1.set_ylabel('Unstable',  fontsize=14, color='blue')\n",
    "for tl in ax1.get_yticklabels():\n",
    "    tl.set_color('blue')\n",
    "    \n",
    "\n",
    "\n",
    "ax2 = ax1.twinx()\n",
    "n, bins , patches = ax2.hist(Stable, bins, alpha=0.5, label='Yes',color='green', edgecolor = \"black\")\n",
    "#print(n.astype(int))\n",
    "ax2.set_ylabel('Stable', fontsize=14, color='green')\n",
    "for tl in ax2.get_yticklabels():\n",
    "    tl.set_color('green')\n",
    "    \n",
    "    \n",
    "#ax1.set_ylim(ax2.get_ylim())\n",
    "ax1.set_ylim([0,20.1*n[-1]]) # goes up to ~4300\n",
    "ax2.set_ylim([0,1.1*n[-1]]) # goes up to ~2100"
   ]
  },
  {
   "cell_type": "code",
   "execution_count": 11,
   "metadata": {},
   "outputs": [
    {
     "data": {
      "text/plain": [
       "Text(0, 0.5, 'Fraction actually stable')"
      ]
     },
     "execution_count": 11,
     "metadata": {},
     "output_type": "execute_result"
    },
    {
     "data": {
      "image/png": "[encoded data removed]",
      "text/plain": [
       "<Figure size 576x432 with 1 Axes>"
      ]
     },
     "metadata": {
      "needs_background": "light"
     },
     "output_type": "display_data"
    }
   ],
   "source": [
    "bincenters, fracstable, errorbars = calibration_plot(trainingdatafolder, model, features, bins=10)\n",
    "fig, ax = plt.subplots(figsize=(8,6))\n",
    "ax.plot(np.linspace(0,1,100), np.linspace(0,1,100), '--')\n",
    "ax.errorbar(bincenters, fracstable, errorbars)\n",
    "ax.set_xlim([0,1])\n",
    "ax.set_ylim([0,1])\n",
    "ax.set_xlabel('Predicted Probability of Stability')\n",
    "ax.set_ylabel('Fraction actually stable')"
   ]
  },
  {
   "cell_type": "code",
   "execution_count": 24,
   "metadata": {},
   "outputs": [
    {
     "data": {
      "text/plain": [
       "Text(0.5, 1.0, 'Fraction of unstable systems mislabeled as stable')"
      ]
     },
     "execution_count": 24,
     "metadata": {},
     "output_type": "execute_result"
    },
    {
     "data": {
      "image/png": "[encoded data removed]",
      "text/plain": [
       "<Figure size 576x432 with 1 Axes>"
      ]
     },
     "metadata": {
      "needs_background": "light"
     },
     "output_type": "display_data"
    }
   ],
   "source": [
    "bincenters, errorfracs, errorbars = unstable_error_fraction(trainingdatafolder, model, features, bins=10)\n",
    "fig, ax = plt.subplots(figsize=(8,6))\n",
    "ax.errorbar(bincenters, errorfracs, errorbars)\n",
    "ax.set_ylim([0,1])\n",
    "ax.set_xlabel('Log Instability Time')\n",
    "ax.set_ylabel('Error Fraction')\n",
    "ax.set_title('Fraction of unstable systems mislabeled as stable')"
   ]
  },
  {
   "cell_type": "code",
   "execution_count": 13,
   "metadata": {},
   "outputs": [
    {
     "data": {
      "image/png": "[encoded data removed]",
      "text/plain": [
       "<Figure size 864x576 with 1 Axes>"
      ]
     },
     "metadata": {
      "needs_background": "light"
     },
     "output_type": "display_data"
    }
   ],
   "source": [
    "# feature importances\n",
    "feat_imp = pd.Series(model.get_booster().get_fscore()).sort_values(ascending=False)\n",
    "feat_imp.plot(kind='bar', title='Feature Importances', figsize=(12,8))\n",
    "plt.ylabel('Feature Importance Score')\n",
    "plt.show()"
   ]
  },
  {
   "cell_type": "markdown",
   "metadata": {},
   "source": [
    "# things that are just unstable might be very similar to things that are just stable"
   ]
  },
  {
   "cell_type": "markdown",
   "metadata": {},
   "source": [
    "# predict at half a billion, then repredict at half a billion whether you'll be unstable at a billion"
   ]
  },
  {
   "cell_type": "markdown",
   "metadata": {},
   "source": [
    "# do the summary features change with time?"
   ]
  },
  {
   "cell_type": "markdown",
   "metadata": {},
   "source": [
    "# We care about probability it is unstable when we predict unstable. Look at these errors specifically"
   ]
  },
  {
   "cell_type": "code",
   "execution_count": null,
   "metadata": {},
   "outputs": [],
   "source": []
  }
 ],
 "metadata": {
  "anaconda-cloud": {},
  "kernelspec": {
   "display_name": "Python 3",
   "language": "python",
   "name": "python3"
  },
  "language_info": {
   "codemirror_mode": {
    "name": "ipython",
    "version": 3
   },
   "file_extension": ".py",
   "mimetype": "text/x-python",
   "name": "python",
   "nbconvert_exporter": "python",
   "pygments_lexer": "ipython3",
   "version": "3.7.3"
  }
 },
 "nbformat": 4,
 "nbformat_minor": 2
}
