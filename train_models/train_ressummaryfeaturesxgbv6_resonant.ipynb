{
 "cells": [
  {
   "cell_type": "markdown",
   "metadata": {},
   "source": [
    "# Dont' use features that require transform to res variables with celmech in tseries. Almost as good as models that include them"
   ]
  },
  {
   "cell_type": "code",
   "execution_count": 1,
   "metadata": {},
   "outputs": [],
   "source": [
    "import numpy as np\n",
    "import sklearn\n",
    "import matplotlib.pyplot as plt\n",
    "%matplotlib inline\n",
    "import pandas as pd\n",
    "from sklearn import metrics\n",
    "from sklearn.model_selection import cross_val_score\n",
    "from matplotlib import rc\n",
    "from matplotlib import cm\n",
    "from mpl_toolkits.mplot3d import axes3d\n",
    "from matplotlib.ticker import MaxNLocator\n",
    "import scipy.signal\n",
    "import xgboost as xgb\n",
    "from xgboost.sklearn import XGBClassifier\n",
    "from hyperopt import hp, fmin, tpe, STATUS_OK, Trials\n",
    "import dill\n",
    "import sys\n",
    "sys.path.append('../')\n",
    "from modelfitting import train_test_split, ROC_curve, PR_curve, stable_unstable_hist, calibration_plot, unstable_error_fraction"
   ]
  },
  {
   "cell_type": "code",
   "execution_count": 2,
   "metadata": {},
   "outputs": [],
   "source": [
    "datapath = '/mnt/ssd/Dropbox/Dropbox (Princeton)/workspace/stability/MLstability/training_data/'\n",
    "dset = 'resonant/'\n",
    "featurefolder = 'ressummaryfeaturesxgbv5Norbits10000.0Nout1000/'\n",
    "resparamfeatures = ['betanear', 'jnear', 'strengthnear', 'C_AMDnear', 'reshalfwidthnear', 'betafar',\n",
    "                   'jfar', 'strengthfar', 'C_AMDfar', 'reshalfwidthfar', 'betaouter',\n",
    "                    'secondres', 'reshalfwidthouter', 'jouter', 'C_AMDouter']\n",
    "tseriesfeatures = ['EMcrossnear', 'EMcrossfar', 'EMcrossouter', 'strengthouter', \n",
    "       'tlyap', 'megno', 'EMmednear', 'EMmaxnear', 'EMstdnear', 'EMslopenear', 'EMrollingstdnear',\n",
    "       'EPmednear', 'EPmaxnear', 'EPstdnear', 'EPslopenear', 'EProllingstdnear', 'EMmedfar', 'EMmaxfar',\n",
    "       'EMstdfar', 'EMslopefar', 'EMrollingstdfar', 'EPmedfar', 'EPmaxfar', 'EPstdfar', 'EPslopefar',\n",
    "       'EProllingstdfar', 'EMmedouter', 'EMmaxouter', 'EMstdouter', 'AMDerr',\n",
    "       'EMslopeouter', 'EMrollingstdouter', 'EPmedouter', 'EPmaxouter',\n",
    "       'EPstdouter', 'EPslopeouter', 'EProllingstdouter']\n",
    "\n",
    "features = resparamfeatures + tseriesfeatures"
   ]
  },
  {
   "cell_type": "code",
   "execution_count": 3,
   "metadata": {
    "scrolled": true
   },
   "outputs": [],
   "source": [
    "trainingdatafolder = datapath+dset+featurefolder\n",
    "trainX, trainY, testX, testY = train_test_split(trainingdatafolder, features, filter=False)"
   ]
  },
  {
   "cell_type": "code",
   "execution_count": 4,
   "metadata": {},
   "outputs": [
    {
     "data": {
      "text/plain": [
       "(7999, 52)"
      ]
     },
     "execution_count": 4,
     "metadata": {},
     "output_type": "execute_result"
    }
   ],
   "source": [
    "trainX.shape"
   ]
  },
  {
   "cell_type": "code",
   "execution_count": 5,
   "metadata": {},
   "outputs": [
    {
     "data": {
      "text/plain": [
       "Index(['betanear', 'jnear', 'strengthnear', 'C_AMDnear', 'reshalfwidthnear',\n",
       "       'betafar', 'jfar', 'strengthfar', 'C_AMDfar', 'reshalfwidthfar',\n",
       "       'betaouter', 'secondres', 'reshalfwidthouter', 'jouter', 'C_AMDouter',\n",
       "       'EMcrossnear', 'EMcrossfar', 'EMcrossouter', 'strengthouter', 'tlyap',\n",
       "       'megno', 'EMmednear', 'EMmaxnear', 'EMstdnear', 'EMslopenear',\n",
       "       'EMrollingstdnear', 'EPmednear', 'EPmaxnear', 'EPstdnear',\n",
       "       'EPslopenear', 'EProllingstdnear', 'EMmedfar', 'EMmaxfar', 'EMstdfar',\n",
       "       'EMslopefar', 'EMrollingstdfar', 'EPmedfar', 'EPmaxfar', 'EPstdfar',\n",
       "       'EPslopefar', 'EProllingstdfar', 'EMmedouter', 'EMmaxouter',\n",
       "       'EMstdouter', 'AMDerr', 'EMslopeouter', 'EMrollingstdouter',\n",
       "       'EPmedouter', 'EPmaxouter', 'EPstdouter', 'EPslopeouter',\n",
       "       'EProllingstdouter'],\n",
       "      dtype='object')"
      ]
     },
     "execution_count": 5,
     "metadata": {},
     "output_type": "execute_result"
    }
   ],
   "source": [
    "trainX.columns"
   ]
  },
  {
   "cell_type": "code",
   "execution_count": 6,
   "metadata": {},
   "outputs": [
    {
     "name": "stderr",
     "output_type": "stream",
     "text": [
      "/home/dtamayo/miniconda3/envs/ml/lib/python3.7/site-packages/xgboost/core.py:587: FutureWarning: Series.base is deprecated and will be removed in a future version\n",
      "  if getattr(data, 'base', None) is not None and \\\n",
      "/home/dtamayo/miniconda3/envs/ml/lib/python3.7/site-packages/xgboost/core.py:588: FutureWarning: Series.base is deprecated and will be removed in a future version\n",
      "  data.base is not None and isinstance(data, np.ndarray) \\\n"
     ]
    }
   ],
   "source": [
    "space ={\n",
    "        'max_depth': hp.randint('x_max_depth',  20),\n",
    "        'min_child_weight': hp.quniform ('x_min_child', 1, 10, 1),\n",
    "        'subsample': hp.uniform ('x_subsample', 0.8, 1),\n",
    "        'scale_pos_weight': hp.uniform(\"x_pos_weight\", 1, 15),\n",
    "        \"learning_rate\":hp.uniform(\"x_learning_rate\",0.01,0.2),\n",
    "        'colsample_bytree': hp.uniform ('x_tree_colsample', 0.5,1),\n",
    "}\n",
    "\n",
    "dtrain = xgb.DMatrix(trainX, trainY)\n",
    "dtest = xgb.DMatrix(testX, testY)\n",
    "def objective(space):\n",
    "\n",
    "    clf = XGBClassifier(n_estimators = 100, \n",
    "                            max_depth = space['max_depth'], \n",
    "                            min_child_weight =space['min_child_weight'],\n",
    "                            subsample = space['subsample'],\n",
    "                            colsample_bytree =space['colsample_bytree'],\n",
    "                            learning_rate = space['learning_rate'], seed = 0)\n",
    "    \n",
    "    params = clf.get_xgb_params()\n",
    "    #dtest\n",
    "    score = xgb.cv(params, dtrain, nfold = 5, metrics = \"aucpr\", early_stopping_rounds=10)\n",
    "    #print score\n",
    "    #score = cross_val_score(clf, trainX, trainY, cv = 5, scoring=\"average_precision\")\n",
    "    avg_score =  np.mean(score[\"test-aucpr-mean\"])\n",
    "    error = np.mean(score[\"test-aucpr-std\"])\n",
    "    \n",
    "    bst = xgb.train(params, dtrain)\n",
    "    preds = bst.predict(dtest)\n",
    "    precision, recall, thresh = metrics.precision_recall_curve(testY, preds)\n",
    "    test_score = metrics.auc(recall, precision)\n",
    "    \n",
    "    print(\"SCORE:\", avg_score, \"ERROR\", error, \"HOLDOUT SCORE\", test_score)\n",
    "\n",
    "    return{'loss':1-test_score, 'status': STATUS_OK, \"cv_score\":avg_score , \"cv_error\":error, \"holdout\":test_score }"
   ]
  },
  {
   "cell_type": "code",
   "execution_count": 7,
   "metadata": {
    "scrolled": true
   },
   "outputs": [
    {
     "name": "stdout",
     "output_type": "stream",
     "text": [
      "SCORE:                                              \n",
      "0.83249186                                          \n",
      "ERROR                                               \n",
      "0.012534521017745878                                \n",
      "HOLDOUT SCORE                                       \n",
      "0.8728430310810991                                  \n",
      "SCORE:                                                                        \n",
      "0.8362615                                                                     \n",
      "ERROR                                                                         \n",
      "0.011591435976491189                                                          \n",
      "HOLDOUT SCORE                                                                 \n",
      "0.8753080705753983                                                            \n",
      "SCORE:                                                                        \n",
      "0.8276222200000001                                                            \n",
      "ERROR                                                                         \n",
      "0.015606210679202027                                                          \n",
      "HOLDOUT SCORE                                                                 \n",
      "0.877201306887361                                                             \n",
      "SCORE:                                                                        \n",
      "0.80800148                                                                    \n",
      "ERROR                                                                         \n",
      "0.016258493899398378                                                          \n",
      "HOLDOUT SCORE                                                                 \n",
      "0.846463113994011                                                             \n",
      "SCORE:                                                                        \n",
      "0.83787632                                                                    \n",
      "ERROR                                                                         \n",
      "0.011636913386695084                                                          \n",
      "HOLDOUT SCORE                                                                 \n",
      "0.873016183611942                                                             \n",
      "SCORE:                                                                        \n",
      "0.8353162199999999                                                            \n",
      "ERROR                                                                         \n",
      "0.015139711402953514                                                          \n",
      "HOLDOUT SCORE                                                                 \n",
      "0.8759132442451926                                                            \n",
      "SCORE:                                                                        \n",
      "0.8352252000000002                                                            \n",
      "ERROR                                                                         \n",
      "0.0114198912577195                                                            \n",
      "HOLDOUT SCORE                                                                 \n",
      "0.8813066708613715                                                            \n",
      "SCORE:                                                                        \n",
      "0.82955358                                                                    \n",
      "ERROR                                                                         \n",
      "0.011043961199150682                                                          \n",
      "HOLDOUT SCORE                                                                 \n",
      "0.8699571600989554                                                            \n",
      "SCORE:                                                                        \n",
      "0.2572812                                                                     \n",
      "ERROR                                                                         \n",
      "0.0063181281848344924                                                         \n",
      "HOLDOUT SCORE                                                                 \n",
      "0.63525                                                                       \n",
      "SCORE:                                                                        \n",
      "0.8301908200000001                                                            \n",
      "ERROR                                                                         \n",
      "0.015642490867383414                                                          \n",
      "HOLDOUT SCORE                                                                 \n",
      "0.8694248002442063                                                            \n",
      "SCORE:                                                                         \n",
      "0.83793494                                                                     \n",
      "ERROR                                                                          \n",
      "0.009015968545653884                                                           \n",
      "HOLDOUT SCORE                                                                  \n",
      "0.8799096965564617                                                             \n",
      "SCORE:                                                                         \n",
      "0.5782514200000001                                                             \n",
      "ERROR                                                                          \n",
      "0.0335523510465057                                                             \n",
      "HOLDOUT SCORE                                                                  \n",
      "0.7518820240070707                                                             \n",
      "SCORE:                                                                         \n",
      "0.6221898400000001                                                             \n",
      "ERROR                                                                          \n",
      "0.03617662548641777                                                            \n",
      "HOLDOUT SCORE                                                                  \n",
      "0.7662239004955944                                                             \n",
      "SCORE:                                                                         \n",
      "0.8350776200000001                                                             \n",
      "ERROR                                                                          \n",
      "0.013553689913460763                                                           \n",
      "HOLDOUT SCORE                                                                  \n",
      "0.8700094171833682                                                             \n",
      "SCORE:                                                                         \n",
      "0.2572812                                                                      \n",
      "ERROR                                                                          \n",
      "0.0063181281848344924                                                          \n",
      "HOLDOUT SCORE                                                                  \n",
      "0.63525                                                                        \n",
      "SCORE:                                                                         \n",
      "0.83572024                                                                     \n",
      "ERROR                                                                          \n",
      "0.012118363099121121                                                           \n",
      "HOLDOUT SCORE                                                                  \n",
      "0.8765768626682943                                                             \n",
      "SCORE:                                                                         \n",
      "0.8300528399999999                                                             \n",
      "ERROR                                                                          \n",
      "0.009343397930828043                                                           \n",
      "HOLDOUT SCORE                                                                  \n",
      "0.8698300820033185                                                             \n",
      "SCORE:                                                                         \n",
      "0.8366321200000002                                                             \n",
      "ERROR                                                                          \n"
     ]
    },
    {
     "name": "stdout",
     "output_type": "stream",
     "text": [
      "0.0062557919903742775                                                          \n",
      "HOLDOUT SCORE                                                                  \n",
      "0.8675219574503867                                                             \n",
      "SCORE:                                                                         \n",
      "0.82277056                                                                     \n",
      "ERROR                                                                          \n",
      "0.013290727466851874                                                           \n",
      "HOLDOUT SCORE                                                                  \n",
      "0.8584011532634714                                                             \n",
      "SCORE:                                                                         \n",
      "0.8313009200000001                                                             \n",
      "ERROR                                                                          \n",
      "0.007816882434360633                                                           \n",
      "HOLDOUT SCORE                                                                  \n",
      "0.8702755297111836                                                             \n",
      "SCORE:                                                                         \n",
      "0.83687524                                                                     \n",
      "ERROR                                                                          \n",
      "0.014491035270013084                                                           \n",
      "HOLDOUT SCORE                                                                  \n",
      "0.876048771373932                                                              \n",
      "SCORE:                                                                         \n",
      "0.72591992                                                                     \n",
      "ERROR                                                                          \n",
      "0.017893119593547092                                                           \n",
      "HOLDOUT SCORE                                                                  \n",
      "0.8110505063832998                                                             \n",
      "SCORE:                                                                         \n",
      "0.83297498                                                                     \n",
      "ERROR                                                                          \n",
      "0.008651130142100316                                                           \n",
      "HOLDOUT SCORE                                                                  \n",
      "0.8782537871876612                                                             \n",
      "SCORE:                                                                         \n",
      "0.7668991999999999                                                             \n",
      "ERROR                                                                          \n",
      "0.017176921186393163                                                           \n",
      "HOLDOUT SCORE                                                                  \n",
      "0.8278756346233627                                                             \n",
      "SCORE:                                                                         \n",
      "0.8049875799999999                                                             \n",
      "ERROR                                                                          \n",
      "0.018017351505267565                                                           \n",
      "HOLDOUT SCORE                                                                  \n",
      "0.8513461130844072                                                             \n",
      "SCORE:                                                                         \n",
      "0.8353147599999999                                                             \n",
      "ERROR                                                                          \n",
      "0.012733187348033548                                                           \n",
      "HOLDOUT SCORE                                                                  \n",
      "0.8765830770031225                                                             \n",
      "SCORE:                                                                         \n",
      "0.8334951399999999                                                             \n",
      "ERROR                                                                          \n",
      "0.01607725482450758                                                            \n",
      "HOLDOUT SCORE                                                                  \n",
      "0.864604485452294                                                              \n",
      "SCORE:                                                                         \n",
      "0.83818518                                                                     \n",
      "ERROR                                                                          \n",
      "0.0121751031399693                                                             \n",
      "HOLDOUT SCORE                                                                  \n",
      "0.8876276112922711                                                             \n",
      "SCORE:                                                                         \n",
      "0.83801352                                                                     \n",
      "ERROR                                                                          \n",
      "0.013405915541766794                                                           \n",
      "HOLDOUT SCORE                                                                  \n",
      "0.8835050285425493                                                             \n",
      "SCORE:                                                                         \n",
      "0.8379223999999998                                                             \n",
      "ERROR                                                                          \n",
      "0.014797492697195592                                                           \n",
      "HOLDOUT SCORE                                                                  \n",
      "0.88184401665473                                                               \n",
      "SCORE:                                                                         \n",
      "0.8368645000000001                                                             \n",
      "ERROR                                                                          \n",
      "0.0153829740370383                                                             \n",
      "HOLDOUT SCORE                                                                  \n",
      "0.884318571030887                                                              \n",
      "SCORE:                                                                         \n",
      "0.83485598                                                                     \n",
      "ERROR                                                                          \n",
      "0.013734415316640334                                                           \n",
      "HOLDOUT SCORE                                                                  \n",
      "0.8803628051023246                                                             \n",
      "SCORE:                                                                         \n",
      "0.83549004                                                                     \n",
      "ERROR                                                                          \n",
      "0.012222417839390282                                                           \n",
      "HOLDOUT SCORE                                                                  \n",
      "0.8775263687462538                                                             \n",
      "SCORE:                                                                         \n",
      "0.8397076200000001                                                             \n",
      "ERROR                                                                          \n",
      "0.012127054976108147                                                           \n",
      "HOLDOUT SCORE                                                                  \n",
      "0.8812913038636262                                                             \n",
      "SCORE:                                                                         \n",
      "0.8091214399999999                                                             \n",
      "ERROR                                                                          \n"
     ]
    },
    {
     "name": "stdout",
     "output_type": "stream",
     "text": [
      "0.016667177165033933                                                           \n",
      "HOLDOUT SCORE                                                                  \n",
      "0.8591633086824944                                                             \n",
      "SCORE:                                                                         \n",
      "0.83877534                                                                     \n",
      "ERROR                                                                          \n",
      "0.01065526159159254                                                            \n",
      "HOLDOUT SCORE                                                                  \n",
      "0.8790351916097382                                                             \n",
      "SCORE:                                                                         \n",
      "0.7722861                                                                      \n",
      "ERROR                                                                          \n",
      "0.013950671345346522                                                           \n",
      "HOLDOUT SCORE                                                                  \n",
      "0.8311917391816295                                                             \n",
      "SCORE:                                                                         \n",
      "0.8376390199999999                                                             \n",
      "ERROR                                                                          \n",
      "0.014422792888441907                                                           \n",
      "HOLDOUT SCORE                                                                  \n",
      "0.8736166548533937                                                             \n",
      "SCORE:                                                                         \n",
      "0.8418688599999999                                                             \n",
      "ERROR                                                                          \n",
      "0.011595205703207642                                                           \n",
      "HOLDOUT SCORE                                                                  \n",
      "0.8751800302182277                                                             \n",
      "SCORE:                                                                         \n",
      "0.83665252                                                                     \n",
      "ERROR                                                                          \n",
      "0.011353291452166226                                                           \n",
      "HOLDOUT SCORE                                                                  \n",
      "0.8842579128685859                                                             \n",
      "SCORE:                                                                         \n",
      "0.8196541400000001                                                             \n",
      "ERROR                                                                          \n",
      "0.016281355484466672                                                           \n",
      "HOLDOUT SCORE                                                                  \n",
      "0.8688923967729287                                                             \n",
      "SCORE:                                                                         \n",
      "0.83690968                                                                     \n",
      "ERROR                                                                          \n",
      "0.011152240610026305                                                           \n",
      "HOLDOUT SCORE                                                                  \n",
      "0.8784332122282805                                                             \n",
      "SCORE:                                                                         \n",
      "0.8378305000000001                                                             \n",
      "ERROR                                                                          \n",
      "0.011118469881497173                                                           \n",
      "HOLDOUT SCORE                                                                  \n",
      "0.8799216834280017                                                             \n",
      "SCORE:                                                                         \n",
      "0.83550778                                                                     \n",
      "ERROR                                                                          \n",
      "0.014538739081897237                                                           \n",
      "HOLDOUT SCORE                                                                  \n",
      "0.8854651571580389                                                             \n",
      "SCORE:                                                                         \n",
      "0.83810264                                                                     \n",
      "ERROR                                                                          \n",
      "0.01238946558683636                                                            \n",
      "HOLDOUT SCORE                                                                  \n",
      "0.8760475724094203                                                             \n",
      "SCORE:                                                                         \n",
      "0.8349964199999999                                                             \n",
      "ERROR                                                                          \n",
      "0.011854007711577734                                                           \n",
      "HOLDOUT SCORE                                                                  \n",
      "0.8764078503991031                                                             \n",
      "SCORE:                                                                         \n",
      "0.8355258799999999                                                             \n",
      "ERROR                                                                          \n",
      "0.013490472454101732                                                           \n",
      "HOLDOUT SCORE                                                                  \n",
      "0.8790766662874504                                                             \n",
      "SCORE:                                                                         \n",
      "0.8318094200000001                                                             \n",
      "ERROR                                                                          \n",
      "0.013982474676514076                                                           \n",
      "HOLDOUT SCORE                                                                  \n",
      "0.883533383899673                                                              \n",
      "SCORE:                                                                         \n",
      "0.8349847799999999                                                             \n",
      "ERROR                                                                          \n",
      "0.0128623637829054                                                             \n",
      "HOLDOUT SCORE                                                                  \n",
      "0.8713262725712704                                                             \n",
      "SCORE:                                                                         \n",
      "0.83612424                                                                     \n",
      "ERROR                                                                          \n",
      "0.00980974919297973                                                            \n",
      "HOLDOUT SCORE                                                                  \n",
      "0.8776177114582557                                                             \n",
      "100%|██████████| 50/50 [02:30<00:00,  3.35s/it, best loss: 0.11237238870772892]\n",
      "Optimization Time: %f seconds 150.17462611198425\n",
      "CPU times: user 2min 29s, sys: 887 ms, total: 2min 30s\n",
      "Wall time: 2min 30s\n"
     ]
    }
   ],
   "source": [
    "%%time\n",
    "trials = Trials()\n",
    "import time\n",
    "start = time.time()\n",
    "best = fmin(fn=objective, space = space, algo = tpe.suggest, max_evals = 50, trials = trials)\n",
    "end = time.time()\n",
    "print(\"Optimization Time: %f seconds\", (end  -start))"
   ]
  },
  {
   "cell_type": "code",
   "execution_count": 8,
   "metadata": {},
   "outputs": [
    {
     "data": {
      "text/plain": [
       "{'x_learning_rate': 0.17676064963282823,\n",
       " 'x_max_depth': 14,\n",
       " 'x_min_child': 6.0,\n",
       " 'x_pos_weight': 8.22739701968338,\n",
       " 'x_subsample': 0.8813616497496515,\n",
       " 'x_tree_colsample': 0.9907429078496459}"
      ]
     },
     "execution_count": 8,
     "metadata": {},
     "output_type": "execute_result"
    }
   ],
   "source": [
    "best"
   ]
  },
  {
   "cell_type": "code",
   "execution_count": 9,
   "metadata": {},
   "outputs": [
    {
     "name": "stdout",
     "output_type": "stream",
     "text": [
      "[0]\ttrain-aucpr:0.841283+0.00678051\ttest-aucpr:0.752896+0.0134835\n",
      "[1]\ttrain-aucpr:0.904705+0.011332\ttest-aucpr:0.776235+0.0214181\n",
      "[2]\ttrain-aucpr:0.937069+0.00508105\ttest-aucpr:0.796585+0.0181015\n",
      "[3]\ttrain-aucpr:0.948807+0.0056342\ttest-aucpr:0.810516+0.0177991\n",
      "[4]\ttrain-aucpr:0.958673+0.00236981\ttest-aucpr:0.82416+0.0144934\n",
      "[5]\ttrain-aucpr:0.965553+0.00246952\ttest-aucpr:0.832871+0.0185213\n",
      "[6]\ttrain-aucpr:0.970194+0.00356357\ttest-aucpr:0.837455+0.0171249\n",
      "[7]\ttrain-aucpr:0.976198+0.00133082\ttest-aucpr:0.846864+0.0136696\n",
      "[8]\ttrain-aucpr:0.98058+0.00158658\ttest-aucpr:0.853074+0.0139652\n",
      "[9]\ttrain-aucpr:0.984536+0.00122971\ttest-aucpr:0.857466+0.0120864\n",
      "   train-aucpr-mean  train-aucpr-std  test-aucpr-mean  test-aucpr-std\n",
      "0          0.841283         0.006781         0.752896        0.013483\n",
      "1          0.904705         0.011332         0.776235        0.021418\n",
      "2          0.937069         0.005081         0.796585        0.018101\n",
      "3          0.948807         0.005634         0.810516        0.017799\n",
      "4          0.958673         0.002370         0.824160        0.014493\n",
      "5          0.965553         0.002470         0.832871        0.018521\n",
      "6          0.970194         0.003564         0.837455        0.017125\n",
      "7          0.976198         0.001331         0.846864        0.013670\n",
      "8          0.980580         0.001587         0.853074        0.013965\n",
      "9          0.984536         0.001230         0.857466        0.012086\n",
      "0.8698487889034914\n"
     ]
    }
   ],
   "source": [
    "best_xgbc = XGBClassifier(n_estimators=100, scale_pos_weight=best[\"x_pos_weight\"],\n",
    "                         learning_rate = best[\"x_learning_rate\"], \n",
    "                         max_depth = int(best[\"x_max_depth\"]), \n",
    "                         min_child_weight = best[\"x_min_child\"],\n",
    "                         subsample = best[\"x_subsample\"], \n",
    "                         colsample_bytree = best[\"x_tree_colsample\"])\n",
    "params = best_xgbc.get_xgb_params()\n",
    "score = xgb.cv(params, dtrain, nfold = 5, metrics = \"aucpr\", verbose_eval=True)\n",
    "print(score)\n",
    "d_Train = xgb.DMatrix(trainX, trainY)\n",
    "d_Test = xgb.DMatrix(testX)\n",
    "bst = xgb.train(params, d_Train)\n",
    "preds = bst.predict(d_Test)\n",
    "score = metrics.average_precision_score(testY, preds)\n",
    "print(score)"
   ]
  },
  {
   "cell_type": "code",
   "execution_count": 10,
   "metadata": {},
   "outputs": [
    {
     "data": {
      "text/plain": [
       "XGBClassifier(base_score=0.5, booster='gbtree', colsample_bylevel=1,\n",
       "              colsample_bytree=0.9907429078496459, gamma=0,\n",
       "              learning_rate=0.17676064963282823, max_delta_step=0, max_depth=14,\n",
       "              min_child_weight=6.0, missing=None, n_estimators=100, n_jobs=1,\n",
       "              nthread=None, objective='binary:logistic', random_state=0,\n",
       "              reg_alpha=0, reg_lambda=1, scale_pos_weight=8.22739701968338,\n",
       "              seed=None, silent=True, subsample=0.8813616497496515)"
      ]
     },
     "execution_count": 10,
     "metadata": {},
     "output_type": "execute_result"
    }
   ],
   "source": [
    "model = XGBClassifier(n_estimators=100, scale_pos_weight=best[\"x_pos_weight\"],\n",
    "                         learning_rate = best[\"x_learning_rate\"], \n",
    "                         max_depth = int(best[\"x_max_depth\"]), \n",
    "                         min_child_weight = best[\"x_min_child\"],\n",
    "                         subsample = best[\"x_subsample\"], \n",
    "                         colsample_bytree = best[\"x_tree_colsample\"])\n",
    "\n",
    "model.fit(trainX, trainY, eval_metric='aucpr')"
   ]
  },
  {
   "cell_type": "code",
   "execution_count": 14,
   "metadata": {},
   "outputs": [],
   "source": [
    "dill.dump([model, features, featurefolder], open(datapath+\"../models/ressummaryfeaturesxgbv6_resonant.pkl\", \"wb\"))"
   ]
  },
  {
   "cell_type": "code",
   "execution_count": 11,
   "metadata": {},
   "outputs": [
    {
     "data": {
      "text/plain": [
       "Text(0.5, 1.0, 'ROC curve (AUC = 0.958)')"
      ]
     },
     "execution_count": 11,
     "metadata": {},
     "output_type": "execute_result"
    },
    {
     "data": {
      "image/png": "[encoded data removed]",
      "text/plain": [
       "<Figure size 432x288 with 1 Axes>"
      ]
     },
     "metadata": {
      "needs_background": "light"
     },
     "output_type": "display_data"
    }
   ],
   "source": [
    "roc_auc, fpr, tpr, ROCthresholds = ROC_curve(trainingdatafolder, model, features)\n",
    "\n",
    "fig, ax = plt.subplots()\n",
    "ax.plot(fpr, tpr)\n",
    "ax.plot([0, 1], [0, 1], 'k--')\n",
    "ax.set_xlim([0.0, 1.0])\n",
    "ax.set_ylim([0.0, 1.0])\n",
    "ax.set_xlabel('False Positive Rate')\n",
    "ax.set_ylabel('True Positive Rate')\n",
    "ax.set_title('ROC curve (AUC = {0:.3f})'.format(roc_auc))"
   ]
  },
  {
   "cell_type": "code",
   "execution_count": 12,
   "metadata": {},
   "outputs": [
    {
     "name": "stdout",
     "output_type": "stream",
     "text": [
      "Threshold 0.0025950921699404716, recall = 1.0, precision = 0.45964316057774\n",
      "Threshold 0.0029002162627875805, recall = 0.9981515711645101, precision = 0.46471600688468157\n",
      "Threshold 0.0031585462857037783, recall = 0.9981515711645101, precision = 0.4707933740191805\n",
      "Threshold 0.003455215599387884, recall = 0.9963031423290203, precision = 0.47614840989399293\n",
      "Threshold 0.0037140906788408756, recall = 0.9963031423290203, precision = 0.4825425246195166\n",
      "Threshold 0.0043366895988583565, recall = 0.9944547134935305, precision = 0.4882032667876588\n",
      "Threshold 0.004692725371569395, recall = 0.9944547134935305, precision = 0.49494020239190434\n",
      "Threshold 0.005448153242468834, recall = 0.9926062846580407, precision = 0.5009328358208955\n",
      "Threshold 0.006066419649869204, recall = 0.9907578558225508, precision = 0.5070955534531694\n",
      "Threshold 0.0065443129278719425, recall = 0.988909426987061, precision = 0.5134357005758158\n",
      "Threshold 0.007456012535840273, recall = 0.988909426987061, precision = 0.5209347614410905\n",
      "Threshold 0.008742132224142551, recall = 0.988909426987061, precision = 0.5286561264822134\n",
      "Threshold 0.010116144083440304, recall = 0.988909426987061, precision = 0.5366098294884654\n",
      "Threshold 0.01168415229767561, recall = 0.9870609981515711, precision = 0.5437881873727087\n",
      "Threshold 0.013239182531833649, recall = 0.9833641404805915, precision = 0.5501551189245087\n",
      "Threshold 0.016634201630949974, recall = 0.9796672828096118, precision = 0.5567226890756303\n",
      "Threshold 0.019742542877793312, recall = 0.9741219963031423, precision = 0.5624332977588047\n",
      "Threshold 0.024212712422013283, recall = 0.9741219963031423, precision = 0.571583514099783\n",
      "Threshold 0.028495222330093384, recall = 0.9722735674676525, precision = 0.5799338478500551\n",
      "Threshold 0.03334135189652443, recall = 0.966728280961183, precision = 0.5863228699551569\n",
      "Threshold 0.037747349590063095, recall = 0.9630314232902033, precision = 0.5940706955530216\n",
      "Threshold 0.041735682636499405, recall = 0.9593345656192237, precision = 0.6020881670533643\n",
      "Threshold 0.04994227737188339, recall = 0.9593345656192237, precision = 0.6127508854781583\n",
      "Threshold 0.057814352214336395, recall = 0.9537892791127541, precision = 0.6201923076923077\n",
      "Threshold 0.06589463353157043, recall = 0.9537892791127541, precision = 0.631578947368421\n",
      "Threshold 0.0772155374288559, recall = 0.9519408502772643, precision = 0.64214463840399\n",
      "Threshold 0.09417442232370377, recall = 0.9482439926062847, precision = 0.6518424396442185\n",
      "Threshold 0.10844158381223679, recall = 0.944547134935305, precision = 0.6619170984455959\n",
      "Threshold 0.1291370540857315, recall = 0.9390018484288355, precision = 0.6710700132100397\n",
      "Threshold 0.14539401233196259, recall = 0.9371534195933456, precision = 0.683288409703504\n",
      "Threshold 0.16221840679645538, recall = 0.9260628465804066, precision = 0.6891334250343879\n",
      "Threshold 0.1888541728258133, recall = 0.9205175600739371, precision = 0.699438202247191\n",
      "Threshold 0.2235715091228485, recall = 0.9131238447319778, precision = 0.7087517934002869\n",
      "Threshold 0.24217794835567474, recall = 0.9094269870609981, precision = 0.7214076246334311\n",
      "Threshold 0.26500797271728516, recall = 0.9020332717190388, precision = 0.7316341829085458\n",
      "Threshold 0.30635860562324524, recall = 0.8927911275415896, precision = 0.74079754601227\n",
      "Threshold 0.3499389886856079, recall = 0.8872458410351202, precision = 0.7535321821036107\n",
      "Threshold 0.41429603099823, recall = 0.8817005545286506, precision = 0.7668810289389068\n",
      "Threshold 0.4619150757789612, recall = 0.8706099815157117, precision = 0.7759472817133443\n",
      "Threshold 0.5096455812454224, recall = 0.8613678373382625, precision = 0.7871621621621622\n",
      "Threshold 0.5845901370048523, recall = 0.8428835489833642, precision = 0.7902946273830156\n",
      "Threshold 0.6293830275535583, recall = 0.8262476894639557, precision = 0.7953736654804271\n",
      "Threshold 0.6568113565444946, recall = 0.8151571164510166, precision = 0.8062157221206582\n",
      "Threshold 0.7042470574378967, recall = 0.7985212569316081, precision = 0.8120300751879699\n",
      "Threshold 0.7635790109634399, recall = 0.7818853974121996, precision = 0.8181818181818182\n",
      "Threshold 0.804713785648346, recall = 0.7689463955637708, precision = 0.8286852589641435\n",
      "Threshold 0.8326475620269775, recall = 0.7504621072088724, precision = 0.8336755646817249\n",
      "Threshold 0.8551340699195862, recall = 0.7393715341959335, precision = 0.847457627118644\n",
      "Threshold 0.876418948173523, recall = 0.722735674676525, precision = 0.8555798687089715\n",
      "Threshold 0.8943381309509277, recall = 0.7079482439926063, precision = 0.8665158371040724\n",
      "Threshold 0.9059835076332092, recall = 0.6913123844731978, precision = 0.8758782201405152\n",
      "Threshold 0.9156833291053772, recall = 0.6691312384473198, precision = 0.8786407766990292\n",
      "Threshold 0.9345587491989136, recall = 0.6543438077634011, precision = 0.8916876574307305\n",
      "Threshold 0.9443596601486206, recall = 0.6303142329020333, precision = 0.8926701570680629\n",
      "Threshold 0.9531720280647278, recall = 0.6136783733826248, precision = 0.9046321525885559\n",
      "Threshold 0.9607667326927185, recall = 0.5933456561922366, precision = 0.9119318181818182\n",
      "Threshold 0.9661561250686646, recall = 0.5748613678373382, precision = 0.9228486646884273\n",
      "Threshold 0.9704689979553223, recall = 0.5545286506469501, precision = 0.9316770186335404\n",
      "Threshold 0.9752287864685059, recall = 0.532347504621072, precision = 0.9381107491856677\n",
      "Threshold 0.9804208278656006, recall = 0.512014787430684, precision = 0.9486301369863014\n",
      "Threshold 0.9838839173316956, recall = 0.4879852125693161, precision = 0.9530685920577617\n",
      "Threshold 0.986993670463562, recall = 0.46210720887245843, precision = 0.9541984732824428\n",
      "Threshold 0.9907363057136536, recall = 0.43807763401109057, precision = 0.9595141700404858\n",
      "Threshold 0.9924020767211914, recall = 0.41589648798521256, precision = 0.9698275862068966\n",
      "Threshold 0.9935693740844727, recall = 0.3900184842883549, precision = 0.9723502304147466\n",
      "Threshold 0.9951170682907104, recall = 0.36968576709796674, precision = 0.9900990099009901\n",
      "Threshold 0.996006429195404, recall = 0.3438077634011091, precision = 0.9946524064171123\n",
      "Threshold 0.9968655705451965, recall = 0.31608133086876156, precision = 0.9941860465116279\n",
      "Threshold 0.9972796440124512, recall = 0.28835489833641403, precision = 0.9936305732484076\n",
      "Threshold 0.9978783130645752, recall = 0.26062846580406657, precision = 0.9929577464788732\n",
      "Threshold 0.9984074234962463, recall = 0.23475046210720887, precision = 1.0\n",
      "Threshold 0.9987311959266663, recall = 0.20702402957486138, precision = 1.0\n",
      "Threshold 0.999000608921051, recall = 0.17929759704251386, precision = 1.0\n",
      "Threshold 0.999339759349823, recall = 0.15157116451016636, precision = 1.0\n",
      "Threshold 0.9994753003120422, recall = 0.12384473197781885, precision = 1.0\n",
      "Threshold 0.9995988011360168, recall = 0.09611829944547134, precision = 1.0\n",
      "Threshold 0.9997697472572327, recall = 0.06839186691312385, precision = 1.0\n",
      "Threshold 0.9998416900634766, recall = 0.04066543438077634, precision = 1.0\n",
      "Threshold 0.999921441078186, recall = 0.012939001848428836, precision = 1.0\n"
     ]
    }
   ],
   "source": [
    "pr_auc, precision, recall, PRthresholds = PR_curve(trainingdatafolder, model, features)\n",
    "for i in range(0,len(recall), 15):\n",
    "    print(\"Threshold {0}, recall = {1}, precision = {2}\".format(PRthresholds[i], recall[i], precision[i]))"
   ]
  },
  {
   "cell_type": "code",
   "execution_count": 13,
   "metadata": {},
   "outputs": [
    {
     "data": {
      "image/png": "[encoded data removed]",
      "text/plain": [
       "<Figure size 432x288 with 1 Axes>"
      ]
     },
     "metadata": {
      "needs_background": "light"
     },
     "output_type": "display_data"
    }
   ],
   "source": [
    "fig, ax = plt.subplots()\n",
    "ax.plot(recall, precision)\n",
    "ax.set_xlim([0.0, 1.0])\n",
    "ax.set_ylim([0.0, 1.0])\n",
    "ax.set_xlabel('Recall')\n",
    "ax.set_ylabel('Precision')\n",
    "ax.set_title(\"AUC Score (Test): {0:.4f}\".format(pr_auc))\n",
    "plt.show()"
   ]
  },
  {
   "cell_type": "code",
   "execution_count": 48,
   "metadata": {},
   "outputs": [
    {
     "data": {
      "text/plain": [
       "(0, 62.7)"
      ]
     },
     "execution_count": 48,
     "metadata": {},
     "output_type": "execute_result"
    },
    {
     "data": {
      "image/png": "[encoded data removed]",
      "text/plain": [
       "<Figure size 432x288 with 2 Axes>"
      ]
     },
     "metadata": {
      "needs_background": "light"
     },
     "output_type": "display_data"
    }
   ],
   "source": [
    "# Histogram:\n",
    "bins = 50\n",
    "Stable, Unstable = stable_unstable_hist(trainingdatafolder, model, features)\n",
    "\n",
    "fig, ax1 = plt.subplots()\n",
    "n, bins, pathces = ax1.hist(Unstable, bins, alpha=0.5, label='No', color='blue', edgecolor = \"black\")\n",
    "#print(n)\n",
    "ax1.set_xlabel('Predicted Probability', fontsize=14)\n",
    "ax1.set_ylabel('Unstable',  fontsize=14, color='blue')\n",
    "for tl in ax1.get_yticklabels():\n",
    "    tl.set_color('blue')\n",
    "    \n",
    "\n",
    "\n",
    "ax2 = ax1.twinx()\n",
    "n, bins , patches = ax2.hist(Stable, bins, alpha=0.5, label='Yes',color='green', edgecolor = \"black\")\n",
    "#print(n.astype(int))\n",
    "ax2.set_ylabel('Stable', fontsize=14, color='green')\n",
    "for tl in ax2.get_yticklabels():\n",
    "    tl.set_color('green')\n",
    "    \n",
    "    \n",
    "#ax1.set_ylim(ax2.get_ylim())\n",
    "ax1.set_ylim([0,20.1*n[-1]]) # goes up to ~4300\n",
    "ax2.set_ylim([0,1.1*n[-1]]) # goes up to ~2100"
   ]
  },
  {
   "cell_type": "code",
   "execution_count": 50,
   "metadata": {},
   "outputs": [
    {
     "data": {
      "text/plain": [
       "Text(0, 0.5, 'Fraction actually stable')"
      ]
     },
     "execution_count": 50,
     "metadata": {},
     "output_type": "execute_result"
    },
    {
     "data": {
      "image/png": "[encoded data removed]",
      "text/plain": [
       "<Figure size 576x432 with 1 Axes>"
      ]
     },
     "metadata": {
      "needs_background": "light"
     },
     "output_type": "display_data"
    }
   ],
   "source": [
    "bincenters, fracstable, errorbars = calibration_plot(trainingdatafolder, model, features, bins=10)\n",
    "fig, ax = plt.subplots(figsize=(8,6))\n",
    "ax.plot(np.linspace(0,1,100), np.linspace(0,1,100), '--')\n",
    "ax.errorbar(bincenters, fracstable, errorbars)\n",
    "ax.set_xlim([0,1])\n",
    "ax.set_ylim([0,1])\n",
    "ax.set_xlabel('Predicted Probability of Stability')\n",
    "ax.set_ylabel('Fraction actually stable')"
   ]
  },
  {
   "cell_type": "code",
   "execution_count": 51,
   "metadata": {},
   "outputs": [
    {
     "data": {
      "text/plain": [
       "Text(0.5, 1.0, 'Fraction of unstable systems mislabeled as stable')"
      ]
     },
     "execution_count": 51,
     "metadata": {},
     "output_type": "execute_result"
    },
    {
     "data": {
      "image/png": "[encoded data removed]",
      "text/plain": [
       "<Figure size 576x432 with 1 Axes>"
      ]
     },
     "metadata": {
      "needs_background": "light"
     },
     "output_type": "display_data"
    }
   ],
   "source": [
    "bincenters, errorfracs, errorbars = unstable_error_fraction(trainingdatafolder, model, features, bins=10)\n",
    "fig, ax = plt.subplots(figsize=(8,6))\n",
    "ax.errorbar(bincenters, errorfracs, errorbars)\n",
    "ax.set_ylim([0,1])\n",
    "ax.set_xlabel('Log Instability Time')\n",
    "ax.set_ylabel('Error Fraction')\n",
    "ax.set_title('Fraction of unstable systems mislabeled as stable')"
   ]
  },
  {
   "cell_type": "code",
   "execution_count": 52,
   "metadata": {},
   "outputs": [
    {
     "data": {
      "image/png": "[encoded data removed]",
      "text/plain": [
       "<Figure size 864x576 with 1 Axes>"
      ]
     },
     "metadata": {
      "needs_background": "light"
     },
     "output_type": "display_data"
    }
   ],
   "source": [
    "# feature importances\n",
    "feat_imp = pd.Series(model.get_booster().get_fscore()).sort_values(ascending=False)\n",
    "feat_imp.plot(kind='bar', title='Feature Importances', figsize=(12,8))\n",
    "plt.ylabel('Feature Importance Score')\n",
    "plt.show()"
   ]
  },
  {
   "cell_type": "markdown",
   "metadata": {},
   "source": [
    "# things that are just unstable might be very similar to things that are just stable"
   ]
  },
  {
   "cell_type": "markdown",
   "metadata": {},
   "source": [
    "# predict at half a billion, then repredict at half a billion whether you'll be unstable at a billion"
   ]
  },
  {
   "cell_type": "markdown",
   "metadata": {},
   "source": [
    "# do the summary features change with time?"
   ]
  },
  {
   "cell_type": "markdown",
   "metadata": {},
   "source": [
    "# We care about probability it is unstable when we predict unstable. Look at these errors specifically"
   ]
  },
  {
   "cell_type": "code",
   "execution_count": null,
   "metadata": {},
   "outputs": [],
   "source": []
  }
 ],
 "metadata": {
  "anaconda-cloud": {},
  "kernelspec": {
   "display_name": "Python 3",
   "language": "python",
   "name": "python3"
  },
  "language_info": {
   "codemirror_mode": {
    "name": "ipython",
    "version": 3
   },
   "file_extension": ".py",
   "mimetype": "text/x-python",
   "name": "python",
   "nbconvert_exporter": "python",
   "pygments_lexer": "ipython3",
   "version": "3.7.3"
  }
 },
 "nbformat": 4,
 "nbformat_minor": 2
}
