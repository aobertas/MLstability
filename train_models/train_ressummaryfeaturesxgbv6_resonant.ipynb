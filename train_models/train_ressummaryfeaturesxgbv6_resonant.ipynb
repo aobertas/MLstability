{
 "cells": [
  {
   "cell_type": "markdown",
   "metadata": {},
   "source": [
    "# Dont' use features that require transform to res variables with celmech in tseries. Almost as good as models that include them"
   ]
  },
  {
   "cell_type": "code",
   "execution_count": 1,
   "metadata": {},
   "outputs": [],
   "source": [
    "import numpy as np\n",
    "import sklearn\n",
    "import matplotlib.pyplot as plt\n",
    "%matplotlib inline\n",
    "import pandas as pd\n",
    "from sklearn import metrics\n",
    "from sklearn.model_selection import cross_val_score\n",
    "from matplotlib import rc\n",
    "from matplotlib import cm\n",
    "from mpl_toolkits.mplot3d import axes3d\n",
    "from matplotlib.ticker import MaxNLocator\n",
    "import scipy.signal\n",
    "import xgboost as xgb\n",
    "from xgboost.sklearn import XGBClassifier\n",
    "from hyperopt import hp, fmin, tpe, STATUS_OK, Trials\n",
    "import dill\n",
    "import sys\n",
    "sys.path.append('../')\n",
    "from modelfitting import train_test_split, ROC_curve, PR_curve, stable_unstable_hist, calibration_plot, unstable_error_fraction"
   ]
  },
  {
   "cell_type": "code",
   "execution_count": 25,
   "metadata": {},
   "outputs": [],
   "source": [
    "datapath = '/mnt/ssd/Dropbox/Dropbox (Princeton)/workspace/stability/MLstability/training_data/'\n",
    "dset = 'resonant/'\n",
    "featurefolder = 'ressummaryfeaturesxgbv6Norbits10000.0Nout1000/'\n",
    "resparamfeatures = ['betanear', 'jnear', 'strengthnear', 'C_AMDnear', 'reshalfwidthnear', 'betafar',\n",
    "                   'jfar', 'strengthfar', 'C_AMDfar', 'reshalfwidthfar', 'betaouter',\n",
    "                    'secondres', 'reshalfwidthouter', 'jouter', 'C_AMDouter']\n",
    "tseriesfeatures = ['EMcrossnear', 'EMcrossfar', 'EMcrossouter', 'strengthouter', \n",
    "       'tlyap', 'megno', 'EMmednear', 'EMmaxnear', 'EMstdnear', 'EMslopenear', 'EMrollingstdnear',\n",
    "       'EPmednear', 'EPmaxnear', 'EPstdnear', 'EPslopenear', 'EProllingstdnear', 'EMmedfar', 'EMmaxfar',\n",
    "       'EMstdfar', 'EMslopefar', 'EMrollingstdfar', 'EPmedfar', 'EPmaxfar', 'EPstdfar', 'EPslopefar',\n",
    "       'EProllingstdfar', 'EMmedouter', 'EMmaxouter', 'EMstdouter', 'AMDerr',\n",
    "       'EMslopeouter', 'EMrollingstdouter', 'EPmedouter', 'EPmaxouter',\n",
    "       'EPstdouter', 'EPslopeouter', 'EProllingstdouter']\n",
    "\n",
    "features = resparamfeatures + tseriesfeatures"
   ]
  },
  {
   "cell_type": "code",
   "execution_count": 26,
   "metadata": {
    "scrolled": true
   },
   "outputs": [],
   "source": [
    "trainingdatafolder = datapath+dset+featurefolder\n",
    "trainX, trainY, testX, testY = train_test_split(trainingdatafolder, features, filter=False)"
   ]
  },
  {
   "cell_type": "code",
   "execution_count": 27,
   "metadata": {},
   "outputs": [
    {
     "data": {
      "text/plain": [
       "(7999, 52)"
      ]
     },
     "execution_count": 27,
     "metadata": {},
     "output_type": "execute_result"
    }
   ],
   "source": [
    "trainX.shape"
   ]
  },
  {
   "cell_type": "code",
   "execution_count": 28,
   "metadata": {},
   "outputs": [
    {
     "data": {
      "text/plain": [
       "Index(['betanear', 'jnear', 'strengthnear', 'C_AMDnear', 'reshalfwidthnear',\n",
       "       'betafar', 'jfar', 'strengthfar', 'C_AMDfar', 'reshalfwidthfar',\n",
       "       'betaouter', 'secondres', 'reshalfwidthouter', 'jouter', 'C_AMDouter',\n",
       "       'EMcrossnear', 'EMcrossfar', 'EMcrossouter', 'strengthouter', 'tlyap',\n",
       "       'megno', 'EMmednear', 'EMmaxnear', 'EMstdnear', 'EMslopenear',\n",
       "       'EMrollingstdnear', 'EPmednear', 'EPmaxnear', 'EPstdnear',\n",
       "       'EPslopenear', 'EProllingstdnear', 'EMmedfar', 'EMmaxfar', 'EMstdfar',\n",
       "       'EMslopefar', 'EMrollingstdfar', 'EPmedfar', 'EPmaxfar', 'EPstdfar',\n",
       "       'EPslopefar', 'EProllingstdfar', 'EMmedouter', 'EMmaxouter',\n",
       "       'EMstdouter', 'AMDerr', 'EMslopeouter', 'EMrollingstdouter',\n",
       "       'EPmedouter', 'EPmaxouter', 'EPstdouter', 'EPslopeouter',\n",
       "       'EProllingstdouter'],\n",
       "      dtype='object')"
      ]
     },
     "execution_count": 28,
     "metadata": {},
     "output_type": "execute_result"
    }
   ],
   "source": [
    "trainX.columns"
   ]
  },
  {
   "cell_type": "code",
   "execution_count": 29,
   "metadata": {},
   "outputs": [
    {
     "name": "stderr",
     "output_type": "stream",
     "text": [
      "/home/dtamayo/miniconda3/envs/ml/lib/python3.7/site-packages/xgboost/core.py:587: FutureWarning: Series.base is deprecated and will be removed in a future version\n",
      "  if getattr(data, 'base', None) is not None and \\\n",
      "/home/dtamayo/miniconda3/envs/ml/lib/python3.7/site-packages/xgboost/core.py:588: FutureWarning: Series.base is deprecated and will be removed in a future version\n",
      "  data.base is not None and isinstance(data, np.ndarray) \\\n"
     ]
    }
   ],
   "source": [
    "space ={\n",
    "        'max_depth': hp.randint('x_max_depth',  20),\n",
    "        'min_child_weight': hp.quniform ('x_min_child', 1, 10, 1),\n",
    "        'subsample': hp.uniform ('x_subsample', 0.8, 1),\n",
    "        'scale_pos_weight': hp.uniform(\"x_pos_weight\", 1, 15),\n",
    "        \"learning_rate\":hp.uniform(\"x_learning_rate\",0.01,0.2),\n",
    "        'colsample_bytree': hp.uniform ('x_tree_colsample', 0.5,1),\n",
    "}\n",
    "\n",
    "dtrain = xgb.DMatrix(trainX, trainY)\n",
    "dtest = xgb.DMatrix(testX, testY)\n",
    "def objective(space):\n",
    "\n",
    "    clf = XGBClassifier(n_estimators = 100, \n",
    "                            max_depth = space['max_depth'], \n",
    "                            min_child_weight =space['min_child_weight'],\n",
    "                            subsample = space['subsample'],\n",
    "                            colsample_bytree =space['colsample_bytree'],\n",
    "                            learning_rate = space['learning_rate'], seed = 0)\n",
    "    \n",
    "    params = clf.get_xgb_params()\n",
    "    #dtest\n",
    "    score = xgb.cv(params, dtrain, nfold = 5, metrics = \"aucpr\", early_stopping_rounds=10)\n",
    "    #print score\n",
    "    #score = cross_val_score(clf, trainX, trainY, cv = 5, scoring=\"average_precision\")\n",
    "    avg_score =  np.mean(score[\"test-aucpr-mean\"])\n",
    "    error = np.mean(score[\"test-aucpr-std\"])\n",
    "    \n",
    "    bst = xgb.train(params, dtrain)\n",
    "    preds = bst.predict(dtest)\n",
    "    precision, recall, thresh = metrics.precision_recall_curve(testY, preds)\n",
    "    test_score = metrics.auc(recall, precision)\n",
    "    \n",
    "    print(\"SCORE:\", avg_score, \"ERROR\", error, \"HOLDOUT SCORE\", test_score)\n",
    "\n",
    "    return{'loss':1-test_score, 'status': STATUS_OK, \"cv_score\":avg_score , \"cv_error\":error, \"holdout\":test_score }"
   ]
  },
  {
   "cell_type": "code",
   "execution_count": 8,
   "metadata": {
    "scrolled": true
   },
   "outputs": [
    {
     "name": "stdout",
     "output_type": "stream",
     "text": [
      "SCORE:                                              \n",
      "0.83750088                                          \n",
      "ERROR                                               \n",
      "0.014059086541910928                                \n",
      "HOLDOUT SCORE                                       \n",
      "0.8719830466566145                                  \n",
      "SCORE:                                                                        \n",
      "0.8318989200000001                                                            \n",
      "ERROR                                                                         \n",
      "0.012595104951192043                                                          \n",
      "HOLDOUT SCORE                                                                 \n",
      "0.8739342057027562                                                            \n",
      "SCORE:                                                                        \n",
      "0.8186541199999999                                                            \n",
      "ERROR                                                                         \n",
      "0.009105021690510761                                                          \n",
      "HOLDOUT SCORE                                                                 \n",
      "0.8653173237166608                                                            \n",
      "SCORE:                                                                        \n",
      "0.83254936                                                                    \n",
      "ERROR                                                                         \n",
      "0.013180368138177991                                                          \n",
      "HOLDOUT SCORE                                                                 \n",
      "0.888029256260494                                                             \n",
      "SCORE:                                                                        \n",
      "0.81955858                                                                  \n",
      "ERROR                                                                       \n",
      "0.011758303935161283                                                        \n",
      "HOLDOUT SCORE                                                               \n",
      "0.8541063176700474                                                          \n",
      "SCORE:                                                                      \n",
      "0.68808282                                                                  \n",
      "ERROR                                                                       \n",
      "0.021234686058183204                                                        \n",
      "HOLDOUT SCORE                                                               \n",
      "0.778055232911035                                                           \n",
      "SCORE:                                                                      \n",
      "0.83308266                                                                  \n",
      "ERROR                                                                       \n",
      "0.013634014422209453                                                        \n",
      "HOLDOUT SCORE                                                               \n",
      "0.8723808911320936                                                          \n",
      "SCORE:                                                                      \n",
      "0.8293828                                                                   \n",
      "ERROR                                                                       \n",
      "0.008903422625180861                                                        \n",
      "HOLDOUT SCORE                                                               \n",
      "0.8703367101146691                                                          \n",
      "SCORE:                                                                      \n",
      "0.2572812                                                                   \n",
      "ERROR                                                                       \n",
      "0.0063181281848344924                                                       \n",
      "HOLDOUT SCORE                                                               \n",
      "0.63525                                                                     \n",
      "SCORE:                                                                      \n",
      "0.8389044999999999                                                          \n",
      "ERROR                                                                       \n",
      "0.010865346032012283                                                        \n",
      "HOLDOUT SCORE                                                               \n",
      "0.8782101907023945                                                          \n",
      "SCORE:                                                                       \n",
      "0.81282192                                                                   \n",
      "ERROR                                                                        \n",
      "0.01268707868779106                                                          \n",
      "HOLDOUT SCORE                                                                \n",
      "0.8612137593022662                                                           \n",
      "SCORE:                                                                       \n",
      "0.83160162                                                                   \n",
      "ERROR                                                                        \n",
      "0.011258792466487389                                                         \n",
      "HOLDOUT SCORE                                                                \n",
      "0.8740265258441627                                                           \n",
      "SCORE:                                                                       \n",
      "0.8337787999999999                                                           \n",
      "ERROR                                                                        \n",
      "0.015674612181098727                                                         \n",
      "HOLDOUT SCORE                                                                \n",
      "0.8637131462158676                                                           \n",
      "SCORE:                                                                       \n",
      "0.83084668                                                                   \n",
      "ERROR                                                                        \n",
      "0.012298303587038237                                                         \n",
      "HOLDOUT SCORE                                                                \n",
      "0.8624393801675196                                                           \n",
      "SCORE:                                                                       \n",
      "0.76028232                                                                   \n",
      "ERROR                                                                        \n",
      "0.014784135165111631                                                         \n",
      "HOLDOUT SCORE                                                                \n",
      "0.8275748277749004                                                           \n",
      "SCORE:                                                                       \n",
      "0.82705874                                                                   \n",
      "ERROR                                                                        \n",
      "0.010128791691862225                                                         \n",
      "HOLDOUT SCORE                                                                \n",
      "0.8743174812377398                                                           \n",
      "SCORE:                                                                       \n",
      "0.8309021400000001                                                           \n",
      "ERROR                                                                        \n",
      "0.014591046596046823                                                         \n",
      "HOLDOUT SCORE                                                                \n",
      "0.868711052542709                                                            \n",
      "SCORE:                                                                       \n",
      "0.70806912                                                                   \n",
      "ERROR                                                                        \n",
      "0.01977072789492675                                                          \n",
      "HOLDOUT SCORE                                                                \n"
     ]
    },
    {
     "name": "stdout",
     "output_type": "stream",
     "text": [
      "0.7820765709218788                                                           \n",
      "SCORE:                                                                       \n",
      "0.7398939999999999                                                           \n",
      "ERROR                                                                        \n",
      "0.021213995386989922                                                         \n",
      "HOLDOUT SCORE                                                                \n",
      "0.8101327596677907                                                           \n",
      "SCORE:                                                                       \n",
      "0.82672986                                                                   \n",
      "ERROR                                                                        \n",
      "0.007510467712392039                                                         \n",
      "HOLDOUT SCORE                                                                \n",
      "0.8764128089398726                                                           \n",
      "SCORE:                                                                       \n",
      "0.83228846                                                                   \n",
      "ERROR                                                                        \n",
      "0.012217811756399525                                                         \n",
      "HOLDOUT SCORE                                                                \n",
      "0.8715253989709647                                                           \n",
      "SCORE:                                                                       \n",
      "0.8311833999999999                                                           \n",
      "ERROR                                                                        \n",
      "0.016076388575073763                                                         \n",
      "HOLDOUT SCORE                                                                \n",
      "0.8775260851634032                                                           \n",
      "SCORE:                                                                       \n",
      "0.8301511999999999                                                           \n",
      "ERROR                                                                        \n",
      "0.012218759071628962                                                         \n",
      "HOLDOUT SCORE                                                                \n",
      "0.8750544732704059                                                           \n",
      "SCORE:                                                                       \n",
      "0.8346008599999999                                                           \n",
      "ERROR                                                                        \n",
      "0.011134509698493071                                                         \n",
      "HOLDOUT SCORE                                                                \n",
      "0.8888830337006891                                                           \n",
      "SCORE:                                                                        \n",
      "0.8376994200000001                                                            \n",
      "ERROR                                                                         \n",
      "0.01329838913725583                                                           \n",
      "HOLDOUT SCORE                                                                 \n",
      "0.8852006435649757                                                            \n",
      "SCORE:                                                                        \n",
      "0.60991816                                                                    \n",
      "ERROR                                                                         \n",
      "0.021258188805125984                                                          \n",
      "HOLDOUT SCORE                                                                 \n",
      "0.7600186032132707                                                            \n",
      "SCORE:                                                                        \n",
      "0.78630226                                                                    \n",
      "ERROR                                                                         \n",
      "0.014930760740421328                                                          \n",
      "HOLDOUT SCORE                                                                 \n",
      "0.847356631064383                                                             \n",
      "SCORE:                                                                        \n",
      "0.8320932600000001                                                            \n",
      "ERROR                                                                         \n",
      "0.009507837957916113                                                          \n",
      "HOLDOUT SCORE                                                                 \n",
      "0.8787989684405662                                                            \n",
      "SCORE:                                                                        \n",
      "0.8376070800000001                                                            \n",
      "ERROR                                                                         \n",
      "0.010990817566565851                                                          \n",
      "HOLDOUT SCORE                                                                 \n",
      "0.8825377214773578                                                            \n",
      "SCORE:                                                                        \n",
      "0.83961544                                                                    \n",
      "ERROR                                                                         \n",
      "0.010149595856093308                                                          \n",
      "HOLDOUT SCORE                                                                 \n",
      "0.8822886810228951                                                            \n",
      "SCORE:                                                                        \n",
      "0.81300954                                                                    \n",
      "ERROR                                                                         \n",
      "0.014820786982675038                                                          \n",
      "HOLDOUT SCORE                                                                 \n",
      "0.867601436080696                                                             \n",
      "SCORE:                                                                        \n",
      "0.82298774                                                                    \n",
      "ERROR                                                                         \n",
      "0.009793513953287914                                                          \n",
      "HOLDOUT SCORE                                                                 \n",
      "0.8666384672674634                                                            \n",
      "SCORE:                                                                        \n",
      "0.8361827                                                                     \n",
      "ERROR                                                                         \n",
      "0.00968808071610511                                                           \n",
      "HOLDOUT SCORE                                                                 \n",
      "0.8757974818466217                                                            \n",
      "SCORE:                                                                        \n",
      "0.8375617199999998                                                            \n",
      "ERROR                                                                         \n",
      "0.012058969015912552                                                          \n",
      "HOLDOUT SCORE                                                                 \n",
      "0.886720767252562                                                             \n",
      "SCORE:                                                                        \n",
      "0.83304256                                                                    \n",
      "ERROR                                                                         \n",
      "0.006943348645635584                                                          \n",
      "HOLDOUT SCORE                                                                 \n",
      "0.8719390444665728                                                            \n",
      "SCORE:                                                                        \n"
     ]
    },
    {
     "name": "stdout",
     "output_type": "stream",
     "text": [
      "0.83736448                                                                    \n",
      "ERROR                                                                         \n",
      "0.00994279889832708                                                           \n",
      "HOLDOUT SCORE                                                                 \n",
      "0.8740818515810932                                                            \n",
      "SCORE:                                                                        \n",
      "0.8282872400000001                                                            \n",
      "ERROR                                                                         \n",
      "0.01417979206888135                                                           \n",
      "HOLDOUT SCORE                                                                 \n",
      "0.8728287458003441                                                            \n",
      "SCORE:                                                                        \n",
      "0.8329751                                                                     \n",
      "ERROR                                                                         \n",
      "0.008858249796732751                                                          \n",
      "HOLDOUT SCORE                                                                 \n",
      "0.8798095168176194                                                            \n",
      "SCORE:                                                                        \n",
      "0.2572812                                                                     \n",
      "ERROR                                                                         \n",
      "0.0063181281848344924                                                         \n",
      "HOLDOUT SCORE                                                                 \n",
      "0.63525                                                                       \n",
      "SCORE:                                                                        \n",
      "0.7979213399999999                                                            \n",
      "ERROR                                                                         \n",
      "0.015684958865996128                                                          \n",
      "HOLDOUT SCORE                                                                 \n",
      "0.8472201896062045                                                            \n",
      "SCORE:                                                                        \n",
      "0.8418496                                                                     \n",
      "ERROR                                                                         \n",
      "0.01264737224041031                                                           \n",
      "HOLDOUT SCORE                                                                 \n",
      "0.879113009548203                                                             \n",
      "SCORE:                                                                        \n",
      "0.8352869400000001                                                            \n",
      "ERROR                                                                         \n",
      "0.008360633954719976                                                          \n",
      "HOLDOUT SCORE                                                                 \n",
      "0.8712067673684005                                                            \n",
      "SCORE:                                                                        \n",
      "0.83389642                                                                    \n",
      "ERROR                                                                         \n",
      "0.010647995894712419                                                          \n",
      "HOLDOUT SCORE                                                                 \n",
      "0.870537670553442                                                             \n",
      "SCORE:                                                                        \n",
      "0.823887                                                                      \n",
      "ERROR                                                                         \n",
      "0.014322393162428265                                                          \n",
      "HOLDOUT SCORE                                                                 \n",
      "0.8709272269511125                                                            \n",
      "SCORE:                                                                        \n",
      "0.6019743                                                                     \n",
      "ERROR                                                                         \n",
      "0.025873112038382596                                                          \n",
      "HOLDOUT SCORE                                                                 \n",
      "0.7507817403479841                                                            \n",
      "SCORE:                                                                        \n",
      "0.8326269399999999                                                            \n",
      "ERROR                                                                         \n",
      "0.012054614370081207                                                          \n",
      "HOLDOUT SCORE                                                                 \n",
      "0.8797566699568671                                                            \n",
      "SCORE:                                                                        \n",
      "0.8382462800000001                                                            \n",
      "ERROR                                                                         \n",
      "0.014350922510726422                                                          \n",
      "HOLDOUT SCORE                                                                 \n",
      "0.884270619816475                                                             \n",
      "SCORE:                                                                        \n",
      "0.7058920599999999                                                            \n",
      "ERROR                                                                         \n",
      "0.022415700448429488                                                          \n",
      "HOLDOUT SCORE                                                                 \n",
      "0.7867425501023889                                                            \n",
      "SCORE:                                                                        \n",
      "0.8150316400000002                                                            \n",
      "ERROR                                                                         \n",
      "0.014068887773473301                                                          \n",
      "HOLDOUT SCORE                                                                 \n",
      "0.8594663410547624                                                            \n",
      "SCORE:                                                                        \n",
      "0.8248442599999999                                                            \n",
      "ERROR                                                                         \n",
      "0.011145309961529962                                                          \n",
      "HOLDOUT SCORE                                                                 \n",
      "0.8688650821824011                                                            \n",
      "100%|██████████| 50/50 [02:18<00:00,  2.53s/it, best loss: 0.1111169662993109]\n",
      "Optimization Time: %f seconds 138.58096170425415\n",
      "CPU times: user 2min 17s, sys: 934 ms, total: 2min 18s\n",
      "Wall time: 2min 18s\n"
     ]
    }
   ],
   "source": [
    "%%time\n",
    "trials = Trials()\n",
    "import time\n",
    "start = time.time()\n",
    "best = fmin(fn=objective, space = space, algo = tpe.suggest, max_evals = 50, trials = trials)\n",
    "end = time.time()\n",
    "print(\"Optimization Time: %f seconds\", (end  -start))"
   ]
  },
  {
   "cell_type": "code",
   "execution_count": 9,
   "metadata": {},
   "outputs": [
    {
     "data": {
      "text/plain": [
       "{'x_learning_rate': 0.17832643520601693,\n",
       " 'x_max_depth': 16,\n",
       " 'x_min_child': 6.0,\n",
       " 'x_pos_weight': 14.037240652488686,\n",
       " 'x_subsample': 0.9984912784752125,\n",
       " 'x_tree_colsample': 0.9953671794157032}"
      ]
     },
     "execution_count": 9,
     "metadata": {},
     "output_type": "execute_result"
    }
   ],
   "source": [
    "best"
   ]
  },
  {
   "cell_type": "code",
   "execution_count": 10,
   "metadata": {},
   "outputs": [
    {
     "name": "stdout",
     "output_type": "stream",
     "text": [
      "[0]\ttrain-aucpr:0.837586+0.0128853\ttest-aucpr:0.730837+0.017054\n",
      "[1]\ttrain-aucpr:0.902433+0.0108747\ttest-aucpr:0.762664+0.0166592\n",
      "[2]\ttrain-aucpr:0.92616+0.0126319\ttest-aucpr:0.787985+0.0184324\n",
      "[3]\ttrain-aucpr:0.948391+0.0120764\ttest-aucpr:0.804103+0.0173957\n",
      "[4]\ttrain-aucpr:0.960536+0.00869647\ttest-aucpr:0.812125+0.0166902\n",
      "[5]\ttrain-aucpr:0.968811+0.0055783\ttest-aucpr:0.822654+0.0174609\n",
      "[6]\ttrain-aucpr:0.974615+0.00505891\ttest-aucpr:0.824881+0.0205577\n",
      "[7]\ttrain-aucpr:0.980237+0.0029007\ttest-aucpr:0.830612+0.0198443\n",
      "[8]\ttrain-aucpr:0.984276+0.0024211\ttest-aucpr:0.835076+0.0201407\n",
      "[9]\ttrain-aucpr:0.988311+0.00159517\ttest-aucpr:0.843052+0.0175203\n",
      "   train-aucpr-mean  train-aucpr-std  test-aucpr-mean  test-aucpr-std\n",
      "0          0.837586         0.012885         0.730837        0.017054\n",
      "1          0.902433         0.010875         0.762664        0.016659\n",
      "2          0.926160         0.012632         0.787985        0.018432\n",
      "3          0.948391         0.012076         0.804103        0.017396\n",
      "4          0.960536         0.008696         0.812125        0.016690\n",
      "5          0.968811         0.005578         0.822654        0.017461\n",
      "6          0.974615         0.005059         0.824881        0.020558\n",
      "7          0.980237         0.002901         0.830612        0.019844\n",
      "8          0.984276         0.002421         0.835076        0.020141\n",
      "9          0.988311         0.001595         0.843052        0.017520\n",
      "0.8689863282155507\n"
     ]
    }
   ],
   "source": [
    "best_xgbc = XGBClassifier(n_estimators=100, scale_pos_weight=best[\"x_pos_weight\"],\n",
    "                         learning_rate = best[\"x_learning_rate\"], \n",
    "                         max_depth = int(best[\"x_max_depth\"]), \n",
    "                         min_child_weight = best[\"x_min_child\"],\n",
    "                         subsample = best[\"x_subsample\"], \n",
    "                         colsample_bytree = best[\"x_tree_colsample\"])\n",
    "params = best_xgbc.get_xgb_params()\n",
    "score = xgb.cv(params, dtrain, nfold = 5, metrics = \"aucpr\", verbose_eval=True)\n",
    "print(score)\n",
    "d_Train = xgb.DMatrix(trainX, trainY)\n",
    "d_Test = xgb.DMatrix(testX)\n",
    "bst = xgb.train(params, d_Train)\n",
    "preds = bst.predict(d_Test)\n",
    "score = metrics.average_precision_score(testY, preds)\n",
    "print(score)"
   ]
  },
  {
   "cell_type": "code",
   "execution_count": 11,
   "metadata": {},
   "outputs": [
    {
     "data": {
      "text/plain": [
       "XGBClassifier(base_score=0.5, booster='gbtree', colsample_bylevel=1,\n",
       "              colsample_bytree=0.9953671794157032, gamma=0,\n",
       "              learning_rate=0.17832643520601693, max_delta_step=0, max_depth=16,\n",
       "              min_child_weight=6.0, missing=None, n_estimators=100, n_jobs=1,\n",
       "              nthread=None, objective='binary:logistic', random_state=0,\n",
       "              reg_alpha=0, reg_lambda=1, scale_pos_weight=14.037240652488686,\n",
       "              seed=None, silent=True, subsample=0.9984912784752125)"
      ]
     },
     "execution_count": 11,
     "metadata": {},
     "output_type": "execute_result"
    }
   ],
   "source": [
    "model = XGBClassifier(n_estimators=100, scale_pos_weight=best[\"x_pos_weight\"],\n",
    "                         learning_rate = best[\"x_learning_rate\"], \n",
    "                         max_depth = int(best[\"x_max_depth\"]), \n",
    "                         min_child_weight = best[\"x_min_child\"],\n",
    "                         subsample = best[\"x_subsample\"], \n",
    "                         colsample_bytree = best[\"x_tree_colsample\"])\n",
    "\n",
    "model.fit(trainX, trainY, eval_metric='aucpr')"
   ]
  },
  {
   "cell_type": "code",
   "execution_count": 15,
   "metadata": {},
   "outputs": [],
   "source": [
    "dill.dump([model, features, featurefolder], open(datapath+\"../models/ressummaryfeaturesxgbv6_resonant.pkl\", \"wb\"))"
   ]
  },
  {
   "cell_type": "code",
   "execution_count": 12,
   "metadata": {},
   "outputs": [
    {
     "data": {
      "text/plain": [
       "Text(0.5, 1.0, 'ROC curve (AUC = 0.958)')"
      ]
     },
     "execution_count": 12,
     "metadata": {},
     "output_type": "execute_result"
    },
    {
     "data": {
      "image/png": "[encoded data removed]",
      "text/plain": [
       "<Figure size 432x288 with 1 Axes>"
      ]
     },
     "metadata": {
      "needs_background": "light"
     },
     "output_type": "display_data"
    }
   ],
   "source": [
    "roc_auc, fpr, tpr, ROCthresholds = ROC_curve(trainingdatafolder, model, features)\n",
    "\n",
    "fig, ax = plt.subplots()\n",
    "ax.plot(fpr, tpr)\n",
    "ax.plot([0, 1], [0, 1], 'k--')\n",
    "ax.set_xlim([0.0, 1.0])\n",
    "ax.set_ylim([0.0, 1.0])\n",
    "ax.set_xlabel('False Positive Rate')\n",
    "ax.set_ylabel('True Positive Rate')\n",
    "ax.set_title('ROC curve (AUC = {0:.3f})'.format(roc_auc))"
   ]
  },
  {
   "cell_type": "code",
   "execution_count": 13,
   "metadata": {},
   "outputs": [
    {
     "name": "stdout",
     "output_type": "stream",
     "text": [
      "Threshold 0.0020656392443925142, recall = 1.0, precision = 0.45577085088458297\n",
      "Threshold 0.0022819270379841328, recall = 0.9963031423290203, precision = 0.4598976109215017\n",
      "Threshold 0.0025787248741835356, recall = 0.9963031423290203, precision = 0.4658599827139153\n",
      "Threshold 0.002826543990522623, recall = 0.9944547134935305, precision = 0.4711033274956217\n",
      "Threshold 0.0033040361013263464, recall = 0.9944547134935305, precision = 0.47737355811889975\n",
      "Threshold 0.003664695657789707, recall = 0.9944547134935305, precision = 0.48381294964028776\n",
      "Threshold 0.004304214380681515, recall = 0.9944547134935305, precision = 0.49042844120328166\n",
      "Threshold 0.004718983080238104, recall = 0.9944547134935305, precision = 0.49722735674676527\n",
      "Threshold 0.0052010840736329556, recall = 0.9944547134935305, precision = 0.5042174320524836\n",
      "Threshold 0.005999431479722261, recall = 0.9944547134935305, precision = 0.5114068441064639\n",
      "Threshold 0.006838237401098013, recall = 0.9926062846580407, precision = 0.5178399228543876\n",
      "Threshold 0.007898714393377304, recall = 0.9926062846580407, precision = 0.525440313111546\n",
      "Threshold 0.008971876464784145, recall = 0.9926062846580407, precision = 0.5332671300893744\n",
      "Threshold 0.010684766806662083, recall = 0.9870609981515711, precision = 0.5383064516129032\n",
      "Threshold 0.01283703651279211, recall = 0.9852125693160814, precision = 0.5455475946775844\n",
      "Threshold 0.01596345752477646, recall = 0.9815157116451017, precision = 0.5519750519750519\n",
      "Threshold 0.018146537244319916, recall = 0.9796672828096118, precision = 0.5596620908130939\n",
      "Threshold 0.021609939634799957, recall = 0.977818853974122, precision = 0.5675965665236051\n",
      "Threshold 0.026059923693537712, recall = 0.977818853974122, precision = 0.5768811341330425\n",
      "Threshold 0.03368796408176422, recall = 0.977818853974122, precision = 0.5864745011086474\n",
      "Threshold 0.036706287413835526, recall = 0.9741219963031423, precision = 0.5941375422773394\n",
      "Threshold 0.043322883546352386, recall = 0.9722735674676525, precision = 0.6032110091743119\n",
      "Threshold 0.047994911670684814, recall = 0.9704251386321626, precision = 0.6126021003500584\n",
      "Threshold 0.05271855741739273, recall = 0.966728280961183, precision = 0.6211401425178147\n",
      "Threshold 0.057260580360889435, recall = 0.9593345656192237, precision = 0.6275695284159613\n",
      "Threshold 0.06702493131160736, recall = 0.9537892791127541, precision = 0.6354679802955665\n",
      "Threshold 0.07947364449501038, recall = 0.9463955637707948, precision = 0.6424090338770388\n",
      "Threshold 0.09599952399730682, recall = 0.9426987060998152, precision = 0.6521739130434783\n",
      "Threshold 0.10771163552999496, recall = 0.9371534195933456, precision = 0.6610169491525424\n",
      "Threshold 0.12139737606048584, recall = 0.9371534195933456, precision = 0.6742021276595744\n",
      "Threshold 0.15284326672554016, recall = 0.933456561922366, precision = 0.6852103120759837\n",
      "Threshold 0.18082799017429352, recall = 0.9297597042513863, precision = 0.6966759002770083\n",
      "Threshold 0.21197956800460815, recall = 0.9279112754158965, precision = 0.71004243281471\n",
      "Threshold 0.2565654516220093, recall = 0.9186691312384473, precision = 0.7182080924855492\n",
      "Threshold 0.2794898450374603, recall = 0.911275415896488, precision = 0.7282127031019202\n",
      "Threshold 0.3136378228664398, recall = 0.8983364140480592, precision = 0.7341389728096677\n",
      "Threshold 0.3536777198314667, recall = 0.8853974121996303, precision = 0.740340030911901\n",
      "Threshold 0.3855530023574829, recall = 0.8706099815157117, precision = 0.745253164556962\n",
      "Threshold 0.4399431049823761, recall = 0.8595194085027726, precision = 0.7536466774716369\n",
      "Threshold 0.4903466999530792, recall = 0.8465804066543438, precision = 0.760797342192691\n",
      "Threshold 0.5313506722450256, recall = 0.8354898336414048, precision = 0.7700170357751278\n",
      "Threshold 0.5751462578773499, recall = 0.822550831792976, precision = 0.777972027972028\n",
      "Threshold 0.6236448287963867, recall = 0.8170055452865065, precision = 0.7935368043087971\n",
      "Threshold 0.6761631369590759, recall = 0.8059149722735675, precision = 0.8044280442804428\n",
      "Threshold 0.7266234159469604, recall = 0.7929759704251387, precision = 0.8140417457305503\n",
      "Threshold 0.7502948045730591, recall = 0.7800369685767098, precision = 0.82421875\n",
      "Threshold 0.8035639524459839, recall = 0.767097966728281, precision = 0.8350100603621731\n",
      "Threshold 0.8376959562301636, recall = 0.7504621072088724, precision = 0.8423236514522822\n",
      "Threshold 0.8604318499565125, recall = 0.7319778188539742, precision = 0.8479657387580299\n",
      "Threshold 0.8866903781890869, recall = 0.7171903881700554, precision = 0.8584070796460177\n",
      "Threshold 0.9061394929885864, recall = 0.6987060998151571, precision = 0.8649885583524027\n",
      "Threshold 0.9270376563072205, recall = 0.6876155268022182, precision = 0.8815165876777251\n",
      "Threshold 0.9441103935241699, recall = 0.6691312384473198, precision = 0.8894348894348895\n",
      "Threshold 0.9520355463027954, recall = 0.6469500924214417, precision = 0.8928571428571429\n",
      "Threshold 0.9592896103858948, recall = 0.6284658040665434, precision = 0.9018567639257294\n",
      "Threshold 0.9663799405097961, recall = 0.609981515711645, precision = 0.9116022099447514\n",
      "Threshold 0.9738171696662903, recall = 0.589648798521257, precision = 0.9193083573487032\n",
      "Threshold 0.9773807525634766, recall = 0.5674676524953789, precision = 0.9246987951807228\n",
      "Threshold 0.9821731448173523, recall = 0.5471349353049908, precision = 0.9337539432176656\n",
      "Threshold 0.9851065874099731, recall = 0.5231053604436229, precision = 0.9370860927152318\n",
      "Threshold 0.9878861904144287, recall = 0.5009242144177449, precision = 0.9442508710801394\n",
      "Threshold 0.9899106621742249, recall = 0.4787430683918669, precision = 0.9522058823529411\n",
      "Threshold 0.9916785955429077, recall = 0.45471349353049906, precision = 0.9571984435797666\n",
      "Threshold 0.9933534860610962, recall = 0.4343807763401109, precision = 0.9710743801652892\n",
      "Threshold 0.9946552515029907, recall = 0.41035120147874304, precision = 0.9779735682819384\n",
      "Threshold 0.9957745671272278, recall = 0.38632162661737524, precision = 0.9858490566037735\n",
      "Threshold 0.9967153072357178, recall = 0.36044362292051757, precision = 0.9898477157360406\n",
      "Threshold 0.9973932504653931, recall = 0.33271719038817005, precision = 0.989010989010989\n",
      "Threshold 0.998085618019104, recall = 0.3068391866913124, precision = 0.9940119760479041\n",
      "Threshold 0.9986010193824768, recall = 0.27911275415896486, precision = 0.993421052631579\n",
      "Threshold 0.998853325843811, recall = 0.2513863216266174, precision = 0.9927007299270073\n",
      "Threshold 0.9990991353988647, recall = 0.22365988909426987, precision = 0.9918032786885246\n",
      "Threshold 0.9993624091148376, recall = 0.19593345656192238, precision = 0.9906542056074766\n",
      "Threshold 0.9996017813682556, recall = 0.17005545286506468, precision = 1.0\n",
      "Threshold 0.9997028708457947, recall = 0.1423290203327172, precision = 1.0\n",
      "Threshold 0.9998037219047546, recall = 0.11460258780036968, precision = 1.0\n",
      "Threshold 0.9998506307601929, recall = 0.08687615526802218, precision = 1.0\n",
      "Threshold 0.9999053478240967, recall = 0.05730129390018484, precision = 1.0\n",
      "Threshold 0.9999442100524902, recall = 0.029574861367837338, precision = 1.0\n",
      "Threshold 0.9999814033508301, recall = 0.0018484288354898336, precision = 1.0\n"
     ]
    }
   ],
   "source": [
    "pr_auc, precision, recall, PRthresholds = PR_curve(trainingdatafolder, model, features)\n",
    "for i in range(0,len(recall), 15):\n",
    "    print(\"Threshold {0}, recall = {1}, precision = {2}\".format(PRthresholds[i], recall[i], precision[i]))"
   ]
  },
  {
   "cell_type": "code",
   "execution_count": 14,
   "metadata": {},
   "outputs": [
    {
     "data": {
      "image/png": "[encoded data removed]",
      "text/plain": [
       "<Figure size 432x288 with 1 Axes>"
      ]
     },
     "metadata": {
      "needs_background": "light"
     },
     "output_type": "display_data"
    }
   ],
   "source": [
    "fig, ax = plt.subplots()\n",
    "ax.plot(recall, precision)\n",
    "ax.set_xlim([0.0, 1.0])\n",
    "ax.set_ylim([0.0, 1.0])\n",
    "ax.set_xlabel('Recall')\n",
    "ax.set_ylabel('Precision')\n",
    "ax.set_title(\"AUC Score (Test): {0:.4f}\".format(pr_auc))\n",
    "plt.show()"
   ]
  },
  {
   "cell_type": "code",
   "execution_count": 16,
   "metadata": {},
   "outputs": [
    {
     "data": {
      "text/plain": [
       "(0, 223.3)"
      ]
     },
     "execution_count": 16,
     "metadata": {},
     "output_type": "execute_result"
    },
    {
     "data": {
      "image/png": "[encoded data removed]",
      "text/plain": [
       "<Figure size 432x288 with 2 Axes>"
      ]
     },
     "metadata": {
      "needs_background": "light"
     },
     "output_type": "display_data"
    }
   ],
   "source": [
    "# Histogram:\n",
    "bins = 50\n",
    "Stable, Unstable = stable_unstable_hist(trainingdatafolder, model, features)\n",
    "\n",
    "fig, ax1 = plt.subplots()\n",
    "n, bins, pathces = ax1.hist(Unstable, bins, alpha=0.5, label='No', color='blue', edgecolor = \"black\")\n",
    "#print(n)\n",
    "ax1.set_xlabel('Predicted Probability', fontsize=14)\n",
    "ax1.set_ylabel('Unstable',  fontsize=14, color='blue')\n",
    "for tl in ax1.get_yticklabels():\n",
    "    tl.set_color('blue')\n",
    "    \n",
    "\n",
    "\n",
    "ax2 = ax1.twinx()\n",
    "n, bins , patches = ax2.hist(Stable, bins, alpha=0.5, label='Yes',color='green', edgecolor = \"black\")\n",
    "#print(n.astype(int))\n",
    "ax2.set_ylabel('Stable', fontsize=14, color='green')\n",
    "for tl in ax2.get_yticklabels():\n",
    "    tl.set_color('green')\n",
    "    \n",
    "    \n",
    "#ax1.set_ylim(ax2.get_ylim())\n",
    "ax1.set_ylim([0,20.1*n[-1]]) # goes up to ~4300\n",
    "ax2.set_ylim([0,1.1*n[-1]]) # goes up to ~2100"
   ]
  },
  {
   "cell_type": "code",
   "execution_count": 17,
   "metadata": {},
   "outputs": [
    {
     "data": {
      "text/plain": [
       "Text(0, 0.5, 'Fraction actually stable')"
      ]
     },
     "execution_count": 17,
     "metadata": {},
     "output_type": "execute_result"
    },
    {
     "data": {
      "image/png": "[encoded data removed]",
      "text/plain": [
       "<Figure size 576x432 with 1 Axes>"
      ]
     },
     "metadata": {
      "needs_background": "light"
     },
     "output_type": "display_data"
    }
   ],
   "source": [
    "bincenters, fracstable, errorbars = calibration_plot(trainingdatafolder, model, features, bins=10)\n",
    "fig, ax = plt.subplots(figsize=(8,6))\n",
    "ax.plot(np.linspace(0,1,100), np.linspace(0,1,100), '--')\n",
    "ax.errorbar(bincenters, fracstable, errorbars)\n",
    "ax.set_xlim([0,1])\n",
    "ax.set_ylim([0,1])\n",
    "ax.set_xlabel('Predicted Probability of Stability')\n",
    "ax.set_ylabel('Fraction actually stable')"
   ]
  },
  {
   "cell_type": "code",
   "execution_count": 18,
   "metadata": {},
   "outputs": [
    {
     "data": {
      "text/plain": [
       "Text(0.5, 1.0, 'Fraction of unstable systems mislabeled as stable')"
      ]
     },
     "execution_count": 18,
     "metadata": {},
     "output_type": "execute_result"
    },
    {
     "data": {
      "image/png": "[encoded data removed]",
      "text/plain": [
       "<Figure size 576x432 with 1 Axes>"
      ]
     },
     "metadata": {
      "needs_background": "light"
     },
     "output_type": "display_data"
    }
   ],
   "source": [
    "bincenters, errorfracs, errorbars = unstable_error_fraction(trainingdatafolder, model, features, bins=10)\n",
    "fig, ax = plt.subplots(figsize=(8,6))\n",
    "ax.errorbar(bincenters, errorfracs, errorbars)\n",
    "ax.set_ylim([0,1])\n",
    "ax.set_xlabel('Log Instability Time')\n",
    "ax.set_ylabel('Error Fraction')\n",
    "ax.set_title('Fraction of unstable systems mislabeled as stable')"
   ]
  },
  {
   "cell_type": "code",
   "execution_count": 19,
   "metadata": {},
   "outputs": [
    {
     "data": {
      "image/png": "[encoded data removed]",
      "text/plain": [
       "<Figure size 864x576 with 1 Axes>"
      ]
     },
     "metadata": {
      "needs_background": "light"
     },
     "output_type": "display_data"
    }
   ],
   "source": [
    "# feature importances\n",
    "feat_imp = pd.Series(model.get_booster().get_fscore()).sort_values(ascending=False)\n",
    "feat_imp.plot(kind='bar', title='Feature Importances', figsize=(12,8))\n",
    "plt.ylabel('Feature Importance Score')\n",
    "plt.show()"
   ]
  },
  {
   "cell_type": "markdown",
   "metadata": {},
   "source": [
    "# things that are just unstable might be very similar to things that are just stable"
   ]
  },
  {
   "cell_type": "markdown",
   "metadata": {},
   "source": [
    "# predict at half a billion, then repredict at half a billion whether you'll be unstable at a billion"
   ]
  },
  {
   "cell_type": "markdown",
   "metadata": {},
   "source": [
    "# do the summary features change with time?"
   ]
  },
  {
   "cell_type": "markdown",
   "metadata": {},
   "source": [
    "# We care about probability it is unstable when we predict unstable. Look at these errors specifically"
   ]
  },
  {
   "cell_type": "code",
   "execution_count": null,
   "metadata": {},
   "outputs": [],
   "source": []
  }
 ],
 "metadata": {
  "anaconda-cloud": {},
  "kernelspec": {
   "display_name": "Python 3",
   "language": "python",
   "name": "python3"
  },
  "language_info": {
   "codemirror_mode": {
    "name": "ipython",
    "version": 3
   },
   "file_extension": ".py",
   "mimetype": "text/x-python",
   "name": "python",
   "nbconvert_exporter": "python",
   "pygments_lexer": "ipython3",
   "version": "3.7.3"
  }
 },
 "nbformat": 4,
 "nbformat_minor": 2
}
