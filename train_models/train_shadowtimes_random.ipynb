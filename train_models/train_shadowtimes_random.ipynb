{
 "cells": [
  {
   "cell_type": "code",
   "execution_count": 1,
   "metadata": {},
   "outputs": [],
   "source": [
    "import numpy as np\n",
    "import sklearn\n",
    "import matplotlib.pyplot as plt\n",
    "%matplotlib inline\n",
    "import pandas as pd\n",
    "from sklearn import metrics\n",
    "from sklearn.model_selection import cross_val_score\n",
    "from matplotlib import rc\n",
    "from matplotlib import cm\n",
    "from mpl_toolkits.mplot3d import axes3d\n",
    "from matplotlib.ticker import MaxNLocator\n",
    "import scipy.signal\n",
    "import xgboost as xgb\n",
    "from xgboost.sklearn import XGBClassifier\n",
    "from hyperopt import hp, fmin, tpe, STATUS_OK, Trials\n",
    "import dill\n",
    "import sys\n",
    "sys.path.append('../')\n",
    "from modelfitting import train_test_split, ROC_curve, PR_curve, stable_unstable_hist, calibration_plot, unstable_error_fraction"
   ]
  },
  {
   "cell_type": "code",
   "execution_count": 4,
   "metadata": {},
   "outputs": [],
   "source": [
    "datapath = '/mnt/ssd/Dropbox/Dropbox (Princeton)/workspace/stability/MLstability/training_data/'\n",
    "dset = 'random/'\n",
    "featurefolder = 'shadowtimes/'\n",
    "features = None"
   ]
  },
  {
   "cell_type": "code",
   "execution_count": 5,
   "metadata": {
    "scrolled": true
   },
   "outputs": [],
   "source": [
    "trainingdatafolder = datapath+dset+featurefolder\n",
    "trainX, trainY, testX, testY = train_test_split(trainingdatafolder)"
   ]
  },
  {
   "cell_type": "markdown",
   "metadata": {},
   "source": [
    "# Use same functions to get the shadow instability times but use those as X for training and testing"
   ]
  },
  {
   "cell_type": "code",
   "execution_count": 6,
   "metadata": {},
   "outputs": [
    {
     "name": "stderr",
     "output_type": "stream",
     "text": [
      "/home/dtamayo/miniconda3/envs/ml/lib/python3.7/site-packages/xgboost/core.py:587: FutureWarning: Series.base is deprecated and will be removed in a future version\n",
      "  if getattr(data, 'base', None) is not None and \\\n",
      "/home/dtamayo/miniconda3/envs/ml/lib/python3.7/site-packages/xgboost/core.py:588: FutureWarning: Series.base is deprecated and will be removed in a future version\n",
      "  data.base is not None and isinstance(data, np.ndarray) \\\n"
     ]
    }
   ],
   "source": [
    "space ={\n",
    "        'max_depth': hp.randint('x_max_depth',  20),\n",
    "        'min_child_weight': hp.quniform ('x_min_child', 1, 10, 1),\n",
    "        'subsample': hp.uniform ('x_subsample', 0.8, 1),\n",
    "        'scale_pos_weight': hp.uniform(\"x_pos_weight\", 1, 15),\n",
    "        \"learning_rate\":hp.uniform(\"x_learning_rate\",0.01,0.2),\n",
    "        'colsample_bytree': hp.uniform ('x_tree_colsample', 0.5,1),\n",
    "}\n",
    "\n",
    "dtrain = xgb.DMatrix(trainX, trainY)\n",
    "dtest = xgb.DMatrix(testX, testY)\n",
    "def objective(space):\n",
    "\n",
    "    clf = XGBClassifier(n_estimators = 100, \n",
    "                            max_depth = space['max_depth'], \n",
    "                            min_child_weight =space['min_child_weight'],\n",
    "                            subsample = space['subsample'],\n",
    "                            colsample_bytree =space['colsample_bytree'],\n",
    "                            learning_rate = space['learning_rate'], seed = 0)\n",
    "    \n",
    "    params = clf.get_xgb_params()\n",
    "    #dtest\n",
    "    score = xgb.cv(params, dtrain, nfold = 5, metrics = \"auc\", early_stopping_rounds=10)\n",
    "    #print score\n",
    "    #score = cross_val_score(clf, trainX, trainY, cv = 5, scoring=\"average_precision\")\n",
    "    avg_score =  np.mean(score[\"test-auc-mean\"])\n",
    "    error = np.mean(score[\"test-auc-std\"])\n",
    "    \n",
    "    bst = xgb.train(params, dtrain)\n",
    "    preds = bst.predict(dtest)\n",
    "    test_score = metrics.roc_auc_score(testY, preds)\n",
    "    \n",
    "    print(\"SCORE:\", avg_score, \"ERROR\", error, \"HOLDOUT SCORE\", test_score)\n",
    "\n",
    "    return{'loss':1-test_score, 'status': STATUS_OK, \"cv_score\":avg_score , \"cv_error\":error, \"holdout\":test_score }"
   ]
  },
  {
   "cell_type": "code",
   "execution_count": 7,
   "metadata": {
    "scrolled": true
   },
   "outputs": [
    {
     "name": "stdout",
     "output_type": "stream",
     "text": [
      "SCORE:                                              \n",
      "0.9902032399999999                                  \n",
      "ERROR                                               \n",
      "0.0009706763885447712                               \n",
      "HOLDOUT SCORE                                       \n",
      "0.9906326014290456                                  \n",
      "SCORE:                                                                         \n",
      "0.9903055600000001                                                             \n",
      "ERROR                                                                          \n",
      "0.0008234649003348455                                                          \n",
      "HOLDOUT SCORE                                                                  \n",
      "0.9906352823766734                                                             \n",
      "SCORE:                                                                         \n",
      "0.9901909                                                                     \n",
      "ERROR                                                                         \n",
      "0.000965547572830785                                                          \n",
      "HOLDOUT SCORE                                                                 \n",
      "0.9906212074016273                                                            \n",
      "SCORE:                                                                        \n",
      "0.9902922399999999                                                            \n",
      "ERROR                                                                         \n",
      "0.0008871307392118603                                                         \n",
      "HOLDOUT SCORE                                                                 \n",
      "0.9906472628613854                                                            \n",
      "SCORE:                                                                        \n",
      "0.9902063199999999                                                            \n",
      "ERROR                                                                         \n",
      "0.0008715315418089863                                                         \n",
      "HOLDOUT SCORE                                                                 \n",
      "0.9906305069387114                                                            \n",
      "SCORE:                                                                        \n",
      "0.9902229600000002                                                            \n",
      "ERROR                                                                         \n",
      "0.0008539527459817033                                                         \n",
      "HOLDOUT SCORE                                                                 \n",
      "0.990610986288796                                                             \n",
      "SCORE:                                                                        \n",
      "0.9899733200000002                                                            \n",
      "ERROR                                                                         \n",
      "0.0008609072047860754                                                         \n",
      "HOLDOUT SCORE                                                                 \n",
      "0.9901961934229987                                                            \n",
      "SCORE:                                                                        \n",
      "0.9900364400000001                                                            \n",
      "ERROR                                                                         \n",
      "0.0009194857805606468                                                         \n",
      "HOLDOUT SCORE                                                                 \n",
      "0.9906320987513654                                                            \n",
      "SCORE:                                                                        \n",
      "0.99011136                                                                    \n",
      "ERROR                                                                         \n",
      "0.0009836716758232801                                                         \n",
      "HOLDOUT SCORE                                                                 \n",
      "0.9910610503718222                                                            \n",
      "SCORE:                                                                         \n",
      "0.9900288999999999                                                             \n",
      "ERROR                                                                          \n",
      "0.0009081217068270513                                                          \n",
      "HOLDOUT SCORE                                                                  \n",
      "0.9906094782557553                                                             \n",
      "SCORE:                                                                          \n",
      "0.9900300200000001                                                              \n",
      "ERROR                                                                           \n",
      "0.0009533816527173731                                                           \n",
      "HOLDOUT SCORE                                                                   \n",
      "0.9906145050325575                                                              \n",
      "SCORE:                                                                          \n",
      "0.9901804599999998                                                              \n",
      "ERROR                                                                           \n",
      "0.0008881176924333059                                                           \n",
      "HOLDOUT SCORE                                                                   \n",
      "0.9906048703770199                                                              \n",
      "SCORE:                                                                          \n",
      "0.9902953400000001                                                              \n",
      "ERROR                                                                           \n",
      "0.0008753118133899071                                                           \n",
      "HOLDOUT SCORE                                                                   \n",
      "0.9906480168779057                                                              \n",
      "SCORE:                                                                          \n",
      "0.99001396                                                                      \n",
      "ERROR                                                                           \n",
      "0.000926437556733296                                                            \n",
      "HOLDOUT SCORE                                                                   \n",
      "0.9906264017376561                                                              \n",
      "SCORE:                                                                          \n",
      "0.9902590400000001                                                              \n",
      "ERROR                                                                           \n",
      "0.0008915800869323901                                                           \n",
      "HOLDOUT SCORE                                                                   \n",
      "0.990866514109576                                                               \n",
      "SCORE:                                                                          \n",
      "0.99030612                                                                      \n",
      "ERROR                                                                           \n",
      "0.0008283998335559027                                                           \n",
      "HOLDOUT SCORE                                                                   \n",
      "0.9906597460237776                                                              \n",
      "SCORE:                                                                          \n",
      "0.99030846                                                                      \n",
      "ERROR                                                                           \n",
      "0.0008302638664843224                                                           \n",
      "HOLDOUT SCORE                                                                   \n",
      "0.9906517031808941                                                              \n",
      "SCORE:                                                                          \n",
      "0.99015992                                                                      \n"
     ]
    },
    {
     "name": "stdout",
     "output_type": "stream",
     "text": [
      "ERROR                                                                           \n",
      "0.0009328345639299555                                                           \n",
      "HOLDOUT SCORE                                                                   \n",
      "0.9906108187295692                                                              \n",
      "SCORE:                                                                          \n",
      "0.99017266                                                                      \n",
      "ERROR                                                                           \n",
      "0.000874837165021075                                                            \n",
      "HOLDOUT SCORE                                                                   \n",
      "0.9910458024821889                                                              \n",
      "SCORE:                                                                          \n",
      "0.99034678                                                                      \n",
      "ERROR                                                                           \n",
      "0.0008505507568794849                                                           \n",
      "HOLDOUT SCORE                                                                   \n",
      "0.9905805742891425                                                              \n",
      "SCORE:                                                                          \n",
      "0.9899180000000001                                                              \n",
      "ERROR                                                                           \n",
      "0.0009158819813754554                                                           \n",
      "HOLDOUT SCORE                                                                   \n",
      "0.9906219614181475                                                              \n",
      "SCORE:                                                                          \n",
      "0.98896684                                                                      \n",
      "ERROR                                                                           \n",
      "0.0010999032682968129                                                           \n",
      "HOLDOUT SCORE                                                                   \n",
      "0.989980293359343                                                               \n",
      "SCORE:                                                                          \n",
      "0.9899425799999999                                                              \n",
      "ERROR                                                                           \n",
      "0.0009186470408216624                                                           \n",
      "HOLDOUT SCORE                                                                   \n",
      "0.9906227154346678                                                              \n",
      "SCORE:                                                                          \n",
      "0.9901676800000001                                                              \n",
      "ERROR                                                                           \n",
      "0.0008852148666415824                                                           \n",
      "HOLDOUT SCORE                                                                   \n",
      "0.9910047504716373                                                              \n",
      "SCORE:                                                                          \n",
      "0.9900881199999999                                                              \n",
      "ERROR                                                                           \n",
      "0.0009716492088561656                                                           \n",
      "HOLDOUT SCORE                                                                   \n",
      "0.9906320987513654                                                              \n",
      "SCORE:                                                                          \n",
      "0.98991084                                                                      \n",
      "ERROR                                                                           \n",
      "0.0009146300590429738                                                           \n",
      "HOLDOUT SCORE                                                                   \n",
      "0.9906276584318567                                                              \n",
      "SCORE:                                                                          \n",
      "0.9790398000000001                                                              \n",
      "ERROR                                                                           \n",
      "0.0014418752234503453                                                           \n",
      "HOLDOUT SCORE                                                                   \n",
      "0.9821523451840714                                                              \n",
      "SCORE:                                                                          \n",
      "0.5                                                                             \n",
      "ERROR                                                                           \n",
      "0.0                                                                             \n",
      "HOLDOUT SCORE                                                                   \n",
      "0.5                                                                             \n",
      "SCORE:                                                                          \n",
      "0.99020282                                                                      \n",
      "ERROR                                                                           \n",
      "0.0009718433718067474                                                           \n",
      "HOLDOUT SCORE                                                                   \n",
      "0.9906326014290456                                                              \n",
      "SCORE:                                                                          \n",
      "0.98996602                                                                      \n",
      "ERROR                                                                           \n",
      "0.0009291387919676535                                                           \n",
      "HOLDOUT SCORE                                                                   \n",
      "0.9906269044153364                                                              \n",
      "SCORE:                                                                          \n",
      "0.9900635799999998                                                              \n",
      "ERROR                                                                           \n",
      "0.0009563271633315126                                                           \n",
      "HOLDOUT SCORE                                                                   \n",
      "0.9906212074016272                                                              \n",
      "SCORE:                                                                          \n",
      "0.9901912600000001                                                              \n",
      "ERROR                                                                           \n",
      "0.0009247697935184423                                                           \n",
      "HOLDOUT SCORE                                                                   \n",
      "0.9910342408955437                                                              \n",
      "SCORE:                                                                          \n",
      "0.99021906                                                                      \n",
      "ERROR                                                                           \n",
      "0.0009025461549566254                                                           \n",
      "HOLDOUT SCORE                                                                   \n",
      "0.9909534773482546                                                              \n",
      "SCORE:                                                                          \n",
      "0.9901735200000001                                                              \n",
      "ERROR                                                                           \n",
      "0.0009573134600980686                                                           \n",
      "HOLDOUT SCORE                                                                   \n",
      "0.99062749087263                                                                \n",
      "SCORE:                                                                          \n"
     ]
    },
    {
     "name": "stdout",
     "output_type": "stream",
     "text": [
      "0.99001184                                                                      \n",
      "ERROR                                                                           \n",
      "0.0009553506283082678                                                           \n",
      "HOLDOUT SCORE                                                                   \n",
      "0.990624307247322                                                               \n",
      "SCORE:                                                                          \n",
      "0.98992788                                                                      \n",
      "ERROR                                                                           \n",
      "0.0009225307880813173                                                           \n",
      "HOLDOUT SCORE                                                                   \n",
      "0.9906221289773742                                                              \n",
      "SCORE:                                                                          \n",
      "0.9903527000000001                                                              \n",
      "ERROR                                                                           \n",
      "0.0007922768584188329                                                           \n",
      "HOLDOUT SCORE                                                                   \n",
      "0.9910504941405376                                                              \n",
      "SCORE:                                                                          \n",
      "0.99036808                                                                      \n",
      "ERROR                                                                           \n",
      "0.0008603220152261151                                                           \n",
      "HOLDOUT SCORE                                                                   \n",
      "0.991082246614005                                                               \n",
      "SCORE:                                                                          \n",
      "0.99005888                                                                      \n",
      "ERROR                                                                           \n",
      "0.0009842735318545339                                                           \n",
      "HOLDOUT SCORE                                                                   \n",
      "0.990629752922191                                                               \n",
      "SCORE:                                                                          \n",
      "0.9902078399999998                                                              \n",
      "ERROR                                                                           \n",
      "0.0009070858567957003                                                           \n",
      "HOLDOUT SCORE                                                                   \n",
      "0.990603529903206                                                               \n",
      "SCORE:                                                                          \n",
      "0.9900603800000001                                                              \n",
      "ERROR                                                                           \n",
      "0.000953565833336731                                                            \n",
      "HOLDOUT SCORE                                                                   \n",
      "0.9906440792360773                                                              \n",
      "SCORE:                                                                          \n",
      "0.99005532                                                                      \n",
      "ERROR                                                                           \n",
      "0.0009844979399295723                                                           \n",
      "HOLDOUT SCORE                                                                   \n",
      "0.990629082685284                                                               \n",
      "SCORE:                                                                          \n",
      "0.99023634                                                                      \n",
      "ERROR                                                                           \n",
      "0.0009328866369912876                                                           \n",
      "HOLDOUT SCORE                                                                   \n",
      "0.990881678219596                                                               \n",
      "SCORE:                                                                          \n",
      "0.98916668                                                                      \n",
      "ERROR                                                                           \n",
      "0.001012767613119152                                                            \n",
      "HOLDOUT SCORE                                                                   \n",
      "0.9906322663105921                                                              \n",
      "SCORE:                                                                          \n",
      "0.5                                                                             \n",
      "ERROR                                                                           \n",
      "0.0                                                                             \n",
      "HOLDOUT SCORE                                                                   \n",
      "0.5                                                                             \n",
      "SCORE:                                                                          \n",
      "0.9900574400000002                                                              \n",
      "ERROR                                                                           \n",
      "0.000988054296761034                                                            \n",
      "HOLDOUT SCORE                                                                   \n",
      "0.9906429901011036                                                              \n",
      "SCORE:                                                                          \n",
      "0.9901114599999999                                                              \n",
      "ERROR                                                                           \n",
      "0.000980236471910988                                                            \n",
      "HOLDOUT SCORE                                                                   \n",
      "0.9906307582775514                                                              \n",
      "SCORE:                                                                          \n",
      "0.9901928                                                                       \n",
      "ERROR                                                                           \n",
      "0.0009746079162222799                                                           \n",
      "HOLDOUT SCORE                                                                   \n",
      "0.9909991372375414                                                              \n",
      "SCORE:                                                                          \n",
      "0.9901254999999999                                                              \n",
      "ERROR                                                                           \n",
      "0.0009382957242705707                                                           \n",
      "HOLDOUT SCORE                                                                   \n",
      "0.9910352462509042                                                              \n",
      "SCORE:                                                                          \n",
      "0.9902704                                                                       \n",
      "ERROR                                                                           \n",
      "0.0008985163375969903                                                           \n",
      "HOLDOUT SCORE                                                                   \n",
      "0.9910139662291081                                                              \n",
      "100%|██████████| 50/50 [00:24<00:00,  2.25it/s, best loss: 0.008917753385994986]\n",
      "Optimization Time: %f seconds 24.78538417816162\n",
      "CPU times: user 24.4 s, sys: 631 ms, total: 25 s\n",
      "Wall time: 24.8 s\n"
     ]
    }
   ],
   "source": [
    "%%time\n",
    "trials = Trials()\n",
    "import time\n",
    "start = time.time()\n",
    "best = fmin(fn=objective, space = space, algo = tpe.suggest, max_evals = 50, trials = trials)\n",
    "end = time.time()\n",
    "print(\"Optimization Time: %f seconds\", (end  -start))"
   ]
  },
  {
   "cell_type": "code",
   "execution_count": 8,
   "metadata": {},
   "outputs": [
    {
     "data": {
      "text/plain": [
       "{'x_learning_rate': 0.19420256679722886,\n",
       " 'x_max_depth': 8,\n",
       " 'x_min_child': 1.0,\n",
       " 'x_pos_weight': 10.122831364597026,\n",
       " 'x_subsample': 0.8841929465523571,\n",
       " 'x_tree_colsample': 0.9273596467195173}"
      ]
     },
     "execution_count": 8,
     "metadata": {},
     "output_type": "execute_result"
    }
   ],
   "source": [
    "best"
   ]
  },
  {
   "cell_type": "code",
   "execution_count": 9,
   "metadata": {},
   "outputs": [
    {
     "name": "stdout",
     "output_type": "stream",
     "text": [
      "[0]\ttrain-auc:0.991556+0.000184499\ttest-auc:0.990883+0.000668917\n",
      "[1]\ttrain-auc:0.991617+0.000147725\ttest-auc:0.990911+0.000659183\n",
      "[2]\ttrain-auc:0.991713+0.000174692\ttest-auc:0.990981+0.000656322\n",
      "[3]\ttrain-auc:0.991763+0.000167077\ttest-auc:0.991022+0.000707828\n",
      "[4]\ttrain-auc:0.991783+0.000154202\ttest-auc:0.991014+0.000714983\n",
      "[5]\ttrain-auc:0.991815+0.000161201\ttest-auc:0.991021+0.000697142\n",
      "[6]\ttrain-auc:0.991833+0.000165793\ttest-auc:0.991044+0.000683084\n",
      "[7]\ttrain-auc:0.991867+0.000145747\ttest-auc:0.991045+0.000662663\n",
      "[8]\ttrain-auc:0.991877+0.000149013\ttest-auc:0.991004+0.000655409\n",
      "[9]\ttrain-auc:0.991887+0.000143459\ttest-auc:0.991025+0.000654886\n",
      "   train-auc-mean  train-auc-std  test-auc-mean  test-auc-std\n",
      "0        0.991556       0.000184       0.990883      0.000669\n",
      "1        0.991617       0.000148       0.990911      0.000659\n",
      "2        0.991713       0.000175       0.990981      0.000656\n",
      "3        0.991763       0.000167       0.991022      0.000708\n",
      "4        0.991783       0.000154       0.991014      0.000715\n",
      "5        0.991815       0.000161       0.991021      0.000697\n",
      "6        0.991833       0.000166       0.991044      0.000683\n",
      "7        0.991867       0.000146       0.991045      0.000663\n",
      "8        0.991877       0.000149       0.991004      0.000655\n",
      "9        0.991887       0.000143       0.991025      0.000655\n",
      "0.9768399713325021\n"
     ]
    },
    {
     "name": "stderr",
     "output_type": "stream",
     "text": [
      "/home/dtamayo/miniconda3/envs/ml/lib/python3.7/site-packages/xgboost/core.py:587: FutureWarning: Series.base is deprecated and will be removed in a future version\n",
      "  if getattr(data, 'base', None) is not None and \\\n",
      "/home/dtamayo/miniconda3/envs/ml/lib/python3.7/site-packages/xgboost/core.py:588: FutureWarning: Series.base is deprecated and will be removed in a future version\n",
      "  data.base is not None and isinstance(data, np.ndarray) \\\n"
     ]
    }
   ],
   "source": [
    "best_xgbc = XGBClassifier(n_estimators=100, scale_pos_weight=best[\"x_pos_weight\"],\n",
    "                         learning_rate = best[\"x_learning_rate\"], \n",
    "                         max_depth = int(best[\"x_max_depth\"]), \n",
    "                         min_child_weight = best[\"x_min_child\"],\n",
    "                         subsample = best[\"x_subsample\"], \n",
    "                         colsample_bytree = best[\"x_tree_colsample\"])\n",
    "params = best_xgbc.get_xgb_params()\n",
    "score = xgb.cv(params, dtrain, nfold = 5, metrics = \"auc\", verbose_eval=True)\n",
    "print(score)\n",
    "d_Train = xgb.DMatrix(trainX, trainY)\n",
    "d_Test = xgb.DMatrix(testX)\n",
    "bst = xgb.train(params, d_Train)\n",
    "preds = bst.predict(d_Test)\n",
    "score = metrics.average_precision_score(testY, preds)\n",
    "print(score)"
   ]
  },
  {
   "cell_type": "code",
   "execution_count": 10,
   "metadata": {},
   "outputs": [
    {
     "data": {
      "text/plain": [
       "XGBClassifier(base_score=0.5, booster='gbtree', colsample_bylevel=1,\n",
       "              colsample_bytree=0.9273596467195173, gamma=0,\n",
       "              learning_rate=0.19420256679722886, max_delta_step=0, max_depth=8,\n",
       "              min_child_weight=1.0, missing=None, n_estimators=100, n_jobs=1,\n",
       "              nthread=None, objective='binary:logistic', random_state=0,\n",
       "              reg_alpha=0, reg_lambda=1, scale_pos_weight=10.122831364597026,\n",
       "              seed=None, silent=True, subsample=0.8841929465523571)"
      ]
     },
     "execution_count": 10,
     "metadata": {},
     "output_type": "execute_result"
    }
   ],
   "source": [
    "model = XGBClassifier(n_estimators=100, scale_pos_weight=best[\"x_pos_weight\"],\n",
    "                         learning_rate = best[\"x_learning_rate\"], \n",
    "                         max_depth = int(best[\"x_max_depth\"]), \n",
    "                         min_child_weight = best[\"x_min_child\"],\n",
    "                         subsample = best[\"x_subsample\"], \n",
    "                         colsample_bytree = best[\"x_tree_colsample\"])\n",
    "\n",
    "model.fit(trainX, trainY)"
   ]
  },
  {
   "cell_type": "code",
   "execution_count": 11,
   "metadata": {},
   "outputs": [
    {
     "data": {
      "text/plain": [
       "Text(0.5, 1.0, 'ROC curve (AUC = 0.992)')"
      ]
     },
     "execution_count": 11,
     "metadata": {},
     "output_type": "execute_result"
    },
    {
     "data": {
      "image/png": "[encoded data removed]",
      "text/plain": [
       "<Figure size 432x288 with 1 Axes>"
      ]
     },
     "metadata": {
      "needs_background": "light"
     },
     "output_type": "display_data"
    }
   ],
   "source": [
    "roc_auc, fpr, tpr, ROCthresholds = ROC_curve(trainingdatafolder, model)\n",
    "\n",
    "fig, ax = plt.subplots()\n",
    "ax.plot(fpr, tpr)\n",
    "ax.plot([0, 1], [0, 1], 'k--')\n",
    "ax.set_xlim([0.0, 1.0])\n",
    "ax.set_ylim([0.0, 1.0])\n",
    "ax.set_xlabel('False Positive Rate')\n",
    "ax.set_ylabel('True Positive Rate')\n",
    "ax.set_title('ROC curve (AUC = {0:.3f})'.format(roc_auc))"
   ]
  },
  {
   "cell_type": "code",
   "execution_count": 12,
   "metadata": {},
   "outputs": [
    {
     "name": "stdout",
     "output_type": "stream",
     "text": [
      "Threshold 0.00014615342661272734, recall = 1.0, precision = 0.5430226144511858\n",
      "Threshold 0.0012968125520274043, recall = 0.9979685119349924, precision = 0.6963146704464919\n",
      "Threshold 0.0364798866212368, recall = 0.9959370238699847, precision = 0.872719181130396\n",
      "Threshold 0.07265795767307281, recall = 0.9949212798374809, precision = 0.8924829157175399\n",
      "Threshold 0.11875341087579727, recall = 0.994413407821229, precision = 0.9145259224661373\n",
      "Threshold 0.22426703572273254, recall = 0.9903504316912138, precision = 0.9285714285714286\n",
      "Threshold 0.3416983485221863, recall = 0.9873031995937024, precision = 0.9427740058195926\n",
      "Threshold 0.6148282885551453, recall = 0.9847638395124428, precision = 0.9509563511525257\n",
      "Threshold 0.8249003291130066, recall = 0.9827323514474352, precision = 0.9579207920792079\n",
      "Threshold 0.8716612458229065, recall = 0.9817166074149314, precision = 0.9665\n",
      "Threshold 0.9156270623207092, recall = 0.9807008633824277, precision = 0.9727959697732997\n",
      "Threshold 0.9835522770881653, recall = 0.9781615033011681, precision = 0.9786585365853658\n",
      "Threshold 0.9961250424385071, recall = 0.9497206703910615, precision = 0.97854526425955\n",
      "Threshold 0.9971430897712708, recall = 0.706957846622651, precision = 0.9802816901408451\n",
      "Threshold 0.9976786971092224, recall = 0.521076688674454, precision = 0.9827586206896551\n",
      "Threshold 0.9979860782623291, recall = 0.3214829862874556, precision = 0.9829192546583851\n",
      "Threshold 0.9983300566673279, recall = 0.23057389537836465, precision = 0.980561555075594\n",
      "Threshold 0.9986163377761841, recall = 0.13763331640426613, precision = 0.9748201438848921\n",
      "Threshold 0.9991111159324646, recall = 0.04875571356018284, precision = 0.96\n"
     ]
    }
   ],
   "source": [
    "pr_auc, precision, recall, PRthresholds = PR_curve(trainingdatafolder, model)\n",
    "for i in range(0,len(recall), 15):\n",
    "    print(\"Threshold {0}, recall = {1}, precision = {2}\".format(PRthresholds[i], recall[i], precision[i]))"
   ]
  },
  {
   "cell_type": "code",
   "execution_count": 13,
   "metadata": {},
   "outputs": [
    {
     "data": {
      "image/png": "[encoded data removed]",
      "text/plain": [
       "<Figure size 432x288 with 1 Axes>"
      ]
     },
     "metadata": {
      "needs_background": "light"
     },
     "output_type": "display_data"
    }
   ],
   "source": [
    "fig, ax = plt.subplots()\n",
    "ax.plot(recall, precision)\n",
    "ax.set_xlim([0.0, 1.0])\n",
    "ax.set_ylim([0.0, 1.0])\n",
    "ax.set_xlabel('Recall')\n",
    "ax.set_ylabel('Precision')\n",
    "ax.set_title(\"AUC Score (Test): {0:.4f}\".format(pr_auc))\n",
    "plt.show()"
   ]
  },
  {
   "cell_type": "code",
   "execution_count": 14,
   "metadata": {},
   "outputs": [
    {
     "data": {
      "text/plain": [
       "(0, 2118.6000000000004)"
      ]
     },
     "execution_count": 14,
     "metadata": {},
     "output_type": "execute_result"
    },
    {
     "data": {
      "image/png": "[encoded data removed]",
      "text/plain": [
       "<Figure size 432x288 with 2 Axes>"
      ]
     },
     "metadata": {
      "needs_background": "light"
     },
     "output_type": "display_data"
    }
   ],
   "source": [
    "# Histogram:\n",
    "bins = 50\n",
    "Stable, Unstable = stable_unstable_hist(trainingdatafolder, model, features)\n",
    "\n",
    "fig, ax1 = plt.subplots()\n",
    "n, bins, pathces = ax1.hist(Unstable, bins, alpha=0.5, label='No', color='blue', edgecolor = \"black\")\n",
    "ax1.set_xlabel('Predicted Probability', fontsize=14)\n",
    "ax1.set_ylabel('Unstable',  fontsize=14, color='blue')\n",
    "for tl in ax1.get_yticklabels():\n",
    "    tl.set_color('blue')\n",
    "    \n",
    "\n",
    "\n",
    "ax2 = ax1.twinx()\n",
    "n, bins , patches = ax2.hist(Stable, bins, alpha=0.5, label='Yes',color='green', edgecolor = \"black\")\n",
    "#print(n.astype(int))\n",
    "ax2.set_ylabel('Stable', fontsize=14, color='green')\n",
    "for tl in ax2.get_yticklabels():\n",
    "    tl.set_color('green')\n",
    "    \n",
    "    \n",
    "#ax1.set_ylim(ax2.get_ylim())\n",
    "ax1.set_ylim([0,1.1*n[-1]]) # goes up to ~4300\n",
    "ax2.set_ylim([0,1.1*n[-1]]) # goes up to ~2100"
   ]
  },
  {
   "cell_type": "code",
   "execution_count": 15,
   "metadata": {},
   "outputs": [
    {
     "name": "stderr",
     "output_type": "stream",
     "text": [
      "../modelfitting.py:71: RuntimeWarning: divide by zero encountered in true_divide\n",
      "  errorbars.append(np.sqrt(1./nstable + 1./hist[i])*fracstable[-1]) # assume poisson counting errors for each fractional error, and add in quadrature for error on ratio.\n",
      "../modelfitting.py:71: RuntimeWarning: invalid value encountered in double_scalars\n",
      "  errorbars.append(np.sqrt(1./nstable + 1./hist[i])*fracstable[-1]) # assume poisson counting errors for each fractional error, and add in quadrature for error on ratio.\n"
     ]
    },
    {
     "data": {
      "text/plain": [
       "Text(0, 0.5, 'Fraction actually stable')"
      ]
     },
     "execution_count": 15,
     "metadata": {},
     "output_type": "execute_result"
    },
    {
     "data": {
      "image/png": "[encoded data removed]",
      "text/plain": [
       "<Figure size 576x432 with 1 Axes>"
      ]
     },
     "metadata": {
      "needs_background": "light"
     },
     "output_type": "display_data"
    }
   ],
   "source": [
    "bincenters, fracstable, errorbars = calibration_plot(trainingdatafolder, model, features, bins=10)\n",
    "fig, ax = plt.subplots(figsize=(8,6))\n",
    "ax.plot(np.linspace(0,1,100), np.linspace(0,1,100), '--')\n",
    "ax.errorbar(bincenters, fracstable, errorbars)\n",
    "ax.set_xlim([0,1])\n",
    "ax.set_ylim([0,1])\n",
    "ax.set_xlabel('Predicted Probability of Stability')\n",
    "ax.set_ylabel('Fraction actually stable')"
   ]
  },
  {
   "cell_type": "code",
   "execution_count": 16,
   "metadata": {},
   "outputs": [
    {
     "name": "stderr",
     "output_type": "stream",
     "text": [
      "../modelfitting.py:99: RuntimeWarning: divide by zero encountered in true_divide\n",
      "  errorbars.append(np.sqrt(1./Nerrors + 1./hist[i])*errorfracs[-1]) # see calibration plot comment\n",
      "../modelfitting.py:99: RuntimeWarning: invalid value encountered in double_scalars\n",
      "  errorbars.append(np.sqrt(1./Nerrors + 1./hist[i])*errorfracs[-1]) # see calibration plot comment\n"
     ]
    },
    {
     "data": {
      "text/plain": [
       "Text(0.5, 1.0, 'Fraction of unstable systems mislabeled as stable')"
      ]
     },
     "execution_count": 16,
     "metadata": {},
     "output_type": "execute_result"
    },
    {
     "data": {
      "image/png": "[encoded data removed]",
      "text/plain": [
       "<Figure size 576x432 with 1 Axes>"
      ]
     },
     "metadata": {
      "needs_background": "light"
     },
     "output_type": "display_data"
    }
   ],
   "source": [
    "bincenters, errorfracs, errorbars = unstable_error_fraction(trainingdatafolder, model, features, bins=10)\n",
    "fig, ax = plt.subplots(figsize=(8,6))\n",
    "ax.errorbar(bincenters, errorfracs, errorbars)\n",
    "ax.set_ylim([0,1])\n",
    "ax.set_xlabel('Log Instability Time')\n",
    "ax.set_ylabel('Error Fraction')\n",
    "ax.set_title('Fraction of unstable systems mislabeled as stable')"
   ]
  },
  {
   "cell_type": "code",
   "execution_count": 17,
   "metadata": {},
   "outputs": [
    {
     "data": {
      "image/png": "[encoded data removed]",
      "text/plain": [
       "<Figure size 864x576 with 1 Axes>"
      ]
     },
     "metadata": {
      "needs_background": "light"
     },
     "output_type": "display_data"
    }
   ],
   "source": [
    "# feature importances\n",
    "feat_imp = pd.Series(model.get_booster().get_fscore()).sort_values(ascending=False)\n",
    "feat_imp.plot(kind='bar', title='Feature Importances', figsize=(12,8))\n",
    "plt.ylabel('Feature Importance Score')\n",
    "plt.show()"
   ]
  },
  {
   "cell_type": "code",
   "execution_count": 18,
   "metadata": {},
   "outputs": [],
   "source": [
    "dill.dump([model, features, featurefolder], open(datapath+\"../models/shadowtimesxgb_random.pkl\", \"wb\"))"
   ]
  },
  {
   "cell_type": "code",
   "execution_count": null,
   "metadata": {},
   "outputs": [],
   "source": []
  }
 ],
 "metadata": {
  "anaconda-cloud": {},
  "kernelspec": {
   "display_name": "Python 3",
   "language": "python",
   "name": "python3"
  },
  "language_info": {
   "codemirror_mode": {
    "name": "ipython",
    "version": 3
   },
   "file_extension": ".py",
   "mimetype": "text/x-python",
   "name": "python",
   "nbconvert_exporter": "python",
   "pygments_lexer": "ipython3",
   "version": "3.7.3"
  }
 },
 "nbformat": 4,
 "nbformat_minor": 2
}
