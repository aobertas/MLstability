{
 "cells": [
  {
   "cell_type": "code",
   "execution_count": 1,
   "metadata": {},
   "outputs": [],
   "source": [
    "import numpy as np\n",
    "import sklearn\n",
    "import matplotlib.pyplot as plt\n",
    "%matplotlib inline\n",
    "import pandas as pd\n",
    "from sklearn import metrics\n",
    "from sklearn.model_selection import cross_val_score\n",
    "from matplotlib import rc\n",
    "from matplotlib import cm\n",
    "from mpl_toolkits.mplot3d import axes3d\n",
    "from matplotlib.ticker import MaxNLocator\n",
    "import scipy.signal\n",
    "import xgboost as xgb\n",
    "from xgboost.sklearn import XGBClassifier\n",
    "from hyperopt import hp, fmin, tpe, STATUS_OK, Trials\n",
    "import dill\n",
    "import sys\n",
    "sys.path.append('../')\n",
    "from modelfitting import train_test_split, ROC_curve, PR_curve, stable_unstable_hist, calibration_plot, unstable_error_fraction"
   ]
  },
  {
   "cell_type": "code",
   "execution_count": 15,
   "metadata": {},
   "outputs": [],
   "source": [
    "datapath = '/mnt/ssd/workspace/stability/MLstability/training_data/'\n",
    "dset = 'random/'\n",
    "featurefolder = 'shadowtimes/'\n",
    "features = None"
   ]
  },
  {
   "cell_type": "code",
   "execution_count": 3,
   "metadata": {
    "scrolled": true
   },
   "outputs": [],
   "source": [
    "trainingdatafolder = datapath+dset+featurefolder\n",
    "trainX, trainY, testX, testY = train_test_split(trainingdatafolder)"
   ]
  },
  {
   "cell_type": "markdown",
   "metadata": {},
   "source": [
    "# Use same functions to get the shadow instability times but use those as X for training and testing"
   ]
  },
  {
   "cell_type": "code",
   "execution_count": 4,
   "metadata": {},
   "outputs": [
    {
     "name": "stderr",
     "output_type": "stream",
     "text": [
      "/home/dtamayo/miniconda3/envs/p3/lib/python3.7/site-packages/xgboost/core.py:587: FutureWarning: Series.base is deprecated and will be removed in a future version\n",
      "  if getattr(data, 'base', None) is not None and \\\n",
      "/home/dtamayo/miniconda3/envs/p3/lib/python3.7/site-packages/xgboost/core.py:588: FutureWarning: Series.base is deprecated and will be removed in a future version\n",
      "  data.base is not None and isinstance(data, np.ndarray) \\\n"
     ]
    }
   ],
   "source": [
    "space ={\n",
    "        'max_depth': hp.randint('x_max_depth',  20),\n",
    "        'min_child_weight': hp.quniform ('x_min_child', 1, 10, 1),\n",
    "        'subsample': hp.uniform ('x_subsample', 0.8, 1),\n",
    "        'scale_pos_weight': hp.uniform(\"x_pos_weight\", 1, 15),\n",
    "        \"learning_rate\":hp.uniform(\"x_learning_rate\",0.01,0.2),\n",
    "        'colsample_bytree': hp.uniform ('x_tree_colsample', 0.5,1),\n",
    "}\n",
    "\n",
    "dtrain = xgb.DMatrix(trainX, trainY)\n",
    "dtest = xgb.DMatrix(testX, testY)\n",
    "def objective(space):\n",
    "\n",
    "    clf = XGBClassifier(n_estimators = 100, \n",
    "                            max_depth = space['max_depth'], \n",
    "                            min_child_weight =space['min_child_weight'],\n",
    "                            subsample = space['subsample'],\n",
    "                            colsample_bytree =space['colsample_bytree'],\n",
    "                            learning_rate = space['learning_rate'], seed = 0)\n",
    "    \n",
    "    params = clf.get_xgb_params()\n",
    "    #dtest\n",
    "    score = xgb.cv(params, dtrain, nfold = 5, metrics = \"auc\", early_stopping_rounds=10)\n",
    "    #print score\n",
    "    #score = cross_val_score(clf, trainX, trainY, cv = 5, scoring=\"average_precision\")\n",
    "    avg_score =  np.mean(score[\"test-auc-mean\"])\n",
    "    error = np.mean(score[\"test-auc-std\"])\n",
    "    \n",
    "    bst = xgb.train(params, dtrain)\n",
    "    preds = bst.predict(dtest)\n",
    "    test_score = metrics.roc_auc_score(testY, preds)\n",
    "    \n",
    "    print(\"SCORE:\", avg_score, \"ERROR\", error, \"HOLDOUT SCORE\", test_score)\n",
    "\n",
    "    return{'loss':1-test_score, 'status': STATUS_OK, \"cv_score\":avg_score , \"cv_error\":error, \"holdout\":test_score }"
   ]
  },
  {
   "cell_type": "code",
   "execution_count": 5,
   "metadata": {
    "scrolled": true
   },
   "outputs": [
    {
     "name": "stdout",
     "output_type": "stream",
     "text": [
      "SCORE:                                              \n",
      "0.97477784                                          \n",
      "ERROR                                               \n",
      "0.0030294761853524727                               \n",
      "HOLDOUT SCORE                                       \n",
      "0.9806032927939108                                  \n",
      "SCORE:                                                                         \n",
      "0.9819637599999999                                                             \n",
      "ERROR                                                                          \n",
      "0.002175763256260519                                                           \n",
      "HOLDOUT SCORE                                                                  \n",
      "0.9831519814676927                                                             \n",
      "SCORE:                                                                         \n",
      "0.98208848                                                                    \n",
      "ERROR                                                                         \n",
      "0.0019479988181447965                                                         \n",
      "HOLDOUT SCORE                                                                 \n",
      "0.9829550757011665                                                            \n",
      "SCORE:                                                                        \n",
      "0.9817090799999999                                                            \n",
      "ERROR                                                                         \n",
      "0.0023172292104921134                                                         \n",
      "HOLDOUT SCORE                                                                 \n",
      "0.9831557872093986                                                            \n",
      "SCORE:                                                                         \n",
      "0.9764383399999998                                                             \n",
      "ERROR                                                                          \n",
      "0.0028793124244089526                                                          \n",
      "HOLDOUT SCORE                                                                  \n",
      "0.98103218333747                                                               \n",
      "SCORE:                                                                         \n",
      "0.982056                                                                       \n",
      "ERROR                                                                          \n",
      "0.0019888642511497515                                                          \n",
      "HOLDOUT SCORE                                                                  \n",
      "0.9822609415074046                                                             \n",
      "SCORE:                                                                         \n",
      "0.9818954200000001                                                             \n",
      "ERROR                                                                          \n",
      "0.0022850112654039445                                                          \n",
      "HOLDOUT SCORE                                                                  \n",
      "0.9831721684454373                                                             \n",
      "SCORE:                                                                         \n",
      "0.9819582800000001                                                            \n",
      "ERROR                                                                         \n",
      "0.002078516492677489                                                          \n",
      "HOLDOUT SCORE                                                                 \n",
      "0.9830546868536444                                                            \n",
      "SCORE:                                                                        \n",
      "0.9818451600000001                                                            \n",
      "ERROR                                                                         \n",
      "0.00229043443175859                                                           \n",
      "HOLDOUT SCORE                                                                 \n",
      "0.9827679324894514                                                            \n",
      "SCORE:                                                                        \n",
      "0.9819970999999998                                                            \n",
      "ERROR                                                                         \n",
      "0.0021895552571943996                                                         \n",
      "HOLDOUT SCORE                                                                 \n",
      "0.9831852403408622                                                            \n",
      "SCORE:                                                                          \n",
      "0.9819714199999998                                                              \n",
      "ERROR                                                                           \n",
      "0.002118795493108315                                                            \n",
      "HOLDOUT SCORE                                                                   \n",
      "0.98301547116737                                                                \n",
      "SCORE:                                                                          \n",
      "0.9818945600000001                                                              \n",
      "ERROR                                                                           \n",
      "0.0023029554082732292                                                           \n",
      "HOLDOUT SCORE                                                                   \n",
      "0.9831556217423679                                                              \n",
      "SCORE:                                                                          \n",
      "0.98184538                                                                      \n",
      "ERROR                                                                           \n",
      "0.0022922759538686137                                                           \n",
      "HOLDOUT SCORE                                                                   \n",
      "0.9827677670224207                                                              \n",
      "SCORE:                                                                          \n",
      "0.9820186                                                                       \n",
      "ERROR                                                                           \n",
      "0.0020413902758990962                                                           \n",
      "HOLDOUT SCORE                                                                   \n",
      "0.982688177380657                                                               \n",
      "SCORE:                                                                          \n",
      "0.9819386399999999                                                              \n",
      "ERROR                                                                           \n",
      "0.0021102519214107928                                                           \n",
      "HOLDOUT SCORE                                                                   \n",
      "0.9831044924298834                                                              \n",
      "SCORE:                                                                          \n",
      "0.9818340399999999                                                              \n",
      "ERROR                                                                           \n",
      "0.0022969614925262343                                                           \n",
      "HOLDOUT SCORE                                                                   \n",
      "0.9831989741044098                                                              \n",
      "SCORE:                                                                          \n",
      "0.5                                                                             \n",
      "ERROR                                                                           \n",
      "0.0                                                                             \n",
      "HOLDOUT SCORE                                                                   \n",
      "0.5                                                                             \n",
      "SCORE:                                                                          \n",
      "0.9817634                                                                       \n",
      "ERROR                                                                           \n",
      "0.002347563741935242                                                            \n",
      "HOLDOUT SCORE                                                                   \n",
      "0.9828413998510797                                                              \n",
      "SCORE:                                                                          \n",
      "0.9768413                                                                       \n",
      "ERROR                                                                           \n",
      "0.0028079246484963606                                                           \n",
      "HOLDOUT SCORE                                                                   \n",
      "0.9810470753702325                                                              \n",
      "SCORE:                                                                          \n",
      "0.9818418600000001                                                              \n",
      "ERROR                                                                           \n",
      "0.0023173443259680206                                                           \n",
      "HOLDOUT SCORE                                                                   \n",
      "0.9831862331430463                                                              \n",
      "SCORE:                                                                          \n",
      "0.9818395599999998                                                              \n",
      "ERROR                                                                           \n",
      "0.002287345950849754                                                            \n",
      "HOLDOUT SCORE                                                                   \n",
      "0.9832054273186068                                                              \n",
      "SCORE:                                                                          \n",
      "0.98183626                                                                     \n",
      "ERROR                                                                          \n",
      "0.0022866889987339352                                                          \n",
      "HOLDOUT SCORE                                                                  \n",
      "0.9831916935550592                                                             \n",
      "SCORE:                                                                         \n",
      "0.9818267800000001                                                             \n",
      "ERROR                                                                          \n",
      "0.0022917418311011366                                                          \n",
      "HOLDOUT SCORE                                                                  \n",
      "0.9832032762472078                                                             \n",
      "SCORE:                                                                         \n",
      "0.97974514                                                                     \n",
      "ERROR                                                                          \n",
      "0.0029856403608596385                                                          \n",
      "HOLDOUT SCORE                                                                  \n",
      "0.9817062960205178                                                             \n",
      "SCORE:                                                                         \n",
      "0.98183176                                                                     \n",
      "ERROR                                                                          \n",
      "0.002308024681885121                                                           \n",
      "HOLDOUT SCORE                                                                  \n",
      "0.9831781252585423                                                             \n",
      "SCORE:                                                                         \n",
      "0.9817555600000001                                                             \n",
      "ERROR                                                                          \n",
      "0.0023308550335018                                                             \n",
      "HOLDOUT SCORE                                                                  \n",
      "0.9827775295772316                                                             \n",
      "SCORE:                                                                         \n",
      "0.98195668                                                                     \n",
      "ERROR                                                                          \n",
      "0.002162374075095316                                                           \n",
      "HOLDOUT SCORE                                                                  \n",
      "0.982815752461322                                                              \n",
      "SCORE:                                                                         \n",
      "0.98187762                                                                     \n",
      "ERROR                                                                          \n",
      "0.0022619140811168327                                                          \n",
      "HOLDOUT SCORE                                                                  \n",
      "0.983196161164888                                                              \n",
      "SCORE:                                                                         \n",
      "0.9819414999999999                                                             \n",
      "ERROR                                                                          \n",
      "0.0021800442227562756                                                          \n",
      "HOLDOUT SCORE                                                                  \n",
      "0.9831652188301482                                                             \n",
      "SCORE:                                                                         \n",
      "0.9818281600000001                                                             \n",
      "ERROR                                                                          \n",
      "0.002296716746089024                                                           \n",
      "HOLDOUT SCORE                                                                  \n",
      "0.9831655497642096                                                             \n",
      "SCORE:                                                                         \n",
      "0.9817339799999999                                                             \n",
      "ERROR                                                                          \n",
      "0.002327837904605124                                                           \n",
      "HOLDOUT SCORE                                                                  \n",
      "0.9826241416397783                                                             \n",
      "SCORE:                                                                         \n",
      "0.98198346                                                                     \n",
      "ERROR                                                                          \n",
      "0.0021325793253538427                                                          \n",
      "HOLDOUT SCORE                                                                  \n",
      "0.9831397369074213                                                             \n",
      "SCORE:                                                                         \n",
      "0.9818647800000001                                                             \n",
      "ERROR                                                                          \n",
      "0.0022673805377334618                                                          \n",
      "HOLDOUT SCORE                                                                  \n",
      "0.9831801108629107                                                             \n",
      "SCORE:                                                                         \n",
      "0.9819232399999999                                                             \n",
      "ERROR                                                                          \n",
      "0.0022790061820503115                                                          \n",
      "HOLDOUT SCORE                                                                  \n",
      "0.983139902374452                                                              \n",
      "SCORE:                                                                         \n",
      "0.98192466                                                                     \n"
     ]
    },
    {
     "name": "stdout",
     "output_type": "stream",
     "text": [
      "ERROR                                                                          \n",
      "0.0021869224829043363                                                          \n",
      "HOLDOUT SCORE                                                                  \n",
      "0.9831476793248946                                                             \n",
      "SCORE:                                                                         \n",
      "0.9818431000000001                                                             \n",
      "ERROR                                                                          \n",
      "0.002300256575599062                                                           \n",
      "HOLDOUT SCORE                                                                  \n",
      "0.9831926863572433                                                             \n",
      "SCORE:                                                                         \n",
      "0.98183016                                                                     \n",
      "ERROR                                                                          \n",
      "0.0023343958990559364                                                          \n",
      "HOLDOUT SCORE                                                                  \n",
      "0.9831675353685779                                                             \n",
      "SCORE:                                                                         \n",
      "0.9818321400000001                                                             \n",
      "ERROR                                                                          \n",
      "0.0023072960851740977                                                          \n",
      "HOLDOUT SCORE                                                                  \n",
      "0.9831789525936958                                                             \n",
      "SCORE:                                                                         \n",
      "0.5                                                                            \n",
      "ERROR                                                                          \n",
      "0.0                                                                            \n",
      "HOLDOUT SCORE                                                                  \n",
      "0.5                                                                            \n",
      "SCORE:                                                                         \n",
      "0.9819539                                                                      \n",
      "ERROR                                                                          \n",
      "0.0021787310107760456                                                          \n",
      "HOLDOUT SCORE                                                                  \n",
      "0.9831528088028461                                                             \n",
      "SCORE:                                                                         \n",
      "0.9819555400000001                                                             \n",
      "ERROR                                                                          \n",
      "0.0021771707100345012                                                          \n",
      "HOLDOUT SCORE                                                                  \n",
      "0.9831873914122612                                                             \n",
      "SCORE:                                                                         \n",
      "0.9818399799999998                                                             \n",
      "ERROR                                                                          \n",
      "0.0023063111689764593                                                          \n",
      "HOLDOUT SCORE                                                                  \n",
      "0.9831779597915116                                                             \n",
      "SCORE:                                                                         \n",
      "0.97993928                                                                     \n",
      "ERROR                                                                          \n",
      "0.002903343038651185                                                           \n",
      "HOLDOUT SCORE                                                                  \n",
      "0.9827644576818069                                                             \n",
      "SCORE:                                                                         \n",
      "0.98179062                                                                     \n",
      "ERROR                                                                          \n",
      "0.0023798111639490027                                                          \n",
      "HOLDOUT SCORE                                                                  \n",
      "0.9827987093571606                                                             \n",
      "SCORE:                                                                         \n",
      "0.9821723200000001                                                             \n",
      "ERROR                                                                          \n",
      "0.0019502387874900395                                                          \n",
      "HOLDOUT SCORE                                                                  \n",
      "0.9830551832547365                                                             \n",
      "SCORE:                                                                         \n",
      "0.9819338                                                                      \n",
      "ERROR                                                                          \n",
      "0.002192825162882556                                                           \n",
      "HOLDOUT SCORE                                                                  \n",
      "0.9831772979233888                                                             \n",
      "SCORE:                                                                         \n",
      "0.9818037400000001                                                             \n",
      "ERROR                                                                          \n",
      "0.0023651279198390164                                                          \n",
      "HOLDOUT SCORE                                                                  \n",
      "0.9827578390005791                                                             \n",
      "SCORE:                                                                         \n",
      "0.9819405                                                                      \n",
      "ERROR                                                                          \n",
      "0.002195326474826893                                                           \n",
      "HOLDOUT SCORE                                                                  \n",
      "0.9831776288574503                                                             \n",
      "SCORE:                                                                         \n",
      "0.98203368                                                                     \n",
      "ERROR                                                                          \n",
      "0.002120353240737732                                                           \n",
      "HOLDOUT SCORE                                                                  \n",
      "0.9831483411930173                                                             \n",
      "SCORE:                                                                         \n",
      "0.9817880600000001                                                             \n",
      "ERROR                                                                          \n",
      "0.0023645616785736216                                                          \n",
      "HOLDOUT SCORE                                                                  \n",
      "0.9828301480929924                                                             \n",
      "100%|██████████| 50/50 [00:16<00:00,  3.06it/s, best loss: 0.01679457268139317]\n",
      "Optimization Time: %f seconds 16.36483860015869\n",
      "CPU times: user 15.9 s, sys: 818 ms, total: 16.7 s\n",
      "Wall time: 16.4 s\n"
     ]
    }
   ],
   "source": [
    "%%time\n",
    "trials = Trials()\n",
    "import time\n",
    "start = time.time()\n",
    "best = fmin(fn=objective, space = space, algo = tpe.suggest, max_evals = 50, trials = trials)\n",
    "end = time.time()\n",
    "print(\"Optimization Time: %f seconds\", (end  -start))"
   ]
  },
  {
   "cell_type": "code",
   "execution_count": 6,
   "metadata": {},
   "outputs": [
    {
     "data": {
      "text/plain": [
       "{'x_learning_rate': 0.0469630662025161,\n",
       " 'x_max_depth': 5,\n",
       " 'x_min_child': 4.0,\n",
       " 'x_pos_weight': 6.909932539519679,\n",
       " 'x_subsample': 0.8708623897567075,\n",
       " 'x_tree_colsample': 0.5011871384534993}"
      ]
     },
     "execution_count": 6,
     "metadata": {},
     "output_type": "execute_result"
    }
   ],
   "source": [
    "best"
   ]
  },
  {
   "cell_type": "code",
   "execution_count": 7,
   "metadata": {},
   "outputs": [
    {
     "name": "stdout",
     "output_type": "stream",
     "text": [
      "[0]\ttrain-auc:0.982809+0.000461233\ttest-auc:0.982226+0.0020366\n",
      "[1]\ttrain-auc:0.982946+0.000502466\ttest-auc:0.982395+0.0019696\n",
      "[2]\ttrain-auc:0.982977+0.000500868\ttest-auc:0.982471+0.00192355\n",
      "[3]\ttrain-auc:0.983093+0.000571748\ttest-auc:0.982486+0.00190866\n",
      "[4]\ttrain-auc:0.983151+0.000585134\ttest-auc:0.982482+0.00189788\n",
      "[5]\ttrain-auc:0.983157+0.00058469\ttest-auc:0.982494+0.00189516\n",
      "[6]\ttrain-auc:0.983161+0.000583355\ttest-auc:0.982501+0.00190009\n",
      "[7]\ttrain-auc:0.983182+0.000585269\ttest-auc:0.982501+0.00189753\n",
      "[8]\ttrain-auc:0.983182+0.000590944\ttest-auc:0.982502+0.00189974\n",
      "[9]\ttrain-auc:0.98322+0.00060484\ttest-auc:0.982522+0.00191149\n",
      "   train-auc-mean  train-auc-std  test-auc-mean  test-auc-std\n",
      "0        0.982809       0.000461       0.982226      0.002037\n",
      "1        0.982946       0.000502       0.982395      0.001970\n",
      "2        0.982977       0.000501       0.982471      0.001924\n",
      "3        0.983093       0.000572       0.982486      0.001909\n",
      "4        0.983151       0.000585       0.982482      0.001898\n",
      "5        0.983157       0.000585       0.982494      0.001895\n",
      "6        0.983161       0.000583       0.982501      0.001900\n",
      "7        0.983182       0.000585       0.982501      0.001898\n",
      "8        0.983182       0.000591       0.982502      0.001900\n",
      "9        0.983220       0.000605       0.982522      0.001911\n",
      "0.9769952296089363\n"
     ]
    },
    {
     "name": "stderr",
     "output_type": "stream",
     "text": [
      "/home/dtamayo/miniconda3/envs/p3/lib/python3.7/site-packages/xgboost/core.py:587: FutureWarning: Series.base is deprecated and will be removed in a future version\n",
      "  if getattr(data, 'base', None) is not None and \\\n",
      "/home/dtamayo/miniconda3/envs/p3/lib/python3.7/site-packages/xgboost/core.py:588: FutureWarning: Series.base is deprecated and will be removed in a future version\n",
      "  data.base is not None and isinstance(data, np.ndarray) \\\n"
     ]
    }
   ],
   "source": [
    "best_xgbc = XGBClassifier(n_estimators=100, scale_pos_weight=best[\"x_pos_weight\"],\n",
    "                         learning_rate = best[\"x_learning_rate\"], \n",
    "                         max_depth = int(best[\"x_max_depth\"]), \n",
    "                         min_child_weight = best[\"x_min_child\"],\n",
    "                         subsample = best[\"x_subsample\"], \n",
    "                         colsample_bytree = best[\"x_tree_colsample\"])\n",
    "params = best_xgbc.get_xgb_params()\n",
    "score = xgb.cv(params, dtrain, nfold = 5, metrics = \"auc\", verbose_eval=True)\n",
    "print(score)\n",
    "d_Train = xgb.DMatrix(trainX, trainY)\n",
    "d_Test = xgb.DMatrix(testX)\n",
    "bst = xgb.train(params, d_Train)\n",
    "preds = bst.predict(d_Test)\n",
    "score = metrics.average_precision_score(testY, preds)\n",
    "print(score)"
   ]
  },
  {
   "cell_type": "code",
   "execution_count": 8,
   "metadata": {},
   "outputs": [
    {
     "data": {
      "text/plain": [
       "XGBClassifier(base_score=0.5, booster='gbtree', colsample_bylevel=1,\n",
       "       colsample_bytree=0.5011871384534993, gamma=0,\n",
       "       learning_rate=0.0469630662025161, max_delta_step=0, max_depth=5,\n",
       "       min_child_weight=4.0, missing=None, n_estimators=100, n_jobs=1,\n",
       "       nthread=None, objective='binary:logistic', random_state=0,\n",
       "       reg_alpha=0, reg_lambda=1, scale_pos_weight=6.909932539519679,\n",
       "       seed=None, silent=True, subsample=0.8708623897567075)"
      ]
     },
     "execution_count": 8,
     "metadata": {},
     "output_type": "execute_result"
    }
   ],
   "source": [
    "model = XGBClassifier(n_estimators=100, scale_pos_weight=best[\"x_pos_weight\"],\n",
    "                         learning_rate = best[\"x_learning_rate\"], \n",
    "                         max_depth = int(best[\"x_max_depth\"]), \n",
    "                         min_child_weight = best[\"x_min_child\"],\n",
    "                         subsample = best[\"x_subsample\"], \n",
    "                         colsample_bytree = best[\"x_tree_colsample\"])\n",
    "\n",
    "model.fit(trainX, trainY)"
   ]
  },
  {
   "cell_type": "code",
   "execution_count": 9,
   "metadata": {},
   "outputs": [
    {
     "data": {
      "text/plain": [
       "Text(0.5, 1.0, 'ROC curve (AUC = 0.984)')"
      ]
     },
     "execution_count": 9,
     "metadata": {},
     "output_type": "execute_result"
    },
    {
     "data": {
      "image/png": "[encoded data removed]",
      "text/plain": [
       "<Figure size 432x288 with 1 Axes>"
      ]
     },
     "metadata": {
      "needs_background": "light"
     },
     "output_type": "display_data"
    }
   ],
   "source": [
    "roc_auc, fpr, tpr, ROCthresholds = ROC_curve(trainingdatafolder, model)\n",
    "\n",
    "fig, ax = plt.subplots()\n",
    "ax.plot(fpr, tpr)\n",
    "ax.plot([0, 1], [0, 1], 'k--')\n",
    "ax.set_xlim([0.0, 1.0])\n",
    "ax.set_ylim([0.0, 1.0])\n",
    "ax.set_xlabel('False Positive Rate')\n",
    "ax.set_ylabel('True Positive Rate')\n",
    "ax.set_title('ROC curve (AUC = {0:.3f})'.format(roc_auc))"
   ]
  },
  {
   "cell_type": "code",
   "execution_count": 11,
   "metadata": {},
   "outputs": [
    {
     "name": "stdout",
     "output_type": "stream",
     "text": [
      "Threshold 0.007949710823595524, recall = 1.0, precision = 0.5634807417974322\n",
      "Threshold 0.01350781787186861, recall = 0.9979746835443037, precision = 0.7471569370735406\n",
      "Threshold 0.02542909048497677, recall = 0.9979746835443037, precision = 0.8044897959183673\n",
      "Threshold 0.08473379909992218, recall = 0.9959493670886076, precision = 0.8597027972027972\n",
      "Threshold 0.2548399567604065, recall = 0.9954430379746836, precision = 0.8887884267631103\n",
      "Threshold 0.35646840929985046, recall = 0.9949367088607595, precision = 0.913953488372093\n",
      "Threshold 0.43023616075515747, recall = 0.9929113924050633, precision = 0.9276253547776726\n",
      "Threshold 0.5227468013763428, recall = 0.9913924050632912, precision = 0.9395393474088292\n",
      "Threshold 0.7014273405075073, recall = 0.9878481012658228, precision = 0.9549681840430739\n",
      "Threshold 0.764186680316925, recall = 0.9843037974683544, precision = 0.9666832421680756\n",
      "Threshold 0.846162736415863, recall = 0.9787341772151898, precision = 0.9757698132256436\n",
      "Threshold 0.9914195537567139, recall = 0.9513924050632911, precision = 0.9786458333333333\n",
      "Threshold 0.9921561479568481, recall = 0.4486075949367089, precision = 0.977924944812362\n"
     ]
    }
   ],
   "source": [
    "pr_auc, precision, recall, PRthresholds = PR_curve(trainingdatafolder, model)\n",
    "for i in range(0,len(recall), 15):\n",
    "    print(\"Threshold {0}, recall = {1}, precision = {2}\".format(PRthresholds[i], recall[i], precision[i]))"
   ]
  },
  {
   "cell_type": "code",
   "execution_count": 12,
   "metadata": {},
   "outputs": [
    {
     "data": {
      "image/png": "[encoded data removed]",
      "text/plain": [
       "<Figure size 432x288 with 1 Axes>"
      ]
     },
     "metadata": {
      "needs_background": "light"
     },
     "output_type": "display_data"
    }
   ],
   "source": [
    "fig, ax = plt.subplots()\n",
    "ax.plot(recall, precision)\n",
    "ax.set_xlim([0.0, 1.0])\n",
    "ax.set_ylim([0.0, 1.0])\n",
    "ax.set_xlabel('Recall')\n",
    "ax.set_ylabel('Precision')\n",
    "ax.set_title(\"AUC Score (Test): {0:.4f}\".format(pr_auc))\n",
    "plt.show()"
   ]
  },
  {
   "cell_type": "code",
   "execution_count": 16,
   "metadata": {},
   "outputs": [
    {
     "data": {
      "text/plain": [
       "(0, 2125.2000000000003)"
      ]
     },
     "execution_count": 16,
     "metadata": {},
     "output_type": "execute_result"
    },
    {
     "data": {
      "image/png": "[encoded data removed]",
      "text/plain": [
       "<Figure size 432x288 with 2 Axes>"
      ]
     },
     "metadata": {
      "needs_background": "light"
     },
     "output_type": "display_data"
    }
   ],
   "source": [
    "# Histogram:\n",
    "bins = 50\n",
    "Stable, Unstable = stable_unstable_hist(trainingdatafolder, model, features)\n",
    "\n",
    "fig, ax1 = plt.subplots()\n",
    "n, bins, pathces = ax1.hist(Unstable, bins, alpha=0.5, label='No', color='blue', edgecolor = \"black\")\n",
    "ax1.set_xlabel('Predicted Probability', fontsize=14)\n",
    "ax1.set_ylabel('Unstable',  fontsize=14, color='blue')\n",
    "for tl in ax1.get_yticklabels():\n",
    "    tl.set_color('blue')\n",
    "    \n",
    "\n",
    "\n",
    "ax2 = ax1.twinx()\n",
    "n, bins , patches = ax2.hist(Stable, bins, alpha=0.5, label='Yes',color='green', edgecolor = \"black\")\n",
    "#print(n.astype(int))\n",
    "ax2.set_ylabel('Stable', fontsize=14, color='green')\n",
    "for tl in ax2.get_yticklabels():\n",
    "    tl.set_color('green')\n",
    "    \n",
    "    \n",
    "#ax1.set_ylim(ax2.get_ylim())\n",
    "ax1.set_ylim([0,1.1*n[-1]]) # goes up to ~4300\n",
    "ax2.set_ylim([0,1.1*n[-1]]) # goes up to ~2100"
   ]
  },
  {
   "cell_type": "code",
   "execution_count": 17,
   "metadata": {},
   "outputs": [
    {
     "name": "stderr",
     "output_type": "stream",
     "text": [
      "../modelfitting.py:79: RuntimeWarning: divide by zero encountered in true_divide\n",
      "  errorbars.append(np.sqrt(1./nstable + 1./hist[i])*fracstable[-1]) # assume poisson counting errors for each fractional error, and add in quadrature for error on ratio.\n",
      "../modelfitting.py:79: RuntimeWarning: invalid value encountered in double_scalars\n",
      "  errorbars.append(np.sqrt(1./nstable + 1./hist[i])*fracstable[-1]) # assume poisson counting errors for each fractional error, and add in quadrature for error on ratio.\n"
     ]
    },
    {
     "data": {
      "text/plain": [
       "Text(0, 0.5, 'Fraction actually stable')"
      ]
     },
     "execution_count": 17,
     "metadata": {},
     "output_type": "execute_result"
    },
    {
     "data": {
      "image/png": "[encoded data removed]",
      "text/plain": [
       "<Figure size 576x432 with 1 Axes>"
      ]
     },
     "metadata": {
      "needs_background": "light"
     },
     "output_type": "display_data"
    }
   ],
   "source": [
    "bincenters, fracstable, errorbars = calibration_plot(trainingdatafolder, model, features, bins=10)\n",
    "fig, ax = plt.subplots(figsize=(8,6))\n",
    "ax.plot(np.linspace(0,1,100), np.linspace(0,1,100), '--')\n",
    "ax.errorbar(bincenters, fracstable, errorbars)\n",
    "ax.set_xlim([0,1])\n",
    "ax.set_ylim([0,1])\n",
    "ax.set_xlabel('Predicted Probability of Stability')\n",
    "ax.set_ylabel('Fraction actually stable')"
   ]
  },
  {
   "cell_type": "code",
   "execution_count": 18,
   "metadata": {},
   "outputs": [
    {
     "name": "stderr",
     "output_type": "stream",
     "text": [
      "../modelfitting.py:107: RuntimeWarning: divide by zero encountered in true_divide\n",
      "  errorbars.append(np.sqrt(1./Nerrors + 1./hist[i])*errorfracs[-1]) # see calibration plot comment\n",
      "../modelfitting.py:107: RuntimeWarning: invalid value encountered in double_scalars\n",
      "  errorbars.append(np.sqrt(1./Nerrors + 1./hist[i])*errorfracs[-1]) # see calibration plot comment\n"
     ]
    },
    {
     "data": {
      "text/plain": [
       "Text(0.5, 1.0, 'Fraction of unstable systems mislabeled as stable')"
      ]
     },
     "execution_count": 18,
     "metadata": {},
     "output_type": "execute_result"
    },
    {
     "data": {
      "image/png": "[encoded data removed]",
      "text/plain": [
       "<Figure size 576x432 with 1 Axes>"
      ]
     },
     "metadata": {
      "needs_background": "light"
     },
     "output_type": "display_data"
    }
   ],
   "source": [
    "bincenters, errorfracs, errorbars = unstable_error_fraction(trainingdatafolder, model, features, bins=10)\n",
    "fig, ax = plt.subplots(figsize=(8,6))\n",
    "ax.errorbar(bincenters, errorfracs, errorbars)\n",
    "ax.set_ylim([0,1])\n",
    "ax.set_xlabel('Log Instability Time')\n",
    "ax.set_ylabel('Error Fraction')\n",
    "ax.set_title('Fraction of unstable systems mislabeled as stable')"
   ]
  },
  {
   "cell_type": "code",
   "execution_count": 19,
   "metadata": {},
   "outputs": [
    {
     "data": {
      "image/png": "[encoded data removed]",
      "text/plain": [
       "<Figure size 864x576 with 1 Axes>"
      ]
     },
     "metadata": {
      "needs_background": "light"
     },
     "output_type": "display_data"
    }
   ],
   "source": [
    "# feature importances\n",
    "feat_imp = pd.Series(model.get_booster().get_fscore()).sort_values(ascending=False)\n",
    "feat_imp.plot(kind='bar', title='Feature Importances', figsize=(12,8))\n",
    "plt.ylabel('Feature Importance Score')\n",
    "plt.show()"
   ]
  },
  {
   "cell_type": "code",
   "execution_count": 22,
   "metadata": {},
   "outputs": [],
   "source": [
    "dill.dump([model, features, featurefolder], open(datapath+\"../models/shadowtimesxgb_random.pkl\", \"wb\"))"
   ]
  },
  {
   "cell_type": "code",
   "execution_count": null,
   "metadata": {},
   "outputs": [],
   "source": []
  }
 ],
 "metadata": {
  "anaconda-cloud": {},
  "kernelspec": {
   "display_name": "Python 3",
   "language": "python",
   "name": "python3"
  },
  "language_info": {
   "codemirror_mode": {
    "name": "ipython",
    "version": 3
   },
   "file_extension": ".py",
   "mimetype": "text/x-python",
   "name": "python",
   "nbconvert_exporter": "python",
   "pygments_lexer": "ipython3",
   "version": "3.7.3"
  }
 },
 "nbformat": 4,
 "nbformat_minor": 2
}
