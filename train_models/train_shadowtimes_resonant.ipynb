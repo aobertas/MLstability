{
 "cells": [
  {
   "cell_type": "code",
   "execution_count": 1,
   "metadata": {},
   "outputs": [],
   "source": [
    "import numpy as np\n",
    "import sklearn\n",
    "import matplotlib.pyplot as plt\n",
    "%matplotlib inline\n",
    "import pandas as pd\n",
    "from sklearn import metrics\n",
    "from sklearn.model_selection import cross_val_score\n",
    "from matplotlib import rc\n",
    "from matplotlib import cm\n",
    "from mpl_toolkits.mplot3d import axes3d\n",
    "from matplotlib.ticker import MaxNLocator\n",
    "import scipy.signal\n",
    "import xgboost as xgb\n",
    "from xgboost.sklearn import XGBClassifier\n",
    "from hyperopt import hp, fmin, tpe, STATUS_OK, Trials\n",
    "import dill\n",
    "import sys\n",
    "sys.path.append('../')\n",
    "from modelfitting import train_test_split, ROC_curve, PR_curve, stable_unstable_hist, calibration_plot, unstable_error_fraction"
   ]
  },
  {
   "cell_type": "code",
   "execution_count": 2,
   "metadata": {},
   "outputs": [],
   "source": [
    "datapath = '/mnt/ssd/Dropbox/Dropbox (Princeton)/workspace/stability/MLstability/training_data/'\n",
    "dset = 'resonant/'\n",
    "featurefolder = 'shadowtimes/'\n",
    "features = None"
   ]
  },
  {
   "cell_type": "code",
   "execution_count": 3,
   "metadata": {
    "scrolled": true
   },
   "outputs": [],
   "source": [
    "trainingdatafolder = datapath+dset+featurefolder\n",
    "trainX, trainY, testX, testY = train_test_split(trainingdatafolder, features)"
   ]
  },
  {
   "cell_type": "code",
   "execution_count": 4,
   "metadata": {},
   "outputs": [
    {
     "data": {
      "text/plain": [
       "0    False\n",
       "1     True\n",
       "2     True\n",
       "3    False\n",
       "4    False\n",
       "Name: Stable, dtype: bool"
      ]
     },
     "execution_count": 4,
     "metadata": {},
     "output_type": "execute_result"
    }
   ],
   "source": [
    "trainY.head()"
   ]
  },
  {
   "cell_type": "code",
   "execution_count": 5,
   "metadata": {},
   "outputs": [],
   "source": [
    "shadowstable = trainX['shadow_instability_time'] > 8.99e8"
   ]
  },
  {
   "cell_type": "code",
   "execution_count": 6,
   "metadata": {},
   "outputs": [
    {
     "data": {
      "text/plain": [
       "0.029128641080135017"
      ]
     },
     "execution_count": 6,
     "metadata": {},
     "output_type": "execute_result"
    }
   ],
   "source": [
    "(trainY != shadowstable).sum()/trainY.shape[0]"
   ]
  },
  {
   "cell_type": "code",
   "execution_count": 7,
   "metadata": {},
   "outputs": [
    {
     "name": "stderr",
     "output_type": "stream",
     "text": [
      "/home/dtamayo/miniconda3/envs/ml/lib/python3.7/site-packages/xgboost/core.py:587: FutureWarning: Series.base is deprecated and will be removed in a future version\n",
      "  if getattr(data, 'base', None) is not None and \\\n",
      "/home/dtamayo/miniconda3/envs/ml/lib/python3.7/site-packages/xgboost/core.py:588: FutureWarning: Series.base is deprecated and will be removed in a future version\n",
      "  data.base is not None and isinstance(data, np.ndarray) \\\n"
     ]
    }
   ],
   "source": [
    "space ={\n",
    "        'max_depth': hp.randint('x_max_depth',  20),\n",
    "        'min_child_weight': hp.quniform ('x_min_child', 1, 10, 1),\n",
    "        'subsample': hp.uniform ('x_subsample', 0.8, 1),\n",
    "        'scale_pos_weight': hp.uniform(\"x_pos_weight\", 1, 15),\n",
    "        \"learning_rate\":hp.uniform(\"x_learning_rate\",0.01,0.2),\n",
    "        'colsample_bytree': hp.uniform ('x_tree_colsample', 0.5,1),\n",
    "}\n",
    "\n",
    "dtrain = xgb.DMatrix(trainX, trainY)\n",
    "dtest = xgb.DMatrix(testX, testY)\n",
    "def objective(space):\n",
    "\n",
    "    clf = XGBClassifier(n_estimators = 100, \n",
    "                            max_depth = space['max_depth'], \n",
    "                            min_child_weight =space['min_child_weight'],\n",
    "                            subsample = space['subsample'],\n",
    "                            colsample_bytree =space['colsample_bytree'],\n",
    "                            learning_rate = space['learning_rate'], seed = 0)\n",
    "    \n",
    "    params = clf.get_xgb_params()\n",
    "    #dtest\n",
    "    score = xgb.cv(params, dtrain, nfold = 5, metrics = \"auc\", early_stopping_rounds=10)\n",
    "    #print score\n",
    "    #score = cross_val_score(clf, trainX, trainY, cv = 5, scoring=\"average_precision\")\n",
    "    avg_score =  np.mean(score[\"test-auc-mean\"])\n",
    "    error = np.mean(score[\"test-auc-std\"])\n",
    "    \n",
    "    bst = xgb.train(params, dtrain)\n",
    "    preds = bst.predict(dtest)\n",
    "    test_score = metrics.roc_auc_score(testY, preds)\n",
    "    \n",
    "    print(\"SCORE:\", avg_score, \"ERROR\", error, \"HOLDOUT SCORE\", test_score)\n",
    "\n",
    "    return{'loss':1-test_score, 'status': STATUS_OK, \"cv_score\":avg_score , \"cv_error\":error, \"holdout\":test_score }"
   ]
  },
  {
   "cell_type": "code",
   "execution_count": 8,
   "metadata": {
    "scrolled": true
   },
   "outputs": [
    {
     "name": "stdout",
     "output_type": "stream",
     "text": [
      "SCORE:                                              \n",
      "0.9828283600000001                                  \n",
      "ERROR                                               \n",
      "0.002299006515319812                                \n",
      "HOLDOUT SCORE                                       \n",
      "0.9889829080511175                                  \n",
      "SCORE:                                                                         \n",
      "0.9826019199999999                                                             \n",
      "ERROR                                                                          \n",
      "0.002608860765093095                                                           \n",
      "HOLDOUT SCORE                                                                  \n",
      "0.9875912020361856                                                             \n",
      "SCORE:                                                                         \n",
      "0.9826676400000001                                                             \n",
      "ERROR                                                                          \n",
      "0.0026145768444766288                                                          \n",
      "HOLDOUT SCORE                                                                  \n",
      "0.9890050790618242                                                             \n",
      "SCORE:                                                                         \n",
      "0.9830422600000001                                                             \n",
      "ERROR                                                                          \n",
      "0.0025151366879346843                                                          \n",
      "HOLDOUT SCORE                                                                  \n",
      "0.9889645377851034                                                             \n",
      "SCORE:                                                                         \n",
      "0.9829944000000002                                                             \n",
      "ERROR                                                                          \n",
      "0.002498363519627042                                                           \n",
      "HOLDOUT SCORE                                                                  \n",
      "0.9889024589551246                                                             \n",
      "SCORE:                                                                         \n",
      "0.98260276                                                                     \n",
      "ERROR                                                                          \n",
      "0.0025859638831709844                                                          \n",
      "HOLDOUT SCORE                                                                  \n",
      "0.9875772659723128                                                             \n",
      "SCORE:                                                                         \n",
      "0.98311394                                                                     \n",
      "ERROR                                                                          \n",
      "0.002494687697661208                                                           \n",
      "HOLDOUT SCORE                                                                  \n",
      "0.9887656321461917                                                             \n",
      "SCORE:                                                                         \n",
      "0.9826105199999999                                                             \n",
      "ERROR                                                                          \n",
      "0.0025914062554843664                                                          \n",
      "HOLDOUT SCORE                                                                  \n",
      "0.9875183544295779                                                             \n",
      "SCORE:                                                                         \n",
      "0.9827472                                                                      \n",
      "ERROR                                                                          \n",
      "0.002519026787873643                                                           \n",
      "HOLDOUT SCORE                                                                  \n",
      "0.9890753928386369                                                             \n",
      "SCORE:                                                                         \n",
      "0.98310488                                                                    \n",
      "ERROR                                                                         \n",
      "0.0024848969640261535                                                         \n",
      "HOLDOUT SCORE                                                                 \n",
      "0.9886775815608138                                                            \n",
      "SCORE:                                                                         \n",
      "0.98287504                                                                     \n",
      "ERROR                                                                          \n",
      "0.0023614643569376654                                                          \n",
      "HOLDOUT SCORE                                                                  \n",
      "0.9889689719872448                                                             \n",
      "SCORE:                                                                         \n",
      "0.98318748                                                                     \n",
      "ERROR                                                                          \n",
      "0.002497724958591946                                                           \n",
      "HOLDOUT SCORE                                                                  \n",
      "0.9889689719872448                                                             \n",
      "SCORE:                                                                         \n",
      "0.9825714000000001                                                             \n",
      "ERROR                                                                          \n",
      "0.0025972064035836256                                                          \n",
      "HOLDOUT SCORE                                                                  \n",
      "0.9875785328872103                                                             \n",
      "SCORE:                                                                         \n",
      "0.9810238000000002                                                             \n",
      "ERROR                                                                          \n",
      "0.0034619625030677253                                                          \n",
      "HOLDOUT SCORE                                                                  \n",
      "0.9874803469826522                                                             \n",
      "SCORE:                                                                         \n",
      "0.9832654799999998                                                             \n",
      "ERROR                                                                          \n",
      "0.0025316153773148123                                                          \n",
      "HOLDOUT SCORE                                                                  \n",
      "0.9888277109761705                                                             \n",
      "SCORE:                                                                         \n",
      "0.9830601600000002                                                             \n",
      "ERROR                                                                          \n",
      "0.0026004549073247248                                                          \n",
      "HOLDOUT SCORE                                                                  \n",
      "0.9889867087958102                                                             \n",
      "SCORE:                                                                         \n",
      "0.5                                                                            \n",
      "ERROR                                                                          \n",
      "0.0                                                                            \n",
      "HOLDOUT SCORE                                                                  \n",
      "0.5                                                                            \n",
      "SCORE:                                                                         \n",
      "0.9825997799999999                                                             \n",
      "ERROR                                                                          \n",
      "0.002598053023076748                                                           \n",
      "HOLDOUT SCORE                                                                  \n",
      "0.9875215217168217                                                             \n",
      "SCORE:                                                                         \n",
      "0.9829783400000001                                                             \n",
      "ERROR                                                                          \n",
      "0.0025335765709930146                                                          \n",
      "HOLDOUT SCORE                                                                  \n",
      "0.9889721392744886                                                             \n",
      "SCORE:                                                                         \n",
      "0.9831213600000002                                                             \n",
      "ERROR                                                                          \n",
      "0.00272475670496235                                                            \n",
      "HOLDOUT SCORE                                                                  \n",
      "0.9889353987424603                                                             \n",
      "SCORE:                                                                         \n",
      "0.9826132599999999                                                             \n",
      "ERROR                                                                          \n",
      "0.002596120233778392                                                           \n",
      "HOLDOUT SCORE                                                                  \n",
      "0.9875905685787368                                                             \n",
      "SCORE:                                                                         \n",
      "0.98261702                                                                     \n",
      "ERROR                                                                          \n",
      "0.0025961959887103848                                                          \n",
      "HOLDOUT SCORE                                                                  \n",
      "0.9875924689510831                                                             \n",
      "SCORE:                                                                         \n",
      "0.9829382799999999                                                             \n",
      "ERROR                                                                          \n",
      "0.0022550614633387147                                                          \n",
      "HOLDOUT SCORE                                                                  \n",
      "0.9889835415085664                                                             \n",
      "SCORE:                                                                         \n",
      "0.9685882400000001                                                             \n",
      "ERROR                                                                          \n",
      "0.00378377795133661                                                            \n",
      "HOLDOUT SCORE                                                                  \n",
      "0.978381997646072                                                              \n",
      "SCORE:                                                                         \n",
      "0.9826377600000002                                                             \n",
      "ERROR                                                                          \n",
      "0.002616519710465676                                                           \n",
      "HOLDOUT SCORE                                                                  \n",
      "0.9874144674079808                                                             \n",
      "SCORE:                                                                         \n",
      "0.98261372                                                                     \n",
      "ERROR                                                                          \n",
      "0.002596325493299167                                                           \n",
      "HOLDOUT SCORE                                                                  \n",
      "0.9875696644829277                                                             \n",
      "SCORE:                                                                         \n",
      "0.98276958                                                                     \n",
      "ERROR                                                                          \n",
      "0.0025262606139315634                                                          \n",
      "HOLDOUT SCORE                                                                  \n",
      "0.9890411861364037                                                             \n",
      "SCORE:                                                                         \n",
      "0.98277228                                                                     \n",
      "ERROR                                                                          \n",
      "0.0025291976715065747                                                          \n",
      "HOLDOUT SCORE                                                                  \n",
      "0.988922729593485                                                              \n",
      "SCORE:                                                                         \n",
      "0.9826764600000001                                                             \n",
      "ERROR                                                                          \n",
      "0.002596517968678156                                                           \n",
      "HOLDOUT SCORE                                                                  \n",
      "0.9875867678340442                                                             \n",
      "SCORE:                                                                         \n",
      "0.9834111199999999                                                             \n",
      "ERROR                                                                          \n",
      "0.0027072880687303577                                                          \n",
      "HOLDOUT SCORE                                                                  \n",
      "0.9888182091144391                                                             \n",
      "SCORE:                                                                         \n",
      "0.9827544600000001                                                             \n",
      "ERROR                                                                          \n",
      "0.002514357108194468                                                           \n",
      "HOLDOUT SCORE                                                                  \n",
      "0.9889404664020505                                                             \n",
      "SCORE:                                                                         \n",
      "0.9827155                                                                      \n",
      "ERROR                                                                          \n",
      "0.0025426467530545475                                                          \n",
      "HOLDOUT SCORE                                                                  \n",
      "0.9874695782060231                                                             \n",
      "SCORE:                                                                         \n",
      "0.9830636                                                                      \n",
      "ERROR                                                                          \n",
      "0.002591835633863146                                                           \n",
      "HOLDOUT SCORE                                                                  \n",
      "0.988965804700001                                                              \n",
      "SCORE:                                                                         \n",
      "0.9828977599999998                                                             \n",
      "ERROR                                                                          \n",
      "0.0027614886941082525                                                          \n",
      "HOLDOUT SCORE                                                                  \n",
      "0.9888980247529833                                                             \n",
      "SCORE:                                                                         \n",
      "0.5                                                                            \n"
     ]
    },
    {
     "name": "stdout",
     "output_type": "stream",
     "text": [
      "ERROR                                                                          \n",
      "0.0                                                                            \n",
      "HOLDOUT SCORE                                                                  \n",
      "0.5                                                                            \n",
      "SCORE:                                                                         \n",
      "0.9827097799999999                                                             \n",
      "ERROR                                                                          \n",
      "0.0025448182654653428                                                          \n",
      "HOLDOUT SCORE                                                                  \n",
      "0.9874999841635638                                                             \n",
      "SCORE:                                                                         \n",
      "0.98263726                                                                     \n",
      "ERROR                                                                          \n",
      "0.0025872037690581463                                                          \n",
      "HOLDOUT SCORE                                                                  \n",
      "0.9875265893764118                                                             \n",
      "SCORE:                                                                         \n",
      "0.98289686                                                                     \n",
      "ERROR                                                                          \n",
      "0.0026131509642238543                                                          \n",
      "HOLDOUT SCORE                                                                  \n",
      "0.9890019117745804                                                             \n",
      "SCORE:                                                                         \n",
      "0.9828793200000001                                                             \n",
      "ERROR                                                                          \n",
      "0.0027113616984994456                                                          \n",
      "HOLDOUT SCORE                                                                  \n",
      "0.9890608233173154                                                             \n",
      "SCORE:                                                                         \n",
      "0.9827979599999999                                                             \n",
      "ERROR                                                                          \n",
      "0.002628755615017191                                                           \n",
      "HOLDOUT SCORE                                                                  \n",
      "0.9890418195938525                                                             \n",
      "SCORE:                                                                         \n",
      "0.9826080599999999                                                             \n",
      "ERROR                                                                          \n",
      "0.0025755847603354505                                                          \n",
      "HOLDOUT SCORE                                                                  \n",
      "0.9890836277854709                                                             \n",
      "SCORE:                                                                          \n",
      "0.98261114                                                                      \n",
      "ERROR                                                                           \n",
      "0.002626827820779085                                                            \n",
      "HOLDOUT SCORE                                                                   \n",
      "0.9874258696420585                                                              \n",
      "SCORE:                                                                          \n",
      "0.9791195800000001                                                              \n",
      "ERROR                                                                           \n",
      "0.00409072206255659                                                             \n",
      "HOLDOUT SCORE                                                                   \n",
      "0.9876076719298534                                                              \n",
      "SCORE:                                                                          \n",
      "0.9826274999999999                                                              \n",
      "ERROR                                                                           \n",
      "0.002580519634626746                                                            \n",
      "HOLDOUT SCORE                                                                   \n",
      "0.9889594701255133                                                              \n",
      "SCORE:                                                                          \n",
      "0.9665798800000001                                                              \n",
      "ERROR                                                                           \n",
      "0.004077906559886597                                                            \n",
      "HOLDOUT SCORE                                                                   \n",
      "0.9766260535981016                                                              \n",
      "SCORE:                                                                          \n",
      "0.9826018999999999                                                              \n",
      "ERROR                                                                           \n",
      "0.0026071277197059197                                                           \n",
      "HOLDOUT SCORE                                                                   \n",
      "0.9875696644829277                                                              \n",
      "SCORE:                                                                          \n",
      "0.9829982599999999                                                              \n",
      "ERROR                                                                           \n",
      "0.0024920793009749775                                                           \n",
      "HOLDOUT SCORE                                                                   \n",
      "0.9889879757107076                                                              \n",
      "SCORE:                                                                          \n",
      "0.9826873399999998                                                              \n",
      "ERROR                                                                           \n",
      "0.0027082904756599137                                                           \n",
      "HOLDOUT SCORE                                                                   \n",
      "0.9890589229449691                                                              \n",
      "SCORE:                                                                          \n",
      "0.98260746                                                                      \n",
      "ERROR                                                                           \n",
      "0.002607658745695269                                                            \n",
      "HOLDOUT SCORE                                                                   \n",
      "0.987523422089168                                                               \n",
      "SCORE:                                                                          \n",
      "0.98262888                                                                      \n",
      "ERROR                                                                           \n",
      "0.002598567133316728                                                            \n",
      "HOLDOUT SCORE                                                                   \n",
      "0.9889765734766299                                                              \n",
      "100%|██████████| 50/50 [00:11<00:00,  4.28it/s, best loss: 0.010916372214529124]\n",
      "Optimization Time: %f seconds 11.053959131240845\n",
      "CPU times: user 10.6 s, sys: 653 ms, total: 11.3 s\n",
      "Wall time: 11.1 s\n"
     ]
    }
   ],
   "source": [
    "%%time\n",
    "trials = Trials()\n",
    "import time\n",
    "start = time.time()\n",
    "best = fmin(fn=objective, space = space, algo = tpe.suggest, max_evals = 50, trials = trials)\n",
    "end = time.time()\n",
    "print(\"Optimization Time: %f seconds\", (end  -start))"
   ]
  },
  {
   "cell_type": "code",
   "execution_count": 9,
   "metadata": {},
   "outputs": [
    {
     "data": {
      "text/plain": [
       "{'x_learning_rate': 0.08196749216090927,\n",
       " 'x_max_depth': 6,\n",
       " 'x_min_child': 4.0,\n",
       " 'x_pos_weight': 6.308681079638171,\n",
       " 'x_subsample': 0.8494713092558007,\n",
       " 'x_tree_colsample': 0.7718295088967161}"
      ]
     },
     "execution_count": 9,
     "metadata": {},
     "output_type": "execute_result"
    }
   ],
   "source": [
    "best"
   ]
  },
  {
   "cell_type": "code",
   "execution_count": 10,
   "metadata": {},
   "outputs": [
    {
     "name": "stdout",
     "output_type": "stream",
     "text": [
      "[0]\ttrain-auc:0.985668+0.000626339\ttest-auc:0.983222+0.00232538\n",
      "[1]\ttrain-auc:0.986046+0.000673358\ttest-auc:0.983881+0.00303409\n",
      "[2]\ttrain-auc:0.986349+0.000723491\ttest-auc:0.984466+0.00255337\n",
      "[3]\ttrain-auc:0.986384+0.000702753\ttest-auc:0.98465+0.00257843\n",
      "[4]\ttrain-auc:0.986564+0.000569396\ttest-auc:0.984878+0.00283559\n",
      "[5]\ttrain-auc:0.986641+0.000561016\ttest-auc:0.984944+0.0027539\n",
      "[6]\ttrain-auc:0.986672+0.000557968\ttest-auc:0.984907+0.00272578\n",
      "[7]\ttrain-auc:0.986698+0.000554829\ttest-auc:0.984884+0.00269239\n",
      "[8]\ttrain-auc:0.986702+0.000567135\ttest-auc:0.984844+0.00273966\n",
      "[9]\ttrain-auc:0.98675+0.000630293\ttest-auc:0.984915+0.0026478\n",
      "   train-auc-mean  train-auc-std  test-auc-mean  test-auc-std\n",
      "0        0.985668       0.000626       0.983222      0.002325\n",
      "1        0.986046       0.000673       0.983881      0.003034\n",
      "2        0.986349       0.000723       0.984466      0.002553\n",
      "3        0.986384       0.000703       0.984650      0.002578\n",
      "4        0.986564       0.000569       0.984878      0.002836\n",
      "5        0.986641       0.000561       0.984944      0.002754\n",
      "6        0.986672       0.000558       0.984907      0.002726\n",
      "7        0.986698       0.000555       0.984884      0.002692\n",
      "8        0.986702       0.000567       0.984844      0.002740\n",
      "9        0.986750       0.000630       0.984915      0.002648\n",
      "0.9546710427442019\n"
     ]
    },
    {
     "name": "stderr",
     "output_type": "stream",
     "text": [
      "/home/dtamayo/miniconda3/envs/ml/lib/python3.7/site-packages/xgboost/core.py:587: FutureWarning: Series.base is deprecated and will be removed in a future version\n",
      "  if getattr(data, 'base', None) is not None and \\\n",
      "/home/dtamayo/miniconda3/envs/ml/lib/python3.7/site-packages/xgboost/core.py:588: FutureWarning: Series.base is deprecated and will be removed in a future version\n",
      "  data.base is not None and isinstance(data, np.ndarray) \\\n"
     ]
    }
   ],
   "source": [
    "best_xgbc = XGBClassifier(n_estimators=100, scale_pos_weight=best[\"x_pos_weight\"],\n",
    "                         learning_rate = best[\"x_learning_rate\"], \n",
    "                         max_depth = int(best[\"x_max_depth\"]), \n",
    "                         min_child_weight = best[\"x_min_child\"],\n",
    "                         subsample = best[\"x_subsample\"], \n",
    "                         colsample_bytree = best[\"x_tree_colsample\"])\n",
    "params = best_xgbc.get_xgb_params()\n",
    "score = xgb.cv(params, dtrain, nfold = 5, metrics = \"auc\", verbose_eval=True)\n",
    "print(score)\n",
    "d_Train = xgb.DMatrix(trainX, trainY)\n",
    "d_Test = xgb.DMatrix(testX)\n",
    "bst = xgb.train(params, d_Train)\n",
    "preds = bst.predict(d_Test)\n",
    "score = metrics.average_precision_score(testY, preds)\n",
    "print(score)"
   ]
  },
  {
   "cell_type": "code",
   "execution_count": 11,
   "metadata": {},
   "outputs": [
    {
     "data": {
      "text/plain": [
       "XGBClassifier(base_score=0.5, booster='gbtree', colsample_bylevel=1,\n",
       "              colsample_bytree=0.7718295088967161, gamma=0,\n",
       "              learning_rate=0.08196749216090927, max_delta_step=0, max_depth=6,\n",
       "              min_child_weight=4.0, missing=None, n_estimators=100, n_jobs=1,\n",
       "              nthread=None, objective='binary:logistic', random_state=0,\n",
       "              reg_alpha=0, reg_lambda=1, scale_pos_weight=6.308681079638171,\n",
       "              seed=None, silent=True, subsample=0.8494713092558007)"
      ]
     },
     "execution_count": 11,
     "metadata": {},
     "output_type": "execute_result"
    }
   ],
   "source": [
    "model = XGBClassifier(n_estimators=100, scale_pos_weight=best[\"x_pos_weight\"],\n",
    "                         learning_rate = best[\"x_learning_rate\"], \n",
    "                         max_depth = int(best[\"x_max_depth\"]), \n",
    "                         min_child_weight = best[\"x_min_child\"],\n",
    "                         subsample = best[\"x_subsample\"], \n",
    "                         colsample_bytree = best[\"x_tree_colsample\"])\n",
    "\n",
    "model.fit(trainX, trainY)"
   ]
  },
  {
   "cell_type": "code",
   "execution_count": 22,
   "metadata": {},
   "outputs": [
    {
     "data": {
      "text/plain": [
       "Text(0.5, 1.0, 'ROC curve (AUC = 0.988)')"
      ]
     },
     "execution_count": 22,
     "metadata": {},
     "output_type": "execute_result"
    },
    {
     "data": {
      "image/png": "[encoded data removed]",
      "text/plain": [
       "<Figure size 432x288 with 1 Axes>"
      ]
     },
     "metadata": {
      "needs_background": "light"
     },
     "output_type": "display_data"
    }
   ],
   "source": [
    "roc_auc, fpr, tpr, rocthresholds = ROC_curve(trainingdatafolder, model, features)\n",
    "\n",
    "fig, ax = plt.subplots()\n",
    "ax.plot(fpr, tpr)\n",
    "ax.plot([0, 1], [0, 1], 'k--')\n",
    "ax.set_xlim([0.0, 1.0])\n",
    "ax.set_ylim([0.0, 1.0])\n",
    "ax.set_xlabel('False Positive Rate')\n",
    "ax.set_ylabel('True Positive Rate')\n",
    "ax.set_title('ROC curve (AUC = {0:.3f})'.format(roc_auc))"
   ]
  },
  {
   "cell_type": "code",
   "execution_count": 23,
   "metadata": {},
   "outputs": [
    {
     "name": "stdout",
     "output_type": "stream",
     "text": [
      "Threshold 1.9913461208343506, FPR = 0.0, TPR = 0.0\n",
      "Threshold 0.7078307271003723, FPR = 0.027416038382453736, TPR = 0.9630314232902033\n",
      "Threshold 0.49577757716178894, FPR = 0.045236463331048665, TPR = 0.977818853974122\n",
      "Threshold 0.2894887924194336, FPR = 0.067854694996573, TPR = 0.9870609981515711\n",
      "Threshold 0.13335753977298737, FPR = 0.10006854009595613, TPR = 0.9944547134935305\n",
      "Threshold 0.05439990386366844, FPR = 0.17272104180945852, TPR = 0.9963031423290203\n",
      "Threshold 0.029915643855929375, FPR = 0.24057573680603153, TPR = 0.9963031423290203\n",
      "Threshold 0.02113678678870201, FPR = 0.35023989033584646, TPR = 0.9963031423290203\n",
      "Threshold 0.00901866890490055, FPR = 0.4167237834132968, TPR = 0.9963031423290203\n",
      "Threshold 0.0060461582615971565, FPR = 0.5990404386566142, TPR = 0.9981515711645101\n",
      "Threshold 0.0035482696257531643, FPR = 0.8567511994516792, TPR = 0.9981515711645101\n"
     ]
    }
   ],
   "source": [
    "for i in range(0,len(fpr), 15):\n",
    "    print(\"Threshold {0}, FPR = {1}, TPR = {2}\".format(rocthresholds[i], fpr[i], tpr[i]))"
   ]
  },
  {
   "cell_type": "code",
   "execution_count": 13,
   "metadata": {},
   "outputs": [
    {
     "name": "stdout",
     "output_type": "stream",
     "text": [
      "Threshold 0.003159142564982176, recall = 1.0, precision = 0.2771516393442623\n",
      "Threshold 0.0058912779204547405, recall = 0.9981515711645101, precision = 0.3643724696356275\n",
      "Threshold 0.008903768844902515, recall = 0.9963031423290203, precision = 0.4473029045643154\n",
      "Threshold 0.014762496575713158, recall = 0.9963031423290203, precision = 0.49815157116451014\n",
      "Threshold 0.02688189595937729, recall = 0.9963031423290203, precision = 0.5649895178197065\n",
      "Threshold 0.03629868105053902, recall = 0.9963031423290203, precision = 0.6478365384615384\n",
      "Threshold 0.064543716609478, recall = 0.9944547134935305, precision = 0.7339699863574352\n",
      "Threshold 0.15009774267673492, recall = 0.988909426987061, precision = 0.8057228915662651\n",
      "Threshold 0.3239760100841522, recall = 0.9852125693160814, precision = 0.8528\n",
      "Threshold 0.4632239043712616, recall = 0.9796672828096118, precision = 0.8774834437086093\n",
      "Threshold 0.5960071682929993, recall = 0.9741219963031423, precision = 0.9101899827288429\n",
      "Threshold 0.7357036471366882, recall = 0.955637707948244, precision = 0.9382940108892922\n"
     ]
    }
   ],
   "source": [
    "pr_auc, precision, recall, PRthresholds = PR_curve(trainingdatafolder, model, features)\n",
    "for i in range(0,len(recall), 15):\n",
    "    print(\"Threshold {0}, recall = {1}, precision = {2}\".format(PRthresholds[i], recall[i], precision[i]))"
   ]
  },
  {
   "cell_type": "code",
   "execution_count": 14,
   "metadata": {},
   "outputs": [
    {
     "data": {
      "image/png": "[encoded data removed]",
      "text/plain": [
       "<Figure size 432x288 with 1 Axes>"
      ]
     },
     "metadata": {
      "needs_background": "light"
     },
     "output_type": "display_data"
    }
   ],
   "source": [
    "fig, ax = plt.subplots()\n",
    "ax.plot(recall, precision)\n",
    "ax.set_xlim([0.0, 1.0])\n",
    "ax.set_ylim([0.0, 1.0])\n",
    "ax.set_xlabel('Recall')\n",
    "ax.set_ylabel('Precision')\n",
    "ax.set_title(\"AUC Score (Test): {0:.4f}\".format(pr_auc))\n",
    "plt.show()"
   ]
  },
  {
   "cell_type": "code",
   "execution_count": 15,
   "metadata": {},
   "outputs": [
    {
     "data": {
      "text/plain": [
       "(0, 564.3000000000001)"
      ]
     },
     "execution_count": 15,
     "metadata": {},
     "output_type": "execute_result"
    },
    {
     "data": {
      "image/png": "[encoded data removed]",
      "text/plain": [
       "<Figure size 432x288 with 2 Axes>"
      ]
     },
     "metadata": {
      "needs_background": "light"
     },
     "output_type": "display_data"
    }
   ],
   "source": [
    "# Histogram:\n",
    "bins = 50\n",
    "Stable, Unstable = stable_unstable_hist(trainingdatafolder, model, features)\n",
    "\n",
    "fig, ax1 = plt.subplots()\n",
    "n, bins, pathces = ax1.hist(Unstable, bins, alpha=0.5, label='No', color='blue', edgecolor = \"black\")\n",
    "#print(n)\n",
    "ax1.set_xlabel('Predicted Probability', fontsize=14)\n",
    "ax1.set_ylabel('Unstable',  fontsize=14, color='blue')\n",
    "for tl in ax1.get_yticklabels():\n",
    "    tl.set_color('blue')\n",
    "    \n",
    "\n",
    "\n",
    "ax2 = ax1.twinx()\n",
    "n, bins , patches = ax2.hist(Stable, bins, alpha=0.5, label='Yes',color='green', edgecolor = \"black\")\n",
    "#print(n.astype(int))\n",
    "ax2.set_ylabel('Stable', fontsize=14, color='green')\n",
    "for tl in ax2.get_yticklabels():\n",
    "    tl.set_color('green')\n",
    "    \n",
    "    \n",
    "#ax1.set_ylim(ax2.get_ylim())\n",
    "ax1.set_ylim([0,1.1*n[-1]]) # goes up to ~4300\n",
    "ax2.set_ylim([0,1.1*n[-1]]) # goes up to ~2100"
   ]
  },
  {
   "cell_type": "code",
   "execution_count": 16,
   "metadata": {},
   "outputs": [
    {
     "data": {
      "text/plain": [
       "Text(0, 0.5, 'Fraction actually stable')"
      ]
     },
     "execution_count": 16,
     "metadata": {},
     "output_type": "execute_result"
    },
    {
     "data": {
      "image/png": "[encoded data removed]",
      "text/plain": [
       "<Figure size 576x432 with 1 Axes>"
      ]
     },
     "metadata": {
      "needs_background": "light"
     },
     "output_type": "display_data"
    }
   ],
   "source": [
    "bincenters, fracstable, errorbars = calibration_plot(trainingdatafolder, model, features, bins=10)\n",
    "fig, ax = plt.subplots(figsize=(8,6))\n",
    "ax.plot(np.linspace(0,1,100), np.linspace(0,1,100), '--')\n",
    "ax.errorbar(bincenters, fracstable, errorbars)\n",
    "ax.set_xlim([0,1])\n",
    "ax.set_ylim([0,1])\n",
    "ax.set_xlabel('Predicted Probability of Stability')\n",
    "ax.set_ylabel('Fraction actually stable')"
   ]
  },
  {
   "cell_type": "code",
   "execution_count": 17,
   "metadata": {},
   "outputs": [
    {
     "name": "stderr",
     "output_type": "stream",
     "text": [
      "../modelfitting.py:99: RuntimeWarning: divide by zero encountered in true_divide\n",
      "  errorbars.append(np.sqrt(1./Nerrors + 1./hist[i])*errorfracs[-1]) # see calibration plot comment\n",
      "../modelfitting.py:99: RuntimeWarning: invalid value encountered in double_scalars\n",
      "  errorbars.append(np.sqrt(1./Nerrors + 1./hist[i])*errorfracs[-1]) # see calibration plot comment\n"
     ]
    },
    {
     "data": {
      "text/plain": [
       "Text(0.5, 1.0, 'Fraction of unstable systems mislabeled as stable')"
      ]
     },
     "execution_count": 17,
     "metadata": {},
     "output_type": "execute_result"
    },
    {
     "data": {
      "image/png": "[encoded data removed]",
      "text/plain": [
       "<Figure size 576x432 with 1 Axes>"
      ]
     },
     "metadata": {
      "needs_background": "light"
     },
     "output_type": "display_data"
    }
   ],
   "source": [
    "bincenters, errorfracs, errorbars = unstable_error_fraction(trainingdatafolder, model, features, bins=10)\n",
    "fig, ax = plt.subplots(figsize=(8,6))\n",
    "ax.errorbar(bincenters, errorfracs, errorbars)\n",
    "ax.set_ylim([0,1])\n",
    "ax.set_xlabel('Log Instability Time')\n",
    "ax.set_ylabel('Error Fraction')\n",
    "ax.set_title('Fraction of unstable systems mislabeled as stable')"
   ]
  },
  {
   "cell_type": "code",
   "execution_count": 18,
   "metadata": {},
   "outputs": [
    {
     "data": {
      "image/png": "[encoded data removed]",
      "text/plain": [
       "<Figure size 864x576 with 1 Axes>"
      ]
     },
     "metadata": {
      "needs_background": "light"
     },
     "output_type": "display_data"
    }
   ],
   "source": [
    "# feature importances\n",
    "feat_imp = pd.Series(model.get_booster().get_fscore()).sort_values(ascending=False)\n",
    "feat_imp.plot(kind='bar', title='Feature Importances', figsize=(12,8))\n",
    "plt.ylabel('Feature Importance Score')\n",
    "plt.show()"
   ]
  },
  {
   "cell_type": "code",
   "execution_count": 19,
   "metadata": {},
   "outputs": [],
   "source": [
    "dill.dump([model, features, featurefolder], open(datapath+\"../models/shadowtimesxgb_resonant.pkl\", \"wb\"))"
   ]
  },
  {
   "cell_type": "code",
   "execution_count": null,
   "metadata": {},
   "outputs": [],
   "source": []
  }
 ],
 "metadata": {
  "anaconda-cloud": {},
  "kernelspec": {
   "display_name": "Python 3",
   "language": "python",
   "name": "python3"
  },
  "language_info": {
   "codemirror_mode": {
    "name": "ipython",
    "version": 3
   },
   "file_extension": ".py",
   "mimetype": "text/x-python",
   "name": "python",
   "nbconvert_exporter": "python",
   "pygments_lexer": "ipython3",
   "version": "3.7.3"
  }
 },
 "nbformat": 4,
 "nbformat_minor": 2
}
