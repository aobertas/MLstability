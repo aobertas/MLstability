{
 "cells": [
  {
   "cell_type": "code",
   "execution_count": 20,
   "metadata": {},
   "outputs": [],
   "source": [
    "import numpy as np\n",
    "import sklearn\n",
    "import matplotlib.pyplot as plt\n",
    "%matplotlib inline\n",
    "import pandas as pd\n",
    "from sklearn import metrics\n",
    "from sklearn.model_selection import cross_val_score\n",
    "from matplotlib import rc\n",
    "from matplotlib import cm\n",
    "from mpl_toolkits.mplot3d import axes3d\n",
    "from matplotlib.ticker import MaxNLocator\n",
    "import scipy.signal\n",
    "import xgboost as xgb\n",
    "from xgboost.sklearn import XGBClassifier\n",
    "from hyperopt import hp, fmin, tpe, STATUS_OK, Trials\n",
    "import dill\n",
    "import sys\n",
    "sys.path.append('../')\n",
    "from modelfitting import train_test_split, ROC_curve, PR_curve, stable_unstable_hist, calibration_plot, unstable_error_fraction"
   ]
  },
  {
   "cell_type": "code",
   "execution_count": 21,
   "metadata": {},
   "outputs": [],
   "source": [
    "datapath = '/mnt/ssd/workspace/stability/MLstability/training_data/'\n",
    "dset = 'resonant/'\n",
    "featurefolder = 'shadowtimes/'\n",
    "features = None"
   ]
  },
  {
   "cell_type": "code",
   "execution_count": 22,
   "metadata": {
    "scrolled": true
   },
   "outputs": [],
   "source": [
    "trainingdatafolder = datapath+dset+featurefolder\n",
    "trainX, trainY, testX, testY = train_test_split(trainingdatafolder, features)"
   ]
  },
  {
   "cell_type": "code",
   "execution_count": 27,
   "metadata": {},
   "outputs": [
    {
     "data": {
      "text/plain": [
       "0    False\n",
       "1     True\n",
       "2     True\n",
       "3    False\n",
       "4    False\n",
       "Name: Stable, dtype: bool"
      ]
     },
     "execution_count": 27,
     "metadata": {},
     "output_type": "execute_result"
    }
   ],
   "source": [
    "trainY.head()"
   ]
  },
  {
   "cell_type": "code",
   "execution_count": 28,
   "metadata": {},
   "outputs": [],
   "source": [
    "shadowstable = trainX['shadow_instability_time'] > 8.99e8"
   ]
  },
  {
   "cell_type": "code",
   "execution_count": 31,
   "metadata": {},
   "outputs": [
    {
     "data": {
      "text/plain": [
       "0.029128641080135017"
      ]
     },
     "execution_count": 31,
     "metadata": {},
     "output_type": "execute_result"
    }
   ],
   "source": [
    "(trainY != shadowstable).sum()/trainY.shape[0]"
   ]
  },
  {
   "cell_type": "code",
   "execution_count": 6,
   "metadata": {},
   "outputs": [
    {
     "name": "stderr",
     "output_type": "stream",
     "text": [
      "/home/dtamayo/miniconda3/envs/p3/lib/python3.7/site-packages/xgboost/core.py:587: FutureWarning: Series.base is deprecated and will be removed in a future version\n",
      "  if getattr(data, 'base', None) is not None and \\\n",
      "/home/dtamayo/miniconda3/envs/p3/lib/python3.7/site-packages/xgboost/core.py:588: FutureWarning: Series.base is deprecated and will be removed in a future version\n",
      "  data.base is not None and isinstance(data, np.ndarray) \\\n"
     ]
    }
   ],
   "source": [
    "space ={\n",
    "        'max_depth': hp.randint('x_max_depth',  20),\n",
    "        'min_child_weight': hp.quniform ('x_min_child', 1, 10, 1),\n",
    "        'subsample': hp.uniform ('x_subsample', 0.8, 1),\n",
    "        'scale_pos_weight': hp.uniform(\"x_pos_weight\", 1, 15),\n",
    "        \"learning_rate\":hp.uniform(\"x_learning_rate\",0.01,0.2),\n",
    "        'colsample_bytree': hp.uniform ('x_tree_colsample', 0.5,1),\n",
    "}\n",
    "\n",
    "dtrain = xgb.DMatrix(trainX, trainY)\n",
    "dtest = xgb.DMatrix(testX, testY)\n",
    "def objective(space):\n",
    "\n",
    "    clf = XGBClassifier(n_estimators = 100, \n",
    "                            max_depth = space['max_depth'], \n",
    "                            min_child_weight =space['min_child_weight'],\n",
    "                            subsample = space['subsample'],\n",
    "                            colsample_bytree =space['colsample_bytree'],\n",
    "                            learning_rate = space['learning_rate'], seed = 0)\n",
    "    \n",
    "    params = clf.get_xgb_params()\n",
    "    #dtest\n",
    "    score = xgb.cv(params, dtrain, nfold = 5, metrics = \"auc\", early_stopping_rounds=10)\n",
    "    #print score\n",
    "    #score = cross_val_score(clf, trainX, trainY, cv = 5, scoring=\"average_precision\")\n",
    "    avg_score =  np.mean(score[\"test-auc-mean\"])\n",
    "    error = np.mean(score[\"test-auc-std\"])\n",
    "    \n",
    "    bst = xgb.train(params, dtrain)\n",
    "    preds = bst.predict(dtest)\n",
    "    test_score = metrics.roc_auc_score(testY, preds)\n",
    "    \n",
    "    print(\"SCORE:\", avg_score, \"ERROR\", error, \"HOLDOUT SCORE\", test_score)\n",
    "\n",
    "    return{'loss':1-test_score, 'status': STATUS_OK, \"cv_score\":avg_score , \"cv_error\":error, \"holdout\":test_score }"
   ]
  },
  {
   "cell_type": "code",
   "execution_count": 7,
   "metadata": {
    "scrolled": true
   },
   "outputs": [
    {
     "name": "stdout",
     "output_type": "stream",
     "text": [
      "SCORE:                                              \n",
      "0.98299822                                          \n",
      "ERROR                                               \n",
      "0.002509070477674029                                \n",
      "HOLDOUT SCORE                                       \n",
      "0.9889651712425522                                  \n",
      "SCORE:                                                                         \n",
      "0.9826174200000001                                                             \n",
      "ERROR                                                                          \n",
      "0.0026067877021632184                                                          \n",
      "HOLDOUT SCORE                                                                  \n",
      "0.9875576287914012                                                             \n",
      "SCORE:                                                                         \n",
      "0.9826445600000001                                                             \n",
      "ERROR                                                                          \n",
      "0.00261588040834852                                                            \n",
      "HOLDOUT SCORE                                                                  \n",
      "0.9876121061319948                                                             \n",
      "SCORE:                                                                         \n",
      "0.9825543199999999                                                             \n",
      "ERROR                                                                          \n",
      "0.002582654236007263                                                           \n",
      "HOLDOUT SCORE                                                                  \n",
      "0.9874499410251115                                                             \n",
      "SCORE:                                                                         \n",
      "0.98311414                                                                     \n",
      "ERROR                                                                          \n",
      "0.0024444371035976164                                                          \n",
      "HOLDOUT SCORE                                                                  \n",
      "0.9889220961360363                                                             \n",
      "SCORE:                                                                         \n",
      "0.97898116                                                                     \n",
      "ERROR                                                                          \n",
      "0.004101621966661709                                                           \n",
      "HOLDOUT SCORE                                                                  \n",
      "0.9841147875573755                                                             \n",
      "SCORE:                                                                         \n",
      "0.98261714                                                                     \n",
      "ERROR                                                                          \n",
      "0.0025905141246260143                                                          \n",
      "HOLDOUT SCORE                                                                  \n",
      "0.9875411588977333                                                             \n",
      "SCORE:                                                                         \n",
      "0.98260352                                                                     \n",
      "ERROR                                                                          \n",
      "0.0025893276133726944                                                          \n",
      "HOLDOUT SCORE                                                                  \n",
      "0.9875468600147722                                                             \n",
      "SCORE:                                                                         \n",
      "0.9826209799999999                                                             \n",
      "ERROR                                                                          \n",
      "0.0026146987524331027                                                          \n",
      "HOLDOUT SCORE                                                                  \n",
      "0.9875538280467087                                                             \n",
      "SCORE:                                                                         \n",
      "0.9831241399999999                                                             \n",
      "ERROR                                                                          \n",
      "0.002497382549697906                                                           \n",
      "HOLDOUT SCORE                                                                  \n",
      "0.9889886091681565                                                             \n",
      "SCORE:                                                                          \n",
      "0.9830296000000001                                                              \n",
      "ERROR                                                                           \n",
      "0.002584343383653927                                                            \n",
      "HOLDOUT SCORE                                                                   \n",
      "0.9889487013488844                                                              \n",
      "SCORE:                                                                          \n",
      "0.9829928599999999                                                              \n",
      "ERROR                                                                           \n",
      "0.0024997706414138627                                                           \n",
      "HOLDOUT SCORE                                                                   \n",
      "0.9889455340616405                                                              \n",
      "SCORE:                                                                          \n",
      "0.9831288399999998                                                              \n",
      "ERROR                                                                           \n",
      "0.0026609083361993275                                                           \n",
      "HOLDOUT SCORE                                                                   \n",
      "0.988979107306425                                                               \n",
      "SCORE:                                                                          \n",
      "0.98295128                                                                      \n",
      "ERROR                                                                           \n",
      "0.0025181521344785933                                                           \n",
      "HOLDOUT SCORE                                                                   \n",
      "0.9889544024659233                                                              \n",
      "SCORE:                                                                          \n",
      "0.98258314                                                                      \n",
      "ERROR                                                                           \n",
      "0.002584291124781585                                                            \n",
      "HOLDOUT SCORE                                                                   \n",
      "0.9890747593811882                                                              \n",
      "SCORE:                                                                          \n",
      "0.9830280800000001                                                              \n",
      "ERROR                                                                           \n",
      "0.0025287941116489115                                                           \n",
      "HOLDOUT SCORE                                                                   \n",
      "0.9888992916678808                                                              \n",
      "SCORE:                                                                          \n",
      "0.9826656400000001                                                              \n",
      "ERROR                                                                           \n",
      "0.002457131305149288                                                            \n",
      "HOLDOUT SCORE                                                                   \n",
      "0.9890639906045592                                                              \n",
      "SCORE:                                                                          \n",
      "0.9834301400000001                                                              \n",
      "ERROR                                                                           \n",
      "0.0025980778660102946                                                           \n",
      "HOLDOUT SCORE                                                                   \n",
      "0.988754229912114                                                               \n",
      "SCORE:                                                                          \n",
      "0.9831042999999999                                                              \n",
      "ERROR                                                                           \n",
      "0.002655291295136268                                                            \n",
      "HOLDOUT SCORE                                                                   \n",
      "0.9889309645403189                                                              \n",
      "SCORE:                                                                          \n",
      "0.9828557                                                                       \n",
      "ERROR                                                                           \n",
      "0.002611905364377361                                                            \n",
      "HOLDOUT SCORE                                                                   \n",
      "0.9889423667743967                                                              \n",
      "SCORE:                                                                          \n",
      "0.9826748200000001                                                              \n",
      "ERROR                                                                           \n",
      "0.0025736912619338565                                                           \n",
      "HOLDOUT SCORE                                                                   \n",
      "0.9874980837912175                                                              \n",
      "SCORE:                                                                          \n",
      "0.9834204599999999                                                              \n",
      "ERROR                                                                           \n",
      "0.0026725357546707085                                                           \n",
      "HOLDOUT SCORE                                                                   \n",
      "0.9888226433165804                                                              \n",
      "SCORE:                                                                          \n",
      "0.98328458                                                                      \n",
      "ERROR                                                                           \n",
      "0.002604476808732965                                                            \n",
      "HOLDOUT SCORE                                                                   \n",
      "0.9889449006041918                                                              \n",
      "SCORE:                                                                          \n",
      "0.5                                                                             \n",
      "ERROR                                                                           \n",
      "0.0                                                                             \n",
      "HOLDOUT SCORE                                                                   \n",
      "0.5                                                                             \n",
      "SCORE:                                                                          \n",
      "0.9826236400000001                                                              \n",
      "ERROR                                                                           \n",
      "0.0026022793637441796                                                           \n",
      "HOLDOUT SCORE                                                                   \n",
      "0.9875025179933588                                                              \n",
      "SCORE:                                                                          \n",
      "0.96843282                                                                      \n",
      "ERROR                                                                           \n",
      "0.0037989110684788796                                                           \n",
      "HOLDOUT SCORE                                                                   \n",
      "0.978381997646072                                                               \n",
      "SCORE:                                                                          \n",
      "0.98261126                                                                      \n",
      "ERROR                                                                           \n",
      "0.0025909950150472764                                                           \n",
      "HOLDOUT SCORE                                                                   \n",
      "0.987534190865797                                                               \n",
      "SCORE:                                                                          \n",
      "0.9826433399999999                                                              \n",
      "ERROR                                                                           \n",
      "0.002555617644007056                                                            \n",
      "HOLDOUT SCORE                                                                   \n",
      "0.9890234493278384                                                              \n",
      "SCORE:                                                                          \n",
      "0.9826723800000001                                                              \n",
      "ERROR                                                                           \n",
      "0.0025361437330470348                                                           \n",
      "HOLDOUT SCORE                                                                   \n",
      "0.9889721392744886                                                              \n",
      "SCORE:                                                                          \n",
      "0.9827137199999999                                                              \n",
      "ERROR                                                                           \n",
      "0.002549138922206493                                                            \n",
      "HOLDOUT SCORE                                                                   \n",
      "0.9890209154980433                                                              \n",
      "SCORE:                                                                          \n",
      "0.9826153200000001                                                              \n",
      "ERROR                                                                           \n",
      "0.002608037147306206                                                            \n",
      "HOLDOUT SCORE                                                                   \n",
      "0.9875069521955001                                                              \n",
      "SCORE:                                                                          \n",
      "0.98334064                                                                      \n",
      "ERROR                                                                           \n",
      "0.002619352957745774                                                            \n",
      "HOLDOUT SCORE                                                                   \n",
      "0.988965804700001                                                               \n",
      "SCORE:                                                                          \n",
      "0.98260532                                                                      \n",
      "ERROR                                                                           \n",
      "0.0025948625869215477                                                           \n",
      "HOLDOUT SCORE                                                                   \n",
      "0.9875310235785532                                                              \n",
      "SCORE:                                                                          \n",
      "0.9828019399999999                                                              \n",
      "ERROR                                                                           \n",
      "0.0026449660462473296                                                           \n",
      "HOLDOUT SCORE                                                                   \n",
      "0.9890766597535344                                                              \n"
     ]
    },
    {
     "name": "stdout",
     "output_type": "stream",
     "text": [
      "SCORE:                                                                          \n",
      "0.9826694400000001                                                              \n",
      "ERROR                                                                           \n",
      "0.002598995017552873                                                            \n",
      "HOLDOUT SCORE                                                                   \n",
      "0.9891007311365875                                                              \n",
      "SCORE:                                                                          \n",
      "0.98274298                                                                      \n",
      "ERROR                                                                           \n",
      "0.00248696973161242                                                             \n",
      "HOLDOUT SCORE                                                                   \n",
      "0.9890601898598665                                                              \n",
      "SCORE:                                                                          \n",
      "0.9830605                                                                       \n",
      "ERROR                                                                           \n",
      "0.0024133667367755695                                                           \n",
      "HOLDOUT SCORE                                                                   \n",
      "0.9888441808698384                                                              \n",
      "SCORE:                                                                          \n",
      "0.9826277399999999                                                              \n",
      "ERROR                                                                           \n",
      "0.0025930140074651364                                                           \n",
      "HOLDOUT SCORE                                                                   \n",
      "0.9875101194827439                                                              \n",
      "SCORE:                                                                          \n",
      "0.9808564399999999                                                              \n",
      "ERROR                                                                           \n",
      "0.0036230998796015594                                                           \n",
      "HOLDOUT SCORE                                                                   \n",
      "0.9876133730468923                                                              \n",
      "SCORE:                                                                          \n",
      "0.98261492                                                                      \n",
      "ERROR                                                                           \n",
      "0.0025929401346241666                                                           \n",
      "HOLDOUT SCORE                                                                   \n",
      "0.9875848674616979                                                              \n",
      "SCORE:                                                                          \n",
      "0.9825907399999998                                                              \n",
      "ERROR                                                                           \n",
      "0.0026225704889586447                                                           \n",
      "HOLDOUT SCORE                                                                   \n",
      "0.9874993507061149                                                              \n",
      "SCORE:                                                                          \n",
      "0.9828830399999999                                                              \n",
      "ERROR                                                                           \n",
      "0.0025623471611309137                                                           \n",
      "HOLDOUT SCORE                                                                   \n",
      "0.9886142358159375                                                              \n",
      "SCORE:                                                                          \n",
      "0.98259606                                                                      \n",
      "ERROR                                                                           \n",
      "0.0026055300817989994                                                           \n",
      "HOLDOUT SCORE                                                                   \n",
      "0.9875170875146804                                                              \n",
      "SCORE:                                                                          \n",
      "0.98333092                                                                      \n",
      "ERROR                                                                           \n",
      "0.0025701750187297574                                                           \n",
      "HOLDOUT SCORE                                                                   \n",
      "0.9887003860289691                                                              \n",
      "SCORE:                                                                          \n",
      "0.9830002199999999                                                              \n",
      "ERROR                                                                           \n",
      "0.0024853384552379577                                                           \n",
      "HOLDOUT SCORE                                                                   \n",
      "0.988992409912849                                                               \n",
      "SCORE:                                                                          \n",
      "0.96761026                                                                      \n",
      "ERROR                                                                           \n",
      "0.0036887891991052024                                                           \n",
      "HOLDOUT SCORE                                                                   \n",
      "0.978376929986482                                                               \n",
      "SCORE:                                                                          \n",
      "0.9829197799999999                                                              \n",
      "ERROR                                                                           \n",
      "0.002580486014442038                                                            \n",
      "HOLDOUT SCORE                                                                   \n",
      "0.9887827354973084                                                              \n",
      "SCORE:                                                                          \n",
      "0.98279976                                                                      \n",
      "ERROR                                                                           \n",
      "0.0026528327082648876                                                           \n",
      "HOLDOUT SCORE                                                                   \n",
      "0.9890481541683401                                                              \n",
      "SCORE:                                                                          \n",
      "0.9827049000000001                                                              \n",
      "ERROR                                                                           \n",
      "0.0025518321846375695                                                           \n",
      "HOLDOUT SCORE                                                                   \n",
      "0.9890247162427359                                                              \n",
      "SCORE:                                                                          \n",
      "0.98284834                                                                      \n",
      "ERROR                                                                           \n",
      "0.002319601657276049                                                            \n",
      "HOLDOUT SCORE                                                                   \n",
      "0.9890608233173154                                                              \n",
      "100%|██████████| 50/50 [00:11<00:00,  4.12it/s, best loss: 0.010899268863412526]\n",
      "Optimization Time: %f seconds 11.697853565216064\n",
      "CPU times: user 11.2 s, sys: 829 ms, total: 12 s\n",
      "Wall time: 11.7 s\n"
     ]
    }
   ],
   "source": [
    "%%time\n",
    "trials = Trials()\n",
    "import time\n",
    "start = time.time()\n",
    "best = fmin(fn=objective, space = space, algo = tpe.suggest, max_evals = 50, trials = trials)\n",
    "end = time.time()\n",
    "print(\"Optimization Time: %f seconds\", (end  -start))"
   ]
  },
  {
   "cell_type": "code",
   "execution_count": 8,
   "metadata": {},
   "outputs": [
    {
     "data": {
      "text/plain": [
       "{'x_learning_rate': 0.09521935569200246,\n",
       " 'x_max_depth': 13,\n",
       " 'x_min_child': 1.0,\n",
       " 'x_pos_weight': 5.855193075447701,\n",
       " 'x_subsample': 0.9860489356122553,\n",
       " 'x_tree_colsample': 0.6952521974190764}"
      ]
     },
     "execution_count": 8,
     "metadata": {},
     "output_type": "execute_result"
    }
   ],
   "source": [
    "best"
   ]
  },
  {
   "cell_type": "code",
   "execution_count": 9,
   "metadata": {},
   "outputs": [
    {
     "name": "stdout",
     "output_type": "stream",
     "text": [
      "[0]\ttrain-auc:0.986522+0.000845665\ttest-auc:0.98307+0.00228606\n",
      "[1]\ttrain-auc:0.986794+0.000826441\ttest-auc:0.983464+0.0029306\n",
      "[2]\ttrain-auc:0.987046+0.000776667\ttest-auc:0.984141+0.00268236\n",
      "[3]\ttrain-auc:0.98711+0.000762618\ttest-auc:0.984289+0.00268119\n",
      "[4]\ttrain-auc:0.987178+0.000762871\ttest-auc:0.984329+0.00264988\n",
      "[5]\ttrain-auc:0.987239+0.000775802\ttest-auc:0.984246+0.00261636\n",
      "[6]\ttrain-auc:0.987323+0.000774171\ttest-auc:0.983871+0.00211961\n",
      "[7]\ttrain-auc:0.987527+0.000623706\ttest-auc:0.984185+0.00250583\n",
      "[8]\ttrain-auc:0.987705+0.000537867\ttest-auc:0.98357+0.00195941\n",
      "[9]\ttrain-auc:0.987677+0.000546166\ttest-auc:0.984224+0.00242325\n",
      "   train-auc-mean  train-auc-std  test-auc-mean  test-auc-std\n",
      "0        0.986522       0.000846       0.983070      0.002286\n",
      "1        0.986794       0.000826       0.983464      0.002931\n",
      "2        0.987046       0.000777       0.984141      0.002682\n",
      "3        0.987110       0.000763       0.984289      0.002681\n",
      "4        0.987178       0.000763       0.984329      0.002650\n",
      "5        0.987239       0.000776       0.984246      0.002616\n",
      "6        0.987323       0.000774       0.983871      0.002120\n",
      "7        0.987527       0.000624       0.984185      0.002506\n",
      "8        0.987705       0.000538       0.983570      0.001959\n",
      "9        0.987677       0.000546       0.984224      0.002423\n",
      "0.9540326525472181\n"
     ]
    },
    {
     "name": "stderr",
     "output_type": "stream",
     "text": [
      "/home/dtamayo/miniconda3/envs/p3/lib/python3.7/site-packages/xgboost/core.py:587: FutureWarning: Series.base is deprecated and will be removed in a future version\n",
      "  if getattr(data, 'base', None) is not None and \\\n",
      "/home/dtamayo/miniconda3/envs/p3/lib/python3.7/site-packages/xgboost/core.py:588: FutureWarning: Series.base is deprecated and will be removed in a future version\n",
      "  data.base is not None and isinstance(data, np.ndarray) \\\n"
     ]
    }
   ],
   "source": [
    "best_xgbc = XGBClassifier(n_estimators=100, scale_pos_weight=best[\"x_pos_weight\"],\n",
    "                         learning_rate = best[\"x_learning_rate\"], \n",
    "                         max_depth = int(best[\"x_max_depth\"]), \n",
    "                         min_child_weight = best[\"x_min_child\"],\n",
    "                         subsample = best[\"x_subsample\"], \n",
    "                         colsample_bytree = best[\"x_tree_colsample\"])\n",
    "params = best_xgbc.get_xgb_params()\n",
    "score = xgb.cv(params, dtrain, nfold = 5, metrics = \"auc\", verbose_eval=True)\n",
    "print(score)\n",
    "d_Train = xgb.DMatrix(trainX, trainY)\n",
    "d_Test = xgb.DMatrix(testX)\n",
    "bst = xgb.train(params, d_Train)\n",
    "preds = bst.predict(d_Test)\n",
    "score = metrics.average_precision_score(testY, preds)\n",
    "print(score)"
   ]
  },
  {
   "cell_type": "code",
   "execution_count": 10,
   "metadata": {},
   "outputs": [
    {
     "data": {
      "text/plain": [
       "XGBClassifier(base_score=0.5, booster='gbtree', colsample_bylevel=1,\n",
       "       colsample_bytree=0.6952521974190764, gamma=0,\n",
       "       learning_rate=0.09521935569200246, max_delta_step=0, max_depth=13,\n",
       "       min_child_weight=1.0, missing=None, n_estimators=100, n_jobs=1,\n",
       "       nthread=None, objective='binary:logistic', random_state=0,\n",
       "       reg_alpha=0, reg_lambda=1, scale_pos_weight=5.855193075447701,\n",
       "       seed=None, silent=True, subsample=0.9860489356122553)"
      ]
     },
     "execution_count": 10,
     "metadata": {},
     "output_type": "execute_result"
    }
   ],
   "source": [
    "model = XGBClassifier(n_estimators=100, scale_pos_weight=best[\"x_pos_weight\"],\n",
    "                         learning_rate = best[\"x_learning_rate\"], \n",
    "                         max_depth = int(best[\"x_max_depth\"]), \n",
    "                         min_child_weight = best[\"x_min_child\"],\n",
    "                         subsample = best[\"x_subsample\"], \n",
    "                         colsample_bytree = best[\"x_tree_colsample\"])\n",
    "\n",
    "model.fit(trainX, trainY)"
   ]
  },
  {
   "cell_type": "code",
   "execution_count": 11,
   "metadata": {},
   "outputs": [
    {
     "data": {
      "text/plain": [
       "Text(0.5, 1.0, 'ROC curve (AUC = 0.988)')"
      ]
     },
     "execution_count": 11,
     "metadata": {},
     "output_type": "execute_result"
    },
    {
     "data": {
      "image/png": "[encoded data removed]",
      "text/plain": [
       "<Figure size 432x288 with 1 Axes>"
      ]
     },
     "metadata": {
      "needs_background": "light"
     },
     "output_type": "display_data"
    }
   ],
   "source": [
    "roc_auc, fpr, tpr, ROCthresholds = ROC_curve(trainingdatafolder, model, features)\n",
    "\n",
    "fig, ax = plt.subplots()\n",
    "ax.plot(fpr, tpr)\n",
    "ax.plot([0, 1], [0, 1], 'k--')\n",
    "ax.set_xlim([0.0, 1.0])\n",
    "ax.set_ylim([0.0, 1.0])\n",
    "ax.set_xlabel('False Positive Rate')\n",
    "ax.set_ylabel('True Positive Rate')\n",
    "ax.set_title('ROC curve (AUC = {0:.3f})'.format(roc_auc))"
   ]
  },
  {
   "cell_type": "code",
   "execution_count": 12,
   "metadata": {},
   "outputs": [
    {
     "name": "stdout",
     "output_type": "stream",
     "text": [
      "Threshold 0.0006096069701015949, recall = 1.0, precision = 0.2705\n",
      "Threshold 0.00089863600442186, recall = 0.9981515711645101, precision = 0.3486120077469335\n",
      "Threshold 0.0012281775707378983, recall = 0.9981515711645101, precision = 0.4047976011994003\n",
      "Threshold 0.001919612055644393, recall = 0.9963031423290203, precision = 0.4895549500454133\n",
      "Threshold 0.002740290015935898, recall = 0.9963031423290203, precision = 0.5094517958412098\n",
      "Threshold 0.003791387192904949, recall = 0.9963031423290203, precision = 0.5602910602910602\n",
      "Threshold 0.0047541395761072636, recall = 0.9963031423290203, precision = 0.6145952109464082\n",
      "Threshold 0.005252937786281109, recall = 0.9963031423290203, precision = 0.6431980906921241\n",
      "Threshold 0.007920544594526291, recall = 0.9944547134935305, precision = 0.6888604353393086\n",
      "Threshold 0.009819339960813522, recall = 0.9944547134935305, precision = 0.7231182795698925\n",
      "Threshold 0.016024379059672356, recall = 0.9944547134935305, precision = 0.7609618104667609\n",
      "Threshold 0.02386254072189331, recall = 0.988909426987061, precision = 0.7890855457227138\n",
      "Threshold 0.05074362829327583, recall = 0.9852125693160814, precision = 0.8289269051321928\n",
      "Threshold 0.1015811339020729, recall = 0.9852125693160814, precision = 0.8610662358642972\n",
      "Threshold 0.2829224765300751, recall = 0.977818853974122, precision = 0.8875838926174496\n",
      "Threshold 0.7763842344284058, recall = 0.9593345656192237, precision = 0.9137323943661971\n",
      "Threshold 0.8608922362327576, recall = 0.9500924214417745, precision = 0.9328493647912885\n"
     ]
    },
    {
     "ename": "IndexError",
     "evalue": "index 255 is out of bounds for axis 0 with size 255",
     "output_type": "error",
     "traceback": [
      "\u001b[0;31m---------------------------------------------------------------------------\u001b[0m",
      "\u001b[0;31mIndexError\u001b[0m                                Traceback (most recent call last)",
      "\u001b[0;32m<ipython-input-12-0d6a077eccb6>\u001b[0m in \u001b[0;36m<module>\u001b[0;34m\u001b[0m\n\u001b[1;32m      1\u001b[0m \u001b[0mpr_auc\u001b[0m\u001b[0;34m,\u001b[0m \u001b[0mprecision\u001b[0m\u001b[0;34m,\u001b[0m \u001b[0mrecall\u001b[0m\u001b[0;34m,\u001b[0m \u001b[0mPRthresholds\u001b[0m \u001b[0;34m=\u001b[0m \u001b[0mPR_curve\u001b[0m\u001b[0;34m(\u001b[0m\u001b[0mtrainingdatafolder\u001b[0m\u001b[0;34m,\u001b[0m \u001b[0mmodel\u001b[0m\u001b[0;34m,\u001b[0m \u001b[0mfeatures\u001b[0m\u001b[0;34m)\u001b[0m\u001b[0;34m\u001b[0m\u001b[0;34m\u001b[0m\u001b[0m\n\u001b[1;32m      2\u001b[0m \u001b[0;32mfor\u001b[0m \u001b[0mi\u001b[0m \u001b[0;32min\u001b[0m \u001b[0mrange\u001b[0m\u001b[0;34m(\u001b[0m\u001b[0;36m0\u001b[0m\u001b[0;34m,\u001b[0m\u001b[0mlen\u001b[0m\u001b[0;34m(\u001b[0m\u001b[0mrecall\u001b[0m\u001b[0;34m)\u001b[0m\u001b[0;34m,\u001b[0m \u001b[0;36m15\u001b[0m\u001b[0;34m)\u001b[0m\u001b[0;34m:\u001b[0m\u001b[0;34m\u001b[0m\u001b[0;34m\u001b[0m\u001b[0m\n\u001b[0;32m----> 3\u001b[0;31m     \u001b[0mprint\u001b[0m\u001b[0;34m(\u001b[0m\u001b[0;34m\"Threshold {0}, recall = {1}, precision = {2}\"\u001b[0m\u001b[0;34m.\u001b[0m\u001b[0mformat\u001b[0m\u001b[0;34m(\u001b[0m\u001b[0mPRthresholds\u001b[0m\u001b[0;34m[\u001b[0m\u001b[0mi\u001b[0m\u001b[0;34m]\u001b[0m\u001b[0;34m,\u001b[0m \u001b[0mrecall\u001b[0m\u001b[0;34m[\u001b[0m\u001b[0mi\u001b[0m\u001b[0;34m]\u001b[0m\u001b[0;34m,\u001b[0m \u001b[0mprecision\u001b[0m\u001b[0;34m[\u001b[0m\u001b[0mi\u001b[0m\u001b[0;34m]\u001b[0m\u001b[0;34m)\u001b[0m\u001b[0;34m)\u001b[0m\u001b[0;34m\u001b[0m\u001b[0;34m\u001b[0m\u001b[0m\n\u001b[0m",
      "\u001b[0;31mIndexError\u001b[0m: index 255 is out of bounds for axis 0 with size 255"
     ]
    }
   ],
   "source": [
    "pr_auc, precision, recall, PRthresholds = PR_curve(trainingdatafolder, model, features)\n",
    "for i in range(0,len(recall), 15):\n",
    "    print(\"Threshold {0}, recall = {1}, precision = {2}\".format(PRthresholds[i], recall[i], precision[i]))"
   ]
  },
  {
   "cell_type": "code",
   "execution_count": 13,
   "metadata": {},
   "outputs": [
    {
     "data": {
      "image/png": "[encoded data removed]",
      "text/plain": [
       "<Figure size 432x288 with 1 Axes>"
      ]
     },
     "metadata": {
      "needs_background": "light"
     },
     "output_type": "display_data"
    }
   ],
   "source": [
    "fig, ax = plt.subplots()\n",
    "ax.plot(recall, precision)\n",
    "ax.set_xlim([0.0, 1.0])\n",
    "ax.set_ylim([0.0, 1.0])\n",
    "ax.set_xlabel('Recall')\n",
    "ax.set_ylabel('Precision')\n",
    "ax.set_title(\"AUC Score (Test): {0:.4f}\".format(pr_auc))\n",
    "plt.show()"
   ]
  },
  {
   "cell_type": "code",
   "execution_count": 14,
   "metadata": {},
   "outputs": [
    {
     "data": {
      "text/plain": [
       "(0, 564.3000000000001)"
      ]
     },
     "execution_count": 14,
     "metadata": {},
     "output_type": "execute_result"
    },
    {
     "data": {
      "image/png": "[encoded data removed]",
      "text/plain": [
       "<Figure size 432x288 with 2 Axes>"
      ]
     },
     "metadata": {
      "needs_background": "light"
     },
     "output_type": "display_data"
    }
   ],
   "source": [
    "# Histogram:\n",
    "bins = 50\n",
    "Stable, Unstable = stable_unstable_hist(trainingdatafolder, model, features)\n",
    "\n",
    "fig, ax1 = plt.subplots()\n",
    "n, bins, pathces = ax1.hist(Unstable, bins, alpha=0.5, label='No', color='blue', edgecolor = \"black\")\n",
    "#print(n)\n",
    "ax1.set_xlabel('Predicted Probability', fontsize=14)\n",
    "ax1.set_ylabel('Unstable',  fontsize=14, color='blue')\n",
    "for tl in ax1.get_yticklabels():\n",
    "    tl.set_color('blue')\n",
    "    \n",
    "\n",
    "\n",
    "ax2 = ax1.twinx()\n",
    "n, bins , patches = ax2.hist(Stable, bins, alpha=0.5, label='Yes',color='green', edgecolor = \"black\")\n",
    "#print(n.astype(int))\n",
    "ax2.set_ylabel('Stable', fontsize=14, color='green')\n",
    "for tl in ax2.get_yticklabels():\n",
    "    tl.set_color('green')\n",
    "    \n",
    "    \n",
    "#ax1.set_ylim(ax2.get_ylim())\n",
    "ax1.set_ylim([0,1.1*n[-1]]) # goes up to ~4300\n",
    "ax2.set_ylim([0,1.1*n[-1]]) # goes up to ~2100"
   ]
  },
  {
   "cell_type": "code",
   "execution_count": 15,
   "metadata": {},
   "outputs": [
    {
     "name": "stderr",
     "output_type": "stream",
     "text": [
      "../modelfitting.py:79: RuntimeWarning: divide by zero encountered in true_divide\n",
      "  errorbars.append(np.sqrt(1./nstable + 1./hist[i])*fracstable[-1]) # assume poisson counting errors for each fractional error, and add in quadrature for error on ratio.\n",
      "../modelfitting.py:79: RuntimeWarning: invalid value encountered in double_scalars\n",
      "  errorbars.append(np.sqrt(1./nstable + 1./hist[i])*fracstable[-1]) # assume poisson counting errors for each fractional error, and add in quadrature for error on ratio.\n"
     ]
    },
    {
     "data": {
      "text/plain": [
       "Text(0, 0.5, 'Fraction actually stable')"
      ]
     },
     "execution_count": 15,
     "metadata": {},
     "output_type": "execute_result"
    },
    {
     "data": {
      "image/png": "[encoded data removed]",
      "text/plain": [
       "<Figure size 576x432 with 1 Axes>"
      ]
     },
     "metadata": {
      "needs_background": "light"
     },
     "output_type": "display_data"
    }
   ],
   "source": [
    "bincenters, fracstable, errorbars = calibration_plot(trainingdatafolder, model, features, bins=10)\n",
    "fig, ax = plt.subplots(figsize=(8,6))\n",
    "ax.plot(np.linspace(0,1,100), np.linspace(0,1,100), '--')\n",
    "ax.errorbar(bincenters, fracstable, errorbars)\n",
    "ax.set_xlim([0,1])\n",
    "ax.set_ylim([0,1])\n",
    "ax.set_xlabel('Predicted Probability of Stability')\n",
    "ax.set_ylabel('Fraction actually stable')"
   ]
  },
  {
   "cell_type": "code",
   "execution_count": 16,
   "metadata": {},
   "outputs": [
    {
     "name": "stderr",
     "output_type": "stream",
     "text": [
      "../modelfitting.py:107: RuntimeWarning: divide by zero encountered in true_divide\n",
      "  errorbars.append(np.sqrt(1./Nerrors + 1./hist[i])*errorfracs[-1]) # see calibration plot comment\n",
      "../modelfitting.py:107: RuntimeWarning: invalid value encountered in double_scalars\n",
      "  errorbars.append(np.sqrt(1./Nerrors + 1./hist[i])*errorfracs[-1]) # see calibration plot comment\n"
     ]
    },
    {
     "data": {
      "text/plain": [
       "Text(0.5, 1.0, 'Fraction of unstable systems mislabeled as stable')"
      ]
     },
     "execution_count": 16,
     "metadata": {},
     "output_type": "execute_result"
    },
    {
     "data": {
      "image/png": "[encoded data removed]",
      "text/plain": [
       "<Figure size 576x432 with 1 Axes>"
      ]
     },
     "metadata": {
      "needs_background": "light"
     },
     "output_type": "display_data"
    }
   ],
   "source": [
    "bincenters, errorfracs, errorbars = unstable_error_fraction(trainingdatafolder, model, features, bins=10)\n",
    "fig, ax = plt.subplots(figsize=(8,6))\n",
    "ax.errorbar(bincenters, errorfracs, errorbars)\n",
    "ax.set_ylim([0,1])\n",
    "ax.set_xlabel('Log Instability Time')\n",
    "ax.set_ylabel('Error Fraction')\n",
    "ax.set_title('Fraction of unstable systems mislabeled as stable')"
   ]
  },
  {
   "cell_type": "code",
   "execution_count": 17,
   "metadata": {},
   "outputs": [
    {
     "data": {
      "image/png": "[encoded data removed]",
      "text/plain": [
       "<Figure size 864x576 with 1 Axes>"
      ]
     },
     "metadata": {
      "needs_background": "light"
     },
     "output_type": "display_data"
    }
   ],
   "source": [
    "# feature importances\n",
    "feat_imp = pd.Series(model.get_booster().get_fscore()).sort_values(ascending=False)\n",
    "feat_imp.plot(kind='bar', title='Feature Importances', figsize=(12,8))\n",
    "plt.ylabel('Feature Importance Score')\n",
    "plt.show()"
   ]
  },
  {
   "cell_type": "code",
   "execution_count": 19,
   "metadata": {},
   "outputs": [],
   "source": [
    "dill.dump([model, features, featurefolder], open(datapath+\"../models/shadowtimesxgb_resonant.pkl\", \"wb\"))"
   ]
  },
  {
   "cell_type": "code",
   "execution_count": null,
   "metadata": {},
   "outputs": [],
   "source": []
  }
 ],
 "metadata": {
  "anaconda-cloud": {},
  "kernelspec": {
   "display_name": "Python 3",
   "language": "python",
   "name": "python3"
  },
  "language_info": {
   "codemirror_mode": {
    "name": "ipython",
    "version": 3
   },
   "file_extension": ".py",
   "mimetype": "text/x-python",
   "name": "python",
   "nbconvert_exporter": "python",
   "pygments_lexer": "ipython3",
   "version": "3.7.3"
  }
 },
 "nbformat": 4,
 "nbformat_minor": 2
}
